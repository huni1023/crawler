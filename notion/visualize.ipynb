{
 "cells": [
  {
   "cell_type": "markdown",
   "metadata": {},
   "source": [
    "# Visualize\n",
    "`@author: huni`\n",
    "\n",
    "pre\n",
    "- mecab user dict setting: 학습분석, learning analytics, ...\n",
    "\n",
    "idea\n",
    "- 기술통계\n",
    "    - 발표 빈도 그래프\n",
    "    - 텍스트량 그래프\n",
    "- Text\n",
    "    - 전체 데이터 합쳐서 word2vec / doc2vec\n",
    "    - word network\n"
   ]
  },
  {
   "cell_type": "code",
   "execution_count": 1,
   "metadata": {},
   "outputs": [
    {
     "name": "stdout",
     "output_type": "stream",
     "text": [
      "Current WD:  c:\\Users\\jhun1\\Proj\\data_preprocessing\\crawler_notion\n"
     ]
    }
   ],
   "source": [
    "import os, re, datetime, pickle\n",
    "from sys import platform\n",
    "from tqdm import tqdm\n",
    "\n",
    "from matplotlib.pyplot import cm\n",
    "import matplotlib.pyplot as plt\n",
    "import plotly\n",
    "\n",
    "BASE_DIR = os.getcwd() ; print('Current WD: ', BASE_DIR)\n",
    "if 'win32' in platform: # for window\n",
    "    from eunjeon import Mecab\n",
    "    plt.rc(\"font\",family=\"Malgun Gothic\")\n",
    "elif 'darwin' in platform: # for mac\n",
    "    from konlpy.tag import Mecab\n",
    "    plt.rc('font', family='AppleGothic') \n",
    "    font_path= '/System/Library/Fonts/Supplemental/AppleGothic.ttf'"
   ]
  },
  {
   "cell_type": "code",
   "execution_count": 2,
   "metadata": {},
   "outputs": [
    {
     "name": "stdout",
     "output_type": "stream",
     "text": [
      ">> cleaning initate with :  43\n"
     ]
    },
    {
     "name": "stderr",
     "output_type": "stream",
     "text": [
      ">> cleaning each page: 43it [00:00, 10750.78it/s]"
     ]
    },
    {
     "name": "stdout",
     "output_type": "stream",
     "text": [
      ">> cleaning finished with :  36\n",
      ">> Sample : 학습분석을 활용하기 위해서는 우리는 알고리즘, 교수자, 학생, 정책가, 연구자 간 균형을 맞출 필요가 있다. 빅데이터 시대에 이론의 중요성은 줄어들지 않는다. 빅데이터를 통해 결과를 해석하고 활용하기 위해서는 이론은 중요하다. 학습 분야도 다른분야에서 시작된 데이터 집약적(data-intensive) 방식으로 변화하고 있다. 이를 위해 우리는 이론과 분석의 관계에서 \"from clicks to constructs\"라는 원칙을 이해할 필요가 있다. 학습 분석은 이미 알고리즘을 일상적으로 사용하는 사회의 변화를 반영한다. 따라서 이론과 학습 분석의 관계를 중심으로 하는 프레임은 일반적으로 \"교육 이론\"으로 간주되는 것을 고려할 수 없을 정도로 확장되어야 하며, 사회 기술 인프라가 사회에서 어떻게 계산 지능을 제공하는지에 대한 중요한 담론에 참여해야 한다. 학습분석에서 고려해야 하는 것 사람들이 감시 당한다는 것을 인지할 때 행동이 변화할 수 있기에, 학습 분석 연구자들은 \"학습\"이라는 렌즈가 특정 결과를 과장하거나 왜곡할 수 있다는 점을 인지해야 한다. 학습분석을 통해, 교사와 학생들은 그동안 연구자들만이 확인할 수 있었던 교육과 학습 상황을 직접 확인할 수 있게 될 것이다. 학습분석이 가져올 새로운 윤리적 딜레마를 고려할 필요가 있다. 학습분석 분야는 인식론적 가정(epistemological assumptions)과 교육학적 실천(pedagogical practices)에 의해 평가 체제(assessment regimes)로 간주되어 왔다. 그러나 학습 분석은 특정 학습자들을 길러내기 위해 설계된 교육적 관점(particular educaitonal worldview)이라 볼 수 있다. 1. Theory into pratice 삼각형의 사용은 각 요소들의 긴장을 강조한다.  평가는 \"지식\"이 무엇인지 이해하는 데 있어 원동력이 될 수 있다.  우리가 평가하는 사람과 방법에 대한 교육학에 대한 가정은 때때로 긴장 상태에 있으며, 종합 평가에 대한 욕구가 교육학적으로 동기부여된 형태적 피드백을 무시한다.  지식의 본질에 대한 인식론적 견해와 평가 또는 교육학적 관행 사이의 정렬을 도출하는 것은 어려운 일이다. 세 가지 사이의 관계는 암시될 수 있지만, 수반되지는 않는다. *평가 도구의 새로운 형태로서 학습 분석은 현재 교육 실천을 지원하거나 그들과 경쟁하거나 새롭게 교육을 정의할 가능성을 가지고 있다. 2. EPA Provocations 학습 분석에 대해 이해하기 위해서는 각 요소를 분해해서 살펴볼 필요가 있다. 특히, EPA의 세 가지 요소를 명확하게 하기 위해서는 다양한 이론적 질문을 통해 이를 검증할 필요가 있다. 1) Epistemology - What Are We Measuring? 이 질문에 답하기 위해서는 측정의 개념적 이유와 실제적 이유 간의 연결관계를 고려할 필요가 있다. 즉, 학습 설계(learning design), 우리가 원하는 학생들이 배워야 할 기술과 지식(facts), 그리고 학생들이 \"Come to know\"하는 것에 대해 고려하여야 한다.  이것은 인식론의 질문으로, 구성의 본성(nature of the constructs), 왜 그들이 지식을 중요시하는지 이 지식은 더 넓게 제안된 종류일 수도 있고, 스킬과 특성일 수도 있으며, 특정한 방식의 행동일 수도 있다.  즉, 지식에 대한 다양한 관점들이 존재하고, 이것들이 모두 학습분석에서 측정의 대상이 될 수 있다. 2) Epistemology - How Are We Measuring? 이 질문은 우리의 연구와 평가 방법을 인식론적으로 떠받치는 것에 대한 것이다. 다양한 문헌에서 접근 시 주관성과 통찰을 주는 방법론의 능력에 대해 집중한다.  분석 방법은 특정 인식론을 함축하고 있다.  외적 지식의 세계에 이야기하는 접근법 3) Pedagogy - Why is this Knowledge Important to Us? 학습 맥락에서 분석 접근법 개발은 지식이 집중할 것이나 집중하지 않을 것에 대한 결정을 만드는 것을 포함한다. 단지 쉽게 측정되는 것보다 우리가 가치를 두는 것을 측정하는 것  즉, 사회에서 중요한 지식의 종류와 지식 기반 커리큘럼의 역할 등에 대한 토론과 관련이 있음 이 질문은 왜 이러한 분석이 교육자들과 학습자들에게 중요한지를 질문하는 것 4) Pedagogy - Who is the Assessment/Analytic For? 교사, 학생, 부모, 관리자 등 다양한 주체들 중 어디에 초점을 맞춰야 할지 고려해야 한다. 특정 그룹에 대한 분석 방법의 개발에서 윤리적인 문제는 먼저, 기술과 참여의 특정한 형태를 요구하는 분석은 새로운 차별을 만들 수 있다. 둘째로, 학생들의 명시적인 동의없이 학생들의 데이터를 사용하는 것에 대한 문제가 있다.  거시적, 중간, 미시적 수준 등 5) Assessment - Where Does the Assessment Happen? 다양한 평가의 맥락 속에서 우리는 평가가 만약 의미있다면, 가치를 더할 수 있는 확장된 의미있는 컴퓨터 활용 분석이 설계될 수 있는지에 대해 질문하여야 한다. 그리고 우리는 특정 응답에 대하여 평가가 편향된다는 것을 고려할 필요가 있다. 6) Assessment - When Does the Assessment, and Feedback, Occur? 형성 평가와 총괄평가로 구분해볼 수 있다. 실시간 피드백은 총괄평가가 될 수 있으며 진단은 현재 무엇이 잘못되고 있는지에 대한 통찰을 제공할 수 있다. 분석장비가 총괄 평가의 관점을 가지고 있는지, 형성 평가의 관심을 가지고 있는지가 오히려 중점이 될 것이다.  <논의할 문제>  글을 읽어보면서, 학습분석을 적용하기 위해서는 기술적인 이해를 하기 이전에 인식론에서의 지식의 정의, 교육학적 관점, 평가로서의 학습분석 등을 포괄하는 이론적 이해가 기반이 될 필요가 있다는 사실을 알게 되었습니다.  다만, 실천가로서 당면한 문제를 해결하기 위해서는 어느 하나의 관점을 선택하지 않을 수 없습니다.    이를 위해서는 자신만의 (이론과 연구 결과에 기반한) 인식론과 교육학, 그리고 학습분석에 대한 명확한 정의가 필요하다는 생각이 듭니다.  여러분들의 인식론, 교육학, 그리고 학습분석에 대한 생각을 들어보고 싶습니다. <재용, 지훈, 웅기> 재용: 행동주의와 구성주의의 차이 지훈: 영국 코로나로 인해 5G 통신망 공격  교육의 필요성 교육은 학습을 관리하는 사회적인 양식, 학습분석에서 매력적으로 느꼈다는 것은 지식을 모델링하는 관점, 뤼이드 재용: 산타토익에서 이루어지는 방식이 객관주의적인 인식론에 근거한 것인지 산타토익은 토익 시험 교육에서의 진리를 찾은 것인가, 잠정적으로 최선의 해답을 낸 것이냐? input 데이터를 output으로 만드는 과정은 매우 객관적임 하지만 input이 달라지면 모델이 달라지고, 결과에 대한 해석은 사람의 몫이다 그렇다면 산타토익은 토익을 잘 가르치는 방법을 사회적으로 구성하는 것이 아닐까? 지훈: 유효기간이 있는 한에서 객관주의적인 인식론 <주홍, 준오, 서연> 주홍: 학교가자닷컴을 관리하면서 어떤 기술을 넣을까 고민했던 경험, 어플리케이션을 개발했던 경험, 이웅기 선생님 프로젝트에서 기술자 입장에서 어떤 요소를 넣을지 고민했던 경험  교육자의 입장에서 고민할 필요가 있겠다는 생각을 했음. 교육과 기술 간의 적극적인 소통이 요구됨. 준오: 물리학은 본질적으로 상호작용과 그 사이의 법칙을 다루고 있음. 교육 현장에서는 학생, 교수자, 매체 등이 상호작용함. 이러한 작용을 기술하기 위해서는 표상을 측정해서 상호작용 사이의 법칙을 발견하고 싶은 것이 근본적인 목적이라고 생각함  한순간에 진행되는 것이 아니라 학습과정 전체에서 학습데이터 수집이 가능한 online으로 진행되어야 함. 서연: 인공지능 데이터 쪽 전문가분들과 소통하며 인공지능 등의 학습 분석 자체가 교육 현장의 다양한 요소 간 상호작용을 설명해줄 수는 있지만, 그 결과를 분석해서 활용하는 주체는 교사임.     eg) 교육자 입장에서의 추천 알고리즘의 유효성?  학습 분석 자체가 상호작용을 설명하는 도구로서는 의미있지만, 그에 대한 유효성과 신뢰성은 고민해보아야 함. <재은,은서> 은서: 20년도 이전에는 평가관점에서는 수행과정을 관찰하여 평가하는 과정주의 평가관점과 결과주의 평가관점이 대비되는 것이 교육현장의 메인이슈였는데 코로나로 인하여 공교육에 온라인학습이 행해지며 개인별 학습데이터가 체계적으로 집계되어 평가도구의 새로운 형태로서 '학습분석'이 존재감을 드러내었다고 생각한다. 학습분석을 통해 개인의 학습상태에 대한 최적화된 피드백을 제공하고, 교수자는 이전보다 보다 유의미한 수업설계를 할 수있게 되었다.  다만 현장교사에게 학습분석의 개념이 낯설고, 그에 대한 교육이 필요함 재은: 지식이라고 함은 knowledge construction, 다학문간 융합이 교육, 학습된 지식이라고 생각합니다. \"학습 분석에서 데이터를 취합하거나 데이터를 유의미하게 분석하는건 교육 전문가인 교사들이다\"\n"
     ]
    },
    {
     "name": "stderr",
     "output_type": "stream",
     "text": [
      "\n"
     ]
    },
    {
     "data": {
      "text/plain": [
       "[{'title': '1. Theory and Learning Analytics',\n",
       "  'day': 'March 2, 2021',\n",
       "  'people': '',\n",
       "  'link': 'https://dndrl.notion.site/1-Theory-and-Learning-Analytics-2f08bb791bc24e61b1167622774ebd8a',\n",
       "  'content': '학습분석을 활용하기 위해서는 우리는 알고리즘, 교수자, 학생, 정책가, 연구자 간 균형을 맞출 필요가 있다. 빅데이터 시대에 이론의 중요성은 줄어들지 않는다. 빅데이터를 통해 결과를 해석하고 활용하기 위해서는 이론은 중요하다. 학습 분야도 다른분야에서 시작된 데이터 집약적(data-intensive) 방식으로 변화하고 있다. 이를 위해 우리는 이론과 분석의 관계에서 \"from clicks to constructs\"라는 원칙을 이해할 필요가 있다. 학습 분석은 이미 알고리즘을 일상적으로 사용하는 사회의 변화를 반영한다. 따라서 이론과 학습 분석의 관계를 중심으로 하는 프레임은 일반적으로 \"교육 이론\"으로 간주되는 것을 고려할 수 없을 정도로 확장되어야 하며, 사회 기술 인프라가 사회에서 어떻게 계산 지능을 제공하는지에 대한 중요한 담론에 참여해야 한다. 학습분석에서 고려해야 하는 것 사람들이 감시 당한다는 것을 인지할 때 행동이 변화할 수 있기에, 학습 분석 연구자들은 \"학습\"이라는 렌즈가 특정 결과를 과장하거나 왜곡할 수 있다는 점을 인지해야 한다. 학습분석을 통해, 교사와 학생들은 그동안 연구자들만이 확인할 수 있었던 교육과 학습 상황을 직접 확인할 수 있게 될 것이다. 학습분석이 가져올 새로운 윤리적 딜레마를 고려할 필요가 있다. 학습분석 분야는 인식론적 가정(epistemological assumptions)과 교육학적 실천(pedagogical practices)에 의해 평가 체제(assessment regimes)로 간주되어 왔다. 그러나 학습 분석은 특정 학습자들을 길러내기 위해 설계된 교육적 관점(particular educaitonal worldview)이라 볼 수 있다. 1. Theory into pratice 삼각형의 사용은 각 요소들의 긴장을 강조한다.  평가는 \"지식\"이 무엇인지 이해하는 데 있어 원동력이 될 수 있다.  우리가 평가하는 사람과 방법에 대한 교육학에 대한 가정은 때때로 긴장 상태에 있으며, 종합 평가에 대한 욕구가 교육학적으로 동기부여된 형태적 피드백을 무시한다.  지식의 본질에 대한 인식론적 견해와 평가 또는 교육학적 관행 사이의 정렬을 도출하는 것은 어려운 일이다. 세 가지 사이의 관계는 암시될 수 있지만, 수반되지는 않는다. *평가 도구의 새로운 형태로서 학습 분석은 현재 교육 실천을 지원하거나 그들과 경쟁하거나 새롭게 교육을 정의할 가능성을 가지고 있다. 2. EPA Provocations 학습 분석에 대해 이해하기 위해서는 각 요소를 분해해서 살펴볼 필요가 있다. 특히, EPA의 세 가지 요소를 명확하게 하기 위해서는 다양한 이론적 질문을 통해 이를 검증할 필요가 있다. 1) Epistemology - What Are We Measuring? 이 질문에 답하기 위해서는 측정의 개념적 이유와 실제적 이유 간의 연결관계를 고려할 필요가 있다. 즉, 학습 설계(learning design), 우리가 원하는 학생들이 배워야 할 기술과 지식(facts), 그리고 학생들이 \"Come to know\"하는 것에 대해 고려하여야 한다.  이것은 인식론의 질문으로, 구성의 본성(nature of the constructs), 왜 그들이 지식을 중요시하는지 이 지식은 더 넓게 제안된 종류일 수도 있고, 스킬과 특성일 수도 있으며, 특정한 방식의 행동일 수도 있다.  즉, 지식에 대한 다양한 관점들이 존재하고, 이것들이 모두 학습분석에서 측정의 대상이 될 수 있다. 2) Epistemology - How Are We Measuring? 이 질문은 우리의 연구와 평가 방법을 인식론적으로 떠받치는 것에 대한 것이다. 다양한 문헌에서 접근 시 주관성과 통찰을 주는 방법론의 능력에 대해 집중한다.  분석 방법은 특정 인식론을 함축하고 있다.  외적 지식의 세계에 이야기하는 접근법 3) Pedagogy - Why is this Knowledge Important to Us? 학습 맥락에서 분석 접근법 개발은 지식이 집중할 것이나 집중하지 않을 것에 대한 결정을 만드는 것을 포함한다. 단지 쉽게 측정되는 것보다 우리가 가치를 두는 것을 측정하는 것  즉, 사회에서 중요한 지식의 종류와 지식 기반 커리큘럼의 역할 등에 대한 토론과 관련이 있음 이 질문은 왜 이러한 분석이 교육자들과 학습자들에게 중요한지를 질문하는 것 4) Pedagogy - Who is the Assessment/Analytic For? 교사, 학생, 부모, 관리자 등 다양한 주체들 중 어디에 초점을 맞춰야 할지 고려해야 한다. 특정 그룹에 대한 분석 방법의 개발에서 윤리적인 문제는 먼저, 기술과 참여의 특정한 형태를 요구하는 분석은 새로운 차별을 만들 수 있다. 둘째로, 학생들의 명시적인 동의없이 학생들의 데이터를 사용하는 것에 대한 문제가 있다.  거시적, 중간, 미시적 수준 등 5) Assessment - Where Does the Assessment Happen? 다양한 평가의 맥락 속에서 우리는 평가가 만약 의미있다면, 가치를 더할 수 있는 확장된 의미있는 컴퓨터 활용 분석이 설계될 수 있는지에 대해 질문하여야 한다. 그리고 우리는 특정 응답에 대하여 평가가 편향된다는 것을 고려할 필요가 있다. 6) Assessment - When Does the Assessment, and Feedback, Occur? 형성 평가와 총괄평가로 구분해볼 수 있다. 실시간 피드백은 총괄평가가 될 수 있으며 진단은 현재 무엇이 잘못되고 있는지에 대한 통찰을 제공할 수 있다. 분석장비가 총괄 평가의 관점을 가지고 있는지, 형성 평가의 관심을 가지고 있는지가 오히려 중점이 될 것이다.  <논의할 문제>  글을 읽어보면서, 학습분석을 적용하기 위해서는 기술적인 이해를 하기 이전에 인식론에서의 지식의 정의, 교육학적 관점, 평가로서의 학습분석 등을 포괄하는 이론적 이해가 기반이 될 필요가 있다는 사실을 알게 되었습니다.  다만, 실천가로서 당면한 문제를 해결하기 위해서는 어느 하나의 관점을 선택하지 않을 수 없습니다.    이를 위해서는 자신만의 (이론과 연구 결과에 기반한) 인식론과 교육학, 그리고 학습분석에 대한 명확한 정의가 필요하다는 생각이 듭니다.  여러분들의 인식론, 교육학, 그리고 학습분석에 대한 생각을 들어보고 싶습니다. <재용, 지훈, 웅기> 재용: 행동주의와 구성주의의 차이 지훈: 영국 코로나로 인해 5G 통신망 공격  교육의 필요성 교육은 학습을 관리하는 사회적인 양식, 학습분석에서 매력적으로 느꼈다는 것은 지식을 모델링하는 관점, 뤼이드 재용: 산타토익에서 이루어지는 방식이 객관주의적인 인식론에 근거한 것인지 산타토익은 토익 시험 교육에서의 진리를 찾은 것인가, 잠정적으로 최선의 해답을 낸 것이냐? input 데이터를 output으로 만드는 과정은 매우 객관적임 하지만 input이 달라지면 모델이 달라지고, 결과에 대한 해석은 사람의 몫이다 그렇다면 산타토익은 토익을 잘 가르치는 방법을 사회적으로 구성하는 것이 아닐까? 지훈: 유효기간이 있는 한에서 객관주의적인 인식론 <주홍, 준오, 서연> 주홍: 학교가자닷컴을 관리하면서 어떤 기술을 넣을까 고민했던 경험, 어플리케이션을 개발했던 경험, 이웅기 선생님 프로젝트에서 기술자 입장에서 어떤 요소를 넣을지 고민했던 경험  교육자의 입장에서 고민할 필요가 있겠다는 생각을 했음. 교육과 기술 간의 적극적인 소통이 요구됨. 준오: 물리학은 본질적으로 상호작용과 그 사이의 법칙을 다루고 있음. 교육 현장에서는 학생, 교수자, 매체 등이 상호작용함. 이러한 작용을 기술하기 위해서는 표상을 측정해서 상호작용 사이의 법칙을 발견하고 싶은 것이 근본적인 목적이라고 생각함  한순간에 진행되는 것이 아니라 학습과정 전체에서 학습데이터 수집이 가능한 online으로 진행되어야 함. 서연: 인공지능 데이터 쪽 전문가분들과 소통하며 인공지능 등의 학습 분석 자체가 교육 현장의 다양한 요소 간 상호작용을 설명해줄 수는 있지만, 그 결과를 분석해서 활용하는 주체는 교사임.     eg) 교육자 입장에서의 추천 알고리즘의 유효성?  학습 분석 자체가 상호작용을 설명하는 도구로서는 의미있지만, 그에 대한 유효성과 신뢰성은 고민해보아야 함. <재은,은서> 은서: 20년도 이전에는 평가관점에서는 수행과정을 관찰하여 평가하는 과정주의 평가관점과 결과주의 평가관점이 대비되는 것이 교육현장의 메인이슈였는데 코로나로 인하여 공교육에 온라인학습이 행해지며 개인별 학습데이터가 체계적으로 집계되어 평가도구의 새로운 형태로서 \\'학습분석\\'이 존재감을 드러내었다고 생각한다. 학습분석을 통해 개인의 학습상태에 대한 최적화된 피드백을 제공하고, 교수자는 이전보다 보다 유의미한 수업설계를 할 수있게 되었다.  다만 현장교사에게 학습분석의 개념이 낯설고, 그에 대한 교육이 필요함 재은: 지식이라고 함은 knowledge construction, 다학문간 융합이 교육, 학습된 지식이라고 생각합니다. \"학습 분석에서 데이터를 취합하거나 데이터를 유의미하게 분석하는건 교육 전문가인 교사들이다\"'},\n",
       " {'title': '2. Computational Methods for the Analysis of Learning and Knowledge Building Communities',\n",
       "  'day': 'March 2, 2021',\n",
       "  'people': 'Brida Choi',\n",
       "  'link': 'https://dndrl.notion.site/2-Computational-Methods-for-the-Analysis-of-Learning-and-Knowledge-Building-Communities-4ea480c8dbcf4544a256c8dca8caf841',\n",
       "  'content': \"The 'trinity' of methodological approaches 세 가지의 방법론적 접근방식을 제시함 각 접근방식이 중첩되는 영역: 새로운 통합 또는 시너지를 창출할 수 있는 영역 Network-Analytic Methods SNA(Social Network Analysis)를 포함함 그래프 구조로 표현된 네트워크에서 행위자를 노드로 보는 것이 특징 각 노드 간의 연결 유형(affiliation, friendship, professional, behavioural interaction, or information sharing)은 네트워크의 특성을 정의함 중심성 측정(centrality measures)으로 각 행위자의 중요성을 정량화하고, 네트워크 내에서 평균값보다 수치가 높은 행위자를 중심으로 행위자 클러스트를 탐지함 (하위 네트워크 파악) 한계: 시간의존적 효과(time-dependent effects: 시간에 따른 데이터를 집계하지만, 해당 시간 내에 이루어지는 상호작용 패턴과 같은 역학을 나타내지는 않음)  이를 해결하기 위하여 SNA는 네트워크의 시계열 분석으로 확장되며 동적인 접근 방식을 취하고자 함 유의: 분석의 기본 요소로 '행위자'와 '사회적 관계'만을 독점적으로 다루지는 않음. SNA에서는 행위자(actors)뿐만 아니라 매개체(actors) 간의 초당적인(bipartite)한 관계를 통해 네트워크를 도출할 수 있음. (행위자-행위자, 행위자-매개체, 매개체-행위자-매개체, 행위자-매개체-행위자 등) Process-Oriented Interaction Analysis CSCL(Computer-Supported Collaborative Learning)에서 발생한 시스템 로그 파일에 기초해 학습자 개인 또는 상호 간의 활동을 계산하여 분석하는 기법을 추구함. 즉, 순차적인 패턴 인식 기법을 추구함 순차적인 패턴 인식 기법에 지능적인 계산 기술을 적용한 초기 사례: Mhlenbrock & Hoppe(1999) Content Analysis Using Text-Mining Methods CSCL 로그의 스크립트 말뭉치를 사용하여 자동 텍스트 분류의 유용성을 입증한 사례: Ros et al. (2008) 텍스트에서 주어진 단어의 순서를 고려하지 않는 방법도 있지만, 단어의 위치를 고려하는 방법도 있음: NTA(Network Text Analysis) NTA: 주어진 텍스트에서 개념 네트워크를 추출한다는 점에서, 콘텐츠 분석과 네트워크 표현을 연결하는 텍스트 마이닝 방식임. 이 방식을 적용할 경우, 다중 모드 네트워크를 형성할 수 있음. 즉, 개념-개념 관계는 위치-개인, 개인-도메인, 개인-개념과 같은 특정 범주 간의 유형으로 표현되며, 이러한 표현은 '중심성 측정' 또는 '네트워크 기반 클러스터링 기법'으로 하위 네트워크를 도출함 예시(Figure 2.1.)에 대한 설명 Example 1) Dynamic Resource Access Patterns in Online Courses 분석의 문제 상황 문제를 해결하기 위한 정교한 분석 방법 분석 결과 Example 2) Analyzing the Evolution of Ideas in Knowledge-building Communities 분석 대상 분석 방법 Discussions and Outlook  본 자료는 학습분석에 있어서 주로 계산적인 관점을 취했다고 밝히고 있습니다. 그렇다면 교육학적인 관점에서 본 자료의 관점을 바라보았을 때, 우리가 놓칠 수 있는 value 값들이 있을까요? <은서, 유경, 재용> 수치로 볼 수 없는 부분이 있지만 뭔지 명확하게 설명하기가 어렵다 ex) 네트워크 분석 엑셀파일에서 친하다고 생각하는 학생의 순위를 매기고 주제에 따라서 순위를 계속 매긴다 모든 학생의 결과가 모이면 학생들 사이의 관계가 드러난다 한번 해보고 안 했다. 이 시간을 들여서 분석하는 게 유의미한가? 교사가 이미 학생들을 보고 있는 상황에서는 유의미하지 않을 수 있지만 상담자료로 활용할 수 있다. 직접 관찰이 불가능한 상황에서도 유용하다. 이걸 가지고 학생들의 네트워크를 파악하는 게 정말 유효한 건가? 결측치도 임의로 평균으로 메꾸는데 그게 정당한가? 숫자로 표현되지 않는 요소가 분명히 있는데... 측정하기 어려운 요소 - 동기 같은 정의적 요소 숫자가 정말 어떤 구인을 대표하는가? 학습시간의 의미? 유치원생들에게 조끼를 입히고 다른 애들이랑 얼마나 가까이서 상호작용했는지 그림으로 그리는 연구 학생들은 말이 서툴기 때문에 텍스트로 하는 것보다 나을 수도 있다 결론) 학습분석의 결과는 그 자체로 현실을 100% 설명하지는 않지만, 인간이 사고하고 판단하는 근거로 활용할 수 있을 것이다. <주홍, 지훈> 맥락, 감정(동기), 태도 담기어려움 기록되지 않은, 기록되지 못한 행동들 - 노트 필기, 다운로드 여부 등 인용 네트워크에 워드 임베드를 추가하면 보완할 수 있을까?  <웅기 준오 해린> 웅기 : 방법론은 있지만 기술의 목적성이 불명확함. 연구를 위한것인가 혹은 활용을 위한 것인가.  준오 : 네트워크 분석에서 노드의 중심성을 많이 고려하는데, 그래프 전체의 통계적 특성도 중요하게 보면 좋을것 같다. 또한 그래프는 연결성을 단순하게 표현하는 도구이기 때문에 학습분석을 위해 고도화되어야 함. 해린 : 수행평가에 활용할 가능성이 보인다. (적극도 평가 성취기준 등) 그러나 성적 평가에 민감해진다면 부정적인 영향을 끼칠 수도. <재은, 혜원, 서연> 재은: 마이크로소프트의 사례. 메세지를 몇 번 올렸는지 등은 알 수 있음. 그 안에 있는 데이터 포인트들이 과연 다일까? 그 부분만 확인하면 학습성과로 이루어지는 것일까? 서연: 학습성과 말고 학습결손을 측정하는 데이터포인트는? 네트워크, 프로세스, 데이터마이닝을 활용했을 때도 설명할 수 없는 값들이 있지 않을까? 데이터포인트가 무엇인가요?(재용) 데이터에서 나온 지표. 해석의 대상. 단순한 지표를 결합하여 복합지표를 만들 수 있다 (ex) 팀즈 인사이트 사진\"},\n",
       " {'title': '3. Measurement and its Uses in Learning Analytics',\n",
       "  'day': 'March 9, 2021',\n",
       "  'people': 'UNGGI LEE',\n",
       "  'link': 'https://dndrl.notion.site/3-Measurement-and-its-Uses-in-Learning-Analytics-8526f30e370b4b7598eec8a0b9150f02',\n",
       "  'content': 'Terminology psychological construct Construct (psychology), also hypothetical construct or psychological construct, is a tool used to facilitate understanding of human behavior. A psychological construct is a label for a domain of behaviors. Behavioral sciences use constructs such as conscientiousness, intelligence, political power, self-esteem, and group culture. For example, if a student sees another sitting in a classroom before an examination biting her nails and fidgeting, the interpretation might be that she is experiencing anxiety.[1] In that case, anxiety is a construct that underlies the behavior that is observed. A construct is a hypothesized cause for a certain behavior. A construct derives its name from the fact that it is a mental construction, derived from scientific process: observing natural phenomena, inferring the common features of those observations, and constructing a label for the commonality or the underlying cause. A construct derives its scientific value from the shared meaning it represents for different people. If a construct is clearly articulated and the phenomena it encompasses are clearly defined, it becomes a useful conceptual tool that facilitates communication. Once defined, constructs become objects of conceptual scrutiny in their own right. Constructs summarize behavioral domains. Constructs are the building blocks of scientific theories. True Score Theory Factor analysis 요인 분석은 인자 (factor) 또는 요인이라고 불리는 잠재적으로 적은 숫자의 관찰되지 않은 변수(variable)들로, 관찰된 서로 상관인 변수 (variable)들 사이에서의 분산 (variance)을 설명하기 위한 통계학적 방법이다. 예를 들어, 6개의 관측된 변인 (variable)들의 분산 (variation)은 2개의 관측되지 않은 근본적인 변인을 반영할 수도 있다. 인자 분석은 관측되지 않은 잠재변수에 대하여 이런 연결된 분산(joint variation)을 찾는다. 관측된 변수들은 \"오차\" (error)를 추가하여, 가능한 인자들의 선형 결합으로 모형화된다. 요인 분석은 독립된 내재 변인을 찾는 것을 목적으로 한다. Abstract 심리학적 측정(psychological measurement)는 마음의 상태(states of mind)에 대해서 보장해주는 절차이다. 심리학적 측정은 \\'defining a construct\\', \\'specifiying a measurement model\\', \\'developing a reliable instrument\\', \\'analyzing and accounting for various sources of error\\', \\'framing a valid argument\\'로 구성되어 있다. 잠재 변수(latent variables) 측정은 개인과 그룹을 위해 중요한 결과를 찾기위한 노력(noisy endeavor)이다. 이번 장에서는 교육적, 심리학적 측정에 대한 내용을 다룰 것이다. WHAT IS MEASUREMENT? PHILOSOPHY AND BASIC IDEAS 심리학적 측정은 물리학적 측정과 대조되어지곤 한다. 심리학적 측정은 \\'defining a construct\\', \\'specifiying a measurement model\\', \\'developing a reliable instrument\\', \\'analyzing and accounting for various sources of error\\'(including operator error), \\'framing a valid argument\\'로 구성되어 있다. Constructs 심리학적 구성개념(psychological construct)이 존재하는지에 대한 의문이 있다. 물리적인 변수들과 다르게, 사람의 마음이나 traits는  간접적이고 잠재된채로 관찰되어지기 때문이다. 심리학적 구성개념(psychological construct)라는 용어는 잠재 변수(latent variable)로 바꿔서 말할 수 있으며, trait는 시간이 지남에 따라 정적인 상태의 구성요소라는 용어로 사용된다. 그러나 물리적 측정의 경우에도 간접적인 경우가 있는데, 조작주의(operationalism)에서는 길이, 무게, 밀도 등의 물리적 개념들과 그것들을 측정하는 것(operation used to measure them)이 유사하다고 이해한다. ex) 길이는 길이를 측정하는 절차의 결과로 이해됨 조작주의의 아이디어는 심리학적 구성개념에서 측정도구를 통해 구성개념을 측정하는 방식으로 사용되었다. ex) 리커트 척도, 수학 시험 등 조작주의는 최근 많은 이유로 받아들여지지 않고 있다. 이후 잠재 변수에 대한 인식론적(epistemological), 존재론적(ontological) 접근이 나타났다. 모델 기반 이해(Model-based reasoning)은 시스템의 간단한 표상(representation)을 받아들이는 것으로 이해된다. 물리학 이론은 매우 적고 이해하기 쉽지만, 심리학적 이론들은 매우 많고 협소하게 정의된다. 어떤 것에 따라 구성개념이 발명되기 때문에, 그 수에 있어서 인식론적 한계는 존재하지 않는다. 측정 도구가 존재한다는 맥락 안에서 구성개념에 대해 이야기할 수 있지만, 측정도구는 항상 어떤 것을 측정하기 위해 설계된다. 따라서, 우리는 학습분석과 관련된 부분적인 구성요소에 대해서 추론해볼 수 있다. ex) 지능(비네), 학업 태도(SAT) 등... 어떤 구성개념들은 다차원적이고 다양한 요인들을 포함하고 있다. 합치는 것의 가치와 구성개념과 관련하여 나누는 것은 논의할 문제이다. Measurement Instruments 심리학적 측정 도구들에는 전형적으로 시험(tests)와 질문지(questionnaires)가 있다. ex) 단어 시험은 피험자의 지능, 인지 능력, 정신능력을 측정하기 위해서 사용된다. ex) 질문지에 답변하는 피험자는 그들의 생각, 느낌, 행동에 대해 진실되게 답변하도록 요구받는다. 어떻게 피험자가 측정도구에 대해 반응하도록 기대하는지는 측정모델의 근본을 드러낸다.  높은 점수를 획득했다면, 높은 능력을 가진다는 가정 측정 단위(measurement scale)이라는 용어는 도구(instrument)로 대체될 수 있다. 단위는 시험과 질문지가 점수화된다는 의미를 내포하고 있다. 각각의 점수를 합치는 것은 도구를 점수화하는 하나의 절차이다. 이외에 Weighted sum scores와 item response theory(IRT)가 대안으로 사용될 수 있다. 시험과 질문지를 사용하는 것은 효율성과 표준화에 대한 것이다. 학습분석에서는 효율적인 데이터 수집이 문제가 아니라 표준화의 부족이 측정오류를 설명하는데 어려움을 겪을 수 있다는 점에서 문제가 될 수 있다. Source of Error in Measurements 심리학적 측정은 항상 반복되어질 수 없다. 또한 피험자의 반응은 그들의 능력, 태도, 흥미를 진실되게 반영하지 못한다. 따라서 통계 모델에서는 무선 표집(random sample)으로 잠재변수를 활용한다. True score Theory에서 잠재변수는 랜덤 변수가 될 수 있는데, 측정된 표본들은 랜덤 에러를 가질 수 있다는 것을 가정하기 때문이다. 오류에 대한 정확하고 공식적인 표현은 우리가 측정 프레임워크와 모델을 선택할 때 발생한다. 측정 오차는 모형에 의해 설명되는대로 구성개념에 속하지 않는 데이터의 분산으로도 정의할 수 있다. Reliability 신뢰성은 도구의 특성이자, 잠재변수의 점수에서 전체 분산의 비율로 특징지어지는 점수의 일관성에 대한 측정이다. 신뢰성은 표본 의존적이거나 모델 의존적이다.??? 때때로 특정 신뢰성 계수를 의미하기도 하는데, 크론박 알파(Cronbach\\'s alpha)가 대표적이다. *참고 https://m.blog.naver.com/PostView.nhn?blogId=y4769&logNo=220313366439&proxyReferer=https:%2F%2Fwww.google.com%2F 또한 신뢰성이라는 용어는 시험-재시험 신뢰성(상관)으로 사용되기도 하고, 내부 측정자(inter-rater)의 신뢰도라고 불리기도 한다. 실천가들은 알파값의 최소값이 0.7이라는 것을 비판하지 않고 사용하기도 한다. 그러나 통계적 효과성은 더 높은 알파 값에서 증가한다.  그러므로 척도의 신뢰성을 늘리려는 노력은 더 큰 표본을 수집하는 이점보다 가치가 있을 수 있다.  척도의 신뢰성이 중요하다. Validity 타당성은 증거와 이론이 시험 점수의 해석을 지원하는 정도를 의미한다. 타당성은 학습분석에서 가장 중요하다. 앞서 질문지는 진신된 생각과 감정과 일치한다는 가정을 하였지만, 많은 문헌에서 응답 편향(response bias)에 대해 보고 하고 있다. acquiescence bias(yea-saying), social desirability bias(faking good), extreme and moderate types of responders, sensitive topics etc..  응답에 대한 편향은 항상 존재할 수 있기 때문에 점수에 대한 무비판적 해석은 지양해야 한다. Measurement Models 측정 모델(measurement model)은 잠재변수와 관측변수(observable variable) 사이의 수학적 관계이다. 통계적 측정 모델은 잠재변수의 분포와 관측변수의 분포, 그리고 둘 사이이의 함수적 관계를 특정한다. 잠재변수는 대상에 대한 오류가 있다고 이해된다. 랜덤 변수의 분산과 공분산은 모델에서 명시적으로 혹은 잠재적으로 설명된다. 만약, 모델의 가정이 잘못되었다면, 모델을 활용한 추론도 잘못되었을 것이다. 범주형(categorical) 변수와 연속형(continuous) 변수가 다른 통계적 방법을 포함할지라도, 측정모델의 유형은 잠재변수와 관측변수의 유형에 따라 분류된다. SPECIFIC USES OF MEASUREMNET MODELS IN LEARNING ANALYTICS Factor Analysis(요인분석) 요인분석은 요인으로 알려진 잠재 변수 집합에 대한 선형 관계를 통해 관측 변수 간의 상관 관계를 모델링한다. 요인분석은 일반적으로 두개로 나뉘는데 탐색적 요인 분석(Exploratory factor analysis, EFA)은 강력한 이론적 가정 없이 데이터로부터 많은 잠재변수들을 결정하며, 척도 개발(scale development)의 부분으로 이해된다. 그러나 EFA는 많은 중요한 방법론적 결정들을 요구하며, 잘 만들어지지 않을 경우 문제를 초래할 수 있다. ex) EFA를 차원 축소 기법인 PCA와 혼동하여, 잘못된 결과를 도출 확인적 요인 분석(Confirmatory factor analysis, CFA)은 기대되고 관찰된 상관 사이에서 잔차(residuals)를 관찰함으로써 이론적으로 제안된 요인 모델을 시험하는 보충적 기법이다. CFA는 모델을 거부(reject)할 때 사용될 수 있다.  CFA는 경로 분석(path analysis) 및 잠재 성장 모델(latent growth models)과 함께 구조 방정식 모델링(structural equation modelling)에 의해 하위에 있다. 몇몇 학습 분석 연구는 척도 개발이나 LMS 데이터를 통합하는 것에 관심을 둔다.  도구에 적응하거나, 새로운 목적으로 도구의 일부에 적응할 때, 실천가들은 이러한 새로운 사용이 새 타당화 논거를 충족할 수 있는지 확인해야 한다. Latent Class and Latent Mixture Models 잠재 계층 모델(latent class models) Dedic, Rosenfeld, Lasry(2010)은 잠재 계층 모델을 사용하여 학생들의 물리 오개념의 분포를 이해하려 하였다. 데이터는 물리 수업의 사전 사후 검사를 통해 확보되었다. 잠재 혼합 모델(latent mixture models) LDA(latent Dirichlet allocation)은 잠재 혼합 모델이다. 혼합 멤버쉽 모델은 개인과 다층 집단의 혼잡하거나 가중치가 부여된 과제를 허용함으로써 잠재된 혼합을 발생시키려 한다. 모델 기반 군집 분석의 기초로 만들어진 가우시안 혼합 모델은 MOOC 학습자의 성과 궤적을 추적하는데 활용되었다. <참고자료> https://m.blog.naver.com/PostView.nhn?blogId=2sat&logNo=220355333219&proxyReferer=https:%2F%2Fwww.google.com%2F Item Response Theory(IRT) Growth Models Cognitive Diagnostic Models <논문으로 대체>  인지 진단 이론의 목적은 학생 개개인이 어떤 속성을 습득 또는 숙달하였는지 알려주어 교사와 학생에게 적절한 피드백을 제공하는 것(DiBello et al., 1995; Embretson, 1990; Tatsuoka, 1983, 1995) 78602532.pdf 240.0KB SOURCES OF ERROR, REVISITED 동기, 감정, 인지 등을 연구하는 측정 모형을 사용할 때는 에러를 다시 한번 점검하는 것이 필요하다. 실천가들은 잘못된 파라미터를 가진 모델을 사용할 때, 추가적인 오류가 발생할 수 있다는 사실을 알고 있어야 한다. Goodness-of-fit 시험은 모델을 얻거나 거부하기 위해 관측 데이터와 생성된 모델 사이의 일관성을 평가한다. *The goodness of fit of a statistical model describes how well it fits a set of observations. Measures of goodness of fit typically summarize the discrepancy between observed values and the values expected under the model in question. Such measures can be used in statistical hypothesis testing, e.g. to test for normality of residuals, to test whether two samples are drawn from identical distributions (see KolmogorovSmirnov test), or whether outcome frequencies follow a specified distribution (see Pearson\\'s chi-squared test). In the analysis of variance, one of the components into which the variance is partitioned may be a lack-of-fit sum of squares. EXPLANATION AND PREDICTION 예측 모델링은 교육적 데이터 마이닝에서 가장 지배적인 방법론적 접근법 중 하나이다. 반면, 사회과학에서 통계 방법으로 전통적으로 사용되어진 측정 이론은 설명적이다.  설명적 모델이 예측을 만들 수 있고, 자유로운 설명적 모델은 완벽한 예측을 만든다면, 예측 모델은 반드시 이유(설명)를 밝힐 필요가 없다. Breiman(2001)은 데이터 모델링 컬처(the data modelling culture)는 98% 통계적이지만, 알고리즘에 기반한 모델링 문화(the algorithmic modelling)는 2% 통계적이라고 설명한다.  서로 다른 관점은 연구자가 어떻게 에러와 불확실성을 다룰지 기본적으로 알려준다. 예측 모델의 관점 \"모델의 가정이 참인지 결정하는 유일한 방법은 다른 가정을 가진 대체 모델을 만들고 대체 모델이 성능이 더 뛰어난지 아닌지 비교하는 것이다.\"  모델 예측 성능은 모델의 가정이 잘못되었는지 아닌지에 따라 결정하는 방법이 아니다.  알고리즘 모델링 문화는 모델은 예측 정확도에 의해 타당화된다는 것을 반영한다. (예측 성능이 더 진실한 모델인지 아닌지를 가정함) 설명적 모델의 관점은 기반 이론의 더 정확한 표상을 얻기 위해 편견을 최소화하는 방향으로 이뤄진다. 예측 모델은 인식론적 정확성에 대한 이론적 정확성을 희생하는 경우에도, 편견과 분산의 조합을 최소화하려한다. 학습분석은 방법론적으로 설명적 접근법과 예측적 접근법의 중간에 위치하고 있다. FURTHER READING Handbook of Statistics series(Rao & Sinharay, 2006) Educational Measurement(Brennan, 2006) Educational measurement volumes and the Standards(AERA, APA, & NCME, 2014) Devellis\\'s(2003) concise volume  <논의할 문제>  1. 이번 절에서는 교육통계와 관련된 이야기가 많이 나옵니다. 교육통계와 학습분석 간의 관계에 대해서 이야기해보면 좋겠습니다.  2. 이번 절에서 나온 예시 중에서 상당수의 샘플은 학습자의 자기보고식 응답에 기반한 설문을 토대로 이루어진 연구가 많이 나옵니다. 자기보고식 응답에 기반한 설문의 신뢰성에 대해서 이야기해볼까요? 토론 내용 그룹1: 유경, 준오, 재용 교육통계 vs 학습분석 학습분석이 교육통계를 포괄하는 상위 개념이다? 기본 논리 차이 통계적 가설검정 중심의 연역적 과정 vs 가설이 반드시 필요하지 않은 탐색적 과정 data-driven or hypothesis-driven 데이터 측면 학습분석에서 다루는 데이터의 범위가 더 넓다 분석하는 데이터가 서로 겹친다? 교육데이터마이닝(탐색적) vs 학습분석(설명적) 자기보고식 응답에 기반한 설문의 신뢰성 self-report bias, social desirability 보정하는 방법? 사회적 바람직성이 너무 높은 응답은 무효로 한다 시나리오 기반 문항 vs 리커트 척도 시험 방식 (IQ와 같이)   <혜원, 혜린, 지훈> 교육통계는 수리적으로 엄밀한 측정 / 학습분석은 보다 현장에서 작동하는 것들에 대한 내용 학습분석에 엄밀한 교육통계적 근거가 필요하다고 생각한다 그룹3: 정재은, 이은서, 엄주홍, 이웅기 교육통계, 학습분석 주홍 - 교육통계: 학습분석의 도구, 설명적, 현상학적 느낌(현상을 설명), 데이터 창출  - 학습 분석: 데이터를 해석, 내재된 학습의 요인 등을 파악 설문의 신뢰성 재은: 설문의 신뢰성, 그룹 대상에 대한 조사가 필요할 것 같다. 특정 그룹 특정 대상에 대한 것 은서: 심리 측정하는 것이 더 어렵다. 수량화되지 않은 것들을 수량화해서 데이터를 다루는 것이 어렵다. 주홍: 심리 검사지, 개인의 인식, 사회의 통념이 반영됨 / 정의적인 영역을 측정하려면 질문의 유형을 고려하고 사실에 대한 질문도 사용, 개인이 자신을 평가할 때도 객관적인 근거를 가지고 '},\n",
       " {'title': '5. Predictive Modeling in Teaching and Learning\\n1',\n",
       "  'day': 'March 16, 2021',\n",
       "  'people': '\\xad송유경',\n",
       "  'link': 'https://dndrl.notion.site/5-Predictive-Modeling-in-Teaching-and-Learning-c9f876ec1a5545e388734a5d5cab1722',\n",
       "  'content': 'Predictive Analytics  : a group of techniques used to make inferences about uncertain future events   무엇을 예측하고자 하는가?  1) measurement of learning. ex) academic success, skill acquisition  2) teaching. ex) impact of a given instructional style or specific instructor on an individual  3) administrations. ex) prediction of retention or course registration  Predictive Modelling vs Explanatory Modelling 구분 Predictive Modelling Explanatory Modelling Goal 기존 데이터에 기반하여 새로운 데이터를 예측하거나 분류하기 위함 가용한 모든 evidence를 활용하여 이미 벌어진 일(outcome)에 대한 설명을 하기 위함 Example 나이, 성별, SES 등이 학생 성취도에 미치는 영향을 설명 특징 데이터에 기반하여 현재 상황에 맞추어 responsive하게 대응할 수 있음 이미 일어난 현상에 대한 사후의, 성찰적인 활동임 일반화 가능성 테스트 데이터셋으로 모델의 일반화 가능성 평가(validation) sampling technique에 의해 결정됨 (모집단을 얼마나 잘 대표하고 있는가) COUNT 4 Predictive Modelling Workflow 1) Problem Identification  예측모델링의 목적은 어떤 행동을 취하기 위함임. ex) 이 학생이 이 학위과정을 무사히 마칠 것인가?   결과에 따라 어떤 조치를 취하기 위함  따라서, 예측모델링의 목적을 정하는 것이 중요함!  problem의 중요한 특징  (1) quantifiable characteristics, clear outcome of interest, ability to intervene (2) 데이터의 깔끔성..?(data sparcity, noisy data)   \\'어떤 문제를 설정할 것인가\\'에 대한 고민은 교육학적 고민으로부터 시작할 것 같습니다. 교육 현장 내 어떤 문제를 예측모델링을 통해 해결할 수 있을까요? 2) Data Collection  데이터의 종류  (1) time-based data: 시간차를 두고 발생하는 데이터 ex) 모의고사 성적 (2) state-based data: 인구통계학적, 관계적, 심리적 특징 ex) 성별, 인종 등 (3) event-based data: activity 기반, ex) LMS나 모바일 학습도구 등에 남기는 로그데이터         이벤트 데이터 설계, xAPI  What data to collect!  필요없는걸 제거하는 건 쉽지만 필요한 걸 나중에 수집하기란 어려움   결과 변수와 그것과 관계가 있을 것으로 보이는 변수들 알아내기   feature engineering : 복잡한 (이벤트) 데이터를 예측모델링에 맞는 형태의 feature로 바꾸는 일  3) Classification and Regression    네 가지 타입의 데이터 : categorical, ordinal, interval, ratio  ordinal data: 순서는 있으나 각 데이터 간의 간격이 명확하지 않음. 1등부터 10등  nominal, ordinal  categorical (binary, P/F)  classification  interval data, ratio  numeric  regression  4) Feature Selection   관련 있는 것들만 찾아내기  ex) 중간성적이 기말성적을 잘 예측한다고 하였을 때, 중간고사 이전에 어떤 조치를 취하려면 중간 성적 말고 다른 feature 변수를 찾아내야 함  다중공선성 문제 : 여러 features 간의 상관관계 확인  feature 간의 독립성이 가정되어야 함 예) 학생의 질문 수와 출석 : 출석을 하지 않으면 질문을 못함..  결측치 확인   통계나 DS에서 Domain 지식이 중요하다고 하는 부분. 이것은 EDA를 통해서도 가능하지만 교육학적 이론에 근거할 때 더 확실한 feature selection이 가능할 것  (Exploratory)  5) Methods for Building Predictive Models 목적: 과거의 관련 데이터를 통해 미래의 혹은 unknown 데이터 예측 전제: 과거 패턴이 미래에도 적용될 것이다.  그러나? 실제로는 그렇지 않은 경우가 많음.  예) 과거에는 특정 과목의 수강여부가 특정 점수를 잘 예측해줄 수 있었음, 이는 시간이 지나면서 변화할 수 있음 예) 타이타닉 데이터  실제 선박사고에 참고할 수 있을까?   \"패턴이 유지될 것인가\"에 대한 판단과 해석에 교육학적 이론과 통찰이 필요하지 않을까요? 예측모델들 Linear Regression, Logistic Regression, Nearest Neighbors Classifiers, Decision Tree, Naive Bayes Classifier, Bayesian Networks, Support Vector Machine, Neural Networks, Ensemble Methods 여러 모델들의 정확도를 비교하는 논문? 보다는! 데이터 결측치나 데이터 편향성을 돌아보거나, 파라미터를 수정하는 데에 시간을 써라.  그리고 예측모델을 통해 발견한 사실들을 기존의 교육학적 이론과 연결지어 해석하는 데 시간을 써라 !! 6) Evaluating a Model  전체 데이터를 Training data와 Test Data로 나누기  Test 데이터의 예측값들을 실제값과 비교하기!  Training 데이터와 실제 예측해야하는 데이터의 유사성이 매우 중요함.  ex) 올해 학생들로 내년 학생들을 예측하고자 할 경우, 올해 학생들과 내년 학생들의 유사성이 중요 Predictive Analytics in Practice  다양한 사례가 축적되고 있음 심리적 구인도 예측되고 있음(discourse data, facial characteristics를 통해)  Challenges and Opportunities  1) 문턱 낮추기(컴퓨터공학자가 아니어도 예측모델링을 할 수 있도록)  2) 커뮤니티 만들기(오픈 데이터나 실행결과 공유 커뮤니티, 캐글처럼?) 3) Second order predictive modeling 에 집중하기 First order: 학생이 학습자료와 얼마냐 상호작용했느냐로 drop out을 결정하기  Second order:  intervention의 효과와 관련하여 예측하기, 어떤 intervention이 효과적인가 등  교육학은 기본적으로 사람을 성장할 수 있는 존재로 보기 때문에 특정 의사결정을 위한 예측모델보다는 학습자의 성장을 도와줄 수 있는 방향으로 사용하는 것.. Roles of theory and data as drivers of educational research. \"Have we reached the point of \\'the end of theory?\\'\"  Unlikely  모든 고민은 교육학적 고민에서 시작하여, 설명 혹은 예측을 하고, 발견점을 교육학적 이론과 연결지어야 함  함께 생각해봅시다   \\'어떤 문제를 설정할 것인가\\'에 대한 고민은 교육학적 고민으로부터 시작할 것 같습니다. 교육 현장 내 어떤 문제를 예측모델링을 통해 해결할 수 있을까요? \"패턴이 유지될 것인가\"에 대한 판단과 해석에 교육학적 이론과 통찰이 필요하지 않을까요? 교육학은 기본적으로 사람을 성장할 수 있는 존재로 보기 때문에 특정 의사결정을 위한 예측모델보다는 학습자의 성장을 도와줄 수 있는 방향으로 사용하는 것.. <혜원, 주홍, 현지> 드랍아웃 외의..  -잠재된 능력을 예측할 수 있으면 좋을 것 같음. > 교사가 알아챌 수 있는 데이터도 중요하지만 알아채지 못하는 데이터를 알게된다면 좋을 거  같음. -지식의 생명주기가 짧아지고, 더 이상 고정된 지식을 암기하는 것이 아니라 현장에서 계속적으로 학습할 수 있는 역량을 학습하는게 중요하다. AI기술을 어떻게 끝까지 끈기있게 가져갈 수 있는가의 맥락에서 자기효능감과 같은 요인을 예측할 수 있으면 좋을 것 -가장 중요한건 학습동기라서 그 부분을 예측할 수 있으면 좋을 것 같다고 생각함 -변화에 대한 적응력등을 측정할 수 잇으면 좋을 것 같음 -암묵지를 어떻게 측정할 수 있을지 궁금하다. > 데이터 수집에 관한 문제로 이어질 것 -성별, 나이, 코딩테스트 성적, 주간학습???(설문조사)..를 통해 데이터 수집 자기보고식 설문의 대안: 바이오데이터(아이트래킹 등) <지훈 준오 은서> 지훈 : 학교교육으로 현장을 제한하지 말고 평생교육 관점으로 생각하자. (ex : 이직률, 주전공 + 타학문과의 연계 결정 및 시기를 바탕으로 한 정책지원결정) 준오: 사범대만으로 보더라도, 교사 외에 다양한 진로선택이 이뤄지고 있으니 졸업자 추적조사 자료를 활용해서 정책지원결정 은서: 학업성취 부진 예측  적절한 교육개입 자유학기제 시행 시기 예측모델링, (초등학교 생활데이터 사용?) 2번 질문: 답이 정해져있는 질문인가 3번 질문 지난주 윤리관련 토론과도 연관 학생의 성장을 위한다는 말이 사실 고부가 가치를 가진 지식노동자를 생산하기 위한 변명아닐까? 3팀 해린: 어떤 문제를 예측할 수 있을까? 드롭아웃, 성적 / 예전과 달라진 변수 유경: 한국 맥락에서는 드롭아웃을 잘 하지 않는 편? 웅기: 도메인 지식 = 교육학적 이론, 통찰 + 인지과학, UI/UX + 의공학 등.. https://biz.chosun.com/site/data/html_dir/2017/09/01/2017090102160.html'},\n",
       " {'title': '6. Going Beyond Better Data Prediction to Create Explanatory Models of Educational Data',\n",
       "  'day': 'March 16, 2021',\n",
       "  'people': 'Juno Hwang',\n",
       "  'link': 'https://dndrl.notion.site/6-Going-Beyond-Better-Data-Prediction-to-Create-Explanatory-Models-of-Educational-Data-241722e1c3e64abf97731ccb06980ae5',\n",
       "  'content': '문항반응이론에 대한 간단한 소개 A brief introduction to IRT.pdf 654.0KB 모든 예측모델이 그렇듯이, Why? 에 대한 의문을 해결하기 어려운 경우가 많다. 관찰된 법칙에 대한 이론을 세우는 것은 연구자가 해야 할 일. 여기서 Explanatory models라고 부르는 것은 예측이 갖는 의미를 해석할 수 있거나, 혹은 why에 대한 의문을 풀어나가는데 도움이 되는 모델을 이야기하는 듯 하다. Cognitive model discovery Covnitive model이란 인지과정을 근사적으로 표현하는 모델이다.  지식, 개념, 역량과 같이 인지적이고 관찰할 수 없는 요소들을 문제 해결의 단계적 대응이라는 관찰 가능한 요소를 통해 표현하려는 시도.  따라서 적응형 학습의 구현에 중요하다.  Knowledge component (KC) : 특정 작업 또는 문제해결 단계를 성공하기 위해 필요한 사실, 개념 또는 기술 통계적으로 이를 형식화 한 것을 KC model 또는 Q-matrix 라고 하며, 여기에  문항반응이론을 좀 변형해서 결합한게 additive factor model (AFM) 인 것 같다. Q-matrix method : 오개념을 파악하기 위한 이진(boolean) 행렬 표현. Concept - question relation을 관련있으면 1, 아니면 0으로 표현한다. 때문에 attribute-by item incidence matrix라고도 한다. 자주 쓰이긴 하는데, 이 명칭보다는 KC model이 더 많이 쓰이는듯. 학생들의 응답에 의해 문항(q)과 개념(con)사이의 대응관계를 나타낸 예시.  한번에 뚝딱 만들어지는게 아니라 수정을 거치며, 알고리즘적으로 생성할 경우에는 무작위로 초기화된 q-matrix에 대해서 경사상승법(hill-climbing algorithm)을 사용한다(to avoid local minima). 이진 값이 아니라 학생이 옳게 응답할 확률로 나타낼 수도 있음. (Brewer, 1996) 학생의 개념이해 여부를 나타낸 이진 벡터인 concept state  c c 와 q-matrix  Q Q 에 대하여, ideal response vector (IDR)는 다음과 같이 표현된다. ( 는 not 연산자 ) textrm{IDR}=neg((neg c)Q) IDR=((c)Q) 위의 q-matrix에서 예를 들어  neg c=1001 c=1001 이라면  (neg c)Q=101001 (c)Q=101001 인데 이는 학생이 제대로 풀 수 없는 문제에 해당함. 따라서 IDR vector는 학생이 문제를 풀 수 있는지 여부를 나타냄. Barnes, T. (2005). The Q-matrix method: Mining student response data for knowledge. Proceedings of AAAI 2005: Educational Data Mining Workshop  www.aaai.org https://www.aaai.org/Papers/Workshops/2005/WS-05-02/WS05-02-006.pdf Additive factor model (AFM) :  문항반응이론 모형의 살짝 변형된 버전으로, additive라는 말은 skill parameter들의 선형결합에 의해 표현된다는 취지로 쓴 용어임. p_{ij}=Pr (Y_{ij}=1  theta_i, vec beta , vec gamma)=sigma (theta_i+sum_{k} q_{jk}beta_{k} + sum_{k}q_{jk}gamma_kT_{ik}) p ij =Pr(Y ij =1 i ,  ,  )=( i + k  q jk  k + k  q jk  k T ik ) 여기서  sigma(x)=1/(1+e^{-x}) (x)=1/(1+e x ) 인 sigmoid 함수이고 Y_{ij} Y ij  : 문항 j 에 대한 학생 i 의 응답 theta_i  i  : 학생 i 의 숙련도 beta_k  k  : 기술(skill) k 의 어려움 gamma_k  k  : 기술 k 를 습득하기 위한 learning rate T_{ik} T ik  : 학생 i 가 기술 k를 습득하기 위해 투자한 시간 q_{jk} q jk  : q-matrix의 jk-성분. 즉 문항 j가 기술 혹은 개념 k와 관련있는지  여부 Conjunctive factor model (CFM) :  확률이 한 번의 선형결합 후 sigmoid 에 의해 결정되는 것이 아니라, 각 스킬 요소의 logistic regression에 의한 곱으로 표현되는 모델. 개인적으로 운전면허 실기시험 같은 상황에 적합하다고 생각함.  p_{ij}=prod_k sigma(theta_i+beta_k+gamma_kT_{ik})^{q_{jk}} p ij = k  ( i + k + k T ik ) q jk Cen, Hao, Kenneth Koedinger, and Brian Junker. \"Comparing two IRT models for conjunctive skills.\" International Conference on Intelligent Tutoring Systems. Springer, Berlin, Heidelberg, 2008. pact.cs.cmu.edu http://pact.cs.cmu.edu/koedinger/pubs/Cen%2C%20Koedinger%20%26%20Junker%2008.pdf Data-driven cognitive model improvement Difficulty factor assessment (DFA) : 과제를 각각의 요소로 분해하여 분석하는 관점. 처음부터 적절한 q-matrix를 만들 수 없기 때문에, 전문가에 의해 아래의 과정을 반복하면서 refine한다. 학습곡선을 시각화해 분석하고, 주어진 KC model에 대해 AFM을 최적화시킨다. 문제와 관련된 KC를 규명하고, KC model을 수정한다. 수정된 KC model에 대해 AFM을 다시 최적화하고, 데이터에 더 잘 부합하는지 본다. Human-machine student model discovery and improvement using Data, Stamper et al. , 2011 www.researchgate.net https://www.researchgate.net/publication/221297301_Human-Machine_Student_Model_Discovery_and_Improvement_Using_DataShop DataShop이라는 플랫폼의 Geometry area (1996-97) 학습 기록을 사용. 위 그래프의 각 title이 KC에 해당하며, X축은 학습기회, Y축은 문제풀이에 대한 error rate. 학습곡선이 부드럽게 하강할 수록 KC가 잘 설정되었다는 것을 의미한다. 위에서는 compose-by-addition KC의 학습곡선이 이상한데, 이걸 눈으로 봐서 알 수도 있지만 AFM돌려보면  gamma_k  k  가 이상한 값으로 나오는걸로부터 찾아낼 수 있다. 혹은 AFM의 파라미터가 정상적이더라도 error rate에 대한 시계열 예측 성능이 낮으면, 학습곡선이 bumpy하다는 것을 의미한다. 이런 식으로 KC가 잘못 정의되었음을 찾아내어 q-matrix를 개선할 수 있다. Koedinger et al., 2013 에서는 실제로 이것이 학습에 도움이 됨을 보였다. Learning factor analysis (LFA) 수작업으로 하던 KC model refinement에 들어가는 노동력을 줄이기 위해 고안되었다. 데이터를 가장 잘 설명해주는 best-fitting KC model을 symbolic하게 뱉어줘서, 완전 자동화는 아니더라도 사람의 노동을 상당히 줄여주는게 목적이라는 듯 하다. KC모델은 concept의 수를 늘리면 모델 파라미터 (q-matrix,  beta_k  k ,  gamma_k  k ) 수도 같이 늘어나기 때문에 무조건 overfitting 된다. 따라서 데이터를 잘 표현하면서도 overfit을 막기 위해서는 성능 + 모델파라미터 수를 같이 평가해주는 지표가 필요한데, 여기서는 Akaike information criterion(AIC) 과 Bayesian information criterion (BIC)를 사용했다. 이렇게 number of concepts 를 결정해도 KC model space를 전체탐색하는 것은 너무 비효율적이기 때문에, A-star algorithm (게임NPC의 길찾기 알고리즘에 많이 쓰임)으로 경로탐색하여 KC model을 찾고 AFM을 피팅한다. 실제로 이렇게 반자동화된 KC와 전문가에 의해 작업된 KC를 교차검증해보니 꽤 우수했다고 한다. 기존에 구한 KC model과 새로운 문항 데이터셋에 대한 KC모델의 쉬운 통합을 위해  저자(Koedinger)가 요즘 노력중이라고 함. 어마어마한 연구력... 카네기 HCI 교수이시다. Cen, Hao, Kenneth Koedinger, and Brian Junker. \"Learning factors analysisa general method for cognitive model evaluation and improvement.\" International Conference on Intelligent Tutoring Systems. Springer, Berlin, Heidelberg, 2006. citeseerx.ist.psu.edu https://citeseerx.ist.psu.edu/viewdoc/download?doi=10.1.1.297.2141&rep=rep1&type=pdf Automated cognitive model discovery using SimStudent 중학생(?)에게 algebra 가르치는 대화형 인공지능 프로그램. 직접 보는게 제일 좋다. 교수자(여기서는 중학교 학생)의 행동과 가르침을 보고, 규칙에 의한 절차적 지식을 학습할 수 있는 머신러닝 모델이다. KC가 전문가에 의해 구성되는게 아니라 실제 학습과정에 있는 학습자에 의해 구성되기 때문에 learning trajectory를 파악하는 능력이 전문가보다 뛰어난 것으로 나타났다. 다만 symbolic representation이 가능한 절차적 과제에 대해서만 적용 가능하다는 한계가 있는 것 같다. 방정식의 표현에 따른 problem abstraction level을 학습된 모형의 error rate를 바탕으로 정의한 점이 굉장히 독창적이라고 생각한다. 그래프에서 전문가에 의한 모델보다 SimStudent가 더 우수함을 알 수 있다. Li, Nan, et al. \"Integrating representation learning and skill learning in a human-like intelligent agent.\" Artificial Intelligence 219 (2015): 67-91. Integrating representation learning and skill learning in a human-like intelligent agent Building an intelligent agent that simulates human learning of math and science could potentially benefit both cognitive science, by contributing to the understanding of human learning, and artificial intelligence, by advancing the goal of creating human-level intelligence. https://www.sciencedirect.com/science/article/pii/S0004370214001349 Comparison to other work Cognitive model에 기반한 방법들은 단순한 예측 모델보다 성능이 더 좋고 쉽게 해석 가능하기 때문에 explanatory하다. (예측모델은 parameter를 키워 성능을 올릴 수 있지만, 그럴수록 해석성이 떨어진다. e.g. multinomial regression) 특히 교수학습과정이나 평가를 수정하는데에 직접적인 도움이 될 만한 정보를 담고 있다. LFA와 같은 모델들은 \"human-in-the-loop\", 즉 개발 과정에 해당 분야의 전문가를 요한다. 이것은 그냥 무식하게 데이터를 집어넣는 예측모델에 비해 비싸지만, 결국 설명적인 모델을 얻을 수 있도록 해준다. 이 과정을 자동화하거나 단순화한 여러 모델들(Gonzlez-Brenes & Mostow, 2012; Lindsey, Khajah, & Mozer, 2014)이 있지만, 역시 노동력과 interpretabililty사이에는 trade-off 관계가 있다. (꼭 human-in-the-loop가 좋다기보다는, 상황에 따라 적절한 방식을 택하는게 좋다고 받아들여야 할 듯) Ordinal SPARFA(sparse factor analysis)-Tag : 또 다른 human-in-the-loop 유형의 모델로, q-matrix 비슷하게 문항-개념을 연결해주는 역할을 하는 W 행렬이 희소행렬(sparse matrix, 대부분의 성분이 0인 행렬)이 되도록 한 모델.  학생의 개념을 나타낸 행렬 C와 문항 자체의 난이도 행렬 M을  sigma(WC+M) (WC+M) 형태로 연산해, 문항에 대한 응답을 추정. Ordinal 버전은 이런 과정을 서열척도에 적용할 수 있게 만든 것으로, 사실 ordinal IRT의 모형과 수학적인 구조는 동일하다. Multidimensional IRT과의 차이점은 IRT는 W에 대한 제약이 없는 반면, SPARFA는 oracle support assumption이라는 특별한 가정을 하는데 이는 해당 분야의 전문가에 의해 문항과 개념의 연관성 여부를 미리 선정하여 W에서 0이 들어갈 자리와 실수가 들어갈 자리를 제약한다는 것이다. 이를 통해 IRT보다 해석성 있는 결론에 쉽게 수렴할 수 있다. Lan, Andrew S., et al. \"Sparse factor analysis for learning and content analytics.\" arXiv preprint arXiv:1303.5685 (2013). Lan, Andrew S., et al. \"Tag-aware ordinal sparse factor analysis for learning and content analytics.\" arXiv preprint arXiv:1412.5967 (2014). arxiv.org https://arxiv.org/pdf/1303.5685.pdf www.csl.cornell.edu https://www.csl.cornell.edu/~studer/papers/13EDM-sparfatag.pdf Student Grouping Conceptual modeling 이나 item response modeling 이외에도, 특성을 바탕으로 학생을 clustering하는 것 또한 explanatory하다. K-means나 spectral 클러스터링은 테스트에 대한 학생의 예상응답수준을 바탕으로 군집화한다. Liu and Koedinger 2015 연구에서는 AFM을 바탕으로 학생을 군집화하는 방법을 제안한다. AFM으로 구한 잔차(residual; 예측값과 관측값의 차이)를 바탕으로 (1) 예측보다 느리게 학습하는 그룹과 (2) 예측보다 빠르게 학습하는 그룹과 (3)예측에 거의 일치한 속도로 학습하는 그룹을 나누었다. (하지만 특별히 시사하는 바는 없는 듯 합니다) Liu, Ran, and Kenneth R. Koedinger. \"Variations in Learning Rate: Student Classification Based on Systematic Residual Error Patterns across Practice Opportunities.\" International educational data mining society (2015). files.eric.ed.gov https://files.eric.ed.gov/fulltext/ED560874.pdf Toward Building Explanatory Models 선형/다항회귀를 제외한 거의 모든 예측알고리즘은 수렴성이기 때문에, 최적해에 도달하지 못할 가능성이 있음은 물론이고 모델을 해석하는데에 어려움이 있다. 이 절에서 다룬 explanantory models는 분야의 전문가의 도움을 통해 clean한 파라미터와 해석성을 얻을 수 있음을 시사한다. 이상 문항 데이터에 대해 주로 다루었지만, 언어 데이터를 활용하는 것 또한 고려해야 한다.  언어 모델의 접근에는 소위 bag-of-words라 불리는 순서 신경 안쓰고 빈도만 따지자는 관점이 있는가 하면 더 정교한 모델이 있다. 자연어 모델의 발전은 해석성에 큰 기여를 할 것 (집필시기인 2017년에 비해 최근 수년간 NLP에서 어마어마한 발전이 있었으니 아마 뭔가 많이 했을 듯. 그러나 일단 Koedinger의 최근 연구를 찾아보면 NLP는 안건드리고 knowledge tracking쪽에 관심이 있는 것 같다.) Affective AutoTutor : 컴퓨터 리터러시 교육을 위한 튜터링 시스템으로, 자동적으로 학생의 혼동, 좌절감, 지루함 등을 실시간 모델링한다. Non-affective 버전의 auto tutor보다 저성취 학생에게서 더 우수한 효과를 보였다고 한다. (uncanny valley... 차라리 캐릭터화 했다면) Affective tutoring system의 개발을 위해서는 학생의 반응에 대한 해석성이 필요하다. Facial responces from affective autotutor 저자는 파라미터가 적은 모델이 해석성이 높다고 여기면서 다시 한 번 예측과 해석성의 trade-offs관계를 강조한다. (General하게 맞는 말이지만, 최근에는 multimodal transformer같은 신기술을 통해 많이 극복하고 있는 추세이다.)    Discussion  1. Data-driven model을 사용하지 않더라도 분명 교사는 학생들을 암묵적으로 cognitive modeling하고 있을 것입니다. 교사가 직접 하는 cognitive modeling에는 무엇이 있을 것이며, 이 가운데 data-driven model로 구현되지 않은 것에는 무엇이 있을까요?  2. 엔지니어와 통계학자들이 모든 기술적인 문제를 다 해결했다고 치고, 무엇이든 개발 가능하다고 상상해봅시다. 궁극의 cognitive model (혹은 explanatory model) 은 우리에게 무엇을 알려주어야 할까요? 즉 우리는 학생에 대해 뭘 알기를 원하는걸까요? 그리고 그것으로 구현할 수 있는 교육적 서비스에는 무엇이 있을까요?  위의 두 질문을 통해 explanatory model이 나아갈 방향을 찾을 수 있을 것 같습니다. <주홍, 혜원, 은서> 지식이 아닌 역량, 문제해결력 같은 것 인지모델을 통해 이해를 했나 안했나를 알 수 있으니, 이 결과를 통해 오히려 역량이 행동으로 어떻게 확인될 수 있는지를 찾을 수 있을 듯 교사의 머리 속에 있는 인지모델 ~ 인문학적 과목이나 예능과목 문제해결력 외에도 여러 역량들(창의융합 등)도 이를 통해 알수 있으면 좋을 것 <현지, 유경, 지훈> 심리적인 구인들을 모델링할 수도 AI교육해보며느 학생들은 자신이 끈기있게 학습할 수 있는 grit, 동기, 정서가 학업성취와 관련이 깊다고 생각. 이런 것을 모델링해야지 <웅기, 해린, 준오> 준오: 구성주의, 단순한 수학문제를 푸는 경우에는, 같은 컨셉이라도 학생들이 어떠한 방식으로 이해했는가? 학생들이 멈추는 포인트도 단서가 될 수 있겠다. 해린: 교사가 암묵적으로 인지 모델링을 하고 있다는 것은  웅기 : 인간의 사고? 생각?을 최대한 끌어내고자 하는 것이 궁극적인 목표 아닐지.'},\n",
       " {'title': 'Chapter 7: Content Analytics: The Definition, Scope, and an Overview of Published Research\\n1',\n",
       "  'day': 'March 23, 2021',\n",
       "  'people': 'H\\nHaewon Jung',\n",
       "  'link': 'https://dndrl.notion.site/Chapter-7-Content-Analytics-The-Definition-Scope-and-an-Overview-of-Published-Research-6560fe13a15d49abaa0eb2547f05e252',\n",
       "  'content': 'Content analytics Learning Content and Content Analytics CONTENT ANALYTICS TASKS AND TECHNIQUES Content Analytics of Learning Resources Content Analytics of Students Products of Learning Content Analytics of Students Social Interactions Topic discovery in learning content CONCLUSIONS AND FUTURE DIRECTIONS Content analytics 배경 : 데이터 , 학습분석, 여러 유형의 데이터 중 학습 컨텐츠 관련의 분석이 학습분석시스템에 활용됨 학습 컨텐츠 : 교수자(실라버스, 문서자료, 강의 녹음 등), 출판사(교과서), 학습자(에세이, 토의 메시지, SNS 포스팅 등) 개념 : 다양한 형태의 학습 콘텐츠 분석에 초점을 맞춘 다양한 유형의 학습 분석을 지칭하는 데 사용되는 포괄적 용어  정의 : Automated methods for examining, evaluating, indexing, filtering, recommending, and visualizing different forms of digital learning content, regardless of its producer (e.g., instructor, student) with the goal of understanding learning activities and improving educational practice and research. Learning Content and Content Analytics 모든 형태의 교육의 특징은 학습자와 학습 내용 간의 상호 작용(Moore, 1989) Learning Content의 종류 : written materials, interactive & multimedia educational resources, learner generated resources 등(Twitter, Facebook 등의 온라인 토론장의 발달로 인함) Content analysis는 different resources (textbooks, web resources) and products (assignments, discussion messages) of learning 에 초점을 맞춤.  Content Analysis VS Content Analytics  CONTENT ANALYTICS TASKS AND TECHNIQUES -Learning Analytics and Knowledge Conference의 프로시딩, Journal of Learning Analytics, the Journal of Educational Data Mining, the Journal of Artificial Intelligence in Educationd을 살펴봄 -연구 문제별로 분류 : 데이터 유형에 따라 세 그룹으로 분류됨 Content Analytics of Learning Resources 내용분석의 초기 활용은 교육적 리소스 및 자료의 분석, 그리고 그 리소스의 추천(평가)에 대한 것. 주된 관심사가 학생들에게 관련된 자료를 추천하는 것이었기 때문에 추천 시스템에 기반하게 되었음 추천 시스템의 두 타입 교수 자료의 자동화된 정리 및 분류에 활용됨 사용가능한 교육자료의 질을 평가하고 그것이 교육에 미치는 영향을 평가하는데 활용됨 Content Analytics of Students Products of Learning content analytics의 핵심 목적은 학생에게 적시에 적절한 피드백을 제공하기 위함 AES (automated essay scoring) : 에세이 평가 시스템. Latent Semantic Analysis (LSA)를 사용하여 샘플 에세이와 학생 에세이의 유사도를 계산하여 에세이 품질을 평가함.   Latent Semantic Analysis (LSA) : 단어 동시 발생 분석을 통해 두 텍스트 본문 간의 의미 유사성을 측정 최신 시스템인 WriteToLearn 같은 경우에는 시각적 피드백을 제공하여 쓰기 스킬 향상을 도모하기도 함(Foltz & Rosenstein, 2015) LSA는 텍스트 간이 아니라 텍스트 내의 응집성(document coherence)을 통해 글의 품질을 측정하는 Coh-metrix tool에도 사용됨. (ex. Writing-Pal : 쓰는 동안 쓰기에 대한 피드백을 제공하는 ITS) 그래프 기반 시각화 기법 : 단어의 동시발생을 기반으로 함 글의 품질 평가에 더해 내용 요약에도 활용됨 OpenEssayist system (Whitelock, Field, Pulman, Richardson, & Van Labeke, 2014; Whitelock, Twiner, Richardson, Field, & Pulman, 2015) 학생들의 협력적 쓰기 활동에서 자동화된 개념지도 추출에도 활용됨 자연어처리기법(NLP) : 주로 학생의 글을 언어학적, 수사학적으로 분석할 때 활용됨 XIP Dashboard : 글의 메타 담화와 수사학적 기능들을 시각화하여 에세이의 주장의 질을 평가함 (Simsek, Buckingham Shum, De Liddo, Ferguson, & Sndor, 2014; Simsek, Buckingham Shum, Sandor, DeLiddo, & Ferguson, 2013) discourse-centric learning analytics과도 유사 에세이가 아닌 짧은 글에 대해서도 비슷한 cotent analytics 사용된 연구들 물리관련 짧은 답에 대한 맞춤형 피드백 시스템 (Dzikovska, Steinhauser, Farrow, Moore, and Campbell , 2014) WriteEval system : 학습자의 짧은 답에 대한 후속 지도와 과업을 제시 (Leeman-Munk, Wiebe, & Lester, 2014) 문제해결력, 논리, PHP 프로그래밍을 가르치는데에도 비슷한 접근이 활용됨 샘플 답을 자동적으로 검색하는 그래프 기반 기법의 가능성을 확인한 연구도 있음 교수자에게 학습자의 활동에 대한 피드백을 제공 교수자에게 학생 글의 독창성 및 비판적 사고를 시작해야할 시점을 안내하기 위해 학생 에세이 시각화를 활용함(Lrusson and White, 2012) 개념지도 추출은 학생에게 피드백을 줄 뿐 아니라 교수자에게 학생활동에 대한 개요를 제공 학습자의 사회적 상호작용과 그룹 지식 생성에 대한 개요를 제공하기 위해 학습자 채팅 로그를 분석하여 개념지도를 추출(Rosen, Miagkikh, & Suthers, 2011) 피드백의 유형에 따른 학습자 참여 어떤 피드백이 학생의 글쓰기에 가장 큰 향상을 이끌어내는지 연구(Crossley, Varner, Roscoe, and McNamara, 2013) 어떤 유형의 피드백(지시적, 성찰적)이 학생의 퇴고 행동에 영향을 끼치는지 연구(Calvo, Aditomo, Southavilay, and Yacef (2012) 에세이의 질과 학습자의 수행의 연관성을 탐색한 연구들 성공적인 글쓰기는 무엇... Content Analytics of Students Social Interactions 온라인 원격교육에서 비동시적 토론은 상호작용 수단임 전체 토론 활동/ 학생들의 참여도 분석에 학습 자료 분석에 활용된 방법이 활용됨 다양한 기술 활용: SA and Social Network Analysis (SNA), process mining 등 개발 사례 학습과 지식 창출(사회적 구성주의적 관점) : 지식 구축에 대한 사회적 상호작용의 역할을 이해하기 위해 콘텐츠 분석이 활용됨 >> 온라인 담화에서의 상호작용이 학습 성과와 지식 구축을 어떻게 형성하는지 이해 언어적 차이의 담화 기여도(Joksimovi, Gaevi, Kovanovi, Adesope, & Hatala, 2014; Xu, Murray, Park Woolf, & Smith, 2013) 언어적 차이가 학생 성적과 어떤 연관이 있는지에 대한 연구(Yoo & Kim, 2012) 다양한 유형의 토론 기여 간의 상호의존성을 조사한 연구(Chiu and Fujita, 2014a, 2014b) 학생 토론 기여도 유형에 따른 교수자의 응답 가능성 연구(Cui and Wise , 2015) 학생의 공동지식구성이 어떻게 이뤄지는지를 파악하기 위한 학생의 사회적 상호작용에 관한 연구들(하위 커뮤니티, 자기조절능력, 소그룹 커뮤니케이션, 컴퓨터 기반 프로그래밍 프로젝트에서의 헙엽, MOOCs에서 학생들의 사회적 자본 축적 등) 학생 참여 수준과 그 촉진에 기여할 수 있는 교수적 접근 평가 연구에도 활용됨 토론 활동 수준과 과정 성과에 기초한 학습자의 유형에 초점을 맞춰 MOOCs에서 학생 참여도 연구(Ramesh et al., 2013) MOOCs에서 학생의 부정적 정서 표현과 중도이탈에 관한 연구(Wen, Yang, and Ros, 2014a) LIWC 단어 범주로 학습자의 동기와 인지적 참여 수준 측정 연구(Wen et al., 2014b) 읽기시간과 텍스트 복잡도를 통해 소외된 학습자 파악 연구(Vega et al., 2013) Topic discovery in learning content 방대한 양의 가용 정보를 조직하고 요약하는 것도 컨텐츠 분석의 주된 용도 확률적 토핑 모델링(probabilistic topic modelling)이 주로 쓰임 문서 집합의 추상적인 \"주제\"를 발견하기 위한 통계적 모델로 텍스트 본문의 숨겨진 의미구조를 발견하기 위해 사용되는 텍스트 마이닝 기법 중 하나 함께 자주 사용되며 문서들에서 인기 있는 주제와 주제를 나타내는 단어 그룹을 식별하는 것이 목적 latent Dirichlet allocation (LDA) : 가장 대표적 토픽 모델링 기법 techniques based on logic programming, text clustering, and LSA 도 함께 사용됨 >> 온라인 토의에서 주로 활용되어 학생 토의의 질에 대한 강사의 awareness를 높이기 위함 토픽 모델링을 위한 방법들이 주로 긴 글에 적합하여 전통적인 블로깅 플랫폼에만 연구가 집중된 경향이 있음.(트위터는 마이크로 블로깅 플랫폼) 짧은 텍스트에 대한 LDA도 개발되었지만 널리 쓰이고 있지 않음 예외적으로 Chen, Chen, and Xing (2015)이 초기의 학습분석 컨퍼런스에서 진행된 트윗을 분석하여 인기 있는 주제와 시간에 따른 학습 분석 커뮤니티의 구조와 진화를 살펴본 연구가 있음 Joksimovi, Kovanovi et al. (2015)는 강의자료와 학생들이 각기 다른 소셜미디어에 포스팅한 것과의 연관을 연구 Reich et al. (2014)는 추후 더욱 효율적이고 넓은 강의평가를 위해 학생들의 강의 평가의 주된 주제를 연구함. CONCLUSIONS AND FUTURE DIRECTIONS 유형  1) course resources, 2) student products of learning, and 3) student social interactions 활용  recommendation and categorization of different learning materials (e.g., Drachsler et al., 2008) provision of feedback during student writing (e.g., Crossley et al., 2015) analysis of learning outcomes (e.g., Robinson et al., 2013) analysis of student engagement (e.g., Wen et al., 2014b) topic discovery in online discussions (e.g., Reich et al., 2014). 발전 방향  1) 컨텐츠 분석을 다른 형태의 분석과 결합하고 ex) Discourse analytics (Simsek et al., 2015, 2014, 2013) Process mining (Hever et al., 2007; Southavilay et al., 2009, 2010, 2013) Social network analysis (Drachsler et al., 2008; Joksimovi, Kovanovi et al., 2015; Joksimovi et al., 2014; Pham et al., 2012; Ramachandran & Foltz, 2015; Rosen et al., 2011; Teplovs et al., 2011) Visual learning analytics (Hecking & Hoppe, 2015; Lrusson & White, 2012; Prez-Marn & Pascual-Nieto, 2010; Simsek et al., 2014; Whitelock et al., 2014, 2015) Multimodal learning analytics (Blikstein, 2011; Worsley & Blikstein, 2011). 2) 기존 교육 이론에 기반한 컨텐츠 분석 시스템을 개발함으로써 개선될 것 3) 다른 추가적인 형태의 데이터가 함께 결합되는 것도 중요할 것(학생 인구 통계, 사전 지식 또는 표준화된 점수 등) 4) 잘 확립된 교육 이론에 기초해야 함  교육학적 고려사항은 특히 피드백 제공을 위해 중요함  학습자료의 컨텐츠 분석을 통해 추천할 때, 학습자의 프로필이나 기존의 선호도를 가지고 추천/ 혹은 다른 학습자의 데이터를 기반으로 추천함. 이때, 선호도 외에 어떤 요소들을 반영해야 교육적으로 가치 있는 자료를 추천할 수 있을까요?  1  content analytics와 함께 결합될 때 유용한 다른 데이터는 어떤 것들을 고려할 수 있을까요?  <지훈 은서, 수정> 학교의 사회적 지휘(반장, 축구부장, 족구왕 등), 경제적 지위(if possible..  거주지역 평균소득으로 대체 할수도), 출신국가, 제1언어, 관심학생 여부 등등 demographic이라고 말할 수 있는 것! 아이디어) 진로교육에 이런 추천 시스템을 반영하면 어떨까? 지금은 막연히 대세를 따르기만함.  맥락에 따라 단어의 사용이 달라지는데, quantitive data 는 질적자료를 다 보충하지 못함.   <주홍, 해린, 혜원> 학생의 배경, 환경: 학생 인구 통계 - 학생이 어디에 살고있는지 활용 교육적으로 의미있으려면 환경 밖에서 생각하는 것도 필요함 - 학생이 속한 집단의 보편적 관점을 획득하고, 이것과 상반되는 컨텐츠를 제공해도 사고 확장에 좋을 것 컨텐츠의 위계 파악 : 내가 쉬운 것을 찾으면 쉬운 것 위주로 나오는데, 그보다 한단계 나아갈 수 있는 컨텐츠가 검색되려면 위계가 함께 고려되어야 함. 국가적인 요구(인재역량, 성취목표)도 입력으로 고려해야할지 고민해볼 필요가 있음 - 학생의 필요와 국가적 교육 목표가 다를 수 있기 때문 <재용, 유경, 서연> 선호도 외에 어떤 요소들을 반영? <웅기 준오 현지> 선호도 외 학습자 데이터로 고려할 수 있는 변수  웅기 : 선호도라는 것을 단편적으로 정의할 수 없다, 이미 많은 변수가 포함되어 있을 수 있겠다.  현지 : 칙센미하이 몰입이론으로 바라보면, 난이도-학습자수준 매칭이 몰입과 학습만족도에 중요한 요인이 될 것이다. 준오: IRT   구성주의    베이지안 모델, 어떤 순서인지도 중요  대부분의 추천시스템은 순서를 신경쓰지 않고, 로그를 기준으로 가중치를 두는데, 콘텐츠를 소비하는 과정에서 인과성, 순서를 고려해야 한다.  2.  교육에 필요한 기타 추천시스템 웅기: 교수자 대상 추천시스템대 현지: 학습자 간 추천시스템 (동료학습 시 활용) 준오 : 먼저 표준화된 모델 @all 연구 아이디어 기록 '},\n",
       " {'title': '8. 자연어처리\\n1',\n",
       "  'day': 'March 23, 2021',\n",
       "  'people': '성지훈 \\xad',\n",
       "  'link': 'https://dndrl.notion.site/8-c7e0bdacb5f84caa9c9f5abbff9a8376',\n",
       "  'content': '1. \\'언어\\' 2. NLP 2.1 The words 2.1.1 Linguistic Inquiry Word Count 2.1.2 n-gram 2.2 The Features of the Words 2.2.1 Latent Semantic Analytic 2.2.2 Coh - Metrix 2.2.3 기타 툴 3. Application 3.1 Writing Assessment 3.2 Tutoring systems 3.3 CSCL 3.4 MOOCs 4. The Power of NLP 4.1 Power of NLP 4.2 Drawback of NLP 부록 토의 후속조사 1. 일기자료 2. 학생관계 또는 학습자 유형별 모델링 3. 교사 보조 4. 자동채점 5. 아직.. & 다음 과제 1. \\'언어\\' 언어는 우리에게 세상과 소통하는 좋은 도구가 됨 선생의 입장에서 학생이 1) 새로운 정보를 학습할 때인지, 2) 그것을 다른 지식과 융합할 때인지 아는 것이 중요  적절한 텍스트 & 담론 분석 방법론이 필요 2. NLP 기존의 담론분석은 \\'NGD(노가다)\\' 그자체..  의미있는 단어나 절을 분석하고, 해석  빅데이터의 등장  NGD 불가능, 새로운 자동화 방법론의 필요 Def. Natural Language Processing ; 컴퓨터를 사용해 담론 분석을 자동화하여 인간의 언어를 해석하는 일 인간의 언어 O, 동물은 언어 X 1990s 중반부터 NLP의 영향력이 증가하기 시작함 (발제자 사족: 최근에 \"NLP\"라고 하면 단순 빈도만을 보는 방법보다는 머신러닝과 결합된 자연어처리 방법론을 통칭하는 것으로 보임)  언어의 어떤 특징을 잡아서 분석할 것인지에 따라 방법론의 종류가 나뉨 ; 단어, 단어의 속성, 의미, 담론의 구조 등등 2.1 The words 단어 자체에 집중하는 방법론을 소개하는 장 2.1.1 Linguistic Inquiry Word Count  (LIWC, http://liwc.wpengine.com/how-it-works/) 단어와 그것이 의미하는 심리학적 요인을 연결지은 사전(dictionary) 기반 담론분석 (최신 사전, LIWC2015 은 6,400개의 단어/이모티콘에 대한 정보를 담고 있음) 담론에 사용된 단어가 사전 속 어떤 심리학적 요인과 대응하는지 확인 후 전체 요인들의 비율을 비교  \\'00글은 긍정적 감정 4.2%, 분노 20%, 대명사 5%가 있다\\' 2.1.2 n-gram  (https://wikidocs.net/21692) 단어가 함께 등장한 빈도를 확률화 함 이 때 \\'함께 등장\\'했다고 보는 기준을 몇개의 단어로 보느냐에 따라 나뉨 (예. unigrams, bigrams, ...) 원리를 이해하기 쉽고, 단어 사이의 관계나 보다 깊은 의미를 얻어낼 수 있음. 다만, 모델 구축에 사용한 데이터에 너무 좌우되는 경향이 강함. (예, 마케팅 분야의 텍스트로 구축한 모델을 의학 분야 텍스트 분석에 사용한다면?     의학 전문용어를 전혀 이해하지 못할 것) 2.2 The Features of the Words 단어와 문장의 속성에 집중하는 방법론을 소개하는 장 2.2.1 Latent Semantic Analytic (LSA, https://wikidocs.net/24949) 가정: 단어의 의미는 그것과 함께 등장하는 다른 단어들을 통해 유추할 수 있음 방법 문서에 등장한 단어의 빈도를 표현하는 문서단어행렬(Document term matrix, DTM) 제작 DTM에 특이값 분해(Singular Value Decomposition, SVD) 수행 이를 통해 나온 행렬을 그대로 사용하지 않고 토픽의 개수만큼 절단해서 사용함(계산의 용이함, 노이즈 제거) 문서 - 토픽의 확률, 토픽 - 단어의 확률 정보를 담은 행렬이 나옴  문서 사이의 유사도, 단어 사이의 유사도 등을 계산할 수 있어짐 2.2.2 Coh - Metrix http://cohmetrix.com/ 2003년에 개발된 자동화 툴로 텍스트의 응집성을 분석해줌 Def. Coherence ;독자가 글에서 아이디어를 연결하는데 도움이 되는 텍스트의 지표들의 집합 지표의 예 (발표일 기준) 2.2.3 기타 툴 TAACO (Tool for the Automatic Analysis of Text Cohesion) SiNLP (Simple Natural Language Processing) Coh - Metrix: 저자가 너무 좋아하던데 Tool : TAACO, SiNLP, TAALES,  AoE (Age of Exposure) 2016년에 등장한 모델로 LDA를 기반으로 발전시킨 모델인 것으로 보임  AoE (2016).pdf 658.8KB 3. Application 3.1 Writing Assessment Automated Essay Scoring (AES) ; LSA, maching learning 등을 활용해서 글을 쓴 사람의 수준이나 정확도 등을 채점함 인간 전문가와 맘먹는 수준의 정확도를 보인다고 보고됨 3.2 Tutoring systems Autotutor 학생이 바른 정답을 구성해나갈 수 있도록 대화를 도움 그 과정에서 힌트를 주거나, 특정 행동을 장려하거나, 특정 주장을 하거나, 옳고 그름을 판정해주는 등의 행위를 자연어처리를 통해 진행함.   iSTART  (Interactive Strategy Training for Active Reading and Thinking) iSTART Demonstration https://youtu.be/aozJMXIMVfM 학생의 개방형 응답, 특히 자기서술형 응답을 받음.  평가 점수의 스케일이 0~3 점으로 다양하진 못하지만, 원하는 지식을 얼마나 습득했는지 자기서술형 응답을 자동으로 분석하여 확인할 수 있다는 점에서 의의 3.3 CSCL (교재에서 사용하는 dialogism 의 의미) ReaderBench http://www.readerbench.com/  감성분석: 흥분, 슬픔, 두려움, 분노, tender, 행복 중요 단어 및 토픽추출: 워드네트워크, 토픽모델링 문장의 복잡도: 이독성(readability), 기술통계(문단길이, comma 사용 횟수 등), 단어 복잡도, 연결 응집성 등등 참여자들의 참여율, 상호작용 모델링:  학생의 적절한 읽기 전략 제공 3.4 MOOCs MOOCs의 장점: 다양한 종류의 데이터가 많다. 예) 클릭데이터, 접속 로그, 숙제, 코스 진행률, 토론에서 생성되는 대화  학생의 태도, 학업 완수율, 학습 정도 등을 검사할 수 있지 않을까? 무크에서는 감성분석을 활용하는 경우가 많음 Moon et al (2014): 학생 중 리더를 찾아내는데 이모티콘 사용 Elouazizi (2014): 학생의 특정 단어의 사용과 저조한 참여율 사이의 상관을 밝힘 Wen and colleagues (2014): 학생이 인칭대명사와 동기와 관련된 단어를 함께 사용할 때 코스에서 중도탈락하지 않을 확률이 높음 Crossley, McNamara et al (2015): 학생의 코스 완주율을 70% 정확도로 예측해내는데 성공, 복잡한 언어를 사용하는 학생일 수록 코스 완주 자격증을 받을 확률이 높음 무크에서 연구할만한 주제; 중도 탈락 확률이 높은 사람 식별, 개입이 필요한 학생 식별 4. The Power of NLP 자연어처리 방법론의 위력과 한계에 대해 설명하는 장. 다양한 연구가 병렬적으로 등장함 4.1 Power of NLP NLP가 교육현장에 사용되는데 가지는 한계들을 극복하는 연구들이 다수 진행되고 있음. 영어 외 언어, 학생과 교사 사이의 글쓰기 능력 차이, 발화와 글의 차이, 과학분야 글의 단락 구분, 속임수 발견 등등...  자연어처리는 그 동안 학생과 교사가 언어를 사용해 직접 해왔던 모든 행위들에 대한 도전, 4.2 Drawback of NLP 단어의 빈도에만 주목한 방법론은 단어의 순서 정보를 담지 못함 예. LDA, LSA 를 비롯하여 bag-of-words (문서에서 사용된 단어가 모두 담겨있다고 상상할 수 있는 집합)를 사용하는 방법론들 맥락을 읽지 못함 예. 교수님이 대학원생에게 \\'(한참의 침묵과 허공을 응시한 뒤) 발제 준비하느라 고생했다\\' 모델링하는데 사용한 데이터에 너무 쉽게 휘둘림  NLP에만 기대지 말고 다양한 관점에서 학습을 바라보자 부록 K-LIWC 시도 (클릭) Humanyze 발표 내용 공유 (네트워크 분석 관련)  학생들의 협업을 모델링 할 방법? 토의  (주제1) 언어는 발화되는 순간 듣는 사람에 의해 해석되고 시간이 지남에 따라 재해석되곤 합니다. 지인을 만나고 돌아오는 길에 \\'그 때 걔가 한 00말이 무슨 말이지?\\'라고 곱씹어본 경험이 다들 있으실겁니다. 또 질적연구자들은 인터뷰 자료를 두세번도 모자라 수십번씩 다시 읽어보며 발화의 의미를 살펴보곤 하죠. 언어는 발화자와 수용자가 상호작용하며 의미를 구축하기 때문입니다.  오늘 배운 자연어처리 기법들은 단어의 빈도, 단어 사이의 등장관계, 문서와 단어 사이에 존재하는 토픽 등을 수리적, 통계적으로 모델링하는 방법을 주로 사용했습니다. 인간이 언어를 해석하는 직관적인 방식과는 그 뿌리가 다른거죠. 친구가 지나가면서 툭 던진 말은 다시 곱씹어볼 가치가 있기도 하지만, GPT-3 를 통해 쓰여진 소설을 읽으며 GPT가 사용한 단어의 의도와 문장 사이의 관계, 전달하고 싶었던 메세지에 대해 곱씹어보는 행위가 의미 있을까요?  과연 자연어처리 기법으로 나온 결과물은 1) 단순히 우리의 이해와 의사결정을 돕는 보조장치일까요, 2) 향후 발전하여 독립적이고 가치있는 의미를 생산하는 체계로 작동할 수 있을까요? 1  (주제2) 지금까지 우리 스터디에서는 즐거운 토론을 많이 했지만, 오늘 공부한 Ch8은 방법론을 위주로 설명하는 장이었습니다. 방법론의 원리가 무엇인지 아는 것도 좋지만, 그것을 활용해서 어디까지 구현할 수 있는지 아는 것은 실천가의 입장에서 중요하다고 생각합니다. 주제2는 토론보다는 발제자의 추가 숙제로 마무리하려고 합니다.  \"나였으면 교육에 자연어처리 기법을 이렇게 접목해봤겠다!\"는 새롭고 참신한 아이디어를 한 조당 1~2개 씩 내주시면 성지훈이 다음주까지 그 아이디어가 교육에 어떻게 구현되어 있는지 또는 구현되지 않았는지 확인해서 정보공유하겠습니다.  1 예시) 교사 생기부 작성 보조를 위한 초안 작성 봇, 학생 활동 데이터를 놓치지 않고 포착할 수 있도록! <현지, 웅기, 재용> 1번 질문 : 자연어처리의 산물은 보조물인가, 독립적인가? 현지 : 둘 다 가능하다  1) 보조장치로 이미 사용중 2) 니체: 말을 짧게 씀으로써 독자로서 생각하게끔 한다= 비교적 단순한 문장이라도 생각할 거리를 줄 수 있다, 기술적으로는 문제가 없을 것 같다. 웅기 : GPT로 문장 생성 가능  시, 수필 학습 시 양질의 결과물 산출 (어색한 표현 문학적으로 허용 가능)  문장 생성 모델을 학생들의 글쓰기에 활용할 수 있지 않을까?(새로운 표현 탐색, AI-사람 협력해서 창작) 사람이 상상하지 않는 결과물 도출  이야기에서는 모든 게 허용이 되니까 창의적 글쓰기에서 유용하게 활용 가능 재용 : 현재는 1) 국한되지만, 결국 미래에는 2)까지 구현 가능할 것 같다.  바둑 >  기존의 인간이 바둑 수를 두는 기법과 굉장히 다른 기법으로 진행  이러한 새로운 기풍이 교육학적으로도 의미 있을 것 같다.   사람이 하지 않을 것 같은 분야에 대한 기술적으로 새로운 옵션 제시함으로서 새롭고 창의적인 결과물을 도출할 수 있을 것 같다 2번 질문  재용 : 문학적 글쓰기의 새로운 도구로 활용할 수 있겠다. 논문 요약 현지:  논문 작성 시 내가 작성한 키워드를 중심으로 자동검색하여 참고문헌 자동으로 옆에 붙여주기, 학습을 지속하는 데에 정서적 요인이 매우 중요하다  SNS 대화로부터 학습자 정서 파악  적절한 개입 시기 판단,  웅기 : 일기로부터 학습자 상황에 대한 시그널 파악하기 (ex) 학교폭력 징조 파악  <주홍, 해린>  \\'곱씹는다\\'의 행위의 유의미성  - 글의 목적 및 종류에 따라서 달라짐   > 시스템, 인공지능 차원에서는 의미가 없을 수도  - 기반하는 데이터의 속성    > 소설은 곱씹을만함 - 인간이 함축적으로 쓸만한 표현들로부터 추출한 데이터이기 때문에 곱씹을만하다       - 인간의 행위나 경향이 들어있음   - 개선책   > 다른 기법과의 결합 eg) 신경망 알고리즘  곱씹을 만해질 것    >  결과물에 대한 해석 방법이나 관점의 중요성  * 학생간 관계 파악에 사용 - 생활 속에서 수집한 발화 데이터 / 어조 파악의 어려움  - 어조 파악: 문장간 관계, 드라마/영화 등의 실생활과 비슷한 소스에서 어조에 대한 데이터 수집  * 교사의 칭찬/지적 발화를 분석  - 칭찬을 하면 몇번을 하는지, 골고루 하는지 / 칭찬의 기술 - 좋은 칭찬?  - 칭찬을 잘하는 선생님: 교수자 컨설팅   > 교육적 개선     > 스스로 분석하기 힘듦  * 질문을 분석 - 사고를 확장/닫게 하는 질문인지, 내재적 동기를 부여하는 질문인지, 지시적 질문인지 스스로 해결하도록 하는 질문인지  <은서, 준오, 혜원> 준오 : 인간수준을 넘어서면 독립적이고, 의미를 발견할만한 수준으로 가치가 있지 않을까. (Ex. 알파고 라마누잔머신)  사람이 할 수 있지만 너무나 시간이 오래걸려서 못하는 것들에 대해서 도움을 줄 수 있을 것 은서 : 정답/핵심키워드가 정해져 있는 상황에서는 NLP가 유용하겠으나, 문학/개인간발화/과거사건에 근거해서 말하는 것에 대해서는 보조장치로서만 영향이 있을것. 소설 작성하는 인공지능도 있다. 혜원 : 사람의 노동력 보조는 되겠지만, 채점 창작은 어려운 것이 아닌가. 채점기준이 있고, 사람이 채점한 것과 머신이 한 채점의 오차가 어느정도인지에 대한 연구 과정중심평가에 도움이 많이 될 것 같다. 예)영어학습 과정에서의 수준 파악. 현재는 키워드채점에 머물러 있음 GPT와 장르 글쓰기 <유경, 지훈, 서연> 문학을 곱씹는 것과, 사람 사이의 관계에 있어서 곱씹는 것 사람 사이의 관계: 갑  을인 경우.. 을이 신경 많이 씀 챗봇은 사람과 관계할 때 을의 위치..  사람이 챗봇을 굳이 신경쓰지 않을듯 챗봇과 인간적 관계를 맺는 사례들이 나타남(이루다).  문학을 곱씹는 것: 아직 할만한 가치는 없어보임 아동이 언어를 학습하는 최적의 시기  0~5세, 이 때 언어의 체계를 학습함.  언어는 단순히 문화적, 감성적인게 아니라 \\'체계\\'를 받아들이는 일.   이런 체계를 자연어처리 기법에서 흉내낸다면... 기술 자체가 언어의 본질적 체계를 의미를 가지는 순간이 오지 않을까 아이디어1. 7, 8장에서 발화데이터 이야기를 많이하는데, 학습자별로 학습유형을 판단하거나 질문을 많이 던지거나/갈등 조장/ 등 발화 유형을 구분하는 연구가 있는지 (Kolb learning style을 설문조사 말고 발화데이터 분석으로 분류할 수 없을까?) 아이디어2. 성취도데이터 말고, 생기부를 쓰기위한 아이들의 행동, 정서상태를 참조하는 자료는 \\'일기장\\'. 교사의 직관으로 데이터를 해석해서 생기부를 쓰는 경우(예, 애정결핍을 가진 아이가 일기장에 반어법을 쓰거나..)에 자연어처리분석을 통해 판단근거를 뒷받침 할 수 있지 않을까. + 독후활동 자료 활용 아이디어2-1. 일기장 감성분석 (감정 기복이 심하거나, 감정을 아예 드러내지 않는 경우) 후속조사 1. 일기자료 Diary Study 참여자들에게 특정 질문에 대답하거나, 특정 형태를 갖춘 자기보고식 일기를 주기적으로 쓰게하여 자료를 수집하고, 이를 분석하는 연구. SNS나 조건부공개된 일기를 사용하는 연구는 있지만, 날것 그대로 학생의 \\'일기장\\'을 수집하여 진행한 연구는 없었음 이런 raw한 일기데이터를 사용한 연구는 발견할 수 없었음. 1 이렇게 \\'일기\\'를 정의하고 특정 목적에 맞게 쓰기행위를 강제한 연구는 쉽게 찾아볼 수 있다. (남경운 외 (2004). 과학일기쓰기가 과학영재의 과학에 관련된 정의적 특성에 미치는 영향. 한국과학교육학회, 24(6). 1272-1282.) 2. 학생관계 또는 학습자 유형별 모델링 학생간 관계 모델링 또는 집단대화에서 발화유형 구분 자연어처리를 통한 관계 모델링은 없는것으로 보임. (학생-교사, 직원간 등 검색해봄) 작년 Journal of LA에서 협력기반 문제해결 학습을 분석하기 위해서 집단대화분석(Group Communication Analysis)을 수행한 연구가 있으나 측정하는 measure가 참여, 사회적 영향력, 전반적인 반응성 등으로 자연어처리에서 기반한 feature가 아님(Nia M. M. Dowell, Yiwen Lin, Andrew Godfrey, & Christopher Brooks, 2020) 괜찮은 발견1. 파괴적 대화를 자동으로 발견해주는 시스템 (using LSTM) Park-LAK21-caemra_ready.pdf 4582.0KB 학습유형 이론을 받아들이고, 그것을 특정 맥락에 적용하는 연구 간호대 신입생의 학습유형이 인구통계학적 특성에 따라 영향 받는지 연구(Angelo D\\'Amore, Santhamma James, Eleanor K.L. Mitchell, 2012) 파키스탄의 교육학 학사생들 대상으로 설문조사를 하여 학습유형을 조사한 연구(Sani Nasir, Shahid Hussain Mughal, Amjad Ali Rind, 2021) 사우디의 학생과 교사를 대상으로 설문조사하여 학습유형 및 교수유형을 분류하여 그 차이를 보는 연구(Alaa Q. Alhourani, 2021)  아직 학습유형을 나눠서 이런 저런 맥락에 적용시켜보는걸 재밌어 하는 연구자들이 있다! 학습유형 이론 자체에 대해 재고하는 연구 Kolb\\'s experiencial learning mode  이론이 받는 비판; \"정말 구체적 경험과 개념의 추상화 두가지 축요인으로 깔끔직교하게 학습자가 나뉘나?\" (Carvajal. C. C., Gomez. C. X., Siu L.L., & Mauricio Briceno, 2021)  학습유형 자체가 수리적으로 엄밀하게 모델링 되었는지에 대한 확인 필요 3. 교사 보조  찾기 쉽지 않음.. 교사를 보조하기 위한 LMS의 dashboard 연구는 많은데 대부분 학업성취나 참여도 관련한 것으로 보임 4. 자동채점 채점기준이 뭐지?  어떻게 채점과정을 자동화하나? 결과물이 학생지도에 도움이 되는가? Project Essay Grader(PEG, 1996개발) 교사가 준 점수를 가장 근접하게 예측하는 요인 탐색  단어의 길이, 단어의 수, 쉼표 및 전치사의 개수 등을 수집할 필요성을 제안.  간접적인 측정방식이라는 한계. 이 메커니즘을 이해하면 평가대상자가 gaming 할 수 있음 LSA, LDA Intelligent Essay Assessor (IEA, 1999개발) LSA를 사용해서 답안 평가. 모델이 반드시 유사한 맥락을 가진 텍스트로부터 훈련 받아야하고(예. 생물 답안 채점하는 IEA모델을 사회 교과서로 학습 시키면 안됨), 모범답안과의 비교를 통해 평가 이슬기(2017) LDA를 수행하면 나오는 문서의 \\'응집성(coherence)\\'값을 활용하여 평가. 키워드 채점 강원석(2011). 서답형 문항의 질의유형을 6가지로 나누고, 키워드 채점.  ... 너무 많은 키워드 채점 방식. 논증문 채점 Ong. et. al.(2014).  논증문의 문장들을 1) 최근 연구, 2) 가설, 3) 주장, 4) 인용, 5) 지지, 6) 반박, 7) 해당없음의 7가지로 나눈 뒤에 각각에 따라 채점 알고리즘\"가설로 태그된 문장이 적어도 하나 이상 존재할 경우 1점\"을 적용 인간이 판단했을 때 \\'잘\\'쓴 에세이에 대해서는 유의한 평가 정확도를 보임. (못쓴 에세이는 제대로 평가하지 못함)  설령 이렇게 평가한게 인간의 채점값과 유사하더라도, 지도에 도움이 될만한 정보가 없음.  이만형(2021).  채점기준: 단일 논증 요소, 논증 클러스터, 과학적 주제, 발화 형태소 + n-gram Support Vector Machine(SVM), 의사결정나무, 랜덤포레스트를 활용  하지만,  1. 자동채점으로 나온 결과를 현장에서 얼마나 수용할 수 있을까? (예. 자동채점한 서술형 수행평가 점수가 내신에 반영된다면 학생과 학부모, 이를 활용하여 선발하는 대학이 내신을 신뢰할 수 있을까? )  2. 왜 석사 학위 논문으로만 나올까..? 5. 아직.. & 다음 과제 괜찮은 발견2. 교실 속 학생 위치데이터를 통한 소셜 다이나믹스 추적연구 LAK2021_Footprints_at_School.pdf 1269.2KB'},\n",
       " {'title': 'Discourse Analytics',\n",
       "  'day': 'March 30, 2021',\n",
       "  'people': '이재용 \\xad',\n",
       "  'link': 'https://dndrl.notion.site/Discourse-Analytics-e68b3affe1fa454fba2501895c24317d',\n",
       "  'content': '토의 주제 다음 1,2 중 하나를 선택해서 논의해주세요! 당신은 7초등학교 교사로서 매일 학생들의 일기를 살펴보면서 학생들의 성장과정을 이해하고 기록하고자 합니다. 당신은 일기의 내용 중 무엇을 중점적으로 보려고 하나요? 어떻게 시간에 따른 변화를 기록하고 시각화할 수 있을까요? 당신은 대학 교수로서 매주 학생들이 강의를 듣고 성찰한 내용을 살펴보면서 수업을 개선하고자 합니다. 학생들의 성찰 중 어떤 내용이 수업의 개선과 발전에 중요할까요? 그 내용을 어떻게 알 수 있을까요? 현지, 해린, 수정  토의 내용 해린  목적 : 학교 폭력 징조 파악   데이터 : 소외감에 대한 직접적인 언급 ( \"~랑 만\" 논다, 인사를 받아주지 않았다,) , 특정인의 이름, 부정적인 감정을 내포한 단어 (\"속상\"하다)    수정 : Discourse analysis에 해당하는 것 같다.  현지 : 공감한다, 또한 Discourse analytics를 위한 인스턴스로서 활용할 수 있겠다. 수정  Discourse analytics (유사도 분석 활용)  VS Discourse analysis (질적 연구의 담론 분석) 논의 제기   재용 & 유경 & 웅기 :  데이터의 양의 차이 / 실시간 성의 차이 / 자동화 / 활용 주체 (사람&기계) (Discourse analytics \"자동화\", \"수치적인 계산\" 강조 / 데이터의 양이 많기 때문) 주홍 준오 준오: (1) 초등학교 4-6학년 대상, 과학 경험에 대한 그림과 그에 대한 서술을 기록. (3년)  - 글씨체만으로도 학생의 발달 수준 파악 가능 (시간에  따라서도?). 문장의 완성도, 어절 수, 맞춤법 등, (2) 실제 경험상 학생이 교수자가 원하는 반응을 꾸며내는 현상이 많다. 학생들끼리 질문 주고받는거. 주홍 : (2) 지식의 형성, 구조화를 중점적으로 보고싶다. 지식의 구조를 트리로 그렸을 때 위계적 수업 내용적 이해 측면. (1) 배움공책  구체적인 것을 적는가, 지엽적인 것을 적는가. 배움에 대한 기록. 꾸며내는 반응 자체도 의미있음. 사실과 의견 사이의 비율로부터 이해수준을 추적할 수 있을듯. OCR인식률도 척도가 될듯 그룹원: 웅기, 지훈, 재용 토의 내용: 1. 일기 일기에서의 단어 사용과 문장 구성으로부터 학생의 작문수준/인지수준 파악 일기에서 단순한 문장만 쓰는 경우 (나는 ~~했다, 즐거웠다, 재미있었다 등) 복잡한 문장을 사용하는 경우  주제의 다양성: 하나의 글 안에서 얼마나 다양한 주제가 나오는가로부터 학생의 작문수준 파악 교우관계 파악: 친구 이름 언급 횟수를 바탕으로 학생들 사이의 관계망 파악 가정환경 파악: 가족에 대한 단어 언급 횟수와 긍/부정 정서를 바탕으로 가정의 분위기 파악 글씨체  문장의 길이? (글씨체가 엉망이면 문장이 짧다, 글씨체가 좋으면 문장이 길다) 유튜브 과학 영상 댓글 내용으로부터 사회적 상호작용 파악하는 연구  텍스트 네트워크 분석 그룹원 은서, 유경 토의 내용 일기에 드러나는 감정, 긍/부정 - 시간에 따른 변화를 기록, 어떤 시점에서 어떻게, 패턴   수업 개선- 수업에 대한 긍부정 평가. 키워드 분석. 인터뷰, 평가 분석, 성찰일지- 학습 이해 정도 평가..! 동시간대에 학생들의 수업 피드백을 수치화 하고 그래프로 나타낸 후 만족/비만족 비율을 분석한다면 그 수업에 대한 만족도평가가 직관적으로 실시될것 Latent semantic analysis(LSA) VS Latent Dirichlet allocation(LDA)  차이 물어보고 여기 댓글 달기 @권현지 출처: https://omicro03.medium.com/자연어처리-nlp-8일차-lda-f571b4da9d04 LSA : 단어 문서 행렬을 차원 축소하여 축소 차원에서 근접 단어들을 토픽으로 묶는다. LDA : 단어가 특정 토픽에 존재할 확률과 문서에 특정 토픽이 존재할 확률을 결합확률로 추정하여 토픽을 추출한다. 늦은 시간까지 활발히 참여해주셔서 감사합니다!  - 재용'},\n",
       " {'title': 'example of Theory-based approach: ENA',\n",
       "  'day': 'April 27, 2021',\n",
       "  'people': '성지훈 \\xad',\n",
       "  'link': 'https://dndrl.notion.site/example-of-Theory-based-approach-ENA-c36f11cf705a405bb145cd34c60efe6b',\n",
       "  'content': '1. Intro 1.1 Journal of Learning Analytics 에서 일었던 논쟁 1.2 경험나눔 2. Theory 2.1 Epistemic Frame Theory 2.2 Epistemic Network Analysis 3. Method 3.1 data 3.2 model 3.2.1 node, edge construction 3.2.2 positioning on x-y plane 4. Results 4.1 개인별, 개인간 분석 4.2 Summarize Network using centroid 5. Discussion 6. 부록 6.1 Expertise 6.2 Python Code 6.3 reading 7. discussion session 1. Intro 1.1 Journal of Learning Analytics 에서 일었던 논쟁 Williamson Shaffer, David Alyssa Wias 데이터만 충분하다고 모든 문제가 해결되지는 않는다.  \"이론 기반의 학습분석을 수행해야 한다!\" 1.2 경험나눔 Discourse Analytics 에서 공유드리기로 했던 결과 잠시 소개 \"그래서 그 결과가 뭐 어쨌다고?\" 2. Theory 2.1 Epistemic Frame Theory (Shaffer, 2004, 2006, 2007, 2012) <사회적 필요성> 전문가에게 수용적사고, 비판적사고 뿐만 아니라 융합적 사고가 요구됨 전문가가 단순히 많은 지식을 아는 것이 아니라, 그 앎을 실천할 수 있는 과정지식 즉 기술이 있어야하고, 이를 전체적으로 아우르는 적절한 태도를 갖출 것이 요구됨  <의도> 인식론적 틀에 대한 이론으로 실천 공동체(community of practice) 내에서 생각, 행동, 존재하는 방식을 모델링하기 위함 예. \"대학원의 학문 공동체에서는 연구 결과물을 만들어내기 위해 개인과 집단의 지식(K), 기술(S), 가치(V)를 어떻게 사용하는가\" <분석방법> 실천 공동체에 들어갔는지 확인하는 방법은 그 사람이 하는 말, 즉 \\'담화\\'를 보는 것 담화에는 그 사람이 말하고, 듣고, 상호작용하고, 느낀 것 등이 포착될 수 있기 때문임 전제: 전문가일수록 복잡한 인지구조를 가지고 있고, 담화를 통해 이를 모델링할 수 있다. 2.2 Epistemic Network Analysis Epistemic Network Analysis Epistemic Network Analysis (ENA) is a method for identifying and quantifying connections among elements in coded data and representing them in dynamic network models. A key feature of the ENA tool is that it enables researchers to compare different networks, both visually and through summary statistics that reflect the weighted structure of connections. https://www.epistemicnetwork.org/ Epistemic frame theory을 구현하는 방법 중 하나: Epistemic Network Analysis (이하, ENA) 우리가 보고 싶은 것들지식, 기술, 인식의 공출현 빈도를 통해 담화 속 epistemic frame을 관측 ENA 결과물의 예시. 지식, 기술, 인식 등이 얽혀있는 모습 3. Method  3.1 data <Epistemic Game> 학생이 전문가가 하듯 생각하고 행동할 수 있도록 전문가의 실제 업무를 체험해 볼 수 있는 도구 Land Science https://landsciencetech.com/ 작은 팀을 이루어 여러 이해관계자의 요구를 고려하여 도시 구획을 새롭게 짜는 과제 수행 이를 위해 학생들은 문헌리뷰, 설문조사를 비롯해 GIS 프로그램 기술을 사용하는 등 다각도로 문제해결을 위해 접근해야함  지식, 기술 + 협업 등(soft skill) 311명의 학생 (대학생 7집단, 고등학생 8집단)의 대화기록 44,964개 추출 3.2 model  본 페이퍼에서 가장 중요한 부분이 아닐까 싶습니다. 연구 타당도를 높이기 위해 전통적인 영역의 선행연구들을 접목할 수 있을 것 같아요. 3.2.1 node, edge construction <Node> 우리가 보고싶은 \\'코드\\'질적연구에서 코딩하는 것과 유사하다고 이해 (본 연구에서 아쉬운 부분, 아래 그림 속 각 5개도 \\'codes\\'라고 부르는데, 살펴보면 \\'S.zoning.codes\\' \\'K.zoning.codes\\'와 같이 다시 code 명칭이 재사용됨 ) 본 연구에서 사용한 코드는 크게 Knowledge(K), Skill(S), Identity(I), Epistemology(E)로 나뉘며 총 24개 사용됨(Appendix 참고) 노드 구성 예시1. Jorge는 환경에 미치는 영향과 저소득 주택 이슈에 대해 설명했다 노드 구성 예시2. Natalie(8)가 구역 지정 문제가 지닌 충돌지점을 일반적으로 이야기하자, Depesh(10)는 이를 구체화하여 공용 공간의 확장에 대해 이야기하였다 <Edge> 코드들이 한 구역(\"Stanza\") 내에 동시에 출현할 때마다 edge의 가중치가 증가하는 구조 Stanza란, 시(poem)에서 몇 개의 행이 묶여 구성된 \\'연\\'을 의미 3개의 Stanza로 구성된 시 1 엣지 구성 예시. 한 stanza 내에 공출현한 code의 횟수를 표기한 인접행력 3.2.2 positioning on x-y plane 기본적인 네트워크 분석에서 도출되는 네트워크 그림에는 \\'관계\\'만 있고 위치는 없다는 한계점 그래서 파이썬 모듈(NetworkX)로 그래프를 그릴 때마다 노드의 위치가 조금씩 바뀌거나 노드의 위치를 특정할 수 있는 옵션이 존재함  ENA는 위치 정보를 맵핑할 수 있다는 장점 <vector> 인접행렬의 우상단 영역을 하나의 벡터로 삼음 10차원의 벡터 ENA는 결과물을 활용해 개인간 비교를 할 수 있다는 장점이 있는데, 이를 위해서는 담화의 \\'길이\\'가 분석결과에 미치는 영향을 없애야함  stanza의 길이를 활용해 벡터 값을 정규화함 <Single Value Decompostion> 코드 사이의 연결 갯수만큼 벡터의 차원이 결정되는 한계   representation accuracy는 좋아지겠지만, 시각화에 어려움 이를 해결하기 위해 2차원으로 데이터를 요약하는 기법 사용(truncated SVD) 4. Results 4.1 개인별, 개인간 분석 <입문자> 특히 \\'K\\'로 시작하는 노드가 많고, 그것들 사이의 연결도 두드러지는 학생으로 지식을 \\'아는\\' 상태라고 해석 <숙련자> 앞선 입문자에 비해 좀 더 많은 Skill과 Epistemology를 가지고 있음을 확인할 수 있고, 그것들 사이의 연결도 심화됨  개인간 비교분석이 용이해진 이유  앞서 노드의 위치를 특정하는 과정을 거쳤기 때문  그럼에도 불구하고, 시각적 분석이 가진 한계. \"만약 노드가 100개, 1000개...?\" 4.2 Summarize Network using centroid 개인 네트워크를 대표할 수 있는 점으로 네트워크 내 노드들의 무게중심 사용  개별 네트워크를 하나의 점으로 축약 가능 무게중심을 사용해 네트워크를 요약하는 과정이 잘 이해가 되지 않는 분들을 위한 추가 설명 <네트워크를 머지한 결과> 여러 네트워크를 요약한 그림. 여기서 각 노드들은 각각의 학생을 대표한다. 회색글씨로 \\'Advanced Urban Planning Thinking\\' \\'Basic Professional Skills\\' 등과 같이 사분면 별 특성을 명명할 수 있어진다 <분석 예1. 노드별 인구통계학적 특성에 따라 점 색깔을 달리하여 분포를 비교> \"학생의 인구통계학적 특성에 따라 어떻게 다를까?\" Fig15.3 속 검은색 점은 대학생, 회색 점은 고등학생임 대학생의 평균은 2사분면의 box에 위치하였고, 고등학생의 평균은 4사분면의 box에 위치  대학생이 좀 더 발전된 도시계획 사고를 할 수 있고, 고등학생이 좀 더 재개발 문제의 지식을 가지고 있구나  성별에 따라? SES에 따라?  <분석 예2. 네트워크를 투사한 그림  개인별 네트워크> \"네트워크를 투사한 그림(하단)을 보면 학생B과 학생C가 너무 가까운데, 실제로 그런지 학생B와 학생C의 개인네트워크를 봐볼까?\" (출처: Appendix 속 논문)  네트워크 분석결과를 타당화할 수 있는 근거로 사용가능 본 연구 전체 데이터 핸들링 프로세스가 헷갈리시는 분들을 위한 추가설명 5. Discussion  domain specific knowledge에 기반하지 않은 분석이 가능한가?  \"학습은 개인의 실제 수행에서 드러나는 지식, 기술 사이의 연결을 통해 특성지어질 수 있다\"   Epistemic Network Analysis 연구에서 말하진 않았지만 실제 수행시 고려해야할 점 6. 부록 6.1 Expertise Expertise  6.2 Python Code  지금까지 학습분석 스터디에서 봤던 페이퍼는 실제 따라하라면 장비가 필요하고.. 분석이 까다로워보였는데, 네트워크 분석 코드는 가지고 있는게 있어 공유드립니다. 6.3 reading David W S & Ruis (2017).pdf 825.8KB Handsbook of LA 원문 David W. S., Wesley, C., Ruis(2016).pdf 5070.7KB 참고하면 좋을 자료. 동일 저자라 내용이 매우 흡사하지만 설명 좋음 1. Intro 1.1 Journal of Learning Analytics 에서 일었던 논쟁 1.2 경험나눔 2. Theory 2.1 Epistemic Frame Theory 2.2 Epistemic Network Analysis 3. Method 3.1 data 3.2 model 3.2.1 node, edge construction 3.2.2 positioning on x-y plane 4. Results 4.1 개인별, 개인간 분석 4.2 Summarize Network using centroid 5. Discussion 6. 부록 6.1 Expertise 6.2 Python Code 6.3 reading 7. discussion session 7. discussion session 지금까지 우리 스터디는 주차별 주제에 대하여 심도 깊은 논의와 각자의 생각을 자유롭게 뻗치는 긍정적이고 밝은 시간을 가져왔습니다. 오늘은 조금 방향을 전환하여, 그 동안 \\'학습분석(Learning Analytics)\\'에 대해 아쉬웠던 점들이 있는지 나눠보며, 아래의 두가지 활동을 하고자 합니다. 오늘 주제인 ENA 또는 theory-based approach에 대해 간략한 소감이나 의견을 나눠보고, 지금까지 우리 스터디에서 발표된 페이퍼 중 Best Paper와 Worst Paper를 선정하고 그 이유를 설명하기 <이웅기, 황준오, 권현지>  1번 주제 준오 : 1) 이론의 중요성을 강조했는데, 기존보다 이론적인 접근 부분은 크게 발견하지 못했다.            2) 네트웍으로 나타낸 것 재미있었다. + 표 15-2. 만들다 만 것 같아 이따 이야기를 해보겠다.  게임이 학교다 https://www.aladin.co.kr/shop/wproduct.aspx?ItemId=7228832 웅기 : 학습 분석이라고 해야할까? 라는 의문이 듦, 데이터를 다룬다는 측면에서 \"속도\"도 중요  이렇게 연구자가 모두 코딩하는 작업  실전에서 적용하려면 연구자들이 전문가 모두 불러서 이 작업해야하는 것이면 전통적인 네트워크 분석이랑 어떤 점이 다른 것일까? 테크닉적인 부분도 크게 유의미한 차이를 발견하지는 못함. 실용적이지 못하다는 느낌을 받음 현지 : Domain specific knowledge 기반하지 않은 분석이 가능한가? 예) 가능하긴 하지만, 해석과 이해의 질 차이가 있겠다.   실제 교육 현장에서 교육적인 도메인이 없는 분도 로그 데이터로 학습 패턴을 발견할 수 있음  다만, 심리적인 구인 등에 대해서 제대로 이해하지 못하는 경우도 있음  웅기쌤) 어떻게 보면 domain specific knowledge 기반의 유무 > \"속도\" 차이 2번 주제 worst  용두사미, specific하기보다는 약간 두루뭉술한 발제는 영양가가 떨어지는 것 같다.  (구체적인 예시가 없고, 너무 포괄적이면)  best  chapter 6 : 포괄적으로 최대한 다양한 내용 소개  Explanatory model : 다양하고 구체적인 사례 소개 발제자의 학습내용 전달력(기술)의 관점에서, 이재용쌤, 발화분석 : 발제자의 효과적인 전달력 <라수정, 이은서, 엄주홍> 1번 주제 수정 - 김용란 교수님 수업 - 빅데이터 분석 방법론을 안 좋하시는 이유 - 연구자는 가설이나 이론을 갖고 있어야 한다. 이론이 세상을 보는 하나의 관점이라고 본다면, 결국에는 모두 theory-based approach 일 것.  - 글에서 코딩을 한다 = 인터뷰에서 공통된 테마를 뽑아서 노드를 만드는 작업 - 연구자가 갖고 있는 주관적 경험, 관점, 세계관이 필연적으로 반영됨  - 양적 연구도 질적 요소를 볼 수 밖에 없다.  데이터의 맥락      양적 조사 결과와 문맥을 연결하는 보편적 방법: 회기 분석을 해서 나온 결과가 왜 negative 인지, positive 인지 판단하려면 해당 국가의 정치적, 역사적 상황을 봐야 함  - 전문성과 역량      전문성/숙련도: 그 영역에서의 능숙함      역량: 한 개의 직무를 수행하기 위해 필요한 것  주홍  - 이론의 의미를 어떻게 파악하느냐에 따라서 다를 것 같다. 이론은 변수로 이루어진 인과관계.  - theory-based approach 는 단순히 결론을 내기보다는 추후 실천적 적용과 관련. 은서  - 어느정도 연구자의 관점을 기반으로 해서 데이터를 갖고 오는 것.  - 교육 심리 - 질적 & 양적 연구를 많이함.  2번 주제 <빈, 지훈, 윤희> 1번 빈쌤: 뭐가 그렇게 특별한건가 윤희쌤: 다른 분야에도 적용해보고 싶다.  e.g. 프로파일, 인공지능과 사람이 어떻게 협력하는가 기본적인 인터뷰 구조는 질문-답 구조 이므로, 질문별 답변을 하나의 Stanza 2번 Best 윤희: 협력학습 다중양식 분석(Multimodal LA) 논문 결과가 좋았음. 전문가의 참여관찰 타당도가 보장됨 Cukurova, M., Luckin, R., Milln, E., & Mavrikis, M. (2018). The NISPI framework: Analysing collaborative problem-solving from students\\' physical interactions. Computers & Education, 116, 93109. https://doi.org/10.1016/j.compedu.2017.08.007 빈: 대시보드연구의 높은 응용 가능성 Worst 감정을 드러내는 인공지능 튜터 의도는 알겠으나.. 인공지능이 웃고 있는 것을 보는게 너무 이질적이었음 6. Going Beyond Better Data Prediction to Create Explanatory Models of Educational Data  감성분석 이상함 <재용, 혜원> 재용 : 지금까지의 데이터 분석 등에서 이론적 기반이 없고 결과만 보여주는 사례들 위주로 보다가 전체 과정을 살펴볼 수 있는 연구라고 매우 흥미로웠음. 질적-양적 연구를 연결하는 느낌이라 신기했음. 혜원 : 이론적 기반이 있어야 이러한 분석이 의미가 있을 것. (질적연구 강좌  연구자의 직관이 매우 중요함) 재용 : 이론적 기반이 없는, 아직 없는 새로운 분야 같은 경우에서는 역으로 분석으로부터 이론을 창출해낼 수 있지 않을까 생각함. ex) ITS에서 적절한 난이도의 문제를 처방할 때는 이론보다 데이터의 패턴에 의존 과연 인간은 이론에 의존하지 않고 관찰, 분석할 수 있는가? 구성주의 - 관찰의 이론 의존성 (사람마다 렌즈 색이 다르다. 빨간 렌즈로 보면 빨갛게, 파란 렌즈로 보면 파랗게 보인다)'},\n",
       " {'title': '16: Multilevel Analysis of Activity and Actors in Heterogeneous Networked Learning Environments',\n",
       "  'day': 'May 4, 2021',\n",
       "  'people': 'H\\nHaewon Jung',\n",
       "  'link': 'https://dndrl.notion.site/16-Multilevel-Analysis-of-Activity-and-Actors-in-Heterogeneous-Networked-Learning-Environments-94cb139b90a74fd184fd0ef5283bdd31',\n",
       "  'content': \"배경 Motivation TRACE 분석 프레임워크 About transcript Contingency graph Uptake graph session socigrams associogram Examples of analytic options Identifying Sessions of Interaction Tracing Influences Between Sessions Identifying Actor Roles and Tracking Change in Participation Over Time Identifying Relationships Between Actors Identifying Groups or Communities of Learners Across Sessions SUMMARY AND RELATED WORK SNA가 어떻게 활용될 수 있을까?  https://youtu.be/HneyUMIcS_0 배경 오늘날의 학습은 데이터가 여기저기 분산되어 동시적으로 발생. 학습활동의 trace는 다양한 log에 분산되어 있을 수도 있고, 이벤트가 기록되는 양상은 분석하고자 하는 요구와 잘 맞지 않을 수도 있음. 이 챕터는 Trace Framework : 다양한 디지털 환경에서의 참여자들의 상호작용을 분석하기 위한 프레임워크를 소개하고자 함.  이 trace 프레임워크에서는 1) 사회기술적 시스템에서의 상호작용 모델링, 2) 모델들의 위계, 3)그리고 이 표현들을 각기 다른 수준에 맞게 변형하는 계산적 방법을 포함함.  디지털 환경에서 참여자들의 상호작용 데이터를 분석하고, 어떤 일이 일어나고 있는지를 더 높은 수준에서 기술하고자 할 때 활용 가능. 예를 들어 , 세션간 상호작용을 확인하고, 세션간 학습자 그룹을 판별하고, 주요 행위자들의 상호작용을 특징짓고, 행위자간의 관계를 식별할 수 있음 이 Trace framework라는거는 원래 Discovery oriented reserach(Mahrer, 1988)에 사용이 되던 것이나 이 외에도 전통적인 가설검증 연구에서 사용됨.  Discovery oriented research  Sociotechnical system Motivation 이 Trace 이론은 Web.2.0의 등장 및 교육적 적용과 그리고 MOOCs와 함께 함 - 학습이 가상 공간과 시간에 분산되게 되고, 학습자가 여러 환경에 참여하게 됨 Networed Learning Environment  네트워크 환경에서의 trace는 스레드 토의, 동시적 채팅, 위키, 마이크로 블로깅, 화이트보드, 프로필, 자료 공유 등으로 분산되어 있고, 각기 다른 형태와 위치에 저장되고, 학습자에게는 하나의 활동이었던 것들이 나뉘어져 있게 됨. 데이터들을 단일 transcript로 만드는 통합 작업이 필요하고, 각각의 이벤트가 기록된 단위도 다르기 때문에 다른 수준에 대한 번역이 필요함. (미디어 수준의 이벤트는 활동, 사람들, 그리고 미디어 간의 관계를 분석하기엔 적절치 못함) Multilevel analysis 사회적 환경에서 학습이 어떻게 일어나는가에 관한 이론들은 학습의 주체에 따라, 그리고 학습의 과정에 따라 다양함. 학습은 이러한 다양한 행위성 수준과 모든 절차에서 동시적으로 일어나고, 잠재적으로 다양한 시간 단위에서 일어남. 이 다수준 분석이라는 접근도 수많은 개인의 활동들이 모이고, 서로에게 영향을 주고, 다른 인공물로부터 중재되고, 행위자들간의 관계나, 커뮤니티 구조를 이해하고자 하는 방법론적 시사점. 등에서 사회적 규준들이 생긴다는 이론적 입장에서 기반. 이 모든 다양한 내용들을 이해하려면 개인수준, 집단적 수준 등의 다양한 자료와 여러가지 분석 방법 및 이론들의 조합이 필요. TRACE 분석 프레임워크 활동 로그들이 하나의 추상적 이벤트 트랜스크립트로 병합되고, 후에 상호작용과 관계 분석을 위한 표현들이 되는 것. 1 The analytic hierarchy 상호작용을 모델링하는 그래프 3가지 Contingency graph :  어떻게 이벤트(채팅, 메시지 게시 등)이 이전의 이벤트와 관계되는지를 시간적으로 그리고 공간적 근접성, 그리고 내용을 통해 말해줌 Uptake graph : Contingency graph를 보다 추상화한 것. 짝이 되는 이벤트 사이에 다양한 contingency들을 종합해서 이전의 활동을 어떻게 이어나가고 있는지 보여줌. Session graph : Uptake graph의 추상화. uptake graph에서 얻어진 세션간 관계를 이용해서 spatio-temporal 세션으로 이벤트들을 군집화함.  Sociogram과 associogram : 행위자 관계는 상호작용 그래프에서 추상화되어 socigram이 됨. 그리고 행위자-인공물간의 관계는 associgram. 1 About transcript Trace는 system specific 한 방법을 사용해서 이벤트 스트림으로 분석됨(16.1 b). 이 system specific 한 표현을 추상적 transcript로 변환하면서 파편화된 기록을 하나의 분석물로 통합하는 것.  Contingency graph 이벤트 사이의 Contingency를 계산하여 활동들이 상호간에 어떻게 관계되어있는지를 모델링하기 위한 과정. 상호작용의 잠재적 증거가 되는 활동들간의 관계를 파악하는 것.  배경 Contingency의 종류 Contingency graph의 개념 Uptake graph Contingency 그래프에서 보았던 edge들을 단일 edge로 만들어야하는 이유 대부분의 그래프 알고리즘들은 최대 한개의 edge만 받아들이기 때문 주된 관심이 uptake이기 때문. contingency은 uptake의 집합적 증거로서만 관심이 있는 것이기 때문에 contingency를 추상화나는 것임.  uptake : 두 이벤트 사이의 관계인데, 활동이 이전 활동의 어떤 측면을 중요한 것으로 받아들여 활동을 이어나가는 것 이는 상호작용의 기본적인 빌딩 블록이 됨으로써, 어떻게 학습이 상호작용과 함께 일어나는지를 분석하는 가장 기본적인 유닛이 됨. 이는 매체 특정적이지 않고, 매체 간에도 일어날 수 있음.  예시 : 채팅과 논의에 대한 응답, 혹은 이전의 행위자의 기여에 대해 반응하는 여러 다른 것. 16.1 uptake 그래프는 이벤트들을 연결한다는 점에서 contingency 그래프와 비슷하지만 여러가지 다양한 타입의 contingency 뭉치를 모아서 하나의 단일 그래프 모서리로 만든다는 점이 다름. contingency 들에 따라 가중치가 부여되고, 적은 가중치 뭉치들은 제거되며 만들어지는 것. 가중치 session Session : 이벤트의 군집이 시공간적 근접성에 따라 계산된 것.  세션 간 분석을 할 때는, 각 세션들을 단일하게 뭉치되 세션간 uptake 연결은 그대로 둠. 이 세션간 연결들은 한 세션에서 다른 세션으로의 시간과 공간을 넘나드는 잠재적 영향력을 가리킴. 세션 내 분석을 위해서는, 각 세션을 위한 uptake 그래프는 고립되고, 여기서부터는 다양한 방법이 적용될 수 있음. 예를 들면, 그룹의 성취가 발달하는 걸 이해하기 위해서 상호작용의 연속체구조를 micro-anaylsis를 하거나 , 그래프 구조 분석(cluster detection이라거나 그래프 모티프 분석 등)을 적용할 수도 있음.  socigrams 위의  uptake graph를 행위자-행위자 sociogram으로 만들수 있음(16.1d)  이런 sociogram은 전통적 사회적 네트워크 분석 방법으로 분석될 수도 있긴 함. (degree or eigenvector centrarlity) 그러나 조금 더 관계의 증거를 엄격히 제시하기 위해서 가중치를 달리함. ( 근접성을 낮추고, 직접적인 행위자를 지칭하는 것을 강조).  행위자 간에 연결 강도는 그들의 기여의 uptake의 강도의 총합.  associogram Associogram은 행위자가 어떤 객체를 통해 서로 상호작용했는지를 보여줌  화살표는 역순으로 읽기  사용되는 예 :  Finding Interaction Patterns (다이얼로그의 증거가 되는 라운드 트립) Characterizing Mediation Characterizing Mediated Relationships 1 아래 associogram은 두 행위자 간에 비대칭적인 상호작용을 보여줌. 두 행위자 간에 단일 연결로 구성되는 sociogrm은 이러한 정보를 알기 힘듦.  상호작용이 직접적으로 표현되지는 않더라도, associgram은 상호작용 수준의 분석과의 연결다리를 제공함.  Examples of analytic options 프레임워크의 기술적 구현 Identifying Sessions of Interaction 아래의 세션 간 uptake 그래프는 하루동안 학교 공간 안에서 일어나는 활동을 시각화한 것. 이런 상황에서의 세션 구분은 subgraph 감지나 커뮤니티 알고리즘(modularity partitioning 같은) 등을 사용하지 않고도 가능.  각 공간에서 비활동이 감지가 된다면(세션간 연결이 약한 부분) 마침표를 찍고 세션으로 구분할 수 있음.  Tracing Influences Between Sessions 아래 예시를 보면 세션간 uptake 관계로 가중치가 부여되어 있음.  Identifying Actor Roles and Tracking Change in Participation Over Time 아래 그림은 755세션에서의 행위자 활동에 대한 요약을 표현하는 sociogram. 노드의 크기는 in-degree에 따라 가중치가 부여된 것이며, 아래 그림에 따르면 MT가 가장 중심성이 높은 행위자임. 가장 높은 기여를 하고 이고, 다른 이들에의해서 가장 많이 받아들여지며, 다른 사람들의 기여를 많이 받아들이고 있음. 그리고 다른 사람들을 중재하고 있음(Betweeness). 별로 기여도가 높지 않은 다른 사람들조차 MT를 통해서 중심성을 갖게 됨. AP 역시 MT만큼 기여의 수는 많지만 중심성이 떨어짐.  sociogram은 각각의 기여를 세는 것이상으로 정보를 더해주는건데, 왜냐면 어떤 sociometirc들은 그들이 표현하는 행위자 노드의 네트워크 맥락에 되게 민감하기 때문임.  보다 긴 시간 단위에서 분석하게 되면 행위자의 역할이 어떻게 발달하는지를 추적할 수 있음. (아래그림) 피상적으로는 이런 분석들은 다른 socimetirc 분석이랑 비슷해보일 수 있은 trace framekwork의 장점은  자동화된 상호작용 분석에서 잠재적인 tie들을 얻어낼 수 있기 때문. 노동이 덜해지고, 또 직접적으로 관계가 있는 것에만 의존하지도 않음(unlike 설문과 친구 link) Identifying Relationships Between Actors 이 trace framework는  여러 contingency들을 모아서 행위자들 사이의 tie를 도출해냄. contingency들은 기여들의 관계에 대한 질적 본질을 암시해줄 수 있음 (시공간적으로 가깝다거나, 같은 단어를 쓴다거나 하는 것).  Identifying Groups or Communities of Learners Across Sessions 네트워크 분석 문헌들에서는, 'community dection'이란건 그래프-이론적 정의 하에 서로 연결된 노드들의 하위 그래프를 찾아내는 걸 말함.(사회학적 개념은 아니지만, 전자를 후자에 대한 증거로 쓸 수 있음) 좋은 그래프-이론적 정의는 개인이 사회학적 커뮤니티에서 더욱 가깝게 서로에게 연결되어 있다는 직관을(커뮤니티 외의 사람들과 보다) 잘 캡쳐하는 것. modularity 메트릭에 기반한 알고리즘이 널리 쓰임. 모듈러리티 파티션 SUMMARY AND RELATED WORK Suthers-etal-ijCSCL-2010.pdf 566.1KB Suthers-Rosen-LAK-2011-Final.pdf 390.9KB Suthers-etal-HICSS-2013.pdf 1921.7KB suthers(2015) from contingencies to network-level phenom.pdf 1529.1KB\"},\n",
       " {'title': '17. Data Mining Large-Scale Formative Writing\\n1',\n",
       "  'day': 'May 11, 2021',\n",
       "  'people': 'Juhong Eom',\n",
       "  'link': 'https://dndrl.notion.site/17-Data-Mining-Large-Scale-Formative-Writing-1ebf472df93f49c5b8602512d0f7c289',\n",
       "  'content': '시작하기 전에  전체 매핑 Map of LA Handbook Last modified by Juhong Eom 10 months ago docs.google.com 2 파일 사본 만들기  이 글의 구조  학습 분석과 쓰기 교육   쓰기 행위 목적  특징  과정: 형성적 쓰기  과정중심 쓰기 교육적 관점   쓰기 교육의 중심: 피드백을 동반한 반복 연습  학습 분석과 쓰기 교육  데이터의 특징  연구의 용이성 선행 연구 사용한 도구  가능한 연구들 사용한 도구 WriteToLearn 사용한 데이터  text data, log data  분석의 측면   디자인 영역  교육학 영역  이외 분석 결과  디자인 영역  Q) 쓰기-피드백-고쳐쓰기의 단계가 쓰기 능력 향상에 효과적인가?  A) 그렇다 세부 내용 교육 영역  Q) 고쳐쓰기에 사용하는 적절한 시간은 얼마인가?  A) 25분 내외 세부 내용 Q) 학습자의 쓰기 수행 과정을 모델링할 수 있는가? 할 수 있다면, 어떤 의미인가? A) 선형 혼합 모형. 시스템과 학습자 사이의 상호작용의 다양한 측면을 보여준다. 세부 내용 Q) 쓰기 주제의 난이도를 각 학습자에게 맞게 설정해주는 모델을 만들 수 있는가?  A) 학년별 모델  세부 내용 이외  Q) 대량의 데이터셋으로 모델링할 때는 어떤 것을 고려해야 하는가? A) 분석의 목적  세부 내용 시사점  형성적 글쓰기 시스템에서의 데이터 마이닝  주안점: 학생의 성장을 위해 취해야할 조치 결정  시사점   본 연구는 지식에 대한 평가가 아닌 역량에 대한 평가를 다루고 있습니다.  그 발달이나 수행 과정을 분석해보고 싶은 교과 영역이나 역량이 있나요?  어떤 방식이나 도구를 활용해서 분석해보면 좋을까요?   이처럼 데이터 마이닝을 활용한 주관식 및 서술형의 평가방식을 실제 교과나 영역에 적용한다면, 어떤 교과나 영역에서 활용해보고 싶으신가요? 그리고 그 활용은 어떤 의미가 있을까요? (대입 시험과 같은 특정 시험의 형태도 좋아요!) <참고> .pdf 4583.2KB          .pdf 31941.5KB 1 <이빈, 웅기, 해린, 은서> 웅기: 한국어 형성적 글쓰기 AES가 제대로 작동하는지 모르겠음, 일기 해린: 일기는 정서적 영역이라 우려됨 은서: 독서록은 명확함 이빈: 아직 수준이 사람을 대체할 수 있을 정도인지 의문이든다. 해린: 자동화 채점에 의심을 품는 경우도 있음 은서: 과학적 글쓰기, 사회과에서 역사쪽 평가 시 인과관계, 시간적 순서 등 웅기: 감정적 글쓰기 해린: 국어, gpt2 <용현, 영훈, 혜원> 용현 : 과연 어느정도로 교정을 해줄 수 있는지 의문이 든다. 점수체계로 간접적으로 표현하는 것 같은데 얼마나 교정적 피드백이 될지, 또 이 점수체계가 정확하다면 학생들의 쓰기 능력에 대한 예측이 가능해야할 것 같음.  쓰기향상에 도움이 되었던 부분이 문법등의 부분은 조금 미미한 영향이었던 것이 흥미로웠음.  영훈 : 한국교육과정평가원에서 자동채점프로그램 개발한다는 이야기를 들음. 만족스럽지 않았떤 브리핑이었던 이유는 어떤 매커니즘을 활용하는지를 확인하고 싶었음.  교과의 영역에서는 인문학 위주의 영역 혹은 사회/과학 같은 영역에서 사용도될 수 있을 것이라고 생각함.  정규분포를 벗어나는 답변(창의성)에 대해서는 어떻게 채점하는지 의문이다.  혜원 : 아동발달의 과정에서 의사소통 능력을 볼 수 있으면 좋을 것 같다. 의미론적으로 확실하게 평가해줄 수 있다는 전제가 필요. 말하기 수행평가가 사람의 채점이 어려운 부분이 있는데 이런 부분을 보완해줄 수 있는 좋은 도구가 될 수 있으리라 기대. 영훈 : 다만, 의사소통 중 하나인 상호작용에 대한 고려가 점수 체계에 포함된다는 점이 어렵게 만들 수 있을 것 같다. 용현 : 바둑같은 경우에는 인간의 입장에서는 조금 틀린 것인데 인공지능은 매우 틀린 것으로 판단하는 경우도 있음. 하지만 쓰기의 경우에는 그런식으로 정답을 제공하는 것이 최선의 방법같은 것이 아니기 때문에 조금 다른 것 같음.(ex. 인간/기계 판단하는 가우시안 노이즈) <주홍, 유경, 지영> 유경:  *뉴욕대 연구   - 프레젠테이션 역량 - 영상을 찍어서 자세, 음성 크기, 발음 정확도 - 그에 대한 형성적 피드백 제공   - 협력 역량 - 가운데에 카메라를 두고 네트워크 분석, 학생의 협력 역량  지영:   - 문화적 측면도 고려하고 연구할만할 듯   Eg) 협력 역량- 눈마주치기  - 교사의 자기 평가에 활용 - 방법의 효과성 등 - 업무의 효과성, 만족도, 자기효능감 증가   - 생활 지도 eg) 발표 역량 - 소심한 아이  주홍: 창의성   - 학생의 성향에 따라서 어떤 질문을 해야 창의성을 촉진시킬 수 있을까  - 오픈 포트폴리오를 바탕으로한 분석과 연구   2.  유경: 신입사원 들어오면 멘토-멘티 제도, 팀 안에서 기술을 배움. 배운 내용을 보고서 형태로 제출, 그것을 평가. 나름대로 같은 기준을 가지고 평가하기가 어려움.   ~ 충실도, 현장의 적용, 내용 지식 등의 큰 기준을 삼아 봄   ~ PPT, 텍스트 형태 지영: 과밀 학급 - 확인에 너무 시간이 오래 걸리니 검사 자체를 하지 않음. 과밀학급인 경우에는 모든 과목!  - 6학년 국어 서술형 평가. 글쓰기도 수준이 생기고, 편차가 크고, 개별화된 피드백이 필요한 시기.  주홍: 수학 - 문제 풀이 과정. 표현 능력이 부족한 건지, 이해가 부족한 건지. 객관식 평가의 한계 고려.   - 지영: 이해는 했는데 말을 못하는 경우.  http://wai.best/ 과학,사회교과 인공지능을 활용한 웹기반 자동평가(Web-based Automated Assessment using Artificial Intelligence)'},\n",
       " {'title': '18. Diverse Big Data and Randomized Field Experiments in MOOCs',\n",
       "  'day': 'May 18, 2021',\n",
       "  'people': 'UNGGI LEE',\n",
       "  'link': 'https://dndrl.notion.site/18-Diverse-Big-Data-and-Randomized-Field-Experiments-in-MOOCs-5513f9a50d7c45f88ad9dcd2191609df',\n",
       "  'content': '개요 The Past And Present of MOOCs 1. 묵의 개념(Siemens, 2013) 2. MOOC의 침체 3. MOOC의 노력 Enriching Theory and Practice with Diverse Big Data in Education 전통적인 교육학 연구 MOOC의 학습자 수와 특성 MOOC의 데이터 수집 이질집단 학습자들에게 접근하면서 얻을 수 있는 장점 Replication 연구에서 MOOC의 장점 문화적 다양성 Current Research that Leverages Diverse Big Data in MOOCs 최근 연구 다양성을 증진시키기 위한 연구 Testing Theory And Evaluating Educational Practices Using Online Field Experiments Three Streams of Published Experimental Research in MOOCs 1. 코스 결과를 향상시키기 위한 작은 격려나 넛지 2. 코스 콘텐츠와 구조에 대한 이론 기반 변경 3. 실제 맥락에서 일반적인 이론을 실험 Methodological Considerations for Randomized Field Experiments in MOOCs 많은 연구들이 중요한 결과를 도출하지 못함  MOOC 데이터가 결과 측정 과정에서 높은 분산을 가지고 있기 때문임  데이터의 크기가 커지면서, 노이즈가 많아짐  공분산으로 인해 Type 1 에러(false positives)가 발생할 가능성이 높아짐  따라서 연구자가 기대되지 않은 분산을 간과한다면, 연구에서 중요한 발견을 할 수 없게 됨  해결방법: replication, pre-registration, use of Bayesian alternatives to frequentist hypothesis testing(Kruschke, 2013)  robust!! MOOC 연구에서 중요한 것은 실험을 통한 학습과 반복적으로 더 좋은 학습 경험을 제공하는 것이 목표 - 동일집단에 대해서 실험을 반복하며 수업을 개선하기보단, 반복적으로 다양하게 접근하는 것은 짧은 시간에 효과성을 판단하기에 유리함  이질 집단에 대해서 다양한 교육적 이론을 실험하고 이론을 정교화하고 실천할 수 있음 Williams et al(2014): MOOClets에서 MOOCs의 적응적 실험에 대한 첫 개념을 제안함  논의할 문제  1. MOOC을 사용한 경험에 대해서 이야기해보고, MOOC을 사용했을때 불편했던 경험을 나누어봅시다. 또한 MOOC을 직접 디자인한다면 가장 시급하게 변경(혹은 추가)해야한다고 생각하는 요소는 무엇인지 이야기해봅시다.  2. MOOC의 데이터를 활용하여 연구하고 싶은 주제가 있다면 자유롭게 이야기해봅시다. <MOOC Data for Researchers> Coursera Review Data in Kaggle https://www.kaggle.com/imuhammad/course-reviews-on-coursera 2. Courseraforums Data https://github.com/elleros/courseraforums 3. Data Shop https://pslcdatashop.web.cmu.edu/ <참고자료> https://www.researchgate.net/post/Can-anyone-suggest-open-MOOC-dataset-available-for-researchers <은서, 현지, 혜원> 은서 : 기업에서 연수 경험을 바탕으로 보면,  1) (질의응답의 신속성이 떨어짐) 모르는 것이 있을 때 질문하고 피드백이 오는 시간이 다소 길었다.   2) (배속 조절의 한계) 아예 없는 경우도 있음  3) (학습 자료 제공의 한계) 아예 제공되지 않는 경우도 있음  ex) ppt, pdf, 강의 녹화본 등  4) (학습 컨텐츠 수정에 대한 신속한 대응)이 어려움  현지 : edX 경험을 바탕으로 보면, 1) (강의 컨텐츠의 길이가 너무 김)  2) (질의응답 창구를 찾기 힘든 UX) 3) 교수학습방법이 강의형으로 제한됨 (코드 실습 어려움, 실시간 토론형 어려움)  [변경이 필요한 부분] 연관 강의는 옆에 생성되지만, 선수 강의와 후속 강의 대한 시각화된 구조도가 필요  질의응답 시스템 개선 (다른 수강자의 질문을 보고 그에 대한 답변도 볼 수 있는 게시판, 속도 개선)  토론 게시판을 생성하여 학습 커뮤니티 촉진   질의응답, 토론 게시판에 피드백하는 사람에게 리워드를 주면 지속적으로 학습의 장이 생기겠다.  학습자 주체로 생성한 학습 컨텐츠 및 산출물을 업로드 할 수 있는 장  강의 영상에 대한 배속 조절을 자유롭게 할 수 있도록 기술적 지원  내적 동기 부여를 할 수 있는 장치 필요 (메타버스를 활용한 게이미피케이션 : 구글에 클래스룸에 연동되어 있는 시스템인데 게이미피케이션이 있음 = 클래스 크래프트 , 팀 활동 중심으로 함께 목표 달성, 선의의 경쟁 활용 등 )  지속적인  (제한 시간을 두어, 지속적인 안내, 환급제도)  주기적인 데드라인 설정하여 참여 유도 강의 영상 길이를 짧게 제공  다양한 교수학습방법 제공 (PBL, FL 등)  2.  은서 : 강의 영상 길이에 따른 학습 성취도 분석  현지 : 질의응답 게시 횟수에 따른 학습 성취도 분석, 학습자가 컨텐츠 제공 주체가 되어 컨텐츠를 스스로 만들고, 업로드 하는 MOOC 구현 방안  혜원 : 학습자가 컨텐츠 제공 주체가 되어 컨텐츠를 스스로 만들고, 업로드를 촉진하는 플랫폼 특성 https://info.flipgrid.com/ <해린 준오 용현> 주제1. 과제나 피드백같은게 어떻게 이루어지는지?  문제 풀려면 돈을 내야하더라... 대신 문제는 양질의 문제였다. 학습 시간 및 마감일을 타인의 통계에 기반해서 본인이 유동적으로 선택할 수 있다. 다시 돌아와서 듣는 비율이 많은 부분에서는 강사가 알려줘서 집중하게 되는 효과가 있더라. 웹으로 제공된다는 점을 학습자료에 활용하는지?  코딩에 대한 실시간 자동 피드백이 있었다. 브릴리언트 https://brilliant.org/ 라는 플랫폼이 상호작용 가능한 material을 제공하는듯? 다른 학습자의 통계를 제공한다는 것이 도움이 되더라.       ex)이 영상을 완료하는 데 걸린 다른 학습자들의 평균 시간은 00분입니다. 아쉬웠던 점 학습 내용에 대한 전체적인 개괄... 제공이 부족하다는 점이었음 영상 수업의 어쩔 수 없는 한계인듯 주제2. 메일을 보내는 것에 대한 역효과. 최소한 이메일만큼은 수강자의 모국어로 보내주면 어떨까? 준오 : 영상 시청 시간흐름 방식  성취 를 볼 수 있으면 좋을 것 같다. 해린 : 영상 시청 방식  컨텐츠 개선도 가능할듯 / 나라별로  번역체로 메일보내기 vs 구어체로 보내기 AB테스트?! 본문에서 왜 노이즈가 많이낀다고 했는지 잘 이해가 되지 않는다... 사실 선행연구들이 type 1 error였던게 아닐까? <주홍, 재용, 웅기> 주홍 - 필요할 때 찾아듣는 편임, edX - 코딩할 수 있는 평가 시스템이 필요하다고 생각함, 따로 설치할 필요없이 코딩할 수 있는 툴들이 좋았음 - 포럼을 통해 동향을 파악할 수 있었음 - 강의별 태깅이 잘 안되어있음    연관 검색어 - 뇌과학 연구에 참여한 적이 있었음, 기억이나 학습 관련, 관련 분야가 컴퓨테이셔널 뉴로 사이언스, 찾아보는데 힘들었음 재용 - MOOC을 많이 안보는 편임 - 초반에만 보다가, 안보는 타입 - 제일 최근에 봤던 것이 선형대수학 수업(MIT), 기존 교육의 대체재가 아니고 보완재이기 때문에 동기가 떨어질 수 있음, 언제 어디서나 들을 수 있기 때문에 - 최근에 코세라 들어갔을때 강의신청을 하면, 언제 강의를 들을지 선택해서 캘린더를 자동으로 만들어줌(바로 구글 캘린더에 들어갈 수 있도록) 웅기 - 외부강의(패스트캠퍼스) - 외재적 동기 주홍 - 파편적인 지식이 필요한 경우도 있기 때문에, 강의를 듣는 목적 - 세대에 따른 학습 패턴을 분석하려면 - 동기, 목적, 들은 기간, 많이 들은 부분 웅기 - 이탈율 - 원격 교육에서 격차가 커진다. 주홍 - 트랜드에 대한 강의들이 생김 - 강의가 만들어지는 타이밍 - 듣는 사람들의 증가 추세 재용 - 계속 강의만 봐야하는 것이 싫었음 - 문제도 풀고, 과제도 하고 - 중간 중간 활동을 넣어서 학습자의 학습 시간을 늘린다거나, 상태를 파악한다거나 하는 것들 - 강의 내용들이 짧게 잘려있는 경우들이 많음 - 순서대로 듣는 것이 아니라, 학습자가 스스로 경로를 디자인할 수 있게 끔 - MOOC이 어려운 내용이 많음    교육 수준이 높은 사람들을 타겟으로 주홍 - 학생용 MOOC도 있으면 좋겠음 웅기 - 얼굴이 있고, 없고 재용 - 평가나 피드백 - 평가 과정을 자동으로 주고 피드백을 하는 연구    동료평가 - 글을 분석해서 피드백, 다른 형태의 평가에도 적용할 수 있을지?(코드, 글 스피치)'},\n",
       " {'title': '19. Predictive Modelling of Student Behavior Using Granular Large-Scale Action Data',\n",
       "  'day': 'May 25, 2021',\n",
       "  'people': 'Juno Hwang',\n",
       "  'link': 'https://dndrl.notion.site/19-Predictive-Modelling-of-Student-Behavior-Using-Granular-Large-Scale-Action-Data-6c3fb3f6a0e04fc5a70c40f81d8a3df7',\n",
       "  'content': 'MOOC 등에서 발생한 대량의 데이터를 기반으로, 학생의 행동을 시계열적으로 모델링하여 예측하고자 한다. Granular data는 사실상 nominal scale(명명척도)과 같은 의미라고 봐도 무방해 보인다. 시퀀스 생성 모델이 주로 활용되는데, 여기서는 (자연어에 대해) n-gram, RNN, LSTM을 주로 다룬다. 인지적 모델링에 대해서는 Bayesian knowledge tracing / Deep knowledge tracing 이 활용되고 있으며, 딥러닝 기반 응용이 늘어나는 추세 Dataset Statistics BerkeleyX MOOC from Spring 2013 : 31000 학생, 1700만 이벤트 (페이지 탐색, 게시글 추천, 퀴즈 응답, 강의영상 시청) - 총 3687 종류의 상호작용. JavaScript 호출까지 기록됨     (이중 과정을 수료한 약 8000명의 학생만 유효한 양의 데이터가 발생했음) 너무 희소하게 발생한 event는 필터링했고, 약 1300개의 상호작용만 가지고 one-hot vector ( 1300개의 요소중 한개만 1이고 나머지가 0인 )로 인코딩해서 사용. Methodology 기본적으로 next-action prediction으로 작동한다. 1) Recurrent Neural Network : 관찰 가능한 변인 x와 관찰 불가능한 변인 (latent state) h로부터 다음 상태 y를 예측하는 모델. h는 학생들의 인지 등에 해당하는 변인이지만 직접적인 해석은 불가능하다. 다음 상태를 예측하려고 한다면 y를 보면 되고, long term generation을 하려고 한다면 x1을 무작위로 준 다음 y를 다음 순간의 x에 집어넣으면서 생성하면 된다. 2) Long-Short Term Memory : RNN에서 개량된 버전으로, cell state라는 개념을 도입해 더욱 넓은 범위의 의존성(long range dependency)을 볼 수 있게 해준다.  cell state C 도 일종의 latent state 비슷한 역할을 하지만, 그보다는 기억과 망각을 관리하는 역할을 해준다고 볼 수 있다. 즉 h를 업데이트하는 과정에서 어떤 정보를 오랫동안 기억하고 어떤 정보를 빠르게 망각할 것인지와 관련된 변인. Implementation : Keras를 사용해 구현 후 grid search 시행, 총 24개의 모델 탐색. 학습데이터와 평가데이터를 8:2로 나누어 5-fold cross validation 수행. 3) N-gram : 이전에 등장한 n-1개 변인에 대하여 다음 변인의 조건부 확률분포를 직접 데이터로부터 구한다. 위의 방법들과 달리 점근적으로 정확한 확률분포를 구할 수 있으며, 학습은 결정론적이지만 조건부생성은 비결정론적이다. n이 커지면 모델의 자유도가 너무 높아지기 때문에 backoff라는 트릭을 쓴다. 여기서는 n=2~10으로 사용했다.  4) Course structure models : 특정한 action이 반복된다는 관찰과, 실라부스에 이미 대부분의 sequence가 반영되어 있다는 점에 착안하여, 강의 목차 페이지와 학생의 행동을 mapping함으로써  다음행동을 예측하는 모델을 만들었다. 실라부스에 나타난 300개의 행동중 174개를 학생들의 행동 집합에 매치시킬 수 있었으며, 실라부스 상의 순서와 관찰된 반복행동을 바탕으로 메뉴얼하게 모델을 구성했다. Result 3-layer LSTM에서 가장 높은 정확도 (0.7223)을 보였으며, 8-gram에서 0.7035를, 수동으로 구성된 모델에서는 비교적 낮은 정확도 (0.4533)을 보였다. 수료하지 못한 학생 가운데 최소 30개 이상의 로그가 발생한 1만명을 대상으로 추가 검증을 한 결과 LSTM모델의 정확도가 소폭 감소했다. 저자는 이런 차이가 끝까지 이수한 학생과 중도 포기한 학생의 성향 차이를 나타내며, 따라서 학생들을 지원하는데 활용될 잠재력이 있다고 보았다. 그런데 2-gram accuracy가 0.63이나 되는 시점에서, 특정 상호작용이 많거나 혹은 단순한 패턴이 반복되는 것이 절반 이상이라는 점을 예측할 수 있다. (예를들어, 코로나 안걸렸다고 진단하면 무조건 accuracy 99%이상 나오는 것처럼)... 따라서 weighted accuracy나 혹은 KL divergence같은 다른 측도를 사용해야 할듯? 2-gram 시각화라도 해줘야... Conclusion 저자가 아는 바에 의하면 이 시도가 이정도 규모의 granularity (nomial data의 차원) 을 시계열로 예측한 처음 사례이며 RNN을 MOOC데이터에 적용한 첫 사례라고 주장함. 데이터의 변인 가공(feature engineering)이 따로 들어가지 않았다는 점에서 확장성이 있다고 주장함.  Future work로 모델의 개량과 hyperparameter search를 더 정밀하게 할 것, 그리고 학생의 latent state를 이해할 수 있는 모델의 탐색을 제안하고 있음. 궁극적으로는 어려움을 겪는 학생들의 행동을 예측하여 적절한 추천과 지원을 하는 것이 목적. @성지훈 이 추천해준 중국의 MOOC 연구들 http://moocdata.cn/publications 예측모형의 성능은 무엇으로 평가해야 하는가 평균제곱근 오차 (RMS error) 일반적인 회귀모형에 적용 가능하며, 단위를 포함함 설명력(explanatory power) 일반적인 회귀모형에 적용 가능하며, 단위를 포함하지 않음. 선형회귀의 경우  R^2 R 2  를 그대로 사용할 수 있다. 정확도(Accuracy), 정밀도(Precision), 재현율(Recall) 정확도 : 그냥 전체적으로 옳게 예측한 비율 정밀도 : 검출된 대상 가운데 제대로 검출된 것의 비율 (It is better that ten guilty persons escape than that one innocent suffer) 재현율 : 검출되어야 할 것 가운데 실제로 검출된 것의 비율 양성/음성의 분포와, 문제의 목적에 따라서 적절히 선택해야 한다. Precision & recall 사이에는 trade-off 관계가 있다. 정밀도와 재현율을 동시에 고려해야 할 경우 F-measure : 정밀도와 재현율의 조화평균을 이용함. (필요한 경우 가중 조화평균) AUC of ROC ( area under curve of receiver operating charicteristics) : 분류 기준의 문턱값(threshold)을 조절할 수 있는 평가도구 자체에 대한 측정 (예 : 코로나 검사, 자격시험 등). ROC곡선 아래의 면적이 크면, threshold와 관계 없이 좋은 예측모형이라고 볼 수 있다. Receiver operating characteristic (ROC)-AUC curve for COVID-19 detection Nominal scale 예측모델 평가의 어려움 고전적인 연구방법론은 여기에 대한 예측을 잘 하지 않아서, 일반화된 논의가 없다. 거의 정규분포라고 가정하는 연속변수와, 많이 논의된 이진분류 문제와는 다르게 output이 case-by-case로 다양하다. KL-divergence를 사용하면 평가가 가능하지만, 비율(%)로 나오는게 아니라 정보량(bit)으로 나오기 때문에 처음보는 사람은 해석이 어렵다. 따라서 무작정 accuracy / KL-divergence를 쓰지 말고 이론과 목적을 바탕으로 한 나름의 타당성있는 기준을 세워야 한다. Next-action prediction의 함정 : LSTM으로 long-range dependency까지 잡아냈다고 하더라도, 직후의 행동만 예측할 수 있을 뿐 장기적인 추세를 예측할 수는 없다. 영어 알파벳은 26개나 있지만, next-action prediction에 대한 불확실성은 고작해봐야 동전던지기보다 조금 큰 것에 불과하다. Discussion 현재의 MOOC 시스템에서는 학생을 이해하는데 도움이 될 만한 데이터가 매우 제한적으로 발생한다고 생각하는데 (저만 그런가요?), 보다 쓸모있는 유형의 데이터를 발생시키기 위해서 MOOC 혹은 온라인학습 시스템을 어떻게 발전시켜나가야 할까요? Next-action prediction 모형은 교육적으로 어디에 활용하면 좋을까요? <지훈 웅기 수진 주홍> 지훈: 알고리즘에 관심을 갖고 있음. MOOC 는 데이터의 나열, 알고리즘을 활용하면 사용자의 의도를 반영할 수 있음(도구와 사용자의 상호작용). - 추천된 콘텐츠에 대한 선호 표시 + 강의 도중 재미없는/이해가 어려운 부분에 대한 학생 피드백 +  등  주홍: 사적인 데이터, 토론, 클럽하우스 같은 포럼 웅기: 토론 플랫폼 대신에 메타버스? 페이스북 호라이즌  여기서 발생하는 데이터 수진: 화상회의 시스템  토론을 통해서 상호작용하는 과정이 추가되면 지훈: 블루프린트 디자인(UX design), 예전에 질적으로 서비스 블루프린트 디자인  양적으로  but, 데이터가 많아야 함 / 1300개 액션에 대해서 경우의 수를 뿌려보고, 언제 실패하는지 매핑해서 새로운 모델링을 한다면 좋을 수 있을지 데이터가 많아지고, feature가 많아지고, 모델이 복잡해져서 정확도가 높아진다고 해서  교육결과가 거시적으로 개선될 수 있을까? (동일 교육과정 = 동일 학습결과) 주홍: 블루프린트 디자인, 감정의 변화, 학습에 대한 감정적인 반응 수진: 수학문제 웅기: 모든 분야에서 가능하지만, 가능한지가 더 문제라고 생각함. 드랍아웃, 학업성취도 등의 한정적인 종속변수만을 예측하는 것이 이른 예측 모형의 한계가 아닌지.. 아무리 모델이 복잡해지더라도? 현업에서 자연어처리로 퍼포먼스를 내려면 기본 데이터 100만 단위 주홍: 예측한 결과를 학생에게 직접 알려준다. <은서 준오 손영훈> 1. 개인을 예측한다면 이전의 행동들까지 포함되었다면 정확도가 올라가지 않았을지. 개인의 데이터는 오랫동안 축적되어야 한다 (예 : 성장하면서 학년에 걸쳐서). 수업 플랫폼 자체에서 잦은 평가(간단한 이해 질문 선택지?)가 주어지고, 얼마나 망설이는지 시간을 측정하면 일반적인 지표가 되어줄수 있지 않을까. 온라인 수업에서 컨텐츠형으로 제시를 할때는 참여율이 높지 않은데, 학생이 능동적으로 뭔가 할 수 있으면 참여율이 올라가더라.  학습자로서 온라인강의를 수강할때 막히는 부분에서 리플레이를 하게 되는데, 학생들이 많이 막히게 되는 지점을 추적하고 수강자들에게 반복해서 들은 이유를 수집하면 좋겠다. 영상에서 리플레이 많이 하는 지점을 분석했듯이, 텍스트 자료에 대해서는 스크롤 위치가 어디에 머무르는지 분석해도 좋을듯. 이전에 다르게 행동했을 경우의 예측? (counterfactual inference) 2. 개인이 아니라 여러 학생의 일반론적인 행동을 예측한다( ex : 특정 학년군 간의 행동을 비교 ) . 운전면허시험처럼 정말 기능과 순서가 중요한 작업의 평가. 행동주의적으로 바라봐야 하는 과제들. 현재도 자동번역 등 시계열적인 순서가 중요한 분야에만 쓰임. 굳이 LSTM을 쓴다면 저학년 학생들이 수업중간에 하는 돌발행동 예측 경고. 과학실험 수업은 순서와 돌발행동이 중요하므로 활용할 가능성이 있을듯. (위험행동예측) 실과, 가정, 요리 등 실용적인 학문들. (실제 행동을 컴퓨터비전으로 라벨링한다면 재밌을듯) (교육은 아니지만) 아기들 혼자 놔두면 막 돌아다니는 행동에 대한 모델링 + 위험행동예방 역사수업에서 학생이 구현한 역할극 같은것에 대한 분석, 혹은 반복되는 역사적 사건의 패턴 자체에 대한 분석자료를 학생들에게 보여주면 좋을듯 (n-gram으로 보여주면 직접 알 수 있을듯) 체육수업의 동작수행에 대한 분석 (스크린골프에서 알려주는 것의 확장)  동작수행의 변화, 성장에 대한 분석도 될듯. <용현 전영훈 유경> 영훈 : 클릭스트림데이터로 그래프를 그려보면 핵심 문장을 포함하는 경우가 많다. 이런 데이터를 학생들에게 어떻게 적용할지는 또 다른 문제다.  (클릭스트림데이터를 핵심 문장과 함께 또는 gp 레벨로 보면 학습에 대한 열의를 더 잘 볼 수 있지 않을까) 용현: 어려운 내용 나왔을 때 다른 서비스로 이탈하게됨. 이탈하는 타이밍이랑 같이 보면 좋지 않을까?  유경 : SNA 분석 논문을 봤지만, 의미가 없어보였다.  용현 : 창을 닫는 등의 이탈에 대한 확률이 튈 때 힘내세요! 영훈 : 초등학생들이 찍은 행동에 대해서 uncertainty 가 평소와 다른걸 기반해서 찾아내는 경우가 있다. 유경 : UI 개선에 활용할 수 있지 않을까? - 학습에 불필요한 행동 (ex ; 뒤로가기) 이 많이 나타나는 경우  교육의 날씨  다음날 출석, '},\n",
       " {'title': \"20. Applying Recommender Systems for Learning Analytics: A Tutorial'\",\n",
       "  'day': 'June 1, 2021',\n",
       "  'people': '\\xad송유경',\n",
       "  'link': 'https://dndrl.notion.site/20-Applying-Recommender-Systems-for-Learning-Analytics-A-Tutorial-c2ebf47c5ccd4d0184a73266a9bc6e70',\n",
       "  'content': '학습 환경 내 추천 시스템을 개발하고 평가하는 것을 목적으로 함  \"how to set up and run a recommender systems experiement\" <순서>  추천시스템 개요 추천시스템 평가(챕터 내용)  Movielens 실습  추천시스템 개요 What is the Recommender System? 사용자로부터 아이템에 대한 선호도 여부를 데이터화하는 시스템  : explicit feedback(평점 등)  / implicit feedback (사용자의 행동패턴 등)  Why Recommender System?  \"the paradox of choice\" (B. Schwartz, 2004) 추천시스템 구분 Content-based vs Collaborative Filtering Content-based Collaborative Filtering 추천시스템 평가 Q. 추천시스템이 정말 사용자에게 도움이 되고 있는가?  Q. 어떤 시스템이 좋은 추천시스템인가? 사례 Social Learning Platform : ODS(Open Discovery Space) Goal: Which recommender system best suits the data of a social learning platform  1.  데이터셋 선정하기  2.  offline data study of different algorithms  3.  사용자(학습자) 연구하기   4.   추천시스템 전개(적용)하기    교육, 학습 도메인에서 어떤 추천 시스템이 좋은 추천 시스템일까요?  (책에서는 단순 accuracy를 넘어서 usefulness, novelty, diversity 등의 지표를 충족시켜야 한다고 했습니다. 이 말이 의미하는 바는 무엇일까요? 단순히 강의를 더 듣게 한다고 좋은 추천일까요? 학습에 도움이 되는 추천시스템은 어떤 것일까요?)   MOOC와 같은 환경에서는 어떤 추천 알고리즘을 사용하면 좋을까요? content-based / collaborative filtering   <해린, 준오> 1. 유튜브 영상만 보고 확증편향에 빠지는 사례들을 최근에 많이 봤기때문에, 교육적으로는 다양한 입장의 컨텐츠를 추천하는게 필요해보임 (diversity) 어른보다 주관 확립이 덜 된 학생들에게는 특히 더 영향을 줄 수 있기 때문에 추천시스템만 뜨는건 주의해야한다. 오히려 관심 없거나 흥미 없는 영역이나 분야를 보여주는 기능도 있어야 한다.  의도적으로 약간 다양한 추천 (연관성이 좀 적거나) 이 필요한 경우도 있겠다. Collaborative filtering은 정형화된 비슷한 성향의 학생을 양산해 낼 우려가 있다. (A도 하는데 B랑 C도 하는 차별성이 학생의 경쟁력, 개성(novelty?)이 될 수 있음) 2. 네이버 쇼핑 AI쪽에서 최근 개별 상품 추천을 넘어서, 어울리는 상품의 묶음을 추천해주는 기술을 연구하고 있음, MOOC에서는 이거를 커리큘럼?형식으로 제시해줄수 있지 않을까. ( 네이버니까 둘다 활용하려고 하지 않을지? ) MOOC에서는 다양한 연령과 인종 집단 등이 있기 때문에 collaborative 방식이 특히 유용할 것 같다. (개인의 특성이 고려된 방식으로) 선수과목에 대한 추천? 그리고 이후 수강할 과목에대한 추천? (순서를 좀 고려해서) 선수과목 전체에 대한 지식이 필요한게 아니라 일부만 필요한 경우, 특정 챕터만 강조해서 추천해주도록. 관심 없는 챕터는 패스할 수 있도록.  수강평같은걸 쓸때 선수지식에 대한 질문란을 따로 만들어주면 도움이 되지 않을지? (별로 힘든것도 아닌데 의무화 해도 괜찮지않을까?) <웅기, 은서, 영훈> 추천시스템 - 은서: ? - 영훈   - 강의영상에서 선호도 평점을 매기는 것보다 성취기준에 알맞는 문제를 제공  추천   - 학습양식에 따라서 다른 형태의 학습 자료를 제공 - 웅기   - 시간의 규칙성, 플랫폼 종속시간을 종속변수로 두면 어떨까? 추천시스템 - 웅기   - 썸네일 - 영훈   - 교육영상들의 썸네일만 보여주고 감성분석을 하는 연구도 있음 - 은서   - 다른 사람들이 강의 전후로 강의를 보여주는 것(learning path) 연구아이디어 - 은서   - 강의를 듣고 나서 피드백 리뷰  핵심어를 뽑아서 키워드 - 영훈   - 강의 내용 중에서 키워드를 뽑아내는 것 - 웅기   - 타임라인에 추천  자동 예고편 - 영훈   - Kix랩 https://www.kixlab.org/ <영훈, 유경, 현지>  영훈 :   -usefulness > (유용성)에 대한 가치 판단 기준 > 수업 권한을 가진 교사가 선택을 할 수 있도록 기술적으로 제공 해야한다. (가중치 설정 가능하도록) ex) 같은 5학년 선생님이라도 1반의 현황, 2반의 현황에 따라 유용성 기준 다름 / 기계적으로 보면   -novelty >정규분포에 끝에 있으면서, 연관성을 가진 컨텐츠 / 참신성과 무관함의 사이에서 참신성을 보여주는 시스템..!  -diversity 사회적인 영향으로 발현되는 편향성을 제거한 컨텐츠  유경 : 난이도와 연계성 등 고려한 교육 컨텐츠 제공  현지 : diversity > 지식/기술/태도 전인적인 발달을 위한 균형적인 컨텐츠 제공 / 윤리, 지속가능성  추천 시스템으로 신규 컨텐츠가 상위 콘텐츠로 상향하기에 불리한 부분 있음 > 이 부분 고려해야  2. content-based / collaborative filtering   영훈 : 학습자 성향이 장독립적 학습자 > content-based / 장의존적 학습자, 심리적인 부분을 다루는   > collaborative filtering. 혼자 하나만 막 파는 학습자 :content            수학같은 과목은 content, 사회과목 등 CF      사람들의 심리가 작용되는 부분. 토론같은 거 할 때,      자라온 환경 등에 따라서      나와 다른 환경의 학습자는 어떤 콘텐츠를 볼까 유경 : 연계학습 > content-based / 소셜러닝에 강한 학습자  collaborative filtering / 유사성이 강한 학습자들이 본 콘텐츠만 보는 것이 과연 교육적인가 현지 : 학습자의 선호도를 추천하는 정확도의 관점에서  content-based + collaborative filtering  시너지 > 구체화 / 학습자 수준을 고려해서 유저간의 유사성을 보는 것이 좋을듯'},\n",
       " {'title': '22. Analytics of Learner Video Use',\n",
       "  'day': 'June 15, 2021',\n",
       "  'people': '이재용 \\xad',\n",
       "  'link': 'https://dndrl.notion.site/22-Analytics-of-Learner-Video-Use-06ad7ae84a7342d5ae8d6d3b75be71b1',\n",
       "  'content': '본문 영상분석(video analytics) 영상분석의 필요성 교육에서 영상 활용의 증가 전통적 학습자 데이터의 한계 극복 기존 실험연구의 한계 극복 영상분석의 학문적 토대 지식/교수/학습에 대한 관점 행동주의 인지주의 구성주의 멀티미디어 학습 멀티미디어 효과(Mayer, 2009) 멀티미디어 학습 연구 주제 멀티미디어 활용의 효과성 파악 멀티미디어 학습에 대한 최근 관점 영상분석의 유형 영상의 실시간성에 따른 분류 영상 출연 주체에 따른 분류 영상분석의 방법: 데이터 마이닝 데이터 마이닝 데이터 마이닝 활용 알고리즘 영상에 대한 데이터 마이닝 용어 정의 유형 한계 및 극복방안 발전 방향 결론 요약 향후 연구과제 논의 주제 본문 Mirriahi, N., & Vigentini, L. (2017). Analytics of learner video use. Handbook of Learning Analytics, 251-267. solaresearch.org https://solaresearch.org/wp-content/uploads/2017/05/chapter22.pdf 영상분석(video analytics) 학습자의 영상 활용을 이해하기 위해 학습자의 영상 시청 데이터를 수집측정분석하는 것 The collection, measurement, and analysis of such data for the purposes of understanding how learners use videos 학습자의 영상 이용과 영상과의 상호작용을 평가하고 조사하여, 영상의 수정개선방안 및 효과적 활용방안을 도출하는 과정  영상분석의 필요성 교육에서 영상 활용의 증가 플립드 러닝: 동영상 기반 사전 학습으로 정보 전달, 수업시간에는 학습자 중심 학습활동 실시  블렌디드 러닝: 수업에서의 시간/공간/매체 등의 장벽이 허물어지고, 언제 어디서나 학습이 연속적으로 이뤄짐 MOOC: 강의 녹화영상 제공  영상 + 퀴즈/포럼/읽기자료/평가/피드백 등 전통적 학습자 데이터의 한계 극복 부정확한 자기보고 데이터(self-report data)에 의존 학습자나 교수자의 주관적 기억에 의존하므로, 학습자의 행동을 정확하게 파악할 수 없음 사회적 바람직성 편향(social desirability bias) 발생 가장 정확하고 솔직한 응답보다는 사회적으로 기대되는 응답이 수집됨 기존 실험연구의 한계 극복 실험연구 실험연구의 목적: 이론에 기반하여 세운 가설의 검증 실험연구의 방법 관심의 대상이 되는 변수를 제외한 나머지 변수를 모두 통제 하나의 변수만 변화시키면서 결과의 차이를 확인 실험연구의 한계 연구 결과가 실제 교수-학습 맥락에 잘 적용되지 않는다 실험연구에서는 변인 통제로 종속변수에 대한 독립변수의 영향을 분리함 내적 타당도(internal validity): 연구문제에 얼마나 논리적으로 충실하게 답하였는가  변인을 통제하는 순간 인위적인 상황이 조성됨 실제 교수-학습이 일어나는 상황은 매우 복잡함  따라서 실제 교수-학습 상황에 연구 결과가 잘 적용되지 않음 생태계적 타당도(ecological validity): 연구의 결론이 실제 상황에 얼마나 잘 적용되며, 얼마나 효과적으로 활용되는가  영상분석의 학문적 토대 지식/교수/학습에 대한 관점 연구자가 지식/교수/학습을 어떤 관점에서 바라보느냐에 따라 연구설계와 결과해석이 달라진다 행동주의 인간의 인지과정은 알 수 없으며(black-box), 관찰 가능한 행동이 중요하다 지식관: 개인의 의식과 무관한 지식이 존재한다 (객관주의 인식론) 학습관: 외적으로 관찰 가능한 행동의 변화 교수관: 행동 변화를 유발하기 위한 외적 자극 학습 촉진 전략 학습 과제의 분석과 계열화 강화와 피드백 인지주의 인간의 인지과정은 컴퓨터의 정보처리과정과 유사하다 지식관: 개인의 의식과 무관한 지식이 존재한다 (객관주의 인식론) 학습관: 개인이 가진 인지구조의 변화 (기존 정보에 새로운 정보가 연결) 교수관: 정보를 제공하고 학습자의 인지과정을 촉진하는 과정 학습 촉진 전략 정보의 체계적 조직 인지부하의 조절 인지전략 제시 메타인지 촉진 구성주의 인간은 물리적/사회적 환경과 상호작용하고 그 경험을 해석하면서 고유한 의미를 스스로 구성한다 지식관: 지식은 개인의 의식과 무관하지 않다 (구성주의 인식론) 학습관: 개인이 구성한 의미의 변화 교수관: 개인의 능동적인 학습을 지원/촉진하는 과정 (수많은 학습 촉진 방법 중 하나일 뿐) 학습 촉진 전략 자기주도성 향상 자기조절 지원 사회적 상호작용 촉진 멀티미디어 학습 동영상은 일종의 멀티미디어이다(시각매체 + 청각매체) 동영상을 활용하는 플랫폼도 일종의 멀티미디어이다(컴퓨터, 스마트폰) 멀티미디어 효과(Mayer, 2009) 이론적 배경: 이중 부호화 이론(dual-coding theory) 인간의 작동기억은 시각적 정보와 언어적 정보를 처리하는 영역으로 나눠짐 각 영역은 서로 독립적이며, 제한된 용량을 가지고 있음 멀티미디어 학습 원리 핵심: 단일 표현양식보다 복수의 표현양식을 활용하는 것이 학습에 더 효과적이다 심리학 연구결과의 한계 시험 결과: 왼쪽>오른쪽 or 왼쪽<오른쪽 멀티미디어 학습 연구 주제 Mayer, 2009 멀티미디어-학습자 상호작용 관련 지각과 주의(perception and attention) 작동기억과 기억용량(working memory and memory capacity) 인지부하이론(cognitive load theory) 학습자의 학습 관련 지식 표상과 지식 통합(knowledge representation and integration) 학습과 교수(learning and instruction) 자기조절학습(self-regulation of learning) Yousef et al., 2014 멀티미디어 활용의 효과성 파악 전통적 수업과의 비교 교실에서 교사의 정보 전달 중심 수업 vs 멀티미디어를 활용한 수업  학습성과(사후-사전)의 차이? 연구설계의 문제점: 변인 통제 실패, 효과 분리 실패 전통적 수업과 멀티미디어 활용 수업은 다양한 측면에서 다르다 ex) 매체, 교수내용, 교수방법, 물리적 환경 등 하지만 단순 비교 시 독립변수, 종속변수를 제외한 나머지 변인이 통제되지 않는다 ex) 교수내용, 교수방법, 물리적 환경 등  독립변수가 종속변수에 미치는 영향을 분리해낼 수 없다  멀티미디어 활용 수업에서 학습성과가 멀티미디어 활용에 의한 것인지 알 수 없다 매체의 교육효과에 대한 논쟁 Kozma: 매체 자체가 가지는 교육효과가 있다 교수매체와 교수방법은 서로 구분할 수 없다  매체가 곧 메시지다(마셜 맥루한) 기존 연구에서 매체의 효과성이 확인되었다 ex) 전통적 수업 vs 매체 활용 수업 Clark: 매체 자체가 가지는 교육효과가 있다고 보기 어렵다 교수매체와 교수방법을 구분해야 한다 교수방법: 학습에 요구되는 인지과정을 지원/촉진하기 위한 정보 조직 방법 교수매체: 교수방법을 실현하는 데에 활용하는 도구 매체의 효과성에 대한 기존 연구는 변인 통제에 실패하여 매체의 학습효과를 분리하지 못했다 따라서 기존 연구를 토대로 매체의 효과성을 주장하는 것은 적절하지 않다  Kozma와 Clark의 논쟁 비평 Kozma: 지나치게 낙관적 학습효과가 확인될 경우 그 본질을 탐구하기보다는 매체 활용 그 자체의 효과로 간주함 개념에 대한 명확한 정의, 개념 사이의 관계에 대한 엄밀한 검증이 부족 Clark: 학습효과의 본질에 대한 탐구를 촉구했으나, 다소 비현실적인 요구도 하고 있음 매체 활용 수업에서 학습효과가 무엇 때문에 발생하는지에 대한 설명과 확인을 중시함 실제 교수-학습에서 다른 모든 조건을 동일하게 하고 매체만 변화시키는 것이 가능한가?  현실적으로 불가능하다 의미가 있는가?  가능하다고 해도 실제 교수-학습 상황과는 다르다  멀티미디어 학습에 대한 최근 관점 다양한 접근방식을 활용해 학습자의 상호작용과 학습을 총체적이고 종합적으로 이해해야 한다 상호작용 모형 영상분석의 유형 영상의 실시간성에 따른 분류 동시적: 실시간으로 교수자-학습자 상호작용이 일어나는 경우 관심 영역: 교수자-학습자 상호작용 탐색  상호작용 촉진방안 도출 비동시적: 학습자가 녹화된 영상을 시청하는 경우 관심 영역: 학습자-매체 상호작용 탐색 (self-paced learning 등)  영상/강좌 개선방안 도출 영상 출연 주체에 따른 분류 교수자: 영상/강좌의 수정과 개선 학습자: 자기성찰, 동료/교수자 피드백, 목표 설정에 활용됨 ex) 예비교사의 수업 성찰, 의사의 진료 리뷰, 공연예술에서의 모니터링 영상분석의 방법: 데이터 마이닝 데이터 마이닝 정의: 대량의 전산화된 데이터를 수집, 조사, 분석하여 패턴이나 경향성, 관계성을 찾고자 하는 과정 데이터  행동  학습 데이터 마이닝 활용 알고리즘 지도학습/비지도학습 지도학습: 데이터 일반화 비지도학습: 데이터 요약 산출 데이터에 따른 알고리즘 선택 범주형: 분류(classification) 수치형: 회귀(regression) 영상에 대한 데이터 마이닝 용어 정의 learner use of video: 학습 시스템 상에서 확인된 학습자 행동 ex) 재생, 일시정지, 영상 이동, 시청 시간, 클릭 수 등 learner engagement with video: 유의미한 영상-학습자 상호작용 ex) 주의집중하며 영상 시청, 모르는 부분을 반복 재생 등  learning with video: 개인의 행동/인지구조 변화, 개인이 구성한 의미의 변화 암묵적 가정: learning은 engagement의 결과로 일어난다 유형 영상 내용 측면: 의미부여(sense-making) 색인(indexing): 영상의 내용 등을 기준으로 태그를 붙인다 요약: 영상의 핵심 내용을 짧은 글로 정리하는 것 주석(annotation): 영상 내용에 대한 정보, 타 학습자의 의견 등을 영상과 함께 제시 검색(searching)/이동(navigation): 주요 장면이나 검색어와 관련된 장면을 찾아 바로 이동하는 것  영상 활용 측면: 상호작용(interaction) 학습자의 영상 이용 로그  학습과정 / 학습참여 이해 (아직 초기 단계) 영상 이용 데이터와 다른 데이터의 결합 전통적 학습자 데이터 ex) 평가, 설문, 관찰 등 (재용) 생리심리데이터와 같은 반사적/자동적 행동 데이터 ex) 표정, 동공, 심박, 뇌파 등  한계 및 극복방안 한계: 영상 이용행동이 반드시 학습이 일어났음을 의미하는 것은 아니다 학습에 요구되는 심리적/사회적 과정 없이도 영상 이용 행동이 나타날 수 있다 ex) 영상 재생 이력: 영상을 트는 것과 보는 것은 다름 ex2) 학습과제 수행 시간: 학습자의 영상 이해도 외 다양한 요인이 관여 극복방안: 테크놀로지를 활용한 새로운 데이터 수집/분석 방법 고안 ex) In-video quizzes(영상 중 퀴즈) (Giannakos et al., 2014) 연구질문: 영상에서 학습내용 제시 순서에 따른 영상 시청 중 학습자의 개념 이해 정도는 어떠한가? 연구설계 사전-사후검사: 부적절 (평가가 영상 시청 맥락에서 이뤄지지 않았으므로) 영상 중 퀴즈: 적절 (영상 시청 중에 평가가 이뤄졌으므로 외재변인 개입 최소화) 발전 방향 학습에서 맥락의 중요성을 고려 기존 멀티미디어 연구에서 retention, recall 등에 대한 긍정적 영향이 보고된 바 있다 하지만 학습의 전이(transfer) 측면에서의 효과에 대한 연구가 부족하다 전이: 학습에서와 다른 상황/맥락에 학습내용을 적용하는 것 총체적 학습경험의 이해 교수학습 참여는 지적, 정서적, 행동적, 물리적, 사회적, 문화적 측면에서 이해할 수 있다 학습경험을 다면적으로 분석하고 이해하는 방향으로 나아가야 한다 결론 요약 영상분석이란 영상을 활용한 학습자의 학습과정과 결과를 이해하기 위해 동영상 활용에 대한 데이터를 수집/분석하는 과정이다 영상분석은 멀티미디어 학습 연구에 기반하고 있으며, 인간의 심리와 교수-학습에 대한 연구자의 관점에 따라 연구의 초점이 달라진다 영상분석은 학습이 일어나는 맥락 속에서 학생의 학습경험을 총체적이고 다면적으로 이해하는 방향으로 나아가야 한다 향후 연구과제 영상 유형에 따른 학습자의 이용/활용/학습 차이? 영상 내용이나 교육과정 설계의 개선/수정을 안내하는 방법? 학습자의 효과적 영상 활용을 지원하고 촉진하는 방안? 동영상 기반 학습에서 학습을 측정하는 방법? 영상 내용에 대한 데이터를 수집하고, 영상 내용과 학습자의 행동패턴 사이의 관계를 파악하는 방법? 동영상 기반 학습에서의 교수설계/학습설계 모형? 논의 주제 다음 질문에 답하면서 각 조별로 하나의 연구 아이디어를 발전시켜 공유해주세요. (협력과제, 아이디어 단순나열 X) 비대면 수업 과정에서 경험했던 불편함과 어려움은 무엇이었나요? 문제의 원인은 무엇이라고 생각하시나요? 문제의 원인이 무엇인지 확인하기 위해, 또는 문제해결 방안을 도출하기 위해 수집해야 하는 데이터는 무엇인가요? 해당 데이터를 어떻게 수집하고 분석할 수 있나요? 연구에서 예상되는 어려움이나 한계는 무엇인가요? ex) 윤리적 문제, 숫자로 표현되지 않는 현상 등.. [한나, 인영, 재용] 어려움 플립러닝의 효과적 적용: 녹화 영상과 실제 수업에서 내용/방식 중복되어 힘들다 잘 편집되어 영상미가 있는 영상 vs 엉성하지만 현장감이 있는 영상 기술적인 문제: 컴퓨터를 잘 다루지 못하는 교수자  수업자료가 잘 전달되지 않거나, 지루하거나, 집중도가 낮아짐 비대면 수업의 장점 실제 수업에서는 질문하기가 어렵지만 줌에서는 좀더 쉽게 질문할 수 있다 (소극적인 학생도 자유롭게) 논의 내용이 발전되는 것은 현장 수업에서 더 잘 될 것 같다? 온라인에서는 소그룹 만들기가 편하기 때문에 논의가 효율적으로 진행될 수 있다 연구문제: 플립러닝에서 온라인/오프라인 중 어디에서 질문의 양이 더 많은가?/질이 더 높은가? 수집 질문  구글닥스나 트렐로 같은 온라인 플랫폼 활용 생리심리데이터: 카메라로 녹화 / 측정장비 활용  실제 수업에서 활용하기는 어려움 방법 질문의 질을 평가한다  의미 발전이 얼마나 잘 진행되는가 텍스트 분석  강의영상스크립트/과제텍스트 등 학습자료와의 연관성을 파악해서 학생들의 자가평가  학생들이 느끼는 질문의 가치 생리심리데이터  얼마나 화면을 보고 있는가 질문의 양  얼마나 활발하게 논의가 이어지는가 참여도  학생별로 발언 비중(논의 참여도) 확인 연구설계 같은 영상을 본 후 온라인/오프라인 배치 여러 차시에 걸쳐서 반복 [유경, 웅기, 지훈] 학생으로서     스몰챗 어려움, 교수님께 자유롭게 질문을 못함, 주변 사람들을 보면서 자극,  상호작용 어려움      스스로 집중하기 어려움(이것 외에는 딱히 불편하지 않았음) 강사로서      학생의 생각이나 따라오고 있는 정도를 이해하기 어려움  간접적인 정보가 적어짐 2) 문제의 원인 기술의 한계: 여러명이 말하기 어려움  페이스북 oculus의 대면여부에 따른 대화 기술 매체 특성에 맞춘 적절한 방법이 개발되지 못했음(\"오프라인을 따라가는 것이 아닌, 독자적인\") 교실에서는 학습자를 볼 수가 있는데(비, 반언어적 표현들) 온라인학습상황에서는 볼 수 있는 정보가 제한되어 있음  돌려서 조절하는 스피커, 영상을 보면서 계속 감정을 기록하게 한 연구, 불안감에 따라서 돌려라  + 생리심리데이터!! '},\n",
       " {'title': 'Professional LA',\n",
       "  'day': 'June 22, 2021',\n",
       "  'people': '성지훈 \\xad',\n",
       "  'link': 'https://dndrl.notion.site/Professional-LA-4f32209f39f542ecb8dc091f0b614d76',\n",
       "  'content': '1. Intro 2. How Professionals Learn 3. A Vision For PLA 3.1 Analytics in Action 3.2 Accelerating Just-in-Time Learning 3.3 Exploiting Organizational Networks 3.4 Making use of Specialist Expertise 3.5 Encouraging Active Learning 4. Conclusion 5. 토의 게더타운 사용 1. Intro 과거의 패러다임 조직의 성과를 위해 개인의 성장을 희생하는,  신입사원으로 입사를 했을 때 원하는 미래 커리어를 위해 내가 거쳐야할 CDP(career development plan)가 무엇인지 알 수 있는, 조직의 HRD부서가 탑다운 방식으로 조직구성원의 교육과정을 가이드하고, 관리할 수 있는,  상대적으로 긴 시간 지속되는 수익모델 상대적으로 폐쇄적/물리적 일터환경 현대의 패러다임 개인의 행복, 자아실현, 인간적인 노동환경 등이 강조되는, 신입사원으로 입사를 했을 때 내가 5년 뒤에 무엇을 하고 있을지 예측하기 힘든, 배워야할 것이 너무 많아 일괄적으로 통제하기 힘들며,  어느정도 개인의 학습에 자율성을 줄 수 밖에 없음 빠르게 변하는 시장과 치열해지는 경쟁으로 인해 수익모델의 수명이 짧아짐 기업 운영의 기반이 점점 디지털화됨  1. 조직이 개인의 학습과 개발과정을 온전히 통제할 수 없으며,  개인의 자율성과 전문성에 기대 학습을 지원하는 형태로 변화함.  2. 기업의 일터환경이 점차 디지털화되면서 조직의 현황/상태 등을 보여줄 수 있는 디지털 기록의 증가 3. 학습분석은 학습자의 데이터를 수집, 측정, 분석하여 그 메커니즘을 이해하고 최적화를 돕는데 기여할 수 있음  Professional Learning Analytics 의 필요성 2. How Professionals Learn  본 챕터에서 사용되는 \"professional learning\"의 의미 전문적 지식과 사고 자극, 업무 성과 개선, 최신 정보에 근거한 실천을 위한 전문가의 활동  Professional Learning의 분류 (좀 엉성하긴 하지만.. 일단 개략적으로 받아들이는 정도로 적당함) 전문가가 갖춰야할 것은 직무 관련 지식과 기술 뿐만 아니라 의사소통, 협상, 설득, 갈등관리 등을 위한 소프트 스킬과 주인의식, 도전정신과 같은 마인드셋도 있음 교육방식형식교육, 비형식교육, 무형식학습 등에 대한 구분 없이 종합적인 학습이 필요함 특히 Professional Learning에서 무형식학습은 의도하지 않아도 자발적으로 일어나며 관측하기 힘들기 때문에 교수-학습상황에 비해 학습이 더욱 역동적이다.  개인의 능력과 동기부여 외에도 개별 일터의 특성이 상호작용하며 일터학습을 구성함 3. A Vision For PLA [PLA의 이상] 인공지능을 활용하여 전문가들을 자유롭게 연결하고, 그들의 지식과 경험이 공유 및 축적될 수 있는 시스템의 구축 \\'인공지능을 활용하여\\': 데이터마이닝, right time을 예측하는 알고리즘 등 \\'전문가들을 자유롭게 연결하고\\': 동일 분야 또는 여러 분야의 전문가를 필요에 따라 연결할 수 있어야함 \\'그들의 지식과 경험이 공유 및 축적될 수 있는\\': 위키매니지먼트 등을 통해 사내 다양한 지식을 축적, 공유함으로써 조직 맥락에 좀 더 맞는 지식을 창출함 1 학내 구성원에게 제공되는 워크스페이스 \\'두레이\\'. 프로젝트별 위키기능을 제공하여 지식과 경험의 공유를 촉진함 [이후의 PLA의 5가지 이상을 말하기 위해 필요한 가정 2가지] 전문가는 일정 수준 이상의 자기조절 학습을 수행할 수 있어야 한다. 동기를 부여하기 위해 학습이 이뤄지는 학습시스템이 일터 맥락과 분리되지 않고 통합되어 있어야 한다.  예. 연수원에서 진행하는 집합교육 x 3.1 Analytics in Action 학습분석에서 사용되는 일반적인 방법론이나 행동데이터가 PLA에서도 사용됨 예. 학습과학, 컴퓨터과학, 정보이론 등 예. 발화데이터, 학습자 성향 자료, 생체정보, 학습자 위치 정보 몇몇 분석의 예시 LA의 다양한 접근법이 전문가의 환경에 맞춰 시험되었음 학습플랫폼에서의 디지털 흔적을 활용하는 경우 Social Learning Analytics(SLA): 개인과 조직이 지식을 학습하고 개발하는 과정을 규명  아직 행동데이터를 활용한 접근과 개발은 초기 단계 수준,   행동데이터를 활용한 새로운 시도는 조직 구조, 피드백 방식, 학습과 업무를 수행하는데 필요한 인적/물적 자원이 지원되는 방식의 변화를 요구함  3.2 Accelerating Just-in-Time Learning 직원이 교육을 받아도 그것이 실제 업무 맥락에서 드러나지 않으면 의미가 없음  구성원들이 스스로 학습 필요성을 느끼는 때나 당장의 업무를 위해 필요한 학습을 제공하는 것이 중요 Wearable Experience for Knowledge Intensive Training https://wekit-community.org/ 웨어러블 기기에서 발생하는 데이터를 사용해 전문성을 포착하고 확산할 방법을 탐색하는 것(프로세스 하단 참고) 1단계. 전문가와 이해관계자 집단에서 기술 개발 경로(skill development pathways) 규명 2단계. 소프트웨어 개발자가 기술 개발 경로를 보고 입문자가 절차지식을 습득할 수 있도록 보조하는 기술을 개발함 3단계. 시각 인터페이스를 가진 도구에 전문성이 전이되어 입문자가 이를 활용하여 전문성을 개발함    월마트 직원이 VR로 훈련 받는 모습 3.3 Exploiting Organizational Networks 전문가의 학습은 자기주도적이기 때문에 그들이 어떻게, 어디서, 누구와 상호작용하는지 이해하는 것이 중요  무형식학습과 학습네트워크를 시각화하여 드러낼 필요 있음 Learning Layer http://project.learning-layers.eu/ http://results.learning-layers.eu/ 개인 간, 조직 내, 조직 간 네트워크를 규명하여 성과를 개선하려는 프로젝트 1 SME: small to medium enterprises 의료, 공사 분야 분석결과 전문가는 3가지 수준에 따라 일과 학습을 병행함 개인 수준: 개인 간 지식교환기술지식, 절차지식, 이론지식이 이루어짐 조직 수준: 개인이 여러 조직에 속해 협업하며 지식이 공유됨 조직 수준: 여러 국가에 속한 조직들이 협력하며 조직 간에 학습이 이루어짐 Humanyze 이전에 스터디에서 공유했던 조직 데이터 분석 기업 https://humanyze.com/ 3.4 Making use of Specialist Expertise  Responsive Open Learning Environments (ROLE, 현재는 사이트 접근 불가) 목적: 업무와 학습의 변화 및 불확실성에 적응할 수 있도록 돕기 위함 학습 플랫폼의 기능을 개별학습자 별로 다르게 설정할 수 있는 자유도 부여  전문가가 자신의 전문성을 학습 플랫폼에 임베딩할 수 있고 이는 유사한 업무나 학습 요구가 있을 때 도움 자료로 활용됨 두 가지 난점: 1) 전문가가 웹에 자신이 원하는 기능을 모두 구현할 개발능력이 없음, 2) 전문가가 자신의 학습 필요를 알아내고 이에 맞춰 행동하기 어려움  \"웹에 재구조화를 통해 전문가의 인지구조를 시각화하고 전문성을 전이시키려는 시도\" 정도로 이해하면 적절할듯 3.5 Encouraging Active Learning 두 가지 LA system의 예시: Learn-B, Mirror.LearnB 전문가의 자기조절식 학습을 지원하기 위하여 SRL Framework 에 기반하여 설계됨 Self Regulated Learning Framework  자기 통제에 영향을 미치는 데이터를 수집하는데 사용되는 틀 예. 학습목표가 계획된 방법, 개인이 업무를 위한 지식을 구축하고 공유하는데 필요한 활동의 구체적 범위 등 Learn-B https://dl.acm.org/doi/10.1145/2330601.2330632 Social Semantic Web 기술을 사용하여 유사한 학습과 개발 목표를 가진 사람을 밝혀내고, 연결해주기 위한 데이터를 수집하고 분석함 Learn-B 시스템 구조. 우측 Media Wiki, Tagging Tool, Elgg에서 디지털 기록들이 발생하면 Processing Service Group에서 처리함 역량 목표를 세우면, 그것을 이미 달성한 사람의 수를 보여줌 동일한 목표를 가진 학습자와 비교하여 자신의 학습 진행도를 보여줌(사진 속에는 아쉽게도 비교할 학습자가 나와있지 않음) 조직 내에서 자신이 얼마나 지식을 공유했는지 보여줌으로써 지식 공유활동을 촉진함 \"개발 탐지기(developmental radar)\"로서의 기능 수행 전문가가 자신에게 유용한 잠재적 인간관계와 지식에 접근할 수 있도록 도움 기능 예시1. 전문가의 학습과정을 모니터링한 뒤 학습전략에 대한 피드백 제공 기능 예시2. 전문가가 자신의 학습경험을 문서화하고, 이를 다른 사람과 공유하도록 만들어서 미래에 유사한 학습경로를 거칠 사람에게 도움을 줌 \"과거에 나랑 똑같은 목표를 가지고 공부한 사람들이 평균 6달 정도 공부했으니, 나도 이번에 학습계획을 6달 정도로 잡아야겠구나\" 기능 예시3. 동료 또는 다른 팀의 업무 과정을 지켜보며 자신과 팀의 행동에 대해 반성할 수 있음 Mirror.LearnB 성찰을 통한 학습이 일어날 수 있도록 개인과 조직의 행동을 분석해줌 개인과 팀의 학습과 조직의 학습 사이에 분명한 관계가 있음이 드러남 개인의 성찰과 이로인한 변화가 집단적 성찰과 어떤 관계가 있는지 보여주는 그림.  개인의 경험이 타인과 공유 및 논의되면서 적절한 의미를 구성해감 성찰을 통해 조직의 문화와 마인드셋까지의 변화가 이뤄지지 않으면, 이런 분석결과를 통한 변화의 효과가 미미해짐 4. Conclusion Talespin - Our Vision At Talespin, we envision a world where individuals are given the opportunity to find their purpose. Our goal is to provide a platform to help people become b... https://youtu.be/dzooiG4lrBU?t=39 https://www.talespin.com/ PLA의 중요한 리스크 개인의 자기조절 학습력이 중요 조직의 문화와 마인드셋 자체의 변화가 필요 PLA의 한계 전문성이 온전히 양화되기 어려운 속성을 지님 감정이나 동기적 측면도 고려할 필요 있음 1. Intro 2. How Professionals Learn 3. A Vision For PLA 3.1 Analytics in Action 3.2 Accelerating Just-in-Time Learning 3.3 Exploiting Organizational Networks 3.4 Making use of Specialist Expertise 3.5 Encouraging Active Learning 4. Conclusion 5. 토의 5. 토의 PLA 는 전문가에 의한 자기통제식 학습이 주를 이뤄, 교수자의 존재보다는 자신의 활동을 다각도로 점검할 수 있는 메타정보다른 사람과 비교한 학습 진행율, 지식 공유 정도, 학습자 간의 관계의 제공이 강조되는 것으로 보입니다. 아무래도 시간과 노력을 들여 교수체제를 설계하고 탑다운으로 제공하는 것보다, 최대한 조직 내/외부 학습기회를 폭넓게 제공하여 개인의 학습자율권을 보장해주는 것이 더 효율적이어서 그렇겠죠. 저는 오늘 공부한 PLA가 학술적으로는 모호한 면도 있고 구현에 있어 막연함도 크지만, 큰 방향성의 측면에서 교육이 나아갈 길이 맞다고 생각합니다.  아래의 주제에 대해 순서대로 논의해봅시다. 자신의 현재 소속(대학원, 직장 등)에서 의도적으로 교육 받지는 않았지만 무의식적으로 학습한 내용을 나눠봅시다. 1번에서 말한 학습내용에 관한 분석을 수행하기 위해 얻어야하는 data와 분석방법은 어떤 것이 있을까요  (분석방법을 제시하기 어렵다면 꼭 연구를 인용하지 않아도 좋습니다) 입문자(novice)에게 해당 내용의 학습에 드는 시간과 노력을 단축시켜주기 위해서 2번의 분석결과를 어떻게 사용해야 할까요? 지훈 예시 <현지, 유경,주홍, 웅기>ㅋㅋㅋㅋㅋㅋㅋㅋㅋㅋㅋㅋ #1번 주제 현지 : 정의적 측면 (말투, 태도, 조직문화, 조직의 의사소통 방식  등) // 비판적 사고, 경계 필요 (대화, 멘토링, 성찰 오찬 대화 등을 통해)  주홍 : 메이커교육실천  수평적 구조에서 소통하는 방법 / 학교에서 학생들을 관찰하는 것 유경 : 회사에서는 개발되는 교육과정보다는 직원들이 알아서 학습할 수 있도록(상시학습) 환경 조성  신입사원이 교육받은 내용을 정리해서 후배들에게 물려주거나, 학습동아리를 운영 보고서 작성 웅기 : 회사 내 권력 #2, 3번 주제  현지: 생체 심리 데이터  정서 // 환경 맥락 데이터 // 상호작용 텍스트 데이터 // 질적 분석 (연구 데이터 목록화)  주홍: 용어에 대한 학습 측정 유경: 동영상, 반복적인 것을 동영상으로 만들 수 있도록 하는 것 (어떤 종류의 지식을 많이보더라)/ 당신이 공유한 이 자료를 누가 얼마나 봤다 를 수치로 제시하는 것 웅기 : 로그데이터, 자연어처리, 동영상에서 발생하는 데이터 분석, 위키 현지 :  <수진, 재용, 지훈> 1) 수진: 학교장의 답정너로 인해 소통 의지 상실 재용: 교수님의 기분을 표정만으로 아는 것, 논문 리딩하는 법, 논문 검색 키워드 넣는법  개인마다 다를텐데 가능할지?  아마존 킨들이나 medium에서 \"다른 사람이 하이라이트한 곳\"을 표시해주거나, 모를만한 단어 뜻 적어놓기 2) 검색어, 검색어에 따른 링크 진입, 링크 별 체류시간, 다운로드  초보자는 애초에 무엇을 검색해야할지 자체를 모름 초등학생은 \"컴퓨터에서 줌을 다운로드 받는 방법\"과 같이 검색하는 키워드 잡는 행위를 못함 키워드 추천은 너무 어려우니, 헤매는 것으로 식별하는 것을 위주로 3) 챗봇을 통한 자각 보조 꼭 이걸 실시간으로 피드백하기보다는, 최초에 한번 교육해도 되는것 아닌가? (번외: 교수님 감성분석 + 회의록 기반 묵살 빈도 라벨  교수님에게 묵살 당할 확률 <용현, J.영훈, 인영, 하경> 하경 : 대학원 입학 전, 동료 네트워킹 ojt  각종 정보와 스스로 학습해야 할 내용을 의도되지 않게 습득.   상호작용 data 텍스트 분석 등(이메일, 대화 기록), 질적분석  입문자의 학습 시간을 줄이기 위해? 네트워크 체계화, 조직 내 호의적인 문화 형성 인영 : 의도되지 않은 학습 - 그 조직만의 일하는 방식, 시스템 활용 등을 주변 부서 선배들로부터...도제식? 교육에서 배운다고 해도 부족한게 있는데,  영훈 : 출판사와 일을 하는 경험, 부끄러운 경험  마감에 허덕일때 당당한 마감 연장 요구를 보고 느꼈다. 용현 : 문화는 양적인 표현이 가능할까? 특정 양식이 퍼져나가는 양상을 보일 것 같다. 출판사와 저자와의 상호작용을 분석할 수 있으면 좋을 것 같다. 인영 : 조직 문화 분석  특징 : 해외 법인의 리더들이 받는 교육, 우리 나라 회사에 들어오면서 문화 차이로 힘들어하는데, \"보고에 숫자(양적 데이터)를 많이 넣는다\" 등의 팁을 주고받으면서 발전했다. 데이터를 얻기가 어려울수도. 임직원들이 소통하는 게시판에서 댓글 분석  용현: 우연적 사건들에 의해 문화가 퍼져나가는 것과 네트워크 구조로 퍼지는 것 중 어떤 게 속도가 더 빠를 것인지? 페이스북은 회사용 페이스북이 따로 있어서, 필수 5개 그룹을 주고 네트워크를 통해서 회사 생활을  <영훈 해린 은서> 영훈: 대화의 맥락 이해, 사무실 내의 조직문화와 관련된 암묵적인 룰(과장님 퇴그전 퇴근 불가)출퇴근시 인사를 안하는것이 대안이 됨, 휴가 사용시 사무실 내 직원들과의 휴가 일정 조정 후 휴가 결정 해린: 현장교사만 공유하는 커뮤니티를 알게 된것, 커뮤니티 안에서 댓글 수집시 메뉴얼이 나오지 않을까   은서: 메뉴얼화되어있지 않은 현장 적용시 구체적인 업무 관련 세부사항, 담당자의 자율성이 주어진 업무(교사의 평가방법, 성적처리 혹은 학교업무 등), 생활기록부기재요령과 같이 공식적인 기관의 공문서를 학교별,직위별, 교사별,학년별 자율적 해석업무적용시 달라짐 은서: 행정업무 오픈카톡부 DB화, 타임라인으로 시기별 업무리스트 업무네트워크 업무내용 키워드,  메신져대상과 내용의 키워드&첨부파일, 공문 & 공문의 공람대상&결재라인, 참여회의-위원회 담화분석 영훈: 업무 오픈카톡방 활성화(정보부장모임, 교무부장커뮤, 보건교사 커뮤)ㅋㅋㅋㅋㅋ'},\n",
       " {'title': '25. LA: Layers, Loops, and Processes in a Virtual Learning Infrastructure',\n",
       "  'day': 'July 20, 2021',\n",
       "  'people': 'H\\nHae Rin Lee',\n",
       "  'link': 'https://dndrl.notion.site/25-LA-Layers-Loops-and-Processes-in-a-Virtual-Learning-Infrastructure-61be69c8fa0e431daaf2fae0c4a442af',\n",
       "  'content': \"Chapter 25. Learning Analytics: Layers, Loops, and Processes in a Virtual Learning Infrastructure Learning Analytics (LA) : a term that refers to the use of digital data for analysis and feedback that generates actionable insights to improve learning Layers, Loops, Processes : characteristics of complex learning infrastructures and a way of approaching the design of LA Learning infrastructure : a framework for connecting different modes of LA that together constitute a virtual learning ecology designed to serve a particular social vision Contents> Part 1. Learning Power Part 2. Learning Journey 1. Learning Power  What is Learning Power? 7 dimensions of Learning Power CLARA Why Learning Power? Use of metaphor, story, and image Let's talk about the feedback of data 2. Learning Journey 'Learning Journey'라는 비유 Learning Power와의 관계 Single loop vs. Double loop Learning Journey의 과정 Learning Infrastructure 생각 나누기  1. Learning Power를 측정하기 위한 CLARA 그래프는 성장 지향적 마인드, 과정 중시 등을 위해 숫자를 표시하지 않는다고 합니다. 이에 대해 어떻게 생각하나요? 여러분이 교수자/학습자라면 분석결과가 숫자 없는 시각화로 표현되길 원하나요?  2. Rapid feedback은 각각의 네 주체들에게 어떤 영향을 미칠까요?     장기적/단기적 관점에서 긍정적인 영향만 있을까요?  1) by students  2) by teachers (교사의 교수법이 얼마나 효과적으로 평생 학습 역량을 만들어내는지 평가)  3) by leaders (결과와 관련된 전반적인 교육기관 정책 사안을 결정)  4) by researchers (새로운 지식을 생성하기 위해 데이터 탐색 및 분석) <영훈 준오 유경> 오히려 답답할것같다? 숫자로 표현하지 않는다고 해서 성장지향적 마인드, 과정 중시가 달성이 될 것 같지는 않다. 교수자 입장에서는 시각화에 숫자가 포함된 것이 명확히 유리할 것 같다.  숫자 점수 자체가 절대적인 의미가 없다면 안보여주는게 낫다.  상대적인 지표이기 때문에 절대적 숫자를 보여주는 것은 부적절할 수 있음 피드백에 대한 태도에 따라서 긍정적/부정적으로 작용할 수 있다. 학습자의 경우 : 학습자의 성향에 따라서 (의욕이 있는 학생 vs 없는 학생) 피드백을 귀담아 들을지 흘려버릴지 달라질 수 있다. 교사의 경우 : 본인의 수업이 모니터링 받는다거나 지적을 받는다면 반감/자의식으로 인해 악영향이 나타날수도? (사람이 주느냐, 기계가 주느냐에 따라 다를 수 있다.) 수업 도중 너무 잦은 피드백은 짜증날수도... 리더의 경우 : 너무 사소한 정보까지 오다보면 정보의 과잉으로 인해 판단하기도 힘들고, 조직문화에도 해롭다. (구성원들에 대한 불안감을 갖게 되거나 압력은 주는등), 정책결정은 장기적인 관점에서 생각해야 하는데 너무 rapid하면 부정적으로 작용할 것이다. 대신, 빠르게 대응해야 하는 현안에 대해서는 필요할 것이다. 제프 베조스 : CEO가 하루에 내리는 결정은 3개 넘기지 말라. 너무 많은 정보는 바람직하지 않다고 했음 연구자의 경우 : 크게 도움이 될만한 점은 없어보임 (시계열로 보면 도움이 될것같기도...?) 용현, 재용, 채연 채연 : 학생들이 자기보고를 해서 learning power 다이어그램을 그리는데 자기보고 방식이 다소 아쉬운 것 같다. Learning Power의 그래프에 숫자를 표시하는 것이 좋은가? 결국 핵심은 어떤 정보를 왜 제공하는가이다.  정보 제공 목적 교사의 학생 특성 파악: 숫자로 제공하는 것이 도움 된다 학생의 자기 성찰 촉진: 숫자가 없어도 괜찮다 이슈 Learning power가 learning journey에 어떻게 기여하는가가 분명하지 않다 (메커니즘) 자기보고식 데이터의 한계: 자기인식과 제3자에 의한 평가가 다를 수 있다  자기보고식으로 학생 모델을 만드는 것이 바람직한가? 수치가 갖는 정확한 의미가 모호해서 숫자를 제시하는 것의 결과를 생각하기 어렵다 상대적인 값으로 제시하는 방법은 어떨까?  성찰을 위한 도구라면 다소 아쉬움이 있을 것 같다.  가소성에 대한 부분은 동의하기 어려운 것 같다(?) Rapid feedback은 각각의 네 주체들에게 어떤 영향을 미칠까요? (장/단기) 주체별 영향 학생: 자신의 성장과정, 강약점에 대한 성찰 교사, 행정가: 학생/학급/학교의 특성 파악 가능, 대량의 데이터 확보에 따른 윤리적 문제 우려 연구자: 특정 교수적 처치의 효과가 나타나는 과정이나 메커니즘을 확인할 수 있다(ex; 채연쌤의 시뮬레이션 교육 연구) 이슈: Rapid feedback의 정의/범위? 피드백이 얼마나 빠른지, 주기적인지에 따라 영향이 다를 것 같다. 과정중에 줄 수 있다는 맥락으로만 해석하고자 하면 주식을 일봉으로 보면 희노애락이 담긴다 너무 학습자들의 데이터가 많으면 윤리적인 문제가 생길 수 있지 않을까 (교사나 행정가) 연구자의 입장에서는 과정중에 처치의 결과 또는 그 간접적인 메커니즘을 확인할 수 있으니 긍정적으로 보인다. (ex; 채연쌤의 시뮬레이션 교육 연구  얼굴표정 분석 데이터의 방대한 양) 지훈, 해린, 기원 learning power 개념 이상함 수치화의 필요성 기원: 학생, 교사 입장에서는 수치화한 결과는 의미 적을 것 같고, 운영자 입장에서는 필요할듯 해린: 수치화된 결과를 가지고 비교할 수 있기 때문에, 학습자의 개별 성장이라는 유일 목표를 위해서는 안 드러내는게 좋지 않을까. 교수자/학생용 데시보드 구분 지훈: 다양한 맥락에서 연구 수행 필요(학습자 특성, 부모 특성, 교수자 특성 등 + 제시하는 시점) Rapid FB이 미치는 영향 해린: 질문 제작 의도. 주체별로 다를 것이기 때문에 구분할 필요성을 느낌 해린: 피드백의 형식(어조)이 중요할듯. (style transfer) 기원: Rapid FB의 정의 불분명.  지훈: 모델에 의해 자동생성된 피드백은 최악의 경우를 대비하는 차원에서만 강제적인 알람 기능 수행 + 의사가 AI와 함께 진료해야 오진율이 낮아지듯 사람의 자유도를 줄 필요 있음 1) 학생 기원: 교수-학습과정의 피드백 상황을 생각했을 때, 피드백 주도권은 교사에게 있음. 즉, 교사 철학에 따라서 자동생성된 피드백을 수정/변형하여 사용하면 문제 없을듯 2) 교사 해린: 피드백은 무조건 자주가 아니라, 적당한 타이밍이 중요. 오히려 잘되던(효과가 텀을 두고 나타나는) 교수법이 막힐 수 있음. 기원: 최근 대학에서 학생의 교수자 피드백 기능이 활성화되어 있어서, 사용을 원하는 사람들은 사용하고 있음(선택적) 3) 리더 기원: 리더도 교사와 마찬가지로 결정권을 가지고 있기 때문에, 피드백을 본인 철학에 따라 반영만 적절히하면 될듯. 4) 연구자 해린: 교수자가 피드백에 따라 영향을 받으면, 연구자의 대상도 훼손될 여지가 있음.  은서, 윤희, 현지  1. 윤희 : 숫자의 작은 차이가 학습 성과와 크게 상관이 없을 수도 있음 >  그럼에도 불구하고, 학습자가 분명한 수준을 원할 수도 있음 >> 학습자마다 다르다 현지 :  -목적은 좋음. 그러나 목적을 달성하기 위한 이상적인 평가방법인 지는 모르겠음.  성장 지향적인 목적을 위해서는 특정한 절대평가 기준을 넘긴 뒤 역량 배지 등을 가질 수 있도록 하는 것은 어떨까 하는 생각이 듬  -학습자 특성에 따라 평가방법을 선택하도록하고, 선택지 중 하나로 제공하면 좋겠음  은서 : *진로검사 시, 학습 심리에 관한 > 그래프 결과 지가 한 명씩 전달됨  -교수자 입장 : 숫자가 있는 것이 좋음 >학습자의 학습 수준을 구체적으로 파악할 수 있어 좋음. -학습자 입장 : 숫자가 없는 것이 좋음 > 학습자 자기평가 시, 숫자의 작은 차이에 예민하게 반응한 편인 학습자에게는 오히려 학습에 역효과가 있을 수 있음.  2-1, 2-2 윤희 :  너무 자주 피드백을 제공하면 스스로 생각하는 힘을 잃을 수 있음 현지 :  -피드백의 내용에 따라 다름 격려 피드백은 수시로 받는 것이 좋겠지만 구체적인 개선/발전방향에 대한 피드백이라면 가끔받는 것이 좋을 수도 -과제의 내용에 따라 다름  고차적인 사고력(확산적 사고)이 요구되는 경우 > 학습자가 스스로 고민, 격파  폐쇄적 사고(정답이 정해진) 빠른 교정이 필요한 경우 > 빠른 피드백 은서 :  (교사 생각) 빠른 피드백은 좋은 효과를 낳을 것 / 순간적인 판단으로 피드백의 질 수준에 영향을 줄 수 있음  (학습자 생각) 달갑지 않음. 익숙해져서 피드백에 둔감해질 수 있음. 교수자의 생각과 다른 역효과가 날 수 있음  2-3.  연구자 > 피드백의 속도보다는 피드백 주체의 다양성, 충분한 양 번외 ) '평가'의 목적은 측정도 있겠지만, 결국 '성장'을 위한 하나의 도구 (평가  피드백으로 언어 변환 필요) 성장을 위해서는 '자기성찰지' 등 성찰을 강조하는 활동을 질적으로 누적하는 것이 더 좋지 않을까 <하경, 웅기, 지영> 시각화 숫자가 없는 것 - 지영: 학습자들에게는 적합할 수 있음, 스스로 한계를 정해주지 않으니 / 교수자의 입장에서는 혼란스러울 것 같음 - 웅기: 학습자 성찰 도구, 숫자가 없음 동의 / 교수자?? - 하경: 초등학생들에게 사용했을때 역효과가 날 수도, 숫자는 표기하지 않는 것에 동의 래피드 피드백 - 지영: 학생특성마다 다름, 빠른 피드백이 피곤할 수 있음 - 웅기: 지표, 집단마다 관심사가 다름, how가 더 중요 - 하경: 학생, 교사, 연구자들마다 다름. 피드백 알람 설정을 학습자가 스스로 할 수 있도록 구성한다면(사례)\"},\n",
       " {'title': '26. Unleashing the Transformative Power of Learning Analytics',\n",
       "  'day': 'July 27, 2021',\n",
       "  'people': '원지영(교육대학원 교육학과)',\n",
       "  'link': 'https://dndrl.notion.site/26-Unleashing-the-Transformative-Power-of-Learning-Analytics-b3b7c4be97b342a6a6a92bf1ac52a638',\n",
       "  'content': 'Intro Embedding L.A in institutional systems, practices, and student success strategies \"조치 없는 학습 분석은 그저 보고에 불과하다\"  조직에서 데이터 기반 결정에 대한 이해, 정책적, 절차적, 기술적 능력 필요. Changing the dimensions of Organizational Culture Changing the Organizational Context/Capacity Crafting Strategies for Student Success Change Management Plan for Student Success Instructive failures and success stories Instructive Failures Success Stories : Institutions Getting it Right Conclusion 생각해볼 거리 (원하는 만큼 선택하여 논의해주세요) -학습자의 데이터 통합 및 관리를 실제로 실시할 때 어떤 노력이 필요할까요? 예상되는 어려운 점은 무엇이 있을까요? -실제 본인이 속한 기관에서 Transformative Power of Learning Analytics가 발휘될 수 있다고 생각하시나요? 가능하다면 어느 정도의 기간이 필요할까요? -우리나라에                            서 기관 단위의 노력으로 Learning Analytics를 적용한 사례가 있을까요? 혹은 어느 분야에서 가장 먼저, 용이하게 적용을 시도해볼 수 있을까요? -아래는 EDUCAUSE에서 예측한 5개년 예측입니다. 2021년의 예측이 맞았다고 생각하시나요? 향후 2023년까지 더 발전하게될 부분은 어디라고 생각하시나요? < 채연 준오 용현 > EDUCAUSE 예측 결과에 대해서 : 위의 5개년 예측에서 비즈니스는 기대 이상으로 성장한것처럼 체감이 되는데, LA는 오히려 기대 이하에 머무르는것 같다. (씽크빅 등 약간 비즈니스와 교육이 연계된 분야에서는 잘 이루어지는 반면, 대학에서는 기대 이하다.) 현재에는 LA같은 것에 당연히 빅데이터를 포함시켜 생각하는데, 위의 예측에서는 빅데이터를 분리한 점이 흥미롭다. 대학에서 교수님들이 이런 LA기술 활용에 대해서 보수적인 경향이 있는것 같고, 이를 해결하기 위해 대시보드 시각화가 잘되어야 할듯. 왜 LA는 비즈니스 퍼보먼스 분석에 비해 부진한가? 비즈니스 분석 툴은 메이저한 수단(구글 어널리틱스 등)이 잡혀있어서 그에 대한 활용방안과 조치가 쉽게 연구될 수 있는데, LA는 아직 분석툴조차 연구중인 단계. 당장 LA 서비스 제공해주는 업체도 잘 떠오르지 않는다. 씽크빅 같은 경우에는 평가 기준을 비교적 명확히 할 수 있지만, 대학교육 등으로 나아갈때 일반화된 기준을 잘 만들기가 어렵다. 비즈니스 분석 툴에서 아이디어와 방향성을 참고해 가져올 수 있을 것 같다. 평가 방식이 획일화되지 않은 상황에서는, 대시보드를 사용자가 능동적으로 구성할 수 있게끔 하는 시스템이 개발되어야 할듯? Transformative Power에 대해서 : 코로나라는 특수한 상황을 벗어나 오프라인 교육으로 다시 돌아가게 되면, 공교육/대학교육 등 보수적인 교육환경일수록 학생 로그 수집이 오히려 더 어려울것. 그래서 구성원들이 LA 의 필요성에 대해 공감하는 것이 중요하다 (그래서 이번 장의 문제의식이 중요해보인다) 먼저 활용 우수사례가 생겨야 동력이 생길 것이다. (예: 콜로라도대학의 졸업률 증가) 실질적으로는, 교사에게도 편의성이 제공되는 등 교사가 얻는 이점이 제공되어야 한다. (아무리 학생 성취 올라간다고 해도 교사가 너무 불편하면 유명무실해질것) 학습분석이 교사에게 어떤 편의를 제공할 수 있는가? 씽크빅의 경우 학생들의 수행 정도 등 로그를 시각화 해줄 뿐만 아니라, 학부모에게 제공한다. 이 점이 교사에게서는 학부모 소통을 편하게 해줘서 좋다는 반응이 있었다고 한다. (AI에게 교사가 원하는 것 = 학교 업무 대체!! ) 유경, S영훈, 웅기, 지훈 질문(-학습자의 데이터 통합 및 관리를 실제로 실시할 때 어떤 노력이 필요할까요? 예상되는 어려운 점은 무엇이 있을까요?) -2. 실제 본인이 속한 기관에서 Transformative Power of Learning Analytics가 발휘될 수 있다고 생각하시나요? 가능하다면 어느 정도의 기간이 필요할까요? 영훈(교육부): 데이터를 직접 관리하지는 않음. 어떤 데이터를 수집할지에 대한 고민 필요, 법적 관리방안 및 익명처리 방안 고민 필요 웅기(학교): 교육부에서  발생할 수 있는 문제들과 유사함. 이해관계자들의 디지털 리터러시를 높이기 위한 방안 고민 필요(개인의 노력으로 해결할 수 있는 문제인지에 대해 의문)  대시보드로 효과를 본 교수자들은 실제로 대시보드를 사용한 기간이 매우 길다. 유경(기업): LMS에서 데이터를 수집하는 체계적 방안이 마련되어 있지 않음. 기업은 학교와 다른 목적을 가지고 있어 교육 외적인 결과에 대한 관심이 큰 편. (추천시스템 말고, 학습분석에 대해 관심을 갖지는 않는 것 같음) 지훈(10-1동 6층): 개인정보 문제, 펀딩 문제 등 -3. 우리나라에서 기관 단위의 노력으로 Learning Analytics를 적용한 사례가 있을까요? 혹은 어느 분야에서 가장 먼저, 용이하게 적용을 시도해볼 수 있을까요? 영훈: 학습부진의 정도를 진단하고, 이에 따른 처방이 시행되었음. 과목 단위로도 결과가 나옴. 웅기: 공공기관보다는 사기업에서 더 빠르게 적용할 것. Riiid, 웅진 등 -4. 아래는 EDUCAUSE에서 예측한 5개년 예측입니다. 2021년의 예측이 맞았다고 생각하시나요? 향후 2023년까지 더 발전하게될 부분은 어디라고 생각하시나요? 영훈: Use of big data in institutional analysis, predictive analytics for institutional performance, LA 지훈: 체감상 패널데이터, 텍스트/컨텐츠 분석이 많아진듯.  유경: 비즈니스 분석과 학습분석을 같은 선상에 놓은 것 자체에 대한 의문. 비즈니스 분석 시장은 엄청 커질듯 웅기:  하경, 새록, 은서, 전영훈 1+2번> 하경: STEM 학습에 있어서 interest driven participation 연구... 교사가 어떤 처방을 제공하는 가에 따라 학생들의 지식 습득 과정에 어떤 영향을 미치는지 연구. 온라인 토론 개입 시기... 새록: general하게 생각해 본다면 > 어느 시점에서 학습자에게 적절한 처방이 들어갈 지 그 타이밍을 아는 것이 중요. 학습분석은 조치 (= 처방)가 필요한데, 데이터를 통합 및 관리해서 어떠한 처방들을 할 수 있을지 - ex) 컴퓨터 기반 협력 학습(CSCL): 학습자마다 원하는 것이 다름. 피드백의 측면에서 학생이 원하는 양, 교사가 제공하는 양이 다를 때 학습자에게 혼란을 야기. 동일한 피드백에 대해서도 학습자마다 반응이 다른 것을 봄. > 개별화된 피드백을 적절하게 제공하는 것이 어려울 것 같음. > 학습자에게 선택권을 주는 것은 어떠할지? > 한국 공교육 학교 환경에서는 서로 다른 조치를 취하고 나서 동일한 시험을 봐야 하는 환경이 문제가 될 수 있음. 은서: 학생들에게 난이도별로 과제를 제공하더라도, 결국 시험을 볼 때에는 하위 난이도로 맞출 수 밖에 없음. 코로나 이후 학습 플랫폼을 정할 때 어렵다는 이유로 좋은 플랫폼들이 탈락하는 모습을 봄. 혼자서만 다른 플랫폼을 쓰려고 했을 때 튀려고 하지 말아라..벽이 너무 높았음. 그 거부감을 넘을 수 없었음. 정서적인 반응에 대한 문제.  - 나이스를 활용할 수 있지 않을까 고민. 같은 성취기준을 골라서 그 기준에 따른 학생 평가 결과(정량+정성적)를 분석할 수 있지 않을까 영훈: 학교라는 공간에서 교사가 협력을 해줄 지 의문. 연수밖에..없을까  / 작은 성공들의 축적이 필요 3번> 새록: 대학에서는 그나마 좀 있는 편이라고 생각 vs 초중고 <해린, 명진, 지영> -명진: 한국 교육 개발원, 교육과정 평가원, 교육학술정보원, 교육부에서 교육데이터 통합 서버를 만들고 있음. 데이터를 통합하는 데에 초점을 두고 서버를 구축하고 있다. 온라인으로 쌓이는 모든 데이터를 모음.  어떤 데이터가 필요한지 명확하게하고, 그에 따른 데이터를 모아야 윤리적인 문제가 해결될 것이다. -지영: 학교에서 데이터를 모은다고 한다면, 개인정보에 관한 우려가 클 것 같다. 데이터센터 구축을 자치구역별로 한다면, 지역별 차이가 생기지는 않을까 걱정됩니다. -해린: 통합 데이터 센터가 만들어지고, 데이터의 중요성을 인식하고 있다고 하니 일괄적으로 동의를 얻고, 잘진행될 것이다. 분석 결과에 대해서 의문을 가지고 있거나 궁금증이 있는 사람들에게 어느만큼 설명해줄 것인지 가이드라인이 필요할 것.  -실제 본인이 속한 기관에서 Transformative Power of Learning Analytics가 발휘될 수 있다고 생각하시나요? 가능하다면 어느 정도의 기간이 필요할까요? 명진: 고대에는 LMS시스템이 따로 없어서 고파스와 같은 커뮤니티를 이용한다. 아마 엄청엄청 오래 걸리지 않을까. 라는 생각...  해린: 10년은 필요하지 않을까... 그리고 너무 오래걸리면 더 힘들 것이다. 흥미도, 성과도 보기가 어렵기 때문. 학교는 특히 구성원 나이에 따라 신기술 받아들이는 속도도 다름. 지영: 빠른 도입을 위해서는 어느정도 강압이 필요하지 않을까....적당한 기간내에 빠르게 진행되어야 할 것이다. *추가 논의 -명진: 잘하는 것만 하게 하고. 못하는 것은 자연스럽게 피하게 하면 걱정됨. 학습자의 요구를 반영할 수 있는 루트가 필요할 것이다.  -해린: 직업도 융합으로 가는 중. 그래서 추천 시스템도 참 많은 철학과 원리를 담아야할 것이다.  비즈니스에서 la를 적용하는 것은 좀 더 빠른 이유가.. 이런 부분을 고민하기 보다 이윤을 더 고민하기 때문이 아닐까. '},\n",
       " {'title': '🐭\\n27. Critical Perspective on Learning Analytics and Educational Data Mining1',\n",
       "  'day': 'August 3, 2021',\n",
       "  'people': 'hyunjee Kwon',\n",
       "  'link': 'https://dndrl.notion.site/27-Critical-Perspective-on-Learning-Analytics-and-Educational-Data-Mining1-15cf56da9e674cccbaf4375ca91114f1',\n",
       "  'content': ' 개요  THE OPPORTUNITIES OF EDUCATIONAL DATA MINING IN LEARNING MANAGEMENT CONCLUSION REFERENCES  아래의 주제 중 자유롭게 선택하여 논의해 보아요.   < 이재용 황준오 이웅기 이홍규 > 좋은 증거, 나쁜 증거 - 준오: 샘플사이즈가 작은 걸로 연구해서 나온 시그널들이 나쁜 증거인듯 / 조작적 정의의 일관성이 높지 않다는 문제 / 조작적 정의가 좀 이상하면 나쁜 증거다 ( 오른쪽에 첨부한 이미지 https://www.economist.com/science-and-technology/2021/07/28/data-dont-lie-but-they-can-lead-scientists-to-opposite-conclusions?fbclid=IwAR1D_exM-s9cKuHcTYBMGyDM_CM1NS1tc52SV3Ykc1e3EzR5nz7Xs_sCuFw)  - 재용: 다양한 측면에서 데이터를 수집하고 일관성있게 수집한다면, 전체적인 양상을 볼 수 있음 - 웅기: 얼마나 다양한 측면에서 데이터를 수집해야 전체적인 그림을 그릴 수 있는지 모르겠음  해결할 수 있는 방법이 있다면? - 홍규: 실험 상황과 실제 현장 적용은 다를 수 있음. 교육적 처방을 제공하기 위해 교실 현장에서 접근하기 쉬운(수집하기 쉬운) 증거여야 좋은 증거라고 할 수 있음.  - 재용: 생리심리데이터는 학습자가 속일 수 없음 <박용현, 권현지, 이은서, 허미선> 좋은 증거, 나쁜 증거 (새로운 방법 도입했는데 기존의 방법과 다름 없을 때) 자기보고식 평가 측정에 대한 분명한 맥락이 데이터와 함께 고려 (고전적으로 사용한 방법 : 확실한 방법)  용현 : 학습 분석도 결국 처치를 위한 것이기 때문에 처치의 효과가 행동의 위계에서  사전사후 비교가 가능한  행동적, 수치적으로 표현이 가능한  3. 초등 중등 / 국내외 / 사이에 현장 차이가 많이 남 > 환경 맥락이 다름으로 생기는 다름 >  개인의 특성(장의존적, 장독립적) 및 배경요인이 함께 제시되어야 함  의문 생기는 처치 > 심리학적 > 개인의 특성 더 담아 제시 (시험점수, 등등)  데이터 수집 // 데이터 정제 // 데이터 선택 // 활용 등  데이터 수집하는 플랫폼 안정성. 신뢰성 (기능)  데이터 자체에 대한 의심은 과학의 근간을 흔드는 부분이라 해소에 어려움이 있어보인다. (reproduce 가능/불가능 여부)  완벽한 간접 데이터를 확보하기 위한 블라인드 과정 필요. raw data 공개가 어려움 > 악용함  어느정도 신뢰 >  개인의 윤리 의식을 담보할 수 있는 교육 및 인증서(?)  사전에 공지 or not  매력적인 지원 사업 진행  \"자본\" 좋은 데이터가 있어야 협업이 가능할 것 같다.  공용 아하하'},\n",
       " {'title': 'Learning Analytics for Learning Design; Wise in NYU',\n",
       "  'day': 'August 10, 2021',\n",
       "  'people': 'UNGGI LEE',\n",
       "  'link': 'https://dndrl.notion.site/Learning-Analytics-for-Learning-Design-Wise-in-NYU-f81baba9f9504d7eb7938d9f65f50fb1',\n",
       "  'content': '두 가지 문헌을 활용하여 Learning Analytics for Learning Design에 대해서 발제하고자 함 두 가지 문헌은 아래와 같음 Wise, A. F., & Jung, Y. (2019). Teaching with analytics: Towards a situated model of instructional decision-making. Journal of Learning Analytics, 6(2), 53-69. Li, Q., Jung, Y., & Friend Wise, A. (2021, April). Beyond first encounters with analytics: Questions, techniques and challenges in instructors sensemaking. In LAK21: 11th International Learning Analytics and Knowledge Conference (pp. 344-353). Terminology Teacher Inquiry(교수자 탐구)  교사가 주체적으로 자신의 수업에 대해 탐구하고, 연구하는 것 Sensemaking: conscious process of comprehending patterns and connections, figuring out meaning and anticipating the future Teaching with analytics: Towards a situated model of instructional decision-making 1. Introduction 5명의 대학 강사들이 학습 분석 대시보드를 사용하는 과정에 대한 연구 연구에서는 인터뷰를 위한 질문지를 개발하고, inductive qualitative analysis를 통해 교수자들이 어떻게 1) 질문하고(asked questions), 2) 데이터를 해석하고(interpreted data), 3) 행동하고(took action), 4) 확인하는지(checked impact)를 확인함 2. Literature Review 최근, 강사들이 직면하는 학습 분석은 연구 혁신 분야에서 실제적으로 사용될 수 있는 기술로 이동하고 있음 초기 연구: 학습자의 데이터를 활용해서 교수자를 지원하기 위한 도구 설계에 집중됨 ex) Ali, L., Hatala, M., Gaevi, D., & Jovanovi, J. (2012): 도구에 대한 교수자의 이해에서 효과적인 시각화가 미치는 영향에 대한 연구 Second Phase: 실제 교수 상황에서 도구 사용 횟수, 시간, 특징 등을 중심으로 사용성을 연구하는 것 ex1) Dazo, Stepanek, Chauhan, & Dorn (2017): 일년동안 14명의 교수자를 대상으로 한 연구에서  대시보드 사용에 대한 낮은 빈도와 사용성을 발견함 ex2) Tarmazdi, Vivian, Sazabo, Falkner, & Falkner (2015): 한학기동안 한명의 교수자를 대상으로 한 연구를 통해, 교수자는 감성 분석 그래프(sentiment analysis)와 팀 역할 분석에 대한 특징(team role analysis features)을 규칙적으로 사용했음을 발견함 교수자가 실제 교수 활동 중에 학습분석 대시보드 사용하는 것에 어려움을 느낀다는 연구도 있음 ex) Dazo et al. (2017): 6명의 강사들을 대상으로 한 연구에서, 도구에 대한 높은 열정과 관련없이 학습분석을 통해 확보한 정보를 실제 교수 상황과 연결짓는 것에 어려움을 느낀다는 것을 발견함 Third Phase: 어떻게 교수자가 학습분석 결과를 행동 가능한 정보로 변환할 수 있도록 지원해줄 수 있는지에 대한 연구가 진행되고 있음 1. 교수자가 흥미로운 교육학적 질문을 발견하고, 교실에서 적절한 증거를 수집하며, 정답을 생성하기 위해 정보를 분석하고 반영하는 것    교육 실제를 바꾸는 것 뿐만 아니라 전문성 신장을 위해서    학습분석이 교수자 탐구 과정(Teacher inquiry cycle)의 다른 단계를 지원할 수 있다는 연구가 제시됨   ex1) Avramides, Hunter, Oliver, & Luckin (2015):  교수자 질의 과정(Teacher inquiry cycle)의 순서를 변경   ex2) Sergis, & Sampson (2017): 체계적 문헌 리뷰를 통해 학습분석이 교수자 탐구 과정(Teacher inquiry cycle)을 지원해왔는지 2. 학습분석과 학습디자인이 어떻게 학습자의 데이터가 교육적 목적을 달성하기 위한 학습 활동, 자료, 계획을 개발하는 반복적인 과정에 도움을 주는지에 대한 것   ex1) Lockyer, Heathcote, and Dawson (2013): 분석 정보의 두 가지 다른 개념적 카테고리를 이론화함    checkpoint analytics(whether students access the necessary resources)    process analytics(how students complete the learning tasks)   ex2) Bakharia et al (2016): 어떤 유형의 분석이 학습 디자인에 도움이 될 수 있는지와 특정 활동과 변화에서 학습자 참여를 알고 싶다는 교수자들의 의견을 확인함   ex3) Xhakaj, Aleven, & McLaren (2017): 어떻게 학습분석 대시보드가 교실 준비 중에 교사에 의해 실행될 수 있는지에 대한 연구를 진행함. 특정 자료에 대한 학습자들의 학습 과정을 제시하는 것은 학습 디자인을 확인하거나 적절하게 변형시킬 수 있도록 함. 3. 어떻게 학습분석이 교수자가 학습 과정을 관찰하고 그들의 교육 상황에 조화롭고 유연하게 적용할 수 있는지를 중점적으로 다루는 것   ex1) Molenaar, & Knoop-van Campen (2018): 교사들이 학생과 코스에 대해서 그들이 가지고 있는 교육학적 지식을 활성화해서 분석결과를 해석하고 반영한다는 사실을 발견함   ex2) Tan, Koh, & Jonathan (2018): 교사들이 학생들의 참여와 메타인지를 촉진시키기 위해서 분석 결과를 사용한다는 사실을 확인함 4. macro-level: 분석을 행동으로 옮기기 위한 기관 차원의 지원   ex) Rienties et al. (2016): 학생 모니터링의 일반적인 사이클을 참여시키거나, 위기 상황에 있는 학생과 언제 접촉할지 결정하는 것 3. Conceptualizing Instructors\\' Process of Analytics Use 3. 1. Analytics Use as Sense-Making and Response 과거에는 Sense-Making이 Response에 선형적으로 영향을 미친다고 생각했지만(좌), 최근에는 Sense-Making과 Response가 서로 영향을 미친다고 이해하고 있음 3. 1. 1. Sense-Making 교수자 탐구(teacher inquiry)는 전통적으로 분석의 Sense-Making을 촉진하기 위해 질문 식별이 중요해졌음 데이터 해석은 전체 데이터에 집중한 이후 세부적인 데이터에 집중하는 것임 그러나 교수자가 데이터를 활용하는 과정에서 어려움을 느낀다면, 과정을 멈추거나 참여를 멈출 수도 있음 교수자는 해석을 위해 학생과 코스 맥락에 대한 정보를 사용할 수 있음 3. 1. 2. Response 분석에 대한 반응(response)과 관련해서는 주로 서로 다른 종류의 교수적인 행동에 대해 연구가 이루어짐 Whole-class scaffolding(Orchestration):  교수자는 데이터 분석 결과에 기반해서 반 전체에 대해 어떤 처방을 할지 결정함 ex) 데이터 분석 결과 상당수의 학생들이 개념을 이해하지 못했다면, 개념을 지도하기 위해 추가적인 시간이 필요한지? Targeted scaffolding(Orchestration): 데이터 분석 결과에 기반하여 특정 학생에 집중하는 것 ex) 활동이 부족한 학생에게 이메일을 통해 개인화된 지원을 해주는 것 Revise their learning design: 교수자가 데이터 분석 결과에 기반하여 학습 디자인을 변경하는 것 Natural extension of taking an action: 학습자 활동이나 배움에 있어서 얼마나 의도된 영향을 미치는지에 대한 연구, 많이 연구되지 않음 3. 2. A Template for Inquiry into Instructor Analytics Use 4. Methods 4. 1. Research Partnership 해당 연구는 한 학기동안 개인에게 최적화된 학습 분석 대시보드를 사용한 5명의 교수자들을 대상으로 연구되었음 대시보드는 대학의 ITLAT(Instructional Technology Learning Analytics Team)에 의해 파일럿으로 개발됨 4. 2. Learning Analytics Dashboard 4. 2. 1. Dashboard Development and Implementation Process 교수자들과 ITLAT 미팅 - 코스 맥락, 관심있는 교육적 질문(pedagogical questions, ex. which students are not engaging with the online content in my course?) - 관심있는 학생 행동이나 성취 정보(ex. 시스템에서 학습자 클릭 횟수) ITLAT는 다양한 대학내 시스템에서 발생하는 데이터를 활용하여 교수자 맞춤형 학습분석 대시보드를 개발함 4. 2. 2. Learning Analytics Dashboard Features 4. 3. Participants and Courses 4. 4. Data Collection 학기가 끝나고 회고적 인터뷰(Retrospective Interviews)를 진행함  학기 중에 수집하는게 효과적이지만, 교수자의 부담을 생각하여 학기말에 진행 개인 인터뷰 실시(면담, 비디오 컨퍼런싱) 인터뷰 메인 질문 1) What they looked at in the analytics 2) how they made sense of the information provided 3) any instructional decisions made based on the 4) whether they checked the impact of their decisions in the analytics 4. 5. Data Analysis constant comparative method(Gibson & Brown, 2009) (참고): http://www.qualres.org/HomeCons-3824.html 5. Finding  & Discussion  아래 내용은 해당 표에 대한 내용들임 5. 6. A Model of Instructors\\' Analytics Use 6. Implications 6.1. Implications for Learning Analytics Design 6.1.1. Learning analytics should be designed to align with instructors\\' pedagogical practices 교수자는 개발자와는 다른 유형으로 생각함(한주간 수업, 활동 등)  데이터 구조가 아닌 교사의 관점에서 정보를 조직해야 함 교수자들이 필요할 때 데이터 분석 결과가 제공되는 것이 필요함 6.1.2. Learning analytics should be designed to support processes of use Embed support for question generation and maintenance - 학습분석 도구들은 질문의 생성과 유지에 도움을 줄 수 있는 특징을 포함하면서 이러한 과정을 지원할 수 있도록 설계될 수 있음 - 예들들어, 시각화된 형태의 질문은 유연하게 사용될 수 있음(태그달기, 주석 등) Incorporate visual aids to find entry points to the analytics - 교수자들은 전체 데이터보다 특정 부분의 데이터에 먼저 집중하는 경향이 있음    이를 지원할 수 있음 - 예를들어, 표형태의 데이터에서 토글이 가능한 도구를 활용해서 정보를 하이라이팅하는 도구로 지원가능 Help instructors to find and work with reference points for data interpretation - 이전에 비슷한 코스에서 수집된 데이터에 접근하는 것은 높은 정도의 관련된 참고 지점을 제공할 수 있음 - 절대적인 참조 지점은 교수자들이 수업 활동, 참여, 성취에 대한 기대를 정교화시키는데 도움을 줄 수 있음 Embed flags for later decisions to take action and check impact - 교수자의 기억에 의존하기보다, 교수자가 사전에 주석을 달아둔 패턴을 제공하면서, 교수자가 상황에 대한 기억을 되살리는데 도움을 줄 수 있음 6.1.3. Learning analytics should be designed to support sharing and conversations Support analytics sharing and conversations by offering de-indentified views - 분석 결과를 다른 교수자들과 공유하여, 협업, 해석, 토론, 그리고 반성해보는 과정은 잠재적인 프라이버시 문제를 야기할 수 있음  학습자 정보를 삭제하거나 숨겨서 제공하는 방법이 있음 Beyond first encounters with analytics: Questions, techniques and challenges in instructors sensemaking 1. ABSTRACT & INTRODUCTION 본 연구는 교수자들이 학습분석 툴을 사용했을 때, 교육 실제에서 분석에 대한 감각(sense of analytics)을 만드는 자세한 과정을 알기 위해 진행됨 학습분석 경험이 있는 13명의 교수자들의 sensemaking 과정을 인터뷰를 통해 확인함 Qualitative inductive analysis가 사용됨 (1) the questions they asked of the analytics (2) the techniques they used to interpret them (3) the challenges they encountered 2. RESULTS 초기 인터뷰 프로토콜은 교수자가 특정 학습분석 대시보드를 사용하는 것에 초점을 맞췄음 그러나 실제로 교수자들은 대시보드 이외에 LMS, 다양한 학습 도구, 시험, 비공식적인 커뮤니케이션 등에서 얻은 데이터를 모두 통합하여 답변함  따라서 초기 프레임은 전체 데이터 생태계(full data ecosystem)로 확장되었음 3. DISCUSSION AND IMPLICATIONS How instructors make sense of analytics: Questions, techniques, and overall data ecosystem Instructors developed three kinds of specific questions each with a clear pedagogical focus: 1. goal-oriented questions 2. problem-oriented questions 3. instructoin modification questions 세 가지 질문은 교육학적 지식과 맥락 정보를 활성화함으로써 교수자들이 분석에 대한 sensemaking에 참여하실 수 있도록 촉진함 예) 교육학적 목적에 대한 질문은 교수자들이 학생 행동 데이터와 바람직한 학생 행동을 비교하며 목적이 달성되었는지 아닌지를 비교할 수 있도록 동기화해주었음 교수자들은 이전에 관찰된 것보다 더 복잡한 방법으로 학습분석 결과와 상호작용하였음 - 질문을 생성한 후 데이터를 단순히 읽기보다, 데이터가 제공해주는 답에 대한 기대를 개발함    교수자들은 특정 학습 상황에서 데이터를 통해 알게된 시사점을 반영하기 위해 교육학적 지식을 사용했음 - 교수자들은 학습자 다양성을 밝히고, 교수적 실제와 학습 환경 변화의 영향을 확인하는 등 더 넓은 목적으로 비교 기술을 사용하였음 - 교수자들은 교육 상황에서 알게된 데이터를 분석 결과를 통합함  따라서, 대시보드에 대한 독립적인 질문만으로는 실제를 반영하기 어려움 Progressive challenges with analytic sensemaking 교수자가 마주하는 도전적인 상황 1. Seeking relevant information 2. Making analytics useful 3. Routinizing analytics use into teaching practices 이러한 도전적인 상황들은 학습분석의 sensemaking 과정이 자연적으로 이어질지로 이어짐 정보를 찾는 과정이나 거기서 시사점(insight)를 이끌어내는 과정에서 느끼는 좌절은 흔히 발견할 수 있으며, 잠재적으로 행동을 취하지 않거나 낮은 참여를 하는 문제까지 이어짐 교수자가 통찰(Insight)을 잃지 않고, 효과적으로 실천하기 위해 학습분석 sensemaking을 루틴화해야 함  루틴화되지 않으면, 다시 도전적인 상황에 빠지게 됨 Towards supporting analytic sensemaking: Implications for practice 준비를 위해 교수자들은 분석 방법에 대한 기초적인 시범보다 실제적으로 적용할 수 있는 인사이트를 위한 질문으로 부터 전체 과정을 겪을 수 있는 과정이 필요함(워크샵, 1대1 코칭 세션) 세 가지 질문이 교수자들이 데이터로부터 얻기 원하는 것을 설명할 수 있도록 프레임웍을 제공할 수 있음 루틴화를 위한 지원 - 코치가 교수자에게 적합한 데이터 시사점(relevant data view)을 제공해 줄 수 있음 교수자들이 sensemaking 과정 동안 교수자의 질문과 테크닉의 사용을 촉진하기 위해 교육학적 지원(pedagogical support)이 필요함 - 인간의 지원도 가치가 있지만, 자동화된 툴도 도움이 됨 - 질문 생성과 관리에서, 주석 기능이 추가 될 수 있음 - 반성(reflection)을 위한 프롬프트도 추가될 수 있음   ex) What do you think students\\' levels of access to the slides will be?   ex2) Do the results align with your expectations? - 학생 다양성과 변화에 대한 효과를 확인하기 위한 비교를 촉진하기 위해, 분석 도구들은 개인화된 필터 기준을 준비해야할 뿐만 아니라, 다름과 유사함을 이해하기 위해 하위그룹에 대한 다양한 메트릭스와 시간을 비교할 수 있도록 사용될 수 있음 - 교수자들이 전체 데이터 생태계를 개발하고 관리할 수 있도록, 시스템과 구조화, 비구조화된 데이터를 선택할 수 있는 기회를 제공해 주어야 함  논의할 문제  1. 여러분이 데이터를 기반으로 수업을 설계한다고 했을때, 가장 집중적으로 관찰하고 싶은 데이터는 무엇인가요? 2. 여러분들이 교사들을 대상으로 데이터 기반 수업 설계를 지도한다고 할 때, 예상되는 교사들의 반응과 그에 대한 대응 방법에 대해서 이야기봅시다. 3. 데이터를 기반으로 수업을 설계할 때, 예상되는 문제점은 무엇이 있을까요? 4. 앞으로의 수업 설계의 패러다임은 데이터 기반 수업설계로 바뀌게 될까요? 아니면 현재 상태가 유지되게 될까요? <준오, 용현, S영훈> 가장 집중적으로 관찰하고 싶은 데이터 학생들에게 피드백을 고전적인 방법으로 받고는 있다. 이런식으로 수업을 성찰하는 것도 데이터 기반 설계라고 할 수 있을까? 고전적인 피드백에 비해서 유의미한 정량적 데이터를 얻으려면, 과제 수행 등과 관련된 기존에 안보였던 영역에서 측정한 데이터가 있어야된다. 고전적인 피드백을 정량화/시각화 하여 나타내는 것만으로도 대시보드가 의의가 있지 않을까. 학습분석 도입 시 교사 반응 및 대응 방법 가중되는 부담.. 행정 업무 증가?!  (AI가 교사 업무를 줄여줘야한다!) 새로운게 도입되는 것에 대한 교사들의 거부감, 보수성. (우리나라 교사/학교의 특성인가?) 예산의 보수성에서 기인하는 것처럼 보이기도 한다. 실제 편의성, 실효성을 갖춘 뒤 도입하는 것이 필요하다 (e.g. 아이스크림) 교사들의 반응을 시스템에 반영되는 과정 혹은 최소한 그런 제스쳐가 필요하다.  우수사례 잘 수집해서 다른 교사들이 접근할 수 있도록 체계화. (플랫폼이 있다는 것은 활용 방법에 대한 공유도 가능하다는것) 데이터 기반 수업설계 예상 문제점 지역의 인프라 격차에 대한 고려가 필요하다. 교사가 기존의 방식으로도 피드백을 받고 발전하는 방향이 있었는데, 데이터가 제시하는 발전방향이 상충되는 경우 혼란이 될 수 있다. 수업 설계의 패러다임은 바뀔것인가? 갈길이 멀다. ( 표준화 플랫폼, 데이터 기반 수업설계 연구, 정책입안, 현장 연수, 학생들 학부모 참여의식 고취 ) <새록, J영훈, 지훈> 총평 영훈: 당연한걸 왜 굳이.. 교사가 개발자가 아니니 당연하게 개발자와 사고하는 방식이 다를텐데 지훈: HCI 연구 같이 느껴졌음, interactive Dashboard 새록: 대시보드의 정보가 오히려 편향을 만들어내면 어떡하지? \\'대시보드의 존재만으로 교수자가 학습자에 대해 가지는 편견이 사라질것이다\\'는 근거 없는 믿음에 대한 의심 영훈: 접속횟수와 같은 기본적인 로그결과는 학습자를 평가하는데 도움이됨(순기능). 그러나 그 정보만 의존해서 판단을 내리는데는 무리가 따를 듯(예. 게이밍하는 영악한 학생) 지훈: 이런 논쟁은 믿음의 영역에 가까운듯. 그럼에도 교육현상을 새롭게 바라볼 관점을 제공한다는 점에서 긍정적 새록: 자기보고식 설문데이터의 장단점과 활동로그의 장단점을 적절하게 융합할 필요가 있음.  수업설계 시 가장 집중적으로 보고 싶은 데이터 영훈: 교수자의 행동에 따른 학생의 태도변화. 교사의 전문성 예. 교사가 목소리를 작게했을 때, 온 교실이 주의집중이 될 때.. 왜그럴까? 새록: 인터페이스 측면에 대한 고민도 필요 예. 학습자의 인터페이스 수용도가 낮아 연구가 어려웠던 경험이 있음. > 애초에 활용도가 높은 대시보드가 개발될 필요성 영훈: 그런 것과 관련된 연구도 진행되는듯. 사용자의 자율성을 어떻게할지.. 지훈: 실제로 필요한 데이터가 무엇인지 알 수 없어서 수용도가 낮아지는 것은 아닐까, 교사가 그걸 알 수 있도록 해야 하는 것이 아닌지. 새록: 학습자가 의도하지 않았을 때, 자연스럽게 도출된 데이터를 얻고 싶음. 심지어 지금이 학습상황이라는 것에 대한 인지도 없는.. 이상적 실험설계상황 데이터기반 수업에 대한 교사의 반응 영훈: \"힘들다\" \"싫어요\" \"부담스러워요\" 코로나로 인해 도입되는 LMS 사용으로 인해 심리적 부담을 느낀 고령교사의 퇴직이 늘어나는 추세 지훈: 믿음의 영역 (예. 코로나로 5G 기지국 부신 영국) 영훈: 그래도 최소한 교사들이 데이터기반 결과에 대해 \\'헛소리다\\'는 반응은 없음 새록: 대응방법, 연수하는 것 패러다임 변화 지훈: 데이터 기반 수업과 그렇지 않은 수업의 퍼포먼스 차이가 명확하게 드러나면, 굳이 억지로 교육시키지 않아도 알아서 따라올 것 영훈: 성적은 데이터 기반 수업 아니어도 올릴 수 있음 새록: 꼭 코로나가 아니었더라도 데이터 기반 수업은 거부할 수 없는 패러다임, 대학-고등교육에서 먼저 사용한 뒤에 변화가 오지 않을까 영훈: 대학  초등  중 고등학교(입시로 인해)로 변화가 올 것 예상되는 문제점 새록: 위에 다 나와있음 영훈: 교수자 간에 발생하는 학생 개인정보보호 문제는 큰 이슈가 될 지 모르겠음. 지금도 학습자들의 개인정보는 충분히 공유가 가능한 상황이지만, 조심하고 있음. <웅기, 은선, 명진> 가장 집중적으로 관찰하고 싶은 데이터 - 은선: 경험이 적어서, 궁금함 / 동국대 학생들 대상으로 연구  참여도 데이터 수집에 있어서 학생들이 부담을 느낌 - 명진: 교육개발원에 있을때 방송중고 학생 대상으로 학습분석 연구진행  무성의하게 참여하는 학생들에 관한 데이터가 궁금했음(성실하지 않게 참여하는, 예를 들어 온라인 형성평가를 할 때 클릭의 시간차가 너무 짧으면 찍고 넘어가는 것으로 볼 수 있음) - 웅기: 출석률, 과제참여도 데이터 기반 수업 설계 지도  예상되는 교사들의 반응 - 명진: 코로나 이후 온라인 교육플랫폼(줌, ...)에 대해서 알고 있어야 하는데, 귀찮아하고 싫어하시는 분들이 많았음  비슷한 반응을 보일 것임(열정적인 분과 아닌 분으로 나뉨) - 웅기: 인공지능이 방법론적으로 쓰였을 때 효과가 좋을 것임. 아마 열정적인 분들(5%?)과 아닌 분들로 나뉘지 않을까.. 명확한 효과가 보이지 않는다면 참여하지 않는 사람이 많을 것으로 예상됨. 초등교사임고에서 교육학을 안봄! 교육현장에서 교육학을 말하는 것이 경시되는 분위기가 있음.. 실제적인 쓰임이 덜 보여서 설득력이 떨어지는 것으로 보임. - 은선: 현실적으로 많은 시간이 필요할듯 예상되는 문제점 - 은선: 실시간 원격수업 처음 실시했을때, 출석률  학생들이 메크로를 사용함  잘못된 데이터를 사용해서 수업을 설계할 수 있을 것 같다는 생각이 들었음 - 웅기: 기술적인 솔루션을 사용하면 어떨까?  이상탐지? - 명진: 교수님이 맞춤형 교육을 반대하심  아직 학창시절을 겪는 아이들의 데이터는 얕음. 그래서 맞춤형교육은 많은 도움을 주지 않을 것이라는 생각  실패도 경험이 되는 시기, 많은 경험을 하지 못한 데이터를 활용한다면 맞춤형이 아닐 수도 있음  맞춤형 교육이란 무엇인지? 맞춤형교육의 효과는 무엇인지와 같은 철학적인 문제부터 생각할 필요가 있음. 패러다임 - 명진: 교수설계에 관심을 가지는 사람들이 학습분석에 관심을 가지면 트랜드가 바뀔 것 같음, 필요성에 대해서는 인지하고 있음 - 웅기: 마케팅분야에선 코딩교육을 많이 받고 있고, 퍼포먼스마케팅(데이터를 기반으로 마케팅 전략을 디자인하는 방법)이 많음. 산업계는 돈버는 것이 목표이니 빠르게 적용됨. 공교육은 많은 시간이 걸려서 느리게 진행해가지 않을까 - 은선: 앞으로 정말 많은 시간이 흐르면 자연스럽게 바뀔 것 같음 <하경, 기원, 유경> 1. 여러분이 데이터를 기반으로 수업을 설계한다고 했을때, 가장 집중적으로 관찰하고 싶은 데이터는 무엇인가요? 유경 : 기업교육, 다수의 학습자  관리 차원의 데이터 (출석률, 과제 제출, 동영상 시청 여부) 기원 : 학생들이 반복적으로 듣는 구간이 있음. 왜 반복적으로 들었는지? 특정 구간의 난이도 파악 가능한 기능 제공 위해 노력 중.  동영상을 볼 때 자꾸 멈추는 부분을 보여주고, 메모할 수 있도록 푸시알람; 일주일 시작 알람, 주기적 알람, LRS(Learning Record Store), 동영상 수업, 과제 미제출시 푸쉬알림 유경 : 접속시간의 규칙성을 보여주는 타임테이블, 내가 설정한 타임테이블과 대조, 보상까지 연결지을 수 있음 하경 : 교수자가 주는 피드백에 의해 학생들이 어떤 영향을 받았는지'},\n",
       " {'title': '28. Unpacking Student Privacy',\n",
       "  'day': 'August 31, 2021',\n",
       "  'people': '전영훈',\n",
       "  'link': 'https://dndrl.notion.site/28-Unpacking-Student-Privacy-d6a76f58bebf4e328eeff46b944389be',\n",
       "  'content': '\"As learning itself is a process of trial and error, it is particularly important to use data in a manner that allows the benefits of those innovations, but still allows a safe space for students to explore, make mistakes, and learn without concern that there will be long term consequences for errors that are part of the learning process.\" _2014 White House Report  요약  토의 [웅기, 부경, 지훈] 현실적으로 말이 안된다! 웅기: DKT에서 assistment 데이터 반복적으로 쓰는 것도 문제인지? 뉴럴링크에서 원숭이 뇌로 실험하는건 허락 받고 했나? 본인이 학교의 정보담당자인데 말이 안됨 부경: 데이터에 고유식별번호를 붙이더라도, 그걸 개별 기관에서 관리하는게 불가능한게 아닌지? 웅기: 어느정도 가이드를 주되, 윤리적인 선에서/문화적으로 맡겨야하지 않나? 지훈: 보험과 유사한듯, 벌어지지 않은 일을 걱정하는데 너무 많은 시간과 비용을 쓸 수 없음 웅기: 최근에 peer-review가 약해지면서 논문도 쏟아지고.. 연구윤리에 문제가 많은듯함 부경: NDA(the National Institute of ~) 에서 만든 ABCD Bio Bank. 다양한 종단연구를 진행중에 있음 웅기: 보건쪽은 IRB 다 받도록함 연구 주제 정하기 웅기: 뇌파탐지기 16채널 구매, 활용할 때 동의서 받으면 되지 않을지. IRB 프로세스도 느림 인지부하 측정 시 뇌파활용하기 좋음  부경: ERP(event related potential)은 언어자극 보기 좋다고 들음 지훈: engagement, 학습자 간의 상호작용 관련한 연구에 관심이 있음. 아직 개인정보레벨까진 고민 못함 웅기: xAPI 도입한 홈페이지 개발중인데, 개인정보 문제가 생기면 변호사를 통해 해결해야함 지훈: xAPI의 한계점이 뭘까? (statement를 통일한다고 해서 그것을 연구자들이 해석하기 편해지는 것은 아님맥락이 사라지므로) 웅기: old, 하나하나 포맷을 입히기도 쉽지 않음, 용어 사전을 맞추기도 힘듬 부경: 학습과정에서의 \\'물질\\'과 관심이 있음 (예. 필기구와의 상호작용)  생리심리 데이터, 학습활동 데이터 수집 등에 관심이 있음 [홍규, 윤서, 하경] Student Privacy Pledge 2020 살펴보기 학생정보, 교직원정보 비공개처리 보조적인 문서 매뉴얼화, 관료제 문서지상주의  학습분석의 발전에 악영향 교직 - 폐쇄적인 조직 정보들을 받아야 사교육 업체에서 학습분석에 이로운 틀, 메커니즘을 만들 여지가 있다. 딜레마 - 학습분석의 발전과 학생들의 개인정보 보호 Pledge 처럼 broad한 내용도 필요하지만 실제로는 각 학급 상황을 적절하게 반영해야 한다. 공교육, 사교육에 국한하지 말고 관심이 있는 사람들에게 적극적으로 공유해야 한다. 클래스팅 : 사기업이 학생들의 privacy(학습 경향, 어디를 틀렸는지)에 접근.   개발자들이 Github에 무료로 접근할 수 있어서 그 곳에 접근해서 학생들에게 맞춤형 자료를 제공하고 마이크로소프트사에게 자신의 개발 기록을 넘긴다. 서로 윈윈할 수 있는 방안 공교육에서 관리하는 데이터는 학생들 보호차원이 강해야 한다.  사교육의 지나친 마케팅화를 제한해야 한다. 데이터를 축적하여 새로운 상품을 내놓는 것.  학생과 학부모에 무상으로 좋은 교육을 제공하지만, 데이터는 우리(주체가 누가 되느냐가 중요하다.) 가 관리한다.  이런 방향으로 나가는 것이 어떨까?  공교육에서 관리하는 개인정보는 학생들을 보호하는 방면으로 가야 함. 사교육업체의 마케팅을 막으려면 데이터 관리 권한을 제한해야 한다.  학생들의 생체학적 정보 수집 가능?  개인정보에 민감한 학생은 기초 정보만 record   마지막 문항 : 희망적인 방향 We will incorporate privacy and security when developing or improving our educational products, tools, and services and comply with applicable laws 연구 주제 정하기    개인정보 문제가 되는 부분 살펴보기  해결책? 데이터를 가진 자 - 교육의 양극화될 가능성 개인정보 제한도에 따라 조항을 수정/삭제 하면서 차이를 확인하는 연구가 필요 개인정보 제한 / 중간 / 오픈 - 학생들에게 미친 영향을 살펴봐야 하지 않을까? 개인정보 문제 - 송은정 교수님 : 비정형 데이터(텍스트, 음성) 수집  어떻게 활용할까? 여기에 개인정보 문제가 있을까??  해결책 이야기해야 하는데... 시간이 없었다... ㅠㅠ [영진, 재용] Student Privacy Pledge 2020 살펴보기 세부적인 내용까지, 가상의 상황까지 자세하게 서술되어 있다 너무 구체적으로 진술해놓으면 규정을 회피할 가능성이 더 높아진다  오히려 포괄적으로 서술하는 게 더 나은가?  자의적, 비일관적 해석 때문에 문제가 생길 수 있다 자발적으로 개인정보 보호 노력을 하려는 것은 긍정적이다 (장기적인 신뢰관계 형성을 위해) 이 모든 조항을 준수하면 윤리적인 연구가 가능하겠으나, 그 결과물이 얼마나 효용/관심이 있을지 의문 한국에도 이런 조항이 있을까?  연구 주제 정하기  개인정보 문제가 되는 부분 살펴보기  해결책? 지속적인 감시에 대한 부담 데이터 수집 학생 감시받는 느낌, 시행착오를 제거하여 학습 위축 가능성, 위축 된 상태 측정가능? 미네르바스쿨: 학습과정 녹화  분석 결과가 성적에 반영  학생 부담이 심하다 교사의 데이터 해석에 따른 낙인효과 교사의 데이터 해석이 주관적이고 비합리적일 가능성도 있다  학생에 대한 교사의 기대를 낮추고 학생의 학습 기회를 박탈하여, 저성취 학생에 대한 차별로 이어질 수 있다  긍정적인 영향을 줄 수도 있지만, 학생의 성장을 저해할 수도 있다 책임 소재의 문제 개인정보 활용 결과로 문제가 생길 경우 책임소재 문제 발생 가능 교사잘못인가? 알고리즘 잘못인가? 알고리즘 개발자 잘못인지? 실행 과정에서의 부작용 선의로 시작했지만 본의 아니게 학생의 개인정보가 공개되면서 학생이 피해를 볼 수도 있다 ex) 같은 공간에서 개별화된 학습을 할 때 도움 필요한 학생들이 드러내기 싫어서 도움 요청을 꺼릴 수 있음 잘하는 학생과 그렇지 않은 학생 사이의 간극을 넓히고, 교사에게도 학생에 대한 선입견이 박힐 수 있음 어디까지 설명해야 하는 걸까요? 이해관계자의 범위: 교사, 교육청(장학사 등), 학부모, 학생, 회사 EBS AI펭톡? 알고리즘 설명 범위 [영훈 기원 용현] 책임을 지나치게 전가하는 느낌이다.  그래도 지금까지 큰 이슈가 없었던 만큼, 아마 데이터 문제에서 융통성있게 처리했을거라는 기대가 있다. 이번 글에서는 빠져나갈 구멍이 너무 많았다는 점을 지적하고 있어보인다. 모호함을 제거해야한다는 것. Student Privacy Pledge 2020 살펴보기 (이하는 특별한 얘기가 나왔던 조항들)  We will not collect, maintain, use or share Student PII beyond that needed for authorized educational/school purposes, or as authorized by the parent/student.  We will not use or disclose student information collected through an educational/school service (whether personal information or otherwise) for behavioral targeting of advertisements to students  We will not build a personal profile of a student other than for supporting authorized educational/school purposes or as authorized by the parent/student.  We will not make material changes to School Service Provider education privacy policies without first providing prominent notice to the users and/or account holder(s) (i.e., the institution/agency, or the parent/student when the information is collected directly from the student with student/parent consent) and allowing them choices before data is used in any manner inconsistent with terms they were initially provided; and not make material changes to other policies or practices governing the use of Student PII that are inconsistent with contractual requirements.  We will maintain a comprehensive security program that is reasonably designed to protect the security, confidentiality, and integrity of Student PII against risks  such as unauthorized access or use, or unintended or inappropriate disclosure  through the use of administrative, technological, and physical safeguards appropriate to the sensitivity of the information.  We will allow a successor entity to maintain the Student PII, in the case of our merger or acquisition by another entity, provided the successor entity is subject to these same commitments for the previously collected Student PII.'},\n",
       " {'title': '다중양식 학습분석 체계적 문헌 고찰',\n",
       "  'day': 'September 7, 2021',\n",
       "  'people': 'Y\\nYoonhee Ham',\n",
       "  'link': 'https://dndrl.notion.site/af9cc4f54d1e44a59ec216c2f51830ac',\n",
       "  'content': '     .docx 999.4KB <용현 윤서 웅기> 다중양식 학습분석의 장점과 교육적 활용방안에는 무엇이 있을까요? 장님이 코끼리 만질때 다리만 만지다가 머리도 만지면 코끼리 인식의 확률이 높아질 것. 뉴럴링크 등의 사례를 보면 생체 데이터 활용의 가능성이 있어보인다. 신규교사의 행동을 따서 우수교사의 행동과 비교하여 발전 방안 모색.  발문, 학생들의 행동을 파악할 때도 좋을 듯.  조건 아동 학습 분석에 활용하면 좋을 것 같다. 다중양식 학습분석의 제한점들을 극복하기 위한 해결 방안에는 무엇이 있을까요?] 노이즈가 정말 많이 낀다. 데이터가 현상을 잘 반영하는지 의문이 듦. fMRI 같은 경우도 brain zone이 나왔다 안 나왔다 하기 때문에, 학문적으로 접근했을 때 신뢰성의 문제가 있음.  측정의 고도화로 발전이 이뤄질 수 있지 않을까 1+1 = more than 2 를 가능하게 하는 방법이 뭘까?  다양한 생체 데이터들은 교육분야에서 기존에 불가능했던 데이터 양을 제공해서 딥러닝 기반 분석을 가능하게 한다. (ex; 영상, eye tracking 데이터) 다중양식 학습분석 혹은 학습분석의 사례가 있다면 공유해주세요. 최근에 자폐 환자에 대해서 단어  뇌파 딥러닝 모델  <송유경 권현지 신부경> 1) 다중양식 학습분석의 장점과 교육적 활용방안에는 무엇이 있을까요? + 2) 다중양식 학습분석의 제한점들을 극복하기 위한 해결 방안에는 무엇이 있을까요? 유경쌤: 다중양식 학습분석이 어떤 의미가 있을까?  \"연구자를 위한 연구\"라는 언급에 공감 현실에 적용될 수 있는, practical 연구보다는 연구를 위한 연구일 수 있음 (처방적 학문의 측면에서는 조금 부족할 수 있음, 조금 교육심리 측면에서 기반이 되는 연구일 수 있음) 선생님이 보면 집중하는지 안 하는지 보이는데 이렇게까지 해야 할지? 현지쌤: 장점: 교육적인 문제가 발생했을 때, 간접적 데이터를 사용함으로써 자기보고식 데이터와 접근 방식 다를 수 있음 (이전에는 없었던 방법) 단점: 순간적, 학습의 측면 다 드러내지 못함  교육적 의사결정을 위해서는 부족할 수 있음 피드백 데이터 분석한 경험: 중도탈락율과 관련이 있음 부경: 현상을 파악하는 것이 처방에 대한 제안의 기반이 될 수 있을 듯 현지쌤: 학습에서 정서의 역할 MBE(mind brain education) 3) 다중양식 학습분석 혹은 학습분석의 사례가 있다면 공유해주세요. 현지쌤: 처음에 제외하기 전 논문 개수 몇 개인지 궁금, 데이터가 부족할 수 있음 유경쌤: 데이터가 부족하기 때문에 생리심리데이터 수집하는 것일 수도 있음; 해외에 multimodal learning analytics 다루는 학자 많지 않음(5명도 안 됨) 다중양식 학습분석으로 가능할 수 있는 주제들?  Handbook 참조? 다중양식 학습분석은 아니지만... 창의성의 neural correlates 찾아보는 연구, 혹은 학습장애 아동에게 수학 프로그램이 어떤 효과를 지니는지에 대한 연구가 관련될 수도 있을 듯 (luculano et al., 2015; Saggar et al., 2016) 행동 로그 데이터, 생리심리반응 데이터(시험불안에 대한)  학업성취 예측한 연구: 행동로그데이터는 학업성취와 연관 있음 (재생반복시간 짧을수록), 생리심리 데이터 온라인 학습에서 심박수 낮을수록 성취 up, 시험에서 심박수 높을수록 성취 up 심박은 개인차 클 수 있음  기준선 측정 중요 MOOC에서 행동 로그 데이터: 특별히 의미 있는 결과 나타나지 않음 (multimodal 아닌 경우도 많음) <준오 기원 은선> 장점, 활용방안 단순 로그분석으로는 알수 없는 학습자의 다양한 상태 등의 퀄리티 있는 분석이 가능하다. 특수한 상황이 아니라면 실제로 학생 데이터를 계속 기록하는건 어려울 것 같고 필요성도 아직은 잘 모르겠다. 교육적 활용방안에는 다소 회의적이다. 제한점 극복 방안 학생들이 관찰장비를 덜 의식하도록 수업설계를 해야 할것 같다. 기술의 발전이 제일 시급함 보이지 않는 카메라 얼굴의 흔들림에도 가능한 아이트래커 등 다양한 센서, 센서의 감지 능력 학습분석 사례  잘 모르겠다 똑같은 다중양식 데이터를 여러명의 연구자한테 주고 발생하는 차이 임의성을 확인하는 연구도 한번쯤 이루어져야하지 않을까. 숫자같은 데이터도 통계 돌리는 방법 등에 따라서 연구결과가 달라지는데, 이런 인지적?인 데이터들을 한두 연구결과만 가지고 믿어도 되는가...  별개의 얘기  다중양식으로 갈수록 뭔가 변인으로 삼는 기준이 점점 자의적으로 되고, 지나치게 의미부여가 되는 측면이 있다. 방법론에 대한 회의적 관점이 필요함 https://science.ytn.co.kr/program/program_view.php?key=201701131638495688&s_hcd=&s_mcd=0082 [영진, 지훈, 하경] 장점, 활용방안 영진: (어느정도 퍼포먼스만 나온다면) 학습하면서 사용하는 \\'사적 언어\\'혼잣말를 분석해서 학습내용과의 상호작용집중?을 측정할 수 있으면 좋겠음 지훈: 구체적인 데이터의 처리방식이나 메커니즘은 모르더라도, 원하는 타겟변수를 예측하는데 도움이 될 것. ex) Riiid에서 수강생의 쿠폰 여부를 보는 것 하경: 기존의 연구를 많은 데이터를 통해 교차검증하는 수준에서 가능할 것 지훈: 다중양식 학습분석은 학습자를 대상화시키는 경향이 강함.  전쟁 상황에서 HRD가 발전했듯, 다중양식 학습분석도 인간의 윤리적 문제가 눈감아지는 특수한 상황에서 특정 지식, 기술을 학습시키기 위한 도구로 사용될수도? 제한점을 극복할 방법 하경: 데이터를 다룰 수 있는 툴, 라이브러리의 편의성이 높아져야한다. 진입장벽이 높음 영진: \"심박변이 00이상이면~ XX이하이면~\" 기준이 있는지? 의학은 있음 하경: 본 적 없음 지훈: 이런걸 어떻게 해석해야할지에 대한 명쾌한 근거를 제시하는 논문은 본적 없음 지훈: LDA, RandomForest 등 사회과학에서 무분별하게 사용되는 머신러닝 기법도 multimodal LA처럼 사실 해석의 근거가 불충분한게 아니냐 하경: 효율성에 집중해서 하경: 웹, heartbeat 등의 데이터를 가지고 있는데 분석을 시작하는데 어려움이 있음 사례 영진: KAIST, 유치원학생들로 소셜네트워크 인격형성 본 연구(맹준희) 직관적으로도 이해되는 결과, 윤리적인 문제, 예측의 위험성 지훈: 멘토링에 학습분석을 적용하는 것에 대해 고민중인데, 여러 장애물(이론적, 현실적)이 있는듯 영진: \\'AI펭톡\\' 의 결과물에 대해서 인간이 동의할 수 없을 때 생기는 문제.. 학습분석이 극복해야될 문제 지훈: 학습분석의 결과물이 단순 점수, rule base처방보다는 그냥 단순하게 다른 사람과의 비교가 오히려 더 개인이 학습에 활용하는데 도움이 될 것 같음 영진: 학습분석 대시보드가 아직 와닿는게 없음 (영진: 교육과정에서 명시하는 학습성취를 뽑을 수 있는 조작적인 행동지표가 뭔지 궁금) 클래스팅 영진: IRT로 문제풀이 보는 것보다는, 대시보드로 개인의 변화도를 볼 수 있는 것은 좋았음 사람들이 기대하는 인공지능의 수준에 차이가 있음. (마법의 지팡이?) [김현주, 채지윤, 함윤희] 다중양식 학습분석의 장점과 교육적 활용방안에는 무엇이 있을까요? 1) 교수자의 직관(경험을 기반으로 한)으로 여겨졌던, 학생의 학습에 대한 판단을 보다 명확하게 해줄 것 2) 실천적 성격의 다중양식 학습분석은 굉장히 유용해질 것으로 예상됨 3) 교수자 뿐만 아니라, 학습자들은 제공되는 정보를 통해서 자신의 상태를 충분히 점검할 듯 4) 교수자는 생활지도가 아닌, 수업의 질 자체에 초점을 맞출 수 있음 5) 일상생활의 가능성: 애플워치, 갤럭시 워치를 통해 사용자의 상태를 점검 -> 향후, 학습자료와 연동된다면 충분히 가능할 것! 생체 데이터가 실시간으로 쌓이는데 향후 어떻게 학습과 연관지어서 활용할지 충분히 된다면, 유용할 것! 다중양식 학습분석의 제한점들을 극복하기 위한 해결 방안에는 무엇이 있을까요? 1) 데이터가 쌓일 순 있어도, 기준 이 부재한다면, 교수자 학습자에겐 혼란이 될 것 2) 영상분석을 하는 사례: 머리의 기울기, 손의 움직임 등을 기준으로 해서 분석을 함. 이때, 기준 설정의 어려움 3) 아동 대상의 경우, 다중양식 학습분석을 통해 데이터 수집 자체가 어려울수도.. 4) 상용화하기엔, 여전히 경제적인 어려움이 존재함! 5) 다양한 데이터를 수집하는데, 이 데이터 사용을 학습자가 거부한다면?   처방을 원하는 학습자들에게 적용 6) 학습 장면에서 데이터 수집 도구가 잘 활용된다면, 학습자들의 학습 모습을 충분히 관찰하고 분석될 수 있음! 다중양식 학습분석 혹은 학습분석의 사례가 있다면 공유해주세요. 1)미네르바 대학: 물리적 공간 X  모든 수업이 온라인으로 진행 & 실시간으로 학습자 분석(참여도, 기여도 분석) 2)중국 초중등 학교의 헤어밴드를 통해 학습자 분석 3)협력적 학습에서 학습자의 행동 분석(의견을 모두가 내는가?, 의견을 서로 주고 받고 있는가?, 시선은 어딜 향하는가?)을 통해 협력의 질을 판단 4)시선 추적기를 통해 학습자의 집중도를 파악 <영훈, 영훈, 새록> 1) 다중양식 학습분석의 장점과 교육적 활용방안 잘 모릅니다.. 한 가지 양식만 분석하는 학습분석에 비해 다양한 양식으로 좀 더 정확히 관찰이 가능하다면, 학스바자에게 자아성찰의 기회를 제공할 수 있지 않을까 생각 집합식 수업을 하는 지금 현장에서 아이트래킹, 음성 데이터 등을 제대로 수집하는 것이 가능한지 궁금. 가능하지 않다면, 일 대 다의 학습 상황보다 일 대 일, 혹은 온라인 학습 상황에서 더 유용하게 활용될 수 있을 것이라고 판단함. 2) 다중양식 학습분석의 제한점 극복하기 위한 해결방안 일 대 다 환경에서 잡음을 전처리하는 과정의 어려움 기술의 발전 필요? 오프라인 학습 환경에서 활용하기 어려운 연구라고 생각했는데, 오프라인 연구가 있어서 놀랐음. 그 연구들이 어떤 것들이었는지, 구체적인 설명을 들어도 될까요.. 3) 다중양식 학습분석, 학습분석 사례 공유 난이도가 어려울수록 동공이 변화한다는 가설 검증 실험(-ing) / 회상자극인터뷰 현전감(presence) 설문 (실재감이랑 영어 변인명 겹침 : 실재감은 contents중심, 현전감은 학습자 중심) 눈이 작아서 아이트래킹이 안되는 것.. 얼굴을 움직이지 않고 하는 실험이 실질적 학습이 일어나는 환경인지(초등 가능?) 사전 지식이 높은 학생이 hand writing < typed writing 선호하는 경향'},\n",
       " {'title': '29, 30 : Linked Data for Learning Analytics; The Case of the LAK Datasets, Potentials and Challenges',\n",
       "  'day': 'September 14, 2021',\n",
       "  'people': '박\\n박용현 / 학생 / 물리교육과 \\xad\\n전영훈',\n",
       "  'link': 'https://dndrl.notion.site/29-30-Linked-Data-for-Learning-Analytics-The-Case-of-the-LAK-Datasets-Potentials-and-Challenges-e0564f4af1ea49948dac1d7914d409a8',\n",
       "  'content': 'ch.29 : The Case of the LAK Dataset 요약 : LD를 LA, EDM에서 사용하는 모습을 보여주고, 대표적인 예로 LAK Dataset을 소개함 LD란? LAK Dataset이란? LAK Dataset보면 알 수 있는 것들(2014 기준) ch.30 : Potentials and Challenges Why do we have to use LD? MOOC 또는 소셜 미디어 (유튜브, 페이스북, 트위터, SlideShare 등) 덕분에 학습이 대학 강의와 같은 공식적인 경로뿐만 아니라, 다양한 비공식적 경로로도 이뤄지고 있음. 이러한 비공식적 경로에서의 학습 과정 추적을 위해 (1) 학습 데이터의 수집과 (2) 다양한 종류의 데이터를 다룰 수 있는 능력이 필요함.   Linked Data 를 표준 데이터 모델로 활용함으로써 해결할 수 있으리라 기대함. LD in LA & EDM cf) LD로의 전환이 의미하는 것 LD 는 웹 데이터 공유의 사실상의 스탠다드. 하지만, 교육 (특히, technology-enhanced learning, TEL) 에는 거의 적용되고 있지 않은 상황. 그렇다면 LD로의 전환이 LA & EDM 에 어떤 긍정적인 영향을 줄 수 있을까? Potential of LD in LA & EDM Data integration LD는 서로간의 데이터를 연결하고, 같은 형태를 갖춤으로써 데이터의 (1) 이동 (2) 전처리 (3) 통합적인 분석을 용이하기 만듦. 학습자가 다양한 플랫폼을 오고가면서 학습한 데이터가 LD의 형태라면 훨씬 더 통합이 용이해질 것이다. example: LAK Data Challenge (20년도 대회 링크, 21년도 대회 링크, 주최 측 링크) example: education-related services (Zablith (2015), 제안) 현재 TEL 의 가장 큰 플랫폼으로 볼 수 있는 MOOC 가 LD 기반이 아닌 점은 아쉬움이 있다.  Data analysis & interpretation MOOC 또는 SNS와 같은 새로운 플랫폼은 비구조적인 데이터를 다뤄야할 필요성을 만듦  통상적인 로그 데이터를 linked open data (LOD) 와 결합함으로써 더 풍부한 정보로 해석할 수 있게 돕는다. Content Analysis: Semantic annotation Analysis of Scientific Publications: semantic publishing Interpretation of Data Mining Results Challenges of LD in LA & EDM Data quality LOD 데이터 퀄리티가 우려되는 경우가 있다. Data alignment LD 원칙을 따르더라도, 여전히 데이터 내부의 의미론적 vocabulary 와 모델들을 일치시켜야 손쉽게 활용할 수 있을 것이다. Privacy 다양한 플랫폼에서의 학습자 로그 데이터는 자연스레 개인 정보 보호 문제로 이어진다. 토의 LD 의 핵심은 (1) 데이터의 형식을 통일함으로써 다양한 플랫폼 간 통합을 용이하게 만들고, (2) 데이터 간 연결을 통해 더 풍부한 의미 해석을 가능하게 하는 것으로 보입니다. 하지만, LD 전환을 통한 (1) 과 (2)의 효용에는 동의하는 한편, 그 자체로 많은 비용을 요구하기에 그 효용의 크기를 꼼꼼히 따져볼 필요가 있어보입니다. 아래의 주제에 대해 순서대로 논의해봅시다. 현재 자신이 관심있는 데이터 종류와 해당 데이터가 LD로 전환된다면 가질 효용에 대한 의견을 나눠봅시다. 1번에서 말한 효용에 대한 의견을 실현시키려면 어떤 분석 방법이 필요할지 토의해봅시다. (아이디어 수준의 자유로운 논의라도 좋습니다.) 한 권의 책을 마무리하시느라 수고 많으셨습니다!  이번 스터디를 통해 학습 분석에 대해 (1) 무엇을 알게 됐는지 (2) 기존의 인식에서 무엇이 변화했는지 자유롭게 얘기해주세요. 용현 예시 <하경 용현> 멀티모달 데이터에 대한 LD 적용이 이뤄진다면 더 풍부한 분석이 가능하지 않을까 생각이 들었다.  [ 로그 데이터 + 심장 박동 + 뇌파 ]  사생활 이슈때문에 LD가 어려울 것 같다. LD가 중요한게 아니라 그냥 데이터 공유라도 해줘라. 그냥 학습 분석과 관련된 (특히 멀티모달) 데이터 자체가 많이 없는 것 같다. 이상적이라고 생각하는 데이터 공유 형태: https://paperswithcode.com/datasets LD 얘기는 아니지만, knowledge tracing 에서 문제의 정보를 추가하는 방법으로 콴다같은게 있지 않을까 현재 LD는 자생적 발전을 하기에는 그만큼의 효용은 없는 것 같다.  스터디를 하고 느끼게 된 점 학습분석에 대한 관심 확인 (미국 석사는 course work 위주가 많다고 합니다. 학교마다 도제 방식의 차이가 큰 듯) 철학 기반이 교육학의 배적인 논의라고 생각했는데 이번 스터디를 통해 교육을 과학적으로 접근하는 방법에 대한 좋은 소개를 받은 것 같다. <영진, 영훈, 윤서> 데이터 수학 개념 학습을 위해 모으는 학생 행동 데이터 : 행동에 대한 패턴, 패턴과 다른 학생에 대한 분석과 피드백 학생들의 행동 패턴을 분석해서 찍은 것인지, 아닌 것인지 분석.  행동 데이터가 multimodal이랑 연결.  DKT의 정답률 예측 분석 자동 채점 기술: 인공지능과 연관. 어떻게 LD와 연결할 수 있을지.  텍스트 데이터. 답안에 문제와 링크를 걸어주면 (다른 기관에서 했던)  인풋할 데이터가 늘어나므로 자동 채점 기술이 증가. AI 펭톡  음성 데이터, 학습 결과 데이터를 줘서 대시보드를 만들어줌.  정답이라고 만든 데이터와 내 데이터가 일치할 게이지, 확률이 높아야 결과가 신뢰성 있게 나옴. 데이터에 대한 사회적 합의, 공개의 문제  공개적으로 대학원생 등 공유가 안되어, 데이터와 그 의미에 대한 합의가 안되는 경우 데이터 종류는 무한  주제에 따라 데이터 종류가 결정  그 주제 분야에서 나타난 데이터들이 LD로 구축되면 의미가 있을 듯. multimodal은 LD로 연결하기에 민감할 것 같음. 성과 데이터, 텍스트 데이터  LD를 쓰기 괜찮을 것 같다.  일제고사처럼 퍼센트를 내는 것이 좋아보임. 스터디를 통해 알게된 점 영진 : 다양한 학습분석(*다중양식, DKT) 등에 대한 정보 공유, 새로운 인식, Superpower 라고 생각했던 학습분석에 대한 생각이 많이 깨지게 됨. 영훈: CS를 역량이 높으면 좋지만 꼭 잘할 필요는 없을 것 같다.  예) 입코딩 가능 윤서: 컴퓨터지식, 용어, 기술이 필요하다고 느낌. CS 역량 필요해 보인다.  <웅기, 현지, 재용> 위키 같은 단어 사전  본문의 내용을 풍부하게 알 수 있는 수준  딥러닝까지 가지 않더라도 충분히 해석 로그 데이터, 사용자의 행동에 대한 지표, 사용자가 인식하지 못하는 중에 수집 knowledge tracing 데이터: 문항 특성 외 다른 데이터도 많다 논문 데이터: 메타데이터가 풍부하다'},\n",
       " {'title': 'Co-designing a real-time classroom orchestration tool to support teacher–AI complementarity',\n",
       "  'day': 'October 5, 2021',\n",
       "  'people': '이재용 \\xad',\n",
       "  'link': 'https://dndrl.notion.site/Co-designing-a-real-time-classroom-orchestration-tool-to-support-teacher-AI-complementarity-f57ec5efc6a94b4f8b2482689418158e',\n",
       "  'content': '발표자 소개 이재용 연구 관심사: 교사의 데이터 해석과 활용, 데이터 시각화 서울대학교 교육학과 교육공학 석사과정 서울대학교 화학교육과 학사 경남과학고등학교 졸업  Google Scholar scholar.google.com https://scholar.google.com/citations?user=ha7atpsAAAAJ&hl=ko 가장 마지막으로 한 개인 프로젝트 서울대학교  기초교육원 안녕하세요, 기초교육원 학생기자 이용진입니다. 여러분은 학생자율연구 교과목에 대해 알고 계신가요? 학생자율연구는 기초교육원에서 운영하는 교과목으로써 학부생이 개인 또는 최대 2인으로 팀을 구성해 연구를 진행하는 제도입니다. 이를 통해 학생들은 전공영역의 연구나 기존 교과목에서 다루기 어려운 학제적이고 융합적인 주제, 시사적인 문제 등을 연구 주제로 선정해 지도교수와 대학원생 도우미의 도움을 받아 창의적인 연구물을 생산하고 2학점을 취득하게 됩니다. https://liberaledu.snu.ac.kr/board/blog/view/458 Co-designing a real-time classroom orchestration tool to support teacherAI complementarity Holstein, K., McLaren, B. M., & Aleven, V. (2019). Co-designing a real-time classroom orchestration tool to support teacherAI complementarity. Journal of Learning Analytics, 6(2). Holstein et al_2019_Co-designing a real-time classroom orchestration tool to support teacherAI complementarity.pdf 1131.1KB 들어가기 이소라 - 시시콜콜한 이야기 잠깐 일어나봐 깨워서 미안해 나도 모르겠어 윤오의 진짜 마음을  다른 사람의 \\'진짜\\' 마음을  어떻게 알 수 있을까? Research Question  학습분석 시스템 설계 과정에서 기술 비전문가 이해관계자를 효과적으로 참여시키는 방법은 무엇인가? 원하는 것, 필요로 하는 것 확인하기 그에 부합하는 학습분석 시스템 만들기 (교육공학 전문가 + 개발자) + 교사 + 학생 + 행정가 Background 1) Co-designing LA system 학습분석 시스템 공동설계 다양한 이해관계자가 참여하는 학습분석 시스템 설계과정 ex) 교사, 학생, 행정가 등 공동설계의 필요성 다양한 이해관계자가 참여  실제 요구/가치, 제약, 유용성 확보 \\'존재하지 않는 문제를 풀지 않는다\\' \\'문제를 찾아간다\\' 현재 상태 기술 전문가 - 비전문가 공동설계 드물다 이해관계자 참여: 설계 후반부 설계 프레임워크: 공동설계 전략 제한적 바람직한 상태 기술 전문가 - 비전문가 긴밀한 협업 설계 절차의 여러 단계에 참여 효과적인 공동설계 전략 필요 이슈 설계 과정에서 기술 비전문가 이해관계자를 어떻게 참여시킬 것인가? 2) Teacher-AI complementarity ITS(Intelligent Tutoring System) 학생의 현재 상태(지식, 메타인지, 정서)에 따라 교육 내용/방법을 지속적으로 조정하는 시스템 인공지능을 활용해 학생의 상태를 이해하고 적절한 처치 제공 효과 (controversial) 교사가 학생에게 개인화된 도움을 더 효과적으로 제공 가능(Schofield et al., 1994) 효과적인 ITS 활용 방안: Teacher-AI Complementarity 교사의 도움 제공이 가능한 상황에서 학생이 ITS를 활용해 학습(Kamar, 2016) 이슈 ITS 활용 수업에서 교사의 요구나 욕구를 어떻게 파악하나? 교사의 요구와 욕구에 맞는 학습분석 시스템을 어떻게 구현할 것인가?  프로토타이핑(면담, 시뮬레이션 등) 반복 Methods LATUX workflow 자료 awareness 향상을 위한 학습분석 도구 설계 방법 프레임워크 5단계 과정 반복하는 순환적 과정 문제 정의 이해관계자 확인, 데이터 소스 확인 / 데이터 수집, 학습환경 확인, 효과성 평가방법 설정 낮은 충실도 프로토타이핑(low-fidelity prototyping) 시스템의 핵심 요소만 포함한 프로토타입 빠르게 제작해 이해관계자와 평가 목적 높은 충실도 프로토타이핑(higher-fidelity prototyping) 시스템의 세부사항을 포함하고 현실성이 더 높은 시스템 제작해 이해관계자와 평가 파일럿 연구 현장 연구 Needs Analysis 1) Probes 목적 교사가 원하는 것, 바라는 것이 무엇인가? 내용: 카드 생성/분류 활동 + 질문 1단계: \"당신의 일을 하는 데 도움이 되는 초능력을 가질 수 있다면 그것들은 무엇입니까?\" 2단계: 학생들이 ITS 또는 기타 적응형 학습 기술을 사용하여 작업하는 수업에서, 교사가 유용하게 사용할 수 있는 초능력은 무엇입니까? 특징: 구체적이다 (뜬구름 잡는 소리 X) 구체적인 질문  구체적인 답변 면담에 의존하지 않고 구체적인 활동 수행 답변 박식함(Omniscience) = 학생의 사고 과정을 볼 수 있음(Being able to see students thought processes) 결과 2) Directed Storytelling (보충) 목적 교사가 원하는 것, 바라는 것이 무엇인가? 내용 반구조화된 면담 진행  기술적인 제한이 없으며, 시스템이 학생들의 학습에 대해 측정할 수 있는 것에는 제한이 없다고 상상할 경우 시스템이 더 잘 설계될 수 있으려면? 보충 필요 3) Speed Dating 목적 가능한 미래를 사용자와 함께 빠르게 탐색 내용 상상 속 시나리오를 연속적으로 제시 스케치, 스토리보드, 롤플레잉 사용자의 반응 관찰  결과 Prototyping 1) Low-fidelity 스마트 안경 활용 경험 시뮬레이션 프로토타입 교사들의 핵심 요구 반영 소프트웨어 학생의 지식/행동 ex) 어려움, 부주의, 딴짓 실시간 학급 전체 정보 (대시보드)  하드웨어 플라스틱 안경테 + 컴퓨터(연구자가 조작) 진행 과정 결과 컴퓨터가 학생을 판단하는 방식에 대한 불편감 실제 혼합 현실 스마트 안경 착용의 필요성 특징 핵심 기능만 최소한으로 구현  자원 낭비 줄임 2) Mid-fidelity HoloLens 착용 후 잠재적 사용 방법에 대한 아이디어 생성 분석 디스플레이의 공간 구성 실험 프로토타입 하드웨어: HoloLens 소프트웨어 교사가 요구한 기능을 포함하여 화면 구성  화면 구성: HoloSketch(프로토타이핑 툴) 진행 과정 HoloLens 시뮬레이션 + 사고발성법(think-aloud) 반구조화 면담 프로토타이핑 수정 Low-Mid 발견 발견 내용 3) High-fidelity 혼합 현실 애플리케이션 Lumilo Ken Holstein - Teacher smart glasses (Lumilo) Holstein, K., McLaren, B. M. & Aleven, V. (2019). Co-designing a real-time classroom orchestration tool to support teacher-AI complementarity. Journal of Learning Analytics (JLA), 6(2), 27-52. Holstein, K., McLaren, B. M., & Aleven, V. (2018). Student learning benefits of a mixed-reality teacher awareness tool in AI-enhanced classrooms. In Proceedings of the 19th International Conference on Artificial Intelligence in Education (AIED 2018). https://kenholstein.myportfolio.com/the-lumilo-project 작동 과정 4) Replay Enactments 목적 실제적 맥락에서의 사용자 경험을 낮은 비용으로 조사 인터페이스 디자인, 학습분석 방법 등에 대한 피드백 수집 사용자 활동에 따라서 학습분석 시스템의 반응과 사용자 경험이 달라지는 현상 최소화  유사 연구방법 User Enactment(Odom, Zimmerman, Davidoff, Forlizzi, Dey, & Lee, 2012)  실제적 상황에서의 롤플레잉 ex) 실제 교실에서 수업하게 내용 기존 데이터와 알고리즘만으로 실제 현장에서와 유사한 사용경험 구현 기존 데이터 리플레이: 스마트 안경  교실 영상 + 학습분석 AR 화면 실제적, 복합적 과제 수행: 교실 수업 진행하게 발견 내용 In-lab Experiment 설계 결과 Field Experiment 설계 결과 Discussion 1) How to co-design LA systems 세부내용 2) How to prototype LA systems 논의 If I had asked people what they wanted, they would have said faster horses. - Henry ford 학습분석 전문가 입장에서는 교사들이 무엇을 원하고 필요로 하는지 알고 싶을 것입니다. 하지만 사용자의 욕구나 요구를 아는 것은 쉽지 않습니다. 사용자 스스로도 잘 알지 못하고, 다른 사람의 요구나 욕구를 이해하는 것도 어렵습니다. 이 연구에서 연구자들은 교사의 실제적 요구와 욕구를 확인하고 그에 부합하는 학습분석 시스템을 만들고자 하였습니다. 이를 위해 카드 게임, 인터뷰, 리플레이를 활용한 시뮬레이션 등 다양한 방법을 활용하였습니다. 어떻게 해야 뜬구름 잡는 공상이 아닌, 솔직하고 구체적인 마음의 소리를 들을 수 있을까요? 질문: 창의적인 요구분석 테크닉 학생들이 ITS와 상호작용하고 교사가 도움을 제공하는 수업에 대한 생각과 느낌을 나눠주세요. 좋다 vs 싫다 ITS의 장점은 무엇일까? 인간 교사는 무엇을 할 수 있을까? 동료 선생님들이 ITS 활용 수업에서 원하는/필요로 하는 것이 무엇인지 알고 싶다면, 어떤 방법과 전략을 쓸 수 있을까요? 인터뷰, 설문조사, 시뮬레이션 등 다양한 기존 방법 중 하나를 골라주세요. 해당 방법으로 수집한 데이터에 치명적인 결함/문제/한계가 있다면, 어떤 문제일지 생각해보세요. 이러한 문제를 예방/보완하기 위한 방법이나 전략은 무엇일까요? <J.영훈 준오 현주> ITS와 교사가 함께 상호작용하는 수업에 대한 생각 ITS도 교사가 활용하는 도구 중 하나가 될 것, 결국 인간 교사의 역할에 대한 걱정은 크게 필요 없다. 교사의 역할이 대체되지는 않들듯 vs 교사로서의 정체성이 무엇인지 불분명하다. 생각보다 교실의 모습이 빠르게 바뀔 수도 있지 않을까? 교사는 중재/촉진하는 역할, 다른 자극으로 분산되지 않게끔 유지시켜주는 역할을 할 수 있을듯 ITS만 단독으로 주어졌을 때는 학생이 이탈하거나 태만하게 수업에 임할수도 있는데, 교사는 ITS 학습을 지속시켜주는 역할을 할 수 있다. 어떤 기술이든 교사에게 신뢰받는 것이 중요하다. 학생의 스타일을 파악하고 개인화된 처치를 해주는데에 ITS가 유용할 것이다. 눈에 띄지 않지만 공부를 잘하는 학생을 발견해내어 수준별 수업을 지원하는데 도움이 될 것이다. 학생이 학습하는 과정을 너무 가까이서 보는 것이 아니라 조금 멀리서 관찰하고자 할 때 유용할 것 같다. 전반적으로 ITS가 중심이 될 수는 없고, 적절한 상황에서 유용한 수많은 도구중 하나가 아닌가... 학급당 학생수가 줄어드는 등의 변화로 인해서, 오히려 현장에서는 점점 더 ITS의 필요성을못느낄수도 있다. but 교실 모습이 지금과 같은 형태가 아니라 블렌디드 형태로 가면 유용할 수도...? 그런데 괄연 교사가 눈앞에 없는 상황에서 학생들이 ITS를 성실히 이용할까? ITS 활용 수업에서 필요로 하는 것을 알아내는 전략 많은 연구에서 top down 방식으로 파악하고 있는데, 반대 방향으로 갈 필요가 있는게 아닌가. (현장 교사들의 목소리를 조금 더 반영하는 방향으로, 연구진 목소리를 줄이고) 인터뷰가 개방적인 공간에서 이루어지니까 부담스러웠던 경험이 있다.. 인터뷰어가 눈치를 주거나, 응답자가 서로 다른 의견을 갖고 있을때 소수의견이 꺼려지는 느낌  일대일로 분리된 공간에서 진행하는게 좋겠다. 시뮬레이션은 실제 현장과는 너무 다르다. (학생을 데리고 하더라도, 실제 학생집단이 그대로 재현되지 않는다.) 피드백의 질보다 양에 주목해서, 수업을 잘 기록하고 수업에 직접 참여하지 않은 교사들에게 의견을 묻는 방식은 어떨까. (+ 학생들의 의견도 함께 고려) <용현, 재용, 은서, 하경> 학생들이 ITS와 상호작용하고 교사가 도움을 제공하는 수업에 대한 생각과 느낌을 나눠주세요. Q : 실현 가능성? 오면 어떨 것 같나요? 교사로서 학습부진아에 대해 막연하게 파악하는 것에 그치는 경우가 많은데, ITS 의 도입은 실제 그 수업에서 피드백이 필요한 학생에 대한 정보를 통해 적절한 피드백을 줄 수 있도록 도움을 줄 수 있어보인다. 최근 wearable 장치를 활용한 연구를 진행중인데 (~초3) 학생들이 더 적극적이게 되는 부분이 있다. 학생 뿐만 아니라, 선생님들도 더 적극적으로 참여하는데 도움을 줄 수 있을 것 같다. 학생마다 선생님의 피드백에 대한 수용성이 다른 만큼, 학생의 학습 스타일에 대한 고려가 있으면 더 좋을 것 같다. 못하는 학생뿐만 아니라 잘하는 학생에 대한 파악에도 도움을 줄 수 있을 것 같다. 동료 선생님들이 ITS 활용 수업에서 원하는/필요로 하는 것이 무엇인지 알고 싶다면, 어떤 방법과 전략을 쓸 수 있을까요? 인터뷰 1:1 인터뷰에 비해 집단에 대한 인터뷰가 집단간의 상호작용을 통해 더 좋은 정보를 받을 수 있을때가 많다. (1+1 > 2) 선생님들 사이에 정보공유가 보편적인 문화임을 고려하면 더욱 효과적일 것으로 예상한다. 이질적인 집단의 경우 의견이 나뉘는 경우가 있으니, 인터뷰 집단 선정에는 유의해야 할 것. 사전 사후 인터뷰 뿐만 아니라, 중간 인터뷰도 중요함.  본 연구에서도 사전 사후 뿐만 아니라, 중간에도 지속적으로 명시적인 피드백을 받을 수 있는 방식을 도입한것이 매우 인상적이다. (단순히 ~~할 것 같다~ 로 넘긴 부분이 없어보임) 인터뷰의 데이터 퀄리티가 안좋다면, 그 원인이 될 수 있는것에는 무엇이 있을까? 이질적인 집단의 서로 다른 전제에 의한 갈등 지나치게 빨리 결론이 나는 경우가 있다. 방지하기 위해서 사전에 연구자가 질문의식? 을 다양하게 가져야한다.  발전적인 질문을 준비해야 함. 인터뷰 대답이 너무 상이한 경우 어떻게 수렴할 수 있을까? 발산적인 인터뷰를 잘 모았다면, 이후 프로젝트 구현까지 수렴하는 과정도 잘 진행돼야할 것 같다. 본 연구에서는 면담 내용 전사  유사한 내용 클러스터링 (?)  이후 프로토타입 제작 의 과정으로 진행된 것으로 기억함. 발산적인 개념들중에서 좋은 주제는 어떻게 선정할 수 있을까?  정말 간단한 프로토타입 제작을 여러번 진행해볼 것 같다. <웅기, 기원, 시현, 수진> 학생들이 ITS와 상호작용하고 교사가 도움을 제공하는 수업에 대한 생각과 느낌을 나눠주세요. - ITS를 활용하는 것에 대해서는 모두 긍정적으로 생각함 - 수진: ITS가 제대로 작동한다면 교육에 활용할 수 있음, 중국 CCTV처럼 학생들의 정서나 감정까지 파악한다면 도움이 될 수 있을 것이라 생각됨 - 웅기: 학습과정에서 정서나 감정이 극명하게 드러나지 않을 수 있음. 다만 어깨 높낮이 등으로 학습 상황을 추정할 수도 있음. 어떤 데이터를 사용하는지에 따라서 달라질 것 - 기원: 조지아텍 질왓슨  인건비 절감 차원, 하지만 성능이 아직 높지 않음, 인간 교사만큼? - 웅기: 인공지능이 전체 수업 과정에서 어떻게 설계되어 반영되는지가 중요하다고 생각됨 - 시현: 중국에서는 뇌파, 교사의 입장에서만 좋다고 생각되는 것이 아닌지? 아이들이 압박감을 느끼지 않을까? - 웅기: 본 연구에서도 학생들에 대한 의견 반영이 부족하다고 생각됨. 그러나 실제 연구과정에서 어려움을 느꼈기 때문에 충분히 이해됨 - 수진: 큰 틀 안에서 ITS가 어떻게 사용되는지를 먼저 정해야 함 - 기원: 수업 설계가 초점, 교사의 역할이 더 많아질 것 ITS 활용 수업에서 필요로 하는 것을 알아내는 전략 - 웅기: 설문, 면담 - 수진: 한 학교에서 관심을 가지고 있은 학생들이 많진 않음, 인터뷰든 설문이든 어떤 방법을 사용하든 정확하게 파악하지 못한 상황에서 사용한다면 효과가 없을 수 있음 - 시현: 모든 교사들이 참여하면 좋은 아이디어가 나오지 않을까? - 기원: A/B테스트 <영진, 용주, 윤서> 영진 - 좋다. ITS를 최대한 구현한 수업을 하는 중. (아이패드로 학생들의 상태를 볼 수 있음.) 학생들의 몰입도가 늘어났음을 느낄 수 있었음. 클래스킥을 조합하여 필요한 활동에 넣음. 구글 폼에 넣어서 하고, 교사 계정으로 성과 데이터 볼 수 있고 학생들의 학업성취 수준 확인 가능.  초등학생이라 학생들이 스스로 자신의 학습 태도? 등을 보기에는 어려움. 용주 - 좋다. 학생으로서는 ITS와 상호작용하고 교사의 도움을 받는 게 좋지만, 교사가 대체되지는 않을지 우려가 됨. 오히려 오해를 한 것인가 하는 고민이 됨.  윤서 - 좋지만 현실성이 있을지 궁금. 대면수업을 하다보면, 개별화교육 측면에서 떨어진다. DM 기능을 이용해서 (익명성) 여러 단계의 과제를 할당해줄 수 있다. 대면 + 현장 수업에서 협력 수업 + 인성 교육에 집중하게 된다. 행정적인 측면, 접근성 측면 등에서 현실성이 우려된다. 학습분석에서 자주 나오는 주제. 탑재된 자료가 올드하기도 했다. 이전에 AI선도학급 학교였음. 선생님 수 + 학교 수가 제한되어있다. 연구부장님이 AI교육과를 공부하고 계셔서 하고 있었다.  ITS의 장점은 무엇일까? 인간 교사는 무엇을 할 수 있을까? 영진 - AI가 교사를 대체하기는 어려울 듯. 교사가 수업 설계를 창의적으로 할 수 있다는 장점이 있음. 교사는 학습을 할 수 있게끔 환경을 조성하고 가이드 역할을 함. 오히려 역할이 강화될 듯. 용주 - ITS가 무엇을 할 수 있을까를 논의하는 게 더 쉬울 듯. 교사: 상호작용을 하는 역할. ITS: 인간을 도와주는 역할...? 보조하는 조교의 역할.  실제로 그런 쪽으로 많이 쓰는 듯. 윤서 -  관심있는 분야가 게이미피케이션, 온라인에서 협력 + 인성을 가르치게 하는 것. AI가 협력적이고 대면 상황에서의 상호작용. ITS에서도 주지적인 것뿐만 아니라 인성, 상호작용을 다룰 수도 있다. (단, 인간 대 인간 상호작용을 촉진) 동료 선생님들이 ITS 활용 수업에서 원하는/필요로 하는 것이 무엇인지 알고 싶다면, 어떤 방법과 전략을 쓸 수 있을까요? 인터뷰, 설문조사, 시뮬레이션 등 다양한 기존 방법 중 하나를 골라주세요. 영진 - 시뮬레이션. 내가 직접 해보고 그것을 리플레이해서 나의 행동을 되돌아보는 것이 좋을 것 같다. 윤서 -  인터뷰도 괜찮을 듯. 수업공개사후나눔협의회에서 찍어서 같이 본다. 재밌었던 사례 - 당황스러울 법한 상황을 편집해서 공유함. 다른 사람들과 공유하면서 논의 진행 (심도있는 인터뷰 진행) 용주 - 외부 연구자가 보면 이해가 될까? + 기존 방법 중의 설문조사는 문항이 많을 경우, 대충하게 되었음. 보상이 있더라도 문항이 많으면 힘들었음. 정교화된 방법이 아니라면 설문조사도 효과적인 것 같지 않다. (설문조사는 양적 방법론인가?  보고자 하는 변수에 따라 다름.) \\'사후협의회\\' 선생님들끼리는 관심있는 부분을 공유하는 것. 외부 연구자가 보면 맥락을 모르면 이해하지 못할 수 있음  만드는 사람의 자율성 - 연구 참여자의 적극성 필요 설문조사 등 중첩된 방법도 활용할 수 있다.  교육연극 방법인 것도 같음. (카드게임, 롤플레이 등...)  표집의 문제로도 이어질 것 같음. 어떤 교수님들은 데이터 수집 및 해석을 보지 않으셨음. 주제의 독창성만 보셨음. (어떤 변인을 봤고, 어떤 점이 재미있는지를 더 보신 분도 계심.) 통계 처리는 컴퓨터를 돌린다고 생각. (학생 데리고 하는 경우, 데이터가 쉽게 구해짐.)  어떤 기업의 경우, 한 달 동안 연구자가 직업이 되어봄. (요구분석  시뮬레이션) 보통 어떤 데이터를 수집?  양적 데이터 (빈도 수, 시간, 상호작용 횟수) 등을 체크하여 학습 현상을 기록 및 분석. 문헌 연구... ㅠㅠㅠㅠㅠㅠ <유경, 영훈, 부경> 1. 학생들이 ITS와 상호작용하고 교사가 도움을 제공하는 수업에 대한 생각과 느낌을 나눠주세요. ITS: AI와 인간이 상호작용(complementary)  지향해야 할 점; 싫다고 할 수 없을 듯 교육학에서 AI와 상호작용하고, 교사가 AI에 대한 전문성을 가지는 것에 대한 연구 부족 교사의 역할이나 지위가 사라지는가?  반박: 의학의 경우 로봇이 보조, but 완전히 대체는 아님 교사의 역할이나 지위가 어떤 것이 되어야 한다고 생각하는지? AI가 어떤 것인지, AI를 수업에서 어떻게 활용해야 할지 아직 초기 단계, 합의점 없는 듯 (지금은 NLP, vision 정도밖에 사용될 수 있는 것이 없음) 교사들도 처음이라 회의적일 수 있음 AI 자체가 발전 + 체계를 잡는 것이 중요할 수 있음 SantaTOEIC도 ITS라면 기존 TOEIC 선생님 대체할 수도 있을 듯? 그랬을 때 교사의 역할은?  동기부여, 감정적 교류, 자기조절 전략 도움  or 여기에 한정되지 않을 수도! 교수-학습의 core가 되는 활동을 여전히 교사가 될 수 있음 (판단+책임 등); 전적으로 의존할 필요는 없음 교사의 역할이 facilitator로서의 역할, 수업 디자이너로서의 역할 등으로 더 부각될 수 있음 현직 교사들이 ITS 속 교사의 새로운 역할을 만들어 가야 한다는 생각 2. 동료 선생님들이 ITS 활용 수업에서 원하는/필요로 하는 것이 무엇인지 알고 싶다면, 어떤 방법과 전략을 쓸 수 있을까요? 구조화된 질문? 어떻게 하면 구조화된 질문을 할 수 있을까? case를 정확히 나누어야 한다는 생각: 학습분석에서 합의가 필요함 (공통된 언어, 전문 용어 등 - e.g. 학생이 어떤 특정한 행동을 했을 때 어떤 증상, 어떤 배움의 단계인지를 말할 수 있는 언어; 무언가를 알고 있지만 표현을 못하는 상태 등) ITS를 전제하지 않고, 수업 중에 부족함을 느끼는 것이 무엇인지, 이 부족함 중 ITS로 보완할 수 있는 거이 어떤 것인지에 대한 분석 필요 실제 질문 경험: 응답 수 너무 많음 + 기술적인 부분에 대한 질문 및 개선 요청이 많았음  그것을 넘어서서 ITS를 수업의 본질에 활용할 수 있는 가능성을 묻는 질문이 필요할 듯 140자로 제한? 분류를 자세히 하여 응답을 분류하고 체계화할 수 있도록?  응답을 받으면서 누군가가 계속 분류하고 묶어주는 작업을 해야 함 경험들이 case by case가 될 수밖에 없음  그 이야기를 통일할 수 있는, 합의될 수 있는 것이 필요할 듯 (e.g. 학생의 상태를 진단할 수 있는 합의된 언어)'},\n",
       " {'title': 'revisited ENA',\n",
       "  'day': 'October 12, 2021',\n",
       "  'people': '성지훈 \\xad',\n",
       "  'link': 'https://dndrl.notion.site/revisited-ENA-8274db0a0b6c409b846a3726425778c3',\n",
       "  'content': '1. A Brief Introduction of Epistemic Network Analysis 1.1 이전 ENA 발표자료 1.2 ENA의 배경 1.2.1 전문성(Expertise) 1.2.2 전문성의 세대변화 1.3 Advantages of ENA 1.4 Various way to implement ENA 2. Modeling Spatial Behaviors in Clinical Team Simulations using Epistemic Network Analysis: Methodology and Teacher Evaluation 3. 논의 1. A Brief Introduction of Epistemic Network Analysis 1.1 이전 ENA 발표자료 example of Theory-based approach: ENA   이전 발표에서 틀린 부분: 네트워크 시각화 코드  노드를 고정하는 방법이 단순하지 않음 cf. ENA의 한글번역 1.2 ENA의 배경 본 절을 구성하는데 참고한 자료 1.2.1 전문성(Expertise) Def. Expertise 특정 영역에서 개인이 보유한 뛰어난 문제해결능력 Insight for Instructional Design Educational Goal:  from novice to expert!  What is the efficient way to become an expert?   How can we measure/represent/reveal expertise? 1.2.2 전문성의 세대변화 ref. Holyoak (1991)  1st generation of expertise (~1970s) Newell & Simon(1972) : 문제해결과정은 순차적으로 이뤄지는 탐색 행위다.  그 탐색적 행위가 경험에 따라서 일정한 체계를 가진다. (expertise) 전문가의 경험적 탐색행위를 모방하는 인공지능의 등장 :  \"Logic Theorist\" \"General Problem Solver\"  전문가는 domain-specific knowledge에 의존하던데?'},\n",
       " {'title': 'Validity and Reliability of Student Models for Problem-Solving Activities',\n",
       "  'day': 'October 19, 2021',\n",
       "  'people': '박\\n박용현 / 학생 / 물리교육과 \\xad',\n",
       "  'link': 'https://dndrl.notion.site/Validity-and-Reliability-of-Student-Models-for-Problem-Solving-Activities-d7390bdea22a481c802692cc9908628b',\n",
       "  'content': '본인 소개 물리교육과 재학중 (4-2) \\'20.8 ~ \\'21.9 : 심리학과 계산임상연구실 학부생 연구원 \\'21.9 ~  : 물리교육과 데이터사이언스 학부생 연구원 취미 : 요리, 힙합 음악 듣기 가장 최근에 한 일 : hBayesDM 패키지에 Hierarchical Gaussian Filter 모델 import 하기 (+ 연구실 자리차지) 본인 소개 Validity and Reliability of Student Models for Problem-Solving Activities 들어가기 같은 정답, 다른 능력 Research Question Background 1) 학생 모형 (Student Model, Learner model) 2) 타당도와 신뢰도 (Validity & Reliability) Setting Problem, Attempt Performance measure (Pelnek, 2020, research question 1) Student model 모델 평가 (research question 2) 신뢰도 (Reliability) 타당도 (Validity) 논의 Validity and Reliability of Student Models for Problem-Solving Activities Validity and Reliability of Student Models for Problem-Solving Activities.pdf 914.4KB Beyond binary correctness: Classification of students answers in learning systems.pdf 1616.6KB 한줄 요약 들어가기 같은 정답, 다른 능력 문제를 틀리더라도 정말 사소한 실수로 인해 아깝게 틀리는 경우가 있고, 맞더라도 문제의 의도와 다른 방식으로 답만 유추하는 경우가 있죠.  만약, 정오답 데이터만을 학생 모형에 활용한다면 학습 상황의 풍부한 맥락을 담아내지 못할지도 모릅니다.  O, X 결과 너머 학생들의 지식을 표상하는 데이터에는 무엇이 있을까? Research Question  지금까지의 학생 모형은 정오답 데이터 기반으로 학생들의 정답률을 예측했다. 그러나, 정오답 데이터만으로 학생의 문제 해결 과정을 충분히 설명할 수 있을까? 또한, 정답률 예측만을 모델 평가 지표로 활용해도 괜찮은걸까? 정오답 이외의 추가적인 학습 데이터의 활용 방법 제안 (reaction-time, length of code...) 정답률 예측 이외의 학생 모형 평가 방법 제안 (신뢰도, 타당도) Background 1) 학생 모형 (Student Model, Learner model) 학습자의 지식과 기술에 대한 모형. 논문에 따라 학습자의 정서, 동기, 메타인지, 학습자 선호, 행동 등에 대한 모델도 학생 모형으로 포함하기도 한다. Inner loop vs. outer loop inner-loop : 학습자가 (여러 단계로 쪼개진) 1개의 문제를 푸는 과정에 대한 모형. outer-loop : 과거 여러개의 문항 반응 데이터를 기반으로 현재 지식 수준을 측정하는 모형. inner loop 의 경우 domain 마다 상이하다는 특성으로 인해 발전이 어려워서, 현재는 outer loop 에 대한 연구가 주류를 이루고 있다. (Pelnek, 2017) Bayesian knowledge tracing model (BKT) Hidden Markov Model (HMM) 의 일종. 학생들의 지식 상태는 관측할 수 없으나, 상태로부터 산출되는 정오답 결과를 토대로 학생들의 지식 상태를 추적하는 모델. 가장 간단한 형태의 BKT의 경우 known, unknown 2가지 상태만을 갖고, 시작 상태 ( P_i P i ), 전이 확률 ( P_t P t ), 관측 확률 ( P_g, P_s P g ,P s ) 과 관련된 4가지 parameter 를 갖는다.  시작 상태 : 학생이 시작할 때 문항을 풀 수 있는 지식을 갖고 있을 확률 전이 확률 : 학생이 다음 문항으로 넘어갈 때, 상태가 변화할 확률 관측 확률 : 학생이 문항을 풀 때, 상태에 따라 문항을 맞출 확률 parameter 추정은 일반적으로 EM 알고리즘의 일종인 BaumWelch algorithm 으로 이뤄진다.  logistic model 6. Going Beyond Better Data Prediction to Create Explanatory Models of Educational Data 2) 타당도와 신뢰도 (Validity & Reliability) 타당도 (Validity) : 측정하고자 하는 대상을 얼마나 잘 측정하고 있는가 평가하는 지표. 유용성 기반 타당도 (Validity through Utility) 모델이 사전에 생각한 의도에 대해서 유용하게 추정한다면, 해당 모형은 충분히 타당하다고 볼 수 있다. Ex) Mastery criteria, Recommendation 등 학습 맥락에 따라 유사한 대상을 측정하더라도 유용함의 기준이 다를 수 있다. 수렴 타당도 (convergent validity) 서로 다른 측정 방법을 사용하더라도 유사한 개념을 측정한다면 높은 상관관계를 가져야 한다. 예측 타당도 (predictive validity) 신뢰도 (Reliability) : 측정 환경과 관계 없이 일관적인 결과를 나타내는가 평가하는 지표. 시간 변화 (test-retest reliability), 평가자 (inter-rater), 측정 도구 (alternate forms reliability), 측정 문항 (internal consistency) 등이 변화하더라도 일관적인 측정 결과를 나타내는지 평가한다.  Setting Problem, Attempt python 을 포함한 6가지의 programming 과제.  각 과제당 46~94개의 문제 후보가 있고, 학생들은 자유롭게 답안을 제출할 수 있다.  Performance measure (Pelnek, 2020, research question 1) 정오답 이외의 추가적인 정보가 유용한 것은 사실이나, 문항을 풀어나가는 과정에서 발생하는 데이터는 inner-loop 모델과 유사하게 특정 domain 에 따라 상이하다는 문제가 발생한다.  따라서 추가적인 정보를 그 자체로 제공하기보다 문제 풀이 과정에서의 데이터를 통해 정오답 데이터를 분류한다. 이 방식의 input data 가공은 기존의 BKT, IRT 모형에 적용하는데 있어서 큰 어려움이 없다는 장점이 있다. 코딩 시간과 길이 2가지 데이터를 정오답 Class 분류에 활용했다.  예를 들어, 위의 time-L 의 경우 반응 시간이 평균적인 반응에 비해 얼마나 빠른지를 기준으로  C^+, C^0, C^- C + ,C 0 ,C   를 구분한다. 만약 틀렸을 때 반응시간이 지나치게 빨랐다면 non-serious attempt 로 처리한다.  분류 결과에 따라 점수를 차등 분배한다. (0, 0.5, 1, 1.5) non-serious attempt 는 무시한다. Student model  이번 논문은 best model 을 구성하는 것보다, 해당 task 를 수행하기 위한 방향을 제시하기 위한 예시로서 model 을 구성함. 모든 모델은 input 으로 활용하는 performance measure ( y_{ps} y ps ) 만 다를 뿐, 모든 모델의 구조는 전부 동일하다. model equation (parameter :  k k) 모델 평가 (research question 2) 신뢰도 (Reliability) Split-half Reliability of Difficulties 학생들을 2개의 그룹으로 나눠서, 하나의 그룹에서 측정한 difficulty 가 다른 그룹에서 reproduce 되는지 확인한다.  Python 의 경우 전체 학생수가 800명으로 reliability 수행을 하기에 학생 데이터가 부족해서, 부족한만큼 복원 추출을 진행함.  time-L (절대 길이 기반 분류) 가 좋은 신뢰도를 나타냈다. Odd-Even Reliability of Skills 응답 데이터를 홀수번째와 짝수번째로 나눠서, 홀수번째 응답 데이터로부터 측정한 ability 가 짝수번쨰에서 reproduce 되는지 확인한다.  time-Q (분위수 기반 분류) 가 좋은 신뢰도를 나타냈다.  binary 의 경우 상당히 안좋은 신뢰도를 보였다. 타당도 (Validity) Convergent Validity 서로 다른 performance measure 에 의한 측정 결과의 상관관계를 본다. 이를 통해 양적으로 직접적인 비교를 수행하지는 못하지만, python 에서의 낮은 상관관계 그래프는 데이터를 자세히 살펴보게 하는 통찰을 제공한다. Python 에서 낮은 상관관계 이유 Predictive Validity 기존의 정답 예측에 더해 too-difficult, solving time, code length 에 대한 예측을 수행한다.  타당도 평가를 위해 10-fold cross validation 을 수행했다.  k-fold cross validation 논의 이번 연구에서의 가장 핵심적인 제안은 student model 을 평가할 때, 신뢰도와 타당도를 기준으로 평가해야 한다는 점입니다. 개인적으로 IRT 와 같은 cognitive model 에 대해서는 동의하는 바이나, deep knowledge tracing (DKT) 와 같이 예측 모델에 대해서는 이미 통상적인 모델 평가 지표를 활용해도 괜찮지 않은가 하는 생각입니다.   신뢰도와 타당도에 기반을 둔 모델 평가에 대해 어떻게 생각하시나요? 유용성 기반 타당도 개념을 보고, 단순히 예측력이 좋은 student model 을 만들기 전, 유용한 모델에 대한 고민이 필요하다는 생각이 들었습니다.  1. 인공지능 기술이나 모델이 유용하다고 실생활에서 느낀 경험이 있나요?  2. 유사한 수요가 교육 분야에서도 있을지도 궁금합니다. <웅기 지윤 용현> 짝수번째 홀수번째 나누는 것이나 k-fold 무슨 차이인지 모르겠다. 논문에서 채택한 다소 방법론이 올드해보인다.  에어비앤비: 팀 내 분위기&실적의 차이  오히려 팀내 분위기가 너그럽고 실적이 낮은 팀이 훨씬 장점(코드 작성) 보유, 따라서 시간으로만 평가하는 것은 우려가 됨. Inner loop에 초점을 맞춘다는 측면에서 시간 간헐성 : 시간을 양적으로만 측정하는 것이 아니라 접속하는 시간이 얼마나 간헐적인지를 보는지가 중요하다 등의 연구는 이미 많이 있다. 유튜브  사용자 추천 알고리즘이 정확하다  앨리스 (코딩 교육 프로그램)  코딩 교육 등에서 인공지능 기반 채점 프로그램: 학습자의 코드(문제해결)를 보고 점수 부여&피드백  (잠깐 실제 코딩 수업 얘기 : 코딩 복붙 교육)  IAB  가혹한 수업 <병준, 은선, 윤서> 윤서: 코딩을 할 때, 초등학생들도 코딩 시간, 다양한 코딩 방법, 코드의 간결함 등을 평가 변수로 생각함. 단순한 정오답이 아니라 코딩 능력과 같이 세분화된 능력들을 평가하는 것이면 신뢰도 타당도 모델이 적합할 것 같다. 구현하는 방법이 조금 어려웠을 뿐 ㅠㅠ(관점은 신기함) 병준: 정답, 오답 모델이 평가하지 못한 부분들을 (과정에서 얼만큼의 숙련도를 보여줬느냐, 다른 집단 데이터와의 비교 등) 통해, 개인의 특성에 집중하는 것이 아니라 대량 데이터를 통해 개인의 능력을 추출해낼 수 있다는 점이 신선했다.  은선: 코딩...정답이 딱 정해져 있는 것이 아닌 경우? 연구 문제가 정오답과 관련된 것이 아닌 데이터가 아닌 다른 데이터를 원하는 research question 1을 충족시키는 방법이었다. / 신뢰도, 타당도가 어떤 역할을 하는지...?에 대한 고민이 필요하지 않을까? 1. 인공지능 기술이나 모델이 유용하다고 실생활에서 느낀 경험이 있나요?  은선: 현장에서 활용되고 있는 인공지능 기술은 인공지능 챗봇, 인공지능 스피커 정도... 산타토익 (가격이 저렴한데 점수를 생각보다 잘 예측했기 때문.) / 엘리 - 중앙대 영어 말하기 AI튜터 (영어 발음, 영어 발화 등 데이터를 모으고 있는 중)  평가까지 원활하게 이어질 수 있음. 병준: 점수 획득이 목적인 시험이다보니 문장 구사력, 회화 능력을 보는 것이 아니라 객관식 토익 문제들을 내용으로 이용했기 때문에 유용성 기반 타당도가 높게 느껴지는 것 같다.  윤서:   *유용성기반타당도: 모델이 사전에 생각한 의도에 대해서 유용하게 추정한다면, 해당 모형은 충분히 타당하다고 볼 수 있다. 2. 유사한 수요가 교육 분야에서도 있을지도 궁금합니다. <부경, 현지 > 신뢰도와 타당도에 기반을 둔 모델 평가에 대해 어떻게 생각하시나요? 현지  <신뢰도>  어느 정도 %의 확신을 가지고 응답을 했는지 판별 가능 (실수인지, 몰라서 답을 채택한 것인지) <타당도>   문항을 만드는 목적에 맞게 학생들이 생각하고 답을 골랐는지 ##선택하는 시간에 대한 데이터, 정답을 몇 번 바꿨는지(maybe 모션 데이터 필요?)로 보충 가 전제에 대한 의문 : 지금 우리 시대에 필요한 역량을 평가하기 위한 방식이 맞는지? 부경 : 평가 도구로써 당연히 해야하는 것 (e.g. CBT  다음 문제로 넘어가기 위한 근거로서 예측 모형 필요?) 사전 지식을 아는 지에 대한 명확한 판단이 필요 > 이에 따라 다음 학습으로 넘어가게끔 > 이러한 과정을 명확하게 하기 위해 예측 모형 자체에 대한 신뢰도와 타당도 모델이 필요 ##시간 데이터 > 동기 측정  인공지능 기술이나 모델이 유용하다고 실생활에서 느낀 경험이 있나요? 현지 : 자연어처리의 챗봇, 은행에서 공인인증서 질문할 때  간편하고 빠름 유용하지 못하다고 느낀 경우: AI 개발자의 고충 : 선박 운행 결과적으로 유용하지 못하다는 결론 부경 : 핸드폰 요금제 챗봇 > 정보 제공의 즉시성  (공통점) \"단순한 정보\"를 쉽게, 정확하게, 빠르게  정보 전달, 학습 게임 ('},\n",
       " {'title': 'Clickstream Knowledge Tracing',\n",
       "  'day': 'October 26, 2021',\n",
       "  'people': 'Juno Hwang',\n",
       "  'link': 'https://dndrl.notion.site/Clickstream-Knowledge-Tracing-4efa2fbb3e174b2a800ad23e627ab538',\n",
       "  'content': \"1. Motivation Knowledge Tracing (KT) 모형들은 학생의 문항반응 정오답 결과만을 활용하지만, 실제로 문제와 상호작용하는 과정에서 여러 요인을 측정할 수 있을 것이다. 어차피 미래에 KT model는 intelligent tutoring system (ITS), MOOC 맥락에서 사용될텐데 그렇다면 디지털 입력장치의 정보를 일반적으로 수집할 수 있을 것이다. 시간별로 마우스의 클릭과 이동 좌표를 기록한 clickstream 데이터를 사용하면 interactive material과의 상호작용을 분석할 수 있다. Keystroke 를 사용한 예측 모델은 이미 존재 Tsimperidis, I., Yucel, C., & Katos, V. (2021). Age and Gender as Cyber Attribution Features in Keystroke Dynamic-Based User Classification Processes. Electronics, 10(7), 835. Pentel, A. (2017, July). Predicting age and gender by keystroke dynamics and mouse patterns. In Adjunct Publication of the 25th Conference on User Modeling, Adaptation and Personalization (pp. 381-385). 1. Environment 지도방식의 세분화 수준(granularity)에 따라서 ITS를 answer-based와 step-based로 구분함. Answer-based tutoring system : 학생에게 문제에 대한 힌트와 답안 제출 후 즉각적인 피드백을 제공함. 문항 답안이 선다형 혹은 단답형 숫자 응답으로 제한됨. Step-based tutoring system : 드래그 앤 드롭으로 상호작용 하는 등 단계적으로 상호작용할 수 있는 수단을 제공함. 따라서 정답 여부와 단계별 행동에 대한 피드백을 모두 제공할 수 있음. 이 연구에서는 step-based 에 대해 주로 다룸. K-12 수학교육을 위해 디자인된 온라인 학습플랫폼에 step-based ITS를 구현. 2. Dataset Step-based ITS의 clickstream에 대한 공개 데이터셋이 없기 때문에 온라인 교육 플랫폼 제공업체와 협업함. 대단원 6개 (대수, 기하, 자료해석, 측정, 산수, 공간 )와 소단원 137개로 다양한 영역의 문항에서 데이터를 수집함. Statistics 이름 수량 기간 6개월 학생 수 3,275 문항 수 892 (전체 1,721) 응답 제출 97,127 Clickstream 이벤트 2,028,937 데이터 형식 userid : 비식별화된 학생의 id questionid : 문항의 고유한 id eventName : 상호작용의 종류로 {enter question, drag, click, input, navigate in question, react answer, submit answer, leave question} 이 있음. 이중 drag와 click은 마우스 좌표에 대한 정보(mouseData)를 포함하고 있음. mouseData : Clickstream에 한해서, 마우스의 좌표 정보를 담은 데이터, drag의 경우 from, to 좌표를 각각 갖고 있음. timestamp : 이벤트가 발생한 시각. (drag의 경우 끝난 시각을 기준으로 하는듯?) answerState : 학생의 응답을 기록한 데이터 score : answerState를 채점한 점수 데이터 전처리  숫자로 나타난 데이터들은 0~1 범위로 정규화되었으며, 명목형 데이터는 one-hot encoding ( 벡터에서 한 성분만 1로 설정하고 나머지는 모두 0으로 설정하는 것 ) 을 통해 전처리함. timestamp는 그대로 사용하지 않고 시간간격(time interval)을  log_2 t log 2 t 로 변환하여 사용함. 부분점수는 숫자가 아닌 서열척도로 판단하여 one-hot encoding 으로 처리함. 이외에도 aloc (action loacation)이라는 feature를 도입했는데, 이는 answer state의 변화를 나타내기 위한 multiple-hot encoding (여러 개의 성분이 1일 수 있고, 나머지는 0인 벡터) 변수임. 예를 들어서 1번 요소와 3번 요소를 뒤바꾼 경우 [1, 0, 1, 0, 0, ... ] 처럼 처리됨.  변인의 분포가 로그 정규 분포(Gibrat's law), 멱분포(Power law, Zipf's law)를 따르는 경우 log를 씌워 전처리하는 것이 유리함. (결정트리 기반 알고리즘에선 크게 신경 안써도 됨) 예 ) 소득, 재산, 사용빈도, 도시의 크기, 인간 행동의 time interval, 게시물의 길이나 추천수 등... https://en.wikipedia.org/wiki/Log-normal_distribution#Occurrence_and_applications https://ko.wikipedia.org/wiki/지프의_법칙 https://ko.wikipedia.org/wiki/멱법칙 https://en.wikipedia.org/wiki/Gibrat's_law 1 3. Model Architecture Knowledge Tracing (KT) : 학생의 반응을 바탕으로 지식상태(knowledge state)를 시간에 따라 예측하는 기술 혹은 모형의 총칭. 문항반응을 예측하는 것이 목적이 아니라 지식상태를 측정하는 것이 목적이고, 단일 시간에 측정하는 것이 아니라 시계열적으로 예측한다는 점에서 Item response theory와 다름. QuestionRNN_q (question-spedific) : 한 문항 t 에 대한 clickstream  C_t  C t  의 길이는 매번 다를 수 있지만, 일반적인 예측모형은 input에 고정된 길이의 변수만을 넣을 수 있다. 따라서 연속된 시계열 입력을 받는 RNN 구조를 사용해  C_t  C t  스스로를 복원해내는 autoencder 구조를 만들고, 이 autoencoder의 내부 상태인  c_t  c t  를 끄집어내어 clickstream 을 대표하는 고정된 길이(여기서는 50차원)의 feature로 활용한다. 단순화된 도식 모형의 학습 목표 (손실함수) : 명명척도 등 one-hot encoding에 대해서는 cross-entropy를, aloc에 대해서는 binary cross entrooy를, 이외에 실수로 나타내어진 변수들에 대해서는 mean square error를 최소화하도록 학습한다. 이는 변수들의 각 유형에 대해서 가장 표준적인 손실함수이다. 여기까지 문항 t에 대한 clickstream, event 에 대한 정보를 축약하여 고정된 크기의  c_t c t  를 뽑아내는데에 성공했다면, 기존의 Deep Knowledge Tracing 모형에 넣던 문항 반응 변수들 (  q_t q t  ) 에 그대로 결합(concatenate)시키는 것으로 clickstream 정보를 KT모형에 넘길 수 있다. 이후의 학습이나 작동방식은 기존 KT 모형과 동일하다. 문항 t에 대한 모델 작동 도식 4. Analysis 기존의 DKT 모형이 하던 작업들(문항 반응 예측, knolwedge state 예측, knowledge component structure 추출, 문항 추천 등)에 더하여, 추가적으로 문항별로 clickstream에 대한 분포와 군집화를 시각화할 수 있다. t-SNE (t-distributed stochastic neighbor embedding) : 확률 기반 차원 축소 기법으로, 엄청 높은 차원의 데이터에 있는 의미(semantics)를 낮은 차원(2~3)으로 줄이는데에 특화되어 있다. 때문에 복잡한 데이터의 시각화에 많이 쓰인다.  장점 : 고차원에서도 인지적인 의미들을 굉장히 잘 캐치하고 군집화에 유리하여, 시각화하는데 굉장히 유용하다. 단점 : 샘플수에 대한 복잡도가 크며 ( O(N^2 ) O(N 2 )) 임베딩을 함수로 하는게 아니라 1대1 대응으로 작동하는거라서 저차원  고차원으로 역변환이 안되고 새로운 데이터에 대한 보간이 안됨 (autoencoder와 반대되는 부분) t-SNE을 활용하여, 어떤 문항에서 clickstream들의 2차원 시각화 및 군집화한 예시 Performance QuestionRNN_q와 DKT의 손실함수가 연결되어있는지 여부에 따라서 E2E (end-to-end), PT(pretrain and freeze), FT (finetune after pretrain) 방식의 모형으로 나누었다. CKT-E2E : 처음 학습할때부터 QuestionRNN과 DKT가 함께 학습되며, DKT의 손실함수 정보가 QuestionRNN쪽으로 전달된다. CKT-PT : QuestinoRNN을 먼저 따로 학습시키고, 이를 고정시킨 상태로 나중에 DKT만 학습시킨다. CKT-FT : QuestionRNN을 먼저 학습시키고, 이후 DKT와 함께 학습시킨다. 또한 knolwedge component의 정의를 세 가지 층위로 나누어 측정했다. Question ID : 문항 하나하나를 knolwedge component 로 사용한다. (가장 널리 쓰이는듯) Math unit : 137개 소단원 각각을 KC로 사용 ( human engaged ) Math dimension : 6개 대단원을 KC로 사용. AUC (area under curve) - Higher is better, 전반적으로 finetune이 우수하다. 특정 성능에 도달하기 위한 평균 문항 수 이론적으로, 문항 반응을 무한히 많이 측정할 수 있다면 머신러닝 같은 거 필요 없이 그냥 고전통계로도 완벽하게 예측할 수 있다. 그러나 우리가 원하는 것은 sparse data만을 가지고도 전체 KC에 대한 예측을 잘 하는 모형이다. 따라서 특정한 accuracy에 도달하기 위해 얼마만큼의 데이터가 필요한지를 비교하는 것이야 말로 실제 서비스 적용에 중요할 것이다. 이처럼 초기에 데이터가 부족한 상황에서 의사결정을 해야 하는 문제를 cold start problem이라 하는데, CKT-PT 모형이 cold start에 강인하다는 결과를 볼 수 있다. 5. Conclusion Clickstream (더불어 학생들의 가변적인 상호작용) 을 기존의 Deep KT 모형에 결합시킬 수 있는 손쉬운 framework를 제공했다 또한 문항별로 그 interaction을 시각화하여 해석하는 방법을 제안했다 문항반응 뿐만이 아니라 다른 상호작용 정보를 더했을 때 예측성능이 향상되는 것을 확인했다. 특히 초기 학습자에게 처음 몇 문항에서 데이터가 부족한 상황(cold start problem)에 대한 도움이 될 것이다. 6. Discussion 온라인 ITS 환경에서 디지털 입력이 일반적이기 때문에 이를 활용하자는 아이디어는 좋지만, 막상 저런 상호작용을 제공하는 학습환경이 얼마나 있을 것이며 여려 교과나 학습수준으로 확장시킬 수 있을지도 약간 의문스럽다.  1. 단순히 정오답을 맞추는 것이 아니라 디지털 상호작용을 통한 학습자료가 제공되는 사례가 있다면 제보해주세요. 없으면 '이런거 있으면 좋겠다'하는걸 말씀해주세요.  2. 혹은 이런 시스템을 적용하기 쉬운 교수내용 (예 : 운전면허) 을 찾아봅시다.  3. 그런 환경에서 DKT 모델에 어떤 정보를 더 넘겨줄 수 있을지 아이디어를 내 봅시다. (+가능하다면, 그 변수가 정규분포에 가까울지 혹은 log를 씌우는게 유리하지도 추측해봅시다.) KFC 직원들만 할 수 있다는 게임...VR 영상으로 실습 교육까지 KFC 직원들만 할 수 있다는 게임VR 영상으로 실습 교육까지 KFC가 24일 직원 교육을 위한 VR 프로그램 트레일러를 공개했다. The Hard Way: A Virtual Training Experience로 불리는 이 프로그램은 방 탈출 게임을 연상시켜 엔터테인 https://biz.chosun.com/site/data/html_dir/2017/08/25/2017082500979.html <J영훈, 유경, 용현> 토론 : 3명의 학습자가 발화 데이터 + 표정 데이터 분석해서 참여도 분석 앞으로의 토론 태도 및 방법에 대한 조언 VR : 공업고등학교의 자동차학과에서 수리 실습에서 다치는 상황이 많아서 VR로 구현  실습에 대한 점수 채점 시스템 (몇 번 만에 옳은 행동을 하는지) / 스쿨심즈  간호사 교육  절차적인 지식의 경우 이런 시스템을 적용하기 쉬울 것 같다.  정답을 선택하기 전까지 마우스의 움직임 (융기원 교수님 논문 : 어린이 수학 게임 정답 맞히는 패턴 분석  알고 맞혔는지, 찍어서 맞혔는지 분석 <권가진 교수님 논문>) Dynamic neural network model <수진 준오 웅기> [논의1] 준오: 알피 플래시게임(레모네이드 만들기)? 교과서에 붙어있는 CD의 상호작용형 실험( 영어 교과서 지토가 노래부르는거, 과학 가상 실험실 등에서 드래그 앤 드롭 ) 수진 : 칸아카데미의 문제중에도 일부 드래그앤 드롭 문제가 있음. 마우스 클릭만 파악한게 아니라 드래그 앤 드롭 위치와 시간까지 파악한 것이 좋다.  웅기 : VR에서 일어나는 활동들이 물리적?인 상호작용도 많고 다양하므로, VR 교재들을 찾아본다면...? [논의2] 운전면허는 절차적이고, 시각적인 정보가 많이 필요하며, 실기 대비도 고려했을때 step based ITS가 유용할 것 같다. 웅기 : 오큘러스 과몰입하다가 친구집 화분을 깨었다. 그만큼 VR이 교육적 몰입효과가 좋을듯.  수진: Desmos, 지오지브라 웅기: 일반화 < 특수한 형태에 적용되는 연구 준오 : PhET https://phet.colorado.edu/ko/ - 따로 데이터를 수집하지는 않지만 적용하면 좋을듯 <부경, 기원, 윤서> 1. 단순히 정오답을 맞추는 것이 아니라 디지털 상호작용을 통한 학습자료가 제공되는 사례가 있다면 제보해주세요. 없으면 '이런거 있으면 좋겠다'하는걸 말씀해주세요. 부경: 무형식학습(디지털 상호작용을 통한 학습자료일까요...?) 그 중에서도 학교에서 이루어지지 않은 교육을 하고 있는 경우가 있음. 기원: 산타토익이 KT에는 해당할 것 같다. (문제를 풀고, 다음 문제를 맞힐지 말지 예측하기 때문) 윤서: AI 펭톡? 같은 것이 있지 않을까. 발음이 얼마나 일치하느냐, 얼마나 빠르게 정답을 맞히는가에 따라 점수(참치캔)를 제공. 이런거 있으면 좋겠다 윤서: 사회적 상호작용을 함께 해주는 KT 시스템이 있으면 좋겠다. (학생의 심리 상태를 파악하든가, 학생이 성취 목표에 도달하였는지를 말로 확인) 기원: 대학 실습 (기술 실습)을 VR로 하는 것도 재미있을 듯. (clickstream을 활용) 대학 교수님들이 어려움을 겪고 계심. (비대면 상황에서 적절함.)  lms시스템에서도 활용이 가능할까?  질 왓슨 같은 대학 조교가 있지만, 활용도가 떨어질 가능성이 있음(2016년 이후 근황 업데이트 안 됨.) lms시스템에 KT를 적용하면 재밌을 것 같다.  동영상을 보면 시간만 체크하고 퀴즈만 체크하면 끝나는데, 학생의 마우스의 이동 패턴 등을 추적해서 학습의 현황 체크, 부정행위 체크. 2. 혹은 이런 시스템을 적용하기 쉬운 교수내용 (예 : 운전면허) 을 찾아봅시다. 윤서: 영어나 외국어 공부할 때 적용하기 쉽지 않을까? 외국어 학습 때는 반복 학습이 주를 이루고 그에 따른 데이터 축적이 많아짐.  산타토익(문항의 정오답만 가지고 이야기하는 것) 요리도 step based ITS 적용하기 좋아보임. <용주, 하경> 1-2. 노트북 화면을 학생 개개인의 공간으로 보고 데이터화(eg. 온라인 수업 상황에서 줌을 켜고 있다가 줌을 없앴으면 집중도가 떨어졌다고 가정한다던가,, 등의 접근이 가능할 것으로 생각 - 이런 연구가 없을까?) 게더타운같은 아바타 활용 가상환경 데이터화 저렴이 웨어러블 디바이스를 가지고, 스텝 등 학생이 기록하여 활용할 수 있는 기초적인 데이터 (기본적인 연구의 첫 발상은? 하루 루틴에서 데이터를 뽑아내게 하자. 직접 일상에서 데이터를 뽑아내고 찾고 relationship을 찾아보라. 데이터를 직접 가공하는 것을 어려워한다.) 스마트폰 활용할 때 화면을 터치하는 것도 데이터화할 수 있을까? 3.  화면 구성(노션, 인터넷, 폴더, ...), 화면 유형, 비중(0~1), 이동한 시간 SNS 데이터에서 말뭉치 나타나는 빈도 <s영훈, 은서> -언어 : 문장이나 단락의 구조를 파악, 논리적 연결 맞추는 유형 -프로젝트 수업시: 다차시 프로젝트수업에서 예상 시나리오가 블록화가 가능하다면 문항반응 DKT 가능할듯 -체육 교과 시 웨어러블 활용  일련의 동작이 합쳐서 하나의 결과물이 나오는 활동 (뜀틀, 티볼) 구간별, 동작별 분석이 가능하다면 여러번의 시도\"},\n",
       " {'title': 'Robust Neural AES Using IRT\\n1',\n",
       "  'day': 'November 2, 2021',\n",
       "  'people': '전영훈',\n",
       "  'link': 'https://dndrl.notion.site/Robust-Neural-AES-Using-IRT-118cd354fa254593bceaa27f784ebc91',\n",
       "  'content': 'Intro essay writing : good for logical thinking, critical reasoning, creative thinking human essay writing? too expensive not sufficiently accurate raters characteristics (strictness, inconsistency) Automated Essay Scoring(AES) statistical classification problem : large set of testual entities into a small number of discrete categories feature-engineering manually tuned features (length, spelling errors) advantage: interpretability, explainability extensive feature redesign required automatic feature extraction based on DNN requires a large dataset of essays graded by human raters as training data problem: bias effect performance of DNN rapidly drops when biased data are used for model training to solve: used IRT DNN-AES IRT to estimate reliable scores that remove effects of rater bias DNN-AES (conventional) suited to educational context, low- and medium-stakes tests Data J: examinees R: raters e: essay U: score V: vocab list for essay collection Neural Automated Essay Scoring Models 배경지식 DNN vs. CNN vs. RNN DNN : 기본적인 1차원 데이터를 활용하기 때문에 공간적, 지역적 정보 손실 + 학습시간과 능률의 효율성 저하 CNN : 이미지 raw input으로 공간적, 지역적 정보 유지. 전체보다는 부분에 집중 1 convolutional layer : convolution + activation pooling layer : feature map의 차원 축소 vectorization(flatten) : 이제 특이점 데이터들이니 1차원으로 변형해도 됩니다. RNN : Recurrent Neural Network(앞을 되짚어 생각하는 모델) 중에서 장기 기억이 가능한 LSTM 기존의 RNN LSTM (컨베이어 벨트 같은 cell state, 수정하는 gate들과 연산) 본론 CNN-LSTM-Based Model Lookup table layer _ why? Convolution layer : n-gram, zero padding Recurrent layer Pooling layer : MoT(mean-over-time) pooling for stable accuracy Linear layer with sigmoid activation BERT-Based Model pretraining masked language modeling next-sentence prediction fine-tuning(CLS, SEP) Problems in Model Training loss function: MSE(Mean-Squared Error) between predicted and gold-standard score gold-standard score: score for essay e assigned by a human rater in a set of raters R biased data because of the dependency on rater characteristics IRT(Item Response Theory) that can estimate essay scores while considering effects of rater characteristics Item Response Theory Models with Rater Parameters GPCM: appropriate to use for multi-point items in an educational context why polytomous? higher fidelity, assess deeper thinking, more information why partial credit? appropriate for scoring starts at 0 why generalized? includes discrimination parameter for evaluation the measurement quality of an item improved GPCM for for multiple raters: + raters parameter Proposed Method training Estimate the IRT scores Train AES models using the IRT scores gold-standard score rescaled to [0,1] for sigmoid activation 99.7% fall within range [-3,3] testing Predict IRT score from a trained AES model, and rescale to [-3,3] Calculate the expected score that corresponds to an unbiased original scaled score of e Experiments Actual Data Automated Student Assessment Prize(ASAP) essays on 8 topics, grade 7~10, 12,978 essays, avg. 1,622 per topic no rater identifiers > new 38 native raters with same rubrics(correlation 0.675) what a bias Experimental Procedures focus on robustness estimate IRT parameters by the Markov chain Monte Carlo(MCMC) (essay, score) pair dataset by randomly select one score among raters(x10) comprising essays and 1 values five-fold cross validation to train & obtain predicted score Cohen\\'s kappa, weighted kappa, root mean squared error(RMSE), Pearson correlation coefficient between expected & given score, 45 pairs average metric values from the 45 Results prediction accuracy for IRT score Conclusion depends on the characteristics of raters grading essays in training data simple, powerful, easy to apply future studies evaluate effectiveness of the proposed method using various datasets might improve prediction accuracy for each rater\\'s score end-to-end optimization Discussion (원하는 주제를 골라 자유롭게) IRT + DNN-AES 처럼 서로 융합해서 좋은 성능을 낸 사례가 있을까요? 혹은 아이디어가 있으시다면 공유해요. BERT fine tuning이 AES 분야에 갖는 효과에 대해 어떻게 생각하시나요? (효율성 등의 측면에서) 좀 더 나은 AES를 위한 아이디어, 혹은 AES가 나아가야 할 방향 등에 대해 자유롭게 이야기 해주세요. <병준, 영훈, 현주> AES만을 위한 fine tuning이 생기기는 어려울 것 같음 평가원 차원에서의 지원(수능 폐지에 대한 차선책으로 essay) 현주 쌤: 수능 폐지 등의 담론과 연결되어 대량 에세이 채점 시스템이 도입된다면 \"객관적인 채점\" 사용자와의 싸움(cheating), 객관적으로 포장되었지만, 결국 기술적 배경을 잘 알고 있는 사람들이 선점 multidimensional > simple category of scale 채점을 도울 수 있을만한 기술은 적용되고 있지 않을까 완전 대체보다 인간 지원도 의미 있는 것이 아닐까 생각 대규모 시험 + 사기업이 함께하면 cheating을 막을 수 없다고 생각 essay는 시대적 흐름이라고 생각 데이터를 많이 축적하면 채점에 대한 신뢰를 쌓을 수 있다고 생각(training dataset 쌓기) 동시에 평가의 신뢰도(채점자간의 일관성)가 확보되어야 하지 않을까 <웅기, 지영, 재용> 모델 융합 사례 신경망과 IRT를 왜 결합해야 하는가? / 결합해서 어떻게 작동하는 것인가? BERT fine tuning 더 적은 데이터로 더 높은 성능의 AES 모델을 얻을 수 있다. 접근성이 높아진다. 자동 에세이 채점 발전방안 사람도 못하는데(inter-rater correlation < 0.7) 기계로 하는 것이 될까? 사회적으로 중요한 시험의 경우 설명가능성과 투명성 확보가 어려워 적용하기 어려울 것 채점방식과 측정방식이 명확하지 않은 분야라면 애초에 robust한 모델이 존재할 수 없다(에세이 채점, 면접)  데이터 자체가 잘 정의되어야 한다(문법, 문장 완성도 등) 시스템을 속이는 것이 가능하지 않을까? 답이 긴가민가할 때 아는 것을 다 나열하면 가점을 받아갈 수 있지 않을까? <용현, 부경, 현지>  1 (& 3) 용현: IRT  ability 값이 나옴, knowledge tracing을 통해 인간을 해석하기 좋은 도구 (DKT의 해석성을 높이기 위해 IRT와 결합 시도가 있는 것일 수도; 성능보다는 해석성)'},\n",
       " {'title': '😈\\nUsing Past Data to Warm Start Active Machine Learning: Does Context Matter?',\n",
       "  'day': 'November 9, 2021',\n",
       "  'people': 'UNGGI LEE',\n",
       "  'link': 'https://dndrl.notion.site/Using-Past-Data-to-Warm-Start-Active-Machine-Learning-Does-Context-Matter-1ae34c09fd6d40d0928f9b8fc0273154',\n",
       "  'content': '발표자 소개 Logan, Unggi Lee 저자소개 $1$. Before we start 1) Terminologies 2) What is the Active Learning? 3) Active Learning Scenario 4) Active Learning Strategies 5) Core-set 6) 그 이후를 공부하려면 $2$. Using Past Data to Warm Start Active Machine Learning 1) 요약 2) Introduction 3) Contributions 4) Background Active Learning Algorithms(상단의 정리된 내용 참고) Student Affect Detection Active Learning for Affect Detection Role of Student Population in Affect Detection 5) Data 6) Analysis and Result Active Learning Experimental Design Baselines(Experiment Set #0) Within-Urbanicity warm start(Experiment Set #1) Between-urbanicity warm start(Experiment Set #2) Vary the initial batch size for the warm start(Experiment set #3) 7) Discussion Summary of results Implications for research Implications for practice Limitations and future work Reference 논의 발표자 소개 Logan, Unggi Lee 서울대학교 교육학과 교육공학전공 석사 (현) 내포초등학교 교사 몸무게: 72kg(최적화 중) 상세 프로필 https://dndrl.notion.site/Profile-Lee-Unggi-983504baa4fe41cdb9648d9ff184c139 저자소개 Ryan Baker 1 1. Before we start 1) Terminologies Warm Start vs Cold Start Active Learning Auto Labeling Logistic Regression Query Strategies 2) What is the Active Learning? Active Learning의 정의 Active Learning에 대해 배우기 전 간단한 이해 Active Learning의 필요성과 기본적인 개념 Active Learning  Auto Labeling 3) Active Learning Scenario Membership Query Synthesis Stream-Based Selective Sampling Pool-Based Sampling 4) Active Learning Strategies 1) Uncertainty Sampling 2) Query By Committee 3) Expected Model Change 4) Density Weight Method 5) Core-set 의의 Active Learning 문제의 재정의 Core-set 구현 알고리즘 1) K-Center-Greedy 2) Robust k-Center - 이상치를 고려, 제한사항 + Lower Bound 추가 6) 그 이후를 공부하려면 Learning Loss for Active Learning https://kmhana.tistory.com/10?category=838050 Discriminative Active Learning https://kmhana.tistory.com/12?category=838050 2 2. Using Past Data to Warm Start Active Machine Learning 1) 요약 교육 상황에서는 지도학습(supervised learning)을 위한 라벨링된 데이터를 확보하기 어려움 AL은 데이터 라벨링을 효과적으로 하는데 도움을 줄 수 있음 이 논문에서는 1. AL 훈련 과정을 warm start하기 위해 과거 데이터 사용 방법을 탐색함 2. 과거에 데이터가 수집된 다른 맥락(도시성, urbanicity)을 고려함 AL 기반 탐지기(detectors)의 개발을 위해, 중학교 수학 교실에서 수집한 라벨을 사용함 사용된 AL 방법 - uncertainity sampling - L-MMSE 결론: 과거 데이터를 사용한 warm start AL 모델은 타겟 집단의 도시성(urbanicity)에 기반한 방법에 효과적이었음 2) Introduction'},\n",
       " {'title': '🐣\\nWhat You Do Predicts How You Do: Prospectively Modeling Student Quiz Performance Using Activity Features in an Online Learning Environment',\n",
       "  'day': 'November 16, 2021',\n",
       "  'people': '백\\n백수진',\n",
       "  'link': 'https://dndrl.notion.site/What-You-Do-Predicts-How-You-Do-Prospectively-Modeling-Student-Quiz-Performance-Using-Activity-Feat-963293a042594a09a3f7f9e8fb531510',\n",
       "  'content': \"용어 retrieval practice IRT(Item Response Theory): 문항반응이론 Quiz vs Assessment 1. introduction 전통적인 학습환경과 온라인 학습환경의 비교 학생 스스로 그들의 학습환경을 효과적으로 규제할 수 있도록 해야한다! 2. 연구문제(RQ) (RQ1) 본 평가(assessment)를 시작하기 전 즉각적인 학습 맥락에서 얻은 활동을 통해 짧은 형성평가(퀴즈) 점수를 어떻게 예측할 수 있는가?  퀴즈 시작 직전 3분창(3-minute window)에서의 활동(총 22개)을 통해 모형 구축 (RQ2) 연구문제1에서 사용된 활동 패턴에서의 인출 연습(이전 퀴즈 수행)이 이후 퀴즈를 수행하는데 영향을 미치는가? 퀴즈 관련 활동만을 고려한 모형 vs 퀴즈와 관련 없는 활동만을 고려한 모형 (RQ3) 즉각적인 학습 세션과 무관한 정보를 사용하여 학생의 점수를 얼마나 정확하게 모형화할 수 있는가?  학생 능력과 문항 모수에 대한 IRT 추정치를 통해 점수 예측 (RQ4) 학생의 점수를 예측하려면 얼마나 많은 맥락이 필요한가? 퀴즈 시작 직전 3분창, 5분창, 7분창, 9분창 비교 (RQ5) 학생의 점수를 예측하는 데 가장 큰 영향을 미치는 것(feature)은 무엇인가? 랜덤포레스트를 통해 상대적 중요성 파악, 선형 회귀 모형을 통해 계수 해석 3. Dataset 2018-2019년, 48,181명의 학생(플로리다 주에서 대수1을 배우는 6-12학년)에게 실시된 평가 학생들이 더 나은 점수를 받기 위해 퀴즈를 다시 치를 수 있기 때문에 첫번째 시도에 초점 210,190번의 총 퀴즈 데이터: 한명당 평균 6.42번(sd=8.79)의 퀴즈 수행, 평균 1.15점(sd=1.07) 한 학년(school year)동안 Algebra Nation에 참여한 학생들(N=32,685)의 Activity Features을 사용하여 학생 점수를 예측하는 모형 훈련 Algebra Nation: 수학 학습 플랫폼 Activity Features: 퀴즈 시작 직전 3분동안 집계된 22개의 작업의 수 모형: 2PL IRT + 랜덤포레스트 회귀 4. 연구결과 (RQ1~RQ3) 모형 비교: 풀링(5-fold)된 실제 점수와 예측 점수 사이의 상관 계수(r)를 통해 각 모형의 성능 평가 (RQ4~RQ5) 5. 마무리 온라인 학습이 증가함에 따라 학생들은 학습을 자기 조절하는데 서툴기 때문에 효과적인 학습 전략을 촉진하는 것이 중요  퀴즈 풀기를 통한 인출 연습 Algebra Nation의 짧은 형성평가(퀴즈) 성취도를 예측하는 모형 개발: 우리의 모형이 꽤 정확 (student level cross-validated correlations of 0.53 or 28% of the variance 연구의 한계 자유롭게 골라서 의견을 나누어주세요 모형의 성능을 비교할 때 예측 점수와 실제 점수의 상관계수(r)를 통해 combined feature model이 가장 좋은 모형이라는 결론을 얻었는데요. 상관계수(r)만으로 그렇게 결론내릴 수 있을까요? 혹시 다른 방법은 없을까요? 연구문제5에서 학생 퀴즈 점수 예측에 있어서 '틀린 문항 검토하기>문항난이도와 학생 능력>토론게시판 탐방>이전 문항에 응답'의 순으로 중요하다는 결론을 얻었는데요. 저자가 이야기한 cognitive fatigue 이외에 '이전 퀴즈에서 더 많은 문항에 응답할수록 현재 퀴즈 점수가 낮다'는 결론을 어떻게 해석할 수 있을까요? 온라인 학습 환경에 있어서 퀴즈 점수에 영향을 줄 만한 활동들이 더 있을 것 같아요. 이 논문에서 살펴본 22개의 활동 이외에 또 고려할 수 있는 활동들은 어떤 것들이 있을까요?  우리나라 교육에서는 단방향 온라인 수업보다는 실시간으로 이루어지는 쌍방향 온라인 수업(줌)이 선호되고 있는 것 같은데, 실시간으로 이루어지는 쌍방향 온라인 수업의 경우에는 어떤 방식으로 학생들의 수행을 예측할 수 있을까요? 학생 스스로의 동기나 의지가 부족한 경우에는 아무리 잘 갖춰진 온라인 학습 환경이라도 퀴즈가 적절히 주어지더라도 학생의 점수는 낮게 나올 수 있을 것 같은데, 온라인 학습 환경에서 학생들의 동기나 의지를 끌어올릴 수 있는 방법은 어떤 것들이 있을까요? 이 논문을 통해 머신러닝과 문항반응이론을 통합하여 분석하는 것이 가능하다는 것을 알게 되었는데요. 머신러닝과 문항반응이론을 통합하여 분석하는 것의 이점에는 어떤 것이 있을까요? (혹시 아신다면...!) 1팀: 윤서, 부경, 병준 loss: 보통 true data y 와 prediction y_hat 의 실제 값의 차이를 본다. y - y_hat 과 비교했을때 정확한 데이터 포인트 예측보다는 선형적인 추세를 볼 수 있다는 점이 pearson r의 장점! (by 용현쌤) 연구문제5에서 학생 퀴즈 점수 예측에 있어서 '틀린 문항 검토하기>문항난이도와 학생 능력>토론게시판 탐방>이전 문항에 응답'의 순으로 중요하다는 결론을 얻었는데요. 저자가 이야기한 cognitive fatigue 이외에 '이전 퀴즈에서 더 많은 문항에 응답할수록 현재 퀴즈 점수가 낮다'는 결론을 어떻게 해석할 수 있을까요? '퀴즈를 잘 풀려면 퀴즈를 여러 번 풀어보아야 한다'라는 결론일 수 있는데, 측정하는 것이 얼마나 학습에 기여했는가를 평가했다기보다는 시험 점수에 얼마나 기여했는가를 측정한 것일 수 있음 (타당도의 문제) 항상 의문을 느꼈던 지점: 타당도가 항상 문제점 항상 학업성취 (점수) 향상을 학습도와 동일시하는 해석이 전제됨 과연 이 전제는 타당한가? ('시험 점수 높음: 더 질 좋은 학습이 이루어짐') 특히나, 비슷한 유형의 퀴즈를 얼마나 풀었는지에 따라 비슷한 유형의 퀴즈 점수를 예측하는 것이 얼마나 교육적으로 의미가 있었는가 'cognitive fatigue'의 개념에 대한 고민 피로 및 과부화와 관련된 내용 맞음 왜 예상과 다른 결과가 나왔을까? cognitive fatigue가 절대적일 수 있을 듯 (3분, 5분동안 측정을 했는데 이때 계속 퀴즈를 풀었으면 당연히 피로가 증가할 수밖에 없음) 너무 습관처럼 (지난 번에 풀었던 내용과 동일하게 풀어서 응용 부분에서 실수...?)  관성에 이끌려서 응용 파트를 생각하지 못하고, 익숙해진 형식을 그대로 차용해서 방법을 적용하다보니 오류가 있었을 수도 문제를 푸는 것을 제대로 소화하지 못해서 (풀었던 내용, 방법을 소화하지 못해서 정보들을 제대로 익히지 못함. 하지만 바로 넘어가야 하다 보니, 인지적 부하가 더욱 강해지는 역설이 있었을 수도) 학생 스스로의 동기나 의지가 부족한 경우에는 아무리 잘 갖춰진 온라인 학습 환경이라도 퀴즈가 적절히 주어지더라도 학생의 점수는 낮게 나올 수 있을 것 같은데, 온라인 학습 환경에서 학생들의 동기나 의지를 끌어올릴 수 있는 방법은 어떤 것들이 있을까요? 비대면 수업의 가장 큰 어려움: 동기 부여 방안이 매우 제한적 Salience: 수업 내용을 엄청 재밌게 만들기 위해 extra extra work을 하지 않는 이상, 동기부여는 본질적으로 어려움 초등학생 동기부여의 어려움 (초등학생만 너무 말씀드렸나 허허...) 초등학생은 동기부여가 정말 안 됨 ; 온라인이나 오프라인이나 중요한 동기부여 요인 (1) 너네 인생에 얼마나 도움이 되는가: 고학년 쯤 되면 알아서 파악함 (2) 무조건적인 재미: 온라인에서 매우 중요한 요소  게임 많이 함; gamification적 요소 (헤헷 저도 게임 좋아해요)  '게임'이라고 느끼게 하는 것은 무엇이 있을까? 무엇이 게임을 재미있게 만들까? 얼마나 step이 정교하게 짜여 있는가 보상이 어떻게 주어지는가 다양한 학습도구들을 이용해서 (이럴 때 에듀테크가 큰 역할을 할 수 있겠다.) 병준: 에듀테크 봉사를 했었는데, 경계성 지능 아동에게 큰 도움이 되었다. 2팀 : 재용, 용주, 용현 성능평가 Pearson r 이 웬말이냐 아마 정확한 값이 예측이 안되서 이런 변수를 썼을 것. 이 연구의 novelty? 이런 연구가 기존에 없었던 것 같음 랜덤포레스트의 importance..?  IRT(베이지안 모델 - likelihood 가능도 - IRC)랑  랜덤포레스트 - 상관관계(pearson r)의 관계? 뉴턴 메소드,  여담 3팀: 현주, 수진, 지훈 논문 퀄리티 상관 해석하는 것 모형 설명하는 것 combined model이 단순히 feature가 늘어나서 그런거 아닐까? 2번) 이전 문항 응답이 많을수록 점수가 낮아진다 cognitive fatigue 때문 아닐까? SSEN 문제집 보면 스트레스 받듯이..? 학습효과(예. 자이가닉 효과)에 부정적인 영향을 미친다 Karma award 는 효과가 없는거냐? 6번) IRT는 곤란도, 변별도와 같은게 있어야 되는데 산타토익이 IRT도 맞는지? 문항특성과 사람특성을 구분해서 모형을 만들면 IRT라고 봐야할듯 강화학습 + IRT 담론도 크는 중이라고 들었음\"},\n",
       " {'title': '🎲\\nWhat Classroom Audio Tells About Teaching: A Cost-effective Approach for Detection of Teaching Practices Using Spectral Audio Features',\n",
       "  'day': 'November 23, 2021',\n",
       "  'people': 'UNGGI LEE',\n",
       "  'link': 'https://dndrl.notion.site/What-Classroom-Audio-Tells-About-Teaching-A-Cost-effective-Approach-for-Detection-of-Teaching-Pract-d856275529204fe6a56e671e08f010df',\n",
       "  'content': \"1. 요약 2. Related Work 3. Methodology Dataset Feature Engineering Model Training and Evaluation 4. Results Benchmarking for the Different Models A Use Case Scenario 5. Discussion 논의 1. 요약 대부분의 선행 연구에서는 값비싼 장비를 사용하여, 확장성이 떨어지거나 분리(diarizaion)를 위해 사용됨 본 연구에서는 대학 STEM 수업에서 세 가지 유형(Presenting, Administration, Guiding)에 따라 교사의 실천을 확인하는 비용 효과적인 방법을 제시함 스마트폰에 연결된 저비용 마이크를 통해 교사의 수업을 녹음하였음 대학교 STEM 수업에서 Classroom Observation Protocol을 통해 수집한 음성 데이터의 특성을 활용하여, 세 가지 유형(Presenting, Administration, Guiding)을 분류할 수 있도록 지도학습 모델(supervised models)을 훈련시킴 결과적으로 모델은 두 가지 가장 흔한 교육 상황을 80%의 정확도로 구분할 수 있었음 또한 학생이 온라인 플랫폼을 사용하고 있는지 아닌지를 구분할 수도 있음 2. Related Work Wang et al. Donnelly et al. Owens et al. James et al. 3. Methodology Dataset 칠래의 저성취 학교 4학년을 대상으로 한 ConectaIdeas라는 플랫폼을 활용하여 측정된 데이터 중에서 무작위로 선택한 47개의 음성 녹음 19명의 교사를 대상으로 한 녹음(18~77분) 교사의 스마트 폰에 44100 Hz로 연결된 Rode SmartLav+ microphones  https://ko.rode.com/microphones/smartlav-plus 수집된 데이터는 COPUS 코드에 따라 분류함 Feature Engineering MFCC Model Training and Evaluation Random Forest 4. Results Benchmarking for the Different Models 모델 평가를 위해 사용된 metrics: accuracy, precision, recall A Use Case Scenario 본 연구의 기술을 사용했을 때, 교사의 시간관리의 차이에 대해서 확인할 수 있었음 5. Discussion 본 연구에서는 오디오 데이터를 활용해서 다른 교수학습 상황을 구분하는 머신러닝 모델을 개발하였음 기여 - non-intrusive approach - 비용 효과성 논의  본 연구에서는 교사의 오디오 데이터를 활용해서 분류하는 모델을 개발하였습니다.  1. 오디오 데이터를 활용한 LA나 EDM 연구 아이디어에 대해서 논의해봅시다. 2. 오디오 데이터 외에 수집시 비용효과성이 있는 데이터는 무엇이 있을지 논의해봅시다. [신부경, 이웅기, 권현지] <논의 1> 비대면 학습상황에서 학습자에게 전달되는 음성의 영향 분석 (음성별 영향 차이 등) ex) 교수자 배경 소리 > 몰입도 증가, 음향학 어쿠스틱스(소리가 이동하는 방식) 활용하여 건축학에서 활용 중  오디오 데이터 > 음성의 높낮이, 강조점 등의 데이터를 활용하는 연구라면 음악을 활용한 교육의 효과를 알아보는 연구로 확장 가능  억양 및 톤에 따른 학습 몰입도 탐색 멀티미디어 자료의 배경음악, 어떤 음악 종류가 학습에 도움이 되는지 <논의 2> 텍스트데이터  자기성찰지 기록, 포트폴리오 등  활동 로그데이터  zoom 활동 기록, SNS 대화 데이터, 클릭 수, 클릭 위치, 게시판 이용 횟수, 로그인 횟수 등 '비용효과성'의 기준에 따라, text-to-speech의 비용효과성은 높을까, 낮을까? 이 논문에서 '비용효과성'은 '장비' 비용의 측면일 듯 (but 이런 것을 비용효과적이라고 부를 수 있을까... 노동의 대가는....) [백수진, 이재용] <논의 1> 오디오데이터를 활용한다는 것 = 시각자극이 사라져도 알 수 있는 것을 찾는 것 (눈을 감고 수업을 한다면? 다른 사람들의 수업을 귀로만 듣는다면?) (예) 교사의 목소리 + 웅성거림 + 교사의 목소리 : 아 웅성거릴 때에는 학생들이 활동을 하고 있는가보다 교사의 말투 분석 같은 내용을 가르치고, 교사의 말의 속도, 크기, 길이, 높낮이 (여러 선생님들의 자료 수집)를 분석해서 학생들의 이해도 분석 코로나19로 마스크를 끼고 수업할 때 마이크를 사용하는 교사들 있음  이때 소리가 학생들에게 어떻게 들리는가? 학생들의 정서에 어떤 영향을 주는가? 마이크를 쓸 때는 힘을 빼고 말하니까 어조가 단조로워지는 경향이 있음, 기계음으로 들림  졸릴 듯 상호작용 패턴 확인 교사와 학생의 대화가 오고가는 정도 확인 학생 간 토의에서 대화 패턴 확인 (누가 가장 많이 말하는가, 누가 누구와 가장 많이 말하는가 등) 교사의 성찰 돕기 self-monitoring 돕기, 자기장학, 수업성찰 교사들의 바람: 자기 수업에 대한 타인의 평가보다는 다른 사람들의 좋은 수업을 보고 배울 수 있는 기회가 많았으면 좋겠다. 수업에 정답은 없으며 다 다르게 수업할 뿐이다.  선생님만의 스타일을 만드는 방향을 추구하는 게 바람직할 듯. 카네기멜론 ClassInsight 프로젝트: 음성 데이터를 실시간으로 분석해 교사의 질문 후 대기시간 확보를 도와줌 Home Teachers have a lot of demands, and not enough time for as much professional development as they would like. ClassInSight uses sensors to collect data like student attendance, participation, facial expressions, and hand raises. The goal is to use these data to help instructors improve. https://ohlabcmu.wordpress.com/portfolio/classinsight/ <논의 2> 논의 내용 없음  [전영훈, 이은서, 이윤서] <논의 1> COP vs COPUS https://poorvucenter.yale.edu/Observation-Protocols-Teaching-Inventories https://www.ncbi.nlm.nih.gov/pmc/articles/PMC3846513/ 오디오 데이터를 활용한 LA나 EDM 연구 아이디어에 대해서 논의해봅시다. 은서: 네이버에서 음악 들려주면 정확한 음악 찾아주는 것(학습분석에서 활용시) 대화형 챗봇 , 말하기 평가/영어 말하기 평가 와 같은 구술평가,/과정중심평가 상황에서도 사용 가능. (학생의 반응데이터와 더하여 교사의 어떤 발화가 학습자의 반응을 더 이끌어낼수있을지, 학습자의 학습을 더자극할수있을지 알아내는데 유용할것.밑에 쓰셧네요 ㅎ) 오모나 지울게요! 예시 발화(지도서에 있는)의 교육적 효과를 테스트할 때 사용하면 좋을 것 같다. 윤서: 오디오 데이터를 활용해서 학습용 문답 로봇(siri처럼), 교사 발화를 연구해서 마치 임상장학, 동료장학처럼 얼마나 학습 목표 달성과 관련이 있는가  학생에게 적절한 비계 주기 프로젝트와 연결지어도 좋을 것 같다. 영훈: 억양 등이 쉽게 분석이 가능하다면 학습 성향 분석과 학습 코칭 가능. 첨언이 많느냐, 어휘 수준이 어떠하느냐. 많은 말을 하더라도 주술 구조가 완벽하느냐, 내용은 잘 알지만 문법적인 정리를 잘 못한다든가. / 인간의 발화 유형에 따라 청자의 반응과 심리가 달라진다.  학생 상담, 학부모 상담에서 활용 가능.  <논의 2> 오디오 데이터 외에 수집시 비용효과성이 있는 데이터는 무엇이 있을지 논의해봅시다. 없음,,,\"},\n",
       " {'title': '🎅🏽\\nWhat kind of efforts Riiid makes to overcome the limitations of AI-based education system?',\n",
       "  'day': 'November 30, 2021',\n",
       "  'people': '임은선 \\xad',\n",
       "  'link': 'https://dndrl.notion.site/What-kind-of-efforts-Riiid-makes-to-overcome-the-limitations-of-AI-based-education-system-c2baad37ec804124869fdfc4695e43eb',\n",
       "  'content': \"AI-based education의 한계 (Holmes, W., Bialik, M., & Fadel, C. (2019). Artificial intelligence in education. Boston: Center for Curriculum Redesign.) 이런 문제들을 해결하기 위해 AI-based education을 서비스하는 기업에서는 어떤 노력을 하고 있을까? 1. Choose Your Own Question: Encouraging Self-Personalization in Learning Path Construction Introduction Related Works Rocket Potential Benefits of Rocket Implementation Conclusion 2. Assessment Modeling: Fundamental Pre-training Tasks for Interactive Educational Systems Introduction Related Works Assessment Modeling Experiments Discussions Conclusion +) More Papers form Riiid EdNet Deep Attentive Study Session Dropout Prediction in Mobile Learning Environment Towards an Appropriate Query, Key, and Value Computation for Knowledge Tracing Discussion 1. 인공지능의 문제추천시스템이 정말 learner agency 감소에 영향을 미칠까요?    인공지능의 어떤 요소가 learner agency 감소에 영향을 미치는지 의견을 나눠보고 싶습니다. 2. Swiping, Tapping이 learner agency를 위해 충분한 방법일까요? 3. AI-based education을 설계, 개발하는 단계에서 예측할 수 있는 문제점들을     예방, 해결할 수 있는 방법(아이디어 혹은 기술적 구현 방법)에는 어떤 것들이 있을까요? <임은선, 이웅기, 정경훈, 권현지>  이웅기 : 기존에 있던 프로그램의 형태, UI 등의 사용성이 떨어지는 것이 원인이 될 수 있을 것 권현지 : 교육대상에 따라 다를 것 같다,  성인 대상 : 학습자 자체가 충분히 자발적, 능동적이기 때문에 학습자 주체성 감소에 주는 영향은 적을 것이다. 청소년 대상 : 문제 자동화 추천 > 교수자 주도형의 지시적인 교육으로 와닿을 수도 > 학습자 주체성 감소에 영향 줄 수도 정경훈  : 학원 경험 > 자기주도형 학습 유행 했음 > 실패함 > 학습하는 방법에 대해 더 잘 아는 사람은  선생님이 었음 > 따라서 학습자 중심으로 구성된 교육 내용이 더 효과적일지 선생님이 제공한 교육 내용이 더 효과적인지는 지켜봐야 할듯   본 연구 > accept 되지 않음 > 교육적인 타당화 과정이 아쉬워서 그런 것 일수도 이웅기 : 검증해봐야 알 수 있다. 경험적으로는 단순한 동작으로 느껴짐 (직관적인 선택일 뿐 심도있게 생각해서 선택하지 않을 수 있지 않을까) > 학습에 도움이 될 지 모르겠음. 임은선 : swiping, tapping이 학습자들이 문제에 대해 가지는 인식 정도를 확인할 수 있는 타당한 방법인가?  권현지 : 여기서 정의하고 있는 학습자 주체성의 요소가 무엇인지 먼저 파악 필요, 보편적인 학습자 주체성은 학습자간 상호작용 등의 환경 등이 구축되었을 때 활성화되기도 함 > 이것 부족  산타토익 서비스에 대한 생각 이웅기 :  정경훈 :  양자... 머신러닝...?도 궁금합니다... ㅎㅎ <손영훈, 박용주, 이재용> 질문 1 행위자성, 행위 주체성 : 주어진 상황에서 능동적, 비판적, 자율적으로 행동하는 능력 행위주체성을 문제 상황에 대해 비판적으로 반응하려는 행위자의 능력(Biesta & Tedder, 2006: 11) 혹은 사회구조를 결 정하는 요인과 [무관하게] ... 자율적으로 행동하는 능력(Biesta & Tedder, 2006: 5)으로 보는 것이 이에 해당한다. (소경희 & 최유리, 2018) 학습자 특성에 따라서 다를 것이다  ex) 장독립적/장의존적 학습자 단순히 인공지능 문제추천시스템을 쓴다고 해서 언제나 agency가 감소하는 것이 아니다 인공지능 추천 시스템 사용을 결정하는 것도 학습자의 행위주체성에 의한 것이다 추천 기능에 대한 상반된 의견 학습자의 선호/흥미/이해도에 기반하여 특정 방향의 추천만 제공하여, 다른 영역을 탐색할 수 있는 기회를 제한한다 학생이 더욱 탐구하고 싶은 생각이 있으면 링크를 따라서 후속 콘텐츠를 계속 소비하면서 관심 영역을 확장시킬 수 있다 생각해볼 질문 직접 검색한 콘텐츠가 아니라, 시스템이 추천한 콘텐츠를 소비하는 것은 행위자성이 발휘된 결과인가, 아니면 행위자성이 저해된 결과인가? 개인정보 수집/활용 이슈 질문 3 구글 등 사회적으로 영향력이 큰 서비스 활용 시에는 알고리즘에 의해서 콘텐츠가 추천된다는 것을 사용자에게 명시할 의무가 있다 검색자가 검색 전에 추천 여부를 알 수 있게 하자 검색 결과가 추천모델/알고리즘 등에 의해 결정됨을 사전에 고지 어떤 데이터에 의해서 추천이 이뤄지는지, 알고리즘의 추론과정은 어떠한지 명시 사용자가 자신도 모르게 알고리즘에 의해서 사고나 행동 패턴이 굳어지게 될 수 있기 때문 워싱턴 대학 연구 결과: 구글 CEO 검색결과 성비 vs 실제 성비 사람은 보고 싶은 것만 본다: 알고리즘에 의해서 정말 이렇게 될 수 있을 것이라는 생각이 든다 제도가 사회를 따라가지 못하고 있다 예) 페이스북 알고리즘 편향성 이슈 추천 쿼터제 : 특정 방향으로의 추천이 과도하게 이뤄지지 않도록 콘텐츠 양을 제한 기타 논의 콘텐츠 생산의 중앙화 - 탈중앙화 - 그 다음? / 콘텐츠 소비의 일원화 - 개인화  그 다음? 유튜브에서의 추천 목적 vs 학습용 인공지능의 추천 목적 질적으로 다르지 않을까? 추천이 되는 게 더 좋은 것 아닐까? 아는 문제만 계속 풀거나, 학급 학생들에게 동일한 문제를 제공  개인의 특성에 맞는 콘텐츠 제공 추천 목적 (추천 알고리즘을 설계하는 것은 사람이다) AIEd: 궁극적인 목적이 학습의 최적화에 있다 (산타토익: 점수 극대화) 유튜브에서의 추천과 다를 것이다 (유튜브: 사용시간 극대화) <전영훈, 신부경, 이윤서> dx 변수의 의미에 대한 논의 인공지능의 문제추천시스템이 정말 learner agency 감소에 영향을 미칠까요? 인공지능의 어떤 요소가 learner agency 감소에 영향을 미치는지 의견을 나눠보고 싶습니다. 자신이 사용하는 알고리즘이 아니더라도 딥러닝이나 인공지능의 원리를 알고 있으면 learner agency에 별로 영향을 미치지 않으나, 일반 대중의 경우에는 알고리즘에 대한 설명이 하나도 없는 경우에는 learner agency가 감소 가능. learner agency가 반드시 인공지능 때문에 감소되는 것이 아니라 인공지능과 결합되고 사용되면서 새로운 형태의 agency가 되는 것 아닐까? 알고리즘에 따라 상호작용하는 방식이 달라지기 때문에.  일반인의 경우에는 쉽게 강요받는다는 생각이 들 것. UX의 측면에서 강요 않는 분위기로~  learner agency는 '선택의 가능성'으로부터 발생  인공지능이 제공해주는 문제의 스타일(스토리텔링 방식, 객관식, 주관식 등등), 캐릭터 디자인 등 선택지 제공에 변화를 주었을 때 learner agency or 자기주도성 확보 가능 Swiping, Tapping이 learner agency를 위해 충분한 방법일까요? swipe한 문제를 되돌리지 못하는 문제, 내가 왜 이 문제를 swipe했을까?  한번 swipe한 것을 다시 풀지 말고 비슷한 유형의 문제들을 다시 등장시키면 좋을 것 같다. swipe한 문제들을 따로 저장소에 넣어서 되돌릴 수 있는 기능을 만들면 어떨까?  버튼을 누르면 되돌릴 수 있도록 만들자.  AI-based education을 설계, 개발하는 단계에서 예측할 수 있는 문제점들을 예방, 해결할 수 있는 방법(아이디어 혹은 기술적 구현 방법)에는 어떤 것들이 있을까요? 개인정보(학습자 정보, 민감한 개인정보)  Riiid에서 실제 토익 점수 데이터를 확보 못했다고 하는데, 실제 점수를 입력하면 돈을 준다(환급)고 하면 되지 않을까? 학습자들의 심리적 허들: 인공지능의 냉정한 feedback에 인간의 마음은 상처투성이... 결과 활용에 있어서 학습자에게는 부담으로 다가올 수 있음. 학습자들의 내재적 동기가 있어야 AIedu가 가능.  학습자들이 어플을 깔기까지의 결심, 유지하려는 노력.  무한노가다의 힘.(계속되는 푸쉬 알림), gamification. 외적 동기가 중요하다. 예를 들어, 돈...  포레스트 앱처럼 봉사심 자극\"},\n",
       " {'title': '🐭\\nAnalyzing and Visualizing Learning Data: A System Designer’s Perspective',\n",
       "  'day': 'December 7, 2021',\n",
       "  'people': 'hyunjee Kwon',\n",
       "  'link': 'https://dndrl.notion.site/Analyzing-and-Visualizing-Learning-Data-A-System-Designer-s-Perspective-399511352a0d4e2281fdf6b156b7da90',\n",
       "  'content': ' 본인 소개  인생의 목적 : 많은 사람의 직업능력개발을 도와 행복의 기본 조건으로서 생계 유지 능력을 갖출 수 있도록 돕는 것, 죽을 때 까지 공부하는 것 >_< \\'21.9 ~  : 서울대학교 경력개발센터 연구원 \\'18.12 ~ \\'21.9 : 교육기획 및 운영 (피아노, 영어, AIFFEL, 부스트캠프 AI Tech) 인적자원개발 전공 석박사통합과정생 박사학위논문 가제 : 감성분석을 활용한 무형식학습의 정서 탐색 : AI 교육 맥락을 중심으로 ENTJ! (회사 본캐 검사 > ESTJ)  요약 : \"학습 시스템 디자이너의 관점에서 학습 분석 시각화 예시 소개\" 1. Introduction & Context  2. Analysis & Visualization Techniques 3. Biases and Caveats References   아래의 주제 중, 자유롭게 1~2개의 주제를 선택하여 논의해 봅시다.  <이웅기, 황준오, 김보영, 이윤서 > 난이도를 측정하기 위해 정답률과 같은 간단한 방법을 사용하는 것으로 충분할까요? 아니면 더 복잡한 방법이 필요할까요? 준오쌤: response time을 같이 보는 것이 중요함. (ex) PISA 데이터: 문제 푸는 시간 & 정답률  나라 간 비교가 목적. 컴퓨터 베이스와 페이퍼 베이스의 데이터가 말하길, 무엇으로 문제를 푸는가에 따라 시간이 다름.) & 어떠한 매체를 통해 문제를 푸는가도 중요.  페이퍼로 문제를 푸는 게 더 정답률이 높았다고 함.  윤서쌤: 가장 중간정도되는 난이도의 문제를 제공해야 함, 상위 하위 차별 지수가 난이도 측정에 도움이 될 것 같음.  + 문제푼 장소가 학원이냐 집이냐 등 환경에 관한 정보도 중요할듯. + 객관식 말고 주관식은 어떨까? 웅기쌤: response time을 집어넣고 DKT에 넣어  다음 문제를 맞힐 수 있는지 여부를 확인 가능. 보영쌤: 너무 어렵거나 쉬운 문제는 자동으로 빼는 거 어떨까? eye tracker 등과 같이 시선 체크.  현장에서 학생은 주로 부정행위를 어떻게 하나요? 이를 데이터로 시각화하여 알아차리는 방법에는 무엇이 있을까요? 보영쌤: 채팅하는 동작을 본다거나, eye-track 패턴을 파악. 준오쌤: 비슷한 자리에 앉은 학생들이 비슷한 정답, 오답을 찍는 현상으로 파악  돌발퀴즈 등을 해서 학생들의 성취도 및 집중도 파악. 윤서쌤: 과목과 시험 특성에 따라서 부정행위 정도가 달라질 수 있다. 특히 온라인에서 더 많이 일어난다. 시험 자체의 경향이나 문항 정오답 오류 등도 찾을 수 있음. 웅기쌤: 칸아카데미로 운영해보니 평소 잘 참여 안하던 학생이 중간중간 갑자기 100점 맞는 현상 발견되는데 직접 질문해보면 대체로 대답을 잘 못한다. 그 외에도, 학생의 태도를 보면 교사가 직관적으로 알 수 있는 지표가 있다. <전영훈, 백수진, 권현지  > 난이도의 정의 : 문항 곤란도 (집단 내에서의 상대적인 개념) 정답률로는 충분하지 않다 -학습자가 문제에 대해 얼마나 진지하게 생각하고 몰입하고 있는지에 대한 확인도 필요  -학습자의 수준이나 집단의 특성  -환경적인 부분 (소음,  -모든 조건이 동일한 학습자에게 동일한 환경이 제공되었는지 (학습 소수자에게 동일한 환경이 아님)  4. 부정행위 거의 없음....  IP 추적  학생 간 답안 일치도  (학생 답안끼리 표절검사)  그럼 어떻게 만점자와 배낀 거  >> 분야 전문가가 추가로 확인하여 알아차릴 수 있을 듯 (이전의 학습 행동을 추적하거나)  2. 문항 출제자의 입장에서 평가 문항의 다양성을 객관적으로 분석할 수 있음  문항 출제 의도가 문항에 잘 반영되었는지 타당도 검사 가능 > 출제자에게 성찰 가능하도록 함  실제 이해도 측정 가능  > 유사도가 높은 2개의 문항을 둘 다 맞춘 친구와 다르게 맞춘 친구 비슷한 주제의 문항인데 문항의 문제 유형만 다른 경우, 어떤 형태의 문제에서 학습자 성취 차이가 어떤가 > 학습자 유형별 지원 (개별화 지원) 가능  문항은 아니지만 )) 답안 유사도를 활용하여 비슷한 답안에 대한 군집 분석 가능  <송유경, 유영진, 신부경> 1. 난이도를 측정하기 위해 정답률과 같은 간단한 방법을 사용하는 것으로 충분할까요? 아니면 더 복잡한 방법이 필요할까요? 교육 측정과 검사, 교육 평가 분야에서 이미 정의된 방법 있음 (문항 곤란도) 이 경우 \\'정답률\\'을 기반으로 곤란도를 측정하는 경우가 많음 서술형 정답의 경우 어떻게 채점할 수 있는지? 핵심 요소가 들어가 있는지 등을 채점 (논리력보다 단어를 썼는지 확인하기도) 맥락에 따라 채점 달라질 수도 rubric을 기반으로 채점하는 경우도 있음 정답률 이외의 요소? 반응 속도 답안지 교체, 답안 교체한 횟수 온라인의 경우 답을 썼다 지웠다 하는 것  응답 여부 (빈칸으로 낸 학생의 수, 완성도 등) 본인이 시험에 대해 느끼는 감정... 맥락을 어떻게 고려할 것인가? 4. 현장에서 학생은 주로 부정행위를 어떻게 하나요? 이를 데이터로 시각화하여 알아차리는 방법에는 무엇이 있을까요? 부정행위의 맥락 태블릿으로 시험을 보거나 활동을 하는 경우도 있음 (옆에 친구가 도와주는 경우) 누군가가 해줬는지 관찰하지 못하면 알지 어려움 부정행위의 범위: 대신 해주는 것 vs 도움을 주는 것 구분의 방법? 부정행위는 주로 정답이 있는 활동이나 시험의 맥락 부정행위 방지 방법 태블릿으로 문제를 풀 때 학습자의 지문이 찍혀서 이상 반응이 나타났을 때 신호 보내지는 방식 가능  but 감시가 될 수 있음 AR 방식으로 (스마트 안경 등) 모르는 것이 있으면 머리 위에 뜨는 방식?으로 시각화 가능 토플 시험 (홈 에디션): 카메라 켜놓고 부정행위 구별의 필요성 어떤 활동을 하고 있는지 시각화할 필요 있음'},\n",
       " {'title': 'Collaborative Learning Analytics',\n",
       "  'day': 'December 14, 2021',\n",
       "  'people': '박새록(사범대학 교육공학과) \\xad',\n",
       "  'link': 'https://dndrl.notion.site/Collaborative-Learning-Analytics-e07e46af8fea4e3d84e7e63edc85449e',\n",
       "  'content': '발제 자료 Collaborative Learning Analytics_정리.docx 166.6KB Collaborative Learning Analytics_정리 (1).pdf 495.1KB 추가 참고 자료 1) Computer-Supported Collaborative Learning_CSCL 개념.docx 44.4KB 2) Teaching and Learning in Technology-rich Environments_CSCL 개념.docx 379.3KB 3) A Model of Collaborative Knowledge-Building_협력적 지식 구축.docx 157.7KB 4) Collaborative Learning_협력의 요소.docx 42.0KB 토의사항 <이홍규, 이윤서, 이웅기> construct: 학습의 구성, 학습요소  구성주의에서 말하는 학습 CSCL에서 구성주의 관점이 있다~~  핸드북에 나옴 (챕터) 학습자 관점 1) 좋은 협력이란 무엇일까요? - 정의적인 면(초점)  개별 책무성, 갈등관리능력, 팀워크 등 - 인지적인 면도 함께  혼자 할 수 없는 산출물을 만들기 위해. 그룹이 해결해야 하는 문제를 인지하고 해결방법을 설계하는 기회. - 내가 할 수 없는 역할, 아이디어를 다른 친구들이 수행하면서 상호 보완해 나가는 협력, 자발성 유도 - 수행분석: 발표를 열심히하고, 기록을 열심히, 자료를 찾아오기 -세부 요소들을 측정하여 협력을 많이 하는 학생을 추려보자  활동량이 많은 학생 (발화 횟수, 로그 기록), 개별 책무성을 얼마나 많이 꾸준히 수행하는지(어떤 로그와 어떤 행동, 어떤 분석방법을 봐야 하는지, 어떤 지표에 가중치를 얼마나 두어야 하는지) - 개인 책무성 : 음성 데이터 기록에서 \"조원들에게 민폐 끼치면 안될 것같아. 우리 열심히 해보자\" 와 관련된 데이터면 좋을 것 같은데, 고려해야 할 변수가 너무 많네요... 2) 좋은 협력 연구자 관점 1) CSCL 데이터 지표? 변수가 애매함. 변수를 정의하는 과정 자체가 어려움.  어떠한 지표가 무엇을 나타내는지 정의하기가 어려움. ex) 개별 책무성이 어떤 행동으로 드러나는가?  연구자 중심  텍스트 마이닝, 자연어 처리 등을 활용하는 것이 이해가 쉽다고 생각됨. 학습과정에서 LA 가 들어가는 건 연구자를 위한 연구이지만, 평가에서 LA 가 반영된다면, 교육현장 뿐만 아니라 산업현장에서도 활용도가 어마어마하다.  AI면접에서 집단토의하는 과정에서 누가 주도하는지, 누가 책무성이 있는지 분석하는 것이 굉장히 유용하게 활용될것같아요 하지만 자연어처리 기술의 성능,정확성을 높이는 것이 관건일것같은데. <박새록, 박용현, 이재용> 연구자 관점 Collaborative Knowledge Building을 확인할 수 있는 데이터 지표? (협력적 지식 구성이 일어나는지 어떻게 알 수 있을까?) 학습과정에 대한 지표: 작성한 텍스트의 양, 오고 간 대화의 횟수, 구성원들의 대화 참여도 학습결과에 대한 지표: 사전-사후검사 점수 차이 학습과정과 학습결과 사이의 관계: 학습활동 데이터와 사전사후검사 결과의 관계를 확인 (추가적인 의문) 개별적 지식구성 vs 협력적 지식구성 면대면 협력학습에서 얻을 수 있는 데이터? 학생의 발화나 필기(note-taking) 학습자 관점 좋은 협력은 무엇인가? 개별 구성원이 개별학습에서보다 효과적으로 학습하는 과정 vs 집단 수준에서 높은 수준의 결과물을 도출하는 과정 개별 구성원이 상호보완적인 역할을 수행하여 개인 수행보다 높은 수준의 수행을 이루는 과정 각 구성원들이 책임감을 가지고 각자의 역할을 수행하는 과정 어떤 가치를 더 중시할 것인가? (새록선생님 충격적이었던 팀플) 최고의 결과를 도출하지 못하더라도 목표 달성 과정을 충실하게 수행 목표를 달성하는 최고의 결과물을 도출 모든 구성원이 동일한 목적을 공유하고 이를 이루기 위해 노력하는 과정(개인의 목적과 집단의 목적이 조화를 이루는 과정) <김보영, 이은서> 학습자관점  1) 좋은 협력: 협력 과정과 결과의 조화, 협력이 어떤 상황에서 벌어지는지, 협력학습으로 인한 학습목표가 무엇인지에 따라 달아짐. 각자의 역할을 하면서 공평한 참여하는것이 결과가 좋지 않더라도 그게 더 나은 협력학습 좋은 협력은 의사소통역량이 향상되는 협력학습 리더의 독재 방식 / 1명의 에이스와 다수의 무임승차 < 민주적인 방식 / 참여율이 높은 팀 협력이라고 생각하지만 현실적으로 교수자 관점에서는 산출물이 우수한 팀의 결과물을 무시할 수는 없음. 결과중심평가냐 과정중심평가냐에 따라 달라짐. 하지만 과정중심평가를 지향하여 결과물과 과정요소를 모두 고려하여 학습자가 팀 학습을 하는 과정에서 개인의 역량을 개발할 수 있도록 지향해야함. 2) 좋은협력 가장 중요한 요소: 결과중심4 ; 과정중심6 비율 교수자관점 1) 학습자의 성향, 프로젝트 주제, 관심도에 따라 달라질 수 있다. (사바사?) 세세한 설명을 선호하는 학습자   - 학습자 성향: 미시적 관점, T J 큰 틀을 선호하는 학습자   - 학습자 성향: 거시적 관점. 독립적 학습자, 개성과 창의성이 강한 학습자, N F 2) 개별화지도와 또래학습(peer-tutoring) 학습자 수준이 상이할 시 개별화지도 내향적 학습자는 협력학습을 선호하지 않는 경향이 있음. 제일 소극적인 학습자: 수준별 과제를 분류하여 난이도가 제일 낮은 과제를 할 수 있도록, 팀장에게 또래교수를 권유,권장,독려'},\n",
       " {'title': \"Predicting learner's performance through video sequences viewing behavior analysis using educational data-mining\",\n",
       "  'day': 'December 21, 2021',\n",
       "  'people': '이\\n이홍규',\n",
       "  'link': 'https://dndrl.notion.site/Predicting-learner-s-performance-through-video-sequences-viewing-behavior-analysis-using-educational-04a580da942b4f37b6b799e5137efb79',\n",
       "  'content': 'Predicting learner\\'s performance through video sequences viewing behavior analysis using educational data-mining.pdf 977.3KB 요약 : \"EDM을 활용한 비디오 시퀀스 행동 분석을 통해 학습자 수행 예측\" 1.Introduction 2.Related works 3.Methodology 4.Results and discussions 5.Conclusions and future works Fig & Table  1. Pedagogical Sequence를 분석하는 것이 교육적으로 정말 유의미할까?                                       2. 학습자의 학업성취(performance)를 미리 예측하는 것이 학생에게 정말 도움을 줄까? 얼마나 도움을 줄까? 어떻게 도움을 줄까? 3. Pedagogical Sequence를 분석하는 것 외에 어떤 데이터를 수집하고 분석하는 것이 교육적으로 활용도가 높을까?       (전체 토론) sequence 길이가 각각 다른데 어떻게 데이터로 만들었을까? 최대, 최소 마지노선을 정해서 데이터를 일정하게 만들어 넣은 듯.  방법론이 이론적으로 탄탄하지 못한 논문: BROMP(시퀀스를 어떤 기준으로 나누었는지 기술하는 방법)을 써야 함. 1. Pedagogical Sequence를 분석하는 것이 교육적으로 정말 유의미할까? 지훈쌤: sequential data일 뿐, pedagogical data라고 생각하지 않는다. pedagogical한 게 무엇인지 이야기를 해주었으면 교육적인 의미가 있을 것 같지만 이 논문에서 data는 serial data인 것 같음. data-driven으로 단계를 밝혀내는 연구도 재밌을 것 같네요~  에누마 같은 타입의 행위pedagogical sequence 나누는게 가능할지? https://biz.chosun.com/site/data/html_dir/2017/09/01/2017090102160.html 홍규쌤) 가네도 잘게 쪼개긴 하는데, 행동 단위로 쪼개지는 않는다 용현쌤: click이 도입-설명-논의-정리 중 어디인지를 알려주기 때문에, 학생의 이해도를 알려주려는 측면에서 의미가 있다고는 생각. 윤서쌤 : 연구의 의도는 알 것 같다. 온라인 강의에서 시퀀스를 구분하는 것이 분명 의미있는 일이다. 하지만 이 연구에서는 시퀀스 클릭이 연속된 타임라인이라는 의미가 강하게 느껴진다 재용쌤 : 학습분석 논문에 대한 의견을 들어보면 많은 경우에 교육학적 함의가 부족하다는 지적이 많은 것 같아요. 물론 기존 교육학 연구만큼 이해 가능한 인사이트을 제공하지는 못하는 것 같아요. 그런데 이러한 학습분석 기술이 온라인에서 대규모로 활용될 수 있다고 한다면, 완벽하지는 않더라도 의미가 있다고 생각해요. 많은 경우 교육학 연구 결과는 스케일업이 어려우니까요. 학습자와 도구 사이의 상호작용을 활동이론 등의 사회문화적 프레임워크에서 분석하려는 시도가 지속되고 있어요. 학습과학 분야에서 많이 하는데, 한국은 독자적인 학습과학 커뮤니티가 없어서 교육공학 하는 사람들이 해요. 2. 학습자의 학업성취(performance)를 미리 예측하는 것이 학생에게 정말 도움을 줄까? 얼마나 도움을 줄까? 어떻게 도움을 줄까? 용현쌤: 학습자의 경우에는 자신의 행위가 학업성취에 도움이 될지 안 될지를 잘 모르기 때문에 도움이 약간은 된다고 생각. 웅기쌤: 위기학생의 경우에는 alert를 준다든지 등 예방과 처방적 목적으로 제공 가능. 재용쌤: 학습자의 행동으로 학업성취를 예측할 수 있다면 학업성취 기댓값이 가장 높아지는 행동이나 콘텐츠를 확인해 추천할 수 있을 것 같아요. 맞춤형 수업이랄까요. 너의 예상 성취도가 얼마다 하고 직접 알려주는 것이 아니라, 성취도 기댓값을 최대화하는 방식으로 학습경험을 제공한다면 좀더 완곡한 도움 제공이 가능할 것 같아요. 윤서썜 : 학생의 학업성취를 예측할 수 있다면 학업성취 및 목표성취를 위한 여러 가지 과제 제시, 콘텐츠 추천이 가능하겠지만, 시스템의 신뢰도가 부족하거나 자발적인 공부가 부족한 학생은 tinderlike UI, gamaficaton 등을 통해 추가적인 상호작용이나 자기주도적 콘텐츠 제공이 필요함. 웅기쌤: 학업성취를 예측해서 그 결과를 학생에게 보여줬을 때의 심리 상태도 고려해야 함. (공부를 잘하는 학생은 교만해지고 공부를 못하는 학생은 절망하는 등의 심리 상태) 지훈쌤 : 예측하고자 하는 것이 교육적 함의가 있어야 한다. 해석가능한 부분이 있어야 한다. 교장들을 대상으로 진단하는 profile 만들었던 경험. 자기가 좋은 교장이라고 생각하는 경우가 대다수다. 연구자들이 다양한 진단영역을 만들어서 해석가능하게 만들어준다면, 그걸 보는 과정에서 성찰하고 노력할 수 있을 것이다. 이런 것들이 학업성취 예측에서 중요할 것이라 생각한다. 윤서쌤 : 학업성취 예측 결과를 볼 때 기준/항목에 따라 제공해주어야 한다. 학생들에게 평가결과를 알려줄 때 항목을 하나하나 알려주었다. 너는 ~~래서 미달이 되었고 ~~래서 부족하다.  용현쌤 : Explainable AI. 3번째 순서의 도입부분을 클릭했기 때문에 너의 학업 성취를 예측을 했어. 그럼 도입을 클릭하지 말아야 하나? 모델의 보이지 않는 input이 분명히 있다(학생의 집중력, 이해력). Latent Variable (숨겨진 변수)를 정의해서 해석성 있는 방식으로 전달하는 것이  중요하다. 예측모델이 나아가야 할 방향이다. Latent Variable - 낙타 등 같은 분포 Mixture of Gaussian. 재용쌤 : latent variable을 찾는다는 것은 겉으로 보이는 학습자의 특징이 우리가 알지 못하는 어떤 무언가에 의해 결정된다고 가정하고, 그 요인들이 어떤 것들인지 찾는 거예요 3. Pedagogical Sequence를 분석하는 것 외에 어떤 데이터를 수집하고 분석하는 것이 교육적으로 활용도가 높을까?  재용쌤: 학생들 집단별로 일부러 실제 성취도보다 낮게 또는 높게 알려준 뒤에 정서심리의 변화나 학습지속 정도를 비교 용현쌤: 학습유형, 학습피라미드 웅기쌤: 인식론적 신념에 관한 연구. (어떤 지식관을 가지고 있는지)'},\n",
       " {'title': 'Detecting High Orders of Cognitive Complexity in Students’ Reasoning in Argumentative Writing About Ocean Acidification',\n",
       "  'day': 'December 28, 2021',\n",
       "  'people': 'Y\\nYoonhee Ham',\n",
       "  'link': 'https://dndrl.notion.site/Detecting-High-Orders-of-Cognitive-Complexity-in-Students-Reasoning-in-Argumentative-Writing-About--69ae567018714651968b04451910ddc5',\n",
       "  'content': 'Summary Introduction(Theoretical framework) Methods Language models and transformers Results Discussion  1. 본 연구에서는 학생이 쓴 문장을 인지 활동에 따라 라벨링하였습니다. Definition, Cause and effect과 같은 인지 활동 외에 문장을 라벨링할 방법이 있을까요?   2. GPT-3 모델, 네이버의 하이퍼클로바, 카카오의 KoGPT 등의 최근 언어 모델은 교육에서 인공지능의 활용 가능성을 높여주고 있습니다. 본 논문에서 목표로 했던 Automated Writing Evaluation 시스템은 언어 모델을 활용할 수 있는 대표적인 분야인데요, 그 외에 교육에서 언어 모델을 어떻게 활용할 수 있을지 논의해보고 싶습니다. 언어 모델 예시 https://beta.openai.com/examples/ https://naver-ai-now.kr/ https://github.com/kakaobrain/kogpt 교육적 활용 예시 챗봇 교사 토론글 분석 및 피드백 제공 음성 분석 및 피드백 제공 등.. <지영 준오 보영> 준오 : 사실과 의견을 분리해서 글쓰기 + 그것을 구분해서 라벨링 해주는 것. (의견의 경우 그것을 뒷받침해주는 사실들과의 연결관계 라벨링하기)  지영 : 비슷한 내용끼리 묶어서 문단을 구분하는 것, 적절하게 문단을 끊어야 할 위치에서 알려주기. 과학적 글쓰기보다는 국어적 글쓰기에서 더 유용할듯. 인지활동에 대한 구분을 만들어둔 것이 좋아서, 좀더 대규모로 연구가 이루어졌으면 좋겠다. 보영 : 일기 등에 나타난 감정을 문장에 따라 색깔로 하이라이팅 해주기.  + 학생들이 교과서에서 중요하게 생각하고 하이라이트 친 부분을 학업성취 수준에 따라서 분석해보기.  http://wai.best/  실제 내용에 대한 피드백보다는 문장의 완결성에 대한 피드백만 쓸만 하다. 닫힌 질문 vs 열린 질문에 대한 평가 (하브루타) 음성언어 모델을 사용해서 발음에 대한 평가도 이루어졌으면 좋겠다. 저학년의 경우 발음을 많이 틀리는데 이를 자동적으로 짚어주는 기능. 혹은 구강구조의 문제를 진단하는데에도 활용할 수 있을 것이다. 난독증에 대한 간이 진단 글쓰기를 분석해서 교우관계 진단 및 학교폭력 징후, 우울감, 부정적 문장 판단 등. (가능하다면 카톡 텍스트?) 낱말추천 (Grammary처럼) : 동의어 유의어 한자어 등 토론할때 발화적 상황에서 실시간 피드백 <윤희 용주 웅기> 라벨링 방법  어떤 글이냐? 논리적인 글쓰기, 일기(교우 관계) 감정 분석: boring, frustration 질문의 등급 https://gse-it.stanford.edu/smile 전문가와 학생의 글쓰기를 비교  LIWC: http://liwc.wpengine.com/http://liwc.wpengine.com/ 음성 분석: 톤, 어조 등을 분석하기도 함. (cf. 다중양식분석) 교사의 발화를 분석할 수도 있음.  교육적 활용  공감 챗봇 창의적 영어 글쓰기에 활용 <은서 영진 부경> 1. 본 연구에서는 학생이 쓴 문장을 인지활동에 따라 라벨링하였습니다. Definition, Cause and effect과 같은 인지활동 외에 문장을 라벨링할 방법이 있을까요? 인지 활동을 라벨링하는 방법? 자기규제학습, 자기주도학습 - 학습참여, 의문 제기 등 측정 (e.g. pause, 되돌리기 등 로그데이터와 같은 변수) 선택을 먼저, 더 빨리하는 것이 동기를 나타낼 수 있음 행위를 인지 활동을 나타내는 것으로 라벨링 추론, 논증 등...  보통 질적 연구를 통해 연결 인지활동 외에 문장을 라벨링할 방법? 감성 (e.g. 시...) 단순히 언어적으로? 말하기  문장으로 갈 때 감정이 빠지는 부분이 생김, 기술이 된다면 이것을 알아볼 수 있는 방법...? 수식어구 vs 이과식 글쓰기 (팩트만)  접속사, 부사구, 형용사구 등의 빈도로 확인할 수도 문장의 역할? e.g. topic sentence, supporting details, closing sentence  거시적인 글의 구조를 파악하는 데 도움이 될 수 있음. 글의 프레임 분석/지도에 유용 두괄식? 미괄식? 문장의 종결어미  어느 단계의 인지에 도달했는지 알 수도 (e.g. ~인 것 같은데요 - 유사성, 추론?, ~와 반대된다 - 정보를 구분하는 단계) 인지 활동을 겉으로 표현된다고 볼 수 있을까? 심리적 구인을 행동데이터, 데이터로 표현할 수 있을까? 표현이 인지 수준을 따라가지 못하는 경우도 있지 않을까? 2. GPT-3 모델, 네이버의 하이퍼클로바, 카카오의 KoGPT 등의 최근 언어 모델은 교육에서 인공지능의 활용 가능성을 높여주고 있습니다. 본 논문에서 목표로 했던 Automated Writing Evaluation 시스템은 언어 모델을 활용할 수 있는 대표적인 분야인데요, 그 외에 교육에서 언어 모델을 어떻게 활용할 수 있을지 논의해보고 싶습니다. 챗봇 교사 e.g. 타자를 치면 챗봇이 지식으로 대답 (1:1로 질문에 대답, 정보제공, 적응형 피드백) - 특정 과목에서 이루어짐 구글 어시스턴트같은 느낌? (but 구글만큼 자료를 너무 많이 주지는x, 인지 부하를 줄일 수 있음) 챗봇을 통한 개별 피드백 (e.g. 과제에 대한 피드백) 챗봇을 만드는 것도 노가다...  언어 모델을 통해 보완 가능? 교육에서 이것을 어떻게 활용할 수 있을까? 비윤리적 데이터 학습의 경우  교육적 챗봇에서는 특히 유의해야 할 수도... 언어를 통한 감성 분석? 적절한 피드백, 말을 해주는 대화형 챗봇? 상담 챗봇? e.g. 독거노인 대화 상대 토론 활동을 보여줄 수 있는 프로그램? 토론의 진행 상황을 보여줄 수 있는 것 (어디가 도움이 필요한지 등)  토론 성과 관련된, 필요한 정보만 제공하는 프로그램? 팀 내에서의 기여도, 개개인의 각각 성과 나아가 성취수준을 평가하거나 확인, 유형별 피드백도 제공 가능 - 평가자 입장에서 특히 ZOOM 소회의실 환경에서...'}]"
      ]
     },
     "execution_count": 2,
     "metadata": {},
     "output_type": "execute_result"
    }
   ],
   "source": [
    "from cleaning import default\n",
    "\n",
    "ClEANED = default(file_name= '220227_2021 STELA 발제내용.pkl')\n",
    "ClEANED"
   ]
  },
  {
   "cell_type": "code",
   "execution_count": 3,
   "metadata": {},
   "outputs": [
    {
     "name": "stdout",
     "output_type": "stream",
     "text": [
      "Empty:  1. Theory and Learning Analytics\n"
     ]
    }
   ],
   "source": [
    "for page in ClEANED:\n",
    "    if page['people'] == '': print('Empty: ', page['title'])"
   ]
  },
  {
   "cell_type": "markdown",
   "metadata": {},
   "source": [
    "이상하긴 하지만, 웅기쌤만 비어있으므로 그냥 수동으로 채워줌"
   ]
  },
  {
   "cell_type": "code",
   "execution_count": 4,
   "metadata": {},
   "outputs": [
    {
     "data": {
      "text/plain": [
       "{'title': '1. Theory and Learning Analytics',\n",
       " 'day': 'March 2, 2021',\n",
       " 'people': 'UNGGI LEE',\n",
       " 'link': 'https://dndrl.notion.site/1-Theory-and-Learning-Analytics-2f08bb791bc24e61b1167622774ebd8a',\n",
       " 'content': '학습분석을 활용하기 위해서는 우리는 알고리즘, 교수자, 학생, 정책가, 연구자 간 균형을 맞출 필요가 있다. 빅데이터 시대에 이론의 중요성은 줄어들지 않는다. 빅데이터를 통해 결과를 해석하고 활용하기 위해서는 이론은 중요하다. 학습 분야도 다른분야에서 시작된 데이터 집약적(data-intensive) 방식으로 변화하고 있다. 이를 위해 우리는 이론과 분석의 관계에서 \"from clicks to constructs\"라는 원칙을 이해할 필요가 있다. 학습 분석은 이미 알고리즘을 일상적으로 사용하는 사회의 변화를 반영한다. 따라서 이론과 학습 분석의 관계를 중심으로 하는 프레임은 일반적으로 \"교육 이론\"으로 간주되는 것을 고려할 수 없을 정도로 확장되어야 하며, 사회 기술 인프라가 사회에서 어떻게 계산 지능을 제공하는지에 대한 중요한 담론에 참여해야 한다. 학습분석에서 고려해야 하는 것 사람들이 감시 당한다는 것을 인지할 때 행동이 변화할 수 있기에, 학습 분석 연구자들은 \"학습\"이라는 렌즈가 특정 결과를 과장하거나 왜곡할 수 있다는 점을 인지해야 한다. 학습분석을 통해, 교사와 학생들은 그동안 연구자들만이 확인할 수 있었던 교육과 학습 상황을 직접 확인할 수 있게 될 것이다. 학습분석이 가져올 새로운 윤리적 딜레마를 고려할 필요가 있다. 학습분석 분야는 인식론적 가정(epistemological assumptions)과 교육학적 실천(pedagogical practices)에 의해 평가 체제(assessment regimes)로 간주되어 왔다. 그러나 학습 분석은 특정 학습자들을 길러내기 위해 설계된 교육적 관점(particular educaitonal worldview)이라 볼 수 있다. 1. Theory into pratice 삼각형의 사용은 각 요소들의 긴장을 강조한다.  평가는 \"지식\"이 무엇인지 이해하는 데 있어 원동력이 될 수 있다.  우리가 평가하는 사람과 방법에 대한 교육학에 대한 가정은 때때로 긴장 상태에 있으며, 종합 평가에 대한 욕구가 교육학적으로 동기부여된 형태적 피드백을 무시한다.  지식의 본질에 대한 인식론적 견해와 평가 또는 교육학적 관행 사이의 정렬을 도출하는 것은 어려운 일이다. 세 가지 사이의 관계는 암시될 수 있지만, 수반되지는 않는다. *평가 도구의 새로운 형태로서 학습 분석은 현재 교육 실천을 지원하거나 그들과 경쟁하거나 새롭게 교육을 정의할 가능성을 가지고 있다. 2. EPA Provocations 학습 분석에 대해 이해하기 위해서는 각 요소를 분해해서 살펴볼 필요가 있다. 특히, EPA의 세 가지 요소를 명확하게 하기 위해서는 다양한 이론적 질문을 통해 이를 검증할 필요가 있다. 1) Epistemology - What Are We Measuring? 이 질문에 답하기 위해서는 측정의 개념적 이유와 실제적 이유 간의 연결관계를 고려할 필요가 있다. 즉, 학습 설계(learning design), 우리가 원하는 학생들이 배워야 할 기술과 지식(facts), 그리고 학생들이 \"Come to know\"하는 것에 대해 고려하여야 한다.  이것은 인식론의 질문으로, 구성의 본성(nature of the constructs), 왜 그들이 지식을 중요시하는지 이 지식은 더 넓게 제안된 종류일 수도 있고, 스킬과 특성일 수도 있으며, 특정한 방식의 행동일 수도 있다.  즉, 지식에 대한 다양한 관점들이 존재하고, 이것들이 모두 학습분석에서 측정의 대상이 될 수 있다. 2) Epistemology - How Are We Measuring? 이 질문은 우리의 연구와 평가 방법을 인식론적으로 떠받치는 것에 대한 것이다. 다양한 문헌에서 접근 시 주관성과 통찰을 주는 방법론의 능력에 대해 집중한다.  분석 방법은 특정 인식론을 함축하고 있다.  외적 지식의 세계에 이야기하는 접근법 3) Pedagogy - Why is this Knowledge Important to Us? 학습 맥락에서 분석 접근법 개발은 지식이 집중할 것이나 집중하지 않을 것에 대한 결정을 만드는 것을 포함한다. 단지 쉽게 측정되는 것보다 우리가 가치를 두는 것을 측정하는 것  즉, 사회에서 중요한 지식의 종류와 지식 기반 커리큘럼의 역할 등에 대한 토론과 관련이 있음 이 질문은 왜 이러한 분석이 교육자들과 학습자들에게 중요한지를 질문하는 것 4) Pedagogy - Who is the Assessment/Analytic For? 교사, 학생, 부모, 관리자 등 다양한 주체들 중 어디에 초점을 맞춰야 할지 고려해야 한다. 특정 그룹에 대한 분석 방법의 개발에서 윤리적인 문제는 먼저, 기술과 참여의 특정한 형태를 요구하는 분석은 새로운 차별을 만들 수 있다. 둘째로, 학생들의 명시적인 동의없이 학생들의 데이터를 사용하는 것에 대한 문제가 있다.  거시적, 중간, 미시적 수준 등 5) Assessment - Where Does the Assessment Happen? 다양한 평가의 맥락 속에서 우리는 평가가 만약 의미있다면, 가치를 더할 수 있는 확장된 의미있는 컴퓨터 활용 분석이 설계될 수 있는지에 대해 질문하여야 한다. 그리고 우리는 특정 응답에 대하여 평가가 편향된다는 것을 고려할 필요가 있다. 6) Assessment - When Does the Assessment, and Feedback, Occur? 형성 평가와 총괄평가로 구분해볼 수 있다. 실시간 피드백은 총괄평가가 될 수 있으며 진단은 현재 무엇이 잘못되고 있는지에 대한 통찰을 제공할 수 있다. 분석장비가 총괄 평가의 관점을 가지고 있는지, 형성 평가의 관심을 가지고 있는지가 오히려 중점이 될 것이다.  <논의할 문제>  글을 읽어보면서, 학습분석을 적용하기 위해서는 기술적인 이해를 하기 이전에 인식론에서의 지식의 정의, 교육학적 관점, 평가로서의 학습분석 등을 포괄하는 이론적 이해가 기반이 될 필요가 있다는 사실을 알게 되었습니다.  다만, 실천가로서 당면한 문제를 해결하기 위해서는 어느 하나의 관점을 선택하지 않을 수 없습니다.    이를 위해서는 자신만의 (이론과 연구 결과에 기반한) 인식론과 교육학, 그리고 학습분석에 대한 명확한 정의가 필요하다는 생각이 듭니다.  여러분들의 인식론, 교육학, 그리고 학습분석에 대한 생각을 들어보고 싶습니다. <재용, 지훈, 웅기> 재용: 행동주의와 구성주의의 차이 지훈: 영국 코로나로 인해 5G 통신망 공격  교육의 필요성 교육은 학습을 관리하는 사회적인 양식, 학습분석에서 매력적으로 느꼈다는 것은 지식을 모델링하는 관점, 뤼이드 재용: 산타토익에서 이루어지는 방식이 객관주의적인 인식론에 근거한 것인지 산타토익은 토익 시험 교육에서의 진리를 찾은 것인가, 잠정적으로 최선의 해답을 낸 것이냐? input 데이터를 output으로 만드는 과정은 매우 객관적임 하지만 input이 달라지면 모델이 달라지고, 결과에 대한 해석은 사람의 몫이다 그렇다면 산타토익은 토익을 잘 가르치는 방법을 사회적으로 구성하는 것이 아닐까? 지훈: 유효기간이 있는 한에서 객관주의적인 인식론 <주홍, 준오, 서연> 주홍: 학교가자닷컴을 관리하면서 어떤 기술을 넣을까 고민했던 경험, 어플리케이션을 개발했던 경험, 이웅기 선생님 프로젝트에서 기술자 입장에서 어떤 요소를 넣을지 고민했던 경험  교육자의 입장에서 고민할 필요가 있겠다는 생각을 했음. 교육과 기술 간의 적극적인 소통이 요구됨. 준오: 물리학은 본질적으로 상호작용과 그 사이의 법칙을 다루고 있음. 교육 현장에서는 학생, 교수자, 매체 등이 상호작용함. 이러한 작용을 기술하기 위해서는 표상을 측정해서 상호작용 사이의 법칙을 발견하고 싶은 것이 근본적인 목적이라고 생각함  한순간에 진행되는 것이 아니라 학습과정 전체에서 학습데이터 수집이 가능한 online으로 진행되어야 함. 서연: 인공지능 데이터 쪽 전문가분들과 소통하며 인공지능 등의 학습 분석 자체가 교육 현장의 다양한 요소 간 상호작용을 설명해줄 수는 있지만, 그 결과를 분석해서 활용하는 주체는 교사임.     eg) 교육자 입장에서의 추천 알고리즘의 유효성?  학습 분석 자체가 상호작용을 설명하는 도구로서는 의미있지만, 그에 대한 유효성과 신뢰성은 고민해보아야 함. <재은,은서> 은서: 20년도 이전에는 평가관점에서는 수행과정을 관찰하여 평가하는 과정주의 평가관점과 결과주의 평가관점이 대비되는 것이 교육현장의 메인이슈였는데 코로나로 인하여 공교육에 온라인학습이 행해지며 개인별 학습데이터가 체계적으로 집계되어 평가도구의 새로운 형태로서 \\'학습분석\\'이 존재감을 드러내었다고 생각한다. 학습분석을 통해 개인의 학습상태에 대한 최적화된 피드백을 제공하고, 교수자는 이전보다 보다 유의미한 수업설계를 할 수있게 되었다.  다만 현장교사에게 학습분석의 개념이 낯설고, 그에 대한 교육이 필요함 재은: 지식이라고 함은 knowledge construction, 다학문간 융합이 교육, 학습된 지식이라고 생각합니다. \"학습 분석에서 데이터를 취합하거나 데이터를 유의미하게 분석하는건 교육 전문가인 교사들이다\"'}"
      ]
     },
     "execution_count": 4,
     "metadata": {},
     "output_type": "execute_result"
    }
   ],
   "source": [
    "ClEANED[0]['people'] = 'UNGGI LEE'\n",
    "ClEANED[0]"
   ]
  },
  {
   "cell_type": "code",
   "execution_count": null,
   "metadata": {},
   "outputs": [],
   "source": []
  },
  {
   "cell_type": "code",
   "execution_count": null,
   "metadata": {},
   "outputs": [],
   "source": []
  },
  {
   "cell_type": "code",
   "execution_count": 5,
   "metadata": {},
   "outputs": [
    {
     "data": {
      "text/plain": [
       "{'UNGGI LEE': 6,\n",
       " 'Brida Choi': 1,\n",
       " '\\xad송유경': 2,\n",
       " 'Juno Hwang': 3,\n",
       " 'H\\nHaewon Jung': 2,\n",
       " '성지훈 \\xad': 4,\n",
       " '이재용 \\xad': 3,\n",
       " 'Juhong Eom': 1,\n",
       " 'H\\nHae Rin Lee': 1,\n",
       " '원지영(교육대학원 교육학과)': 1,\n",
       " 'hyunjee Kwon': 2,\n",
       " '전영훈': 2,\n",
       " 'Y\\nYoonhee Ham': 2,\n",
       " '박\\n박용현 / 학생 / 물리교육과 \\xad\\n전영훈': 1,\n",
       " '박\\n박용현 / 학생 / 물리교육과 \\xad': 1,\n",
       " '백\\n백수진': 1,\n",
       " '임은선 \\xad': 1,\n",
       " '박새록(사범대학 교육공학과) \\xad': 1,\n",
       " '이\\n이홍규': 1}"
      ]
     },
     "execution_count": 5,
     "metadata": {},
     "output_type": "execute_result"
    }
   ],
   "source": [
    "Pres_count = {}\n",
    "for page in ClEANED:\n",
    "    if page['people'] not in Pres_count.keys(): Pres_count[page['people']] = 1\n",
    "    else: Pres_count[page['people']] += 1\n",
    "\n",
    "Pres_count"
   ]
  },
  {
   "cell_type": "markdown",
   "metadata": {},
   "source": [
    "용현쌤, 영훈쌤 공동발표가 있음"
   ]
  },
  {
   "cell_type": "code",
   "execution_count": 6,
   "metadata": {},
   "outputs": [
    {
     "data": {
      "text/plain": [
       "{'UNGGI LEE': 6,\n",
       " 'Brida Choi': 1,\n",
       " '\\xad송유경': 2,\n",
       " 'Juno Hwang': 3,\n",
       " 'H\\nHaewon Jung': 2,\n",
       " '성지훈 \\xad': 4,\n",
       " '이재용 \\xad': 3,\n",
       " 'Juhong Eom': 1,\n",
       " 'H\\nHae Rin Lee': 1,\n",
       " '원지영(교육대학원 교육학과)': 1,\n",
       " 'hyunjee Kwon': 2,\n",
       " '전영훈': 3,\n",
       " 'Y\\nYoonhee Ham': 2,\n",
       " '박\\n박용현 / 학생 / 물리교육과 \\xad': 2,\n",
       " '백\\n백수진': 1,\n",
       " '임은선 \\xad': 1,\n",
       " '박새록(사범대학 교육공학과) \\xad': 1,\n",
       " '이\\n이홍규': 1}"
      ]
     },
     "execution_count": 6,
     "metadata": {},
     "output_type": "execute_result"
    }
   ],
   "source": [
    "Pres_count['전영훈'] += 1\n",
    "Pres_count['박\\n박용현 / 학생 / 물리교육과 \\xad'] += 1\n",
    "del Pres_count['박\\n박용현 / 학생 / 물리교육과 \\xad\\n전영훈']\n",
    "\n",
    "Pres_count"
   ]
  },
  {
   "cell_type": "code",
   "execution_count": 7,
   "metadata": {},
   "outputs": [
    {
     "data": {
      "application/vnd.plotly.v1+json": {
       "config": {
        "plotlyServerURL": "https://plot.ly"
       },
       "data": [
        {
         "alignmentgroup": "True",
         "hovertemplate": "people=%{x}<br>presentation_count=%{y}<extra></extra>",
         "legendgroup": "",
         "marker": {
          "color": "#636efa",
          "pattern": {
           "shape": ""
          }
         },
         "name": "",
         "offsetgroup": "",
         "orientation": "v",
         "showlegend": false,
         "textposition": "auto",
         "type": "bar",
         "x": [
          "Brida Choi",
          "Juhong Eom",
          "H\nHae Rin Lee",
          "원지영(교육대학원 교육학과)",
          "백\n백수진",
          "임은선 ­",
          "박새록(사범대학 교육공학과) ­",
          "이\n이홍규",
          "­송유경",
          "H\nHaewon Jung",
          "hyunjee Kwon",
          "Y\nYoonhee Ham",
          "박\n박용현 / 학생 / 물리교육과 ­",
          "Juno Hwang",
          "이재용 ­",
          "전영훈",
          "성지훈 ­",
          "UNGGI LEE"
         ],
         "xaxis": "x",
         "y": [
          1,
          1,
          1,
          1,
          1,
          1,
          1,
          1,
          2,
          2,
          2,
          2,
          2,
          3,
          3,
          3,
          4,
          6
         ],
         "yaxis": "y"
        }
       ],
       "layout": {
        "barmode": "relative",
        "legend": {
         "tracegroupgap": 0
        },
        "template": {
         "data": {
          "bar": [
           {
            "error_x": {
             "color": "#2a3f5f"
            },
            "error_y": {
             "color": "#2a3f5f"
            },
            "marker": {
             "line": {
              "color": "#E5ECF6",
              "width": 0.5
             },
             "pattern": {
              "fillmode": "overlay",
              "size": 10,
              "solidity": 0.2
             }
            },
            "type": "bar"
           }
          ],
          "barpolar": [
           {
            "marker": {
             "line": {
              "color": "#E5ECF6",
              "width": 0.5
             },
             "pattern": {
              "fillmode": "overlay",
              "size": 10,
              "solidity": 0.2
             }
            },
            "type": "barpolar"
           }
          ],
          "carpet": [
           {
            "aaxis": {
             "endlinecolor": "#2a3f5f",
             "gridcolor": "white",
             "linecolor": "white",
             "minorgridcolor": "white",
             "startlinecolor": "#2a3f5f"
            },
            "baxis": {
             "endlinecolor": "#2a3f5f",
             "gridcolor": "white",
             "linecolor": "white",
             "minorgridcolor": "white",
             "startlinecolor": "#2a3f5f"
            },
            "type": "carpet"
           }
          ],
          "choropleth": [
           {
            "colorbar": {
             "outlinewidth": 0,
             "ticks": ""
            },
            "type": "choropleth"
           }
          ],
          "contour": [
           {
            "colorbar": {
             "outlinewidth": 0,
             "ticks": ""
            },
            "colorscale": [
             [
              0,
              "#0d0887"
             ],
             [
              0.1111111111111111,
              "#46039f"
             ],
             [
              0.2222222222222222,
              "#7201a8"
             ],
             [
              0.3333333333333333,
              "#9c179e"
             ],
             [
              0.4444444444444444,
              "#bd3786"
             ],
             [
              0.5555555555555556,
              "#d8576b"
             ],
             [
              0.6666666666666666,
              "#ed7953"
             ],
             [
              0.7777777777777778,
              "#fb9f3a"
             ],
             [
              0.8888888888888888,
              "#fdca26"
             ],
             [
              1,
              "#f0f921"
             ]
            ],
            "type": "contour"
           }
          ],
          "contourcarpet": [
           {
            "colorbar": {
             "outlinewidth": 0,
             "ticks": ""
            },
            "type": "contourcarpet"
           }
          ],
          "heatmap": [
           {
            "colorbar": {
             "outlinewidth": 0,
             "ticks": ""
            },
            "colorscale": [
             [
              0,
              "#0d0887"
             ],
             [
              0.1111111111111111,
              "#46039f"
             ],
             [
              0.2222222222222222,
              "#7201a8"
             ],
             [
              0.3333333333333333,
              "#9c179e"
             ],
             [
              0.4444444444444444,
              "#bd3786"
             ],
             [
              0.5555555555555556,
              "#d8576b"
             ],
             [
              0.6666666666666666,
              "#ed7953"
             ],
             [
              0.7777777777777778,
              "#fb9f3a"
             ],
             [
              0.8888888888888888,
              "#fdca26"
             ],
             [
              1,
              "#f0f921"
             ]
            ],
            "type": "heatmap"
           }
          ],
          "heatmapgl": [
           {
            "colorbar": {
             "outlinewidth": 0,
             "ticks": ""
            },
            "colorscale": [
             [
              0,
              "#0d0887"
             ],
             [
              0.1111111111111111,
              "#46039f"
             ],
             [
              0.2222222222222222,
              "#7201a8"
             ],
             [
              0.3333333333333333,
              "#9c179e"
             ],
             [
              0.4444444444444444,
              "#bd3786"
             ],
             [
              0.5555555555555556,
              "#d8576b"
             ],
             [
              0.6666666666666666,
              "#ed7953"
             ],
             [
              0.7777777777777778,
              "#fb9f3a"
             ],
             [
              0.8888888888888888,
              "#fdca26"
             ],
             [
              1,
              "#f0f921"
             ]
            ],
            "type": "heatmapgl"
           }
          ],
          "histogram": [
           {
            "marker": {
             "pattern": {
              "fillmode": "overlay",
              "size": 10,
              "solidity": 0.2
             }
            },
            "type": "histogram"
           }
          ],
          "histogram2d": [
           {
            "colorbar": {
             "outlinewidth": 0,
             "ticks": ""
            },
            "colorscale": [
             [
              0,
              "#0d0887"
             ],
             [
              0.1111111111111111,
              "#46039f"
             ],
             [
              0.2222222222222222,
              "#7201a8"
             ],
             [
              0.3333333333333333,
              "#9c179e"
             ],
             [
              0.4444444444444444,
              "#bd3786"
             ],
             [
              0.5555555555555556,
              "#d8576b"
             ],
             [
              0.6666666666666666,
              "#ed7953"
             ],
             [
              0.7777777777777778,
              "#fb9f3a"
             ],
             [
              0.8888888888888888,
              "#fdca26"
             ],
             [
              1,
              "#f0f921"
             ]
            ],
            "type": "histogram2d"
           }
          ],
          "histogram2dcontour": [
           {
            "colorbar": {
             "outlinewidth": 0,
             "ticks": ""
            },
            "colorscale": [
             [
              0,
              "#0d0887"
             ],
             [
              0.1111111111111111,
              "#46039f"
             ],
             [
              0.2222222222222222,
              "#7201a8"
             ],
             [
              0.3333333333333333,
              "#9c179e"
             ],
             [
              0.4444444444444444,
              "#bd3786"
             ],
             [
              0.5555555555555556,
              "#d8576b"
             ],
             [
              0.6666666666666666,
              "#ed7953"
             ],
             [
              0.7777777777777778,
              "#fb9f3a"
             ],
             [
              0.8888888888888888,
              "#fdca26"
             ],
             [
              1,
              "#f0f921"
             ]
            ],
            "type": "histogram2dcontour"
           }
          ],
          "mesh3d": [
           {
            "colorbar": {
             "outlinewidth": 0,
             "ticks": ""
            },
            "type": "mesh3d"
           }
          ],
          "parcoords": [
           {
            "line": {
             "colorbar": {
              "outlinewidth": 0,
              "ticks": ""
             }
            },
            "type": "parcoords"
           }
          ],
          "pie": [
           {
            "automargin": true,
            "type": "pie"
           }
          ],
          "scatter": [
           {
            "marker": {
             "colorbar": {
              "outlinewidth": 0,
              "ticks": ""
             }
            },
            "type": "scatter"
           }
          ],
          "scatter3d": [
           {
            "line": {
             "colorbar": {
              "outlinewidth": 0,
              "ticks": ""
             }
            },
            "marker": {
             "colorbar": {
              "outlinewidth": 0,
              "ticks": ""
             }
            },
            "type": "scatter3d"
           }
          ],
          "scattercarpet": [
           {
            "marker": {
             "colorbar": {
              "outlinewidth": 0,
              "ticks": ""
             }
            },
            "type": "scattercarpet"
           }
          ],
          "scattergeo": [
           {
            "marker": {
             "colorbar": {
              "outlinewidth": 0,
              "ticks": ""
             }
            },
            "type": "scattergeo"
           }
          ],
          "scattergl": [
           {
            "marker": {
             "colorbar": {
              "outlinewidth": 0,
              "ticks": ""
             }
            },
            "type": "scattergl"
           }
          ],
          "scattermapbox": [
           {
            "marker": {
             "colorbar": {
              "outlinewidth": 0,
              "ticks": ""
             }
            },
            "type": "scattermapbox"
           }
          ],
          "scatterpolar": [
           {
            "marker": {
             "colorbar": {
              "outlinewidth": 0,
              "ticks": ""
             }
            },
            "type": "scatterpolar"
           }
          ],
          "scatterpolargl": [
           {
            "marker": {
             "colorbar": {
              "outlinewidth": 0,
              "ticks": ""
             }
            },
            "type": "scatterpolargl"
           }
          ],
          "scatterternary": [
           {
            "marker": {
             "colorbar": {
              "outlinewidth": 0,
              "ticks": ""
             }
            },
            "type": "scatterternary"
           }
          ],
          "surface": [
           {
            "colorbar": {
             "outlinewidth": 0,
             "ticks": ""
            },
            "colorscale": [
             [
              0,
              "#0d0887"
             ],
             [
              0.1111111111111111,
              "#46039f"
             ],
             [
              0.2222222222222222,
              "#7201a8"
             ],
             [
              0.3333333333333333,
              "#9c179e"
             ],
             [
              0.4444444444444444,
              "#bd3786"
             ],
             [
              0.5555555555555556,
              "#d8576b"
             ],
             [
              0.6666666666666666,
              "#ed7953"
             ],
             [
              0.7777777777777778,
              "#fb9f3a"
             ],
             [
              0.8888888888888888,
              "#fdca26"
             ],
             [
              1,
              "#f0f921"
             ]
            ],
            "type": "surface"
           }
          ],
          "table": [
           {
            "cells": {
             "fill": {
              "color": "#EBF0F8"
             },
             "line": {
              "color": "white"
             }
            },
            "header": {
             "fill": {
              "color": "#C8D4E3"
             },
             "line": {
              "color": "white"
             }
            },
            "type": "table"
           }
          ]
         },
         "layout": {
          "annotationdefaults": {
           "arrowcolor": "#2a3f5f",
           "arrowhead": 0,
           "arrowwidth": 1
          },
          "autotypenumbers": "strict",
          "coloraxis": {
           "colorbar": {
            "outlinewidth": 0,
            "ticks": ""
           }
          },
          "colorscale": {
           "diverging": [
            [
             0,
             "#8e0152"
            ],
            [
             0.1,
             "#c51b7d"
            ],
            [
             0.2,
             "#de77ae"
            ],
            [
             0.3,
             "#f1b6da"
            ],
            [
             0.4,
             "#fde0ef"
            ],
            [
             0.5,
             "#f7f7f7"
            ],
            [
             0.6,
             "#e6f5d0"
            ],
            [
             0.7,
             "#b8e186"
            ],
            [
             0.8,
             "#7fbc41"
            ],
            [
             0.9,
             "#4d9221"
            ],
            [
             1,
             "#276419"
            ]
           ],
           "sequential": [
            [
             0,
             "#0d0887"
            ],
            [
             0.1111111111111111,
             "#46039f"
            ],
            [
             0.2222222222222222,
             "#7201a8"
            ],
            [
             0.3333333333333333,
             "#9c179e"
            ],
            [
             0.4444444444444444,
             "#bd3786"
            ],
            [
             0.5555555555555556,
             "#d8576b"
            ],
            [
             0.6666666666666666,
             "#ed7953"
            ],
            [
             0.7777777777777778,
             "#fb9f3a"
            ],
            [
             0.8888888888888888,
             "#fdca26"
            ],
            [
             1,
             "#f0f921"
            ]
           ],
           "sequentialminus": [
            [
             0,
             "#0d0887"
            ],
            [
             0.1111111111111111,
             "#46039f"
            ],
            [
             0.2222222222222222,
             "#7201a8"
            ],
            [
             0.3333333333333333,
             "#9c179e"
            ],
            [
             0.4444444444444444,
             "#bd3786"
            ],
            [
             0.5555555555555556,
             "#d8576b"
            ],
            [
             0.6666666666666666,
             "#ed7953"
            ],
            [
             0.7777777777777778,
             "#fb9f3a"
            ],
            [
             0.8888888888888888,
             "#fdca26"
            ],
            [
             1,
             "#f0f921"
            ]
           ]
          },
          "colorway": [
           "#636efa",
           "#EF553B",
           "#00cc96",
           "#ab63fa",
           "#FFA15A",
           "#19d3f3",
           "#FF6692",
           "#B6E880",
           "#FF97FF",
           "#FECB52"
          ],
          "font": {
           "color": "#2a3f5f"
          },
          "geo": {
           "bgcolor": "white",
           "lakecolor": "white",
           "landcolor": "#E5ECF6",
           "showlakes": true,
           "showland": true,
           "subunitcolor": "white"
          },
          "hoverlabel": {
           "align": "left"
          },
          "hovermode": "closest",
          "mapbox": {
           "style": "light"
          },
          "paper_bgcolor": "white",
          "plot_bgcolor": "#E5ECF6",
          "polar": {
           "angularaxis": {
            "gridcolor": "white",
            "linecolor": "white",
            "ticks": ""
           },
           "bgcolor": "#E5ECF6",
           "radialaxis": {
            "gridcolor": "white",
            "linecolor": "white",
            "ticks": ""
           }
          },
          "scene": {
           "xaxis": {
            "backgroundcolor": "#E5ECF6",
            "gridcolor": "white",
            "gridwidth": 2,
            "linecolor": "white",
            "showbackground": true,
            "ticks": "",
            "zerolinecolor": "white"
           },
           "yaxis": {
            "backgroundcolor": "#E5ECF6",
            "gridcolor": "white",
            "gridwidth": 2,
            "linecolor": "white",
            "showbackground": true,
            "ticks": "",
            "zerolinecolor": "white"
           },
           "zaxis": {
            "backgroundcolor": "#E5ECF6",
            "gridcolor": "white",
            "gridwidth": 2,
            "linecolor": "white",
            "showbackground": true,
            "ticks": "",
            "zerolinecolor": "white"
           }
          },
          "shapedefaults": {
           "line": {
            "color": "#2a3f5f"
           }
          },
          "ternary": {
           "aaxis": {
            "gridcolor": "white",
            "linecolor": "white",
            "ticks": ""
           },
           "baxis": {
            "gridcolor": "white",
            "linecolor": "white",
            "ticks": ""
           },
           "bgcolor": "#E5ECF6",
           "caxis": {
            "gridcolor": "white",
            "linecolor": "white",
            "ticks": ""
           }
          },
          "title": {
           "x": 0.05
          },
          "xaxis": {
           "automargin": true,
           "gridcolor": "white",
           "linecolor": "white",
           "ticks": "",
           "title": {
            "standoff": 15
           },
           "zerolinecolor": "white",
           "zerolinewidth": 2
          },
          "yaxis": {
           "automargin": true,
           "gridcolor": "white",
           "linecolor": "white",
           "ticks": "",
           "title": {
            "standoff": 15
           },
           "zerolinecolor": "white",
           "zerolinewidth": 2
          }
         }
        },
        "title": {
         "text": "2021년 STELA 발제자"
        },
        "xaxis": {
         "anchor": "y",
         "domain": [
          0,
          1
         ],
         "title": {
          "text": "people"
         }
        },
        "yaxis": {
         "anchor": "x",
         "domain": [
          0,
          1
         ],
         "title": {
          "text": "presentation_count"
         }
        }
       }
      }
     },
     "metadata": {},
     "output_type": "display_data"
    }
   ],
   "source": [
    "import plotly.express as px\n",
    "\n",
    "_ = dict(sorted(Pres_count.items(), key=lambda item: item[1]))\n",
    "for_fig = {'people': [], 'presentation_count': []}\n",
    "for key in _.keys():\n",
    "    for_fig['people'].append(key) ; for_fig['presentation_count'].append(Pres_count[key])\n",
    "\n",
    "fig = px.bar(for_fig, x='people', y='presentation_count', title='2021년 STELA 발제자')\n",
    "fig.show()"
   ]
  },
  {
   "cell_type": "code",
   "execution_count": null,
   "metadata": {},
   "outputs": [],
   "source": []
  },
  {
   "cell_type": "code",
   "execution_count": null,
   "metadata": {},
   "outputs": [],
   "source": []
  },
  {
   "cell_type": "code",
   "execution_count": null,
   "metadata": {},
   "outputs": [],
   "source": []
  },
  {
   "cell_type": "markdown",
   "metadata": {},
   "source": [
    "# Word Embedding, LDA\n",
    "\n",
    "eda"
   ]
  },
  {
   "cell_type": "code",
   "execution_count": 8,
   "metadata": {},
   "outputs": [
    {
     "data": {
      "text/plain": [
       "\"The 'trinity' of methodological approaches 세 가지의 방법론적 접근방식을 제시함 각 접근방식이 중첩되는 영역: 새로운 통합 또는 시너지를 창출할 수 있는 영역 Network-Analytic Methods SNA(Social Network Analysis)를 포함함 그래프 구조로 표현된 네트워크에서 행위자를 노드로 보는 것이 특징 각 노드 간의 연결 유형(affiliation, friendship, professional, behavioural interaction, or information sharing)은 네트워크의 특성을 정의함 중심성 측정(centrality measures)으로 각 행위자의 중요성을 정량화하고, 네트워크 내에서 평균값보다 수치가 높은 행위자를 중심으로 행위자 클러스트를 탐지함 (하위 네트워크 파악) 한계: 시간의존적 효과(time-dependent effects: 시간에 따른 데이터를 집계하지만, 해당 시간 내에 이루어지는 상호작용 패턴과 같은 역학을 나타내지는 않음)  이를 해결하기 위하여 SNA는 네트워크의 시계열 분석으로 확장되며 동적인 접근 방식을 취하고자 함 유의: 분석의 기본 요소로 '행위자'와 '사회적 관계'만을 독점적으로 다루지는 않음. SNA에서는 행위자(actors)뿐만 아니라 매개체(actors) 간의 초당적인(bipartite)한 관계를 통해 네트워크를 도출할 수 있음. (행위자-행위자, 행위자-매개체, 매개체-행위자-매개체, 행위자-매개체-행위자 등) Process-Oriented Interaction Analysis CSCL(Computer-Supported Collaborative Learning)에서 발생한 시스템 로그 파일에 기초해 학습자 개인 또는 상호 간의 활동을 계산하여 분석하는 기법을 추구함. 즉, 순차적인 패턴 인식 기법을 추구함 순차적인 패턴 인식 기법에 지능적인 계산 기술을 적용한 초기 사례: Mhlenbrock & Hoppe(1999) Content Analysis Using Text-Mining Methods CSCL 로그의 스크립트 말뭉치를 사용하여 자동 텍스트 분류의 유용성을 입증한 사례: Ros et al. (2008) 텍스트에서 주어진 단어의 순서를 고려하지 않는 방법도 있지만, 단어의 위치를 고려하는 방법도 있음: NTA(Network Text Analysis) NTA: 주어진 텍스트에서 개념 네트워크를 추출한다는 점에서, 콘텐츠 분석과 네트워크 표현을 연결하는 텍스트 마이닝 방식임. 이 방식을 적용할 경우, 다중 모드 네트워크를 형성할 수 있음. 즉, 개념-개념 관계는 위치-개인, 개인-도메인, 개인-개념과 같은 특정 범주 간의 유형으로 표현되며, 이러한 표현은 '중심성 측정' 또는 '네트워크 기반 클러스터링 기법'으로 하위 네트워크를 도출함 예시(Figure 2.1.)에 대한 설명 Example 1) Dynamic Resource Access Patterns in Online Courses 분석의 문제 상황 문제를 해결하기 위한 정교한 분석 방법 분석 결과 Example 2) Analyzing the Evolution of Ideas in Knowledge-building Communities 분석 대상 분석 방법 Discussions and Outlook  본 자료는 학습분석에 있어서 주로 계산적인 관점을 취했다고 밝히고 있습니다. 그렇다면 교육학적인 관점에서 본 자료의 관점을 바라보았을 때, 우리가 놓칠 수 있는 value 값들이 있을까요? <은서, 유경, 재용> 수치로 볼 수 없는 부분이 있지만 뭔지 명확하게 설명하기가 어렵다 ex) 네트워크 분석 엑셀파일에서 친하다고 생각하는 학생의 순위를 매기고 주제에 따라서 순위를 계속 매긴다 모든 학생의 결과가 모이면 학생들 사이의 관계가 드러난다 한번 해보고 안 했다. 이 시간을 들여서 분석하는 게 유의미한가? 교사가 이미 학생들을 보고 있는 상황에서는 유의미하지 않을 수 있지만 상담자료로 활용할 수 있다. 직접 관찰이 불가능한 상황에서도 유용하다. 이걸 가지고 학생들의 네트워크를 파악하는 게 정말 유효한 건가? 결측치도 임의로 평균으로 메꾸는데 그게 정당한가? 숫자로 표현되지 않는 요소가 분명히 있는데... 측정하기 어려운 요소 - 동기 같은 정의적 요소 숫자가 정말 어떤 구인을 대표하는가? 학습시간의 의미? 유치원생들에게 조끼를 입히고 다른 애들이랑 얼마나 가까이서 상호작용했는지 그림으로 그리는 연구 학생들은 말이 서툴기 때문에 텍스트로 하는 것보다 나을 수도 있다 결론) 학습분석의 결과는 그 자체로 현실을 100% 설명하지는 않지만, 인간이 사고하고 판단하는 근거로 활용할 수 있을 것이다. <주홍, 지훈> 맥락, 감정(동기), 태도 담기어려움 기록되지 않은, 기록되지 못한 행동들 - 노트 필기, 다운로드 여부 등 인용 네트워크에 워드 임베드를 추가하면 보완할 수 있을까?  <웅기 준오 해린> 웅기 : 방법론은 있지만 기술의 목적성이 불명확함. 연구를 위한것인가 혹은 활용을 위한 것인가.  준오 : 네트워크 분석에서 노드의 중심성을 많이 고려하는데, 그래프 전체의 통계적 특성도 중요하게 보면 좋을것 같다. 또한 그래프는 연결성을 단순하게 표현하는 도구이기 때문에 학습분석을 위해 고도화되어야 함. 해린 : 수행평가에 활용할 가능성이 보인다. (적극도 평가 성취기준 등) 그러나 성적 평가에 민감해진다면 부정적인 영향을 끼칠 수도. <재은, 혜원, 서연> 재은: 마이크로소프트의 사례. 메세지를 몇 번 올렸는지 등은 알 수 있음. 그 안에 있는 데이터 포인트들이 과연 다일까? 그 부분만 확인하면 학습성과로 이루어지는 것일까? 서연: 학습성과 말고 학습결손을 측정하는 데이터포인트는? 네트워크, 프로세스, 데이터마이닝을 활용했을 때도 설명할 수 없는 값들이 있지 않을까? 데이터포인트가 무엇인가요?(재용) 데이터에서 나온 지표. 해석의 대상. 단순한 지표를 결합하여 복합지표를 만들 수 있다 (ex) 팀즈 인사이트 사진\""
      ]
     },
     "execution_count": 8,
     "metadata": {},
     "output_type": "execute_result"
    }
   ],
   "source": [
    "ClEANED[1]['content']"
   ]
  },
  {
   "cell_type": "markdown",
   "metadata": {},
   "source": [
    "- 영어, 한국어 글자 수 세서 비교해도 재밌을 듯"
   ]
  },
  {
   "cell_type": "code",
   "execution_count": 9,
   "metadata": {},
   "outputs": [
    {
     "data": {
      "text/plain": [
       "'Terminology psychological construct Construct (psychology), also hypothetical construct or psychological construct, is a tool used to facilitate understanding of human behavior. A psychological construct is a label for a domain of behaviors. Behavioral sciences use constructs such as conscientiousness, intelligence, political power, self-esteem, and group culture. For example, if a student sees another sitting in a classroom before an examination biting her nails and fidgeting, the interpretation might be that she is experiencing anxiety.[1] In that case, anxiety is a construct that underlies the behavior that is observed. A construct is a hypothesized cause for a certain behavior. A construct derives its name from the fact that it is a mental construction, derived from scientific process: observing natural phenomena, inferring the common features of those observations, and constructing a label for the commonality or the underlying cause. A construct derives its scientific value from the shared meaning it represents for different people. If a construct is clearly articulated and the phenomena it encompasses are clearly defined, it becomes a useful conceptual tool that facilitates communication. Once defined, constructs become objects of conceptual scrutiny in their own right. Constructs summarize behavioral domains. Constructs are the building blocks of scientific theories. True Score Theory Factor analysis 요인 분석은 인자 (factor) 또는 요인이라고 불리는 잠재적으로 적은 숫자의 관찰되지 않은 변수(variable)들로, 관찰된 서로 상관인 변수 (variable)들 사이에서의 분산 (variance)을 설명하기 위한 통계학적 방법이다. 예를 들어, 6개의 관측된 변인 (variable)들의 분산 (variation)은 2개의 관측되지 않은 근본적인 변인을 반영할 수도 있다. 인자 분석은 관측되지 않은 잠재변수에 대하여 이런 연결된 분산(joint variation)을 찾는다. 관측된 변수들은 \"오차\" (error)를 추가하여, 가능한 인자들의 선형 결합으로 모형화된다. 요인 분석은 독립된 내재 변인을 찾는 것을 목적으로 한다. Abstract 심리학적 측정(psychological measurement)는 마음의 상태(states of mind)에 대해서 보장해주는 절차이다. 심리학적 측정은 \\'defining a construct\\', \\'specifiying a measurement model\\', \\'developing a reliable instrument\\', \\'analyzing and accounting for various sources of error\\', \\'framing a valid argument\\'로 구성되어 있다. 잠재 변수(latent variables) 측정은 개인과 그룹을 위해 중요한 결과를 찾기위한 노력(noisy endeavor)이다. 이번 장에서는 교육적, 심리학적 측정에 대한 내용을 다룰 것이다. WHAT IS MEASUREMENT? PHILOSOPHY AND BASIC IDEAS 심리학적 측정은 물리학적 측정과 대조되어지곤 한다. 심리학적 측정은 \\'defining a construct\\', \\'specifiying a measurement model\\', \\'developing a reliable instrument\\', \\'analyzing and accounting for various sources of error\\'(including operator error), \\'framing a valid argument\\'로 구성되어 있다. Constructs 심리학적 구성개념(psychological construct)이 존재하는지에 대한 의문이 있다. 물리적인 변수들과 다르게, 사람의 마음이나 traits는  간접적이고 잠재된채로 관찰되어지기 때문이다. 심리학적 구성개념(psychological construct)라는 용어는 잠재 변수(latent variable)로 바꿔서 말할 수 있으며, trait는 시간이 지남에 따라 정적인 상태의 구성요소라는 용어로 사용된다. 그러나 물리적 측정의 경우에도 간접적인 경우가 있는데, 조작주의(operationalism)에서는 길이, 무게, 밀도 등의 물리적 개념들과 그것들을 측정하는 것(operation used to measure them)이 유사하다고 이해한다. ex) 길이는 길이를 측정하는 절차의 결과로 이해됨 조작주의의 아이디어는 심리학적 구성개념에서 측정도구를 통해 구성개념을 측정하는 방식으로 사용되었다. ex) 리커트 척도, 수학 시험 등 조작주의는 최근 많은 이유로 받아들여지지 않고 있다. 이후 잠재 변수에 대한 인식론적(epistemological), 존재론적(ontological) 접근이 나타났다. 모델 기반 이해(Model-based reasoning)은 시스템의 간단한 표상(representation)을 받아들이는 것으로 이해된다. 물리학 이론은 매우 적고 이해하기 쉽지만, 심리학적 이론들은 매우 많고 협소하게 정의된다. 어떤 것에 따라 구성개념이 발명되기 때문에, 그 수에 있어서 인식론적 한계는 존재하지 않는다. 측정 도구가 존재한다는 맥락 안에서 구성개념에 대해 이야기할 수 있지만, 측정도구는 항상 어떤 것을 측정하기 위해 설계된다. 따라서, 우리는 학습분석과 관련된 부분적인 구성요소에 대해서 추론해볼 수 있다. ex) 지능(비네), 학업 태도(SAT) 등... 어떤 구성개념들은 다차원적이고 다양한 요인들을 포함하고 있다. 합치는 것의 가치와 구성개념과 관련하여 나누는 것은 논의할 문제이다. Measurement Instruments 심리학적 측정 도구들에는 전형적으로 시험(tests)와 질문지(questionnaires)가 있다. ex) 단어 시험은 피험자의 지능, 인지 능력, 정신능력을 측정하기 위해서 사용된다. ex) 질문지에 답변하는 피험자는 그들의 생각, 느낌, 행동에 대해 진실되게 답변하도록 요구받는다. 어떻게 피험자가 측정도구에 대해 반응하도록 기대하는지는 측정모델의 근본을 드러낸다.  높은 점수를 획득했다면, 높은 능력을 가진다는 가정 측정 단위(measurement scale)이라는 용어는 도구(instrument)로 대체될 수 있다. 단위는 시험과 질문지가 점수화된다는 의미를 내포하고 있다. 각각의 점수를 합치는 것은 도구를 점수화하는 하나의 절차이다. 이외에 Weighted sum scores와 item response theory(IRT)가 대안으로 사용될 수 있다. 시험과 질문지를 사용하는 것은 효율성과 표준화에 대한 것이다. 학습분석에서는 효율적인 데이터 수집이 문제가 아니라 표준화의 부족이 측정오류를 설명하는데 어려움을 겪을 수 있다는 점에서 문제가 될 수 있다. Source of Error in Measurements 심리학적 측정은 항상 반복되어질 수 없다. 또한 피험자의 반응은 그들의 능력, 태도, 흥미를 진실되게 반영하지 못한다. 따라서 통계 모델에서는 무선 표집(random sample)으로 잠재변수를 활용한다. True score Theory에서 잠재변수는 랜덤 변수가 될 수 있는데, 측정된 표본들은 랜덤 에러를 가질 수 있다는 것을 가정하기 때문이다. 오류에 대한 정확하고 공식적인 표현은 우리가 측정 프레임워크와 모델을 선택할 때 발생한다. 측정 오차는 모형에 의해 설명되는대로 구성개념에 속하지 않는 데이터의 분산으로도 정의할 수 있다. Reliability 신뢰성은 도구의 특성이자, 잠재변수의 점수에서 전체 분산의 비율로 특징지어지는 점수의 일관성에 대한 측정이다. 신뢰성은 표본 의존적이거나 모델 의존적이다.??? 때때로 특정 신뢰성 계수를 의미하기도 하는데, 크론박 알파(Cronbach\\'s alpha)가 대표적이다. *참고 https://m.blog.naver.com/PostView.nhn?blogId=y4769&logNo=220313366439&proxyReferer=https:%2F%2Fwww.google.com%2F 또한 신뢰성이라는 용어는 시험-재시험 신뢰성(상관)으로 사용되기도 하고, 내부 측정자(inter-rater)의 신뢰도라고 불리기도 한다. 실천가들은 알파값의 최소값이 0.7이라는 것을 비판하지 않고 사용하기도 한다. 그러나 통계적 효과성은 더 높은 알파 값에서 증가한다.  그러므로 척도의 신뢰성을 늘리려는 노력은 더 큰 표본을 수집하는 이점보다 가치가 있을 수 있다.  척도의 신뢰성이 중요하다. Validity 타당성은 증거와 이론이 시험 점수의 해석을 지원하는 정도를 의미한다. 타당성은 학습분석에서 가장 중요하다. 앞서 질문지는 진신된 생각과 감정과 일치한다는 가정을 하였지만, 많은 문헌에서 응답 편향(response bias)에 대해 보고 하고 있다. acquiescence bias(yea-saying), social desirability bias(faking good), extreme and moderate types of responders, sensitive topics etc..  응답에 대한 편향은 항상 존재할 수 있기 때문에 점수에 대한 무비판적 해석은 지양해야 한다. Measurement Models 측정 모델(measurement model)은 잠재변수와 관측변수(observable variable) 사이의 수학적 관계이다. 통계적 측정 모델은 잠재변수의 분포와 관측변수의 분포, 그리고 둘 사이이의 함수적 관계를 특정한다. 잠재변수는 대상에 대한 오류가 있다고 이해된다. 랜덤 변수의 분산과 공분산은 모델에서 명시적으로 혹은 잠재적으로 설명된다. 만약, 모델의 가정이 잘못되었다면, 모델을 활용한 추론도 잘못되었을 것이다. 범주형(categorical) 변수와 연속형(continuous) 변수가 다른 통계적 방법을 포함할지라도, 측정모델의 유형은 잠재변수와 관측변수의 유형에 따라 분류된다. SPECIFIC USES OF MEASUREMNET MODELS IN LEARNING ANALYTICS Factor Analysis(요인분석) 요인분석은 요인으로 알려진 잠재 변수 집합에 대한 선형 관계를 통해 관측 변수 간의 상관 관계를 모델링한다. 요인분석은 일반적으로 두개로 나뉘는데 탐색적 요인 분석(Exploratory factor analysis, EFA)은 강력한 이론적 가정 없이 데이터로부터 많은 잠재변수들을 결정하며, 척도 개발(scale development)의 부분으로 이해된다. 그러나 EFA는 많은 중요한 방법론적 결정들을 요구하며, 잘 만들어지지 않을 경우 문제를 초래할 수 있다. ex) EFA를 차원 축소 기법인 PCA와 혼동하여, 잘못된 결과를 도출 확인적 요인 분석(Confirmatory factor analysis, CFA)은 기대되고 관찰된 상관 사이에서 잔차(residuals)를 관찰함으로써 이론적으로 제안된 요인 모델을 시험하는 보충적 기법이다. CFA는 모델을 거부(reject)할 때 사용될 수 있다.  CFA는 경로 분석(path analysis) 및 잠재 성장 모델(latent growth models)과 함께 구조 방정식 모델링(structural equation modelling)에 의해 하위에 있다. 몇몇 학습 분석 연구는 척도 개발이나 LMS 데이터를 통합하는 것에 관심을 둔다.  도구에 적응하거나, 새로운 목적으로 도구의 일부에 적응할 때, 실천가들은 이러한 새로운 사용이 새 타당화 논거를 충족할 수 있는지 확인해야 한다. Latent Class and Latent Mixture Models 잠재 계층 모델(latent class models) Dedic, Rosenfeld, Lasry(2010)은 잠재 계층 모델을 사용하여 학생들의 물리 오개념의 분포를 이해하려 하였다. 데이터는 물리 수업의 사전 사후 검사를 통해 확보되었다. 잠재 혼합 모델(latent mixture models) LDA(latent Dirichlet allocation)은 잠재 혼합 모델이다. 혼합 멤버쉽 모델은 개인과 다층 집단의 혼잡하거나 가중치가 부여된 과제를 허용함으로써 잠재된 혼합을 발생시키려 한다. 모델 기반 군집 분석의 기초로 만들어진 가우시안 혼합 모델은 MOOC 학습자의 성과 궤적을 추적하는데 활용되었다. <참고자료> https://m.blog.naver.com/PostView.nhn?blogId=2sat&logNo=220355333219&proxyReferer=https:%2F%2Fwww.google.com%2F Item Response Theory(IRT) Growth Models Cognitive Diagnostic Models <논문으로 대체>  인지 진단 이론의 목적은 학생 개개인이 어떤 속성을 습득 또는 숙달하였는지 알려주어 교사와 학생에게 적절한 피드백을 제공하는 것(DiBello et al., 1995; Embretson, 1990; Tatsuoka, 1983, 1995) 78602532.pdf 240.0KB SOURCES OF ERROR, REVISITED 동기, 감정, 인지 등을 연구하는 측정 모형을 사용할 때는 에러를 다시 한번 점검하는 것이 필요하다. 실천가들은 잘못된 파라미터를 가진 모델을 사용할 때, 추가적인 오류가 발생할 수 있다는 사실을 알고 있어야 한다. Goodness-of-fit 시험은 모델을 얻거나 거부하기 위해 관측 데이터와 생성된 모델 사이의 일관성을 평가한다. *The goodness of fit of a statistical model describes how well it fits a set of observations. Measures of goodness of fit typically summarize the discrepancy between observed values and the values expected under the model in question. Such measures can be used in statistical hypothesis testing, e.g. to test for normality of residuals, to test whether two samples are drawn from identical distributions (see KolmogorovSmirnov test), or whether outcome frequencies follow a specified distribution (see Pearson\\'s chi-squared test). In the analysis of variance, one of the components into which the variance is partitioned may be a lack-of-fit sum of squares. EXPLANATION AND PREDICTION 예측 모델링은 교육적 데이터 마이닝에서 가장 지배적인 방법론적 접근법 중 하나이다. 반면, 사회과학에서 통계 방법으로 전통적으로 사용되어진 측정 이론은 설명적이다.  설명적 모델이 예측을 만들 수 있고, 자유로운 설명적 모델은 완벽한 예측을 만든다면, 예측 모델은 반드시 이유(설명)를 밝힐 필요가 없다. Breiman(2001)은 데이터 모델링 컬처(the data modelling culture)는 98% 통계적이지만, 알고리즘에 기반한 모델링 문화(the algorithmic modelling)는 2% 통계적이라고 설명한다.  서로 다른 관점은 연구자가 어떻게 에러와 불확실성을 다룰지 기본적으로 알려준다. 예측 모델의 관점 \"모델의 가정이 참인지 결정하는 유일한 방법은 다른 가정을 가진 대체 모델을 만들고 대체 모델이 성능이 더 뛰어난지 아닌지 비교하는 것이다.\"  모델 예측 성능은 모델의 가정이 잘못되었는지 아닌지에 따라 결정하는 방법이 아니다.  알고리즘 모델링 문화는 모델은 예측 정확도에 의해 타당화된다는 것을 반영한다. (예측 성능이 더 진실한 모델인지 아닌지를 가정함) 설명적 모델의 관점은 기반 이론의 더 정확한 표상을 얻기 위해 편견을 최소화하는 방향으로 이뤄진다. 예측 모델은 인식론적 정확성에 대한 이론적 정확성을 희생하는 경우에도, 편견과 분산의 조합을 최소화하려한다. 학습분석은 방법론적으로 설명적 접근법과 예측적 접근법의 중간에 위치하고 있다. FURTHER READING Handbook of Statistics series(Rao & Sinharay, 2006) Educational Measurement(Brennan, 2006) Educational measurement volumes and the Standards(AERA, APA, & NCME, 2014) Devellis\\'s(2003) concise volume  <논의할 문제>  1. 이번 절에서는 교육통계와 관련된 이야기가 많이 나옵니다. 교육통계와 학습분석 간의 관계에 대해서 이야기해보면 좋겠습니다.  2. 이번 절에서 나온 예시 중에서 상당수의 샘플은 학습자의 자기보고식 응답에 기반한 설문을 토대로 이루어진 연구가 많이 나옵니다. 자기보고식 응답에 기반한 설문의 신뢰성에 대해서 이야기해볼까요? 토론 내용 그룹1: 유경, 준오, 재용 교육통계 vs 학습분석 학습분석이 교육통계를 포괄하는 상위 개념이다? 기본 논리 차이 통계적 가설검정 중심의 연역적 과정 vs 가설이 반드시 필요하지 않은 탐색적 과정 data-driven or hypothesis-driven 데이터 측면 학습분석에서 다루는 데이터의 범위가 더 넓다 분석하는 데이터가 서로 겹친다? 교육데이터마이닝(탐색적) vs 학습분석(설명적) 자기보고식 응답에 기반한 설문의 신뢰성 self-report bias, social desirability 보정하는 방법? 사회적 바람직성이 너무 높은 응답은 무효로 한다 시나리오 기반 문항 vs 리커트 척도 시험 방식 (IQ와 같이)   <혜원, 혜린, 지훈> 교육통계는 수리적으로 엄밀한 측정 / 학습분석은 보다 현장에서 작동하는 것들에 대한 내용 학습분석에 엄밀한 교육통계적 근거가 필요하다고 생각한다 그룹3: 정재은, 이은서, 엄주홍, 이웅기 교육통계, 학습분석 주홍 - 교육통계: 학습분석의 도구, 설명적, 현상학적 느낌(현상을 설명), 데이터 창출  - 학습 분석: 데이터를 해석, 내재된 학습의 요인 등을 파악 설문의 신뢰성 재은: 설문의 신뢰성, 그룹 대상에 대한 조사가 필요할 것 같다. 특정 그룹 특정 대상에 대한 것 은서: 심리 측정하는 것이 더 어렵다. 수량화되지 않은 것들을 수량화해서 데이터를 다루는 것이 어렵다. 주홍: 심리 검사지, 개인의 인식, 사회의 통념이 반영됨 / 정의적인 영역을 측정하려면 질문의 유형을 고려하고 사실에 대한 질문도 사용, 개인이 자신을 평가할 때도 객관적인 근거를 가지고 '"
      ]
     },
     "execution_count": 9,
     "metadata": {},
     "output_type": "execute_result"
    }
   ],
   "source": [
    "ClEANED[2]['content']"
   ]
  },
  {
   "cell_type": "markdown",
   "metadata": {},
   "source": [
    "- /\\'()*와 같은 특수문자 빈도 봐도 재밌을듯\n",
    "- 한국어한국어한국어(영어영어영어) 이렇게 서술을 구체적으로 해준 것 카운트해볼 수 있음\n",
    "    - 영어영어영어(영어영어영어) 는 인용\n",
    "- 사용자사전\n",
    "    - IRT -> 문항반응이론\n",
    "    - 요인 분석 -> 요인분석\n",
    "    - CFA -> 확인적 요인분석\n",
    "    - 데이터\n",
    "    - 학습분석"
   ]
  },
  {
   "cell_type": "code",
   "execution_count": 10,
   "metadata": {},
   "outputs": [
    {
     "data": {
      "text/plain": [
       "'문항반응이론에 대한 간단한 소개 A brief introduction to IRT.pdf 654.0KB 모든 예측모델이 그렇듯이, Why? 에 대한 의문을 해결하기 어려운 경우가 많다. 관찰된 법칙에 대한 이론을 세우는 것은 연구자가 해야 할 일. 여기서 Explanatory models라고 부르는 것은 예측이 갖는 의미를 해석할 수 있거나, 혹은 why에 대한 의문을 풀어나가는데 도움이 되는 모델을 이야기하는 듯 하다. Cognitive model discovery Covnitive model이란 인지과정을 근사적으로 표현하는 모델이다.  지식, 개념, 역량과 같이 인지적이고 관찰할 수 없는 요소들을 문제 해결의 단계적 대응이라는 관찰 가능한 요소를 통해 표현하려는 시도.  따라서 적응형 학습의 구현에 중요하다.  Knowledge component (KC) : 특정 작업 또는 문제해결 단계를 성공하기 위해 필요한 사실, 개념 또는 기술 통계적으로 이를 형식화 한 것을 KC model 또는 Q-matrix 라고 하며, 여기에  문항반응이론을 좀 변형해서 결합한게 additive factor model (AFM) 인 것 같다. Q-matrix method : 오개념을 파악하기 위한 이진(boolean) 행렬 표현. Concept - question relation을 관련있으면 1, 아니면 0으로 표현한다. 때문에 attribute-by item incidence matrix라고도 한다. 자주 쓰이긴 하는데, 이 명칭보다는 KC model이 더 많이 쓰이는듯. 학생들의 응답에 의해 문항(q)과 개념(con)사이의 대응관계를 나타낸 예시.  한번에 뚝딱 만들어지는게 아니라 수정을 거치며, 알고리즘적으로 생성할 경우에는 무작위로 초기화된 q-matrix에 대해서 경사상승법(hill-climbing algorithm)을 사용한다(to avoid local minima). 이진 값이 아니라 학생이 옳게 응답할 확률로 나타낼 수도 있음. (Brewer, 1996) 학생의 개념이해 여부를 나타낸 이진 벡터인 concept state  c c 와 q-matrix  Q Q 에 대하여, ideal response vector (IDR)는 다음과 같이 표현된다. ( 는 not 연산자 ) textrm{IDR}=neg((neg c)Q) IDR=((c)Q) 위의 q-matrix에서 예를 들어  neg c=1001 c=1001 이라면  (neg c)Q=101001 (c)Q=101001 인데 이는 학생이 제대로 풀 수 없는 문제에 해당함. 따라서 IDR vector는 학생이 문제를 풀 수 있는지 여부를 나타냄. Barnes, T. (2005). The Q-matrix method: Mining student response data for knowledge. Proceedings of AAAI 2005: Educational Data Mining Workshop  www.aaai.org https://www.aaai.org/Papers/Workshops/2005/WS-05-02/WS05-02-006.pdf Additive factor model (AFM) :  문항반응이론 모형의 살짝 변형된 버전으로, additive라는 말은 skill parameter들의 선형결합에 의해 표현된다는 취지로 쓴 용어임. p_{ij}=Pr (Y_{ij}=1  theta_i, vec beta , vec gamma)=sigma (theta_i+sum_{k} q_{jk}beta_{k} + sum_{k}q_{jk}gamma_kT_{ik}) p ij =Pr(Y ij =1 i ,  ,  )=( i + k  q jk  k + k  q jk  k T ik ) 여기서  sigma(x)=1/(1+e^{-x}) (x)=1/(1+e x ) 인 sigmoid 함수이고 Y_{ij} Y ij  : 문항 j 에 대한 학생 i 의 응답 theta_i  i  : 학생 i 의 숙련도 beta_k  k  : 기술(skill) k 의 어려움 gamma_k  k  : 기술 k 를 습득하기 위한 learning rate T_{ik} T ik  : 학생 i 가 기술 k를 습득하기 위해 투자한 시간 q_{jk} q jk  : q-matrix의 jk-성분. 즉 문항 j가 기술 혹은 개념 k와 관련있는지  여부 Conjunctive factor model (CFM) :  확률이 한 번의 선형결합 후 sigmoid 에 의해 결정되는 것이 아니라, 각 스킬 요소의 logistic regression에 의한 곱으로 표현되는 모델. 개인적으로 운전면허 실기시험 같은 상황에 적합하다고 생각함.  p_{ij}=prod_k sigma(theta_i+beta_k+gamma_kT_{ik})^{q_{jk}} p ij = k  ( i + k + k T ik ) q jk Cen, Hao, Kenneth Koedinger, and Brian Junker. \"Comparing two IRT models for conjunctive skills.\" International Conference on Intelligent Tutoring Systems. Springer, Berlin, Heidelberg, 2008. pact.cs.cmu.edu http://pact.cs.cmu.edu/koedinger/pubs/Cen%2C%20Koedinger%20%26%20Junker%2008.pdf Data-driven cognitive model improvement Difficulty factor assessment (DFA) : 과제를 각각의 요소로 분해하여 분석하는 관점. 처음부터 적절한 q-matrix를 만들 수 없기 때문에, 전문가에 의해 아래의 과정을 반복하면서 refine한다. 학습곡선을 시각화해 분석하고, 주어진 KC model에 대해 AFM을 최적화시킨다. 문제와 관련된 KC를 규명하고, KC model을 수정한다. 수정된 KC model에 대해 AFM을 다시 최적화하고, 데이터에 더 잘 부합하는지 본다. Human-machine student model discovery and improvement using Data, Stamper et al. , 2011 www.researchgate.net https://www.researchgate.net/publication/221297301_Human-Machine_Student_Model_Discovery_and_Improvement_Using_DataShop DataShop이라는 플랫폼의 Geometry area (1996-97) 학습 기록을 사용. 위 그래프의 각 title이 KC에 해당하며, X축은 학습기회, Y축은 문제풀이에 대한 error rate. 학습곡선이 부드럽게 하강할 수록 KC가 잘 설정되었다는 것을 의미한다. 위에서는 compose-by-addition KC의 학습곡선이 이상한데, 이걸 눈으로 봐서 알 수도 있지만 AFM돌려보면  gamma_k  k  가 이상한 값으로 나오는걸로부터 찾아낼 수 있다. 혹은 AFM의 파라미터가 정상적이더라도 error rate에 대한 시계열 예측 성능이 낮으면, 학습곡선이 bumpy하다는 것을 의미한다. 이런 식으로 KC가 잘못 정의되었음을 찾아내어 q-matrix를 개선할 수 있다. Koedinger et al., 2013 에서는 실제로 이것이 학습에 도움이 됨을 보였다. Learning factor analysis (LFA) 수작업으로 하던 KC model refinement에 들어가는 노동력을 줄이기 위해 고안되었다. 데이터를 가장 잘 설명해주는 best-fitting KC model을 symbolic하게 뱉어줘서, 완전 자동화는 아니더라도 사람의 노동을 상당히 줄여주는게 목적이라는 듯 하다. KC모델은 concept의 수를 늘리면 모델 파라미터 (q-matrix,  beta_k  k ,  gamma_k  k ) 수도 같이 늘어나기 때문에 무조건 overfitting 된다. 따라서 데이터를 잘 표현하면서도 overfit을 막기 위해서는 성능 + 모델파라미터 수를 같이 평가해주는 지표가 필요한데, 여기서는 Akaike information criterion(AIC) 과 Bayesian information criterion (BIC)를 사용했다. 이렇게 number of concepts 를 결정해도 KC model space를 전체탐색하는 것은 너무 비효율적이기 때문에, A-star algorithm (게임NPC의 길찾기 알고리즘에 많이 쓰임)으로 경로탐색하여 KC model을 찾고 AFM을 피팅한다. 실제로 이렇게 반자동화된 KC와 전문가에 의해 작업된 KC를 교차검증해보니 꽤 우수했다고 한다. 기존에 구한 KC model과 새로운 문항 데이터셋에 대한 KC모델의 쉬운 통합을 위해  저자(Koedinger)가 요즘 노력중이라고 함. 어마어마한 연구력... 카네기 HCI 교수이시다. Cen, Hao, Kenneth Koedinger, and Brian Junker. \"Learning factors analysisa general method for cognitive model evaluation and improvement.\" International Conference on Intelligent Tutoring Systems. Springer, Berlin, Heidelberg, 2006. citeseerx.ist.psu.edu https://citeseerx.ist.psu.edu/viewdoc/download?doi=10.1.1.297.2141&rep=rep1&type=pdf Automated cognitive model discovery using SimStudent 중학생(?)에게 algebra 가르치는 대화형 인공지능 프로그램. 직접 보는게 제일 좋다. 교수자(여기서는 중학교 학생)의 행동과 가르침을 보고, 규칙에 의한 절차적 지식을 학습할 수 있는 머신러닝 모델이다. KC가 전문가에 의해 구성되는게 아니라 실제 학습과정에 있는 학습자에 의해 구성되기 때문에 learning trajectory를 파악하는 능력이 전문가보다 뛰어난 것으로 나타났다. 다만 symbolic representation이 가능한 절차적 과제에 대해서만 적용 가능하다는 한계가 있는 것 같다. 방정식의 표현에 따른 problem abstraction level을 학습된 모형의 error rate를 바탕으로 정의한 점이 굉장히 독창적이라고 생각한다. 그래프에서 전문가에 의한 모델보다 SimStudent가 더 우수함을 알 수 있다. Li, Nan, et al. \"Integrating representation learning and skill learning in a human-like intelligent agent.\" Artificial Intelligence 219 (2015): 67-91. Integrating representation learning and skill learning in a human-like intelligent agent Building an intelligent agent that simulates human learning of math and science could potentially benefit both cognitive science, by contributing to the understanding of human learning, and artificial intelligence, by advancing the goal of creating human-level intelligence. https://www.sciencedirect.com/science/article/pii/S0004370214001349 Comparison to other work Cognitive model에 기반한 방법들은 단순한 예측 모델보다 성능이 더 좋고 쉽게 해석 가능하기 때문에 explanatory하다. (예측모델은 parameter를 키워 성능을 올릴 수 있지만, 그럴수록 해석성이 떨어진다. e.g. multinomial regression) 특히 교수학습과정이나 평가를 수정하는데에 직접적인 도움이 될 만한 정보를 담고 있다. LFA와 같은 모델들은 \"human-in-the-loop\", 즉 개발 과정에 해당 분야의 전문가를 요한다. 이것은 그냥 무식하게 데이터를 집어넣는 예측모델에 비해 비싸지만, 결국 설명적인 모델을 얻을 수 있도록 해준다. 이 과정을 자동화하거나 단순화한 여러 모델들(Gonzlez-Brenes & Mostow, 2012; Lindsey, Khajah, & Mozer, 2014)이 있지만, 역시 노동력과 interpretabililty사이에는 trade-off 관계가 있다. (꼭 human-in-the-loop가 좋다기보다는, 상황에 따라 적절한 방식을 택하는게 좋다고 받아들여야 할 듯) Ordinal SPARFA(sparse factor analysis)-Tag : 또 다른 human-in-the-loop 유형의 모델로, q-matrix 비슷하게 문항-개념을 연결해주는 역할을 하는 W 행렬이 희소행렬(sparse matrix, 대부분의 성분이 0인 행렬)이 되도록 한 모델.  학생의 개념을 나타낸 행렬 C와 문항 자체의 난이도 행렬 M을  sigma(WC+M) (WC+M) 형태로 연산해, 문항에 대한 응답을 추정. Ordinal 버전은 이런 과정을 서열척도에 적용할 수 있게 만든 것으로, 사실 ordinal IRT의 모형과 수학적인 구조는 동일하다. Multidimensional IRT과의 차이점은 IRT는 W에 대한 제약이 없는 반면, SPARFA는 oracle support assumption이라는 특별한 가정을 하는데 이는 해당 분야의 전문가에 의해 문항과 개념의 연관성 여부를 미리 선정하여 W에서 0이 들어갈 자리와 실수가 들어갈 자리를 제약한다는 것이다. 이를 통해 IRT보다 해석성 있는 결론에 쉽게 수렴할 수 있다. Lan, Andrew S., et al. \"Sparse factor analysis for learning and content analytics.\" arXiv preprint arXiv:1303.5685 (2013). Lan, Andrew S., et al. \"Tag-aware ordinal sparse factor analysis for learning and content analytics.\" arXiv preprint arXiv:1412.5967 (2014). arxiv.org https://arxiv.org/pdf/1303.5685.pdf www.csl.cornell.edu https://www.csl.cornell.edu/~studer/papers/13EDM-sparfatag.pdf Student Grouping Conceptual modeling 이나 item response modeling 이외에도, 특성을 바탕으로 학생을 clustering하는 것 또한 explanatory하다. K-means나 spectral 클러스터링은 테스트에 대한 학생의 예상응답수준을 바탕으로 군집화한다. Liu and Koedinger 2015 연구에서는 AFM을 바탕으로 학생을 군집화하는 방법을 제안한다. AFM으로 구한 잔차(residual; 예측값과 관측값의 차이)를 바탕으로 (1) 예측보다 느리게 학습하는 그룹과 (2) 예측보다 빠르게 학습하는 그룹과 (3)예측에 거의 일치한 속도로 학습하는 그룹을 나누었다. (하지만 특별히 시사하는 바는 없는 듯 합니다) Liu, Ran, and Kenneth R. Koedinger. \"Variations in Learning Rate: Student Classification Based on Systematic Residual Error Patterns across Practice Opportunities.\" International educational data mining society (2015). files.eric.ed.gov https://files.eric.ed.gov/fulltext/ED560874.pdf Toward Building Explanatory Models 선형/다항회귀를 제외한 거의 모든 예측알고리즘은 수렴성이기 때문에, 최적해에 도달하지 못할 가능성이 있음은 물론이고 모델을 해석하는데에 어려움이 있다. 이 절에서 다룬 explanantory models는 분야의 전문가의 도움을 통해 clean한 파라미터와 해석성을 얻을 수 있음을 시사한다. 이상 문항 데이터에 대해 주로 다루었지만, 언어 데이터를 활용하는 것 또한 고려해야 한다.  언어 모델의 접근에는 소위 bag-of-words라 불리는 순서 신경 안쓰고 빈도만 따지자는 관점이 있는가 하면 더 정교한 모델이 있다. 자연어 모델의 발전은 해석성에 큰 기여를 할 것 (집필시기인 2017년에 비해 최근 수년간 NLP에서 어마어마한 발전이 있었으니 아마 뭔가 많이 했을 듯. 그러나 일단 Koedinger의 최근 연구를 찾아보면 NLP는 안건드리고 knowledge tracking쪽에 관심이 있는 것 같다.) Affective AutoTutor : 컴퓨터 리터러시 교육을 위한 튜터링 시스템으로, 자동적으로 학생의 혼동, 좌절감, 지루함 등을 실시간 모델링한다. Non-affective 버전의 auto tutor보다 저성취 학생에게서 더 우수한 효과를 보였다고 한다. (uncanny valley... 차라리 캐릭터화 했다면) Affective tutoring system의 개발을 위해서는 학생의 반응에 대한 해석성이 필요하다. Facial responces from affective autotutor 저자는 파라미터가 적은 모델이 해석성이 높다고 여기면서 다시 한 번 예측과 해석성의 trade-offs관계를 강조한다. (General하게 맞는 말이지만, 최근에는 multimodal transformer같은 신기술을 통해 많이 극복하고 있는 추세이다.)    Discussion  1. Data-driven model을 사용하지 않더라도 분명 교사는 학생들을 암묵적으로 cognitive modeling하고 있을 것입니다. 교사가 직접 하는 cognitive modeling에는 무엇이 있을 것이며, 이 가운데 data-driven model로 구현되지 않은 것에는 무엇이 있을까요?  2. 엔지니어와 통계학자들이 모든 기술적인 문제를 다 해결했다고 치고, 무엇이든 개발 가능하다고 상상해봅시다. 궁극의 cognitive model (혹은 explanatory model) 은 우리에게 무엇을 알려주어야 할까요? 즉 우리는 학생에 대해 뭘 알기를 원하는걸까요? 그리고 그것으로 구현할 수 있는 교육적 서비스에는 무엇이 있을까요?  위의 두 질문을 통해 explanatory model이 나아갈 방향을 찾을 수 있을 것 같습니다. <주홍, 혜원, 은서> 지식이 아닌 역량, 문제해결력 같은 것 인지모델을 통해 이해를 했나 안했나를 알 수 있으니, 이 결과를 통해 오히려 역량이 행동으로 어떻게 확인될 수 있는지를 찾을 수 있을 듯 교사의 머리 속에 있는 인지모델 ~ 인문학적 과목이나 예능과목 문제해결력 외에도 여러 역량들(창의융합 등)도 이를 통해 알수 있으면 좋을 것 <현지, 유경, 지훈> 심리적인 구인들을 모델링할 수도 AI교육해보며느 학생들은 자신이 끈기있게 학습할 수 있는 grit, 동기, 정서가 학업성취와 관련이 깊다고 생각. 이런 것을 모델링해야지 <웅기, 해린, 준오> 준오: 구성주의, 단순한 수학문제를 푸는 경우에는, 같은 컨셉이라도 학생들이 어떠한 방식으로 이해했는가? 학생들이 멈추는 포인트도 단서가 될 수 있겠다. 해린: 교사가 암묵적으로 인지 모델링을 하고 있다는 것은  웅기 : 인간의 사고? 생각?을 최대한 끌어내고자 하는 것이 궁극적인 목표 아닐지.'"
      ]
     },
     "execution_count": 10,
     "metadata": {},
     "output_type": "execute_result"
    }
   ],
   "source": [
    "ClEANED[4]['content']"
   ]
  },
  {
   "cell_type": "markdown",
   "metadata": {},
   "source": [
    "- 수식을 많이 쓴 사람"
   ]
  },
  {
   "cell_type": "code",
   "execution_count": null,
   "metadata": {},
   "outputs": [],
   "source": []
  },
  {
   "cell_type": "markdown",
   "metadata": {},
   "source": []
  },
  {
   "cell_type": "code",
   "execution_count": 11,
   "metadata": {},
   "outputs": [
    {
     "name": "stdout",
     "output_type": "stream",
     "text": [
      "Added :  UNGGI LEE\n",
      "Added :  Brida Choi\n",
      "Added :  ­송유경\n",
      "Added :  Juno Hwang\n",
      "Added :  H\n",
      "Haewon Jung\n",
      "Added :  성지훈 ­\n",
      "Added :  이재용 ­\n",
      "Added :  Juhong Eom\n",
      "Added :  H\n",
      "Hae Rin Lee\n",
      "Added :  원지영(교육대학원 교육학과)\n",
      "Added :  hyunjee Kwon\n",
      "Added :  전영훈\n",
      "Added :  Y\n",
      "Yoonhee Ham\n",
      "Added :  박\n",
      "박용현 / 학생 / 물리교육과 ­\n",
      "전영훈\n",
      "Added :  박\n",
      "박용현 / 학생 / 물리교육과 ­\n",
      "Added :  백\n",
      "백수진\n",
      "Added :  임은선 ­\n",
      "Added :  박새록(사범대학 교육공학과) ­\n",
      "Added :  이\n",
      "이홍규\n"
     ]
    },
    {
     "data": {
      "text/plain": [
       "{'UNGGI LEE': '학습분석을 활용하기 위해서는 우리는 알고리즘, 교수자, 학생, 정책가, 연구자 간 균형을 맞출 필요가 있다. 빅데이터 시대에 이론의 중요성은 줄어들지 않는다. 빅데이터를 통해 결과를 해석하고 활용하기 위해서는 이론은 중요하다. 학습 분야도 다른분야에서 시작된 데이터 집약적(data-intensive) 방식으로 변화하고 있다. 이를 위해 우리는 이론과 분석의 관계에서 \"from clicks to constructs\"라는 원칙을 이해할 필요가 있다. 학습 분석은 이미 알고리즘을 일상적으로 사용하는 사회의 변화를 반영한다. 따라서 이론과 학습 분석의 관계를 중심으로 하는 프레임은 일반적으로 \"교육 이론\"으로 간주되는 것을 고려할 수 없을 정도로 확장되어야 하며, 사회 기술 인프라가 사회에서 어떻게 계산 지능을 제공하는지에 대한 중요한 담론에 참여해야 한다. 학습분석에서 고려해야 하는 것 사람들이 감시 당한다는 것을 인지할 때 행동이 변화할 수 있기에, 학습 분석 연구자들은 \"학습\"이라는 렌즈가 특정 결과를 과장하거나 왜곡할 수 있다는 점을 인지해야 한다. 학습분석을 통해, 교사와 학생들은 그동안 연구자들만이 확인할 수 있었던 교육과 학습 상황을 직접 확인할 수 있게 될 것이다. 학습분석이 가져올 새로운 윤리적 딜레마를 고려할 필요가 있다. 학습분석 분야는 인식론적 가정(epistemological assumptions)과 교육학적 실천(pedagogical practices)에 의해 평가 체제(assessment regimes)로 간주되어 왔다. 그러나 학습 분석은 특정 학습자들을 길러내기 위해 설계된 교육적 관점(particular educaitonal worldview)이라 볼 수 있다. 1. Theory into pratice 삼각형의 사용은 각 요소들의 긴장을 강조한다.  평가는 \"지식\"이 무엇인지 이해하는 데 있어 원동력이 될 수 있다.  우리가 평가하는 사람과 방법에 대한 교육학에 대한 가정은 때때로 긴장 상태에 있으며, 종합 평가에 대한 욕구가 교육학적으로 동기부여된 형태적 피드백을 무시한다.  지식의 본질에 대한 인식론적 견해와 평가 또는 교육학적 관행 사이의 정렬을 도출하는 것은 어려운 일이다. 세 가지 사이의 관계는 암시될 수 있지만, 수반되지는 않는다. *평가 도구의 새로운 형태로서 학습 분석은 현재 교육 실천을 지원하거나 그들과 경쟁하거나 새롭게 교육을 정의할 가능성을 가지고 있다. 2. EPA Provocations 학습 분석에 대해 이해하기 위해서는 각 요소를 분해해서 살펴볼 필요가 있다. 특히, EPA의 세 가지 요소를 명확하게 하기 위해서는 다양한 이론적 질문을 통해 이를 검증할 필요가 있다. 1) Epistemology - What Are We Measuring? 이 질문에 답하기 위해서는 측정의 개념적 이유와 실제적 이유 간의 연결관계를 고려할 필요가 있다. 즉, 학습 설계(learning design), 우리가 원하는 학생들이 배워야 할 기술과 지식(facts), 그리고 학생들이 \"Come to know\"하는 것에 대해 고려하여야 한다.  이것은 인식론의 질문으로, 구성의 본성(nature of the constructs), 왜 그들이 지식을 중요시하는지 이 지식은 더 넓게 제안된 종류일 수도 있고, 스킬과 특성일 수도 있으며, 특정한 방식의 행동일 수도 있다.  즉, 지식에 대한 다양한 관점들이 존재하고, 이것들이 모두 학습분석에서 측정의 대상이 될 수 있다. 2) Epistemology - How Are We Measuring? 이 질문은 우리의 연구와 평가 방법을 인식론적으로 떠받치는 것에 대한 것이다. 다양한 문헌에서 접근 시 주관성과 통찰을 주는 방법론의 능력에 대해 집중한다.  분석 방법은 특정 인식론을 함축하고 있다.  외적 지식의 세계에 이야기하는 접근법 3) Pedagogy - Why is this Knowledge Important to Us? 학습 맥락에서 분석 접근법 개발은 지식이 집중할 것이나 집중하지 않을 것에 대한 결정을 만드는 것을 포함한다. 단지 쉽게 측정되는 것보다 우리가 가치를 두는 것을 측정하는 것  즉, 사회에서 중요한 지식의 종류와 지식 기반 커리큘럼의 역할 등에 대한 토론과 관련이 있음 이 질문은 왜 이러한 분석이 교육자들과 학습자들에게 중요한지를 질문하는 것 4) Pedagogy - Who is the Assessment/Analytic For? 교사, 학생, 부모, 관리자 등 다양한 주체들 중 어디에 초점을 맞춰야 할지 고려해야 한다. 특정 그룹에 대한 분석 방법의 개발에서 윤리적인 문제는 먼저, 기술과 참여의 특정한 형태를 요구하는 분석은 새로운 차별을 만들 수 있다. 둘째로, 학생들의 명시적인 동의없이 학생들의 데이터를 사용하는 것에 대한 문제가 있다.  거시적, 중간, 미시적 수준 등 5) Assessment - Where Does the Assessment Happen? 다양한 평가의 맥락 속에서 우리는 평가가 만약 의미있다면, 가치를 더할 수 있는 확장된 의미있는 컴퓨터 활용 분석이 설계될 수 있는지에 대해 질문하여야 한다. 그리고 우리는 특정 응답에 대하여 평가가 편향된다는 것을 고려할 필요가 있다. 6) Assessment - When Does the Assessment, and Feedback, Occur? 형성 평가와 총괄평가로 구분해볼 수 있다. 실시간 피드백은 총괄평가가 될 수 있으며 진단은 현재 무엇이 잘못되고 있는지에 대한 통찰을 제공할 수 있다. 분석장비가 총괄 평가의 관점을 가지고 있는지, 형성 평가의 관심을 가지고 있는지가 오히려 중점이 될 것이다.  <논의할 문제>  글을 읽어보면서, 학습분석을 적용하기 위해서는 기술적인 이해를 하기 이전에 인식론에서의 지식의 정의, 교육학적 관점, 평가로서의 학습분석 등을 포괄하는 이론적 이해가 기반이 될 필요가 있다는 사실을 알게 되었습니다.  다만, 실천가로서 당면한 문제를 해결하기 위해서는 어느 하나의 관점을 선택하지 않을 수 없습니다.    이를 위해서는 자신만의 (이론과 연구 결과에 기반한) 인식론과 교육학, 그리고 학습분석에 대한 명확한 정의가 필요하다는 생각이 듭니다.  여러분들의 인식론, 교육학, 그리고 학습분석에 대한 생각을 들어보고 싶습니다. <재용, 지훈, 웅기> 재용: 행동주의와 구성주의의 차이 지훈: 영국 코로나로 인해 5G 통신망 공격  교육의 필요성 교육은 학습을 관리하는 사회적인 양식, 학습분석에서 매력적으로 느꼈다는 것은 지식을 모델링하는 관점, 뤼이드 재용: 산타토익에서 이루어지는 방식이 객관주의적인 인식론에 근거한 것인지 산타토익은 토익 시험 교육에서의 진리를 찾은 것인가, 잠정적으로 최선의 해답을 낸 것이냐? input 데이터를 output으로 만드는 과정은 매우 객관적임 하지만 input이 달라지면 모델이 달라지고, 결과에 대한 해석은 사람의 몫이다 그렇다면 산타토익은 토익을 잘 가르치는 방법을 사회적으로 구성하는 것이 아닐까? 지훈: 유효기간이 있는 한에서 객관주의적인 인식론 <주홍, 준오, 서연> 주홍: 학교가자닷컴을 관리하면서 어떤 기술을 넣을까 고민했던 경험, 어플리케이션을 개발했던 경험, 이웅기 선생님 프로젝트에서 기술자 입장에서 어떤 요소를 넣을지 고민했던 경험  교육자의 입장에서 고민할 필요가 있겠다는 생각을 했음. 교육과 기술 간의 적극적인 소통이 요구됨. 준오: 물리학은 본질적으로 상호작용과 그 사이의 법칙을 다루고 있음. 교육 현장에서는 학생, 교수자, 매체 등이 상호작용함. 이러한 작용을 기술하기 위해서는 표상을 측정해서 상호작용 사이의 법칙을 발견하고 싶은 것이 근본적인 목적이라고 생각함  한순간에 진행되는 것이 아니라 학습과정 전체에서 학습데이터 수집이 가능한 online으로 진행되어야 함. 서연: 인공지능 데이터 쪽 전문가분들과 소통하며 인공지능 등의 학습 분석 자체가 교육 현장의 다양한 요소 간 상호작용을 설명해줄 수는 있지만, 그 결과를 분석해서 활용하는 주체는 교사임.     eg) 교육자 입장에서의 추천 알고리즘의 유효성?  학습 분석 자체가 상호작용을 설명하는 도구로서는 의미있지만, 그에 대한 유효성과 신뢰성은 고민해보아야 함. <재은,은서> 은서: 20년도 이전에는 평가관점에서는 수행과정을 관찰하여 평가하는 과정주의 평가관점과 결과주의 평가관점이 대비되는 것이 교육현장의 메인이슈였는데 코로나로 인하여 공교육에 온라인학습이 행해지며 개인별 학습데이터가 체계적으로 집계되어 평가도구의 새로운 형태로서 \\'학습분석\\'이 존재감을 드러내었다고 생각한다. 학습분석을 통해 개인의 학습상태에 대한 최적화된 피드백을 제공하고, 교수자는 이전보다 보다 유의미한 수업설계를 할 수있게 되었다.  다만 현장교사에게 학습분석의 개념이 낯설고, 그에 대한 교육이 필요함 재은: 지식이라고 함은 knowledge construction, 다학문간 융합이 교육, 학습된 지식이라고 생각합니다. \"학습 분석에서 데이터를 취합하거나 데이터를 유의미하게 분석하는건 교육 전문가인 교사들이다\"Terminology psychological construct Construct (psychology), also hypothetical construct or psychological construct, is a tool used to facilitate understanding of human behavior. A psychological construct is a label for a domain of behaviors. Behavioral sciences use constructs such as conscientiousness, intelligence, political power, self-esteem, and group culture. For example, if a student sees another sitting in a classroom before an examination biting her nails and fidgeting, the interpretation might be that she is experiencing anxiety.[1] In that case, anxiety is a construct that underlies the behavior that is observed. A construct is a hypothesized cause for a certain behavior. A construct derives its name from the fact that it is a mental construction, derived from scientific process: observing natural phenomena, inferring the common features of those observations, and constructing a label for the commonality or the underlying cause. A construct derives its scientific value from the shared meaning it represents for different people. If a construct is clearly articulated and the phenomena it encompasses are clearly defined, it becomes a useful conceptual tool that facilitates communication. Once defined, constructs become objects of conceptual scrutiny in their own right. Constructs summarize behavioral domains. Constructs are the building blocks of scientific theories. True Score Theory Factor analysis 요인 분석은 인자 (factor) 또는 요인이라고 불리는 잠재적으로 적은 숫자의 관찰되지 않은 변수(variable)들로, 관찰된 서로 상관인 변수 (variable)들 사이에서의 분산 (variance)을 설명하기 위한 통계학적 방법이다. 예를 들어, 6개의 관측된 변인 (variable)들의 분산 (variation)은 2개의 관측되지 않은 근본적인 변인을 반영할 수도 있다. 인자 분석은 관측되지 않은 잠재변수에 대하여 이런 연결된 분산(joint variation)을 찾는다. 관측된 변수들은 \"오차\" (error)를 추가하여, 가능한 인자들의 선형 결합으로 모형화된다. 요인 분석은 독립된 내재 변인을 찾는 것을 목적으로 한다. Abstract 심리학적 측정(psychological measurement)는 마음의 상태(states of mind)에 대해서 보장해주는 절차이다. 심리학적 측정은 \\'defining a construct\\', \\'specifiying a measurement model\\', \\'developing a reliable instrument\\', \\'analyzing and accounting for various sources of error\\', \\'framing a valid argument\\'로 구성되어 있다. 잠재 변수(latent variables) 측정은 개인과 그룹을 위해 중요한 결과를 찾기위한 노력(noisy endeavor)이다. 이번 장에서는 교육적, 심리학적 측정에 대한 내용을 다룰 것이다. WHAT IS MEASUREMENT? PHILOSOPHY AND BASIC IDEAS 심리학적 측정은 물리학적 측정과 대조되어지곤 한다. 심리학적 측정은 \\'defining a construct\\', \\'specifiying a measurement model\\', \\'developing a reliable instrument\\', \\'analyzing and accounting for various sources of error\\'(including operator error), \\'framing a valid argument\\'로 구성되어 있다. Constructs 심리학적 구성개념(psychological construct)이 존재하는지에 대한 의문이 있다. 물리적인 변수들과 다르게, 사람의 마음이나 traits는  간접적이고 잠재된채로 관찰되어지기 때문이다. 심리학적 구성개념(psychological construct)라는 용어는 잠재 변수(latent variable)로 바꿔서 말할 수 있으며, trait는 시간이 지남에 따라 정적인 상태의 구성요소라는 용어로 사용된다. 그러나 물리적 측정의 경우에도 간접적인 경우가 있는데, 조작주의(operationalism)에서는 길이, 무게, 밀도 등의 물리적 개념들과 그것들을 측정하는 것(operation used to measure them)이 유사하다고 이해한다. ex) 길이는 길이를 측정하는 절차의 결과로 이해됨 조작주의의 아이디어는 심리학적 구성개념에서 측정도구를 통해 구성개념을 측정하는 방식으로 사용되었다. ex) 리커트 척도, 수학 시험 등 조작주의는 최근 많은 이유로 받아들여지지 않고 있다. 이후 잠재 변수에 대한 인식론적(epistemological), 존재론적(ontological) 접근이 나타났다. 모델 기반 이해(Model-based reasoning)은 시스템의 간단한 표상(representation)을 받아들이는 것으로 이해된다. 물리학 이론은 매우 적고 이해하기 쉽지만, 심리학적 이론들은 매우 많고 협소하게 정의된다. 어떤 것에 따라 구성개념이 발명되기 때문에, 그 수에 있어서 인식론적 한계는 존재하지 않는다. 측정 도구가 존재한다는 맥락 안에서 구성개념에 대해 이야기할 수 있지만, 측정도구는 항상 어떤 것을 측정하기 위해 설계된다. 따라서, 우리는 학습분석과 관련된 부분적인 구성요소에 대해서 추론해볼 수 있다. ex) 지능(비네), 학업 태도(SAT) 등... 어떤 구성개념들은 다차원적이고 다양한 요인들을 포함하고 있다. 합치는 것의 가치와 구성개념과 관련하여 나누는 것은 논의할 문제이다. Measurement Instruments 심리학적 측정 도구들에는 전형적으로 시험(tests)와 질문지(questionnaires)가 있다. ex) 단어 시험은 피험자의 지능, 인지 능력, 정신능력을 측정하기 위해서 사용된다. ex) 질문지에 답변하는 피험자는 그들의 생각, 느낌, 행동에 대해 진실되게 답변하도록 요구받는다. 어떻게 피험자가 측정도구에 대해 반응하도록 기대하는지는 측정모델의 근본을 드러낸다.  높은 점수를 획득했다면, 높은 능력을 가진다는 가정 측정 단위(measurement scale)이라는 용어는 도구(instrument)로 대체될 수 있다. 단위는 시험과 질문지가 점수화된다는 의미를 내포하고 있다. 각각의 점수를 합치는 것은 도구를 점수화하는 하나의 절차이다. 이외에 Weighted sum scores와 item response theory(IRT)가 대안으로 사용될 수 있다. 시험과 질문지를 사용하는 것은 효율성과 표준화에 대한 것이다. 학습분석에서는 효율적인 데이터 수집이 문제가 아니라 표준화의 부족이 측정오류를 설명하는데 어려움을 겪을 수 있다는 점에서 문제가 될 수 있다. Source of Error in Measurements 심리학적 측정은 항상 반복되어질 수 없다. 또한 피험자의 반응은 그들의 능력, 태도, 흥미를 진실되게 반영하지 못한다. 따라서 통계 모델에서는 무선 표집(random sample)으로 잠재변수를 활용한다. True score Theory에서 잠재변수는 랜덤 변수가 될 수 있는데, 측정된 표본들은 랜덤 에러를 가질 수 있다는 것을 가정하기 때문이다. 오류에 대한 정확하고 공식적인 표현은 우리가 측정 프레임워크와 모델을 선택할 때 발생한다. 측정 오차는 모형에 의해 설명되는대로 구성개념에 속하지 않는 데이터의 분산으로도 정의할 수 있다. Reliability 신뢰성은 도구의 특성이자, 잠재변수의 점수에서 전체 분산의 비율로 특징지어지는 점수의 일관성에 대한 측정이다. 신뢰성은 표본 의존적이거나 모델 의존적이다.??? 때때로 특정 신뢰성 계수를 의미하기도 하는데, 크론박 알파(Cronbach\\'s alpha)가 대표적이다. *참고 https://m.blog.naver.com/PostView.nhn?blogId=y4769&logNo=220313366439&proxyReferer=https:%2F%2Fwww.google.com%2F 또한 신뢰성이라는 용어는 시험-재시험 신뢰성(상관)으로 사용되기도 하고, 내부 측정자(inter-rater)의 신뢰도라고 불리기도 한다. 실천가들은 알파값의 최소값이 0.7이라는 것을 비판하지 않고 사용하기도 한다. 그러나 통계적 효과성은 더 높은 알파 값에서 증가한다.  그러므로 척도의 신뢰성을 늘리려는 노력은 더 큰 표본을 수집하는 이점보다 가치가 있을 수 있다.  척도의 신뢰성이 중요하다. Validity 타당성은 증거와 이론이 시험 점수의 해석을 지원하는 정도를 의미한다. 타당성은 학습분석에서 가장 중요하다. 앞서 질문지는 진신된 생각과 감정과 일치한다는 가정을 하였지만, 많은 문헌에서 응답 편향(response bias)에 대해 보고 하고 있다. acquiescence bias(yea-saying), social desirability bias(faking good), extreme and moderate types of responders, sensitive topics etc..  응답에 대한 편향은 항상 존재할 수 있기 때문에 점수에 대한 무비판적 해석은 지양해야 한다. Measurement Models 측정 모델(measurement model)은 잠재변수와 관측변수(observable variable) 사이의 수학적 관계이다. 통계적 측정 모델은 잠재변수의 분포와 관측변수의 분포, 그리고 둘 사이이의 함수적 관계를 특정한다. 잠재변수는 대상에 대한 오류가 있다고 이해된다. 랜덤 변수의 분산과 공분산은 모델에서 명시적으로 혹은 잠재적으로 설명된다. 만약, 모델의 가정이 잘못되었다면, 모델을 활용한 추론도 잘못되었을 것이다. 범주형(categorical) 변수와 연속형(continuous) 변수가 다른 통계적 방법을 포함할지라도, 측정모델의 유형은 잠재변수와 관측변수의 유형에 따라 분류된다. SPECIFIC USES OF MEASUREMNET MODELS IN LEARNING ANALYTICS Factor Analysis(요인분석) 요인분석은 요인으로 알려진 잠재 변수 집합에 대한 선형 관계를 통해 관측 변수 간의 상관 관계를 모델링한다. 요인분석은 일반적으로 두개로 나뉘는데 탐색적 요인 분석(Exploratory factor analysis, EFA)은 강력한 이론적 가정 없이 데이터로부터 많은 잠재변수들을 결정하며, 척도 개발(scale development)의 부분으로 이해된다. 그러나 EFA는 많은 중요한 방법론적 결정들을 요구하며, 잘 만들어지지 않을 경우 문제를 초래할 수 있다. ex) EFA를 차원 축소 기법인 PCA와 혼동하여, 잘못된 결과를 도출 확인적 요인 분석(Confirmatory factor analysis, CFA)은 기대되고 관찰된 상관 사이에서 잔차(residuals)를 관찰함으로써 이론적으로 제안된 요인 모델을 시험하는 보충적 기법이다. CFA는 모델을 거부(reject)할 때 사용될 수 있다.  CFA는 경로 분석(path analysis) 및 잠재 성장 모델(latent growth models)과 함께 구조 방정식 모델링(structural equation modelling)에 의해 하위에 있다. 몇몇 학습 분석 연구는 척도 개발이나 LMS 데이터를 통합하는 것에 관심을 둔다.  도구에 적응하거나, 새로운 목적으로 도구의 일부에 적응할 때, 실천가들은 이러한 새로운 사용이 새 타당화 논거를 충족할 수 있는지 확인해야 한다. Latent Class and Latent Mixture Models 잠재 계층 모델(latent class models) Dedic, Rosenfeld, Lasry(2010)은 잠재 계층 모델을 사용하여 학생들의 물리 오개념의 분포를 이해하려 하였다. 데이터는 물리 수업의 사전 사후 검사를 통해 확보되었다. 잠재 혼합 모델(latent mixture models) LDA(latent Dirichlet allocation)은 잠재 혼합 모델이다. 혼합 멤버쉽 모델은 개인과 다층 집단의 혼잡하거나 가중치가 부여된 과제를 허용함으로써 잠재된 혼합을 발생시키려 한다. 모델 기반 군집 분석의 기초로 만들어진 가우시안 혼합 모델은 MOOC 학습자의 성과 궤적을 추적하는데 활용되었다. <참고자료> https://m.blog.naver.com/PostView.nhn?blogId=2sat&logNo=220355333219&proxyReferer=https:%2F%2Fwww.google.com%2F Item Response Theory(IRT) Growth Models Cognitive Diagnostic Models <논문으로 대체>  인지 진단 이론의 목적은 학생 개개인이 어떤 속성을 습득 또는 숙달하였는지 알려주어 교사와 학생에게 적절한 피드백을 제공하는 것(DiBello et al., 1995; Embretson, 1990; Tatsuoka, 1983, 1995) 78602532.pdf 240.0KB SOURCES OF ERROR, REVISITED 동기, 감정, 인지 등을 연구하는 측정 모형을 사용할 때는 에러를 다시 한번 점검하는 것이 필요하다. 실천가들은 잘못된 파라미터를 가진 모델을 사용할 때, 추가적인 오류가 발생할 수 있다는 사실을 알고 있어야 한다. Goodness-of-fit 시험은 모델을 얻거나 거부하기 위해 관측 데이터와 생성된 모델 사이의 일관성을 평가한다. *The goodness of fit of a statistical model describes how well it fits a set of observations. Measures of goodness of fit typically summarize the discrepancy between observed values and the values expected under the model in question. Such measures can be used in statistical hypothesis testing, e.g. to test for normality of residuals, to test whether two samples are drawn from identical distributions (see KolmogorovSmirnov test), or whether outcome frequencies follow a specified distribution (see Pearson\\'s chi-squared test). In the analysis of variance, one of the components into which the variance is partitioned may be a lack-of-fit sum of squares. EXPLANATION AND PREDICTION 예측 모델링은 교육적 데이터 마이닝에서 가장 지배적인 방법론적 접근법 중 하나이다. 반면, 사회과학에서 통계 방법으로 전통적으로 사용되어진 측정 이론은 설명적이다.  설명적 모델이 예측을 만들 수 있고, 자유로운 설명적 모델은 완벽한 예측을 만든다면, 예측 모델은 반드시 이유(설명)를 밝힐 필요가 없다. Breiman(2001)은 데이터 모델링 컬처(the data modelling culture)는 98% 통계적이지만, 알고리즘에 기반한 모델링 문화(the algorithmic modelling)는 2% 통계적이라고 설명한다.  서로 다른 관점은 연구자가 어떻게 에러와 불확실성을 다룰지 기본적으로 알려준다. 예측 모델의 관점 \"모델의 가정이 참인지 결정하는 유일한 방법은 다른 가정을 가진 대체 모델을 만들고 대체 모델이 성능이 더 뛰어난지 아닌지 비교하는 것이다.\"  모델 예측 성능은 모델의 가정이 잘못되었는지 아닌지에 따라 결정하는 방법이 아니다.  알고리즘 모델링 문화는 모델은 예측 정확도에 의해 타당화된다는 것을 반영한다. (예측 성능이 더 진실한 모델인지 아닌지를 가정함) 설명적 모델의 관점은 기반 이론의 더 정확한 표상을 얻기 위해 편견을 최소화하는 방향으로 이뤄진다. 예측 모델은 인식론적 정확성에 대한 이론적 정확성을 희생하는 경우에도, 편견과 분산의 조합을 최소화하려한다. 학습분석은 방법론적으로 설명적 접근법과 예측적 접근법의 중간에 위치하고 있다. FURTHER READING Handbook of Statistics series(Rao & Sinharay, 2006) Educational Measurement(Brennan, 2006) Educational measurement volumes and the Standards(AERA, APA, & NCME, 2014) Devellis\\'s(2003) concise volume  <논의할 문제>  1. 이번 절에서는 교육통계와 관련된 이야기가 많이 나옵니다. 교육통계와 학습분석 간의 관계에 대해서 이야기해보면 좋겠습니다.  2. 이번 절에서 나온 예시 중에서 상당수의 샘플은 학습자의 자기보고식 응답에 기반한 설문을 토대로 이루어진 연구가 많이 나옵니다. 자기보고식 응답에 기반한 설문의 신뢰성에 대해서 이야기해볼까요? 토론 내용 그룹1: 유경, 준오, 재용 교육통계 vs 학습분석 학습분석이 교육통계를 포괄하는 상위 개념이다? 기본 논리 차이 통계적 가설검정 중심의 연역적 과정 vs 가설이 반드시 필요하지 않은 탐색적 과정 data-driven or hypothesis-driven 데이터 측면 학습분석에서 다루는 데이터의 범위가 더 넓다 분석하는 데이터가 서로 겹친다? 교육데이터마이닝(탐색적) vs 학습분석(설명적) 자기보고식 응답에 기반한 설문의 신뢰성 self-report bias, social desirability 보정하는 방법? 사회적 바람직성이 너무 높은 응답은 무효로 한다 시나리오 기반 문항 vs 리커트 척도 시험 방식 (IQ와 같이)   <혜원, 혜린, 지훈> 교육통계는 수리적으로 엄밀한 측정 / 학습분석은 보다 현장에서 작동하는 것들에 대한 내용 학습분석에 엄밀한 교육통계적 근거가 필요하다고 생각한다 그룹3: 정재은, 이은서, 엄주홍, 이웅기 교육통계, 학습분석 주홍 - 교육통계: 학습분석의 도구, 설명적, 현상학적 느낌(현상을 설명), 데이터 창출  - 학습 분석: 데이터를 해석, 내재된 학습의 요인 등을 파악 설문의 신뢰성 재은: 설문의 신뢰성, 그룹 대상에 대한 조사가 필요할 것 같다. 특정 그룹 특정 대상에 대한 것 은서: 심리 측정하는 것이 더 어렵다. 수량화되지 않은 것들을 수량화해서 데이터를 다루는 것이 어렵다. 주홍: 심리 검사지, 개인의 인식, 사회의 통념이 반영됨 / 정의적인 영역을 측정하려면 질문의 유형을 고려하고 사실에 대한 질문도 사용, 개인이 자신을 평가할 때도 객관적인 근거를 가지고 개요 The Past And Present of MOOCs 1. 묵의 개념(Siemens, 2013) 2. MOOC의 침체 3. MOOC의 노력 Enriching Theory and Practice with Diverse Big Data in Education 전통적인 교육학 연구 MOOC의 학습자 수와 특성 MOOC의 데이터 수집 이질집단 학습자들에게 접근하면서 얻을 수 있는 장점 Replication 연구에서 MOOC의 장점 문화적 다양성 Current Research that Leverages Diverse Big Data in MOOCs 최근 연구 다양성을 증진시키기 위한 연구 Testing Theory And Evaluating Educational Practices Using Online Field Experiments Three Streams of Published Experimental Research in MOOCs 1. 코스 결과를 향상시키기 위한 작은 격려나 넛지 2. 코스 콘텐츠와 구조에 대한 이론 기반 변경 3. 실제 맥락에서 일반적인 이론을 실험 Methodological Considerations for Randomized Field Experiments in MOOCs 많은 연구들이 중요한 결과를 도출하지 못함  MOOC 데이터가 결과 측정 과정에서 높은 분산을 가지고 있기 때문임  데이터의 크기가 커지면서, 노이즈가 많아짐  공분산으로 인해 Type 1 에러(false positives)가 발생할 가능성이 높아짐  따라서 연구자가 기대되지 않은 분산을 간과한다면, 연구에서 중요한 발견을 할 수 없게 됨  해결방법: replication, pre-registration, use of Bayesian alternatives to frequentist hypothesis testing(Kruschke, 2013)  robust!! MOOC 연구에서 중요한 것은 실험을 통한 학습과 반복적으로 더 좋은 학습 경험을 제공하는 것이 목표 - 동일집단에 대해서 실험을 반복하며 수업을 개선하기보단, 반복적으로 다양하게 접근하는 것은 짧은 시간에 효과성을 판단하기에 유리함  이질 집단에 대해서 다양한 교육적 이론을 실험하고 이론을 정교화하고 실천할 수 있음 Williams et al(2014): MOOClets에서 MOOCs의 적응적 실험에 대한 첫 개념을 제안함  논의할 문제  1. MOOC을 사용한 경험에 대해서 이야기해보고, MOOC을 사용했을때 불편했던 경험을 나누어봅시다. 또한 MOOC을 직접 디자인한다면 가장 시급하게 변경(혹은 추가)해야한다고 생각하는 요소는 무엇인지 이야기해봅시다.  2. MOOC의 데이터를 활용하여 연구하고 싶은 주제가 있다면 자유롭게 이야기해봅시다. <MOOC Data for Researchers> Coursera Review Data in Kaggle https://www.kaggle.com/imuhammad/course-reviews-on-coursera 2. Courseraforums Data https://github.com/elleros/courseraforums 3. Data Shop https://pslcdatashop.web.cmu.edu/ <참고자료> https://www.researchgate.net/post/Can-anyone-suggest-open-MOOC-dataset-available-for-researchers <은서, 현지, 혜원> 은서 : 기업에서 연수 경험을 바탕으로 보면,  1) (질의응답의 신속성이 떨어짐) 모르는 것이 있을 때 질문하고 피드백이 오는 시간이 다소 길었다.   2) (배속 조절의 한계) 아예 없는 경우도 있음  3) (학습 자료 제공의 한계) 아예 제공되지 않는 경우도 있음  ex) ppt, pdf, 강의 녹화본 등  4) (학습 컨텐츠 수정에 대한 신속한 대응)이 어려움  현지 : edX 경험을 바탕으로 보면, 1) (강의 컨텐츠의 길이가 너무 김)  2) (질의응답 창구를 찾기 힘든 UX) 3) 교수학습방법이 강의형으로 제한됨 (코드 실습 어려움, 실시간 토론형 어려움)  [변경이 필요한 부분] 연관 강의는 옆에 생성되지만, 선수 강의와 후속 강의 대한 시각화된 구조도가 필요  질의응답 시스템 개선 (다른 수강자의 질문을 보고 그에 대한 답변도 볼 수 있는 게시판, 속도 개선)  토론 게시판을 생성하여 학습 커뮤니티 촉진   질의응답, 토론 게시판에 피드백하는 사람에게 리워드를 주면 지속적으로 학습의 장이 생기겠다.  학습자 주체로 생성한 학습 컨텐츠 및 산출물을 업로드 할 수 있는 장  강의 영상에 대한 배속 조절을 자유롭게 할 수 있도록 기술적 지원  내적 동기 부여를 할 수 있는 장치 필요 (메타버스를 활용한 게이미피케이션 : 구글에 클래스룸에 연동되어 있는 시스템인데 게이미피케이션이 있음 = 클래스 크래프트 , 팀 활동 중심으로 함께 목표 달성, 선의의 경쟁 활용 등 )  지속적인  (제한 시간을 두어, 지속적인 안내, 환급제도)  주기적인 데드라인 설정하여 참여 유도 강의 영상 길이를 짧게 제공  다양한 교수학습방법 제공 (PBL, FL 등)  2.  은서 : 강의 영상 길이에 따른 학습 성취도 분석  현지 : 질의응답 게시 횟수에 따른 학습 성취도 분석, 학습자가 컨텐츠 제공 주체가 되어 컨텐츠를 스스로 만들고, 업로드 하는 MOOC 구현 방안  혜원 : 학습자가 컨텐츠 제공 주체가 되어 컨텐츠를 스스로 만들고, 업로드를 촉진하는 플랫폼 특성 https://info.flipgrid.com/ <해린 준오 용현> 주제1. 과제나 피드백같은게 어떻게 이루어지는지?  문제 풀려면 돈을 내야하더라... 대신 문제는 양질의 문제였다. 학습 시간 및 마감일을 타인의 통계에 기반해서 본인이 유동적으로 선택할 수 있다. 다시 돌아와서 듣는 비율이 많은 부분에서는 강사가 알려줘서 집중하게 되는 효과가 있더라. 웹으로 제공된다는 점을 학습자료에 활용하는지?  코딩에 대한 실시간 자동 피드백이 있었다. 브릴리언트 https://brilliant.org/ 라는 플랫폼이 상호작용 가능한 material을 제공하는듯? 다른 학습자의 통계를 제공한다는 것이 도움이 되더라.       ex)이 영상을 완료하는 데 걸린 다른 학습자들의 평균 시간은 00분입니다. 아쉬웠던 점 학습 내용에 대한 전체적인 개괄... 제공이 부족하다는 점이었음 영상 수업의 어쩔 수 없는 한계인듯 주제2. 메일을 보내는 것에 대한 역효과. 최소한 이메일만큼은 수강자의 모국어로 보내주면 어떨까? 준오 : 영상 시청 시간흐름 방식  성취 를 볼 수 있으면 좋을 것 같다. 해린 : 영상 시청 방식  컨텐츠 개선도 가능할듯 / 나라별로  번역체로 메일보내기 vs 구어체로 보내기 AB테스트?! 본문에서 왜 노이즈가 많이낀다고 했는지 잘 이해가 되지 않는다... 사실 선행연구들이 type 1 error였던게 아닐까? <주홍, 재용, 웅기> 주홍 - 필요할 때 찾아듣는 편임, edX - 코딩할 수 있는 평가 시스템이 필요하다고 생각함, 따로 설치할 필요없이 코딩할 수 있는 툴들이 좋았음 - 포럼을 통해 동향을 파악할 수 있었음 - 강의별 태깅이 잘 안되어있음    연관 검색어 - 뇌과학 연구에 참여한 적이 있었음, 기억이나 학습 관련, 관련 분야가 컴퓨테이셔널 뉴로 사이언스, 찾아보는데 힘들었음 재용 - MOOC을 많이 안보는 편임 - 초반에만 보다가, 안보는 타입 - 제일 최근에 봤던 것이 선형대수학 수업(MIT), 기존 교육의 대체재가 아니고 보완재이기 때문에 동기가 떨어질 수 있음, 언제 어디서나 들을 수 있기 때문에 - 최근에 코세라 들어갔을때 강의신청을 하면, 언제 강의를 들을지 선택해서 캘린더를 자동으로 만들어줌(바로 구글 캘린더에 들어갈 수 있도록) 웅기 - 외부강의(패스트캠퍼스) - 외재적 동기 주홍 - 파편적인 지식이 필요한 경우도 있기 때문에, 강의를 듣는 목적 - 세대에 따른 학습 패턴을 분석하려면 - 동기, 목적, 들은 기간, 많이 들은 부분 웅기 - 이탈율 - 원격 교육에서 격차가 커진다. 주홍 - 트랜드에 대한 강의들이 생김 - 강의가 만들어지는 타이밍 - 듣는 사람들의 증가 추세 재용 - 계속 강의만 봐야하는 것이 싫었음 - 문제도 풀고, 과제도 하고 - 중간 중간 활동을 넣어서 학습자의 학습 시간을 늘린다거나, 상태를 파악한다거나 하는 것들 - 강의 내용들이 짧게 잘려있는 경우들이 많음 - 순서대로 듣는 것이 아니라, 학습자가 스스로 경로를 디자인할 수 있게 끔 - MOOC이 어려운 내용이 많음    교육 수준이 높은 사람들을 타겟으로 주홍 - 학생용 MOOC도 있으면 좋겠음 웅기 - 얼굴이 있고, 없고 재용 - 평가나 피드백 - 평가 과정을 자동으로 주고 피드백을 하는 연구    동료평가 - 글을 분석해서 피드백, 다른 형태의 평가에도 적용할 수 있을지?(코드, 글 스피치)두 가지 문헌을 활용하여 Learning Analytics for Learning Design에 대해서 발제하고자 함 두 가지 문헌은 아래와 같음 Wise, A. F., & Jung, Y. (2019). Teaching with analytics: Towards a situated model of instructional decision-making. Journal of Learning Analytics, 6(2), 53-69. Li, Q., Jung, Y., & Friend Wise, A. (2021, April). Beyond first encounters with analytics: Questions, techniques and challenges in instructors sensemaking. In LAK21: 11th International Learning Analytics and Knowledge Conference (pp. 344-353). Terminology Teacher Inquiry(교수자 탐구)  교사가 주체적으로 자신의 수업에 대해 탐구하고, 연구하는 것 Sensemaking: conscious process of comprehending patterns and connections, figuring out meaning and anticipating the future Teaching with analytics: Towards a situated model of instructional decision-making 1. Introduction 5명의 대학 강사들이 학습 분석 대시보드를 사용하는 과정에 대한 연구 연구에서는 인터뷰를 위한 질문지를 개발하고, inductive qualitative analysis를 통해 교수자들이 어떻게 1) 질문하고(asked questions), 2) 데이터를 해석하고(interpreted data), 3) 행동하고(took action), 4) 확인하는지(checked impact)를 확인함 2. Literature Review 최근, 강사들이 직면하는 학습 분석은 연구 혁신 분야에서 실제적으로 사용될 수 있는 기술로 이동하고 있음 초기 연구: 학습자의 데이터를 활용해서 교수자를 지원하기 위한 도구 설계에 집중됨 ex) Ali, L., Hatala, M., Gaevi, D., & Jovanovi, J. (2012): 도구에 대한 교수자의 이해에서 효과적인 시각화가 미치는 영향에 대한 연구 Second Phase: 실제 교수 상황에서 도구 사용 횟수, 시간, 특징 등을 중심으로 사용성을 연구하는 것 ex1) Dazo, Stepanek, Chauhan, & Dorn (2017): 일년동안 14명의 교수자를 대상으로 한 연구에서  대시보드 사용에 대한 낮은 빈도와 사용성을 발견함 ex2) Tarmazdi, Vivian, Sazabo, Falkner, & Falkner (2015): 한학기동안 한명의 교수자를 대상으로 한 연구를 통해, 교수자는 감성 분석 그래프(sentiment analysis)와 팀 역할 분석에 대한 특징(team role analysis features)을 규칙적으로 사용했음을 발견함 교수자가 실제 교수 활동 중에 학습분석 대시보드 사용하는 것에 어려움을 느낀다는 연구도 있음 ex) Dazo et al. (2017): 6명의 강사들을 대상으로 한 연구에서, 도구에 대한 높은 열정과 관련없이 학습분석을 통해 확보한 정보를 실제 교수 상황과 연결짓는 것에 어려움을 느낀다는 것을 발견함 Third Phase: 어떻게 교수자가 학습분석 결과를 행동 가능한 정보로 변환할 수 있도록 지원해줄 수 있는지에 대한 연구가 진행되고 있음 1. 교수자가 흥미로운 교육학적 질문을 발견하고, 교실에서 적절한 증거를 수집하며, 정답을 생성하기 위해 정보를 분석하고 반영하는 것    교육 실제를 바꾸는 것 뿐만 아니라 전문성 신장을 위해서    학습분석이 교수자 탐구 과정(Teacher inquiry cycle)의 다른 단계를 지원할 수 있다는 연구가 제시됨   ex1) Avramides, Hunter, Oliver, & Luckin (2015):  교수자 질의 과정(Teacher inquiry cycle)의 순서를 변경   ex2) Sergis, & Sampson (2017): 체계적 문헌 리뷰를 통해 학습분석이 교수자 탐구 과정(Teacher inquiry cycle)을 지원해왔는지 2. 학습분석과 학습디자인이 어떻게 학습자의 데이터가 교육적 목적을 달성하기 위한 학습 활동, 자료, 계획을 개발하는 반복적인 과정에 도움을 주는지에 대한 것   ex1) Lockyer, Heathcote, and Dawson (2013): 분석 정보의 두 가지 다른 개념적 카테고리를 이론화함    checkpoint analytics(whether students access the necessary resources)    process analytics(how students complete the learning tasks)   ex2) Bakharia et al (2016): 어떤 유형의 분석이 학습 디자인에 도움이 될 수 있는지와 특정 활동과 변화에서 학습자 참여를 알고 싶다는 교수자들의 의견을 확인함   ex3) Xhakaj, Aleven, & McLaren (2017): 어떻게 학습분석 대시보드가 교실 준비 중에 교사에 의해 실행될 수 있는지에 대한 연구를 진행함. 특정 자료에 대한 학습자들의 학습 과정을 제시하는 것은 학습 디자인을 확인하거나 적절하게 변형시킬 수 있도록 함. 3. 어떻게 학습분석이 교수자가 학습 과정을 관찰하고 그들의 교육 상황에 조화롭고 유연하게 적용할 수 있는지를 중점적으로 다루는 것   ex1) Molenaar, & Knoop-van Campen (2018): 교사들이 학생과 코스에 대해서 그들이 가지고 있는 교육학적 지식을 활성화해서 분석결과를 해석하고 반영한다는 사실을 발견함   ex2) Tan, Koh, & Jonathan (2018): 교사들이 학생들의 참여와 메타인지를 촉진시키기 위해서 분석 결과를 사용한다는 사실을 확인함 4. macro-level: 분석을 행동으로 옮기기 위한 기관 차원의 지원   ex) Rienties et al. (2016): 학생 모니터링의 일반적인 사이클을 참여시키거나, 위기 상황에 있는 학생과 언제 접촉할지 결정하는 것 3. Conceptualizing Instructors\\' Process of Analytics Use 3. 1. Analytics Use as Sense-Making and Response 과거에는 Sense-Making이 Response에 선형적으로 영향을 미친다고 생각했지만(좌), 최근에는 Sense-Making과 Response가 서로 영향을 미친다고 이해하고 있음 3. 1. 1. Sense-Making 교수자 탐구(teacher inquiry)는 전통적으로 분석의 Sense-Making을 촉진하기 위해 질문 식별이 중요해졌음 데이터 해석은 전체 데이터에 집중한 이후 세부적인 데이터에 집중하는 것임 그러나 교수자가 데이터를 활용하는 과정에서 어려움을 느낀다면, 과정을 멈추거나 참여를 멈출 수도 있음 교수자는 해석을 위해 학생과 코스 맥락에 대한 정보를 사용할 수 있음 3. 1. 2. Response 분석에 대한 반응(response)과 관련해서는 주로 서로 다른 종류의 교수적인 행동에 대해 연구가 이루어짐 Whole-class scaffolding(Orchestration):  교수자는 데이터 분석 결과에 기반해서 반 전체에 대해 어떤 처방을 할지 결정함 ex) 데이터 분석 결과 상당수의 학생들이 개념을 이해하지 못했다면, 개념을 지도하기 위해 추가적인 시간이 필요한지? Targeted scaffolding(Orchestration): 데이터 분석 결과에 기반하여 특정 학생에 집중하는 것 ex) 활동이 부족한 학생에게 이메일을 통해 개인화된 지원을 해주는 것 Revise their learning design: 교수자가 데이터 분석 결과에 기반하여 학습 디자인을 변경하는 것 Natural extension of taking an action: 학습자 활동이나 배움에 있어서 얼마나 의도된 영향을 미치는지에 대한 연구, 많이 연구되지 않음 3. 2. A Template for Inquiry into Instructor Analytics Use 4. Methods 4. 1. Research Partnership 해당 연구는 한 학기동안 개인에게 최적화된 학습 분석 대시보드를 사용한 5명의 교수자들을 대상으로 연구되었음 대시보드는 대학의 ITLAT(Instructional Technology Learning Analytics Team)에 의해 파일럿으로 개발됨 4. 2. Learning Analytics Dashboard 4. 2. 1. Dashboard Development and Implementation Process 교수자들과 ITLAT 미팅 - 코스 맥락, 관심있는 교육적 질문(pedagogical questions, ex. which students are not engaging with the online content in my course?) - 관심있는 학생 행동이나 성취 정보(ex. 시스템에서 학습자 클릭 횟수) ITLAT는 다양한 대학내 시스템에서 발생하는 데이터를 활용하여 교수자 맞춤형 학습분석 대시보드를 개발함 4. 2. 2. Learning Analytics Dashboard Features 4. 3. Participants and Courses 4. 4. Data Collection 학기가 끝나고 회고적 인터뷰(Retrospective Interviews)를 진행함  학기 중에 수집하는게 효과적이지만, 교수자의 부담을 생각하여 학기말에 진행 개인 인터뷰 실시(면담, 비디오 컨퍼런싱) 인터뷰 메인 질문 1) What they looked at in the analytics 2) how they made sense of the information provided 3) any instructional decisions made based on the 4) whether they checked the impact of their decisions in the analytics 4. 5. Data Analysis constant comparative method(Gibson & Brown, 2009) (참고): http://www.qualres.org/HomeCons-3824.html 5. Finding  & Discussion  아래 내용은 해당 표에 대한 내용들임 5. 6. A Model of Instructors\\' Analytics Use 6. Implications 6.1. Implications for Learning Analytics Design 6.1.1. Learning analytics should be designed to align with instructors\\' pedagogical practices 교수자는 개발자와는 다른 유형으로 생각함(한주간 수업, 활동 등)  데이터 구조가 아닌 교사의 관점에서 정보를 조직해야 함 교수자들이 필요할 때 데이터 분석 결과가 제공되는 것이 필요함 6.1.2. Learning analytics should be designed to support processes of use Embed support for question generation and maintenance - 학습분석 도구들은 질문의 생성과 유지에 도움을 줄 수 있는 특징을 포함하면서 이러한 과정을 지원할 수 있도록 설계될 수 있음 - 예들들어, 시각화된 형태의 질문은 유연하게 사용될 수 있음(태그달기, 주석 등) Incorporate visual aids to find entry points to the analytics - 교수자들은 전체 데이터보다 특정 부분의 데이터에 먼저 집중하는 경향이 있음    이를 지원할 수 있음 - 예를들어, 표형태의 데이터에서 토글이 가능한 도구를 활용해서 정보를 하이라이팅하는 도구로 지원가능 Help instructors to find and work with reference points for data interpretation - 이전에 비슷한 코스에서 수집된 데이터에 접근하는 것은 높은 정도의 관련된 참고 지점을 제공할 수 있음 - 절대적인 참조 지점은 교수자들이 수업 활동, 참여, 성취에 대한 기대를 정교화시키는데 도움을 줄 수 있음 Embed flags for later decisions to take action and check impact - 교수자의 기억에 의존하기보다, 교수자가 사전에 주석을 달아둔 패턴을 제공하면서, 교수자가 상황에 대한 기억을 되살리는데 도움을 줄 수 있음 6.1.3. Learning analytics should be designed to support sharing and conversations Support analytics sharing and conversations by offering de-indentified views - 분석 결과를 다른 교수자들과 공유하여, 협업, 해석, 토론, 그리고 반성해보는 과정은 잠재적인 프라이버시 문제를 야기할 수 있음  학습자 정보를 삭제하거나 숨겨서 제공하는 방법이 있음 Beyond first encounters with analytics: Questions, techniques and challenges in instructors sensemaking 1. ABSTRACT & INTRODUCTION 본 연구는 교수자들이 학습분석 툴을 사용했을 때, 교육 실제에서 분석에 대한 감각(sense of analytics)을 만드는 자세한 과정을 알기 위해 진행됨 학습분석 경험이 있는 13명의 교수자들의 sensemaking 과정을 인터뷰를 통해 확인함 Qualitative inductive analysis가 사용됨 (1) the questions they asked of the analytics (2) the techniques they used to interpret them (3) the challenges they encountered 2. RESULTS 초기 인터뷰 프로토콜은 교수자가 특정 학습분석 대시보드를 사용하는 것에 초점을 맞췄음 그러나 실제로 교수자들은 대시보드 이외에 LMS, 다양한 학습 도구, 시험, 비공식적인 커뮤니케이션 등에서 얻은 데이터를 모두 통합하여 답변함  따라서 초기 프레임은 전체 데이터 생태계(full data ecosystem)로 확장되었음 3. DISCUSSION AND IMPLICATIONS How instructors make sense of analytics: Questions, techniques, and overall data ecosystem Instructors developed three kinds of specific questions each with a clear pedagogical focus: 1. goal-oriented questions 2. problem-oriented questions 3. instructoin modification questions 세 가지 질문은 교육학적 지식과 맥락 정보를 활성화함으로써 교수자들이 분석에 대한 sensemaking에 참여하실 수 있도록 촉진함 예) 교육학적 목적에 대한 질문은 교수자들이 학생 행동 데이터와 바람직한 학생 행동을 비교하며 목적이 달성되었는지 아닌지를 비교할 수 있도록 동기화해주었음 교수자들은 이전에 관찰된 것보다 더 복잡한 방법으로 학습분석 결과와 상호작용하였음 - 질문을 생성한 후 데이터를 단순히 읽기보다, 데이터가 제공해주는 답에 대한 기대를 개발함    교수자들은 특정 학습 상황에서 데이터를 통해 알게된 시사점을 반영하기 위해 교육학적 지식을 사용했음 - 교수자들은 학습자 다양성을 밝히고, 교수적 실제와 학습 환경 변화의 영향을 확인하는 등 더 넓은 목적으로 비교 기술을 사용하였음 - 교수자들은 교육 상황에서 알게된 데이터를 분석 결과를 통합함  따라서, 대시보드에 대한 독립적인 질문만으로는 실제를 반영하기 어려움 Progressive challenges with analytic sensemaking 교수자가 마주하는 도전적인 상황 1. Seeking relevant information 2. Making analytics useful 3. Routinizing analytics use into teaching practices 이러한 도전적인 상황들은 학습분석의 sensemaking 과정이 자연적으로 이어질지로 이어짐 정보를 찾는 과정이나 거기서 시사점(insight)를 이끌어내는 과정에서 느끼는 좌절은 흔히 발견할 수 있으며, 잠재적으로 행동을 취하지 않거나 낮은 참여를 하는 문제까지 이어짐 교수자가 통찰(Insight)을 잃지 않고, 효과적으로 실천하기 위해 학습분석 sensemaking을 루틴화해야 함  루틴화되지 않으면, 다시 도전적인 상황에 빠지게 됨 Towards supporting analytic sensemaking: Implications for practice 준비를 위해 교수자들은 분석 방법에 대한 기초적인 시범보다 실제적으로 적용할 수 있는 인사이트를 위한 질문으로 부터 전체 과정을 겪을 수 있는 과정이 필요함(워크샵, 1대1 코칭 세션) 세 가지 질문이 교수자들이 데이터로부터 얻기 원하는 것을 설명할 수 있도록 프레임웍을 제공할 수 있음 루틴화를 위한 지원 - 코치가 교수자에게 적합한 데이터 시사점(relevant data view)을 제공해 줄 수 있음 교수자들이 sensemaking 과정 동안 교수자의 질문과 테크닉의 사용을 촉진하기 위해 교육학적 지원(pedagogical support)이 필요함 - 인간의 지원도 가치가 있지만, 자동화된 툴도 도움이 됨 - 질문 생성과 관리에서, 주석 기능이 추가 될 수 있음 - 반성(reflection)을 위한 프롬프트도 추가될 수 있음   ex) What do you think students\\' levels of access to the slides will be?   ex2) Do the results align with your expectations? - 학생 다양성과 변화에 대한 효과를 확인하기 위한 비교를 촉진하기 위해, 분석 도구들은 개인화된 필터 기준을 준비해야할 뿐만 아니라, 다름과 유사함을 이해하기 위해 하위그룹에 대한 다양한 메트릭스와 시간을 비교할 수 있도록 사용될 수 있음 - 교수자들이 전체 데이터 생태계를 개발하고 관리할 수 있도록, 시스템과 구조화, 비구조화된 데이터를 선택할 수 있는 기회를 제공해 주어야 함  논의할 문제  1. 여러분이 데이터를 기반으로 수업을 설계한다고 했을때, 가장 집중적으로 관찰하고 싶은 데이터는 무엇인가요? 2. 여러분들이 교사들을 대상으로 데이터 기반 수업 설계를 지도한다고 할 때, 예상되는 교사들의 반응과 그에 대한 대응 방법에 대해서 이야기봅시다. 3. 데이터를 기반으로 수업을 설계할 때, 예상되는 문제점은 무엇이 있을까요? 4. 앞으로의 수업 설계의 패러다임은 데이터 기반 수업설계로 바뀌게 될까요? 아니면 현재 상태가 유지되게 될까요? <준오, 용현, S영훈> 가장 집중적으로 관찰하고 싶은 데이터 학생들에게 피드백을 고전적인 방법으로 받고는 있다. 이런식으로 수업을 성찰하는 것도 데이터 기반 설계라고 할 수 있을까? 고전적인 피드백에 비해서 유의미한 정량적 데이터를 얻으려면, 과제 수행 등과 관련된 기존에 안보였던 영역에서 측정한 데이터가 있어야된다. 고전적인 피드백을 정량화/시각화 하여 나타내는 것만으로도 대시보드가 의의가 있지 않을까. 학습분석 도입 시 교사 반응 및 대응 방법 가중되는 부담.. 행정 업무 증가?!  (AI가 교사 업무를 줄여줘야한다!) 새로운게 도입되는 것에 대한 교사들의 거부감, 보수성. (우리나라 교사/학교의 특성인가?) 예산의 보수성에서 기인하는 것처럼 보이기도 한다. 실제 편의성, 실효성을 갖춘 뒤 도입하는 것이 필요하다 (e.g. 아이스크림) 교사들의 반응을 시스템에 반영되는 과정 혹은 최소한 그런 제스쳐가 필요하다.  우수사례 잘 수집해서 다른 교사들이 접근할 수 있도록 체계화. (플랫폼이 있다는 것은 활용 방법에 대한 공유도 가능하다는것) 데이터 기반 수업설계 예상 문제점 지역의 인프라 격차에 대한 고려가 필요하다. 교사가 기존의 방식으로도 피드백을 받고 발전하는 방향이 있었는데, 데이터가 제시하는 발전방향이 상충되는 경우 혼란이 될 수 있다. 수업 설계의 패러다임은 바뀔것인가? 갈길이 멀다. ( 표준화 플랫폼, 데이터 기반 수업설계 연구, 정책입안, 현장 연수, 학생들 학부모 참여의식 고취 ) <새록, J영훈, 지훈> 총평 영훈: 당연한걸 왜 굳이.. 교사가 개발자가 아니니 당연하게 개발자와 사고하는 방식이 다를텐데 지훈: HCI 연구 같이 느껴졌음, interactive Dashboard 새록: 대시보드의 정보가 오히려 편향을 만들어내면 어떡하지? \\'대시보드의 존재만으로 교수자가 학습자에 대해 가지는 편견이 사라질것이다\\'는 근거 없는 믿음에 대한 의심 영훈: 접속횟수와 같은 기본적인 로그결과는 학습자를 평가하는데 도움이됨(순기능). 그러나 그 정보만 의존해서 판단을 내리는데는 무리가 따를 듯(예. 게이밍하는 영악한 학생) 지훈: 이런 논쟁은 믿음의 영역에 가까운듯. 그럼에도 교육현상을 새롭게 바라볼 관점을 제공한다는 점에서 긍정적 새록: 자기보고식 설문데이터의 장단점과 활동로그의 장단점을 적절하게 융합할 필요가 있음.  수업설계 시 가장 집중적으로 보고 싶은 데이터 영훈: 교수자의 행동에 따른 학생의 태도변화. 교사의 전문성 예. 교사가 목소리를 작게했을 때, 온 교실이 주의집중이 될 때.. 왜그럴까? 새록: 인터페이스 측면에 대한 고민도 필요 예. 학습자의 인터페이스 수용도가 낮아 연구가 어려웠던 경험이 있음. > 애초에 활용도가 높은 대시보드가 개발될 필요성 영훈: 그런 것과 관련된 연구도 진행되는듯. 사용자의 자율성을 어떻게할지.. 지훈: 실제로 필요한 데이터가 무엇인지 알 수 없어서 수용도가 낮아지는 것은 아닐까, 교사가 그걸 알 수 있도록 해야 하는 것이 아닌지. 새록: 학습자가 의도하지 않았을 때, 자연스럽게 도출된 데이터를 얻고 싶음. 심지어 지금이 학습상황이라는 것에 대한 인지도 없는.. 이상적 실험설계상황 데이터기반 수업에 대한 교사의 반응 영훈: \"힘들다\" \"싫어요\" \"부담스러워요\" 코로나로 인해 도입되는 LMS 사용으로 인해 심리적 부담을 느낀 고령교사의 퇴직이 늘어나는 추세 지훈: 믿음의 영역 (예. 코로나로 5G 기지국 부신 영국) 영훈: 그래도 최소한 교사들이 데이터기반 결과에 대해 \\'헛소리다\\'는 반응은 없음 새록: 대응방법, 연수하는 것 패러다임 변화 지훈: 데이터 기반 수업과 그렇지 않은 수업의 퍼포먼스 차이가 명확하게 드러나면, 굳이 억지로 교육시키지 않아도 알아서 따라올 것 영훈: 성적은 데이터 기반 수업 아니어도 올릴 수 있음 새록: 꼭 코로나가 아니었더라도 데이터 기반 수업은 거부할 수 없는 패러다임, 대학-고등교육에서 먼저 사용한 뒤에 변화가 오지 않을까 영훈: 대학  초등  중 고등학교(입시로 인해)로 변화가 올 것 예상되는 문제점 새록: 위에 다 나와있음 영훈: 교수자 간에 발생하는 학생 개인정보보호 문제는 큰 이슈가 될 지 모르겠음. 지금도 학습자들의 개인정보는 충분히 공유가 가능한 상황이지만, 조심하고 있음. <웅기, 은선, 명진> 가장 집중적으로 관찰하고 싶은 데이터 - 은선: 경험이 적어서, 궁금함 / 동국대 학생들 대상으로 연구  참여도 데이터 수집에 있어서 학생들이 부담을 느낌 - 명진: 교육개발원에 있을때 방송중고 학생 대상으로 학습분석 연구진행  무성의하게 참여하는 학생들에 관한 데이터가 궁금했음(성실하지 않게 참여하는, 예를 들어 온라인 형성평가를 할 때 클릭의 시간차가 너무 짧으면 찍고 넘어가는 것으로 볼 수 있음) - 웅기: 출석률, 과제참여도 데이터 기반 수업 설계 지도  예상되는 교사들의 반응 - 명진: 코로나 이후 온라인 교육플랫폼(줌, ...)에 대해서 알고 있어야 하는데, 귀찮아하고 싫어하시는 분들이 많았음  비슷한 반응을 보일 것임(열정적인 분과 아닌 분으로 나뉨) - 웅기: 인공지능이 방법론적으로 쓰였을 때 효과가 좋을 것임. 아마 열정적인 분들(5%?)과 아닌 분들로 나뉘지 않을까.. 명확한 효과가 보이지 않는다면 참여하지 않는 사람이 많을 것으로 예상됨. 초등교사임고에서 교육학을 안봄! 교육현장에서 교육학을 말하는 것이 경시되는 분위기가 있음.. 실제적인 쓰임이 덜 보여서 설득력이 떨어지는 것으로 보임. - 은선: 현실적으로 많은 시간이 필요할듯 예상되는 문제점 - 은선: 실시간 원격수업 처음 실시했을때, 출석률  학생들이 메크로를 사용함  잘못된 데이터를 사용해서 수업을 설계할 수 있을 것 같다는 생각이 들었음 - 웅기: 기술적인 솔루션을 사용하면 어떨까?  이상탐지? - 명진: 교수님이 맞춤형 교육을 반대하심  아직 학창시절을 겪는 아이들의 데이터는 얕음. 그래서 맞춤형교육은 많은 도움을 주지 않을 것이라는 생각  실패도 경험이 되는 시기, 많은 경험을 하지 못한 데이터를 활용한다면 맞춤형이 아닐 수도 있음  맞춤형 교육이란 무엇인지? 맞춤형교육의 효과는 무엇인지와 같은 철학적인 문제부터 생각할 필요가 있음. 패러다임 - 명진: 교수설계에 관심을 가지는 사람들이 학습분석에 관심을 가지면 트랜드가 바뀔 것 같음, 필요성에 대해서는 인지하고 있음 - 웅기: 마케팅분야에선 코딩교육을 많이 받고 있고, 퍼포먼스마케팅(데이터를 기반으로 마케팅 전략을 디자인하는 방법)이 많음. 산업계는 돈버는 것이 목표이니 빠르게 적용됨. 공교육은 많은 시간이 걸려서 느리게 진행해가지 않을까 - 은선: 앞으로 정말 많은 시간이 흐르면 자연스럽게 바뀔 것 같음 <하경, 기원, 유경> 1. 여러분이 데이터를 기반으로 수업을 설계한다고 했을때, 가장 집중적으로 관찰하고 싶은 데이터는 무엇인가요? 유경 : 기업교육, 다수의 학습자  관리 차원의 데이터 (출석률, 과제 제출, 동영상 시청 여부) 기원 : 학생들이 반복적으로 듣는 구간이 있음. 왜 반복적으로 들었는지? 특정 구간의 난이도 파악 가능한 기능 제공 위해 노력 중.  동영상을 볼 때 자꾸 멈추는 부분을 보여주고, 메모할 수 있도록 푸시알람; 일주일 시작 알람, 주기적 알람, LRS(Learning Record Store), 동영상 수업, 과제 미제출시 푸쉬알림 유경 : 접속시간의 규칙성을 보여주는 타임테이블, 내가 설정한 타임테이블과 대조, 보상까지 연결지을 수 있음 하경 : 교수자가 주는 피드백에 의해 학생들이 어떤 영향을 받았는지발표자 소개 Logan, Unggi Lee 저자소개 $1$. Before we start 1) Terminologies 2) What is the Active Learning? 3) Active Learning Scenario 4) Active Learning Strategies 5) Core-set 6) 그 이후를 공부하려면 $2$. Using Past Data to Warm Start Active Machine Learning 1) 요약 2) Introduction 3) Contributions 4) Background Active Learning Algorithms(상단의 정리된 내용 참고) Student Affect Detection Active Learning for Affect Detection Role of Student Population in Affect Detection 5) Data 6) Analysis and Result Active Learning Experimental Design Baselines(Experiment Set #0) Within-Urbanicity warm start(Experiment Set #1) Between-urbanicity warm start(Experiment Set #2) Vary the initial batch size for the warm start(Experiment set #3) 7) Discussion Summary of results Implications for research Implications for practice Limitations and future work Reference 논의 발표자 소개 Logan, Unggi Lee 서울대학교 교육학과 교육공학전공 석사 (현) 내포초등학교 교사 몸무게: 72kg(최적화 중) 상세 프로필 https://dndrl.notion.site/Profile-Lee-Unggi-983504baa4fe41cdb9648d9ff184c139 저자소개 Ryan Baker 1 1. Before we start 1) Terminologies Warm Start vs Cold Start Active Learning Auto Labeling Logistic Regression Query Strategies 2) What is the Active Learning? Active Learning의 정의 Active Learning에 대해 배우기 전 간단한 이해 Active Learning의 필요성과 기본적인 개념 Active Learning  Auto Labeling 3) Active Learning Scenario Membership Query Synthesis Stream-Based Selective Sampling Pool-Based Sampling 4) Active Learning Strategies 1) Uncertainty Sampling 2) Query By Committee 3) Expected Model Change 4) Density Weight Method 5) Core-set 의의 Active Learning 문제의 재정의 Core-set 구현 알고리즘 1) K-Center-Greedy 2) Robust k-Center - 이상치를 고려, 제한사항 + Lower Bound 추가 6) 그 이후를 공부하려면 Learning Loss for Active Learning https://kmhana.tistory.com/10?category=838050 Discriminative Active Learning https://kmhana.tistory.com/12?category=838050 2 2. Using Past Data to Warm Start Active Machine Learning 1) 요약 교육 상황에서는 지도학습(supervised learning)을 위한 라벨링된 데이터를 확보하기 어려움 AL은 데이터 라벨링을 효과적으로 하는데 도움을 줄 수 있음 이 논문에서는 1. AL 훈련 과정을 warm start하기 위해 과거 데이터 사용 방법을 탐색함 2. 과거에 데이터가 수집된 다른 맥락(도시성, urbanicity)을 고려함 AL 기반 탐지기(detectors)의 개발을 위해, 중학교 수학 교실에서 수집한 라벨을 사용함 사용된 AL 방법 - uncertainity sampling - L-MMSE 결론: 과거 데이터를 사용한 warm start AL 모델은 타겟 집단의 도시성(urbanicity)에 기반한 방법에 효과적이었음 2) Introduction1. 요약 2. Related Work 3. Methodology Dataset Feature Engineering Model Training and Evaluation 4. Results Benchmarking for the Different Models A Use Case Scenario 5. Discussion 논의 1. 요약 대부분의 선행 연구에서는 값비싼 장비를 사용하여, 확장성이 떨어지거나 분리(diarizaion)를 위해 사용됨 본 연구에서는 대학 STEM 수업에서 세 가지 유형(Presenting, Administration, Guiding)에 따라 교사의 실천을 확인하는 비용 효과적인 방법을 제시함 스마트폰에 연결된 저비용 마이크를 통해 교사의 수업을 녹음하였음 대학교 STEM 수업에서 Classroom Observation Protocol을 통해 수집한 음성 데이터의 특성을 활용하여, 세 가지 유형(Presenting, Administration, Guiding)을 분류할 수 있도록 지도학습 모델(supervised models)을 훈련시킴 결과적으로 모델은 두 가지 가장 흔한 교육 상황을 80%의 정확도로 구분할 수 있었음 또한 학생이 온라인 플랫폼을 사용하고 있는지 아닌지를 구분할 수도 있음 2. Related Work Wang et al. Donnelly et al. Owens et al. James et al. 3. Methodology Dataset 칠래의 저성취 학교 4학년을 대상으로 한 ConectaIdeas라는 플랫폼을 활용하여 측정된 데이터 중에서 무작위로 선택한 47개의 음성 녹음 19명의 교사를 대상으로 한 녹음(18~77분) 교사의 스마트 폰에 44100 Hz로 연결된 Rode SmartLav+ microphones  https://ko.rode.com/microphones/smartlav-plus 수집된 데이터는 COPUS 코드에 따라 분류함 Feature Engineering MFCC Model Training and Evaluation Random Forest 4. Results Benchmarking for the Different Models 모델 평가를 위해 사용된 metrics: accuracy, precision, recall A Use Case Scenario 본 연구의 기술을 사용했을 때, 교사의 시간관리의 차이에 대해서 확인할 수 있었음 5. Discussion 본 연구에서는 오디오 데이터를 활용해서 다른 교수학습 상황을 구분하는 머신러닝 모델을 개발하였음 기여 - non-intrusive approach - 비용 효과성 논의  본 연구에서는 교사의 오디오 데이터를 활용해서 분류하는 모델을 개발하였습니다.  1. 오디오 데이터를 활용한 LA나 EDM 연구 아이디어에 대해서 논의해봅시다. 2. 오디오 데이터 외에 수집시 비용효과성이 있는 데이터는 무엇이 있을지 논의해봅시다. [신부경, 이웅기, 권현지] <논의 1> 비대면 학습상황에서 학습자에게 전달되는 음성의 영향 분석 (음성별 영향 차이 등) ex) 교수자 배경 소리 > 몰입도 증가, 음향학 어쿠스틱스(소리가 이동하는 방식) 활용하여 건축학에서 활용 중  오디오 데이터 > 음성의 높낮이, 강조점 등의 데이터를 활용하는 연구라면 음악을 활용한 교육의 효과를 알아보는 연구로 확장 가능  억양 및 톤에 따른 학습 몰입도 탐색 멀티미디어 자료의 배경음악, 어떤 음악 종류가 학습에 도움이 되는지 <논의 2> 텍스트데이터  자기성찰지 기록, 포트폴리오 등  활동 로그데이터  zoom 활동 기록, SNS 대화 데이터, 클릭 수, 클릭 위치, 게시판 이용 횟수, 로그인 횟수 등 \\'비용효과성\\'의 기준에 따라, text-to-speech의 비용효과성은 높을까, 낮을까? 이 논문에서 \\'비용효과성\\'은 \\'장비\\' 비용의 측면일 듯 (but 이런 것을 비용효과적이라고 부를 수 있을까... 노동의 대가는....) [백수진, 이재용] <논의 1> 오디오데이터를 활용한다는 것 = 시각자극이 사라져도 알 수 있는 것을 찾는 것 (눈을 감고 수업을 한다면? 다른 사람들의 수업을 귀로만 듣는다면?) (예) 교사의 목소리 + 웅성거림 + 교사의 목소리 : 아 웅성거릴 때에는 학생들이 활동을 하고 있는가보다 교사의 말투 분석 같은 내용을 가르치고, 교사의 말의 속도, 크기, 길이, 높낮이 (여러 선생님들의 자료 수집)를 분석해서 학생들의 이해도 분석 코로나19로 마스크를 끼고 수업할 때 마이크를 사용하는 교사들 있음  이때 소리가 학생들에게 어떻게 들리는가? 학생들의 정서에 어떤 영향을 주는가? 마이크를 쓸 때는 힘을 빼고 말하니까 어조가 단조로워지는 경향이 있음, 기계음으로 들림  졸릴 듯 상호작용 패턴 확인 교사와 학생의 대화가 오고가는 정도 확인 학생 간 토의에서 대화 패턴 확인 (누가 가장 많이 말하는가, 누가 누구와 가장 많이 말하는가 등) 교사의 성찰 돕기 self-monitoring 돕기, 자기장학, 수업성찰 교사들의 바람: 자기 수업에 대한 타인의 평가보다는 다른 사람들의 좋은 수업을 보고 배울 수 있는 기회가 많았으면 좋겠다. 수업에 정답은 없으며 다 다르게 수업할 뿐이다.  선생님만의 스타일을 만드는 방향을 추구하는 게 바람직할 듯. 카네기멜론 ClassInsight 프로젝트: 음성 데이터를 실시간으로 분석해 교사의 질문 후 대기시간 확보를 도와줌 Home Teachers have a lot of demands, and not enough time for as much professional development as they would like. ClassInSight uses sensors to collect data like student attendance, participation, facial expressions, and hand raises. The goal is to use these data to help instructors improve. https://ohlabcmu.wordpress.com/portfolio/classinsight/ <논의 2> 논의 내용 없음  [전영훈, 이은서, 이윤서] <논의 1> COP vs COPUS https://poorvucenter.yale.edu/Observation-Protocols-Teaching-Inventories https://www.ncbi.nlm.nih.gov/pmc/articles/PMC3846513/ 오디오 데이터를 활용한 LA나 EDM 연구 아이디어에 대해서 논의해봅시다. 은서: 네이버에서 음악 들려주면 정확한 음악 찾아주는 것(학습분석에서 활용시) 대화형 챗봇 , 말하기 평가/영어 말하기 평가 와 같은 구술평가,/과정중심평가 상황에서도 사용 가능. (학생의 반응데이터와 더하여 교사의 어떤 발화가 학습자의 반응을 더 이끌어낼수있을지, 학습자의 학습을 더자극할수있을지 알아내는데 유용할것.밑에 쓰셧네요 ㅎ) 오모나 지울게요! 예시 발화(지도서에 있는)의 교육적 효과를 테스트할 때 사용하면 좋을 것 같다. 윤서: 오디오 데이터를 활용해서 학습용 문답 로봇(siri처럼), 교사 발화를 연구해서 마치 임상장학, 동료장학처럼 얼마나 학습 목표 달성과 관련이 있는가  학생에게 적절한 비계 주기 프로젝트와 연결지어도 좋을 것 같다. 영훈: 억양 등이 쉽게 분석이 가능하다면 학습 성향 분석과 학습 코칭 가능. 첨언이 많느냐, 어휘 수준이 어떠하느냐. 많은 말을 하더라도 주술 구조가 완벽하느냐, 내용은 잘 알지만 문법적인 정리를 잘 못한다든가. / 인간의 발화 유형에 따라 청자의 반응과 심리가 달라진다.  학생 상담, 학부모 상담에서 활용 가능.  <논의 2> 오디오 데이터 외에 수집시 비용효과성이 있는 데이터는 무엇이 있을지 논의해봅시다. 없음,,,',\n",
       " 'Brida Choi': \"The 'trinity' of methodological approaches 세 가지의 방법론적 접근방식을 제시함 각 접근방식이 중첩되는 영역: 새로운 통합 또는 시너지를 창출할 수 있는 영역 Network-Analytic Methods SNA(Social Network Analysis)를 포함함 그래프 구조로 표현된 네트워크에서 행위자를 노드로 보는 것이 특징 각 노드 간의 연결 유형(affiliation, friendship, professional, behavioural interaction, or information sharing)은 네트워크의 특성을 정의함 중심성 측정(centrality measures)으로 각 행위자의 중요성을 정량화하고, 네트워크 내에서 평균값보다 수치가 높은 행위자를 중심으로 행위자 클러스트를 탐지함 (하위 네트워크 파악) 한계: 시간의존적 효과(time-dependent effects: 시간에 따른 데이터를 집계하지만, 해당 시간 내에 이루어지는 상호작용 패턴과 같은 역학을 나타내지는 않음)  이를 해결하기 위하여 SNA는 네트워크의 시계열 분석으로 확장되며 동적인 접근 방식을 취하고자 함 유의: 분석의 기본 요소로 '행위자'와 '사회적 관계'만을 독점적으로 다루지는 않음. SNA에서는 행위자(actors)뿐만 아니라 매개체(actors) 간의 초당적인(bipartite)한 관계를 통해 네트워크를 도출할 수 있음. (행위자-행위자, 행위자-매개체, 매개체-행위자-매개체, 행위자-매개체-행위자 등) Process-Oriented Interaction Analysis CSCL(Computer-Supported Collaborative Learning)에서 발생한 시스템 로그 파일에 기초해 학습자 개인 또는 상호 간의 활동을 계산하여 분석하는 기법을 추구함. 즉, 순차적인 패턴 인식 기법을 추구함 순차적인 패턴 인식 기법에 지능적인 계산 기술을 적용한 초기 사례: Mhlenbrock & Hoppe(1999) Content Analysis Using Text-Mining Methods CSCL 로그의 스크립트 말뭉치를 사용하여 자동 텍스트 분류의 유용성을 입증한 사례: Ros et al. (2008) 텍스트에서 주어진 단어의 순서를 고려하지 않는 방법도 있지만, 단어의 위치를 고려하는 방법도 있음: NTA(Network Text Analysis) NTA: 주어진 텍스트에서 개념 네트워크를 추출한다는 점에서, 콘텐츠 분석과 네트워크 표현을 연결하는 텍스트 마이닝 방식임. 이 방식을 적용할 경우, 다중 모드 네트워크를 형성할 수 있음. 즉, 개념-개념 관계는 위치-개인, 개인-도메인, 개인-개념과 같은 특정 범주 간의 유형으로 표현되며, 이러한 표현은 '중심성 측정' 또는 '네트워크 기반 클러스터링 기법'으로 하위 네트워크를 도출함 예시(Figure 2.1.)에 대한 설명 Example 1) Dynamic Resource Access Patterns in Online Courses 분석의 문제 상황 문제를 해결하기 위한 정교한 분석 방법 분석 결과 Example 2) Analyzing the Evolution of Ideas in Knowledge-building Communities 분석 대상 분석 방법 Discussions and Outlook  본 자료는 학습분석에 있어서 주로 계산적인 관점을 취했다고 밝히고 있습니다. 그렇다면 교육학적인 관점에서 본 자료의 관점을 바라보았을 때, 우리가 놓칠 수 있는 value 값들이 있을까요? <은서, 유경, 재용> 수치로 볼 수 없는 부분이 있지만 뭔지 명확하게 설명하기가 어렵다 ex) 네트워크 분석 엑셀파일에서 친하다고 생각하는 학생의 순위를 매기고 주제에 따라서 순위를 계속 매긴다 모든 학생의 결과가 모이면 학생들 사이의 관계가 드러난다 한번 해보고 안 했다. 이 시간을 들여서 분석하는 게 유의미한가? 교사가 이미 학생들을 보고 있는 상황에서는 유의미하지 않을 수 있지만 상담자료로 활용할 수 있다. 직접 관찰이 불가능한 상황에서도 유용하다. 이걸 가지고 학생들의 네트워크를 파악하는 게 정말 유효한 건가? 결측치도 임의로 평균으로 메꾸는데 그게 정당한가? 숫자로 표현되지 않는 요소가 분명히 있는데... 측정하기 어려운 요소 - 동기 같은 정의적 요소 숫자가 정말 어떤 구인을 대표하는가? 학습시간의 의미? 유치원생들에게 조끼를 입히고 다른 애들이랑 얼마나 가까이서 상호작용했는지 그림으로 그리는 연구 학생들은 말이 서툴기 때문에 텍스트로 하는 것보다 나을 수도 있다 결론) 학습분석의 결과는 그 자체로 현실을 100% 설명하지는 않지만, 인간이 사고하고 판단하는 근거로 활용할 수 있을 것이다. <주홍, 지훈> 맥락, 감정(동기), 태도 담기어려움 기록되지 않은, 기록되지 못한 행동들 - 노트 필기, 다운로드 여부 등 인용 네트워크에 워드 임베드를 추가하면 보완할 수 있을까?  <웅기 준오 해린> 웅기 : 방법론은 있지만 기술의 목적성이 불명확함. 연구를 위한것인가 혹은 활용을 위한 것인가.  준오 : 네트워크 분석에서 노드의 중심성을 많이 고려하는데, 그래프 전체의 통계적 특성도 중요하게 보면 좋을것 같다. 또한 그래프는 연결성을 단순하게 표현하는 도구이기 때문에 학습분석을 위해 고도화되어야 함. 해린 : 수행평가에 활용할 가능성이 보인다. (적극도 평가 성취기준 등) 그러나 성적 평가에 민감해진다면 부정적인 영향을 끼칠 수도. <재은, 혜원, 서연> 재은: 마이크로소프트의 사례. 메세지를 몇 번 올렸는지 등은 알 수 있음. 그 안에 있는 데이터 포인트들이 과연 다일까? 그 부분만 확인하면 학습성과로 이루어지는 것일까? 서연: 학습성과 말고 학습결손을 측정하는 데이터포인트는? 네트워크, 프로세스, 데이터마이닝을 활용했을 때도 설명할 수 없는 값들이 있지 않을까? 데이터포인트가 무엇인가요?(재용) 데이터에서 나온 지표. 해석의 대상. 단순한 지표를 결합하여 복합지표를 만들 수 있다 (ex) 팀즈 인사이트 사진\",\n",
       " '\\xad송유경': 'Predictive Analytics  : a group of techniques used to make inferences about uncertain future events   무엇을 예측하고자 하는가?  1) measurement of learning. ex) academic success, skill acquisition  2) teaching. ex) impact of a given instructional style or specific instructor on an individual  3) administrations. ex) prediction of retention or course registration  Predictive Modelling vs Explanatory Modelling 구분 Predictive Modelling Explanatory Modelling Goal 기존 데이터에 기반하여 새로운 데이터를 예측하거나 분류하기 위함 가용한 모든 evidence를 활용하여 이미 벌어진 일(outcome)에 대한 설명을 하기 위함 Example 나이, 성별, SES 등이 학생 성취도에 미치는 영향을 설명 특징 데이터에 기반하여 현재 상황에 맞추어 responsive하게 대응할 수 있음 이미 일어난 현상에 대한 사후의, 성찰적인 활동임 일반화 가능성 테스트 데이터셋으로 모델의 일반화 가능성 평가(validation) sampling technique에 의해 결정됨 (모집단을 얼마나 잘 대표하고 있는가) COUNT 4 Predictive Modelling Workflow 1) Problem Identification  예측모델링의 목적은 어떤 행동을 취하기 위함임. ex) 이 학생이 이 학위과정을 무사히 마칠 것인가?   결과에 따라 어떤 조치를 취하기 위함  따라서, 예측모델링의 목적을 정하는 것이 중요함!  problem의 중요한 특징  (1) quantifiable characteristics, clear outcome of interest, ability to intervene (2) 데이터의 깔끔성..?(data sparcity, noisy data)   \\'어떤 문제를 설정할 것인가\\'에 대한 고민은 교육학적 고민으로부터 시작할 것 같습니다. 교육 현장 내 어떤 문제를 예측모델링을 통해 해결할 수 있을까요? 2) Data Collection  데이터의 종류  (1) time-based data: 시간차를 두고 발생하는 데이터 ex) 모의고사 성적 (2) state-based data: 인구통계학적, 관계적, 심리적 특징 ex) 성별, 인종 등 (3) event-based data: activity 기반, ex) LMS나 모바일 학습도구 등에 남기는 로그데이터         이벤트 데이터 설계, xAPI  What data to collect!  필요없는걸 제거하는 건 쉽지만 필요한 걸 나중에 수집하기란 어려움   결과 변수와 그것과 관계가 있을 것으로 보이는 변수들 알아내기   feature engineering : 복잡한 (이벤트) 데이터를 예측모델링에 맞는 형태의 feature로 바꾸는 일  3) Classification and Regression    네 가지 타입의 데이터 : categorical, ordinal, interval, ratio  ordinal data: 순서는 있으나 각 데이터 간의 간격이 명확하지 않음. 1등부터 10등  nominal, ordinal  categorical (binary, P/F)  classification  interval data, ratio  numeric  regression  4) Feature Selection   관련 있는 것들만 찾아내기  ex) 중간성적이 기말성적을 잘 예측한다고 하였을 때, 중간고사 이전에 어떤 조치를 취하려면 중간 성적 말고 다른 feature 변수를 찾아내야 함  다중공선성 문제 : 여러 features 간의 상관관계 확인  feature 간의 독립성이 가정되어야 함 예) 학생의 질문 수와 출석 : 출석을 하지 않으면 질문을 못함..  결측치 확인   통계나 DS에서 Domain 지식이 중요하다고 하는 부분. 이것은 EDA를 통해서도 가능하지만 교육학적 이론에 근거할 때 더 확실한 feature selection이 가능할 것  (Exploratory)  5) Methods for Building Predictive Models 목적: 과거의 관련 데이터를 통해 미래의 혹은 unknown 데이터 예측 전제: 과거 패턴이 미래에도 적용될 것이다.  그러나? 실제로는 그렇지 않은 경우가 많음.  예) 과거에는 특정 과목의 수강여부가 특정 점수를 잘 예측해줄 수 있었음, 이는 시간이 지나면서 변화할 수 있음 예) 타이타닉 데이터  실제 선박사고에 참고할 수 있을까?   \"패턴이 유지될 것인가\"에 대한 판단과 해석에 교육학적 이론과 통찰이 필요하지 않을까요? 예측모델들 Linear Regression, Logistic Regression, Nearest Neighbors Classifiers, Decision Tree, Naive Bayes Classifier, Bayesian Networks, Support Vector Machine, Neural Networks, Ensemble Methods 여러 모델들의 정확도를 비교하는 논문? 보다는! 데이터 결측치나 데이터 편향성을 돌아보거나, 파라미터를 수정하는 데에 시간을 써라.  그리고 예측모델을 통해 발견한 사실들을 기존의 교육학적 이론과 연결지어 해석하는 데 시간을 써라 !! 6) Evaluating a Model  전체 데이터를 Training data와 Test Data로 나누기  Test 데이터의 예측값들을 실제값과 비교하기!  Training 데이터와 실제 예측해야하는 데이터의 유사성이 매우 중요함.  ex) 올해 학생들로 내년 학생들을 예측하고자 할 경우, 올해 학생들과 내년 학생들의 유사성이 중요 Predictive Analytics in Practice  다양한 사례가 축적되고 있음 심리적 구인도 예측되고 있음(discourse data, facial characteristics를 통해)  Challenges and Opportunities  1) 문턱 낮추기(컴퓨터공학자가 아니어도 예측모델링을 할 수 있도록)  2) 커뮤니티 만들기(오픈 데이터나 실행결과 공유 커뮤니티, 캐글처럼?) 3) Second order predictive modeling 에 집중하기 First order: 학생이 학습자료와 얼마냐 상호작용했느냐로 drop out을 결정하기  Second order:  intervention의 효과와 관련하여 예측하기, 어떤 intervention이 효과적인가 등  교육학은 기본적으로 사람을 성장할 수 있는 존재로 보기 때문에 특정 의사결정을 위한 예측모델보다는 학습자의 성장을 도와줄 수 있는 방향으로 사용하는 것.. Roles of theory and data as drivers of educational research. \"Have we reached the point of \\'the end of theory?\\'\"  Unlikely  모든 고민은 교육학적 고민에서 시작하여, 설명 혹은 예측을 하고, 발견점을 교육학적 이론과 연결지어야 함  함께 생각해봅시다   \\'어떤 문제를 설정할 것인가\\'에 대한 고민은 교육학적 고민으로부터 시작할 것 같습니다. 교육 현장 내 어떤 문제를 예측모델링을 통해 해결할 수 있을까요? \"패턴이 유지될 것인가\"에 대한 판단과 해석에 교육학적 이론과 통찰이 필요하지 않을까요? 교육학은 기본적으로 사람을 성장할 수 있는 존재로 보기 때문에 특정 의사결정을 위한 예측모델보다는 학습자의 성장을 도와줄 수 있는 방향으로 사용하는 것.. <혜원, 주홍, 현지> 드랍아웃 외의..  -잠재된 능력을 예측할 수 있으면 좋을 것 같음. > 교사가 알아챌 수 있는 데이터도 중요하지만 알아채지 못하는 데이터를 알게된다면 좋을 거  같음. -지식의 생명주기가 짧아지고, 더 이상 고정된 지식을 암기하는 것이 아니라 현장에서 계속적으로 학습할 수 있는 역량을 학습하는게 중요하다. AI기술을 어떻게 끝까지 끈기있게 가져갈 수 있는가의 맥락에서 자기효능감과 같은 요인을 예측할 수 있으면 좋을 것 -가장 중요한건 학습동기라서 그 부분을 예측할 수 있으면 좋을 것 같다고 생각함 -변화에 대한 적응력등을 측정할 수 잇으면 좋을 것 같음 -암묵지를 어떻게 측정할 수 있을지 궁금하다. > 데이터 수집에 관한 문제로 이어질 것 -성별, 나이, 코딩테스트 성적, 주간학습???(설문조사)..를 통해 데이터 수집 자기보고식 설문의 대안: 바이오데이터(아이트래킹 등) <지훈 준오 은서> 지훈 : 학교교육으로 현장을 제한하지 말고 평생교육 관점으로 생각하자. (ex : 이직률, 주전공 + 타학문과의 연계 결정 및 시기를 바탕으로 한 정책지원결정) 준오: 사범대만으로 보더라도, 교사 외에 다양한 진로선택이 이뤄지고 있으니 졸업자 추적조사 자료를 활용해서 정책지원결정 은서: 학업성취 부진 예측  적절한 교육개입 자유학기제 시행 시기 예측모델링, (초등학교 생활데이터 사용?) 2번 질문: 답이 정해져있는 질문인가 3번 질문 지난주 윤리관련 토론과도 연관 학생의 성장을 위한다는 말이 사실 고부가 가치를 가진 지식노동자를 생산하기 위한 변명아닐까? 3팀 해린: 어떤 문제를 예측할 수 있을까? 드롭아웃, 성적 / 예전과 달라진 변수 유경: 한국 맥락에서는 드롭아웃을 잘 하지 않는 편? 웅기: 도메인 지식 = 교육학적 이론, 통찰 + 인지과학, UI/UX + 의공학 등.. https://biz.chosun.com/site/data/html_dir/2017/09/01/2017090102160.html학습 환경 내 추천 시스템을 개발하고 평가하는 것을 목적으로 함  \"how to set up and run a recommender systems experiement\" <순서>  추천시스템 개요 추천시스템 평가(챕터 내용)  Movielens 실습  추천시스템 개요 What is the Recommender System? 사용자로부터 아이템에 대한 선호도 여부를 데이터화하는 시스템  : explicit feedback(평점 등)  / implicit feedback (사용자의 행동패턴 등)  Why Recommender System?  \"the paradox of choice\" (B. Schwartz, 2004) 추천시스템 구분 Content-based vs Collaborative Filtering Content-based Collaborative Filtering 추천시스템 평가 Q. 추천시스템이 정말 사용자에게 도움이 되고 있는가?  Q. 어떤 시스템이 좋은 추천시스템인가? 사례 Social Learning Platform : ODS(Open Discovery Space) Goal: Which recommender system best suits the data of a social learning platform  1.  데이터셋 선정하기  2.  offline data study of different algorithms  3.  사용자(학습자) 연구하기   4.   추천시스템 전개(적용)하기    교육, 학습 도메인에서 어떤 추천 시스템이 좋은 추천 시스템일까요?  (책에서는 단순 accuracy를 넘어서 usefulness, novelty, diversity 등의 지표를 충족시켜야 한다고 했습니다. 이 말이 의미하는 바는 무엇일까요? 단순히 강의를 더 듣게 한다고 좋은 추천일까요? 학습에 도움이 되는 추천시스템은 어떤 것일까요?)   MOOC와 같은 환경에서는 어떤 추천 알고리즘을 사용하면 좋을까요? content-based / collaborative filtering   <해린, 준오> 1. 유튜브 영상만 보고 확증편향에 빠지는 사례들을 최근에 많이 봤기때문에, 교육적으로는 다양한 입장의 컨텐츠를 추천하는게 필요해보임 (diversity) 어른보다 주관 확립이 덜 된 학생들에게는 특히 더 영향을 줄 수 있기 때문에 추천시스템만 뜨는건 주의해야한다. 오히려 관심 없거나 흥미 없는 영역이나 분야를 보여주는 기능도 있어야 한다.  의도적으로 약간 다양한 추천 (연관성이 좀 적거나) 이 필요한 경우도 있겠다. Collaborative filtering은 정형화된 비슷한 성향의 학생을 양산해 낼 우려가 있다. (A도 하는데 B랑 C도 하는 차별성이 학생의 경쟁력, 개성(novelty?)이 될 수 있음) 2. 네이버 쇼핑 AI쪽에서 최근 개별 상품 추천을 넘어서, 어울리는 상품의 묶음을 추천해주는 기술을 연구하고 있음, MOOC에서는 이거를 커리큘럼?형식으로 제시해줄수 있지 않을까. ( 네이버니까 둘다 활용하려고 하지 않을지? ) MOOC에서는 다양한 연령과 인종 집단 등이 있기 때문에 collaborative 방식이 특히 유용할 것 같다. (개인의 특성이 고려된 방식으로) 선수과목에 대한 추천? 그리고 이후 수강할 과목에대한 추천? (순서를 좀 고려해서) 선수과목 전체에 대한 지식이 필요한게 아니라 일부만 필요한 경우, 특정 챕터만 강조해서 추천해주도록. 관심 없는 챕터는 패스할 수 있도록.  수강평같은걸 쓸때 선수지식에 대한 질문란을 따로 만들어주면 도움이 되지 않을지? (별로 힘든것도 아닌데 의무화 해도 괜찮지않을까?) <웅기, 은서, 영훈> 추천시스템 - 은서: ? - 영훈   - 강의영상에서 선호도 평점을 매기는 것보다 성취기준에 알맞는 문제를 제공  추천   - 학습양식에 따라서 다른 형태의 학습 자료를 제공 - 웅기   - 시간의 규칙성, 플랫폼 종속시간을 종속변수로 두면 어떨까? 추천시스템 - 웅기   - 썸네일 - 영훈   - 교육영상들의 썸네일만 보여주고 감성분석을 하는 연구도 있음 - 은서   - 다른 사람들이 강의 전후로 강의를 보여주는 것(learning path) 연구아이디어 - 은서   - 강의를 듣고 나서 피드백 리뷰  핵심어를 뽑아서 키워드 - 영훈   - 강의 내용 중에서 키워드를 뽑아내는 것 - 웅기   - 타임라인에 추천  자동 예고편 - 영훈   - Kix랩 https://www.kixlab.org/ <영훈, 유경, 현지>  영훈 :   -usefulness > (유용성)에 대한 가치 판단 기준 > 수업 권한을 가진 교사가 선택을 할 수 있도록 기술적으로 제공 해야한다. (가중치 설정 가능하도록) ex) 같은 5학년 선생님이라도 1반의 현황, 2반의 현황에 따라 유용성 기준 다름 / 기계적으로 보면   -novelty >정규분포에 끝에 있으면서, 연관성을 가진 컨텐츠 / 참신성과 무관함의 사이에서 참신성을 보여주는 시스템..!  -diversity 사회적인 영향으로 발현되는 편향성을 제거한 컨텐츠  유경 : 난이도와 연계성 등 고려한 교육 컨텐츠 제공  현지 : diversity > 지식/기술/태도 전인적인 발달을 위한 균형적인 컨텐츠 제공 / 윤리, 지속가능성  추천 시스템으로 신규 컨텐츠가 상위 콘텐츠로 상향하기에 불리한 부분 있음 > 이 부분 고려해야  2. content-based / collaborative filtering   영훈 : 학습자 성향이 장독립적 학습자 > content-based / 장의존적 학습자, 심리적인 부분을 다루는   > collaborative filtering. 혼자 하나만 막 파는 학습자 :content            수학같은 과목은 content, 사회과목 등 CF      사람들의 심리가 작용되는 부분. 토론같은 거 할 때,      자라온 환경 등에 따라서      나와 다른 환경의 학습자는 어떤 콘텐츠를 볼까 유경 : 연계학습 > content-based / 소셜러닝에 강한 학습자  collaborative filtering / 유사성이 강한 학습자들이 본 콘텐츠만 보는 것이 과연 교육적인가 현지 : 학습자의 선호도를 추천하는 정확도의 관점에서  content-based + collaborative filtering  시너지 > 구체화 / 학습자 수준을 고려해서 유저간의 유사성을 보는 것이 좋을듯',\n",
       " 'Juno Hwang': '문항반응이론에 대한 간단한 소개 A brief introduction to IRT.pdf 654.0KB 모든 예측모델이 그렇듯이, Why? 에 대한 의문을 해결하기 어려운 경우가 많다. 관찰된 법칙에 대한 이론을 세우는 것은 연구자가 해야 할 일. 여기서 Explanatory models라고 부르는 것은 예측이 갖는 의미를 해석할 수 있거나, 혹은 why에 대한 의문을 풀어나가는데 도움이 되는 모델을 이야기하는 듯 하다. Cognitive model discovery Covnitive model이란 인지과정을 근사적으로 표현하는 모델이다.  지식, 개념, 역량과 같이 인지적이고 관찰할 수 없는 요소들을 문제 해결의 단계적 대응이라는 관찰 가능한 요소를 통해 표현하려는 시도.  따라서 적응형 학습의 구현에 중요하다.  Knowledge component (KC) : 특정 작업 또는 문제해결 단계를 성공하기 위해 필요한 사실, 개념 또는 기술 통계적으로 이를 형식화 한 것을 KC model 또는 Q-matrix 라고 하며, 여기에  문항반응이론을 좀 변형해서 결합한게 additive factor model (AFM) 인 것 같다. Q-matrix method : 오개념을 파악하기 위한 이진(boolean) 행렬 표현. Concept - question relation을 관련있으면 1, 아니면 0으로 표현한다. 때문에 attribute-by item incidence matrix라고도 한다. 자주 쓰이긴 하는데, 이 명칭보다는 KC model이 더 많이 쓰이는듯. 학생들의 응답에 의해 문항(q)과 개념(con)사이의 대응관계를 나타낸 예시.  한번에 뚝딱 만들어지는게 아니라 수정을 거치며, 알고리즘적으로 생성할 경우에는 무작위로 초기화된 q-matrix에 대해서 경사상승법(hill-climbing algorithm)을 사용한다(to avoid local minima). 이진 값이 아니라 학생이 옳게 응답할 확률로 나타낼 수도 있음. (Brewer, 1996) 학생의 개념이해 여부를 나타낸 이진 벡터인 concept state  c c 와 q-matrix  Q Q 에 대하여, ideal response vector (IDR)는 다음과 같이 표현된다. ( 는 not 연산자 ) textrm{IDR}=neg((neg c)Q) IDR=((c)Q) 위의 q-matrix에서 예를 들어  neg c=1001 c=1001 이라면  (neg c)Q=101001 (c)Q=101001 인데 이는 학생이 제대로 풀 수 없는 문제에 해당함. 따라서 IDR vector는 학생이 문제를 풀 수 있는지 여부를 나타냄. Barnes, T. (2005). The Q-matrix method: Mining student response data for knowledge. Proceedings of AAAI 2005: Educational Data Mining Workshop  www.aaai.org https://www.aaai.org/Papers/Workshops/2005/WS-05-02/WS05-02-006.pdf Additive factor model (AFM) :  문항반응이론 모형의 살짝 변형된 버전으로, additive라는 말은 skill parameter들의 선형결합에 의해 표현된다는 취지로 쓴 용어임. p_{ij}=Pr (Y_{ij}=1  theta_i, vec beta , vec gamma)=sigma (theta_i+sum_{k} q_{jk}beta_{k} + sum_{k}q_{jk}gamma_kT_{ik}) p ij =Pr(Y ij =1 i ,  ,  )=( i + k  q jk  k + k  q jk  k T ik ) 여기서  sigma(x)=1/(1+e^{-x}) (x)=1/(1+e x ) 인 sigmoid 함수이고 Y_{ij} Y ij  : 문항 j 에 대한 학생 i 의 응답 theta_i  i  : 학생 i 의 숙련도 beta_k  k  : 기술(skill) k 의 어려움 gamma_k  k  : 기술 k 를 습득하기 위한 learning rate T_{ik} T ik  : 학생 i 가 기술 k를 습득하기 위해 투자한 시간 q_{jk} q jk  : q-matrix의 jk-성분. 즉 문항 j가 기술 혹은 개념 k와 관련있는지  여부 Conjunctive factor model (CFM) :  확률이 한 번의 선형결합 후 sigmoid 에 의해 결정되는 것이 아니라, 각 스킬 요소의 logistic regression에 의한 곱으로 표현되는 모델. 개인적으로 운전면허 실기시험 같은 상황에 적합하다고 생각함.  p_{ij}=prod_k sigma(theta_i+beta_k+gamma_kT_{ik})^{q_{jk}} p ij = k  ( i + k + k T ik ) q jk Cen, Hao, Kenneth Koedinger, and Brian Junker. \"Comparing two IRT models for conjunctive skills.\" International Conference on Intelligent Tutoring Systems. Springer, Berlin, Heidelberg, 2008. pact.cs.cmu.edu http://pact.cs.cmu.edu/koedinger/pubs/Cen%2C%20Koedinger%20%26%20Junker%2008.pdf Data-driven cognitive model improvement Difficulty factor assessment (DFA) : 과제를 각각의 요소로 분해하여 분석하는 관점. 처음부터 적절한 q-matrix를 만들 수 없기 때문에, 전문가에 의해 아래의 과정을 반복하면서 refine한다. 학습곡선을 시각화해 분석하고, 주어진 KC model에 대해 AFM을 최적화시킨다. 문제와 관련된 KC를 규명하고, KC model을 수정한다. 수정된 KC model에 대해 AFM을 다시 최적화하고, 데이터에 더 잘 부합하는지 본다. Human-machine student model discovery and improvement using Data, Stamper et al. , 2011 www.researchgate.net https://www.researchgate.net/publication/221297301_Human-Machine_Student_Model_Discovery_and_Improvement_Using_DataShop DataShop이라는 플랫폼의 Geometry area (1996-97) 학습 기록을 사용. 위 그래프의 각 title이 KC에 해당하며, X축은 학습기회, Y축은 문제풀이에 대한 error rate. 학습곡선이 부드럽게 하강할 수록 KC가 잘 설정되었다는 것을 의미한다. 위에서는 compose-by-addition KC의 학습곡선이 이상한데, 이걸 눈으로 봐서 알 수도 있지만 AFM돌려보면  gamma_k  k  가 이상한 값으로 나오는걸로부터 찾아낼 수 있다. 혹은 AFM의 파라미터가 정상적이더라도 error rate에 대한 시계열 예측 성능이 낮으면, 학습곡선이 bumpy하다는 것을 의미한다. 이런 식으로 KC가 잘못 정의되었음을 찾아내어 q-matrix를 개선할 수 있다. Koedinger et al., 2013 에서는 실제로 이것이 학습에 도움이 됨을 보였다. Learning factor analysis (LFA) 수작업으로 하던 KC model refinement에 들어가는 노동력을 줄이기 위해 고안되었다. 데이터를 가장 잘 설명해주는 best-fitting KC model을 symbolic하게 뱉어줘서, 완전 자동화는 아니더라도 사람의 노동을 상당히 줄여주는게 목적이라는 듯 하다. KC모델은 concept의 수를 늘리면 모델 파라미터 (q-matrix,  beta_k  k ,  gamma_k  k ) 수도 같이 늘어나기 때문에 무조건 overfitting 된다. 따라서 데이터를 잘 표현하면서도 overfit을 막기 위해서는 성능 + 모델파라미터 수를 같이 평가해주는 지표가 필요한데, 여기서는 Akaike information criterion(AIC) 과 Bayesian information criterion (BIC)를 사용했다. 이렇게 number of concepts 를 결정해도 KC model space를 전체탐색하는 것은 너무 비효율적이기 때문에, A-star algorithm (게임NPC의 길찾기 알고리즘에 많이 쓰임)으로 경로탐색하여 KC model을 찾고 AFM을 피팅한다. 실제로 이렇게 반자동화된 KC와 전문가에 의해 작업된 KC를 교차검증해보니 꽤 우수했다고 한다. 기존에 구한 KC model과 새로운 문항 데이터셋에 대한 KC모델의 쉬운 통합을 위해  저자(Koedinger)가 요즘 노력중이라고 함. 어마어마한 연구력... 카네기 HCI 교수이시다. Cen, Hao, Kenneth Koedinger, and Brian Junker. \"Learning factors analysisa general method for cognitive model evaluation and improvement.\" International Conference on Intelligent Tutoring Systems. Springer, Berlin, Heidelberg, 2006. citeseerx.ist.psu.edu https://citeseerx.ist.psu.edu/viewdoc/download?doi=10.1.1.297.2141&rep=rep1&type=pdf Automated cognitive model discovery using SimStudent 중학생(?)에게 algebra 가르치는 대화형 인공지능 프로그램. 직접 보는게 제일 좋다. 교수자(여기서는 중학교 학생)의 행동과 가르침을 보고, 규칙에 의한 절차적 지식을 학습할 수 있는 머신러닝 모델이다. KC가 전문가에 의해 구성되는게 아니라 실제 학습과정에 있는 학습자에 의해 구성되기 때문에 learning trajectory를 파악하는 능력이 전문가보다 뛰어난 것으로 나타났다. 다만 symbolic representation이 가능한 절차적 과제에 대해서만 적용 가능하다는 한계가 있는 것 같다. 방정식의 표현에 따른 problem abstraction level을 학습된 모형의 error rate를 바탕으로 정의한 점이 굉장히 독창적이라고 생각한다. 그래프에서 전문가에 의한 모델보다 SimStudent가 더 우수함을 알 수 있다. Li, Nan, et al. \"Integrating representation learning and skill learning in a human-like intelligent agent.\" Artificial Intelligence 219 (2015): 67-91. Integrating representation learning and skill learning in a human-like intelligent agent Building an intelligent agent that simulates human learning of math and science could potentially benefit both cognitive science, by contributing to the understanding of human learning, and artificial intelligence, by advancing the goal of creating human-level intelligence. https://www.sciencedirect.com/science/article/pii/S0004370214001349 Comparison to other work Cognitive model에 기반한 방법들은 단순한 예측 모델보다 성능이 더 좋고 쉽게 해석 가능하기 때문에 explanatory하다. (예측모델은 parameter를 키워 성능을 올릴 수 있지만, 그럴수록 해석성이 떨어진다. e.g. multinomial regression) 특히 교수학습과정이나 평가를 수정하는데에 직접적인 도움이 될 만한 정보를 담고 있다. LFA와 같은 모델들은 \"human-in-the-loop\", 즉 개발 과정에 해당 분야의 전문가를 요한다. 이것은 그냥 무식하게 데이터를 집어넣는 예측모델에 비해 비싸지만, 결국 설명적인 모델을 얻을 수 있도록 해준다. 이 과정을 자동화하거나 단순화한 여러 모델들(Gonzlez-Brenes & Mostow, 2012; Lindsey, Khajah, & Mozer, 2014)이 있지만, 역시 노동력과 interpretabililty사이에는 trade-off 관계가 있다. (꼭 human-in-the-loop가 좋다기보다는, 상황에 따라 적절한 방식을 택하는게 좋다고 받아들여야 할 듯) Ordinal SPARFA(sparse factor analysis)-Tag : 또 다른 human-in-the-loop 유형의 모델로, q-matrix 비슷하게 문항-개념을 연결해주는 역할을 하는 W 행렬이 희소행렬(sparse matrix, 대부분의 성분이 0인 행렬)이 되도록 한 모델.  학생의 개념을 나타낸 행렬 C와 문항 자체의 난이도 행렬 M을  sigma(WC+M) (WC+M) 형태로 연산해, 문항에 대한 응답을 추정. Ordinal 버전은 이런 과정을 서열척도에 적용할 수 있게 만든 것으로, 사실 ordinal IRT의 모형과 수학적인 구조는 동일하다. Multidimensional IRT과의 차이점은 IRT는 W에 대한 제약이 없는 반면, SPARFA는 oracle support assumption이라는 특별한 가정을 하는데 이는 해당 분야의 전문가에 의해 문항과 개념의 연관성 여부를 미리 선정하여 W에서 0이 들어갈 자리와 실수가 들어갈 자리를 제약한다는 것이다. 이를 통해 IRT보다 해석성 있는 결론에 쉽게 수렴할 수 있다. Lan, Andrew S., et al. \"Sparse factor analysis for learning and content analytics.\" arXiv preprint arXiv:1303.5685 (2013). Lan, Andrew S., et al. \"Tag-aware ordinal sparse factor analysis for learning and content analytics.\" arXiv preprint arXiv:1412.5967 (2014). arxiv.org https://arxiv.org/pdf/1303.5685.pdf www.csl.cornell.edu https://www.csl.cornell.edu/~studer/papers/13EDM-sparfatag.pdf Student Grouping Conceptual modeling 이나 item response modeling 이외에도, 특성을 바탕으로 학생을 clustering하는 것 또한 explanatory하다. K-means나 spectral 클러스터링은 테스트에 대한 학생의 예상응답수준을 바탕으로 군집화한다. Liu and Koedinger 2015 연구에서는 AFM을 바탕으로 학생을 군집화하는 방법을 제안한다. AFM으로 구한 잔차(residual; 예측값과 관측값의 차이)를 바탕으로 (1) 예측보다 느리게 학습하는 그룹과 (2) 예측보다 빠르게 학습하는 그룹과 (3)예측에 거의 일치한 속도로 학습하는 그룹을 나누었다. (하지만 특별히 시사하는 바는 없는 듯 합니다) Liu, Ran, and Kenneth R. Koedinger. \"Variations in Learning Rate: Student Classification Based on Systematic Residual Error Patterns across Practice Opportunities.\" International educational data mining society (2015). files.eric.ed.gov https://files.eric.ed.gov/fulltext/ED560874.pdf Toward Building Explanatory Models 선형/다항회귀를 제외한 거의 모든 예측알고리즘은 수렴성이기 때문에, 최적해에 도달하지 못할 가능성이 있음은 물론이고 모델을 해석하는데에 어려움이 있다. 이 절에서 다룬 explanantory models는 분야의 전문가의 도움을 통해 clean한 파라미터와 해석성을 얻을 수 있음을 시사한다. 이상 문항 데이터에 대해 주로 다루었지만, 언어 데이터를 활용하는 것 또한 고려해야 한다.  언어 모델의 접근에는 소위 bag-of-words라 불리는 순서 신경 안쓰고 빈도만 따지자는 관점이 있는가 하면 더 정교한 모델이 있다. 자연어 모델의 발전은 해석성에 큰 기여를 할 것 (집필시기인 2017년에 비해 최근 수년간 NLP에서 어마어마한 발전이 있었으니 아마 뭔가 많이 했을 듯. 그러나 일단 Koedinger의 최근 연구를 찾아보면 NLP는 안건드리고 knowledge tracking쪽에 관심이 있는 것 같다.) Affective AutoTutor : 컴퓨터 리터러시 교육을 위한 튜터링 시스템으로, 자동적으로 학생의 혼동, 좌절감, 지루함 등을 실시간 모델링한다. Non-affective 버전의 auto tutor보다 저성취 학생에게서 더 우수한 효과를 보였다고 한다. (uncanny valley... 차라리 캐릭터화 했다면) Affective tutoring system의 개발을 위해서는 학생의 반응에 대한 해석성이 필요하다. Facial responces from affective autotutor 저자는 파라미터가 적은 모델이 해석성이 높다고 여기면서 다시 한 번 예측과 해석성의 trade-offs관계를 강조한다. (General하게 맞는 말이지만, 최근에는 multimodal transformer같은 신기술을 통해 많이 극복하고 있는 추세이다.)    Discussion  1. Data-driven model을 사용하지 않더라도 분명 교사는 학생들을 암묵적으로 cognitive modeling하고 있을 것입니다. 교사가 직접 하는 cognitive modeling에는 무엇이 있을 것이며, 이 가운데 data-driven model로 구현되지 않은 것에는 무엇이 있을까요?  2. 엔지니어와 통계학자들이 모든 기술적인 문제를 다 해결했다고 치고, 무엇이든 개발 가능하다고 상상해봅시다. 궁극의 cognitive model (혹은 explanatory model) 은 우리에게 무엇을 알려주어야 할까요? 즉 우리는 학생에 대해 뭘 알기를 원하는걸까요? 그리고 그것으로 구현할 수 있는 교육적 서비스에는 무엇이 있을까요?  위의 두 질문을 통해 explanatory model이 나아갈 방향을 찾을 수 있을 것 같습니다. <주홍, 혜원, 은서> 지식이 아닌 역량, 문제해결력 같은 것 인지모델을 통해 이해를 했나 안했나를 알 수 있으니, 이 결과를 통해 오히려 역량이 행동으로 어떻게 확인될 수 있는지를 찾을 수 있을 듯 교사의 머리 속에 있는 인지모델 ~ 인문학적 과목이나 예능과목 문제해결력 외에도 여러 역량들(창의융합 등)도 이를 통해 알수 있으면 좋을 것 <현지, 유경, 지훈> 심리적인 구인들을 모델링할 수도 AI교육해보며느 학생들은 자신이 끈기있게 학습할 수 있는 grit, 동기, 정서가 학업성취와 관련이 깊다고 생각. 이런 것을 모델링해야지 <웅기, 해린, 준오> 준오: 구성주의, 단순한 수학문제를 푸는 경우에는, 같은 컨셉이라도 학생들이 어떠한 방식으로 이해했는가? 학생들이 멈추는 포인트도 단서가 될 수 있겠다. 해린: 교사가 암묵적으로 인지 모델링을 하고 있다는 것은  웅기 : 인간의 사고? 생각?을 최대한 끌어내고자 하는 것이 궁극적인 목표 아닐지.MOOC 등에서 발생한 대량의 데이터를 기반으로, 학생의 행동을 시계열적으로 모델링하여 예측하고자 한다. Granular data는 사실상 nominal scale(명명척도)과 같은 의미라고 봐도 무방해 보인다. 시퀀스 생성 모델이 주로 활용되는데, 여기서는 (자연어에 대해) n-gram, RNN, LSTM을 주로 다룬다. 인지적 모델링에 대해서는 Bayesian knowledge tracing / Deep knowledge tracing 이 활용되고 있으며, 딥러닝 기반 응용이 늘어나는 추세 Dataset Statistics BerkeleyX MOOC from Spring 2013 : 31000 학생, 1700만 이벤트 (페이지 탐색, 게시글 추천, 퀴즈 응답, 강의영상 시청) - 총 3687 종류의 상호작용. JavaScript 호출까지 기록됨     (이중 과정을 수료한 약 8000명의 학생만 유효한 양의 데이터가 발생했음) 너무 희소하게 발생한 event는 필터링했고, 약 1300개의 상호작용만 가지고 one-hot vector ( 1300개의 요소중 한개만 1이고 나머지가 0인 )로 인코딩해서 사용. Methodology 기본적으로 next-action prediction으로 작동한다. 1) Recurrent Neural Network : 관찰 가능한 변인 x와 관찰 불가능한 변인 (latent state) h로부터 다음 상태 y를 예측하는 모델. h는 학생들의 인지 등에 해당하는 변인이지만 직접적인 해석은 불가능하다. 다음 상태를 예측하려고 한다면 y를 보면 되고, long term generation을 하려고 한다면 x1을 무작위로 준 다음 y를 다음 순간의 x에 집어넣으면서 생성하면 된다. 2) Long-Short Term Memory : RNN에서 개량된 버전으로, cell state라는 개념을 도입해 더욱 넓은 범위의 의존성(long range dependency)을 볼 수 있게 해준다.  cell state C 도 일종의 latent state 비슷한 역할을 하지만, 그보다는 기억과 망각을 관리하는 역할을 해준다고 볼 수 있다. 즉 h를 업데이트하는 과정에서 어떤 정보를 오랫동안 기억하고 어떤 정보를 빠르게 망각할 것인지와 관련된 변인. Implementation : Keras를 사용해 구현 후 grid search 시행, 총 24개의 모델 탐색. 학습데이터와 평가데이터를 8:2로 나누어 5-fold cross validation 수행. 3) N-gram : 이전에 등장한 n-1개 변인에 대하여 다음 변인의 조건부 확률분포를 직접 데이터로부터 구한다. 위의 방법들과 달리 점근적으로 정확한 확률분포를 구할 수 있으며, 학습은 결정론적이지만 조건부생성은 비결정론적이다. n이 커지면 모델의 자유도가 너무 높아지기 때문에 backoff라는 트릭을 쓴다. 여기서는 n=2~10으로 사용했다.  4) Course structure models : 특정한 action이 반복된다는 관찰과, 실라부스에 이미 대부분의 sequence가 반영되어 있다는 점에 착안하여, 강의 목차 페이지와 학생의 행동을 mapping함으로써  다음행동을 예측하는 모델을 만들었다. 실라부스에 나타난 300개의 행동중 174개를 학생들의 행동 집합에 매치시킬 수 있었으며, 실라부스 상의 순서와 관찰된 반복행동을 바탕으로 메뉴얼하게 모델을 구성했다. Result 3-layer LSTM에서 가장 높은 정확도 (0.7223)을 보였으며, 8-gram에서 0.7035를, 수동으로 구성된 모델에서는 비교적 낮은 정확도 (0.4533)을 보였다. 수료하지 못한 학생 가운데 최소 30개 이상의 로그가 발생한 1만명을 대상으로 추가 검증을 한 결과 LSTM모델의 정확도가 소폭 감소했다. 저자는 이런 차이가 끝까지 이수한 학생과 중도 포기한 학생의 성향 차이를 나타내며, 따라서 학생들을 지원하는데 활용될 잠재력이 있다고 보았다. 그런데 2-gram accuracy가 0.63이나 되는 시점에서, 특정 상호작용이 많거나 혹은 단순한 패턴이 반복되는 것이 절반 이상이라는 점을 예측할 수 있다. (예를들어, 코로나 안걸렸다고 진단하면 무조건 accuracy 99%이상 나오는 것처럼)... 따라서 weighted accuracy나 혹은 KL divergence같은 다른 측도를 사용해야 할듯? 2-gram 시각화라도 해줘야... Conclusion 저자가 아는 바에 의하면 이 시도가 이정도 규모의 granularity (nomial data의 차원) 을 시계열로 예측한 처음 사례이며 RNN을 MOOC데이터에 적용한 첫 사례라고 주장함. 데이터의 변인 가공(feature engineering)이 따로 들어가지 않았다는 점에서 확장성이 있다고 주장함.  Future work로 모델의 개량과 hyperparameter search를 더 정밀하게 할 것, 그리고 학생의 latent state를 이해할 수 있는 모델의 탐색을 제안하고 있음. 궁극적으로는 어려움을 겪는 학생들의 행동을 예측하여 적절한 추천과 지원을 하는 것이 목적. @성지훈 이 추천해준 중국의 MOOC 연구들 http://moocdata.cn/publications 예측모형의 성능은 무엇으로 평가해야 하는가 평균제곱근 오차 (RMS error) 일반적인 회귀모형에 적용 가능하며, 단위를 포함함 설명력(explanatory power) 일반적인 회귀모형에 적용 가능하며, 단위를 포함하지 않음. 선형회귀의 경우  R^2 R 2  를 그대로 사용할 수 있다. 정확도(Accuracy), 정밀도(Precision), 재현율(Recall) 정확도 : 그냥 전체적으로 옳게 예측한 비율 정밀도 : 검출된 대상 가운데 제대로 검출된 것의 비율 (It is better that ten guilty persons escape than that one innocent suffer) 재현율 : 검출되어야 할 것 가운데 실제로 검출된 것의 비율 양성/음성의 분포와, 문제의 목적에 따라서 적절히 선택해야 한다. Precision & recall 사이에는 trade-off 관계가 있다. 정밀도와 재현율을 동시에 고려해야 할 경우 F-measure : 정밀도와 재현율의 조화평균을 이용함. (필요한 경우 가중 조화평균) AUC of ROC ( area under curve of receiver operating charicteristics) : 분류 기준의 문턱값(threshold)을 조절할 수 있는 평가도구 자체에 대한 측정 (예 : 코로나 검사, 자격시험 등). ROC곡선 아래의 면적이 크면, threshold와 관계 없이 좋은 예측모형이라고 볼 수 있다. Receiver operating characteristic (ROC)-AUC curve for COVID-19 detection Nominal scale 예측모델 평가의 어려움 고전적인 연구방법론은 여기에 대한 예측을 잘 하지 않아서, 일반화된 논의가 없다. 거의 정규분포라고 가정하는 연속변수와, 많이 논의된 이진분류 문제와는 다르게 output이 case-by-case로 다양하다. KL-divergence를 사용하면 평가가 가능하지만, 비율(%)로 나오는게 아니라 정보량(bit)으로 나오기 때문에 처음보는 사람은 해석이 어렵다. 따라서 무작정 accuracy / KL-divergence를 쓰지 말고 이론과 목적을 바탕으로 한 나름의 타당성있는 기준을 세워야 한다. Next-action prediction의 함정 : LSTM으로 long-range dependency까지 잡아냈다고 하더라도, 직후의 행동만 예측할 수 있을 뿐 장기적인 추세를 예측할 수는 없다. 영어 알파벳은 26개나 있지만, next-action prediction에 대한 불확실성은 고작해봐야 동전던지기보다 조금 큰 것에 불과하다. Discussion 현재의 MOOC 시스템에서는 학생을 이해하는데 도움이 될 만한 데이터가 매우 제한적으로 발생한다고 생각하는데 (저만 그런가요?), 보다 쓸모있는 유형의 데이터를 발생시키기 위해서 MOOC 혹은 온라인학습 시스템을 어떻게 발전시켜나가야 할까요? Next-action prediction 모형은 교육적으로 어디에 활용하면 좋을까요? <지훈 웅기 수진 주홍> 지훈: 알고리즘에 관심을 갖고 있음. MOOC 는 데이터의 나열, 알고리즘을 활용하면 사용자의 의도를 반영할 수 있음(도구와 사용자의 상호작용). - 추천된 콘텐츠에 대한 선호 표시 + 강의 도중 재미없는/이해가 어려운 부분에 대한 학생 피드백 +  등  주홍: 사적인 데이터, 토론, 클럽하우스 같은 포럼 웅기: 토론 플랫폼 대신에 메타버스? 페이스북 호라이즌  여기서 발생하는 데이터 수진: 화상회의 시스템  토론을 통해서 상호작용하는 과정이 추가되면 지훈: 블루프린트 디자인(UX design), 예전에 질적으로 서비스 블루프린트 디자인  양적으로  but, 데이터가 많아야 함 / 1300개 액션에 대해서 경우의 수를 뿌려보고, 언제 실패하는지 매핑해서 새로운 모델링을 한다면 좋을 수 있을지 데이터가 많아지고, feature가 많아지고, 모델이 복잡해져서 정확도가 높아진다고 해서  교육결과가 거시적으로 개선될 수 있을까? (동일 교육과정 = 동일 학습결과) 주홍: 블루프린트 디자인, 감정의 변화, 학습에 대한 감정적인 반응 수진: 수학문제 웅기: 모든 분야에서 가능하지만, 가능한지가 더 문제라고 생각함. 드랍아웃, 학업성취도 등의 한정적인 종속변수만을 예측하는 것이 이른 예측 모형의 한계가 아닌지.. 아무리 모델이 복잡해지더라도? 현업에서 자연어처리로 퍼포먼스를 내려면 기본 데이터 100만 단위 주홍: 예측한 결과를 학생에게 직접 알려준다. <은서 준오 손영훈> 1. 개인을 예측한다면 이전의 행동들까지 포함되었다면 정확도가 올라가지 않았을지. 개인의 데이터는 오랫동안 축적되어야 한다 (예 : 성장하면서 학년에 걸쳐서). 수업 플랫폼 자체에서 잦은 평가(간단한 이해 질문 선택지?)가 주어지고, 얼마나 망설이는지 시간을 측정하면 일반적인 지표가 되어줄수 있지 않을까. 온라인 수업에서 컨텐츠형으로 제시를 할때는 참여율이 높지 않은데, 학생이 능동적으로 뭔가 할 수 있으면 참여율이 올라가더라.  학습자로서 온라인강의를 수강할때 막히는 부분에서 리플레이를 하게 되는데, 학생들이 많이 막히게 되는 지점을 추적하고 수강자들에게 반복해서 들은 이유를 수집하면 좋겠다. 영상에서 리플레이 많이 하는 지점을 분석했듯이, 텍스트 자료에 대해서는 스크롤 위치가 어디에 머무르는지 분석해도 좋을듯. 이전에 다르게 행동했을 경우의 예측? (counterfactual inference) 2. 개인이 아니라 여러 학생의 일반론적인 행동을 예측한다( ex : 특정 학년군 간의 행동을 비교 ) . 운전면허시험처럼 정말 기능과 순서가 중요한 작업의 평가. 행동주의적으로 바라봐야 하는 과제들. 현재도 자동번역 등 시계열적인 순서가 중요한 분야에만 쓰임. 굳이 LSTM을 쓴다면 저학년 학생들이 수업중간에 하는 돌발행동 예측 경고. 과학실험 수업은 순서와 돌발행동이 중요하므로 활용할 가능성이 있을듯. (위험행동예측) 실과, 가정, 요리 등 실용적인 학문들. (실제 행동을 컴퓨터비전으로 라벨링한다면 재밌을듯) (교육은 아니지만) 아기들 혼자 놔두면 막 돌아다니는 행동에 대한 모델링 + 위험행동예방 역사수업에서 학생이 구현한 역할극 같은것에 대한 분석, 혹은 반복되는 역사적 사건의 패턴 자체에 대한 분석자료를 학생들에게 보여주면 좋을듯 (n-gram으로 보여주면 직접 알 수 있을듯) 체육수업의 동작수행에 대한 분석 (스크린골프에서 알려주는 것의 확장)  동작수행의 변화, 성장에 대한 분석도 될듯. <용현 전영훈 유경> 영훈 : 클릭스트림데이터로 그래프를 그려보면 핵심 문장을 포함하는 경우가 많다. 이런 데이터를 학생들에게 어떻게 적용할지는 또 다른 문제다.  (클릭스트림데이터를 핵심 문장과 함께 또는 gp 레벨로 보면 학습에 대한 열의를 더 잘 볼 수 있지 않을까) 용현: 어려운 내용 나왔을 때 다른 서비스로 이탈하게됨. 이탈하는 타이밍이랑 같이 보면 좋지 않을까?  유경 : SNA 분석 논문을 봤지만, 의미가 없어보였다.  용현 : 창을 닫는 등의 이탈에 대한 확률이 튈 때 힘내세요! 영훈 : 초등학생들이 찍은 행동에 대해서 uncertainty 가 평소와 다른걸 기반해서 찾아내는 경우가 있다. 유경 : UI 개선에 활용할 수 있지 않을까? - 학습에 불필요한 행동 (ex ; 뒤로가기) 이 많이 나타나는 경우  교육의 날씨  다음날 출석, 1. Motivation Knowledge Tracing (KT) 모형들은 학생의 문항반응 정오답 결과만을 활용하지만, 실제로 문제와 상호작용하는 과정에서 여러 요인을 측정할 수 있을 것이다. 어차피 미래에 KT model는 intelligent tutoring system (ITS), MOOC 맥락에서 사용될텐데 그렇다면 디지털 입력장치의 정보를 일반적으로 수집할 수 있을 것이다. 시간별로 마우스의 클릭과 이동 좌표를 기록한 clickstream 데이터를 사용하면 interactive material과의 상호작용을 분석할 수 있다. Keystroke 를 사용한 예측 모델은 이미 존재 Tsimperidis, I., Yucel, C., & Katos, V. (2021). Age and Gender as Cyber Attribution Features in Keystroke Dynamic-Based User Classification Processes. Electronics, 10(7), 835. Pentel, A. (2017, July). Predicting age and gender by keystroke dynamics and mouse patterns. In Adjunct Publication of the 25th Conference on User Modeling, Adaptation and Personalization (pp. 381-385). 1. Environment 지도방식의 세분화 수준(granularity)에 따라서 ITS를 answer-based와 step-based로 구분함. Answer-based tutoring system : 학생에게 문제에 대한 힌트와 답안 제출 후 즉각적인 피드백을 제공함. 문항 답안이 선다형 혹은 단답형 숫자 응답으로 제한됨. Step-based tutoring system : 드래그 앤 드롭으로 상호작용 하는 등 단계적으로 상호작용할 수 있는 수단을 제공함. 따라서 정답 여부와 단계별 행동에 대한 피드백을 모두 제공할 수 있음. 이 연구에서는 step-based 에 대해 주로 다룸. K-12 수학교육을 위해 디자인된 온라인 학습플랫폼에 step-based ITS를 구현. 2. Dataset Step-based ITS의 clickstream에 대한 공개 데이터셋이 없기 때문에 온라인 교육 플랫폼 제공업체와 협업함. 대단원 6개 (대수, 기하, 자료해석, 측정, 산수, 공간 )와 소단원 137개로 다양한 영역의 문항에서 데이터를 수집함. Statistics 이름 수량 기간 6개월 학생 수 3,275 문항 수 892 (전체 1,721) 응답 제출 97,127 Clickstream 이벤트 2,028,937 데이터 형식 userid : 비식별화된 학생의 id questionid : 문항의 고유한 id eventName : 상호작용의 종류로 {enter question, drag, click, input, navigate in question, react answer, submit answer, leave question} 이 있음. 이중 drag와 click은 마우스 좌표에 대한 정보(mouseData)를 포함하고 있음. mouseData : Clickstream에 한해서, 마우스의 좌표 정보를 담은 데이터, drag의 경우 from, to 좌표를 각각 갖고 있음. timestamp : 이벤트가 발생한 시각. (drag의 경우 끝난 시각을 기준으로 하는듯?) answerState : 학생의 응답을 기록한 데이터 score : answerState를 채점한 점수 데이터 전처리  숫자로 나타난 데이터들은 0~1 범위로 정규화되었으며, 명목형 데이터는 one-hot encoding ( 벡터에서 한 성분만 1로 설정하고 나머지는 모두 0으로 설정하는 것 ) 을 통해 전처리함. timestamp는 그대로 사용하지 않고 시간간격(time interval)을  log_2 t log 2 t 로 변환하여 사용함. 부분점수는 숫자가 아닌 서열척도로 판단하여 one-hot encoding 으로 처리함. 이외에도 aloc (action loacation)이라는 feature를 도입했는데, 이는 answer state의 변화를 나타내기 위한 multiple-hot encoding (여러 개의 성분이 1일 수 있고, 나머지는 0인 벡터) 변수임. 예를 들어서 1번 요소와 3번 요소를 뒤바꾼 경우 [1, 0, 1, 0, 0, ... ] 처럼 처리됨.  변인의 분포가 로그 정규 분포(Gibrat\\'s law), 멱분포(Power law, Zipf\\'s law)를 따르는 경우 log를 씌워 전처리하는 것이 유리함. (결정트리 기반 알고리즘에선 크게 신경 안써도 됨) 예 ) 소득, 재산, 사용빈도, 도시의 크기, 인간 행동의 time interval, 게시물의 길이나 추천수 등... https://en.wikipedia.org/wiki/Log-normal_distribution#Occurrence_and_applications https://ko.wikipedia.org/wiki/지프의_법칙 https://ko.wikipedia.org/wiki/멱법칙 https://en.wikipedia.org/wiki/Gibrat\\'s_law 1 3. Model Architecture Knowledge Tracing (KT) : 학생의 반응을 바탕으로 지식상태(knowledge state)를 시간에 따라 예측하는 기술 혹은 모형의 총칭. 문항반응을 예측하는 것이 목적이 아니라 지식상태를 측정하는 것이 목적이고, 단일 시간에 측정하는 것이 아니라 시계열적으로 예측한다는 점에서 Item response theory와 다름. QuestionRNN_q (question-spedific) : 한 문항 t 에 대한 clickstream  C_t  C t  의 길이는 매번 다를 수 있지만, 일반적인 예측모형은 input에 고정된 길이의 변수만을 넣을 수 있다. 따라서 연속된 시계열 입력을 받는 RNN 구조를 사용해  C_t  C t  스스로를 복원해내는 autoencder 구조를 만들고, 이 autoencoder의 내부 상태인  c_t  c t  를 끄집어내어 clickstream 을 대표하는 고정된 길이(여기서는 50차원)의 feature로 활용한다. 단순화된 도식 모형의 학습 목표 (손실함수) : 명명척도 등 one-hot encoding에 대해서는 cross-entropy를, aloc에 대해서는 binary cross entrooy를, 이외에 실수로 나타내어진 변수들에 대해서는 mean square error를 최소화하도록 학습한다. 이는 변수들의 각 유형에 대해서 가장 표준적인 손실함수이다. 여기까지 문항 t에 대한 clickstream, event 에 대한 정보를 축약하여 고정된 크기의  c_t c t  를 뽑아내는데에 성공했다면, 기존의 Deep Knowledge Tracing 모형에 넣던 문항 반응 변수들 (  q_t q t  ) 에 그대로 결합(concatenate)시키는 것으로 clickstream 정보를 KT모형에 넘길 수 있다. 이후의 학습이나 작동방식은 기존 KT 모형과 동일하다. 문항 t에 대한 모델 작동 도식 4. Analysis 기존의 DKT 모형이 하던 작업들(문항 반응 예측, knolwedge state 예측, knowledge component structure 추출, 문항 추천 등)에 더하여, 추가적으로 문항별로 clickstream에 대한 분포와 군집화를 시각화할 수 있다. t-SNE (t-distributed stochastic neighbor embedding) : 확률 기반 차원 축소 기법으로, 엄청 높은 차원의 데이터에 있는 의미(semantics)를 낮은 차원(2~3)으로 줄이는데에 특화되어 있다. 때문에 복잡한 데이터의 시각화에 많이 쓰인다.  장점 : 고차원에서도 인지적인 의미들을 굉장히 잘 캐치하고 군집화에 유리하여, 시각화하는데 굉장히 유용하다. 단점 : 샘플수에 대한 복잡도가 크며 ( O(N^2 ) O(N 2 )) 임베딩을 함수로 하는게 아니라 1대1 대응으로 작동하는거라서 저차원  고차원으로 역변환이 안되고 새로운 데이터에 대한 보간이 안됨 (autoencoder와 반대되는 부분) t-SNE을 활용하여, 어떤 문항에서 clickstream들의 2차원 시각화 및 군집화한 예시 Performance QuestionRNN_q와 DKT의 손실함수가 연결되어있는지 여부에 따라서 E2E (end-to-end), PT(pretrain and freeze), FT (finetune after pretrain) 방식의 모형으로 나누었다. CKT-E2E : 처음 학습할때부터 QuestionRNN과 DKT가 함께 학습되며, DKT의 손실함수 정보가 QuestionRNN쪽으로 전달된다. CKT-PT : QuestinoRNN을 먼저 따로 학습시키고, 이를 고정시킨 상태로 나중에 DKT만 학습시킨다. CKT-FT : QuestionRNN을 먼저 학습시키고, 이후 DKT와 함께 학습시킨다. 또한 knolwedge component의 정의를 세 가지 층위로 나누어 측정했다. Question ID : 문항 하나하나를 knolwedge component 로 사용한다. (가장 널리 쓰이는듯) Math unit : 137개 소단원 각각을 KC로 사용 ( human engaged ) Math dimension : 6개 대단원을 KC로 사용. AUC (area under curve) - Higher is better, 전반적으로 finetune이 우수하다. 특정 성능에 도달하기 위한 평균 문항 수 이론적으로, 문항 반응을 무한히 많이 측정할 수 있다면 머신러닝 같은 거 필요 없이 그냥 고전통계로도 완벽하게 예측할 수 있다. 그러나 우리가 원하는 것은 sparse data만을 가지고도 전체 KC에 대한 예측을 잘 하는 모형이다. 따라서 특정한 accuracy에 도달하기 위해 얼마만큼의 데이터가 필요한지를 비교하는 것이야 말로 실제 서비스 적용에 중요할 것이다. 이처럼 초기에 데이터가 부족한 상황에서 의사결정을 해야 하는 문제를 cold start problem이라 하는데, CKT-PT 모형이 cold start에 강인하다는 결과를 볼 수 있다. 5. Conclusion Clickstream (더불어 학생들의 가변적인 상호작용) 을 기존의 Deep KT 모형에 결합시킬 수 있는 손쉬운 framework를 제공했다 또한 문항별로 그 interaction을 시각화하여 해석하는 방법을 제안했다 문항반응 뿐만이 아니라 다른 상호작용 정보를 더했을 때 예측성능이 향상되는 것을 확인했다. 특히 초기 학습자에게 처음 몇 문항에서 데이터가 부족한 상황(cold start problem)에 대한 도움이 될 것이다. 6. Discussion 온라인 ITS 환경에서 디지털 입력이 일반적이기 때문에 이를 활용하자는 아이디어는 좋지만, 막상 저런 상호작용을 제공하는 학습환경이 얼마나 있을 것이며 여려 교과나 학습수준으로 확장시킬 수 있을지도 약간 의문스럽다.  1. 단순히 정오답을 맞추는 것이 아니라 디지털 상호작용을 통한 학습자료가 제공되는 사례가 있다면 제보해주세요. 없으면 \\'이런거 있으면 좋겠다\\'하는걸 말씀해주세요.  2. 혹은 이런 시스템을 적용하기 쉬운 교수내용 (예 : 운전면허) 을 찾아봅시다.  3. 그런 환경에서 DKT 모델에 어떤 정보를 더 넘겨줄 수 있을지 아이디어를 내 봅시다. (+가능하다면, 그 변수가 정규분포에 가까울지 혹은 log를 씌우는게 유리하지도 추측해봅시다.) KFC 직원들만 할 수 있다는 게임...VR 영상으로 실습 교육까지 KFC 직원들만 할 수 있다는 게임VR 영상으로 실습 교육까지 KFC가 24일 직원 교육을 위한 VR 프로그램 트레일러를 공개했다. The Hard Way: A Virtual Training Experience로 불리는 이 프로그램은 방 탈출 게임을 연상시켜 엔터테인 https://biz.chosun.com/site/data/html_dir/2017/08/25/2017082500979.html <J영훈, 유경, 용현> 토론 : 3명의 학습자가 발화 데이터 + 표정 데이터 분석해서 참여도 분석 앞으로의 토론 태도 및 방법에 대한 조언 VR : 공업고등학교의 자동차학과에서 수리 실습에서 다치는 상황이 많아서 VR로 구현  실습에 대한 점수 채점 시스템 (몇 번 만에 옳은 행동을 하는지) / 스쿨심즈  간호사 교육  절차적인 지식의 경우 이런 시스템을 적용하기 쉬울 것 같다.  정답을 선택하기 전까지 마우스의 움직임 (융기원 교수님 논문 : 어린이 수학 게임 정답 맞히는 패턴 분석  알고 맞혔는지, 찍어서 맞혔는지 분석 <권가진 교수님 논문>) Dynamic neural network model <수진 준오 웅기> [논의1] 준오: 알피 플래시게임(레모네이드 만들기)? 교과서에 붙어있는 CD의 상호작용형 실험( 영어 교과서 지토가 노래부르는거, 과학 가상 실험실 등에서 드래그 앤 드롭 ) 수진 : 칸아카데미의 문제중에도 일부 드래그앤 드롭 문제가 있음. 마우스 클릭만 파악한게 아니라 드래그 앤 드롭 위치와 시간까지 파악한 것이 좋다.  웅기 : VR에서 일어나는 활동들이 물리적?인 상호작용도 많고 다양하므로, VR 교재들을 찾아본다면...? [논의2] 운전면허는 절차적이고, 시각적인 정보가 많이 필요하며, 실기 대비도 고려했을때 step based ITS가 유용할 것 같다. 웅기 : 오큘러스 과몰입하다가 친구집 화분을 깨었다. 그만큼 VR이 교육적 몰입효과가 좋을듯.  수진: Desmos, 지오지브라 웅기: 일반화 < 특수한 형태에 적용되는 연구 준오 : PhET https://phet.colorado.edu/ko/ - 따로 데이터를 수집하지는 않지만 적용하면 좋을듯 <부경, 기원, 윤서> 1. 단순히 정오답을 맞추는 것이 아니라 디지털 상호작용을 통한 학습자료가 제공되는 사례가 있다면 제보해주세요. 없으면 \\'이런거 있으면 좋겠다\\'하는걸 말씀해주세요. 부경: 무형식학습(디지털 상호작용을 통한 학습자료일까요...?) 그 중에서도 학교에서 이루어지지 않은 교육을 하고 있는 경우가 있음. 기원: 산타토익이 KT에는 해당할 것 같다. (문제를 풀고, 다음 문제를 맞힐지 말지 예측하기 때문) 윤서: AI 펭톡? 같은 것이 있지 않을까. 발음이 얼마나 일치하느냐, 얼마나 빠르게 정답을 맞히는가에 따라 점수(참치캔)를 제공. 이런거 있으면 좋겠다 윤서: 사회적 상호작용을 함께 해주는 KT 시스템이 있으면 좋겠다. (학생의 심리 상태를 파악하든가, 학생이 성취 목표에 도달하였는지를 말로 확인) 기원: 대학 실습 (기술 실습)을 VR로 하는 것도 재미있을 듯. (clickstream을 활용) 대학 교수님들이 어려움을 겪고 계심. (비대면 상황에서 적절함.)  lms시스템에서도 활용이 가능할까?  질 왓슨 같은 대학 조교가 있지만, 활용도가 떨어질 가능성이 있음(2016년 이후 근황 업데이트 안 됨.) lms시스템에 KT를 적용하면 재밌을 것 같다.  동영상을 보면 시간만 체크하고 퀴즈만 체크하면 끝나는데, 학생의 마우스의 이동 패턴 등을 추적해서 학습의 현황 체크, 부정행위 체크. 2. 혹은 이런 시스템을 적용하기 쉬운 교수내용 (예 : 운전면허) 을 찾아봅시다. 윤서: 영어나 외국어 공부할 때 적용하기 쉽지 않을까? 외국어 학습 때는 반복 학습이 주를 이루고 그에 따른 데이터 축적이 많아짐.  산타토익(문항의 정오답만 가지고 이야기하는 것) 요리도 step based ITS 적용하기 좋아보임. <용주, 하경> 1-2. 노트북 화면을 학생 개개인의 공간으로 보고 데이터화(eg. 온라인 수업 상황에서 줌을 켜고 있다가 줌을 없앴으면 집중도가 떨어졌다고 가정한다던가,, 등의 접근이 가능할 것으로 생각 - 이런 연구가 없을까?) 게더타운같은 아바타 활용 가상환경 데이터화 저렴이 웨어러블 디바이스를 가지고, 스텝 등 학생이 기록하여 활용할 수 있는 기초적인 데이터 (기본적인 연구의 첫 발상은? 하루 루틴에서 데이터를 뽑아내게 하자. 직접 일상에서 데이터를 뽑아내고 찾고 relationship을 찾아보라. 데이터를 직접 가공하는 것을 어려워한다.) 스마트폰 활용할 때 화면을 터치하는 것도 데이터화할 수 있을까? 3.  화면 구성(노션, 인터넷, 폴더, ...), 화면 유형, 비중(0~1), 이동한 시간 SNS 데이터에서 말뭉치 나타나는 빈도 <s영훈, 은서> -언어 : 문장이나 단락의 구조를 파악, 논리적 연결 맞추는 유형 -프로젝트 수업시: 다차시 프로젝트수업에서 예상 시나리오가 블록화가 가능하다면 문항반응 DKT 가능할듯 -체육 교과 시 웨어러블 활용  일련의 동작이 합쳐서 하나의 결과물이 나오는 활동 (뜀틀, 티볼) 구간별, 동작별 분석이 가능하다면 여러번의 시도',\n",
       " 'H\\nHaewon Jung': 'Content analytics Learning Content and Content Analytics CONTENT ANALYTICS TASKS AND TECHNIQUES Content Analytics of Learning Resources Content Analytics of Students Products of Learning Content Analytics of Students Social Interactions Topic discovery in learning content CONCLUSIONS AND FUTURE DIRECTIONS Content analytics 배경 : 데이터 , 학습분석, 여러 유형의 데이터 중 학습 컨텐츠 관련의 분석이 학습분석시스템에 활용됨 학습 컨텐츠 : 교수자(실라버스, 문서자료, 강의 녹음 등), 출판사(교과서), 학습자(에세이, 토의 메시지, SNS 포스팅 등) 개념 : 다양한 형태의 학습 콘텐츠 분석에 초점을 맞춘 다양한 유형의 학습 분석을 지칭하는 데 사용되는 포괄적 용어  정의 : Automated methods for examining, evaluating, indexing, filtering, recommending, and visualizing different forms of digital learning content, regardless of its producer (e.g., instructor, student) with the goal of understanding learning activities and improving educational practice and research. Learning Content and Content Analytics 모든 형태의 교육의 특징은 학습자와 학습 내용 간의 상호 작용(Moore, 1989) Learning Content의 종류 : written materials, interactive & multimedia educational resources, learner generated resources 등(Twitter, Facebook 등의 온라인 토론장의 발달로 인함) Content analysis는 different resources (textbooks, web resources) and products (assignments, discussion messages) of learning 에 초점을 맞춤.  Content Analysis VS Content Analytics  CONTENT ANALYTICS TASKS AND TECHNIQUES -Learning Analytics and Knowledge Conference의 프로시딩, Journal of Learning Analytics, the Journal of Educational Data Mining, the Journal of Artificial Intelligence in Educationd을 살펴봄 -연구 문제별로 분류 : 데이터 유형에 따라 세 그룹으로 분류됨 Content Analytics of Learning Resources 내용분석의 초기 활용은 교육적 리소스 및 자료의 분석, 그리고 그 리소스의 추천(평가)에 대한 것. 주된 관심사가 학생들에게 관련된 자료를 추천하는 것이었기 때문에 추천 시스템에 기반하게 되었음 추천 시스템의 두 타입 교수 자료의 자동화된 정리 및 분류에 활용됨 사용가능한 교육자료의 질을 평가하고 그것이 교육에 미치는 영향을 평가하는데 활용됨 Content Analytics of Students Products of Learning content analytics의 핵심 목적은 학생에게 적시에 적절한 피드백을 제공하기 위함 AES (automated essay scoring) : 에세이 평가 시스템. Latent Semantic Analysis (LSA)를 사용하여 샘플 에세이와 학생 에세이의 유사도를 계산하여 에세이 품질을 평가함.   Latent Semantic Analysis (LSA) : 단어 동시 발생 분석을 통해 두 텍스트 본문 간의 의미 유사성을 측정 최신 시스템인 WriteToLearn 같은 경우에는 시각적 피드백을 제공하여 쓰기 스킬 향상을 도모하기도 함(Foltz & Rosenstein, 2015) LSA는 텍스트 간이 아니라 텍스트 내의 응집성(document coherence)을 통해 글의 품질을 측정하는 Coh-metrix tool에도 사용됨. (ex. Writing-Pal : 쓰는 동안 쓰기에 대한 피드백을 제공하는 ITS) 그래프 기반 시각화 기법 : 단어의 동시발생을 기반으로 함 글의 품질 평가에 더해 내용 요약에도 활용됨 OpenEssayist system (Whitelock, Field, Pulman, Richardson, & Van Labeke, 2014; Whitelock, Twiner, Richardson, Field, & Pulman, 2015) 학생들의 협력적 쓰기 활동에서 자동화된 개념지도 추출에도 활용됨 자연어처리기법(NLP) : 주로 학생의 글을 언어학적, 수사학적으로 분석할 때 활용됨 XIP Dashboard : 글의 메타 담화와 수사학적 기능들을 시각화하여 에세이의 주장의 질을 평가함 (Simsek, Buckingham Shum, De Liddo, Ferguson, & Sndor, 2014; Simsek, Buckingham Shum, Sandor, DeLiddo, & Ferguson, 2013) discourse-centric learning analytics과도 유사 에세이가 아닌 짧은 글에 대해서도 비슷한 cotent analytics 사용된 연구들 물리관련 짧은 답에 대한 맞춤형 피드백 시스템 (Dzikovska, Steinhauser, Farrow, Moore, and Campbell , 2014) WriteEval system : 학습자의 짧은 답에 대한 후속 지도와 과업을 제시 (Leeman-Munk, Wiebe, & Lester, 2014) 문제해결력, 논리, PHP 프로그래밍을 가르치는데에도 비슷한 접근이 활용됨 샘플 답을 자동적으로 검색하는 그래프 기반 기법의 가능성을 확인한 연구도 있음 교수자에게 학습자의 활동에 대한 피드백을 제공 교수자에게 학생 글의 독창성 및 비판적 사고를 시작해야할 시점을 안내하기 위해 학생 에세이 시각화를 활용함(Lrusson and White, 2012) 개념지도 추출은 학생에게 피드백을 줄 뿐 아니라 교수자에게 학생활동에 대한 개요를 제공 학습자의 사회적 상호작용과 그룹 지식 생성에 대한 개요를 제공하기 위해 학습자 채팅 로그를 분석하여 개념지도를 추출(Rosen, Miagkikh, & Suthers, 2011) 피드백의 유형에 따른 학습자 참여 어떤 피드백이 학생의 글쓰기에 가장 큰 향상을 이끌어내는지 연구(Crossley, Varner, Roscoe, and McNamara, 2013) 어떤 유형의 피드백(지시적, 성찰적)이 학생의 퇴고 행동에 영향을 끼치는지 연구(Calvo, Aditomo, Southavilay, and Yacef (2012) 에세이의 질과 학습자의 수행의 연관성을 탐색한 연구들 성공적인 글쓰기는 무엇... Content Analytics of Students Social Interactions 온라인 원격교육에서 비동시적 토론은 상호작용 수단임 전체 토론 활동/ 학생들의 참여도 분석에 학습 자료 분석에 활용된 방법이 활용됨 다양한 기술 활용: SA and Social Network Analysis (SNA), process mining 등 개발 사례 학습과 지식 창출(사회적 구성주의적 관점) : 지식 구축에 대한 사회적 상호작용의 역할을 이해하기 위해 콘텐츠 분석이 활용됨 >> 온라인 담화에서의 상호작용이 학습 성과와 지식 구축을 어떻게 형성하는지 이해 언어적 차이의 담화 기여도(Joksimovi, Gaevi, Kovanovi, Adesope, & Hatala, 2014; Xu, Murray, Park Woolf, & Smith, 2013) 언어적 차이가 학생 성적과 어떤 연관이 있는지에 대한 연구(Yoo & Kim, 2012) 다양한 유형의 토론 기여 간의 상호의존성을 조사한 연구(Chiu and Fujita, 2014a, 2014b) 학생 토론 기여도 유형에 따른 교수자의 응답 가능성 연구(Cui and Wise , 2015) 학생의 공동지식구성이 어떻게 이뤄지는지를 파악하기 위한 학생의 사회적 상호작용에 관한 연구들(하위 커뮤니티, 자기조절능력, 소그룹 커뮤니케이션, 컴퓨터 기반 프로그래밍 프로젝트에서의 헙엽, MOOCs에서 학생들의 사회적 자본 축적 등) 학생 참여 수준과 그 촉진에 기여할 수 있는 교수적 접근 평가 연구에도 활용됨 토론 활동 수준과 과정 성과에 기초한 학습자의 유형에 초점을 맞춰 MOOCs에서 학생 참여도 연구(Ramesh et al., 2013) MOOCs에서 학생의 부정적 정서 표현과 중도이탈에 관한 연구(Wen, Yang, and Ros, 2014a) LIWC 단어 범주로 학습자의 동기와 인지적 참여 수준 측정 연구(Wen et al., 2014b) 읽기시간과 텍스트 복잡도를 통해 소외된 학습자 파악 연구(Vega et al., 2013) Topic discovery in learning content 방대한 양의 가용 정보를 조직하고 요약하는 것도 컨텐츠 분석의 주된 용도 확률적 토핑 모델링(probabilistic topic modelling)이 주로 쓰임 문서 집합의 추상적인 \"주제\"를 발견하기 위한 통계적 모델로 텍스트 본문의 숨겨진 의미구조를 발견하기 위해 사용되는 텍스트 마이닝 기법 중 하나 함께 자주 사용되며 문서들에서 인기 있는 주제와 주제를 나타내는 단어 그룹을 식별하는 것이 목적 latent Dirichlet allocation (LDA) : 가장 대표적 토픽 모델링 기법 techniques based on logic programming, text clustering, and LSA 도 함께 사용됨 >> 온라인 토의에서 주로 활용되어 학생 토의의 질에 대한 강사의 awareness를 높이기 위함 토픽 모델링을 위한 방법들이 주로 긴 글에 적합하여 전통적인 블로깅 플랫폼에만 연구가 집중된 경향이 있음.(트위터는 마이크로 블로깅 플랫폼) 짧은 텍스트에 대한 LDA도 개발되었지만 널리 쓰이고 있지 않음 예외적으로 Chen, Chen, and Xing (2015)이 초기의 학습분석 컨퍼런스에서 진행된 트윗을 분석하여 인기 있는 주제와 시간에 따른 학습 분석 커뮤니티의 구조와 진화를 살펴본 연구가 있음 Joksimovi, Kovanovi et al. (2015)는 강의자료와 학생들이 각기 다른 소셜미디어에 포스팅한 것과의 연관을 연구 Reich et al. (2014)는 추후 더욱 효율적이고 넓은 강의평가를 위해 학생들의 강의 평가의 주된 주제를 연구함. CONCLUSIONS AND FUTURE DIRECTIONS 유형  1) course resources, 2) student products of learning, and 3) student social interactions 활용  recommendation and categorization of different learning materials (e.g., Drachsler et al., 2008) provision of feedback during student writing (e.g., Crossley et al., 2015) analysis of learning outcomes (e.g., Robinson et al., 2013) analysis of student engagement (e.g., Wen et al., 2014b) topic discovery in online discussions (e.g., Reich et al., 2014). 발전 방향  1) 컨텐츠 분석을 다른 형태의 분석과 결합하고 ex) Discourse analytics (Simsek et al., 2015, 2014, 2013) Process mining (Hever et al., 2007; Southavilay et al., 2009, 2010, 2013) Social network analysis (Drachsler et al., 2008; Joksimovi, Kovanovi et al., 2015; Joksimovi et al., 2014; Pham et al., 2012; Ramachandran & Foltz, 2015; Rosen et al., 2011; Teplovs et al., 2011) Visual learning analytics (Hecking & Hoppe, 2015; Lrusson & White, 2012; Prez-Marn & Pascual-Nieto, 2010; Simsek et al., 2014; Whitelock et al., 2014, 2015) Multimodal learning analytics (Blikstein, 2011; Worsley & Blikstein, 2011). 2) 기존 교육 이론에 기반한 컨텐츠 분석 시스템을 개발함으로써 개선될 것 3) 다른 추가적인 형태의 데이터가 함께 결합되는 것도 중요할 것(학생 인구 통계, 사전 지식 또는 표준화된 점수 등) 4) 잘 확립된 교육 이론에 기초해야 함  교육학적 고려사항은 특히 피드백 제공을 위해 중요함  학습자료의 컨텐츠 분석을 통해 추천할 때, 학습자의 프로필이나 기존의 선호도를 가지고 추천/ 혹은 다른 학습자의 데이터를 기반으로 추천함. 이때, 선호도 외에 어떤 요소들을 반영해야 교육적으로 가치 있는 자료를 추천할 수 있을까요?  1  content analytics와 함께 결합될 때 유용한 다른 데이터는 어떤 것들을 고려할 수 있을까요?  <지훈 은서, 수정> 학교의 사회적 지휘(반장, 축구부장, 족구왕 등), 경제적 지위(if possible..  거주지역 평균소득으로 대체 할수도), 출신국가, 제1언어, 관심학생 여부 등등 demographic이라고 말할 수 있는 것! 아이디어) 진로교육에 이런 추천 시스템을 반영하면 어떨까? 지금은 막연히 대세를 따르기만함.  맥락에 따라 단어의 사용이 달라지는데, quantitive data 는 질적자료를 다 보충하지 못함.   <주홍, 해린, 혜원> 학생의 배경, 환경: 학생 인구 통계 - 학생이 어디에 살고있는지 활용 교육적으로 의미있으려면 환경 밖에서 생각하는 것도 필요함 - 학생이 속한 집단의 보편적 관점을 획득하고, 이것과 상반되는 컨텐츠를 제공해도 사고 확장에 좋을 것 컨텐츠의 위계 파악 : 내가 쉬운 것을 찾으면 쉬운 것 위주로 나오는데, 그보다 한단계 나아갈 수 있는 컨텐츠가 검색되려면 위계가 함께 고려되어야 함. 국가적인 요구(인재역량, 성취목표)도 입력으로 고려해야할지 고민해볼 필요가 있음 - 학생의 필요와 국가적 교육 목표가 다를 수 있기 때문 <재용, 유경, 서연> 선호도 외에 어떤 요소들을 반영? <웅기 준오 현지> 선호도 외 학습자 데이터로 고려할 수 있는 변수  웅기 : 선호도라는 것을 단편적으로 정의할 수 없다, 이미 많은 변수가 포함되어 있을 수 있겠다.  현지 : 칙센미하이 몰입이론으로 바라보면, 난이도-학습자수준 매칭이 몰입과 학습만족도에 중요한 요인이 될 것이다. 준오: IRT   구성주의    베이지안 모델, 어떤 순서인지도 중요  대부분의 추천시스템은 순서를 신경쓰지 않고, 로그를 기준으로 가중치를 두는데, 콘텐츠를 소비하는 과정에서 인과성, 순서를 고려해야 한다.  2.  교육에 필요한 기타 추천시스템 웅기: 교수자 대상 추천시스템대 현지: 학습자 간 추천시스템 (동료학습 시 활용) 준오 : 먼저 표준화된 모델 @all 연구 아이디어 기록 배경 Motivation TRACE 분석 프레임워크 About transcript Contingency graph Uptake graph session socigrams associogram Examples of analytic options Identifying Sessions of Interaction Tracing Influences Between Sessions Identifying Actor Roles and Tracking Change in Participation Over Time Identifying Relationships Between Actors Identifying Groups or Communities of Learners Across Sessions SUMMARY AND RELATED WORK SNA가 어떻게 활용될 수 있을까?  https://youtu.be/HneyUMIcS_0 배경 오늘날의 학습은 데이터가 여기저기 분산되어 동시적으로 발생. 학습활동의 trace는 다양한 log에 분산되어 있을 수도 있고, 이벤트가 기록되는 양상은 분석하고자 하는 요구와 잘 맞지 않을 수도 있음. 이 챕터는 Trace Framework : 다양한 디지털 환경에서의 참여자들의 상호작용을 분석하기 위한 프레임워크를 소개하고자 함.  이 trace 프레임워크에서는 1) 사회기술적 시스템에서의 상호작용 모델링, 2) 모델들의 위계, 3)그리고 이 표현들을 각기 다른 수준에 맞게 변형하는 계산적 방법을 포함함.  디지털 환경에서 참여자들의 상호작용 데이터를 분석하고, 어떤 일이 일어나고 있는지를 더 높은 수준에서 기술하고자 할 때 활용 가능. 예를 들어 , 세션간 상호작용을 확인하고, 세션간 학습자 그룹을 판별하고, 주요 행위자들의 상호작용을 특징짓고, 행위자간의 관계를 식별할 수 있음 이 Trace framework라는거는 원래 Discovery oriented reserach(Mahrer, 1988)에 사용이 되던 것이나 이 외에도 전통적인 가설검증 연구에서 사용됨.  Discovery oriented research  Sociotechnical system Motivation 이 Trace 이론은 Web.2.0의 등장 및 교육적 적용과 그리고 MOOCs와 함께 함 - 학습이 가상 공간과 시간에 분산되게 되고, 학습자가 여러 환경에 참여하게 됨 Networed Learning Environment  네트워크 환경에서의 trace는 스레드 토의, 동시적 채팅, 위키, 마이크로 블로깅, 화이트보드, 프로필, 자료 공유 등으로 분산되어 있고, 각기 다른 형태와 위치에 저장되고, 학습자에게는 하나의 활동이었던 것들이 나뉘어져 있게 됨. 데이터들을 단일 transcript로 만드는 통합 작업이 필요하고, 각각의 이벤트가 기록된 단위도 다르기 때문에 다른 수준에 대한 번역이 필요함. (미디어 수준의 이벤트는 활동, 사람들, 그리고 미디어 간의 관계를 분석하기엔 적절치 못함) Multilevel analysis 사회적 환경에서 학습이 어떻게 일어나는가에 관한 이론들은 학습의 주체에 따라, 그리고 학습의 과정에 따라 다양함. 학습은 이러한 다양한 행위성 수준과 모든 절차에서 동시적으로 일어나고, 잠재적으로 다양한 시간 단위에서 일어남. 이 다수준 분석이라는 접근도 수많은 개인의 활동들이 모이고, 서로에게 영향을 주고, 다른 인공물로부터 중재되고, 행위자들간의 관계나, 커뮤니티 구조를 이해하고자 하는 방법론적 시사점. 등에서 사회적 규준들이 생긴다는 이론적 입장에서 기반. 이 모든 다양한 내용들을 이해하려면 개인수준, 집단적 수준 등의 다양한 자료와 여러가지 분석 방법 및 이론들의 조합이 필요. TRACE 분석 프레임워크 활동 로그들이 하나의 추상적 이벤트 트랜스크립트로 병합되고, 후에 상호작용과 관계 분석을 위한 표현들이 되는 것. 1 The analytic hierarchy 상호작용을 모델링하는 그래프 3가지 Contingency graph :  어떻게 이벤트(채팅, 메시지 게시 등)이 이전의 이벤트와 관계되는지를 시간적으로 그리고 공간적 근접성, 그리고 내용을 통해 말해줌 Uptake graph : Contingency graph를 보다 추상화한 것. 짝이 되는 이벤트 사이에 다양한 contingency들을 종합해서 이전의 활동을 어떻게 이어나가고 있는지 보여줌. Session graph : Uptake graph의 추상화. uptake graph에서 얻어진 세션간 관계를 이용해서 spatio-temporal 세션으로 이벤트들을 군집화함.  Sociogram과 associogram : 행위자 관계는 상호작용 그래프에서 추상화되어 socigram이 됨. 그리고 행위자-인공물간의 관계는 associgram. 1 About transcript Trace는 system specific 한 방법을 사용해서 이벤트 스트림으로 분석됨(16.1 b). 이 system specific 한 표현을 추상적 transcript로 변환하면서 파편화된 기록을 하나의 분석물로 통합하는 것.  Contingency graph 이벤트 사이의 Contingency를 계산하여 활동들이 상호간에 어떻게 관계되어있는지를 모델링하기 위한 과정. 상호작용의 잠재적 증거가 되는 활동들간의 관계를 파악하는 것.  배경 Contingency의 종류 Contingency graph의 개념 Uptake graph Contingency 그래프에서 보았던 edge들을 단일 edge로 만들어야하는 이유 대부분의 그래프 알고리즘들은 최대 한개의 edge만 받아들이기 때문 주된 관심이 uptake이기 때문. contingency은 uptake의 집합적 증거로서만 관심이 있는 것이기 때문에 contingency를 추상화나는 것임.  uptake : 두 이벤트 사이의 관계인데, 활동이 이전 활동의 어떤 측면을 중요한 것으로 받아들여 활동을 이어나가는 것 이는 상호작용의 기본적인 빌딩 블록이 됨으로써, 어떻게 학습이 상호작용과 함께 일어나는지를 분석하는 가장 기본적인 유닛이 됨. 이는 매체 특정적이지 않고, 매체 간에도 일어날 수 있음.  예시 : 채팅과 논의에 대한 응답, 혹은 이전의 행위자의 기여에 대해 반응하는 여러 다른 것. 16.1 uptake 그래프는 이벤트들을 연결한다는 점에서 contingency 그래프와 비슷하지만 여러가지 다양한 타입의 contingency 뭉치를 모아서 하나의 단일 그래프 모서리로 만든다는 점이 다름. contingency 들에 따라 가중치가 부여되고, 적은 가중치 뭉치들은 제거되며 만들어지는 것. 가중치 session Session : 이벤트의 군집이 시공간적 근접성에 따라 계산된 것.  세션 간 분석을 할 때는, 각 세션들을 단일하게 뭉치되 세션간 uptake 연결은 그대로 둠. 이 세션간 연결들은 한 세션에서 다른 세션으로의 시간과 공간을 넘나드는 잠재적 영향력을 가리킴. 세션 내 분석을 위해서는, 각 세션을 위한 uptake 그래프는 고립되고, 여기서부터는 다양한 방법이 적용될 수 있음. 예를 들면, 그룹의 성취가 발달하는 걸 이해하기 위해서 상호작용의 연속체구조를 micro-anaylsis를 하거나 , 그래프 구조 분석(cluster detection이라거나 그래프 모티프 분석 등)을 적용할 수도 있음.  socigrams 위의  uptake graph를 행위자-행위자 sociogram으로 만들수 있음(16.1d)  이런 sociogram은 전통적 사회적 네트워크 분석 방법으로 분석될 수도 있긴 함. (degree or eigenvector centrarlity) 그러나 조금 더 관계의 증거를 엄격히 제시하기 위해서 가중치를 달리함. ( 근접성을 낮추고, 직접적인 행위자를 지칭하는 것을 강조).  행위자 간에 연결 강도는 그들의 기여의 uptake의 강도의 총합.  associogram Associogram은 행위자가 어떤 객체를 통해 서로 상호작용했는지를 보여줌  화살표는 역순으로 읽기  사용되는 예 :  Finding Interaction Patterns (다이얼로그의 증거가 되는 라운드 트립) Characterizing Mediation Characterizing Mediated Relationships 1 아래 associogram은 두 행위자 간에 비대칭적인 상호작용을 보여줌. 두 행위자 간에 단일 연결로 구성되는 sociogrm은 이러한 정보를 알기 힘듦.  상호작용이 직접적으로 표현되지는 않더라도, associgram은 상호작용 수준의 분석과의 연결다리를 제공함.  Examples of analytic options 프레임워크의 기술적 구현 Identifying Sessions of Interaction 아래의 세션 간 uptake 그래프는 하루동안 학교 공간 안에서 일어나는 활동을 시각화한 것. 이런 상황에서의 세션 구분은 subgraph 감지나 커뮤니티 알고리즘(modularity partitioning 같은) 등을 사용하지 않고도 가능.  각 공간에서 비활동이 감지가 된다면(세션간 연결이 약한 부분) 마침표를 찍고 세션으로 구분할 수 있음.  Tracing Influences Between Sessions 아래 예시를 보면 세션간 uptake 관계로 가중치가 부여되어 있음.  Identifying Actor Roles and Tracking Change in Participation Over Time 아래 그림은 755세션에서의 행위자 활동에 대한 요약을 표현하는 sociogram. 노드의 크기는 in-degree에 따라 가중치가 부여된 것이며, 아래 그림에 따르면 MT가 가장 중심성이 높은 행위자임. 가장 높은 기여를 하고 이고, 다른 이들에의해서 가장 많이 받아들여지며, 다른 사람들의 기여를 많이 받아들이고 있음. 그리고 다른 사람들을 중재하고 있음(Betweeness). 별로 기여도가 높지 않은 다른 사람들조차 MT를 통해서 중심성을 갖게 됨. AP 역시 MT만큼 기여의 수는 많지만 중심성이 떨어짐.  sociogram은 각각의 기여를 세는 것이상으로 정보를 더해주는건데, 왜냐면 어떤 sociometirc들은 그들이 표현하는 행위자 노드의 네트워크 맥락에 되게 민감하기 때문임.  보다 긴 시간 단위에서 분석하게 되면 행위자의 역할이 어떻게 발달하는지를 추적할 수 있음. (아래그림) 피상적으로는 이런 분석들은 다른 socimetirc 분석이랑 비슷해보일 수 있은 trace framekwork의 장점은  자동화된 상호작용 분석에서 잠재적인 tie들을 얻어낼 수 있기 때문. 노동이 덜해지고, 또 직접적으로 관계가 있는 것에만 의존하지도 않음(unlike 설문과 친구 link) Identifying Relationships Between Actors 이 trace framework는  여러 contingency들을 모아서 행위자들 사이의 tie를 도출해냄. contingency들은 기여들의 관계에 대한 질적 본질을 암시해줄 수 있음 (시공간적으로 가깝다거나, 같은 단어를 쓴다거나 하는 것).  Identifying Groups or Communities of Learners Across Sessions 네트워크 분석 문헌들에서는, \\'community dection\\'이란건 그래프-이론적 정의 하에 서로 연결된 노드들의 하위 그래프를 찾아내는 걸 말함.(사회학적 개념은 아니지만, 전자를 후자에 대한 증거로 쓸 수 있음) 좋은 그래프-이론적 정의는 개인이 사회학적 커뮤니티에서 더욱 가깝게 서로에게 연결되어 있다는 직관을(커뮤니티 외의 사람들과 보다) 잘 캡쳐하는 것. modularity 메트릭에 기반한 알고리즘이 널리 쓰임. 모듈러리티 파티션 SUMMARY AND RELATED WORK Suthers-etal-ijCSCL-2010.pdf 566.1KB Suthers-Rosen-LAK-2011-Final.pdf 390.9KB Suthers-etal-HICSS-2013.pdf 1921.7KB suthers(2015) from contingencies to network-level phenom.pdf 1529.1KB',\n",
       " '성지훈 \\xad': '1. \\'언어\\' 2. NLP 2.1 The words 2.1.1 Linguistic Inquiry Word Count 2.1.2 n-gram 2.2 The Features of the Words 2.2.1 Latent Semantic Analytic 2.2.2 Coh - Metrix 2.2.3 기타 툴 3. Application 3.1 Writing Assessment 3.2 Tutoring systems 3.3 CSCL 3.4 MOOCs 4. The Power of NLP 4.1 Power of NLP 4.2 Drawback of NLP 부록 토의 후속조사 1. 일기자료 2. 학생관계 또는 학습자 유형별 모델링 3. 교사 보조 4. 자동채점 5. 아직.. & 다음 과제 1. \\'언어\\' 언어는 우리에게 세상과 소통하는 좋은 도구가 됨 선생의 입장에서 학생이 1) 새로운 정보를 학습할 때인지, 2) 그것을 다른 지식과 융합할 때인지 아는 것이 중요  적절한 텍스트 & 담론 분석 방법론이 필요 2. NLP 기존의 담론분석은 \\'NGD(노가다)\\' 그자체..  의미있는 단어나 절을 분석하고, 해석  빅데이터의 등장  NGD 불가능, 새로운 자동화 방법론의 필요 Def. Natural Language Processing ; 컴퓨터를 사용해 담론 분석을 자동화하여 인간의 언어를 해석하는 일 인간의 언어 O, 동물은 언어 X 1990s 중반부터 NLP의 영향력이 증가하기 시작함 (발제자 사족: 최근에 \"NLP\"라고 하면 단순 빈도만을 보는 방법보다는 머신러닝과 결합된 자연어처리 방법론을 통칭하는 것으로 보임)  언어의 어떤 특징을 잡아서 분석할 것인지에 따라 방법론의 종류가 나뉨 ; 단어, 단어의 속성, 의미, 담론의 구조 등등 2.1 The words 단어 자체에 집중하는 방법론을 소개하는 장 2.1.1 Linguistic Inquiry Word Count  (LIWC, http://liwc.wpengine.com/how-it-works/) 단어와 그것이 의미하는 심리학적 요인을 연결지은 사전(dictionary) 기반 담론분석 (최신 사전, LIWC2015 은 6,400개의 단어/이모티콘에 대한 정보를 담고 있음) 담론에 사용된 단어가 사전 속 어떤 심리학적 요인과 대응하는지 확인 후 전체 요인들의 비율을 비교  \\'00글은 긍정적 감정 4.2%, 분노 20%, 대명사 5%가 있다\\' 2.1.2 n-gram  (https://wikidocs.net/21692) 단어가 함께 등장한 빈도를 확률화 함 이 때 \\'함께 등장\\'했다고 보는 기준을 몇개의 단어로 보느냐에 따라 나뉨 (예. unigrams, bigrams, ...) 원리를 이해하기 쉽고, 단어 사이의 관계나 보다 깊은 의미를 얻어낼 수 있음. 다만, 모델 구축에 사용한 데이터에 너무 좌우되는 경향이 강함. (예, 마케팅 분야의 텍스트로 구축한 모델을 의학 분야 텍스트 분석에 사용한다면?     의학 전문용어를 전혀 이해하지 못할 것) 2.2 The Features of the Words 단어와 문장의 속성에 집중하는 방법론을 소개하는 장 2.2.1 Latent Semantic Analytic (LSA, https://wikidocs.net/24949) 가정: 단어의 의미는 그것과 함께 등장하는 다른 단어들을 통해 유추할 수 있음 방법 문서에 등장한 단어의 빈도를 표현하는 문서단어행렬(Document term matrix, DTM) 제작 DTM에 특이값 분해(Singular Value Decomposition, SVD) 수행 이를 통해 나온 행렬을 그대로 사용하지 않고 토픽의 개수만큼 절단해서 사용함(계산의 용이함, 노이즈 제거) 문서 - 토픽의 확률, 토픽 - 단어의 확률 정보를 담은 행렬이 나옴  문서 사이의 유사도, 단어 사이의 유사도 등을 계산할 수 있어짐 2.2.2 Coh - Metrix http://cohmetrix.com/ 2003년에 개발된 자동화 툴로 텍스트의 응집성을 분석해줌 Def. Coherence ;독자가 글에서 아이디어를 연결하는데 도움이 되는 텍스트의 지표들의 집합 지표의 예 (발표일 기준) 2.2.3 기타 툴 TAACO (Tool for the Automatic Analysis of Text Cohesion) SiNLP (Simple Natural Language Processing) Coh - Metrix: 저자가 너무 좋아하던데 Tool : TAACO, SiNLP, TAALES,  AoE (Age of Exposure) 2016년에 등장한 모델로 LDA를 기반으로 발전시킨 모델인 것으로 보임  AoE (2016).pdf 658.8KB 3. Application 3.1 Writing Assessment Automated Essay Scoring (AES) ; LSA, maching learning 등을 활용해서 글을 쓴 사람의 수준이나 정확도 등을 채점함 인간 전문가와 맘먹는 수준의 정확도를 보인다고 보고됨 3.2 Tutoring systems Autotutor 학생이 바른 정답을 구성해나갈 수 있도록 대화를 도움 그 과정에서 힌트를 주거나, 특정 행동을 장려하거나, 특정 주장을 하거나, 옳고 그름을 판정해주는 등의 행위를 자연어처리를 통해 진행함.   iSTART  (Interactive Strategy Training for Active Reading and Thinking) iSTART Demonstration https://youtu.be/aozJMXIMVfM 학생의 개방형 응답, 특히 자기서술형 응답을 받음.  평가 점수의 스케일이 0~3 점으로 다양하진 못하지만, 원하는 지식을 얼마나 습득했는지 자기서술형 응답을 자동으로 분석하여 확인할 수 있다는 점에서 의의 3.3 CSCL (교재에서 사용하는 dialogism 의 의미) ReaderBench http://www.readerbench.com/  감성분석: 흥분, 슬픔, 두려움, 분노, tender, 행복 중요 단어 및 토픽추출: 워드네트워크, 토픽모델링 문장의 복잡도: 이독성(readability), 기술통계(문단길이, comma 사용 횟수 등), 단어 복잡도, 연결 응집성 등등 참여자들의 참여율, 상호작용 모델링:  학생의 적절한 읽기 전략 제공 3.4 MOOCs MOOCs의 장점: 다양한 종류의 데이터가 많다. 예) 클릭데이터, 접속 로그, 숙제, 코스 진행률, 토론에서 생성되는 대화  학생의 태도, 학업 완수율, 학습 정도 등을 검사할 수 있지 않을까? 무크에서는 감성분석을 활용하는 경우가 많음 Moon et al (2014): 학생 중 리더를 찾아내는데 이모티콘 사용 Elouazizi (2014): 학생의 특정 단어의 사용과 저조한 참여율 사이의 상관을 밝힘 Wen and colleagues (2014): 학생이 인칭대명사와 동기와 관련된 단어를 함께 사용할 때 코스에서 중도탈락하지 않을 확률이 높음 Crossley, McNamara et al (2015): 학생의 코스 완주율을 70% 정확도로 예측해내는데 성공, 복잡한 언어를 사용하는 학생일 수록 코스 완주 자격증을 받을 확률이 높음 무크에서 연구할만한 주제; 중도 탈락 확률이 높은 사람 식별, 개입이 필요한 학생 식별 4. The Power of NLP 자연어처리 방법론의 위력과 한계에 대해 설명하는 장. 다양한 연구가 병렬적으로 등장함 4.1 Power of NLP NLP가 교육현장에 사용되는데 가지는 한계들을 극복하는 연구들이 다수 진행되고 있음. 영어 외 언어, 학생과 교사 사이의 글쓰기 능력 차이, 발화와 글의 차이, 과학분야 글의 단락 구분, 속임수 발견 등등...  자연어처리는 그 동안 학생과 교사가 언어를 사용해 직접 해왔던 모든 행위들에 대한 도전, 4.2 Drawback of NLP 단어의 빈도에만 주목한 방법론은 단어의 순서 정보를 담지 못함 예. LDA, LSA 를 비롯하여 bag-of-words (문서에서 사용된 단어가 모두 담겨있다고 상상할 수 있는 집합)를 사용하는 방법론들 맥락을 읽지 못함 예. 교수님이 대학원생에게 \\'(한참의 침묵과 허공을 응시한 뒤) 발제 준비하느라 고생했다\\' 모델링하는데 사용한 데이터에 너무 쉽게 휘둘림  NLP에만 기대지 말고 다양한 관점에서 학습을 바라보자 부록 K-LIWC 시도 (클릭) Humanyze 발표 내용 공유 (네트워크 분석 관련)  학생들의 협업을 모델링 할 방법? 토의  (주제1) 언어는 발화되는 순간 듣는 사람에 의해 해석되고 시간이 지남에 따라 재해석되곤 합니다. 지인을 만나고 돌아오는 길에 \\'그 때 걔가 한 00말이 무슨 말이지?\\'라고 곱씹어본 경험이 다들 있으실겁니다. 또 질적연구자들은 인터뷰 자료를 두세번도 모자라 수십번씩 다시 읽어보며 발화의 의미를 살펴보곤 하죠. 언어는 발화자와 수용자가 상호작용하며 의미를 구축하기 때문입니다.  오늘 배운 자연어처리 기법들은 단어의 빈도, 단어 사이의 등장관계, 문서와 단어 사이에 존재하는 토픽 등을 수리적, 통계적으로 모델링하는 방법을 주로 사용했습니다. 인간이 언어를 해석하는 직관적인 방식과는 그 뿌리가 다른거죠. 친구가 지나가면서 툭 던진 말은 다시 곱씹어볼 가치가 있기도 하지만, GPT-3 를 통해 쓰여진 소설을 읽으며 GPT가 사용한 단어의 의도와 문장 사이의 관계, 전달하고 싶었던 메세지에 대해 곱씹어보는 행위가 의미 있을까요?  과연 자연어처리 기법으로 나온 결과물은 1) 단순히 우리의 이해와 의사결정을 돕는 보조장치일까요, 2) 향후 발전하여 독립적이고 가치있는 의미를 생산하는 체계로 작동할 수 있을까요? 1  (주제2) 지금까지 우리 스터디에서는 즐거운 토론을 많이 했지만, 오늘 공부한 Ch8은 방법론을 위주로 설명하는 장이었습니다. 방법론의 원리가 무엇인지 아는 것도 좋지만, 그것을 활용해서 어디까지 구현할 수 있는지 아는 것은 실천가의 입장에서 중요하다고 생각합니다. 주제2는 토론보다는 발제자의 추가 숙제로 마무리하려고 합니다.  \"나였으면 교육에 자연어처리 기법을 이렇게 접목해봤겠다!\"는 새롭고 참신한 아이디어를 한 조당 1~2개 씩 내주시면 성지훈이 다음주까지 그 아이디어가 교육에 어떻게 구현되어 있는지 또는 구현되지 않았는지 확인해서 정보공유하겠습니다.  1 예시) 교사 생기부 작성 보조를 위한 초안 작성 봇, 학생 활동 데이터를 놓치지 않고 포착할 수 있도록! <현지, 웅기, 재용> 1번 질문 : 자연어처리의 산물은 보조물인가, 독립적인가? 현지 : 둘 다 가능하다  1) 보조장치로 이미 사용중 2) 니체: 말을 짧게 씀으로써 독자로서 생각하게끔 한다= 비교적 단순한 문장이라도 생각할 거리를 줄 수 있다, 기술적으로는 문제가 없을 것 같다. 웅기 : GPT로 문장 생성 가능  시, 수필 학습 시 양질의 결과물 산출 (어색한 표현 문학적으로 허용 가능)  문장 생성 모델을 학생들의 글쓰기에 활용할 수 있지 않을까?(새로운 표현 탐색, AI-사람 협력해서 창작) 사람이 상상하지 않는 결과물 도출  이야기에서는 모든 게 허용이 되니까 창의적 글쓰기에서 유용하게 활용 가능 재용 : 현재는 1) 국한되지만, 결국 미래에는 2)까지 구현 가능할 것 같다.  바둑 >  기존의 인간이 바둑 수를 두는 기법과 굉장히 다른 기법으로 진행  이러한 새로운 기풍이 교육학적으로도 의미 있을 것 같다.   사람이 하지 않을 것 같은 분야에 대한 기술적으로 새로운 옵션 제시함으로서 새롭고 창의적인 결과물을 도출할 수 있을 것 같다 2번 질문  재용 : 문학적 글쓰기의 새로운 도구로 활용할 수 있겠다. 논문 요약 현지:  논문 작성 시 내가 작성한 키워드를 중심으로 자동검색하여 참고문헌 자동으로 옆에 붙여주기, 학습을 지속하는 데에 정서적 요인이 매우 중요하다  SNS 대화로부터 학습자 정서 파악  적절한 개입 시기 판단,  웅기 : 일기로부터 학습자 상황에 대한 시그널 파악하기 (ex) 학교폭력 징조 파악  <주홍, 해린>  \\'곱씹는다\\'의 행위의 유의미성  - 글의 목적 및 종류에 따라서 달라짐   > 시스템, 인공지능 차원에서는 의미가 없을 수도  - 기반하는 데이터의 속성    > 소설은 곱씹을만함 - 인간이 함축적으로 쓸만한 표현들로부터 추출한 데이터이기 때문에 곱씹을만하다       - 인간의 행위나 경향이 들어있음   - 개선책   > 다른 기법과의 결합 eg) 신경망 알고리즘  곱씹을 만해질 것    >  결과물에 대한 해석 방법이나 관점의 중요성  * 학생간 관계 파악에 사용 - 생활 속에서 수집한 발화 데이터 / 어조 파악의 어려움  - 어조 파악: 문장간 관계, 드라마/영화 등의 실생활과 비슷한 소스에서 어조에 대한 데이터 수집  * 교사의 칭찬/지적 발화를 분석  - 칭찬을 하면 몇번을 하는지, 골고루 하는지 / 칭찬의 기술 - 좋은 칭찬?  - 칭찬을 잘하는 선생님: 교수자 컨설팅   > 교육적 개선     > 스스로 분석하기 힘듦  * 질문을 분석 - 사고를 확장/닫게 하는 질문인지, 내재적 동기를 부여하는 질문인지, 지시적 질문인지 스스로 해결하도록 하는 질문인지  <은서, 준오, 혜원> 준오 : 인간수준을 넘어서면 독립적이고, 의미를 발견할만한 수준으로 가치가 있지 않을까. (Ex. 알파고 라마누잔머신)  사람이 할 수 있지만 너무나 시간이 오래걸려서 못하는 것들에 대해서 도움을 줄 수 있을 것 은서 : 정답/핵심키워드가 정해져 있는 상황에서는 NLP가 유용하겠으나, 문학/개인간발화/과거사건에 근거해서 말하는 것에 대해서는 보조장치로서만 영향이 있을것. 소설 작성하는 인공지능도 있다. 혜원 : 사람의 노동력 보조는 되겠지만, 채점 창작은 어려운 것이 아닌가. 채점기준이 있고, 사람이 채점한 것과 머신이 한 채점의 오차가 어느정도인지에 대한 연구 과정중심평가에 도움이 많이 될 것 같다. 예)영어학습 과정에서의 수준 파악. 현재는 키워드채점에 머물러 있음 GPT와 장르 글쓰기 <유경, 지훈, 서연> 문학을 곱씹는 것과, 사람 사이의 관계에 있어서 곱씹는 것 사람 사이의 관계: 갑  을인 경우.. 을이 신경 많이 씀 챗봇은 사람과 관계할 때 을의 위치..  사람이 챗봇을 굳이 신경쓰지 않을듯 챗봇과 인간적 관계를 맺는 사례들이 나타남(이루다).  문학을 곱씹는 것: 아직 할만한 가치는 없어보임 아동이 언어를 학습하는 최적의 시기  0~5세, 이 때 언어의 체계를 학습함.  언어는 단순히 문화적, 감성적인게 아니라 \\'체계\\'를 받아들이는 일.   이런 체계를 자연어처리 기법에서 흉내낸다면... 기술 자체가 언어의 본질적 체계를 의미를 가지는 순간이 오지 않을까 아이디어1. 7, 8장에서 발화데이터 이야기를 많이하는데, 학습자별로 학습유형을 판단하거나 질문을 많이 던지거나/갈등 조장/ 등 발화 유형을 구분하는 연구가 있는지 (Kolb learning style을 설문조사 말고 발화데이터 분석으로 분류할 수 없을까?) 아이디어2. 성취도데이터 말고, 생기부를 쓰기위한 아이들의 행동, 정서상태를 참조하는 자료는 \\'일기장\\'. 교사의 직관으로 데이터를 해석해서 생기부를 쓰는 경우(예, 애정결핍을 가진 아이가 일기장에 반어법을 쓰거나..)에 자연어처리분석을 통해 판단근거를 뒷받침 할 수 있지 않을까. + 독후활동 자료 활용 아이디어2-1. 일기장 감성분석 (감정 기복이 심하거나, 감정을 아예 드러내지 않는 경우) 후속조사 1. 일기자료 Diary Study 참여자들에게 특정 질문에 대답하거나, 특정 형태를 갖춘 자기보고식 일기를 주기적으로 쓰게하여 자료를 수집하고, 이를 분석하는 연구. SNS나 조건부공개된 일기를 사용하는 연구는 있지만, 날것 그대로 학생의 \\'일기장\\'을 수집하여 진행한 연구는 없었음 이런 raw한 일기데이터를 사용한 연구는 발견할 수 없었음. 1 이렇게 \\'일기\\'를 정의하고 특정 목적에 맞게 쓰기행위를 강제한 연구는 쉽게 찾아볼 수 있다. (남경운 외 (2004). 과학일기쓰기가 과학영재의 과학에 관련된 정의적 특성에 미치는 영향. 한국과학교육학회, 24(6). 1272-1282.) 2. 학생관계 또는 학습자 유형별 모델링 학생간 관계 모델링 또는 집단대화에서 발화유형 구분 자연어처리를 통한 관계 모델링은 없는것으로 보임. (학생-교사, 직원간 등 검색해봄) 작년 Journal of LA에서 협력기반 문제해결 학습을 분석하기 위해서 집단대화분석(Group Communication Analysis)을 수행한 연구가 있으나 측정하는 measure가 참여, 사회적 영향력, 전반적인 반응성 등으로 자연어처리에서 기반한 feature가 아님(Nia M. M. Dowell, Yiwen Lin, Andrew Godfrey, & Christopher Brooks, 2020) 괜찮은 발견1. 파괴적 대화를 자동으로 발견해주는 시스템 (using LSTM) Park-LAK21-caemra_ready.pdf 4582.0KB 학습유형 이론을 받아들이고, 그것을 특정 맥락에 적용하는 연구 간호대 신입생의 학습유형이 인구통계학적 특성에 따라 영향 받는지 연구(Angelo D\\'Amore, Santhamma James, Eleanor K.L. Mitchell, 2012) 파키스탄의 교육학 학사생들 대상으로 설문조사를 하여 학습유형을 조사한 연구(Sani Nasir, Shahid Hussain Mughal, Amjad Ali Rind, 2021) 사우디의 학생과 교사를 대상으로 설문조사하여 학습유형 및 교수유형을 분류하여 그 차이를 보는 연구(Alaa Q. Alhourani, 2021)  아직 학습유형을 나눠서 이런 저런 맥락에 적용시켜보는걸 재밌어 하는 연구자들이 있다! 학습유형 이론 자체에 대해 재고하는 연구 Kolb\\'s experiencial learning mode  이론이 받는 비판; \"정말 구체적 경험과 개념의 추상화 두가지 축요인으로 깔끔직교하게 학습자가 나뉘나?\" (Carvajal. C. C., Gomez. C. X., Siu L.L., & Mauricio Briceno, 2021)  학습유형 자체가 수리적으로 엄밀하게 모델링 되었는지에 대한 확인 필요 3. 교사 보조  찾기 쉽지 않음.. 교사를 보조하기 위한 LMS의 dashboard 연구는 많은데 대부분 학업성취나 참여도 관련한 것으로 보임 4. 자동채점 채점기준이 뭐지?  어떻게 채점과정을 자동화하나? 결과물이 학생지도에 도움이 되는가? Project Essay Grader(PEG, 1996개발) 교사가 준 점수를 가장 근접하게 예측하는 요인 탐색  단어의 길이, 단어의 수, 쉼표 및 전치사의 개수 등을 수집할 필요성을 제안.  간접적인 측정방식이라는 한계. 이 메커니즘을 이해하면 평가대상자가 gaming 할 수 있음 LSA, LDA Intelligent Essay Assessor (IEA, 1999개발) LSA를 사용해서 답안 평가. 모델이 반드시 유사한 맥락을 가진 텍스트로부터 훈련 받아야하고(예. 생물 답안 채점하는 IEA모델을 사회 교과서로 학습 시키면 안됨), 모범답안과의 비교를 통해 평가 이슬기(2017) LDA를 수행하면 나오는 문서의 \\'응집성(coherence)\\'값을 활용하여 평가. 키워드 채점 강원석(2011). 서답형 문항의 질의유형을 6가지로 나누고, 키워드 채점.  ... 너무 많은 키워드 채점 방식. 논증문 채점 Ong. et. al.(2014).  논증문의 문장들을 1) 최근 연구, 2) 가설, 3) 주장, 4) 인용, 5) 지지, 6) 반박, 7) 해당없음의 7가지로 나눈 뒤에 각각에 따라 채점 알고리즘\"가설로 태그된 문장이 적어도 하나 이상 존재할 경우 1점\"을 적용 인간이 판단했을 때 \\'잘\\'쓴 에세이에 대해서는 유의한 평가 정확도를 보임. (못쓴 에세이는 제대로 평가하지 못함)  설령 이렇게 평가한게 인간의 채점값과 유사하더라도, 지도에 도움이 될만한 정보가 없음.  이만형(2021).  채점기준: 단일 논증 요소, 논증 클러스터, 과학적 주제, 발화 형태소 + n-gram Support Vector Machine(SVM), 의사결정나무, 랜덤포레스트를 활용  하지만,  1. 자동채점으로 나온 결과를 현장에서 얼마나 수용할 수 있을까? (예. 자동채점한 서술형 수행평가 점수가 내신에 반영된다면 학생과 학부모, 이를 활용하여 선발하는 대학이 내신을 신뢰할 수 있을까? )  2. 왜 석사 학위 논문으로만 나올까..? 5. 아직.. & 다음 과제 괜찮은 발견2. 교실 속 학생 위치데이터를 통한 소셜 다이나믹스 추적연구 LAK2021_Footprints_at_School.pdf 1269.2KB1. Intro 1.1 Journal of Learning Analytics 에서 일었던 논쟁 1.2 경험나눔 2. Theory 2.1 Epistemic Frame Theory 2.2 Epistemic Network Analysis 3. Method 3.1 data 3.2 model 3.2.1 node, edge construction 3.2.2 positioning on x-y plane 4. Results 4.1 개인별, 개인간 분석 4.2 Summarize Network using centroid 5. Discussion 6. 부록 6.1 Expertise 6.2 Python Code 6.3 reading 7. discussion session 1. Intro 1.1 Journal of Learning Analytics 에서 일었던 논쟁 Williamson Shaffer, David Alyssa Wias 데이터만 충분하다고 모든 문제가 해결되지는 않는다.  \"이론 기반의 학습분석을 수행해야 한다!\" 1.2 경험나눔 Discourse Analytics 에서 공유드리기로 했던 결과 잠시 소개 \"그래서 그 결과가 뭐 어쨌다고?\" 2. Theory 2.1 Epistemic Frame Theory (Shaffer, 2004, 2006, 2007, 2012) <사회적 필요성> 전문가에게 수용적사고, 비판적사고 뿐만 아니라 융합적 사고가 요구됨 전문가가 단순히 많은 지식을 아는 것이 아니라, 그 앎을 실천할 수 있는 과정지식 즉 기술이 있어야하고, 이를 전체적으로 아우르는 적절한 태도를 갖출 것이 요구됨  <의도> 인식론적 틀에 대한 이론으로 실천 공동체(community of practice) 내에서 생각, 행동, 존재하는 방식을 모델링하기 위함 예. \"대학원의 학문 공동체에서는 연구 결과물을 만들어내기 위해 개인과 집단의 지식(K), 기술(S), 가치(V)를 어떻게 사용하는가\" <분석방법> 실천 공동체에 들어갔는지 확인하는 방법은 그 사람이 하는 말, 즉 \\'담화\\'를 보는 것 담화에는 그 사람이 말하고, 듣고, 상호작용하고, 느낀 것 등이 포착될 수 있기 때문임 전제: 전문가일수록 복잡한 인지구조를 가지고 있고, 담화를 통해 이를 모델링할 수 있다. 2.2 Epistemic Network Analysis Epistemic Network Analysis Epistemic Network Analysis (ENA) is a method for identifying and quantifying connections among elements in coded data and representing them in dynamic network models. A key feature of the ENA tool is that it enables researchers to compare different networks, both visually and through summary statistics that reflect the weighted structure of connections. https://www.epistemicnetwork.org/ Epistemic frame theory을 구현하는 방법 중 하나: Epistemic Network Analysis (이하, ENA) 우리가 보고 싶은 것들지식, 기술, 인식의 공출현 빈도를 통해 담화 속 epistemic frame을 관측 ENA 결과물의 예시. 지식, 기술, 인식 등이 얽혀있는 모습 3. Method  3.1 data <Epistemic Game> 학생이 전문가가 하듯 생각하고 행동할 수 있도록 전문가의 실제 업무를 체험해 볼 수 있는 도구 Land Science https://landsciencetech.com/ 작은 팀을 이루어 여러 이해관계자의 요구를 고려하여 도시 구획을 새롭게 짜는 과제 수행 이를 위해 학생들은 문헌리뷰, 설문조사를 비롯해 GIS 프로그램 기술을 사용하는 등 다각도로 문제해결을 위해 접근해야함  지식, 기술 + 협업 등(soft skill) 311명의 학생 (대학생 7집단, 고등학생 8집단)의 대화기록 44,964개 추출 3.2 model  본 페이퍼에서 가장 중요한 부분이 아닐까 싶습니다. 연구 타당도를 높이기 위해 전통적인 영역의 선행연구들을 접목할 수 있을 것 같아요. 3.2.1 node, edge construction <Node> 우리가 보고싶은 \\'코드\\'질적연구에서 코딩하는 것과 유사하다고 이해 (본 연구에서 아쉬운 부분, 아래 그림 속 각 5개도 \\'codes\\'라고 부르는데, 살펴보면 \\'S.zoning.codes\\' \\'K.zoning.codes\\'와 같이 다시 code 명칭이 재사용됨 ) 본 연구에서 사용한 코드는 크게 Knowledge(K), Skill(S), Identity(I), Epistemology(E)로 나뉘며 총 24개 사용됨(Appendix 참고) 노드 구성 예시1. Jorge는 환경에 미치는 영향과 저소득 주택 이슈에 대해 설명했다 노드 구성 예시2. Natalie(8)가 구역 지정 문제가 지닌 충돌지점을 일반적으로 이야기하자, Depesh(10)는 이를 구체화하여 공용 공간의 확장에 대해 이야기하였다 <Edge> 코드들이 한 구역(\"Stanza\") 내에 동시에 출현할 때마다 edge의 가중치가 증가하는 구조 Stanza란, 시(poem)에서 몇 개의 행이 묶여 구성된 \\'연\\'을 의미 3개의 Stanza로 구성된 시 1 엣지 구성 예시. 한 stanza 내에 공출현한 code의 횟수를 표기한 인접행력 3.2.2 positioning on x-y plane 기본적인 네트워크 분석에서 도출되는 네트워크 그림에는 \\'관계\\'만 있고 위치는 없다는 한계점 그래서 파이썬 모듈(NetworkX)로 그래프를 그릴 때마다 노드의 위치가 조금씩 바뀌거나 노드의 위치를 특정할 수 있는 옵션이 존재함  ENA는 위치 정보를 맵핑할 수 있다는 장점 <vector> 인접행렬의 우상단 영역을 하나의 벡터로 삼음 10차원의 벡터 ENA는 결과물을 활용해 개인간 비교를 할 수 있다는 장점이 있는데, 이를 위해서는 담화의 \\'길이\\'가 분석결과에 미치는 영향을 없애야함  stanza의 길이를 활용해 벡터 값을 정규화함 <Single Value Decompostion> 코드 사이의 연결 갯수만큼 벡터의 차원이 결정되는 한계   representation accuracy는 좋아지겠지만, 시각화에 어려움 이를 해결하기 위해 2차원으로 데이터를 요약하는 기법 사용(truncated SVD) 4. Results 4.1 개인별, 개인간 분석 <입문자> 특히 \\'K\\'로 시작하는 노드가 많고, 그것들 사이의 연결도 두드러지는 학생으로 지식을 \\'아는\\' 상태라고 해석 <숙련자> 앞선 입문자에 비해 좀 더 많은 Skill과 Epistemology를 가지고 있음을 확인할 수 있고, 그것들 사이의 연결도 심화됨  개인간 비교분석이 용이해진 이유  앞서 노드의 위치를 특정하는 과정을 거쳤기 때문  그럼에도 불구하고, 시각적 분석이 가진 한계. \"만약 노드가 100개, 1000개...?\" 4.2 Summarize Network using centroid 개인 네트워크를 대표할 수 있는 점으로 네트워크 내 노드들의 무게중심 사용  개별 네트워크를 하나의 점으로 축약 가능 무게중심을 사용해 네트워크를 요약하는 과정이 잘 이해가 되지 않는 분들을 위한 추가 설명 <네트워크를 머지한 결과> 여러 네트워크를 요약한 그림. 여기서 각 노드들은 각각의 학생을 대표한다. 회색글씨로 \\'Advanced Urban Planning Thinking\\' \\'Basic Professional Skills\\' 등과 같이 사분면 별 특성을 명명할 수 있어진다 <분석 예1. 노드별 인구통계학적 특성에 따라 점 색깔을 달리하여 분포를 비교> \"학생의 인구통계학적 특성에 따라 어떻게 다를까?\" Fig15.3 속 검은색 점은 대학생, 회색 점은 고등학생임 대학생의 평균은 2사분면의 box에 위치하였고, 고등학생의 평균은 4사분면의 box에 위치  대학생이 좀 더 발전된 도시계획 사고를 할 수 있고, 고등학생이 좀 더 재개발 문제의 지식을 가지고 있구나  성별에 따라? SES에 따라?  <분석 예2. 네트워크를 투사한 그림  개인별 네트워크> \"네트워크를 투사한 그림(하단)을 보면 학생B과 학생C가 너무 가까운데, 실제로 그런지 학생B와 학생C의 개인네트워크를 봐볼까?\" (출처: Appendix 속 논문)  네트워크 분석결과를 타당화할 수 있는 근거로 사용가능 본 연구 전체 데이터 핸들링 프로세스가 헷갈리시는 분들을 위한 추가설명 5. Discussion  domain specific knowledge에 기반하지 않은 분석이 가능한가?  \"학습은 개인의 실제 수행에서 드러나는 지식, 기술 사이의 연결을 통해 특성지어질 수 있다\"   Epistemic Network Analysis 연구에서 말하진 않았지만 실제 수행시 고려해야할 점 6. 부록 6.1 Expertise Expertise  6.2 Python Code  지금까지 학습분석 스터디에서 봤던 페이퍼는 실제 따라하라면 장비가 필요하고.. 분석이 까다로워보였는데, 네트워크 분석 코드는 가지고 있는게 있어 공유드립니다. 6.3 reading David W S & Ruis (2017).pdf 825.8KB Handsbook of LA 원문 David W. S., Wesley, C., Ruis(2016).pdf 5070.7KB 참고하면 좋을 자료. 동일 저자라 내용이 매우 흡사하지만 설명 좋음 1. Intro 1.1 Journal of Learning Analytics 에서 일었던 논쟁 1.2 경험나눔 2. Theory 2.1 Epistemic Frame Theory 2.2 Epistemic Network Analysis 3. Method 3.1 data 3.2 model 3.2.1 node, edge construction 3.2.2 positioning on x-y plane 4. Results 4.1 개인별, 개인간 분석 4.2 Summarize Network using centroid 5. Discussion 6. 부록 6.1 Expertise 6.2 Python Code 6.3 reading 7. discussion session 7. discussion session 지금까지 우리 스터디는 주차별 주제에 대하여 심도 깊은 논의와 각자의 생각을 자유롭게 뻗치는 긍정적이고 밝은 시간을 가져왔습니다. 오늘은 조금 방향을 전환하여, 그 동안 \\'학습분석(Learning Analytics)\\'에 대해 아쉬웠던 점들이 있는지 나눠보며, 아래의 두가지 활동을 하고자 합니다. 오늘 주제인 ENA 또는 theory-based approach에 대해 간략한 소감이나 의견을 나눠보고, 지금까지 우리 스터디에서 발표된 페이퍼 중 Best Paper와 Worst Paper를 선정하고 그 이유를 설명하기 <이웅기, 황준오, 권현지>  1번 주제 준오 : 1) 이론의 중요성을 강조했는데, 기존보다 이론적인 접근 부분은 크게 발견하지 못했다.            2) 네트웍으로 나타낸 것 재미있었다. + 표 15-2. 만들다 만 것 같아 이따 이야기를 해보겠다.  게임이 학교다 https://www.aladin.co.kr/shop/wproduct.aspx?ItemId=7228832 웅기 : 학습 분석이라고 해야할까? 라는 의문이 듦, 데이터를 다룬다는 측면에서 \"속도\"도 중요  이렇게 연구자가 모두 코딩하는 작업  실전에서 적용하려면 연구자들이 전문가 모두 불러서 이 작업해야하는 것이면 전통적인 네트워크 분석이랑 어떤 점이 다른 것일까? 테크닉적인 부분도 크게 유의미한 차이를 발견하지는 못함. 실용적이지 못하다는 느낌을 받음 현지 : Domain specific knowledge 기반하지 않은 분석이 가능한가? 예) 가능하긴 하지만, 해석과 이해의 질 차이가 있겠다.   실제 교육 현장에서 교육적인 도메인이 없는 분도 로그 데이터로 학습 패턴을 발견할 수 있음  다만, 심리적인 구인 등에 대해서 제대로 이해하지 못하는 경우도 있음  웅기쌤) 어떻게 보면 domain specific knowledge 기반의 유무 > \"속도\" 차이 2번 주제 worst  용두사미, specific하기보다는 약간 두루뭉술한 발제는 영양가가 떨어지는 것 같다.  (구체적인 예시가 없고, 너무 포괄적이면)  best  chapter 6 : 포괄적으로 최대한 다양한 내용 소개  Explanatory model : 다양하고 구체적인 사례 소개 발제자의 학습내용 전달력(기술)의 관점에서, 이재용쌤, 발화분석 : 발제자의 효과적인 전달력 <라수정, 이은서, 엄주홍> 1번 주제 수정 - 김용란 교수님 수업 - 빅데이터 분석 방법론을 안 좋하시는 이유 - 연구자는 가설이나 이론을 갖고 있어야 한다. 이론이 세상을 보는 하나의 관점이라고 본다면, 결국에는 모두 theory-based approach 일 것.  - 글에서 코딩을 한다 = 인터뷰에서 공통된 테마를 뽑아서 노드를 만드는 작업 - 연구자가 갖고 있는 주관적 경험, 관점, 세계관이 필연적으로 반영됨  - 양적 연구도 질적 요소를 볼 수 밖에 없다.  데이터의 맥락      양적 조사 결과와 문맥을 연결하는 보편적 방법: 회기 분석을 해서 나온 결과가 왜 negative 인지, positive 인지 판단하려면 해당 국가의 정치적, 역사적 상황을 봐야 함  - 전문성과 역량      전문성/숙련도: 그 영역에서의 능숙함      역량: 한 개의 직무를 수행하기 위해 필요한 것  주홍  - 이론의 의미를 어떻게 파악하느냐에 따라서 다를 것 같다. 이론은 변수로 이루어진 인과관계.  - theory-based approach 는 단순히 결론을 내기보다는 추후 실천적 적용과 관련. 은서  - 어느정도 연구자의 관점을 기반으로 해서 데이터를 갖고 오는 것.  - 교육 심리 - 질적 & 양적 연구를 많이함.  2번 주제 <빈, 지훈, 윤희> 1번 빈쌤: 뭐가 그렇게 특별한건가 윤희쌤: 다른 분야에도 적용해보고 싶다.  e.g. 프로파일, 인공지능과 사람이 어떻게 협력하는가 기본적인 인터뷰 구조는 질문-답 구조 이므로, 질문별 답변을 하나의 Stanza 2번 Best 윤희: 협력학습 다중양식 분석(Multimodal LA) 논문 결과가 좋았음. 전문가의 참여관찰 타당도가 보장됨 Cukurova, M., Luckin, R., Milln, E., & Mavrikis, M. (2018). The NISPI framework: Analysing collaborative problem-solving from students\\' physical interactions. Computers & Education, 116, 93109. https://doi.org/10.1016/j.compedu.2017.08.007 빈: 대시보드연구의 높은 응용 가능성 Worst 감정을 드러내는 인공지능 튜터 의도는 알겠으나.. 인공지능이 웃고 있는 것을 보는게 너무 이질적이었음 6. Going Beyond Better Data Prediction to Create Explanatory Models of Educational Data  감성분석 이상함 <재용, 혜원> 재용 : 지금까지의 데이터 분석 등에서 이론적 기반이 없고 결과만 보여주는 사례들 위주로 보다가 전체 과정을 살펴볼 수 있는 연구라고 매우 흥미로웠음. 질적-양적 연구를 연결하는 느낌이라 신기했음. 혜원 : 이론적 기반이 있어야 이러한 분석이 의미가 있을 것. (질적연구 강좌  연구자의 직관이 매우 중요함) 재용 : 이론적 기반이 없는, 아직 없는 새로운 분야 같은 경우에서는 역으로 분석으로부터 이론을 창출해낼 수 있지 않을까 생각함. ex) ITS에서 적절한 난이도의 문제를 처방할 때는 이론보다 데이터의 패턴에 의존 과연 인간은 이론에 의존하지 않고 관찰, 분석할 수 있는가? 구성주의 - 관찰의 이론 의존성 (사람마다 렌즈 색이 다르다. 빨간 렌즈로 보면 빨갛게, 파란 렌즈로 보면 파랗게 보인다)1. Intro 2. How Professionals Learn 3. A Vision For PLA 3.1 Analytics in Action 3.2 Accelerating Just-in-Time Learning 3.3 Exploiting Organizational Networks 3.4 Making use of Specialist Expertise 3.5 Encouraging Active Learning 4. Conclusion 5. 토의 게더타운 사용 1. Intro 과거의 패러다임 조직의 성과를 위해 개인의 성장을 희생하는,  신입사원으로 입사를 했을 때 원하는 미래 커리어를 위해 내가 거쳐야할 CDP(career development plan)가 무엇인지 알 수 있는, 조직의 HRD부서가 탑다운 방식으로 조직구성원의 교육과정을 가이드하고, 관리할 수 있는,  상대적으로 긴 시간 지속되는 수익모델 상대적으로 폐쇄적/물리적 일터환경 현대의 패러다임 개인의 행복, 자아실현, 인간적인 노동환경 등이 강조되는, 신입사원으로 입사를 했을 때 내가 5년 뒤에 무엇을 하고 있을지 예측하기 힘든, 배워야할 것이 너무 많아 일괄적으로 통제하기 힘들며,  어느정도 개인의 학습에 자율성을 줄 수 밖에 없음 빠르게 변하는 시장과 치열해지는 경쟁으로 인해 수익모델의 수명이 짧아짐 기업 운영의 기반이 점점 디지털화됨  1. 조직이 개인의 학습과 개발과정을 온전히 통제할 수 없으며,  개인의 자율성과 전문성에 기대 학습을 지원하는 형태로 변화함.  2. 기업의 일터환경이 점차 디지털화되면서 조직의 현황/상태 등을 보여줄 수 있는 디지털 기록의 증가 3. 학습분석은 학습자의 데이터를 수집, 측정, 분석하여 그 메커니즘을 이해하고 최적화를 돕는데 기여할 수 있음  Professional Learning Analytics 의 필요성 2. How Professionals Learn  본 챕터에서 사용되는 \"professional learning\"의 의미 전문적 지식과 사고 자극, 업무 성과 개선, 최신 정보에 근거한 실천을 위한 전문가의 활동  Professional Learning의 분류 (좀 엉성하긴 하지만.. 일단 개략적으로 받아들이는 정도로 적당함) 전문가가 갖춰야할 것은 직무 관련 지식과 기술 뿐만 아니라 의사소통, 협상, 설득, 갈등관리 등을 위한 소프트 스킬과 주인의식, 도전정신과 같은 마인드셋도 있음 교육방식형식교육, 비형식교육, 무형식학습 등에 대한 구분 없이 종합적인 학습이 필요함 특히 Professional Learning에서 무형식학습은 의도하지 않아도 자발적으로 일어나며 관측하기 힘들기 때문에 교수-학습상황에 비해 학습이 더욱 역동적이다.  개인의 능력과 동기부여 외에도 개별 일터의 특성이 상호작용하며 일터학습을 구성함 3. A Vision For PLA [PLA의 이상] 인공지능을 활용하여 전문가들을 자유롭게 연결하고, 그들의 지식과 경험이 공유 및 축적될 수 있는 시스템의 구축 \\'인공지능을 활용하여\\': 데이터마이닝, right time을 예측하는 알고리즘 등 \\'전문가들을 자유롭게 연결하고\\': 동일 분야 또는 여러 분야의 전문가를 필요에 따라 연결할 수 있어야함 \\'그들의 지식과 경험이 공유 및 축적될 수 있는\\': 위키매니지먼트 등을 통해 사내 다양한 지식을 축적, 공유함으로써 조직 맥락에 좀 더 맞는 지식을 창출함 1 학내 구성원에게 제공되는 워크스페이스 \\'두레이\\'. 프로젝트별 위키기능을 제공하여 지식과 경험의 공유를 촉진함 [이후의 PLA의 5가지 이상을 말하기 위해 필요한 가정 2가지] 전문가는 일정 수준 이상의 자기조절 학습을 수행할 수 있어야 한다. 동기를 부여하기 위해 학습이 이뤄지는 학습시스템이 일터 맥락과 분리되지 않고 통합되어 있어야 한다.  예. 연수원에서 진행하는 집합교육 x 3.1 Analytics in Action 학습분석에서 사용되는 일반적인 방법론이나 행동데이터가 PLA에서도 사용됨 예. 학습과학, 컴퓨터과학, 정보이론 등 예. 발화데이터, 학습자 성향 자료, 생체정보, 학습자 위치 정보 몇몇 분석의 예시 LA의 다양한 접근법이 전문가의 환경에 맞춰 시험되었음 학습플랫폼에서의 디지털 흔적을 활용하는 경우 Social Learning Analytics(SLA): 개인과 조직이 지식을 학습하고 개발하는 과정을 규명  아직 행동데이터를 활용한 접근과 개발은 초기 단계 수준,   행동데이터를 활용한 새로운 시도는 조직 구조, 피드백 방식, 학습과 업무를 수행하는데 필요한 인적/물적 자원이 지원되는 방식의 변화를 요구함  3.2 Accelerating Just-in-Time Learning 직원이 교육을 받아도 그것이 실제 업무 맥락에서 드러나지 않으면 의미가 없음  구성원들이 스스로 학습 필요성을 느끼는 때나 당장의 업무를 위해 필요한 학습을 제공하는 것이 중요 Wearable Experience for Knowledge Intensive Training https://wekit-community.org/ 웨어러블 기기에서 발생하는 데이터를 사용해 전문성을 포착하고 확산할 방법을 탐색하는 것(프로세스 하단 참고) 1단계. 전문가와 이해관계자 집단에서 기술 개발 경로(skill development pathways) 규명 2단계. 소프트웨어 개발자가 기술 개발 경로를 보고 입문자가 절차지식을 습득할 수 있도록 보조하는 기술을 개발함 3단계. 시각 인터페이스를 가진 도구에 전문성이 전이되어 입문자가 이를 활용하여 전문성을 개발함    월마트 직원이 VR로 훈련 받는 모습 3.3 Exploiting Organizational Networks 전문가의 학습은 자기주도적이기 때문에 그들이 어떻게, 어디서, 누구와 상호작용하는지 이해하는 것이 중요  무형식학습과 학습네트워크를 시각화하여 드러낼 필요 있음 Learning Layer http://project.learning-layers.eu/ http://results.learning-layers.eu/ 개인 간, 조직 내, 조직 간 네트워크를 규명하여 성과를 개선하려는 프로젝트 1 SME: small to medium enterprises 의료, 공사 분야 분석결과 전문가는 3가지 수준에 따라 일과 학습을 병행함 개인 수준: 개인 간 지식교환기술지식, 절차지식, 이론지식이 이루어짐 조직 수준: 개인이 여러 조직에 속해 협업하며 지식이 공유됨 조직 수준: 여러 국가에 속한 조직들이 협력하며 조직 간에 학습이 이루어짐 Humanyze 이전에 스터디에서 공유했던 조직 데이터 분석 기업 https://humanyze.com/ 3.4 Making use of Specialist Expertise  Responsive Open Learning Environments (ROLE, 현재는 사이트 접근 불가) 목적: 업무와 학습의 변화 및 불확실성에 적응할 수 있도록 돕기 위함 학습 플랫폼의 기능을 개별학습자 별로 다르게 설정할 수 있는 자유도 부여  전문가가 자신의 전문성을 학습 플랫폼에 임베딩할 수 있고 이는 유사한 업무나 학습 요구가 있을 때 도움 자료로 활용됨 두 가지 난점: 1) 전문가가 웹에 자신이 원하는 기능을 모두 구현할 개발능력이 없음, 2) 전문가가 자신의 학습 필요를 알아내고 이에 맞춰 행동하기 어려움  \"웹에 재구조화를 통해 전문가의 인지구조를 시각화하고 전문성을 전이시키려는 시도\" 정도로 이해하면 적절할듯 3.5 Encouraging Active Learning 두 가지 LA system의 예시: Learn-B, Mirror.LearnB 전문가의 자기조절식 학습을 지원하기 위하여 SRL Framework 에 기반하여 설계됨 Self Regulated Learning Framework  자기 통제에 영향을 미치는 데이터를 수집하는데 사용되는 틀 예. 학습목표가 계획된 방법, 개인이 업무를 위한 지식을 구축하고 공유하는데 필요한 활동의 구체적 범위 등 Learn-B https://dl.acm.org/doi/10.1145/2330601.2330632 Social Semantic Web 기술을 사용하여 유사한 학습과 개발 목표를 가진 사람을 밝혀내고, 연결해주기 위한 데이터를 수집하고 분석함 Learn-B 시스템 구조. 우측 Media Wiki, Tagging Tool, Elgg에서 디지털 기록들이 발생하면 Processing Service Group에서 처리함 역량 목표를 세우면, 그것을 이미 달성한 사람의 수를 보여줌 동일한 목표를 가진 학습자와 비교하여 자신의 학습 진행도를 보여줌(사진 속에는 아쉽게도 비교할 학습자가 나와있지 않음) 조직 내에서 자신이 얼마나 지식을 공유했는지 보여줌으로써 지식 공유활동을 촉진함 \"개발 탐지기(developmental radar)\"로서의 기능 수행 전문가가 자신에게 유용한 잠재적 인간관계와 지식에 접근할 수 있도록 도움 기능 예시1. 전문가의 학습과정을 모니터링한 뒤 학습전략에 대한 피드백 제공 기능 예시2. 전문가가 자신의 학습경험을 문서화하고, 이를 다른 사람과 공유하도록 만들어서 미래에 유사한 학습경로를 거칠 사람에게 도움을 줌 \"과거에 나랑 똑같은 목표를 가지고 공부한 사람들이 평균 6달 정도 공부했으니, 나도 이번에 학습계획을 6달 정도로 잡아야겠구나\" 기능 예시3. 동료 또는 다른 팀의 업무 과정을 지켜보며 자신과 팀의 행동에 대해 반성할 수 있음 Mirror.LearnB 성찰을 통한 학습이 일어날 수 있도록 개인과 조직의 행동을 분석해줌 개인과 팀의 학습과 조직의 학습 사이에 분명한 관계가 있음이 드러남 개인의 성찰과 이로인한 변화가 집단적 성찰과 어떤 관계가 있는지 보여주는 그림.  개인의 경험이 타인과 공유 및 논의되면서 적절한 의미를 구성해감 성찰을 통해 조직의 문화와 마인드셋까지의 변화가 이뤄지지 않으면, 이런 분석결과를 통한 변화의 효과가 미미해짐 4. Conclusion Talespin - Our Vision At Talespin, we envision a world where individuals are given the opportunity to find their purpose. Our goal is to provide a platform to help people become b... https://youtu.be/dzooiG4lrBU?t=39 https://www.talespin.com/ PLA의 중요한 리스크 개인의 자기조절 학습력이 중요 조직의 문화와 마인드셋 자체의 변화가 필요 PLA의 한계 전문성이 온전히 양화되기 어려운 속성을 지님 감정이나 동기적 측면도 고려할 필요 있음 1. Intro 2. How Professionals Learn 3. A Vision For PLA 3.1 Analytics in Action 3.2 Accelerating Just-in-Time Learning 3.3 Exploiting Organizational Networks 3.4 Making use of Specialist Expertise 3.5 Encouraging Active Learning 4. Conclusion 5. 토의 5. 토의 PLA 는 전문가에 의한 자기통제식 학습이 주를 이뤄, 교수자의 존재보다는 자신의 활동을 다각도로 점검할 수 있는 메타정보다른 사람과 비교한 학습 진행율, 지식 공유 정도, 학습자 간의 관계의 제공이 강조되는 것으로 보입니다. 아무래도 시간과 노력을 들여 교수체제를 설계하고 탑다운으로 제공하는 것보다, 최대한 조직 내/외부 학습기회를 폭넓게 제공하여 개인의 학습자율권을 보장해주는 것이 더 효율적이어서 그렇겠죠. 저는 오늘 공부한 PLA가 학술적으로는 모호한 면도 있고 구현에 있어 막연함도 크지만, 큰 방향성의 측면에서 교육이 나아갈 길이 맞다고 생각합니다.  아래의 주제에 대해 순서대로 논의해봅시다. 자신의 현재 소속(대학원, 직장 등)에서 의도적으로 교육 받지는 않았지만 무의식적으로 학습한 내용을 나눠봅시다. 1번에서 말한 학습내용에 관한 분석을 수행하기 위해 얻어야하는 data와 분석방법은 어떤 것이 있을까요  (분석방법을 제시하기 어렵다면 꼭 연구를 인용하지 않아도 좋습니다) 입문자(novice)에게 해당 내용의 학습에 드는 시간과 노력을 단축시켜주기 위해서 2번의 분석결과를 어떻게 사용해야 할까요? 지훈 예시 <현지, 유경,주홍, 웅기>ㅋㅋㅋㅋㅋㅋㅋㅋㅋㅋㅋㅋ #1번 주제 현지 : 정의적 측면 (말투, 태도, 조직문화, 조직의 의사소통 방식  등) // 비판적 사고, 경계 필요 (대화, 멘토링, 성찰 오찬 대화 등을 통해)  주홍 : 메이커교육실천  수평적 구조에서 소통하는 방법 / 학교에서 학생들을 관찰하는 것 유경 : 회사에서는 개발되는 교육과정보다는 직원들이 알아서 학습할 수 있도록(상시학습) 환경 조성  신입사원이 교육받은 내용을 정리해서 후배들에게 물려주거나, 학습동아리를 운영 보고서 작성 웅기 : 회사 내 권력 #2, 3번 주제  현지: 생체 심리 데이터  정서 // 환경 맥락 데이터 // 상호작용 텍스트 데이터 // 질적 분석 (연구 데이터 목록화)  주홍: 용어에 대한 학습 측정 유경: 동영상, 반복적인 것을 동영상으로 만들 수 있도록 하는 것 (어떤 종류의 지식을 많이보더라)/ 당신이 공유한 이 자료를 누가 얼마나 봤다 를 수치로 제시하는 것 웅기 : 로그데이터, 자연어처리, 동영상에서 발생하는 데이터 분석, 위키 현지 :  <수진, 재용, 지훈> 1) 수진: 학교장의 답정너로 인해 소통 의지 상실 재용: 교수님의 기분을 표정만으로 아는 것, 논문 리딩하는 법, 논문 검색 키워드 넣는법  개인마다 다를텐데 가능할지?  아마존 킨들이나 medium에서 \"다른 사람이 하이라이트한 곳\"을 표시해주거나, 모를만한 단어 뜻 적어놓기 2) 검색어, 검색어에 따른 링크 진입, 링크 별 체류시간, 다운로드  초보자는 애초에 무엇을 검색해야할지 자체를 모름 초등학생은 \"컴퓨터에서 줌을 다운로드 받는 방법\"과 같이 검색하는 키워드 잡는 행위를 못함 키워드 추천은 너무 어려우니, 헤매는 것으로 식별하는 것을 위주로 3) 챗봇을 통한 자각 보조 꼭 이걸 실시간으로 피드백하기보다는, 최초에 한번 교육해도 되는것 아닌가? (번외: 교수님 감성분석 + 회의록 기반 묵살 빈도 라벨  교수님에게 묵살 당할 확률 <용현, J.영훈, 인영, 하경> 하경 : 대학원 입학 전, 동료 네트워킹 ojt  각종 정보와 스스로 학습해야 할 내용을 의도되지 않게 습득.   상호작용 data 텍스트 분석 등(이메일, 대화 기록), 질적분석  입문자의 학습 시간을 줄이기 위해? 네트워크 체계화, 조직 내 호의적인 문화 형성 인영 : 의도되지 않은 학습 - 그 조직만의 일하는 방식, 시스템 활용 등을 주변 부서 선배들로부터...도제식? 교육에서 배운다고 해도 부족한게 있는데,  영훈 : 출판사와 일을 하는 경험, 부끄러운 경험  마감에 허덕일때 당당한 마감 연장 요구를 보고 느꼈다. 용현 : 문화는 양적인 표현이 가능할까? 특정 양식이 퍼져나가는 양상을 보일 것 같다. 출판사와 저자와의 상호작용을 분석할 수 있으면 좋을 것 같다. 인영 : 조직 문화 분석  특징 : 해외 법인의 리더들이 받는 교육, 우리 나라 회사에 들어오면서 문화 차이로 힘들어하는데, \"보고에 숫자(양적 데이터)를 많이 넣는다\" 등의 팁을 주고받으면서 발전했다. 데이터를 얻기가 어려울수도. 임직원들이 소통하는 게시판에서 댓글 분석  용현: 우연적 사건들에 의해 문화가 퍼져나가는 것과 네트워크 구조로 퍼지는 것 중 어떤 게 속도가 더 빠를 것인지? 페이스북은 회사용 페이스북이 따로 있어서, 필수 5개 그룹을 주고 네트워크를 통해서 회사 생활을  <영훈 해린 은서> 영훈: 대화의 맥락 이해, 사무실 내의 조직문화와 관련된 암묵적인 룰(과장님 퇴그전 퇴근 불가)출퇴근시 인사를 안하는것이 대안이 됨, 휴가 사용시 사무실 내 직원들과의 휴가 일정 조정 후 휴가 결정 해린: 현장교사만 공유하는 커뮤니티를 알게 된것, 커뮤니티 안에서 댓글 수집시 메뉴얼이 나오지 않을까   은서: 메뉴얼화되어있지 않은 현장 적용시 구체적인 업무 관련 세부사항, 담당자의 자율성이 주어진 업무(교사의 평가방법, 성적처리 혹은 학교업무 등), 생활기록부기재요령과 같이 공식적인 기관의 공문서를 학교별,직위별, 교사별,학년별 자율적 해석업무적용시 달라짐 은서: 행정업무 오픈카톡부 DB화, 타임라인으로 시기별 업무리스트 업무네트워크 업무내용 키워드,  메신져대상과 내용의 키워드&첨부파일, 공문 & 공문의 공람대상&결재라인, 참여회의-위원회 담화분석 영훈: 업무 오픈카톡방 활성화(정보부장모임, 교무부장커뮤, 보건교사 커뮤)ㅋㅋㅋㅋㅋ1. A Brief Introduction of Epistemic Network Analysis 1.1 이전 ENA 발표자료 1.2 ENA의 배경 1.2.1 전문성(Expertise) 1.2.2 전문성의 세대변화 1.3 Advantages of ENA 1.4 Various way to implement ENA 2. Modeling Spatial Behaviors in Clinical Team Simulations using Epistemic Network Analysis: Methodology and Teacher Evaluation 3. 논의 1. A Brief Introduction of Epistemic Network Analysis 1.1 이전 ENA 발표자료 example of Theory-based approach: ENA   이전 발표에서 틀린 부분: 네트워크 시각화 코드  노드를 고정하는 방법이 단순하지 않음 cf. ENA의 한글번역 1.2 ENA의 배경 본 절을 구성하는데 참고한 자료 1.2.1 전문성(Expertise) Def. Expertise 특정 영역에서 개인이 보유한 뛰어난 문제해결능력 Insight for Instructional Design Educational Goal:  from novice to expert!  What is the efficient way to become an expert?   How can we measure/represent/reveal expertise? 1.2.2 전문성의 세대변화 ref. Holyoak (1991)  1st generation of expertise (~1970s) Newell & Simon(1972) : 문제해결과정은 순차적으로 이뤄지는 탐색 행위다.  그 탐색적 행위가 경험에 따라서 일정한 체계를 가진다. (expertise) 전문가의 경험적 탐색행위를 모방하는 인공지능의 등장 :  \"Logic Theorist\" \"General Problem Solver\"  전문가는 domain-specific knowledge에 의존하던데?',\n",
       " '이재용 \\xad': '토의 주제 다음 1,2 중 하나를 선택해서 논의해주세요! 당신은 7초등학교 교사로서 매일 학생들의 일기를 살펴보면서 학생들의 성장과정을 이해하고 기록하고자 합니다. 당신은 일기의 내용 중 무엇을 중점적으로 보려고 하나요? 어떻게 시간에 따른 변화를 기록하고 시각화할 수 있을까요? 당신은 대학 교수로서 매주 학생들이 강의를 듣고 성찰한 내용을 살펴보면서 수업을 개선하고자 합니다. 학생들의 성찰 중 어떤 내용이 수업의 개선과 발전에 중요할까요? 그 내용을 어떻게 알 수 있을까요? 현지, 해린, 수정  토의 내용 해린  목적 : 학교 폭력 징조 파악   데이터 : 소외감에 대한 직접적인 언급 ( \"~랑 만\" 논다, 인사를 받아주지 않았다,) , 특정인의 이름, 부정적인 감정을 내포한 단어 (\"속상\"하다)    수정 : Discourse analysis에 해당하는 것 같다.  현지 : 공감한다, 또한 Discourse analytics를 위한 인스턴스로서 활용할 수 있겠다. 수정  Discourse analytics (유사도 분석 활용)  VS Discourse analysis (질적 연구의 담론 분석) 논의 제기   재용 & 유경 & 웅기 :  데이터의 양의 차이 / 실시간 성의 차이 / 자동화 / 활용 주체 (사람&기계) (Discourse analytics \"자동화\", \"수치적인 계산\" 강조 / 데이터의 양이 많기 때문) 주홍 준오 준오: (1) 초등학교 4-6학년 대상, 과학 경험에 대한 그림과 그에 대한 서술을 기록. (3년)  - 글씨체만으로도 학생의 발달 수준 파악 가능 (시간에  따라서도?). 문장의 완성도, 어절 수, 맞춤법 등, (2) 실제 경험상 학생이 교수자가 원하는 반응을 꾸며내는 현상이 많다. 학생들끼리 질문 주고받는거. 주홍 : (2) 지식의 형성, 구조화를 중점적으로 보고싶다. 지식의 구조를 트리로 그렸을 때 위계적 수업 내용적 이해 측면. (1) 배움공책  구체적인 것을 적는가, 지엽적인 것을 적는가. 배움에 대한 기록. 꾸며내는 반응 자체도 의미있음. 사실과 의견 사이의 비율로부터 이해수준을 추적할 수 있을듯. OCR인식률도 척도가 될듯 그룹원: 웅기, 지훈, 재용 토의 내용: 1. 일기 일기에서의 단어 사용과 문장 구성으로부터 학생의 작문수준/인지수준 파악 일기에서 단순한 문장만 쓰는 경우 (나는 ~~했다, 즐거웠다, 재미있었다 등) 복잡한 문장을 사용하는 경우  주제의 다양성: 하나의 글 안에서 얼마나 다양한 주제가 나오는가로부터 학생의 작문수준 파악 교우관계 파악: 친구 이름 언급 횟수를 바탕으로 학생들 사이의 관계망 파악 가정환경 파악: 가족에 대한 단어 언급 횟수와 긍/부정 정서를 바탕으로 가정의 분위기 파악 글씨체  문장의 길이? (글씨체가 엉망이면 문장이 짧다, 글씨체가 좋으면 문장이 길다) 유튜브 과학 영상 댓글 내용으로부터 사회적 상호작용 파악하는 연구  텍스트 네트워크 분석 그룹원 은서, 유경 토의 내용 일기에 드러나는 감정, 긍/부정 - 시간에 따른 변화를 기록, 어떤 시점에서 어떻게, 패턴   수업 개선- 수업에 대한 긍부정 평가. 키워드 분석. 인터뷰, 평가 분석, 성찰일지- 학습 이해 정도 평가..! 동시간대에 학생들의 수업 피드백을 수치화 하고 그래프로 나타낸 후 만족/비만족 비율을 분석한다면 그 수업에 대한 만족도평가가 직관적으로 실시될것 Latent semantic analysis(LSA) VS Latent Dirichlet allocation(LDA)  차이 물어보고 여기 댓글 달기 @권현지 출처: https://omicro03.medium.com/자연어처리-nlp-8일차-lda-f571b4da9d04 LSA : 단어 문서 행렬을 차원 축소하여 축소 차원에서 근접 단어들을 토픽으로 묶는다. LDA : 단어가 특정 토픽에 존재할 확률과 문서에 특정 토픽이 존재할 확률을 결합확률로 추정하여 토픽을 추출한다. 늦은 시간까지 활발히 참여해주셔서 감사합니다!  - 재용본문 영상분석(video analytics) 영상분석의 필요성 교육에서 영상 활용의 증가 전통적 학습자 데이터의 한계 극복 기존 실험연구의 한계 극복 영상분석의 학문적 토대 지식/교수/학습에 대한 관점 행동주의 인지주의 구성주의 멀티미디어 학습 멀티미디어 효과(Mayer, 2009) 멀티미디어 학습 연구 주제 멀티미디어 활용의 효과성 파악 멀티미디어 학습에 대한 최근 관점 영상분석의 유형 영상의 실시간성에 따른 분류 영상 출연 주체에 따른 분류 영상분석의 방법: 데이터 마이닝 데이터 마이닝 데이터 마이닝 활용 알고리즘 영상에 대한 데이터 마이닝 용어 정의 유형 한계 및 극복방안 발전 방향 결론 요약 향후 연구과제 논의 주제 본문 Mirriahi, N., & Vigentini, L. (2017). Analytics of learner video use. Handbook of Learning Analytics, 251-267. solaresearch.org https://solaresearch.org/wp-content/uploads/2017/05/chapter22.pdf 영상분석(video analytics) 학습자의 영상 활용을 이해하기 위해 학습자의 영상 시청 데이터를 수집측정분석하는 것 The collection, measurement, and analysis of such data for the purposes of understanding how learners use videos 학습자의 영상 이용과 영상과의 상호작용을 평가하고 조사하여, 영상의 수정개선방안 및 효과적 활용방안을 도출하는 과정  영상분석의 필요성 교육에서 영상 활용의 증가 플립드 러닝: 동영상 기반 사전 학습으로 정보 전달, 수업시간에는 학습자 중심 학습활동 실시  블렌디드 러닝: 수업에서의 시간/공간/매체 등의 장벽이 허물어지고, 언제 어디서나 학습이 연속적으로 이뤄짐 MOOC: 강의 녹화영상 제공  영상 + 퀴즈/포럼/읽기자료/평가/피드백 등 전통적 학습자 데이터의 한계 극복 부정확한 자기보고 데이터(self-report data)에 의존 학습자나 교수자의 주관적 기억에 의존하므로, 학습자의 행동을 정확하게 파악할 수 없음 사회적 바람직성 편향(social desirability bias) 발생 가장 정확하고 솔직한 응답보다는 사회적으로 기대되는 응답이 수집됨 기존 실험연구의 한계 극복 실험연구 실험연구의 목적: 이론에 기반하여 세운 가설의 검증 실험연구의 방법 관심의 대상이 되는 변수를 제외한 나머지 변수를 모두 통제 하나의 변수만 변화시키면서 결과의 차이를 확인 실험연구의 한계 연구 결과가 실제 교수-학습 맥락에 잘 적용되지 않는다 실험연구에서는 변인 통제로 종속변수에 대한 독립변수의 영향을 분리함 내적 타당도(internal validity): 연구문제에 얼마나 논리적으로 충실하게 답하였는가  변인을 통제하는 순간 인위적인 상황이 조성됨 실제 교수-학습이 일어나는 상황은 매우 복잡함  따라서 실제 교수-학습 상황에 연구 결과가 잘 적용되지 않음 생태계적 타당도(ecological validity): 연구의 결론이 실제 상황에 얼마나 잘 적용되며, 얼마나 효과적으로 활용되는가  영상분석의 학문적 토대 지식/교수/학습에 대한 관점 연구자가 지식/교수/학습을 어떤 관점에서 바라보느냐에 따라 연구설계와 결과해석이 달라진다 행동주의 인간의 인지과정은 알 수 없으며(black-box), 관찰 가능한 행동이 중요하다 지식관: 개인의 의식과 무관한 지식이 존재한다 (객관주의 인식론) 학습관: 외적으로 관찰 가능한 행동의 변화 교수관: 행동 변화를 유발하기 위한 외적 자극 학습 촉진 전략 학습 과제의 분석과 계열화 강화와 피드백 인지주의 인간의 인지과정은 컴퓨터의 정보처리과정과 유사하다 지식관: 개인의 의식과 무관한 지식이 존재한다 (객관주의 인식론) 학습관: 개인이 가진 인지구조의 변화 (기존 정보에 새로운 정보가 연결) 교수관: 정보를 제공하고 학습자의 인지과정을 촉진하는 과정 학습 촉진 전략 정보의 체계적 조직 인지부하의 조절 인지전략 제시 메타인지 촉진 구성주의 인간은 물리적/사회적 환경과 상호작용하고 그 경험을 해석하면서 고유한 의미를 스스로 구성한다 지식관: 지식은 개인의 의식과 무관하지 않다 (구성주의 인식론) 학습관: 개인이 구성한 의미의 변화 교수관: 개인의 능동적인 학습을 지원/촉진하는 과정 (수많은 학습 촉진 방법 중 하나일 뿐) 학습 촉진 전략 자기주도성 향상 자기조절 지원 사회적 상호작용 촉진 멀티미디어 학습 동영상은 일종의 멀티미디어이다(시각매체 + 청각매체) 동영상을 활용하는 플랫폼도 일종의 멀티미디어이다(컴퓨터, 스마트폰) 멀티미디어 효과(Mayer, 2009) 이론적 배경: 이중 부호화 이론(dual-coding theory) 인간의 작동기억은 시각적 정보와 언어적 정보를 처리하는 영역으로 나눠짐 각 영역은 서로 독립적이며, 제한된 용량을 가지고 있음 멀티미디어 학습 원리 핵심: 단일 표현양식보다 복수의 표현양식을 활용하는 것이 학습에 더 효과적이다 심리학 연구결과의 한계 시험 결과: 왼쪽>오른쪽 or 왼쪽<오른쪽 멀티미디어 학습 연구 주제 Mayer, 2009 멀티미디어-학습자 상호작용 관련 지각과 주의(perception and attention) 작동기억과 기억용량(working memory and memory capacity) 인지부하이론(cognitive load theory) 학습자의 학습 관련 지식 표상과 지식 통합(knowledge representation and integration) 학습과 교수(learning and instruction) 자기조절학습(self-regulation of learning) Yousef et al., 2014 멀티미디어 활용의 효과성 파악 전통적 수업과의 비교 교실에서 교사의 정보 전달 중심 수업 vs 멀티미디어를 활용한 수업  학습성과(사후-사전)의 차이? 연구설계의 문제점: 변인 통제 실패, 효과 분리 실패 전통적 수업과 멀티미디어 활용 수업은 다양한 측면에서 다르다 ex) 매체, 교수내용, 교수방법, 물리적 환경 등 하지만 단순 비교 시 독립변수, 종속변수를 제외한 나머지 변인이 통제되지 않는다 ex) 교수내용, 교수방법, 물리적 환경 등  독립변수가 종속변수에 미치는 영향을 분리해낼 수 없다  멀티미디어 활용 수업에서 학습성과가 멀티미디어 활용에 의한 것인지 알 수 없다 매체의 교육효과에 대한 논쟁 Kozma: 매체 자체가 가지는 교육효과가 있다 교수매체와 교수방법은 서로 구분할 수 없다  매체가 곧 메시지다(마셜 맥루한) 기존 연구에서 매체의 효과성이 확인되었다 ex) 전통적 수업 vs 매체 활용 수업 Clark: 매체 자체가 가지는 교육효과가 있다고 보기 어렵다 교수매체와 교수방법을 구분해야 한다 교수방법: 학습에 요구되는 인지과정을 지원/촉진하기 위한 정보 조직 방법 교수매체: 교수방법을 실현하는 데에 활용하는 도구 매체의 효과성에 대한 기존 연구는 변인 통제에 실패하여 매체의 학습효과를 분리하지 못했다 따라서 기존 연구를 토대로 매체의 효과성을 주장하는 것은 적절하지 않다  Kozma와 Clark의 논쟁 비평 Kozma: 지나치게 낙관적 학습효과가 확인될 경우 그 본질을 탐구하기보다는 매체 활용 그 자체의 효과로 간주함 개념에 대한 명확한 정의, 개념 사이의 관계에 대한 엄밀한 검증이 부족 Clark: 학습효과의 본질에 대한 탐구를 촉구했으나, 다소 비현실적인 요구도 하고 있음 매체 활용 수업에서 학습효과가 무엇 때문에 발생하는지에 대한 설명과 확인을 중시함 실제 교수-학습에서 다른 모든 조건을 동일하게 하고 매체만 변화시키는 것이 가능한가?  현실적으로 불가능하다 의미가 있는가?  가능하다고 해도 실제 교수-학습 상황과는 다르다  멀티미디어 학습에 대한 최근 관점 다양한 접근방식을 활용해 학습자의 상호작용과 학습을 총체적이고 종합적으로 이해해야 한다 상호작용 모형 영상분석의 유형 영상의 실시간성에 따른 분류 동시적: 실시간으로 교수자-학습자 상호작용이 일어나는 경우 관심 영역: 교수자-학습자 상호작용 탐색  상호작용 촉진방안 도출 비동시적: 학습자가 녹화된 영상을 시청하는 경우 관심 영역: 학습자-매체 상호작용 탐색 (self-paced learning 등)  영상/강좌 개선방안 도출 영상 출연 주체에 따른 분류 교수자: 영상/강좌의 수정과 개선 학습자: 자기성찰, 동료/교수자 피드백, 목표 설정에 활용됨 ex) 예비교사의 수업 성찰, 의사의 진료 리뷰, 공연예술에서의 모니터링 영상분석의 방법: 데이터 마이닝 데이터 마이닝 정의: 대량의 전산화된 데이터를 수집, 조사, 분석하여 패턴이나 경향성, 관계성을 찾고자 하는 과정 데이터  행동  학습 데이터 마이닝 활용 알고리즘 지도학습/비지도학습 지도학습: 데이터 일반화 비지도학습: 데이터 요약 산출 데이터에 따른 알고리즘 선택 범주형: 분류(classification) 수치형: 회귀(regression) 영상에 대한 데이터 마이닝 용어 정의 learner use of video: 학습 시스템 상에서 확인된 학습자 행동 ex) 재생, 일시정지, 영상 이동, 시청 시간, 클릭 수 등 learner engagement with video: 유의미한 영상-학습자 상호작용 ex) 주의집중하며 영상 시청, 모르는 부분을 반복 재생 등  learning with video: 개인의 행동/인지구조 변화, 개인이 구성한 의미의 변화 암묵적 가정: learning은 engagement의 결과로 일어난다 유형 영상 내용 측면: 의미부여(sense-making) 색인(indexing): 영상의 내용 등을 기준으로 태그를 붙인다 요약: 영상의 핵심 내용을 짧은 글로 정리하는 것 주석(annotation): 영상 내용에 대한 정보, 타 학습자의 의견 등을 영상과 함께 제시 검색(searching)/이동(navigation): 주요 장면이나 검색어와 관련된 장면을 찾아 바로 이동하는 것  영상 활용 측면: 상호작용(interaction) 학습자의 영상 이용 로그  학습과정 / 학습참여 이해 (아직 초기 단계) 영상 이용 데이터와 다른 데이터의 결합 전통적 학습자 데이터 ex) 평가, 설문, 관찰 등 (재용) 생리심리데이터와 같은 반사적/자동적 행동 데이터 ex) 표정, 동공, 심박, 뇌파 등  한계 및 극복방안 한계: 영상 이용행동이 반드시 학습이 일어났음을 의미하는 것은 아니다 학습에 요구되는 심리적/사회적 과정 없이도 영상 이용 행동이 나타날 수 있다 ex) 영상 재생 이력: 영상을 트는 것과 보는 것은 다름 ex2) 학습과제 수행 시간: 학습자의 영상 이해도 외 다양한 요인이 관여 극복방안: 테크놀로지를 활용한 새로운 데이터 수집/분석 방법 고안 ex) In-video quizzes(영상 중 퀴즈) (Giannakos et al., 2014) 연구질문: 영상에서 학습내용 제시 순서에 따른 영상 시청 중 학습자의 개념 이해 정도는 어떠한가? 연구설계 사전-사후검사: 부적절 (평가가 영상 시청 맥락에서 이뤄지지 않았으므로) 영상 중 퀴즈: 적절 (영상 시청 중에 평가가 이뤄졌으므로 외재변인 개입 최소화) 발전 방향 학습에서 맥락의 중요성을 고려 기존 멀티미디어 연구에서 retention, recall 등에 대한 긍정적 영향이 보고된 바 있다 하지만 학습의 전이(transfer) 측면에서의 효과에 대한 연구가 부족하다 전이: 학습에서와 다른 상황/맥락에 학습내용을 적용하는 것 총체적 학습경험의 이해 교수학습 참여는 지적, 정서적, 행동적, 물리적, 사회적, 문화적 측면에서 이해할 수 있다 학습경험을 다면적으로 분석하고 이해하는 방향으로 나아가야 한다 결론 요약 영상분석이란 영상을 활용한 학습자의 학습과정과 결과를 이해하기 위해 동영상 활용에 대한 데이터를 수집/분석하는 과정이다 영상분석은 멀티미디어 학습 연구에 기반하고 있으며, 인간의 심리와 교수-학습에 대한 연구자의 관점에 따라 연구의 초점이 달라진다 영상분석은 학습이 일어나는 맥락 속에서 학생의 학습경험을 총체적이고 다면적으로 이해하는 방향으로 나아가야 한다 향후 연구과제 영상 유형에 따른 학습자의 이용/활용/학습 차이? 영상 내용이나 교육과정 설계의 개선/수정을 안내하는 방법? 학습자의 효과적 영상 활용을 지원하고 촉진하는 방안? 동영상 기반 학습에서 학습을 측정하는 방법? 영상 내용에 대한 데이터를 수집하고, 영상 내용과 학습자의 행동패턴 사이의 관계를 파악하는 방법? 동영상 기반 학습에서의 교수설계/학습설계 모형? 논의 주제 다음 질문에 답하면서 각 조별로 하나의 연구 아이디어를 발전시켜 공유해주세요. (협력과제, 아이디어 단순나열 X) 비대면 수업 과정에서 경험했던 불편함과 어려움은 무엇이었나요? 문제의 원인은 무엇이라고 생각하시나요? 문제의 원인이 무엇인지 확인하기 위해, 또는 문제해결 방안을 도출하기 위해 수집해야 하는 데이터는 무엇인가요? 해당 데이터를 어떻게 수집하고 분석할 수 있나요? 연구에서 예상되는 어려움이나 한계는 무엇인가요? ex) 윤리적 문제, 숫자로 표현되지 않는 현상 등.. [한나, 인영, 재용] 어려움 플립러닝의 효과적 적용: 녹화 영상과 실제 수업에서 내용/방식 중복되어 힘들다 잘 편집되어 영상미가 있는 영상 vs 엉성하지만 현장감이 있는 영상 기술적인 문제: 컴퓨터를 잘 다루지 못하는 교수자  수업자료가 잘 전달되지 않거나, 지루하거나, 집중도가 낮아짐 비대면 수업의 장점 실제 수업에서는 질문하기가 어렵지만 줌에서는 좀더 쉽게 질문할 수 있다 (소극적인 학생도 자유롭게) 논의 내용이 발전되는 것은 현장 수업에서 더 잘 될 것 같다? 온라인에서는 소그룹 만들기가 편하기 때문에 논의가 효율적으로 진행될 수 있다 연구문제: 플립러닝에서 온라인/오프라인 중 어디에서 질문의 양이 더 많은가?/질이 더 높은가? 수집 질문  구글닥스나 트렐로 같은 온라인 플랫폼 활용 생리심리데이터: 카메라로 녹화 / 측정장비 활용  실제 수업에서 활용하기는 어려움 방법 질문의 질을 평가한다  의미 발전이 얼마나 잘 진행되는가 텍스트 분석  강의영상스크립트/과제텍스트 등 학습자료와의 연관성을 파악해서 학생들의 자가평가  학생들이 느끼는 질문의 가치 생리심리데이터  얼마나 화면을 보고 있는가 질문의 양  얼마나 활발하게 논의가 이어지는가 참여도  학생별로 발언 비중(논의 참여도) 확인 연구설계 같은 영상을 본 후 온라인/오프라인 배치 여러 차시에 걸쳐서 반복 [유경, 웅기, 지훈] 학생으로서     스몰챗 어려움, 교수님께 자유롭게 질문을 못함, 주변 사람들을 보면서 자극,  상호작용 어려움      스스로 집중하기 어려움(이것 외에는 딱히 불편하지 않았음) 강사로서      학생의 생각이나 따라오고 있는 정도를 이해하기 어려움  간접적인 정보가 적어짐 2) 문제의 원인 기술의 한계: 여러명이 말하기 어려움  페이스북 oculus의 대면여부에 따른 대화 기술 매체 특성에 맞춘 적절한 방법이 개발되지 못했음(\"오프라인을 따라가는 것이 아닌, 독자적인\") 교실에서는 학습자를 볼 수가 있는데(비, 반언어적 표현들) 온라인학습상황에서는 볼 수 있는 정보가 제한되어 있음  돌려서 조절하는 스피커, 영상을 보면서 계속 감정을 기록하게 한 연구, 불안감에 따라서 돌려라  + 생리심리데이터!! 발표자 소개 이재용 연구 관심사: 교사의 데이터 해석과 활용, 데이터 시각화 서울대학교 교육학과 교육공학 석사과정 서울대학교 화학교육과 학사 경남과학고등학교 졸업  Google Scholar scholar.google.com https://scholar.google.com/citations?user=ha7atpsAAAAJ&hl=ko 가장 마지막으로 한 개인 프로젝트 서울대학교  기초교육원 안녕하세요, 기초교육원 학생기자 이용진입니다. 여러분은 학생자율연구 교과목에 대해 알고 계신가요? 학생자율연구는 기초교육원에서 운영하는 교과목으로써 학부생이 개인 또는 최대 2인으로 팀을 구성해 연구를 진행하는 제도입니다. 이를 통해 학생들은 전공영역의 연구나 기존 교과목에서 다루기 어려운 학제적이고 융합적인 주제, 시사적인 문제 등을 연구 주제로 선정해 지도교수와 대학원생 도우미의 도움을 받아 창의적인 연구물을 생산하고 2학점을 취득하게 됩니다. https://liberaledu.snu.ac.kr/board/blog/view/458 Co-designing a real-time classroom orchestration tool to support teacherAI complementarity Holstein, K., McLaren, B. M., & Aleven, V. (2019). Co-designing a real-time classroom orchestration tool to support teacherAI complementarity. Journal of Learning Analytics, 6(2). Holstein et al_2019_Co-designing a real-time classroom orchestration tool to support teacherAI complementarity.pdf 1131.1KB 들어가기 이소라 - 시시콜콜한 이야기 잠깐 일어나봐 깨워서 미안해 나도 모르겠어 윤오의 진짜 마음을  다른 사람의 \\'진짜\\' 마음을  어떻게 알 수 있을까? Research Question  학습분석 시스템 설계 과정에서 기술 비전문가 이해관계자를 효과적으로 참여시키는 방법은 무엇인가? 원하는 것, 필요로 하는 것 확인하기 그에 부합하는 학습분석 시스템 만들기 (교육공학 전문가 + 개발자) + 교사 + 학생 + 행정가 Background 1) Co-designing LA system 학습분석 시스템 공동설계 다양한 이해관계자가 참여하는 학습분석 시스템 설계과정 ex) 교사, 학생, 행정가 등 공동설계의 필요성 다양한 이해관계자가 참여  실제 요구/가치, 제약, 유용성 확보 \\'존재하지 않는 문제를 풀지 않는다\\' \\'문제를 찾아간다\\' 현재 상태 기술 전문가 - 비전문가 공동설계 드물다 이해관계자 참여: 설계 후반부 설계 프레임워크: 공동설계 전략 제한적 바람직한 상태 기술 전문가 - 비전문가 긴밀한 협업 설계 절차의 여러 단계에 참여 효과적인 공동설계 전략 필요 이슈 설계 과정에서 기술 비전문가 이해관계자를 어떻게 참여시킬 것인가? 2) Teacher-AI complementarity ITS(Intelligent Tutoring System) 학생의 현재 상태(지식, 메타인지, 정서)에 따라 교육 내용/방법을 지속적으로 조정하는 시스템 인공지능을 활용해 학생의 상태를 이해하고 적절한 처치 제공 효과 (controversial) 교사가 학생에게 개인화된 도움을 더 효과적으로 제공 가능(Schofield et al., 1994) 효과적인 ITS 활용 방안: Teacher-AI Complementarity 교사의 도움 제공이 가능한 상황에서 학생이 ITS를 활용해 학습(Kamar, 2016) 이슈 ITS 활용 수업에서 교사의 요구나 욕구를 어떻게 파악하나? 교사의 요구와 욕구에 맞는 학습분석 시스템을 어떻게 구현할 것인가?  프로토타이핑(면담, 시뮬레이션 등) 반복 Methods LATUX workflow 자료 awareness 향상을 위한 학습분석 도구 설계 방법 프레임워크 5단계 과정 반복하는 순환적 과정 문제 정의 이해관계자 확인, 데이터 소스 확인 / 데이터 수집, 학습환경 확인, 효과성 평가방법 설정 낮은 충실도 프로토타이핑(low-fidelity prototyping) 시스템의 핵심 요소만 포함한 프로토타입 빠르게 제작해 이해관계자와 평가 목적 높은 충실도 프로토타이핑(higher-fidelity prototyping) 시스템의 세부사항을 포함하고 현실성이 더 높은 시스템 제작해 이해관계자와 평가 파일럿 연구 현장 연구 Needs Analysis 1) Probes 목적 교사가 원하는 것, 바라는 것이 무엇인가? 내용: 카드 생성/분류 활동 + 질문 1단계: \"당신의 일을 하는 데 도움이 되는 초능력을 가질 수 있다면 그것들은 무엇입니까?\" 2단계: 학생들이 ITS 또는 기타 적응형 학습 기술을 사용하여 작업하는 수업에서, 교사가 유용하게 사용할 수 있는 초능력은 무엇입니까? 특징: 구체적이다 (뜬구름 잡는 소리 X) 구체적인 질문  구체적인 답변 면담에 의존하지 않고 구체적인 활동 수행 답변 박식함(Omniscience) = 학생의 사고 과정을 볼 수 있음(Being able to see students thought processes) 결과 2) Directed Storytelling (보충) 목적 교사가 원하는 것, 바라는 것이 무엇인가? 내용 반구조화된 면담 진행  기술적인 제한이 없으며, 시스템이 학생들의 학습에 대해 측정할 수 있는 것에는 제한이 없다고 상상할 경우 시스템이 더 잘 설계될 수 있으려면? 보충 필요 3) Speed Dating 목적 가능한 미래를 사용자와 함께 빠르게 탐색 내용 상상 속 시나리오를 연속적으로 제시 스케치, 스토리보드, 롤플레잉 사용자의 반응 관찰  결과 Prototyping 1) Low-fidelity 스마트 안경 활용 경험 시뮬레이션 프로토타입 교사들의 핵심 요구 반영 소프트웨어 학생의 지식/행동 ex) 어려움, 부주의, 딴짓 실시간 학급 전체 정보 (대시보드)  하드웨어 플라스틱 안경테 + 컴퓨터(연구자가 조작) 진행 과정 결과 컴퓨터가 학생을 판단하는 방식에 대한 불편감 실제 혼합 현실 스마트 안경 착용의 필요성 특징 핵심 기능만 최소한으로 구현  자원 낭비 줄임 2) Mid-fidelity HoloLens 착용 후 잠재적 사용 방법에 대한 아이디어 생성 분석 디스플레이의 공간 구성 실험 프로토타입 하드웨어: HoloLens 소프트웨어 교사가 요구한 기능을 포함하여 화면 구성  화면 구성: HoloSketch(프로토타이핑 툴) 진행 과정 HoloLens 시뮬레이션 + 사고발성법(think-aloud) 반구조화 면담 프로토타이핑 수정 Low-Mid 발견 발견 내용 3) High-fidelity 혼합 현실 애플리케이션 Lumilo Ken Holstein - Teacher smart glasses (Lumilo) Holstein, K., McLaren, B. M. & Aleven, V. (2019). Co-designing a real-time classroom orchestration tool to support teacher-AI complementarity. Journal of Learning Analytics (JLA), 6(2), 27-52. Holstein, K., McLaren, B. M., & Aleven, V. (2018). Student learning benefits of a mixed-reality teacher awareness tool in AI-enhanced classrooms. In Proceedings of the 19th International Conference on Artificial Intelligence in Education (AIED 2018). https://kenholstein.myportfolio.com/the-lumilo-project 작동 과정 4) Replay Enactments 목적 실제적 맥락에서의 사용자 경험을 낮은 비용으로 조사 인터페이스 디자인, 학습분석 방법 등에 대한 피드백 수집 사용자 활동에 따라서 학습분석 시스템의 반응과 사용자 경험이 달라지는 현상 최소화  유사 연구방법 User Enactment(Odom, Zimmerman, Davidoff, Forlizzi, Dey, & Lee, 2012)  실제적 상황에서의 롤플레잉 ex) 실제 교실에서 수업하게 내용 기존 데이터와 알고리즘만으로 실제 현장에서와 유사한 사용경험 구현 기존 데이터 리플레이: 스마트 안경  교실 영상 + 학습분석 AR 화면 실제적, 복합적 과제 수행: 교실 수업 진행하게 발견 내용 In-lab Experiment 설계 결과 Field Experiment 설계 결과 Discussion 1) How to co-design LA systems 세부내용 2) How to prototype LA systems 논의 If I had asked people what they wanted, they would have said faster horses. - Henry ford 학습분석 전문가 입장에서는 교사들이 무엇을 원하고 필요로 하는지 알고 싶을 것입니다. 하지만 사용자의 욕구나 요구를 아는 것은 쉽지 않습니다. 사용자 스스로도 잘 알지 못하고, 다른 사람의 요구나 욕구를 이해하는 것도 어렵습니다. 이 연구에서 연구자들은 교사의 실제적 요구와 욕구를 확인하고 그에 부합하는 학습분석 시스템을 만들고자 하였습니다. 이를 위해 카드 게임, 인터뷰, 리플레이를 활용한 시뮬레이션 등 다양한 방법을 활용하였습니다. 어떻게 해야 뜬구름 잡는 공상이 아닌, 솔직하고 구체적인 마음의 소리를 들을 수 있을까요? 질문: 창의적인 요구분석 테크닉 학생들이 ITS와 상호작용하고 교사가 도움을 제공하는 수업에 대한 생각과 느낌을 나눠주세요. 좋다 vs 싫다 ITS의 장점은 무엇일까? 인간 교사는 무엇을 할 수 있을까? 동료 선생님들이 ITS 활용 수업에서 원하는/필요로 하는 것이 무엇인지 알고 싶다면, 어떤 방법과 전략을 쓸 수 있을까요? 인터뷰, 설문조사, 시뮬레이션 등 다양한 기존 방법 중 하나를 골라주세요. 해당 방법으로 수집한 데이터에 치명적인 결함/문제/한계가 있다면, 어떤 문제일지 생각해보세요. 이러한 문제를 예방/보완하기 위한 방법이나 전략은 무엇일까요? <J.영훈 준오 현주> ITS와 교사가 함께 상호작용하는 수업에 대한 생각 ITS도 교사가 활용하는 도구 중 하나가 될 것, 결국 인간 교사의 역할에 대한 걱정은 크게 필요 없다. 교사의 역할이 대체되지는 않들듯 vs 교사로서의 정체성이 무엇인지 불분명하다. 생각보다 교실의 모습이 빠르게 바뀔 수도 있지 않을까? 교사는 중재/촉진하는 역할, 다른 자극으로 분산되지 않게끔 유지시켜주는 역할을 할 수 있을듯 ITS만 단독으로 주어졌을 때는 학생이 이탈하거나 태만하게 수업에 임할수도 있는데, 교사는 ITS 학습을 지속시켜주는 역할을 할 수 있다. 어떤 기술이든 교사에게 신뢰받는 것이 중요하다. 학생의 스타일을 파악하고 개인화된 처치를 해주는데에 ITS가 유용할 것이다. 눈에 띄지 않지만 공부를 잘하는 학생을 발견해내어 수준별 수업을 지원하는데 도움이 될 것이다. 학생이 학습하는 과정을 너무 가까이서 보는 것이 아니라 조금 멀리서 관찰하고자 할 때 유용할 것 같다. 전반적으로 ITS가 중심이 될 수는 없고, 적절한 상황에서 유용한 수많은 도구중 하나가 아닌가... 학급당 학생수가 줄어드는 등의 변화로 인해서, 오히려 현장에서는 점점 더 ITS의 필요성을못느낄수도 있다. but 교실 모습이 지금과 같은 형태가 아니라 블렌디드 형태로 가면 유용할 수도...? 그런데 괄연 교사가 눈앞에 없는 상황에서 학생들이 ITS를 성실히 이용할까? ITS 활용 수업에서 필요로 하는 것을 알아내는 전략 많은 연구에서 top down 방식으로 파악하고 있는데, 반대 방향으로 갈 필요가 있는게 아닌가. (현장 교사들의 목소리를 조금 더 반영하는 방향으로, 연구진 목소리를 줄이고) 인터뷰가 개방적인 공간에서 이루어지니까 부담스러웠던 경험이 있다.. 인터뷰어가 눈치를 주거나, 응답자가 서로 다른 의견을 갖고 있을때 소수의견이 꺼려지는 느낌  일대일로 분리된 공간에서 진행하는게 좋겠다. 시뮬레이션은 실제 현장과는 너무 다르다. (학생을 데리고 하더라도, 실제 학생집단이 그대로 재현되지 않는다.) 피드백의 질보다 양에 주목해서, 수업을 잘 기록하고 수업에 직접 참여하지 않은 교사들에게 의견을 묻는 방식은 어떨까. (+ 학생들의 의견도 함께 고려) <용현, 재용, 은서, 하경> 학생들이 ITS와 상호작용하고 교사가 도움을 제공하는 수업에 대한 생각과 느낌을 나눠주세요. Q : 실현 가능성? 오면 어떨 것 같나요? 교사로서 학습부진아에 대해 막연하게 파악하는 것에 그치는 경우가 많은데, ITS 의 도입은 실제 그 수업에서 피드백이 필요한 학생에 대한 정보를 통해 적절한 피드백을 줄 수 있도록 도움을 줄 수 있어보인다. 최근 wearable 장치를 활용한 연구를 진행중인데 (~초3) 학생들이 더 적극적이게 되는 부분이 있다. 학생 뿐만 아니라, 선생님들도 더 적극적으로 참여하는데 도움을 줄 수 있을 것 같다. 학생마다 선생님의 피드백에 대한 수용성이 다른 만큼, 학생의 학습 스타일에 대한 고려가 있으면 더 좋을 것 같다. 못하는 학생뿐만 아니라 잘하는 학생에 대한 파악에도 도움을 줄 수 있을 것 같다. 동료 선생님들이 ITS 활용 수업에서 원하는/필요로 하는 것이 무엇인지 알고 싶다면, 어떤 방법과 전략을 쓸 수 있을까요? 인터뷰 1:1 인터뷰에 비해 집단에 대한 인터뷰가 집단간의 상호작용을 통해 더 좋은 정보를 받을 수 있을때가 많다. (1+1 > 2) 선생님들 사이에 정보공유가 보편적인 문화임을 고려하면 더욱 효과적일 것으로 예상한다. 이질적인 집단의 경우 의견이 나뉘는 경우가 있으니, 인터뷰 집단 선정에는 유의해야 할 것. 사전 사후 인터뷰 뿐만 아니라, 중간 인터뷰도 중요함.  본 연구에서도 사전 사후 뿐만 아니라, 중간에도 지속적으로 명시적인 피드백을 받을 수 있는 방식을 도입한것이 매우 인상적이다. (단순히 ~~할 것 같다~ 로 넘긴 부분이 없어보임) 인터뷰의 데이터 퀄리티가 안좋다면, 그 원인이 될 수 있는것에는 무엇이 있을까? 이질적인 집단의 서로 다른 전제에 의한 갈등 지나치게 빨리 결론이 나는 경우가 있다. 방지하기 위해서 사전에 연구자가 질문의식? 을 다양하게 가져야한다.  발전적인 질문을 준비해야 함. 인터뷰 대답이 너무 상이한 경우 어떻게 수렴할 수 있을까? 발산적인 인터뷰를 잘 모았다면, 이후 프로젝트 구현까지 수렴하는 과정도 잘 진행돼야할 것 같다. 본 연구에서는 면담 내용 전사  유사한 내용 클러스터링 (?)  이후 프로토타입 제작 의 과정으로 진행된 것으로 기억함. 발산적인 개념들중에서 좋은 주제는 어떻게 선정할 수 있을까?  정말 간단한 프로토타입 제작을 여러번 진행해볼 것 같다. <웅기, 기원, 시현, 수진> 학생들이 ITS와 상호작용하고 교사가 도움을 제공하는 수업에 대한 생각과 느낌을 나눠주세요. - ITS를 활용하는 것에 대해서는 모두 긍정적으로 생각함 - 수진: ITS가 제대로 작동한다면 교육에 활용할 수 있음, 중국 CCTV처럼 학생들의 정서나 감정까지 파악한다면 도움이 될 수 있을 것이라 생각됨 - 웅기: 학습과정에서 정서나 감정이 극명하게 드러나지 않을 수 있음. 다만 어깨 높낮이 등으로 학습 상황을 추정할 수도 있음. 어떤 데이터를 사용하는지에 따라서 달라질 것 - 기원: 조지아텍 질왓슨  인건비 절감 차원, 하지만 성능이 아직 높지 않음, 인간 교사만큼? - 웅기: 인공지능이 전체 수업 과정에서 어떻게 설계되어 반영되는지가 중요하다고 생각됨 - 시현: 중국에서는 뇌파, 교사의 입장에서만 좋다고 생각되는 것이 아닌지? 아이들이 압박감을 느끼지 않을까? - 웅기: 본 연구에서도 학생들에 대한 의견 반영이 부족하다고 생각됨. 그러나 실제 연구과정에서 어려움을 느꼈기 때문에 충분히 이해됨 - 수진: 큰 틀 안에서 ITS가 어떻게 사용되는지를 먼저 정해야 함 - 기원: 수업 설계가 초점, 교사의 역할이 더 많아질 것 ITS 활용 수업에서 필요로 하는 것을 알아내는 전략 - 웅기: 설문, 면담 - 수진: 한 학교에서 관심을 가지고 있은 학생들이 많진 않음, 인터뷰든 설문이든 어떤 방법을 사용하든 정확하게 파악하지 못한 상황에서 사용한다면 효과가 없을 수 있음 - 시현: 모든 교사들이 참여하면 좋은 아이디어가 나오지 않을까? - 기원: A/B테스트 <영진, 용주, 윤서> 영진 - 좋다. ITS를 최대한 구현한 수업을 하는 중. (아이패드로 학생들의 상태를 볼 수 있음.) 학생들의 몰입도가 늘어났음을 느낄 수 있었음. 클래스킥을 조합하여 필요한 활동에 넣음. 구글 폼에 넣어서 하고, 교사 계정으로 성과 데이터 볼 수 있고 학생들의 학업성취 수준 확인 가능.  초등학생이라 학생들이 스스로 자신의 학습 태도? 등을 보기에는 어려움. 용주 - 좋다. 학생으로서는 ITS와 상호작용하고 교사의 도움을 받는 게 좋지만, 교사가 대체되지는 않을지 우려가 됨. 오히려 오해를 한 것인가 하는 고민이 됨.  윤서 - 좋지만 현실성이 있을지 궁금. 대면수업을 하다보면, 개별화교육 측면에서 떨어진다. DM 기능을 이용해서 (익명성) 여러 단계의 과제를 할당해줄 수 있다. 대면 + 현장 수업에서 협력 수업 + 인성 교육에 집중하게 된다. 행정적인 측면, 접근성 측면 등에서 현실성이 우려된다. 학습분석에서 자주 나오는 주제. 탑재된 자료가 올드하기도 했다. 이전에 AI선도학급 학교였음. 선생님 수 + 학교 수가 제한되어있다. 연구부장님이 AI교육과를 공부하고 계셔서 하고 있었다.  ITS의 장점은 무엇일까? 인간 교사는 무엇을 할 수 있을까? 영진 - AI가 교사를 대체하기는 어려울 듯. 교사가 수업 설계를 창의적으로 할 수 있다는 장점이 있음. 교사는 학습을 할 수 있게끔 환경을 조성하고 가이드 역할을 함. 오히려 역할이 강화될 듯. 용주 - ITS가 무엇을 할 수 있을까를 논의하는 게 더 쉬울 듯. 교사: 상호작용을 하는 역할. ITS: 인간을 도와주는 역할...? 보조하는 조교의 역할.  실제로 그런 쪽으로 많이 쓰는 듯. 윤서 -  관심있는 분야가 게이미피케이션, 온라인에서 협력 + 인성을 가르치게 하는 것. AI가 협력적이고 대면 상황에서의 상호작용. ITS에서도 주지적인 것뿐만 아니라 인성, 상호작용을 다룰 수도 있다. (단, 인간 대 인간 상호작용을 촉진) 동료 선생님들이 ITS 활용 수업에서 원하는/필요로 하는 것이 무엇인지 알고 싶다면, 어떤 방법과 전략을 쓸 수 있을까요? 인터뷰, 설문조사, 시뮬레이션 등 다양한 기존 방법 중 하나를 골라주세요. 영진 - 시뮬레이션. 내가 직접 해보고 그것을 리플레이해서 나의 행동을 되돌아보는 것이 좋을 것 같다. 윤서 -  인터뷰도 괜찮을 듯. 수업공개사후나눔협의회에서 찍어서 같이 본다. 재밌었던 사례 - 당황스러울 법한 상황을 편집해서 공유함. 다른 사람들과 공유하면서 논의 진행 (심도있는 인터뷰 진행) 용주 - 외부 연구자가 보면 이해가 될까? + 기존 방법 중의 설문조사는 문항이 많을 경우, 대충하게 되었음. 보상이 있더라도 문항이 많으면 힘들었음. 정교화된 방법이 아니라면 설문조사도 효과적인 것 같지 않다. (설문조사는 양적 방법론인가?  보고자 하는 변수에 따라 다름.) \\'사후협의회\\' 선생님들끼리는 관심있는 부분을 공유하는 것. 외부 연구자가 보면 맥락을 모르면 이해하지 못할 수 있음  만드는 사람의 자율성 - 연구 참여자의 적극성 필요 설문조사 등 중첩된 방법도 활용할 수 있다.  교육연극 방법인 것도 같음. (카드게임, 롤플레이 등...)  표집의 문제로도 이어질 것 같음. 어떤 교수님들은 데이터 수집 및 해석을 보지 않으셨음. 주제의 독창성만 보셨음. (어떤 변인을 봤고, 어떤 점이 재미있는지를 더 보신 분도 계심.) 통계 처리는 컴퓨터를 돌린다고 생각. (학생 데리고 하는 경우, 데이터가 쉽게 구해짐.)  어떤 기업의 경우, 한 달 동안 연구자가 직업이 되어봄. (요구분석  시뮬레이션) 보통 어떤 데이터를 수집?  양적 데이터 (빈도 수, 시간, 상호작용 횟수) 등을 체크하여 학습 현상을 기록 및 분석. 문헌 연구... ㅠㅠㅠㅠㅠㅠ <유경, 영훈, 부경> 1. 학생들이 ITS와 상호작용하고 교사가 도움을 제공하는 수업에 대한 생각과 느낌을 나눠주세요. ITS: AI와 인간이 상호작용(complementary)  지향해야 할 점; 싫다고 할 수 없을 듯 교육학에서 AI와 상호작용하고, 교사가 AI에 대한 전문성을 가지는 것에 대한 연구 부족 교사의 역할이나 지위가 사라지는가?  반박: 의학의 경우 로봇이 보조, but 완전히 대체는 아님 교사의 역할이나 지위가 어떤 것이 되어야 한다고 생각하는지? AI가 어떤 것인지, AI를 수업에서 어떻게 활용해야 할지 아직 초기 단계, 합의점 없는 듯 (지금은 NLP, vision 정도밖에 사용될 수 있는 것이 없음) 교사들도 처음이라 회의적일 수 있음 AI 자체가 발전 + 체계를 잡는 것이 중요할 수 있음 SantaTOEIC도 ITS라면 기존 TOEIC 선생님 대체할 수도 있을 듯? 그랬을 때 교사의 역할은?  동기부여, 감정적 교류, 자기조절 전략 도움  or 여기에 한정되지 않을 수도! 교수-학습의 core가 되는 활동을 여전히 교사가 될 수 있음 (판단+책임 등); 전적으로 의존할 필요는 없음 교사의 역할이 facilitator로서의 역할, 수업 디자이너로서의 역할 등으로 더 부각될 수 있음 현직 교사들이 ITS 속 교사의 새로운 역할을 만들어 가야 한다는 생각 2. 동료 선생님들이 ITS 활용 수업에서 원하는/필요로 하는 것이 무엇인지 알고 싶다면, 어떤 방법과 전략을 쓸 수 있을까요? 구조화된 질문? 어떻게 하면 구조화된 질문을 할 수 있을까? case를 정확히 나누어야 한다는 생각: 학습분석에서 합의가 필요함 (공통된 언어, 전문 용어 등 - e.g. 학생이 어떤 특정한 행동을 했을 때 어떤 증상, 어떤 배움의 단계인지를 말할 수 있는 언어; 무언가를 알고 있지만 표현을 못하는 상태 등) ITS를 전제하지 않고, 수업 중에 부족함을 느끼는 것이 무엇인지, 이 부족함 중 ITS로 보완할 수 있는 거이 어떤 것인지에 대한 분석 필요 실제 질문 경험: 응답 수 너무 많음 + 기술적인 부분에 대한 질문 및 개선 요청이 많았음  그것을 넘어서서 ITS를 수업의 본질에 활용할 수 있는 가능성을 묻는 질문이 필요할 듯 140자로 제한? 분류를 자세히 하여 응답을 분류하고 체계화할 수 있도록?  응답을 받으면서 누군가가 계속 분류하고 묶어주는 작업을 해야 함 경험들이 case by case가 될 수밖에 없음  그 이야기를 통일할 수 있는, 합의될 수 있는 것이 필요할 듯 (e.g. 학생의 상태를 진단할 수 있는 합의된 언어)',\n",
       " 'Juhong Eom': '시작하기 전에  전체 매핑 Map of LA Handbook Last modified by Juhong Eom 10 months ago docs.google.com 2 파일 사본 만들기  이 글의 구조  학습 분석과 쓰기 교육   쓰기 행위 목적  특징  과정: 형성적 쓰기  과정중심 쓰기 교육적 관점   쓰기 교육의 중심: 피드백을 동반한 반복 연습  학습 분석과 쓰기 교육  데이터의 특징  연구의 용이성 선행 연구 사용한 도구  가능한 연구들 사용한 도구 WriteToLearn 사용한 데이터  text data, log data  분석의 측면   디자인 영역  교육학 영역  이외 분석 결과  디자인 영역  Q) 쓰기-피드백-고쳐쓰기의 단계가 쓰기 능력 향상에 효과적인가?  A) 그렇다 세부 내용 교육 영역  Q) 고쳐쓰기에 사용하는 적절한 시간은 얼마인가?  A) 25분 내외 세부 내용 Q) 학습자의 쓰기 수행 과정을 모델링할 수 있는가? 할 수 있다면, 어떤 의미인가? A) 선형 혼합 모형. 시스템과 학습자 사이의 상호작용의 다양한 측면을 보여준다. 세부 내용 Q) 쓰기 주제의 난이도를 각 학습자에게 맞게 설정해주는 모델을 만들 수 있는가?  A) 학년별 모델  세부 내용 이외  Q) 대량의 데이터셋으로 모델링할 때는 어떤 것을 고려해야 하는가? A) 분석의 목적  세부 내용 시사점  형성적 글쓰기 시스템에서의 데이터 마이닝  주안점: 학생의 성장을 위해 취해야할 조치 결정  시사점   본 연구는 지식에 대한 평가가 아닌 역량에 대한 평가를 다루고 있습니다.  그 발달이나 수행 과정을 분석해보고 싶은 교과 영역이나 역량이 있나요?  어떤 방식이나 도구를 활용해서 분석해보면 좋을까요?   이처럼 데이터 마이닝을 활용한 주관식 및 서술형의 평가방식을 실제 교과나 영역에 적용한다면, 어떤 교과나 영역에서 활용해보고 싶으신가요? 그리고 그 활용은 어떤 의미가 있을까요? (대입 시험과 같은 특정 시험의 형태도 좋아요!) <참고> .pdf 4583.2KB          .pdf 31941.5KB 1 <이빈, 웅기, 해린, 은서> 웅기: 한국어 형성적 글쓰기 AES가 제대로 작동하는지 모르겠음, 일기 해린: 일기는 정서적 영역이라 우려됨 은서: 독서록은 명확함 이빈: 아직 수준이 사람을 대체할 수 있을 정도인지 의문이든다. 해린: 자동화 채점에 의심을 품는 경우도 있음 은서: 과학적 글쓰기, 사회과에서 역사쪽 평가 시 인과관계, 시간적 순서 등 웅기: 감정적 글쓰기 해린: 국어, gpt2 <용현, 영훈, 혜원> 용현 : 과연 어느정도로 교정을 해줄 수 있는지 의문이 든다. 점수체계로 간접적으로 표현하는 것 같은데 얼마나 교정적 피드백이 될지, 또 이 점수체계가 정확하다면 학생들의 쓰기 능력에 대한 예측이 가능해야할 것 같음.  쓰기향상에 도움이 되었던 부분이 문법등의 부분은 조금 미미한 영향이었던 것이 흥미로웠음.  영훈 : 한국교육과정평가원에서 자동채점프로그램 개발한다는 이야기를 들음. 만족스럽지 않았떤 브리핑이었던 이유는 어떤 매커니즘을 활용하는지를 확인하고 싶었음.  교과의 영역에서는 인문학 위주의 영역 혹은 사회/과학 같은 영역에서 사용도될 수 있을 것이라고 생각함.  정규분포를 벗어나는 답변(창의성)에 대해서는 어떻게 채점하는지 의문이다.  혜원 : 아동발달의 과정에서 의사소통 능력을 볼 수 있으면 좋을 것 같다. 의미론적으로 확실하게 평가해줄 수 있다는 전제가 필요. 말하기 수행평가가 사람의 채점이 어려운 부분이 있는데 이런 부분을 보완해줄 수 있는 좋은 도구가 될 수 있으리라 기대. 영훈 : 다만, 의사소통 중 하나인 상호작용에 대한 고려가 점수 체계에 포함된다는 점이 어렵게 만들 수 있을 것 같다. 용현 : 바둑같은 경우에는 인간의 입장에서는 조금 틀린 것인데 인공지능은 매우 틀린 것으로 판단하는 경우도 있음. 하지만 쓰기의 경우에는 그런식으로 정답을 제공하는 것이 최선의 방법같은 것이 아니기 때문에 조금 다른 것 같음.(ex. 인간/기계 판단하는 가우시안 노이즈) <주홍, 유경, 지영> 유경:  *뉴욕대 연구   - 프레젠테이션 역량 - 영상을 찍어서 자세, 음성 크기, 발음 정확도 - 그에 대한 형성적 피드백 제공   - 협력 역량 - 가운데에 카메라를 두고 네트워크 분석, 학생의 협력 역량  지영:   - 문화적 측면도 고려하고 연구할만할 듯   Eg) 협력 역량- 눈마주치기  - 교사의 자기 평가에 활용 - 방법의 효과성 등 - 업무의 효과성, 만족도, 자기효능감 증가   - 생활 지도 eg) 발표 역량 - 소심한 아이  주홍: 창의성   - 학생의 성향에 따라서 어떤 질문을 해야 창의성을 촉진시킬 수 있을까  - 오픈 포트폴리오를 바탕으로한 분석과 연구   2.  유경: 신입사원 들어오면 멘토-멘티 제도, 팀 안에서 기술을 배움. 배운 내용을 보고서 형태로 제출, 그것을 평가. 나름대로 같은 기준을 가지고 평가하기가 어려움.   ~ 충실도, 현장의 적용, 내용 지식 등의 큰 기준을 삼아 봄   ~ PPT, 텍스트 형태 지영: 과밀 학급 - 확인에 너무 시간이 오래 걸리니 검사 자체를 하지 않음. 과밀학급인 경우에는 모든 과목!  - 6학년 국어 서술형 평가. 글쓰기도 수준이 생기고, 편차가 크고, 개별화된 피드백이 필요한 시기.  주홍: 수학 - 문제 풀이 과정. 표현 능력이 부족한 건지, 이해가 부족한 건지. 객관식 평가의 한계 고려.   - 지영: 이해는 했는데 말을 못하는 경우.  http://wai.best/ 과학,사회교과 인공지능을 활용한 웹기반 자동평가(Web-based Automated Assessment using Artificial Intelligence)',\n",
       " 'H\\nHae Rin Lee': \"Chapter 25. Learning Analytics: Layers, Loops, and Processes in a Virtual Learning Infrastructure Learning Analytics (LA) : a term that refers to the use of digital data for analysis and feedback that generates actionable insights to improve learning Layers, Loops, Processes : characteristics of complex learning infrastructures and a way of approaching the design of LA Learning infrastructure : a framework for connecting different modes of LA that together constitute a virtual learning ecology designed to serve a particular social vision Contents> Part 1. Learning Power Part 2. Learning Journey 1. Learning Power  What is Learning Power? 7 dimensions of Learning Power CLARA Why Learning Power? Use of metaphor, story, and image Let's talk about the feedback of data 2. Learning Journey 'Learning Journey'라는 비유 Learning Power와의 관계 Single loop vs. Double loop Learning Journey의 과정 Learning Infrastructure 생각 나누기  1. Learning Power를 측정하기 위한 CLARA 그래프는 성장 지향적 마인드, 과정 중시 등을 위해 숫자를 표시하지 않는다고 합니다. 이에 대해 어떻게 생각하나요? 여러분이 교수자/학습자라면 분석결과가 숫자 없는 시각화로 표현되길 원하나요?  2. Rapid feedback은 각각의 네 주체들에게 어떤 영향을 미칠까요?     장기적/단기적 관점에서 긍정적인 영향만 있을까요?  1) by students  2) by teachers (교사의 교수법이 얼마나 효과적으로 평생 학습 역량을 만들어내는지 평가)  3) by leaders (결과와 관련된 전반적인 교육기관 정책 사안을 결정)  4) by researchers (새로운 지식을 생성하기 위해 데이터 탐색 및 분석) <영훈 준오 유경> 오히려 답답할것같다? 숫자로 표현하지 않는다고 해서 성장지향적 마인드, 과정 중시가 달성이 될 것 같지는 않다. 교수자 입장에서는 시각화에 숫자가 포함된 것이 명확히 유리할 것 같다.  숫자 점수 자체가 절대적인 의미가 없다면 안보여주는게 낫다.  상대적인 지표이기 때문에 절대적 숫자를 보여주는 것은 부적절할 수 있음 피드백에 대한 태도에 따라서 긍정적/부정적으로 작용할 수 있다. 학습자의 경우 : 학습자의 성향에 따라서 (의욕이 있는 학생 vs 없는 학생) 피드백을 귀담아 들을지 흘려버릴지 달라질 수 있다. 교사의 경우 : 본인의 수업이 모니터링 받는다거나 지적을 받는다면 반감/자의식으로 인해 악영향이 나타날수도? (사람이 주느냐, 기계가 주느냐에 따라 다를 수 있다.) 수업 도중 너무 잦은 피드백은 짜증날수도... 리더의 경우 : 너무 사소한 정보까지 오다보면 정보의 과잉으로 인해 판단하기도 힘들고, 조직문화에도 해롭다. (구성원들에 대한 불안감을 갖게 되거나 압력은 주는등), 정책결정은 장기적인 관점에서 생각해야 하는데 너무 rapid하면 부정적으로 작용할 것이다. 대신, 빠르게 대응해야 하는 현안에 대해서는 필요할 것이다. 제프 베조스 : CEO가 하루에 내리는 결정은 3개 넘기지 말라. 너무 많은 정보는 바람직하지 않다고 했음 연구자의 경우 : 크게 도움이 될만한 점은 없어보임 (시계열로 보면 도움이 될것같기도...?) 용현, 재용, 채연 채연 : 학생들이 자기보고를 해서 learning power 다이어그램을 그리는데 자기보고 방식이 다소 아쉬운 것 같다. Learning Power의 그래프에 숫자를 표시하는 것이 좋은가? 결국 핵심은 어떤 정보를 왜 제공하는가이다.  정보 제공 목적 교사의 학생 특성 파악: 숫자로 제공하는 것이 도움 된다 학생의 자기 성찰 촉진: 숫자가 없어도 괜찮다 이슈 Learning power가 learning journey에 어떻게 기여하는가가 분명하지 않다 (메커니즘) 자기보고식 데이터의 한계: 자기인식과 제3자에 의한 평가가 다를 수 있다  자기보고식으로 학생 모델을 만드는 것이 바람직한가? 수치가 갖는 정확한 의미가 모호해서 숫자를 제시하는 것의 결과를 생각하기 어렵다 상대적인 값으로 제시하는 방법은 어떨까?  성찰을 위한 도구라면 다소 아쉬움이 있을 것 같다.  가소성에 대한 부분은 동의하기 어려운 것 같다(?) Rapid feedback은 각각의 네 주체들에게 어떤 영향을 미칠까요? (장/단기) 주체별 영향 학생: 자신의 성장과정, 강약점에 대한 성찰 교사, 행정가: 학생/학급/학교의 특성 파악 가능, 대량의 데이터 확보에 따른 윤리적 문제 우려 연구자: 특정 교수적 처치의 효과가 나타나는 과정이나 메커니즘을 확인할 수 있다(ex; 채연쌤의 시뮬레이션 교육 연구) 이슈: Rapid feedback의 정의/범위? 피드백이 얼마나 빠른지, 주기적인지에 따라 영향이 다를 것 같다. 과정중에 줄 수 있다는 맥락으로만 해석하고자 하면 주식을 일봉으로 보면 희노애락이 담긴다 너무 학습자들의 데이터가 많으면 윤리적인 문제가 생길 수 있지 않을까 (교사나 행정가) 연구자의 입장에서는 과정중에 처치의 결과 또는 그 간접적인 메커니즘을 확인할 수 있으니 긍정적으로 보인다. (ex; 채연쌤의 시뮬레이션 교육 연구  얼굴표정 분석 데이터의 방대한 양) 지훈, 해린, 기원 learning power 개념 이상함 수치화의 필요성 기원: 학생, 교사 입장에서는 수치화한 결과는 의미 적을 것 같고, 운영자 입장에서는 필요할듯 해린: 수치화된 결과를 가지고 비교할 수 있기 때문에, 학습자의 개별 성장이라는 유일 목표를 위해서는 안 드러내는게 좋지 않을까. 교수자/학생용 데시보드 구분 지훈: 다양한 맥락에서 연구 수행 필요(학습자 특성, 부모 특성, 교수자 특성 등 + 제시하는 시점) Rapid FB이 미치는 영향 해린: 질문 제작 의도. 주체별로 다를 것이기 때문에 구분할 필요성을 느낌 해린: 피드백의 형식(어조)이 중요할듯. (style transfer) 기원: Rapid FB의 정의 불분명.  지훈: 모델에 의해 자동생성된 피드백은 최악의 경우를 대비하는 차원에서만 강제적인 알람 기능 수행 + 의사가 AI와 함께 진료해야 오진율이 낮아지듯 사람의 자유도를 줄 필요 있음 1) 학생 기원: 교수-학습과정의 피드백 상황을 생각했을 때, 피드백 주도권은 교사에게 있음. 즉, 교사 철학에 따라서 자동생성된 피드백을 수정/변형하여 사용하면 문제 없을듯 2) 교사 해린: 피드백은 무조건 자주가 아니라, 적당한 타이밍이 중요. 오히려 잘되던(효과가 텀을 두고 나타나는) 교수법이 막힐 수 있음. 기원: 최근 대학에서 학생의 교수자 피드백 기능이 활성화되어 있어서, 사용을 원하는 사람들은 사용하고 있음(선택적) 3) 리더 기원: 리더도 교사와 마찬가지로 결정권을 가지고 있기 때문에, 피드백을 본인 철학에 따라 반영만 적절히하면 될듯. 4) 연구자 해린: 교수자가 피드백에 따라 영향을 받으면, 연구자의 대상도 훼손될 여지가 있음.  은서, 윤희, 현지  1. 윤희 : 숫자의 작은 차이가 학습 성과와 크게 상관이 없을 수도 있음 >  그럼에도 불구하고, 학습자가 분명한 수준을 원할 수도 있음 >> 학습자마다 다르다 현지 :  -목적은 좋음. 그러나 목적을 달성하기 위한 이상적인 평가방법인 지는 모르겠음.  성장 지향적인 목적을 위해서는 특정한 절대평가 기준을 넘긴 뒤 역량 배지 등을 가질 수 있도록 하는 것은 어떨까 하는 생각이 듬  -학습자 특성에 따라 평가방법을 선택하도록하고, 선택지 중 하나로 제공하면 좋겠음  은서 : *진로검사 시, 학습 심리에 관한 > 그래프 결과 지가 한 명씩 전달됨  -교수자 입장 : 숫자가 있는 것이 좋음 >학습자의 학습 수준을 구체적으로 파악할 수 있어 좋음. -학습자 입장 : 숫자가 없는 것이 좋음 > 학습자 자기평가 시, 숫자의 작은 차이에 예민하게 반응한 편인 학습자에게는 오히려 학습에 역효과가 있을 수 있음.  2-1, 2-2 윤희 :  너무 자주 피드백을 제공하면 스스로 생각하는 힘을 잃을 수 있음 현지 :  -피드백의 내용에 따라 다름 격려 피드백은 수시로 받는 것이 좋겠지만 구체적인 개선/발전방향에 대한 피드백이라면 가끔받는 것이 좋을 수도 -과제의 내용에 따라 다름  고차적인 사고력(확산적 사고)이 요구되는 경우 > 학습자가 스스로 고민, 격파  폐쇄적 사고(정답이 정해진) 빠른 교정이 필요한 경우 > 빠른 피드백 은서 :  (교사 생각) 빠른 피드백은 좋은 효과를 낳을 것 / 순간적인 판단으로 피드백의 질 수준에 영향을 줄 수 있음  (학습자 생각) 달갑지 않음. 익숙해져서 피드백에 둔감해질 수 있음. 교수자의 생각과 다른 역효과가 날 수 있음  2-3.  연구자 > 피드백의 속도보다는 피드백 주체의 다양성, 충분한 양 번외 ) '평가'의 목적은 측정도 있겠지만, 결국 '성장'을 위한 하나의 도구 (평가  피드백으로 언어 변환 필요) 성장을 위해서는 '자기성찰지' 등 성찰을 강조하는 활동을 질적으로 누적하는 것이 더 좋지 않을까 <하경, 웅기, 지영> 시각화 숫자가 없는 것 - 지영: 학습자들에게는 적합할 수 있음, 스스로 한계를 정해주지 않으니 / 교수자의 입장에서는 혼란스러울 것 같음 - 웅기: 학습자 성찰 도구, 숫자가 없음 동의 / 교수자?? - 하경: 초등학생들에게 사용했을때 역효과가 날 수도, 숫자는 표기하지 않는 것에 동의 래피드 피드백 - 지영: 학생특성마다 다름, 빠른 피드백이 피곤할 수 있음 - 웅기: 지표, 집단마다 관심사가 다름, how가 더 중요 - 하경: 학생, 교사, 연구자들마다 다름. 피드백 알람 설정을 학습자가 스스로 할 수 있도록 구성한다면(사례)\",\n",
       " '원지영(교육대학원 교육학과)': 'Intro Embedding L.A in institutional systems, practices, and student success strategies \"조치 없는 학습 분석은 그저 보고에 불과하다\"  조직에서 데이터 기반 결정에 대한 이해, 정책적, 절차적, 기술적 능력 필요. Changing the dimensions of Organizational Culture Changing the Organizational Context/Capacity Crafting Strategies for Student Success Change Management Plan for Student Success Instructive failures and success stories Instructive Failures Success Stories : Institutions Getting it Right Conclusion 생각해볼 거리 (원하는 만큼 선택하여 논의해주세요) -학습자의 데이터 통합 및 관리를 실제로 실시할 때 어떤 노력이 필요할까요? 예상되는 어려운 점은 무엇이 있을까요? -실제 본인이 속한 기관에서 Transformative Power of Learning Analytics가 발휘될 수 있다고 생각하시나요? 가능하다면 어느 정도의 기간이 필요할까요? -우리나라에                            서 기관 단위의 노력으로 Learning Analytics를 적용한 사례가 있을까요? 혹은 어느 분야에서 가장 먼저, 용이하게 적용을 시도해볼 수 있을까요? -아래는 EDUCAUSE에서 예측한 5개년 예측입니다. 2021년의 예측이 맞았다고 생각하시나요? 향후 2023년까지 더 발전하게될 부분은 어디라고 생각하시나요? < 채연 준오 용현 > EDUCAUSE 예측 결과에 대해서 : 위의 5개년 예측에서 비즈니스는 기대 이상으로 성장한것처럼 체감이 되는데, LA는 오히려 기대 이하에 머무르는것 같다. (씽크빅 등 약간 비즈니스와 교육이 연계된 분야에서는 잘 이루어지는 반면, 대학에서는 기대 이하다.) 현재에는 LA같은 것에 당연히 빅데이터를 포함시켜 생각하는데, 위의 예측에서는 빅데이터를 분리한 점이 흥미롭다. 대학에서 교수님들이 이런 LA기술 활용에 대해서 보수적인 경향이 있는것 같고, 이를 해결하기 위해 대시보드 시각화가 잘되어야 할듯. 왜 LA는 비즈니스 퍼보먼스 분석에 비해 부진한가? 비즈니스 분석 툴은 메이저한 수단(구글 어널리틱스 등)이 잡혀있어서 그에 대한 활용방안과 조치가 쉽게 연구될 수 있는데, LA는 아직 분석툴조차 연구중인 단계. 당장 LA 서비스 제공해주는 업체도 잘 떠오르지 않는다. 씽크빅 같은 경우에는 평가 기준을 비교적 명확히 할 수 있지만, 대학교육 등으로 나아갈때 일반화된 기준을 잘 만들기가 어렵다. 비즈니스 분석 툴에서 아이디어와 방향성을 참고해 가져올 수 있을 것 같다. 평가 방식이 획일화되지 않은 상황에서는, 대시보드를 사용자가 능동적으로 구성할 수 있게끔 하는 시스템이 개발되어야 할듯? Transformative Power에 대해서 : 코로나라는 특수한 상황을 벗어나 오프라인 교육으로 다시 돌아가게 되면, 공교육/대학교육 등 보수적인 교육환경일수록 학생 로그 수집이 오히려 더 어려울것. 그래서 구성원들이 LA 의 필요성에 대해 공감하는 것이 중요하다 (그래서 이번 장의 문제의식이 중요해보인다) 먼저 활용 우수사례가 생겨야 동력이 생길 것이다. (예: 콜로라도대학의 졸업률 증가) 실질적으로는, 교사에게도 편의성이 제공되는 등 교사가 얻는 이점이 제공되어야 한다. (아무리 학생 성취 올라간다고 해도 교사가 너무 불편하면 유명무실해질것) 학습분석이 교사에게 어떤 편의를 제공할 수 있는가? 씽크빅의 경우 학생들의 수행 정도 등 로그를 시각화 해줄 뿐만 아니라, 학부모에게 제공한다. 이 점이 교사에게서는 학부모 소통을 편하게 해줘서 좋다는 반응이 있었다고 한다. (AI에게 교사가 원하는 것 = 학교 업무 대체!! ) 유경, S영훈, 웅기, 지훈 질문(-학습자의 데이터 통합 및 관리를 실제로 실시할 때 어떤 노력이 필요할까요? 예상되는 어려운 점은 무엇이 있을까요?) -2. 실제 본인이 속한 기관에서 Transformative Power of Learning Analytics가 발휘될 수 있다고 생각하시나요? 가능하다면 어느 정도의 기간이 필요할까요? 영훈(교육부): 데이터를 직접 관리하지는 않음. 어떤 데이터를 수집할지에 대한 고민 필요, 법적 관리방안 및 익명처리 방안 고민 필요 웅기(학교): 교육부에서  발생할 수 있는 문제들과 유사함. 이해관계자들의 디지털 리터러시를 높이기 위한 방안 고민 필요(개인의 노력으로 해결할 수 있는 문제인지에 대해 의문)  대시보드로 효과를 본 교수자들은 실제로 대시보드를 사용한 기간이 매우 길다. 유경(기업): LMS에서 데이터를 수집하는 체계적 방안이 마련되어 있지 않음. 기업은 학교와 다른 목적을 가지고 있어 교육 외적인 결과에 대한 관심이 큰 편. (추천시스템 말고, 학습분석에 대해 관심을 갖지는 않는 것 같음) 지훈(10-1동 6층): 개인정보 문제, 펀딩 문제 등 -3. 우리나라에서 기관 단위의 노력으로 Learning Analytics를 적용한 사례가 있을까요? 혹은 어느 분야에서 가장 먼저, 용이하게 적용을 시도해볼 수 있을까요? 영훈: 학습부진의 정도를 진단하고, 이에 따른 처방이 시행되었음. 과목 단위로도 결과가 나옴. 웅기: 공공기관보다는 사기업에서 더 빠르게 적용할 것. Riiid, 웅진 등 -4. 아래는 EDUCAUSE에서 예측한 5개년 예측입니다. 2021년의 예측이 맞았다고 생각하시나요? 향후 2023년까지 더 발전하게될 부분은 어디라고 생각하시나요? 영훈: Use of big data in institutional analysis, predictive analytics for institutional performance, LA 지훈: 체감상 패널데이터, 텍스트/컨텐츠 분석이 많아진듯.  유경: 비즈니스 분석과 학습분석을 같은 선상에 놓은 것 자체에 대한 의문. 비즈니스 분석 시장은 엄청 커질듯 웅기:  하경, 새록, 은서, 전영훈 1+2번> 하경: STEM 학습에 있어서 interest driven participation 연구... 교사가 어떤 처방을 제공하는 가에 따라 학생들의 지식 습득 과정에 어떤 영향을 미치는지 연구. 온라인 토론 개입 시기... 새록: general하게 생각해 본다면 > 어느 시점에서 학습자에게 적절한 처방이 들어갈 지 그 타이밍을 아는 것이 중요. 학습분석은 조치 (= 처방)가 필요한데, 데이터를 통합 및 관리해서 어떠한 처방들을 할 수 있을지 - ex) 컴퓨터 기반 협력 학습(CSCL): 학습자마다 원하는 것이 다름. 피드백의 측면에서 학생이 원하는 양, 교사가 제공하는 양이 다를 때 학습자에게 혼란을 야기. 동일한 피드백에 대해서도 학습자마다 반응이 다른 것을 봄. > 개별화된 피드백을 적절하게 제공하는 것이 어려울 것 같음. > 학습자에게 선택권을 주는 것은 어떠할지? > 한국 공교육 학교 환경에서는 서로 다른 조치를 취하고 나서 동일한 시험을 봐야 하는 환경이 문제가 될 수 있음. 은서: 학생들에게 난이도별로 과제를 제공하더라도, 결국 시험을 볼 때에는 하위 난이도로 맞출 수 밖에 없음. 코로나 이후 학습 플랫폼을 정할 때 어렵다는 이유로 좋은 플랫폼들이 탈락하는 모습을 봄. 혼자서만 다른 플랫폼을 쓰려고 했을 때 튀려고 하지 말아라..벽이 너무 높았음. 그 거부감을 넘을 수 없었음. 정서적인 반응에 대한 문제.  - 나이스를 활용할 수 있지 않을까 고민. 같은 성취기준을 골라서 그 기준에 따른 학생 평가 결과(정량+정성적)를 분석할 수 있지 않을까 영훈: 학교라는 공간에서 교사가 협력을 해줄 지 의문. 연수밖에..없을까  / 작은 성공들의 축적이 필요 3번> 새록: 대학에서는 그나마 좀 있는 편이라고 생각 vs 초중고 <해린, 명진, 지영> -명진: 한국 교육 개발원, 교육과정 평가원, 교육학술정보원, 교육부에서 교육데이터 통합 서버를 만들고 있음. 데이터를 통합하는 데에 초점을 두고 서버를 구축하고 있다. 온라인으로 쌓이는 모든 데이터를 모음.  어떤 데이터가 필요한지 명확하게하고, 그에 따른 데이터를 모아야 윤리적인 문제가 해결될 것이다. -지영: 학교에서 데이터를 모은다고 한다면, 개인정보에 관한 우려가 클 것 같다. 데이터센터 구축을 자치구역별로 한다면, 지역별 차이가 생기지는 않을까 걱정됩니다. -해린: 통합 데이터 센터가 만들어지고, 데이터의 중요성을 인식하고 있다고 하니 일괄적으로 동의를 얻고, 잘진행될 것이다. 분석 결과에 대해서 의문을 가지고 있거나 궁금증이 있는 사람들에게 어느만큼 설명해줄 것인지 가이드라인이 필요할 것.  -실제 본인이 속한 기관에서 Transformative Power of Learning Analytics가 발휘될 수 있다고 생각하시나요? 가능하다면 어느 정도의 기간이 필요할까요? 명진: 고대에는 LMS시스템이 따로 없어서 고파스와 같은 커뮤니티를 이용한다. 아마 엄청엄청 오래 걸리지 않을까. 라는 생각...  해린: 10년은 필요하지 않을까... 그리고 너무 오래걸리면 더 힘들 것이다. 흥미도, 성과도 보기가 어렵기 때문. 학교는 특히 구성원 나이에 따라 신기술 받아들이는 속도도 다름. 지영: 빠른 도입을 위해서는 어느정도 강압이 필요하지 않을까....적당한 기간내에 빠르게 진행되어야 할 것이다. *추가 논의 -명진: 잘하는 것만 하게 하고. 못하는 것은 자연스럽게 피하게 하면 걱정됨. 학습자의 요구를 반영할 수 있는 루트가 필요할 것이다.  -해린: 직업도 융합으로 가는 중. 그래서 추천 시스템도 참 많은 철학과 원리를 담아야할 것이다.  비즈니스에서 la를 적용하는 것은 좀 더 빠른 이유가.. 이런 부분을 고민하기 보다 이윤을 더 고민하기 때문이 아닐까. ',\n",
       " 'hyunjee Kwon': ' 개요  THE OPPORTUNITIES OF EDUCATIONAL DATA MINING IN LEARNING MANAGEMENT CONCLUSION REFERENCES  아래의 주제 중 자유롭게 선택하여 논의해 보아요.   < 이재용 황준오 이웅기 이홍규 > 좋은 증거, 나쁜 증거 - 준오: 샘플사이즈가 작은 걸로 연구해서 나온 시그널들이 나쁜 증거인듯 / 조작적 정의의 일관성이 높지 않다는 문제 / 조작적 정의가 좀 이상하면 나쁜 증거다 ( 오른쪽에 첨부한 이미지 https://www.economist.com/science-and-technology/2021/07/28/data-dont-lie-but-they-can-lead-scientists-to-opposite-conclusions?fbclid=IwAR1D_exM-s9cKuHcTYBMGyDM_CM1NS1tc52SV3Ykc1e3EzR5nz7Xs_sCuFw)  - 재용: 다양한 측면에서 데이터를 수집하고 일관성있게 수집한다면, 전체적인 양상을 볼 수 있음 - 웅기: 얼마나 다양한 측면에서 데이터를 수집해야 전체적인 그림을 그릴 수 있는지 모르겠음  해결할 수 있는 방법이 있다면? - 홍규: 실험 상황과 실제 현장 적용은 다를 수 있음. 교육적 처방을 제공하기 위해 교실 현장에서 접근하기 쉬운(수집하기 쉬운) 증거여야 좋은 증거라고 할 수 있음.  - 재용: 생리심리데이터는 학습자가 속일 수 없음 <박용현, 권현지, 이은서, 허미선> 좋은 증거, 나쁜 증거 (새로운 방법 도입했는데 기존의 방법과 다름 없을 때) 자기보고식 평가 측정에 대한 분명한 맥락이 데이터와 함께 고려 (고전적으로 사용한 방법 : 확실한 방법)  용현 : 학습 분석도 결국 처치를 위한 것이기 때문에 처치의 효과가 행동의 위계에서  사전사후 비교가 가능한  행동적, 수치적으로 표현이 가능한  3. 초등 중등 / 국내외 / 사이에 현장 차이가 많이 남 > 환경 맥락이 다름으로 생기는 다름 >  개인의 특성(장의존적, 장독립적) 및 배경요인이 함께 제시되어야 함  의문 생기는 처치 > 심리학적 > 개인의 특성 더 담아 제시 (시험점수, 등등)  데이터 수집 // 데이터 정제 // 데이터 선택 // 활용 등  데이터 수집하는 플랫폼 안정성. 신뢰성 (기능)  데이터 자체에 대한 의심은 과학의 근간을 흔드는 부분이라 해소에 어려움이 있어보인다. (reproduce 가능/불가능 여부)  완벽한 간접 데이터를 확보하기 위한 블라인드 과정 필요. raw data 공개가 어려움 > 악용함  어느정도 신뢰 >  개인의 윤리 의식을 담보할 수 있는 교육 및 인증서(?)  사전에 공지 or not  매력적인 지원 사업 진행  \"자본\" 좋은 데이터가 있어야 협업이 가능할 것 같다.  공용 아하하 본인 소개  인생의 목적 : 많은 사람의 직업능력개발을 도와 행복의 기본 조건으로서 생계 유지 능력을 갖출 수 있도록 돕는 것, 죽을 때 까지 공부하는 것 >_< \\'21.9 ~  : 서울대학교 경력개발센터 연구원 \\'18.12 ~ \\'21.9 : 교육기획 및 운영 (피아노, 영어, AIFFEL, 부스트캠프 AI Tech) 인적자원개발 전공 석박사통합과정생 박사학위논문 가제 : 감성분석을 활용한 무형식학습의 정서 탐색 : AI 교육 맥락을 중심으로 ENTJ! (회사 본캐 검사 > ESTJ)  요약 : \"학습 시스템 디자이너의 관점에서 학습 분석 시각화 예시 소개\" 1. Introduction & Context  2. Analysis & Visualization Techniques 3. Biases and Caveats References   아래의 주제 중, 자유롭게 1~2개의 주제를 선택하여 논의해 봅시다.  <이웅기, 황준오, 김보영, 이윤서 > 난이도를 측정하기 위해 정답률과 같은 간단한 방법을 사용하는 것으로 충분할까요? 아니면 더 복잡한 방법이 필요할까요? 준오쌤: response time을 같이 보는 것이 중요함. (ex) PISA 데이터: 문제 푸는 시간 & 정답률  나라 간 비교가 목적. 컴퓨터 베이스와 페이퍼 베이스의 데이터가 말하길, 무엇으로 문제를 푸는가에 따라 시간이 다름.) & 어떠한 매체를 통해 문제를 푸는가도 중요.  페이퍼로 문제를 푸는 게 더 정답률이 높았다고 함.  윤서쌤: 가장 중간정도되는 난이도의 문제를 제공해야 함, 상위 하위 차별 지수가 난이도 측정에 도움이 될 것 같음.  + 문제푼 장소가 학원이냐 집이냐 등 환경에 관한 정보도 중요할듯. + 객관식 말고 주관식은 어떨까? 웅기쌤: response time을 집어넣고 DKT에 넣어  다음 문제를 맞힐 수 있는지 여부를 확인 가능. 보영쌤: 너무 어렵거나 쉬운 문제는 자동으로 빼는 거 어떨까? eye tracker 등과 같이 시선 체크.  현장에서 학생은 주로 부정행위를 어떻게 하나요? 이를 데이터로 시각화하여 알아차리는 방법에는 무엇이 있을까요? 보영쌤: 채팅하는 동작을 본다거나, eye-track 패턴을 파악. 준오쌤: 비슷한 자리에 앉은 학생들이 비슷한 정답, 오답을 찍는 현상으로 파악  돌발퀴즈 등을 해서 학생들의 성취도 및 집중도 파악. 윤서쌤: 과목과 시험 특성에 따라서 부정행위 정도가 달라질 수 있다. 특히 온라인에서 더 많이 일어난다. 시험 자체의 경향이나 문항 정오답 오류 등도 찾을 수 있음. 웅기쌤: 칸아카데미로 운영해보니 평소 잘 참여 안하던 학생이 중간중간 갑자기 100점 맞는 현상 발견되는데 직접 질문해보면 대체로 대답을 잘 못한다. 그 외에도, 학생의 태도를 보면 교사가 직관적으로 알 수 있는 지표가 있다. <전영훈, 백수진, 권현지  > 난이도의 정의 : 문항 곤란도 (집단 내에서의 상대적인 개념) 정답률로는 충분하지 않다 -학습자가 문제에 대해 얼마나 진지하게 생각하고 몰입하고 있는지에 대한 확인도 필요  -학습자의 수준이나 집단의 특성  -환경적인 부분 (소음,  -모든 조건이 동일한 학습자에게 동일한 환경이 제공되었는지 (학습 소수자에게 동일한 환경이 아님)  4. 부정행위 거의 없음....  IP 추적  학생 간 답안 일치도  (학생 답안끼리 표절검사)  그럼 어떻게 만점자와 배낀 거  >> 분야 전문가가 추가로 확인하여 알아차릴 수 있을 듯 (이전의 학습 행동을 추적하거나)  2. 문항 출제자의 입장에서 평가 문항의 다양성을 객관적으로 분석할 수 있음  문항 출제 의도가 문항에 잘 반영되었는지 타당도 검사 가능 > 출제자에게 성찰 가능하도록 함  실제 이해도 측정 가능  > 유사도가 높은 2개의 문항을 둘 다 맞춘 친구와 다르게 맞춘 친구 비슷한 주제의 문항인데 문항의 문제 유형만 다른 경우, 어떤 형태의 문제에서 학습자 성취 차이가 어떤가 > 학습자 유형별 지원 (개별화 지원) 가능  문항은 아니지만 )) 답안 유사도를 활용하여 비슷한 답안에 대한 군집 분석 가능  <송유경, 유영진, 신부경> 1. 난이도를 측정하기 위해 정답률과 같은 간단한 방법을 사용하는 것으로 충분할까요? 아니면 더 복잡한 방법이 필요할까요? 교육 측정과 검사, 교육 평가 분야에서 이미 정의된 방법 있음 (문항 곤란도) 이 경우 \\'정답률\\'을 기반으로 곤란도를 측정하는 경우가 많음 서술형 정답의 경우 어떻게 채점할 수 있는지? 핵심 요소가 들어가 있는지 등을 채점 (논리력보다 단어를 썼는지 확인하기도) 맥락에 따라 채점 달라질 수도 rubric을 기반으로 채점하는 경우도 있음 정답률 이외의 요소? 반응 속도 답안지 교체, 답안 교체한 횟수 온라인의 경우 답을 썼다 지웠다 하는 것  응답 여부 (빈칸으로 낸 학생의 수, 완성도 등) 본인이 시험에 대해 느끼는 감정... 맥락을 어떻게 고려할 것인가? 4. 현장에서 학생은 주로 부정행위를 어떻게 하나요? 이를 데이터로 시각화하여 알아차리는 방법에는 무엇이 있을까요? 부정행위의 맥락 태블릿으로 시험을 보거나 활동을 하는 경우도 있음 (옆에 친구가 도와주는 경우) 누군가가 해줬는지 관찰하지 못하면 알지 어려움 부정행위의 범위: 대신 해주는 것 vs 도움을 주는 것 구분의 방법? 부정행위는 주로 정답이 있는 활동이나 시험의 맥락 부정행위 방지 방법 태블릿으로 문제를 풀 때 학습자의 지문이 찍혀서 이상 반응이 나타났을 때 신호 보내지는 방식 가능  but 감시가 될 수 있음 AR 방식으로 (스마트 안경 등) 모르는 것이 있으면 머리 위에 뜨는 방식?으로 시각화 가능 토플 시험 (홈 에디션): 카메라 켜놓고 부정행위 구별의 필요성 어떤 활동을 하고 있는지 시각화할 필요 있음',\n",
       " '전영훈': '\"As learning itself is a process of trial and error, it is particularly important to use data in a manner that allows the benefits of those innovations, but still allows a safe space for students to explore, make mistakes, and learn without concern that there will be long term consequences for errors that are part of the learning process.\" _2014 White House Report  요약  토의 [웅기, 부경, 지훈] 현실적으로 말이 안된다! 웅기: DKT에서 assistment 데이터 반복적으로 쓰는 것도 문제인지? 뉴럴링크에서 원숭이 뇌로 실험하는건 허락 받고 했나? 본인이 학교의 정보담당자인데 말이 안됨 부경: 데이터에 고유식별번호를 붙이더라도, 그걸 개별 기관에서 관리하는게 불가능한게 아닌지? 웅기: 어느정도 가이드를 주되, 윤리적인 선에서/문화적으로 맡겨야하지 않나? 지훈: 보험과 유사한듯, 벌어지지 않은 일을 걱정하는데 너무 많은 시간과 비용을 쓸 수 없음 웅기: 최근에 peer-review가 약해지면서 논문도 쏟아지고.. 연구윤리에 문제가 많은듯함 부경: NDA(the National Institute of ~) 에서 만든 ABCD Bio Bank. 다양한 종단연구를 진행중에 있음 웅기: 보건쪽은 IRB 다 받도록함 연구 주제 정하기 웅기: 뇌파탐지기 16채널 구매, 활용할 때 동의서 받으면 되지 않을지. IRB 프로세스도 느림 인지부하 측정 시 뇌파활용하기 좋음  부경: ERP(event related potential)은 언어자극 보기 좋다고 들음 지훈: engagement, 학습자 간의 상호작용 관련한 연구에 관심이 있음. 아직 개인정보레벨까진 고민 못함 웅기: xAPI 도입한 홈페이지 개발중인데, 개인정보 문제가 생기면 변호사를 통해 해결해야함 지훈: xAPI의 한계점이 뭘까? (statement를 통일한다고 해서 그것을 연구자들이 해석하기 편해지는 것은 아님맥락이 사라지므로) 웅기: old, 하나하나 포맷을 입히기도 쉽지 않음, 용어 사전을 맞추기도 힘듬 부경: 학습과정에서의 \\'물질\\'과 관심이 있음 (예. 필기구와의 상호작용)  생리심리 데이터, 학습활동 데이터 수집 등에 관심이 있음 [홍규, 윤서, 하경] Student Privacy Pledge 2020 살펴보기 학생정보, 교직원정보 비공개처리 보조적인 문서 매뉴얼화, 관료제 문서지상주의  학습분석의 발전에 악영향 교직 - 폐쇄적인 조직 정보들을 받아야 사교육 업체에서 학습분석에 이로운 틀, 메커니즘을 만들 여지가 있다. 딜레마 - 학습분석의 발전과 학생들의 개인정보 보호 Pledge 처럼 broad한 내용도 필요하지만 실제로는 각 학급 상황을 적절하게 반영해야 한다. 공교육, 사교육에 국한하지 말고 관심이 있는 사람들에게 적극적으로 공유해야 한다. 클래스팅 : 사기업이 학생들의 privacy(학습 경향, 어디를 틀렸는지)에 접근.   개발자들이 Github에 무료로 접근할 수 있어서 그 곳에 접근해서 학생들에게 맞춤형 자료를 제공하고 마이크로소프트사에게 자신의 개발 기록을 넘긴다. 서로 윈윈할 수 있는 방안 공교육에서 관리하는 데이터는 학생들 보호차원이 강해야 한다.  사교육의 지나친 마케팅화를 제한해야 한다. 데이터를 축적하여 새로운 상품을 내놓는 것.  학생과 학부모에 무상으로 좋은 교육을 제공하지만, 데이터는 우리(주체가 누가 되느냐가 중요하다.) 가 관리한다.  이런 방향으로 나가는 것이 어떨까?  공교육에서 관리하는 개인정보는 학생들을 보호하는 방면으로 가야 함. 사교육업체의 마케팅을 막으려면 데이터 관리 권한을 제한해야 한다.  학생들의 생체학적 정보 수집 가능?  개인정보에 민감한 학생은 기초 정보만 record   마지막 문항 : 희망적인 방향 We will incorporate privacy and security when developing or improving our educational products, tools, and services and comply with applicable laws 연구 주제 정하기    개인정보 문제가 되는 부분 살펴보기  해결책? 데이터를 가진 자 - 교육의 양극화될 가능성 개인정보 제한도에 따라 조항을 수정/삭제 하면서 차이를 확인하는 연구가 필요 개인정보 제한 / 중간 / 오픈 - 학생들에게 미친 영향을 살펴봐야 하지 않을까? 개인정보 문제 - 송은정 교수님 : 비정형 데이터(텍스트, 음성) 수집  어떻게 활용할까? 여기에 개인정보 문제가 있을까??  해결책 이야기해야 하는데... 시간이 없었다... ㅠㅠ [영진, 재용] Student Privacy Pledge 2020 살펴보기 세부적인 내용까지, 가상의 상황까지 자세하게 서술되어 있다 너무 구체적으로 진술해놓으면 규정을 회피할 가능성이 더 높아진다  오히려 포괄적으로 서술하는 게 더 나은가?  자의적, 비일관적 해석 때문에 문제가 생길 수 있다 자발적으로 개인정보 보호 노력을 하려는 것은 긍정적이다 (장기적인 신뢰관계 형성을 위해) 이 모든 조항을 준수하면 윤리적인 연구가 가능하겠으나, 그 결과물이 얼마나 효용/관심이 있을지 의문 한국에도 이런 조항이 있을까?  연구 주제 정하기  개인정보 문제가 되는 부분 살펴보기  해결책? 지속적인 감시에 대한 부담 데이터 수집 학생 감시받는 느낌, 시행착오를 제거하여 학습 위축 가능성, 위축 된 상태 측정가능? 미네르바스쿨: 학습과정 녹화  분석 결과가 성적에 반영  학생 부담이 심하다 교사의 데이터 해석에 따른 낙인효과 교사의 데이터 해석이 주관적이고 비합리적일 가능성도 있다  학생에 대한 교사의 기대를 낮추고 학생의 학습 기회를 박탈하여, 저성취 학생에 대한 차별로 이어질 수 있다  긍정적인 영향을 줄 수도 있지만, 학생의 성장을 저해할 수도 있다 책임 소재의 문제 개인정보 활용 결과로 문제가 생길 경우 책임소재 문제 발생 가능 교사잘못인가? 알고리즘 잘못인가? 알고리즘 개발자 잘못인지? 실행 과정에서의 부작용 선의로 시작했지만 본의 아니게 학생의 개인정보가 공개되면서 학생이 피해를 볼 수도 있다 ex) 같은 공간에서 개별화된 학습을 할 때 도움 필요한 학생들이 드러내기 싫어서 도움 요청을 꺼릴 수 있음 잘하는 학생과 그렇지 않은 학생 사이의 간극을 넓히고, 교사에게도 학생에 대한 선입견이 박힐 수 있음 어디까지 설명해야 하는 걸까요? 이해관계자의 범위: 교사, 교육청(장학사 등), 학부모, 학생, 회사 EBS AI펭톡? 알고리즘 설명 범위 [영훈 기원 용현] 책임을 지나치게 전가하는 느낌이다.  그래도 지금까지 큰 이슈가 없었던 만큼, 아마 데이터 문제에서 융통성있게 처리했을거라는 기대가 있다. 이번 글에서는 빠져나갈 구멍이 너무 많았다는 점을 지적하고 있어보인다. 모호함을 제거해야한다는 것. Student Privacy Pledge 2020 살펴보기 (이하는 특별한 얘기가 나왔던 조항들)  We will not collect, maintain, use or share Student PII beyond that needed for authorized educational/school purposes, or as authorized by the parent/student.  We will not use or disclose student information collected through an educational/school service (whether personal information or otherwise) for behavioral targeting of advertisements to students  We will not build a personal profile of a student other than for supporting authorized educational/school purposes or as authorized by the parent/student.  We will not make material changes to School Service Provider education privacy policies without first providing prominent notice to the users and/or account holder(s) (i.e., the institution/agency, or the parent/student when the information is collected directly from the student with student/parent consent) and allowing them choices before data is used in any manner inconsistent with terms they were initially provided; and not make material changes to other policies or practices governing the use of Student PII that are inconsistent with contractual requirements.  We will maintain a comprehensive security program that is reasonably designed to protect the security, confidentiality, and integrity of Student PII against risks  such as unauthorized access or use, or unintended or inappropriate disclosure  through the use of administrative, technological, and physical safeguards appropriate to the sensitivity of the information.  We will allow a successor entity to maintain the Student PII, in the case of our merger or acquisition by another entity, provided the successor entity is subject to these same commitments for the previously collected Student PII.Intro essay writing : good for logical thinking, critical reasoning, creative thinking human essay writing? too expensive not sufficiently accurate raters characteristics (strictness, inconsistency) Automated Essay Scoring(AES) statistical classification problem : large set of testual entities into a small number of discrete categories feature-engineering manually tuned features (length, spelling errors) advantage: interpretability, explainability extensive feature redesign required automatic feature extraction based on DNN requires a large dataset of essays graded by human raters as training data problem: bias effect performance of DNN rapidly drops when biased data are used for model training to solve: used IRT DNN-AES IRT to estimate reliable scores that remove effects of rater bias DNN-AES (conventional) suited to educational context, low- and medium-stakes tests Data J: examinees R: raters e: essay U: score V: vocab list for essay collection Neural Automated Essay Scoring Models 배경지식 DNN vs. CNN vs. RNN DNN : 기본적인 1차원 데이터를 활용하기 때문에 공간적, 지역적 정보 손실 + 학습시간과 능률의 효율성 저하 CNN : 이미지 raw input으로 공간적, 지역적 정보 유지. 전체보다는 부분에 집중 1 convolutional layer : convolution + activation pooling layer : feature map의 차원 축소 vectorization(flatten) : 이제 특이점 데이터들이니 1차원으로 변형해도 됩니다. RNN : Recurrent Neural Network(앞을 되짚어 생각하는 모델) 중에서 장기 기억이 가능한 LSTM 기존의 RNN LSTM (컨베이어 벨트 같은 cell state, 수정하는 gate들과 연산) 본론 CNN-LSTM-Based Model Lookup table layer _ why? Convolution layer : n-gram, zero padding Recurrent layer Pooling layer : MoT(mean-over-time) pooling for stable accuracy Linear layer with sigmoid activation BERT-Based Model pretraining masked language modeling next-sentence prediction fine-tuning(CLS, SEP) Problems in Model Training loss function: MSE(Mean-Squared Error) between predicted and gold-standard score gold-standard score: score for essay e assigned by a human rater in a set of raters R biased data because of the dependency on rater characteristics IRT(Item Response Theory) that can estimate essay scores while considering effects of rater characteristics Item Response Theory Models with Rater Parameters GPCM: appropriate to use for multi-point items in an educational context why polytomous? higher fidelity, assess deeper thinking, more information why partial credit? appropriate for scoring starts at 0 why generalized? includes discrimination parameter for evaluation the measurement quality of an item improved GPCM for for multiple raters: + raters parameter Proposed Method training Estimate the IRT scores Train AES models using the IRT scores gold-standard score rescaled to [0,1] for sigmoid activation 99.7% fall within range [-3,3] testing Predict IRT score from a trained AES model, and rescale to [-3,3] Calculate the expected score that corresponds to an unbiased original scaled score of e Experiments Actual Data Automated Student Assessment Prize(ASAP) essays on 8 topics, grade 7~10, 12,978 essays, avg. 1,622 per topic no rater identifiers > new 38 native raters with same rubrics(correlation 0.675) what a bias Experimental Procedures focus on robustness estimate IRT parameters by the Markov chain Monte Carlo(MCMC) (essay, score) pair dataset by randomly select one score among raters(x10) comprising essays and 1 values five-fold cross validation to train & obtain predicted score Cohen\\'s kappa, weighted kappa, root mean squared error(RMSE), Pearson correlation coefficient between expected & given score, 45 pairs average metric values from the 45 Results prediction accuracy for IRT score Conclusion depends on the characteristics of raters grading essays in training data simple, powerful, easy to apply future studies evaluate effectiveness of the proposed method using various datasets might improve prediction accuracy for each rater\\'s score end-to-end optimization Discussion (원하는 주제를 골라 자유롭게) IRT + DNN-AES 처럼 서로 융합해서 좋은 성능을 낸 사례가 있을까요? 혹은 아이디어가 있으시다면 공유해요. BERT fine tuning이 AES 분야에 갖는 효과에 대해 어떻게 생각하시나요? (효율성 등의 측면에서) 좀 더 나은 AES를 위한 아이디어, 혹은 AES가 나아가야 할 방향 등에 대해 자유롭게 이야기 해주세요. <병준, 영훈, 현주> AES만을 위한 fine tuning이 생기기는 어려울 것 같음 평가원 차원에서의 지원(수능 폐지에 대한 차선책으로 essay) 현주 쌤: 수능 폐지 등의 담론과 연결되어 대량 에세이 채점 시스템이 도입된다면 \"객관적인 채점\" 사용자와의 싸움(cheating), 객관적으로 포장되었지만, 결국 기술적 배경을 잘 알고 있는 사람들이 선점 multidimensional > simple category of scale 채점을 도울 수 있을만한 기술은 적용되고 있지 않을까 완전 대체보다 인간 지원도 의미 있는 것이 아닐까 생각 대규모 시험 + 사기업이 함께하면 cheating을 막을 수 없다고 생각 essay는 시대적 흐름이라고 생각 데이터를 많이 축적하면 채점에 대한 신뢰를 쌓을 수 있다고 생각(training dataset 쌓기) 동시에 평가의 신뢰도(채점자간의 일관성)가 확보되어야 하지 않을까 <웅기, 지영, 재용> 모델 융합 사례 신경망과 IRT를 왜 결합해야 하는가? / 결합해서 어떻게 작동하는 것인가? BERT fine tuning 더 적은 데이터로 더 높은 성능의 AES 모델을 얻을 수 있다. 접근성이 높아진다. 자동 에세이 채점 발전방안 사람도 못하는데(inter-rater correlation < 0.7) 기계로 하는 것이 될까? 사회적으로 중요한 시험의 경우 설명가능성과 투명성 확보가 어려워 적용하기 어려울 것 채점방식과 측정방식이 명확하지 않은 분야라면 애초에 robust한 모델이 존재할 수 없다(에세이 채점, 면접)  데이터 자체가 잘 정의되어야 한다(문법, 문장 완성도 등) 시스템을 속이는 것이 가능하지 않을까? 답이 긴가민가할 때 아는 것을 다 나열하면 가점을 받아갈 수 있지 않을까? <용현, 부경, 현지>  1 (& 3) 용현: IRT  ability 값이 나옴, knowledge tracing을 통해 인간을 해석하기 좋은 도구 (DKT의 해석성을 높이기 위해 IRT와 결합 시도가 있는 것일 수도; 성능보다는 해석성)',\n",
       " 'Y\\nYoonhee Ham': '     .docx 999.4KB <용현 윤서 웅기> 다중양식 학습분석의 장점과 교육적 활용방안에는 무엇이 있을까요? 장님이 코끼리 만질때 다리만 만지다가 머리도 만지면 코끼리 인식의 확률이 높아질 것. 뉴럴링크 등의 사례를 보면 생체 데이터 활용의 가능성이 있어보인다. 신규교사의 행동을 따서 우수교사의 행동과 비교하여 발전 방안 모색.  발문, 학생들의 행동을 파악할 때도 좋을 듯.  조건 아동 학습 분석에 활용하면 좋을 것 같다. 다중양식 학습분석의 제한점들을 극복하기 위한 해결 방안에는 무엇이 있을까요?] 노이즈가 정말 많이 낀다. 데이터가 현상을 잘 반영하는지 의문이 듦. fMRI 같은 경우도 brain zone이 나왔다 안 나왔다 하기 때문에, 학문적으로 접근했을 때 신뢰성의 문제가 있음.  측정의 고도화로 발전이 이뤄질 수 있지 않을까 1+1 = more than 2 를 가능하게 하는 방법이 뭘까?  다양한 생체 데이터들은 교육분야에서 기존에 불가능했던 데이터 양을 제공해서 딥러닝 기반 분석을 가능하게 한다. (ex; 영상, eye tracking 데이터) 다중양식 학습분석 혹은 학습분석의 사례가 있다면 공유해주세요. 최근에 자폐 환자에 대해서 단어  뇌파 딥러닝 모델  <송유경 권현지 신부경> 1) 다중양식 학습분석의 장점과 교육적 활용방안에는 무엇이 있을까요? + 2) 다중양식 학습분석의 제한점들을 극복하기 위한 해결 방안에는 무엇이 있을까요? 유경쌤: 다중양식 학습분석이 어떤 의미가 있을까?  \"연구자를 위한 연구\"라는 언급에 공감 현실에 적용될 수 있는, practical 연구보다는 연구를 위한 연구일 수 있음 (처방적 학문의 측면에서는 조금 부족할 수 있음, 조금 교육심리 측면에서 기반이 되는 연구일 수 있음) 선생님이 보면 집중하는지 안 하는지 보이는데 이렇게까지 해야 할지? 현지쌤: 장점: 교육적인 문제가 발생했을 때, 간접적 데이터를 사용함으로써 자기보고식 데이터와 접근 방식 다를 수 있음 (이전에는 없었던 방법) 단점: 순간적, 학습의 측면 다 드러내지 못함  교육적 의사결정을 위해서는 부족할 수 있음 피드백 데이터 분석한 경험: 중도탈락율과 관련이 있음 부경: 현상을 파악하는 것이 처방에 대한 제안의 기반이 될 수 있을 듯 현지쌤: 학습에서 정서의 역할 MBE(mind brain education) 3) 다중양식 학습분석 혹은 학습분석의 사례가 있다면 공유해주세요. 현지쌤: 처음에 제외하기 전 논문 개수 몇 개인지 궁금, 데이터가 부족할 수 있음 유경쌤: 데이터가 부족하기 때문에 생리심리데이터 수집하는 것일 수도 있음; 해외에 multimodal learning analytics 다루는 학자 많지 않음(5명도 안 됨) 다중양식 학습분석으로 가능할 수 있는 주제들?  Handbook 참조? 다중양식 학습분석은 아니지만... 창의성의 neural correlates 찾아보는 연구, 혹은 학습장애 아동에게 수학 프로그램이 어떤 효과를 지니는지에 대한 연구가 관련될 수도 있을 듯 (luculano et al., 2015; Saggar et al., 2016) 행동 로그 데이터, 생리심리반응 데이터(시험불안에 대한)  학업성취 예측한 연구: 행동로그데이터는 학업성취와 연관 있음 (재생반복시간 짧을수록), 생리심리 데이터 온라인 학습에서 심박수 낮을수록 성취 up, 시험에서 심박수 높을수록 성취 up 심박은 개인차 클 수 있음  기준선 측정 중요 MOOC에서 행동 로그 데이터: 특별히 의미 있는 결과 나타나지 않음 (multimodal 아닌 경우도 많음) <준오 기원 은선> 장점, 활용방안 단순 로그분석으로는 알수 없는 학습자의 다양한 상태 등의 퀄리티 있는 분석이 가능하다. 특수한 상황이 아니라면 실제로 학생 데이터를 계속 기록하는건 어려울 것 같고 필요성도 아직은 잘 모르겠다. 교육적 활용방안에는 다소 회의적이다. 제한점 극복 방안 학생들이 관찰장비를 덜 의식하도록 수업설계를 해야 할것 같다. 기술의 발전이 제일 시급함 보이지 않는 카메라 얼굴의 흔들림에도 가능한 아이트래커 등 다양한 센서, 센서의 감지 능력 학습분석 사례  잘 모르겠다 똑같은 다중양식 데이터를 여러명의 연구자한테 주고 발생하는 차이 임의성을 확인하는 연구도 한번쯤 이루어져야하지 않을까. 숫자같은 데이터도 통계 돌리는 방법 등에 따라서 연구결과가 달라지는데, 이런 인지적?인 데이터들을 한두 연구결과만 가지고 믿어도 되는가...  별개의 얘기  다중양식으로 갈수록 뭔가 변인으로 삼는 기준이 점점 자의적으로 되고, 지나치게 의미부여가 되는 측면이 있다. 방법론에 대한 회의적 관점이 필요함 https://science.ytn.co.kr/program/program_view.php?key=201701131638495688&s_hcd=&s_mcd=0082 [영진, 지훈, 하경] 장점, 활용방안 영진: (어느정도 퍼포먼스만 나온다면) 학습하면서 사용하는 \\'사적 언어\\'혼잣말를 분석해서 학습내용과의 상호작용집중?을 측정할 수 있으면 좋겠음 지훈: 구체적인 데이터의 처리방식이나 메커니즘은 모르더라도, 원하는 타겟변수를 예측하는데 도움이 될 것. ex) Riiid에서 수강생의 쿠폰 여부를 보는 것 하경: 기존의 연구를 많은 데이터를 통해 교차검증하는 수준에서 가능할 것 지훈: 다중양식 학습분석은 학습자를 대상화시키는 경향이 강함.  전쟁 상황에서 HRD가 발전했듯, 다중양식 학습분석도 인간의 윤리적 문제가 눈감아지는 특수한 상황에서 특정 지식, 기술을 학습시키기 위한 도구로 사용될수도? 제한점을 극복할 방법 하경: 데이터를 다룰 수 있는 툴, 라이브러리의 편의성이 높아져야한다. 진입장벽이 높음 영진: \"심박변이 00이상이면~ XX이하이면~\" 기준이 있는지? 의학은 있음 하경: 본 적 없음 지훈: 이런걸 어떻게 해석해야할지에 대한 명쾌한 근거를 제시하는 논문은 본적 없음 지훈: LDA, RandomForest 등 사회과학에서 무분별하게 사용되는 머신러닝 기법도 multimodal LA처럼 사실 해석의 근거가 불충분한게 아니냐 하경: 효율성에 집중해서 하경: 웹, heartbeat 등의 데이터를 가지고 있는데 분석을 시작하는데 어려움이 있음 사례 영진: KAIST, 유치원학생들로 소셜네트워크 인격형성 본 연구(맹준희) 직관적으로도 이해되는 결과, 윤리적인 문제, 예측의 위험성 지훈: 멘토링에 학습분석을 적용하는 것에 대해 고민중인데, 여러 장애물(이론적, 현실적)이 있는듯 영진: \\'AI펭톡\\' 의 결과물에 대해서 인간이 동의할 수 없을 때 생기는 문제.. 학습분석이 극복해야될 문제 지훈: 학습분석의 결과물이 단순 점수, rule base처방보다는 그냥 단순하게 다른 사람과의 비교가 오히려 더 개인이 학습에 활용하는데 도움이 될 것 같음 영진: 학습분석 대시보드가 아직 와닿는게 없음 (영진: 교육과정에서 명시하는 학습성취를 뽑을 수 있는 조작적인 행동지표가 뭔지 궁금) 클래스팅 영진: IRT로 문제풀이 보는 것보다는, 대시보드로 개인의 변화도를 볼 수 있는 것은 좋았음 사람들이 기대하는 인공지능의 수준에 차이가 있음. (마법의 지팡이?) [김현주, 채지윤, 함윤희] 다중양식 학습분석의 장점과 교육적 활용방안에는 무엇이 있을까요? 1) 교수자의 직관(경험을 기반으로 한)으로 여겨졌던, 학생의 학습에 대한 판단을 보다 명확하게 해줄 것 2) 실천적 성격의 다중양식 학습분석은 굉장히 유용해질 것으로 예상됨 3) 교수자 뿐만 아니라, 학습자들은 제공되는 정보를 통해서 자신의 상태를 충분히 점검할 듯 4) 교수자는 생활지도가 아닌, 수업의 질 자체에 초점을 맞출 수 있음 5) 일상생활의 가능성: 애플워치, 갤럭시 워치를 통해 사용자의 상태를 점검 -> 향후, 학습자료와 연동된다면 충분히 가능할 것! 생체 데이터가 실시간으로 쌓이는데 향후 어떻게 학습과 연관지어서 활용할지 충분히 된다면, 유용할 것! 다중양식 학습분석의 제한점들을 극복하기 위한 해결 방안에는 무엇이 있을까요? 1) 데이터가 쌓일 순 있어도, 기준 이 부재한다면, 교수자 학습자에겐 혼란이 될 것 2) 영상분석을 하는 사례: 머리의 기울기, 손의 움직임 등을 기준으로 해서 분석을 함. 이때, 기준 설정의 어려움 3) 아동 대상의 경우, 다중양식 학습분석을 통해 데이터 수집 자체가 어려울수도.. 4) 상용화하기엔, 여전히 경제적인 어려움이 존재함! 5) 다양한 데이터를 수집하는데, 이 데이터 사용을 학습자가 거부한다면?   처방을 원하는 학습자들에게 적용 6) 학습 장면에서 데이터 수집 도구가 잘 활용된다면, 학습자들의 학습 모습을 충분히 관찰하고 분석될 수 있음! 다중양식 학습분석 혹은 학습분석의 사례가 있다면 공유해주세요. 1)미네르바 대학: 물리적 공간 X  모든 수업이 온라인으로 진행 & 실시간으로 학습자 분석(참여도, 기여도 분석) 2)중국 초중등 학교의 헤어밴드를 통해 학습자 분석 3)협력적 학습에서 학습자의 행동 분석(의견을 모두가 내는가?, 의견을 서로 주고 받고 있는가?, 시선은 어딜 향하는가?)을 통해 협력의 질을 판단 4)시선 추적기를 통해 학습자의 집중도를 파악 <영훈, 영훈, 새록> 1) 다중양식 학습분석의 장점과 교육적 활용방안 잘 모릅니다.. 한 가지 양식만 분석하는 학습분석에 비해 다양한 양식으로 좀 더 정확히 관찰이 가능하다면, 학스바자에게 자아성찰의 기회를 제공할 수 있지 않을까 생각 집합식 수업을 하는 지금 현장에서 아이트래킹, 음성 데이터 등을 제대로 수집하는 것이 가능한지 궁금. 가능하지 않다면, 일 대 다의 학습 상황보다 일 대 일, 혹은 온라인 학습 상황에서 더 유용하게 활용될 수 있을 것이라고 판단함. 2) 다중양식 학습분석의 제한점 극복하기 위한 해결방안 일 대 다 환경에서 잡음을 전처리하는 과정의 어려움 기술의 발전 필요? 오프라인 학습 환경에서 활용하기 어려운 연구라고 생각했는데, 오프라인 연구가 있어서 놀랐음. 그 연구들이 어떤 것들이었는지, 구체적인 설명을 들어도 될까요.. 3) 다중양식 학습분석, 학습분석 사례 공유 난이도가 어려울수록 동공이 변화한다는 가설 검증 실험(-ing) / 회상자극인터뷰 현전감(presence) 설문 (실재감이랑 영어 변인명 겹침 : 실재감은 contents중심, 현전감은 학습자 중심) 눈이 작아서 아이트래킹이 안되는 것.. 얼굴을 움직이지 않고 하는 실험이 실질적 학습이 일어나는 환경인지(초등 가능?) 사전 지식이 높은 학생이 hand writing < typed writing 선호하는 경향Summary Introduction(Theoretical framework) Methods Language models and transformers Results Discussion  1. 본 연구에서는 학생이 쓴 문장을 인지 활동에 따라 라벨링하였습니다. Definition, Cause and effect과 같은 인지 활동 외에 문장을 라벨링할 방법이 있을까요?   2. GPT-3 모델, 네이버의 하이퍼클로바, 카카오의 KoGPT 등의 최근 언어 모델은 교육에서 인공지능의 활용 가능성을 높여주고 있습니다. 본 논문에서 목표로 했던 Automated Writing Evaluation 시스템은 언어 모델을 활용할 수 있는 대표적인 분야인데요, 그 외에 교육에서 언어 모델을 어떻게 활용할 수 있을지 논의해보고 싶습니다. 언어 모델 예시 https://beta.openai.com/examples/ https://naver-ai-now.kr/ https://github.com/kakaobrain/kogpt 교육적 활용 예시 챗봇 교사 토론글 분석 및 피드백 제공 음성 분석 및 피드백 제공 등.. <지영 준오 보영> 준오 : 사실과 의견을 분리해서 글쓰기 + 그것을 구분해서 라벨링 해주는 것. (의견의 경우 그것을 뒷받침해주는 사실들과의 연결관계 라벨링하기)  지영 : 비슷한 내용끼리 묶어서 문단을 구분하는 것, 적절하게 문단을 끊어야 할 위치에서 알려주기. 과학적 글쓰기보다는 국어적 글쓰기에서 더 유용할듯. 인지활동에 대한 구분을 만들어둔 것이 좋아서, 좀더 대규모로 연구가 이루어졌으면 좋겠다. 보영 : 일기 등에 나타난 감정을 문장에 따라 색깔로 하이라이팅 해주기.  + 학생들이 교과서에서 중요하게 생각하고 하이라이트 친 부분을 학업성취 수준에 따라서 분석해보기.  http://wai.best/  실제 내용에 대한 피드백보다는 문장의 완결성에 대한 피드백만 쓸만 하다. 닫힌 질문 vs 열린 질문에 대한 평가 (하브루타) 음성언어 모델을 사용해서 발음에 대한 평가도 이루어졌으면 좋겠다. 저학년의 경우 발음을 많이 틀리는데 이를 자동적으로 짚어주는 기능. 혹은 구강구조의 문제를 진단하는데에도 활용할 수 있을 것이다. 난독증에 대한 간이 진단 글쓰기를 분석해서 교우관계 진단 및 학교폭력 징후, 우울감, 부정적 문장 판단 등. (가능하다면 카톡 텍스트?) 낱말추천 (Grammary처럼) : 동의어 유의어 한자어 등 토론할때 발화적 상황에서 실시간 피드백 <윤희 용주 웅기> 라벨링 방법  어떤 글이냐? 논리적인 글쓰기, 일기(교우 관계) 감정 분석: boring, frustration 질문의 등급 https://gse-it.stanford.edu/smile 전문가와 학생의 글쓰기를 비교  LIWC: http://liwc.wpengine.com/http://liwc.wpengine.com/ 음성 분석: 톤, 어조 등을 분석하기도 함. (cf. 다중양식분석) 교사의 발화를 분석할 수도 있음.  교육적 활용  공감 챗봇 창의적 영어 글쓰기에 활용 <은서 영진 부경> 1. 본 연구에서는 학생이 쓴 문장을 인지활동에 따라 라벨링하였습니다. Definition, Cause and effect과 같은 인지활동 외에 문장을 라벨링할 방법이 있을까요? 인지 활동을 라벨링하는 방법? 자기규제학습, 자기주도학습 - 학습참여, 의문 제기 등 측정 (e.g. pause, 되돌리기 등 로그데이터와 같은 변수) 선택을 먼저, 더 빨리하는 것이 동기를 나타낼 수 있음 행위를 인지 활동을 나타내는 것으로 라벨링 추론, 논증 등...  보통 질적 연구를 통해 연결 인지활동 외에 문장을 라벨링할 방법? 감성 (e.g. 시...) 단순히 언어적으로? 말하기  문장으로 갈 때 감정이 빠지는 부분이 생김, 기술이 된다면 이것을 알아볼 수 있는 방법...? 수식어구 vs 이과식 글쓰기 (팩트만)  접속사, 부사구, 형용사구 등의 빈도로 확인할 수도 문장의 역할? e.g. topic sentence, supporting details, closing sentence  거시적인 글의 구조를 파악하는 데 도움이 될 수 있음. 글의 프레임 분석/지도에 유용 두괄식? 미괄식? 문장의 종결어미  어느 단계의 인지에 도달했는지 알 수도 (e.g. ~인 것 같은데요 - 유사성, 추론?, ~와 반대된다 - 정보를 구분하는 단계) 인지 활동을 겉으로 표현된다고 볼 수 있을까? 심리적 구인을 행동데이터, 데이터로 표현할 수 있을까? 표현이 인지 수준을 따라가지 못하는 경우도 있지 않을까? 2. GPT-3 모델, 네이버의 하이퍼클로바, 카카오의 KoGPT 등의 최근 언어 모델은 교육에서 인공지능의 활용 가능성을 높여주고 있습니다. 본 논문에서 목표로 했던 Automated Writing Evaluation 시스템은 언어 모델을 활용할 수 있는 대표적인 분야인데요, 그 외에 교육에서 언어 모델을 어떻게 활용할 수 있을지 논의해보고 싶습니다. 챗봇 교사 e.g. 타자를 치면 챗봇이 지식으로 대답 (1:1로 질문에 대답, 정보제공, 적응형 피드백) - 특정 과목에서 이루어짐 구글 어시스턴트같은 느낌? (but 구글만큼 자료를 너무 많이 주지는x, 인지 부하를 줄일 수 있음) 챗봇을 통한 개별 피드백 (e.g. 과제에 대한 피드백) 챗봇을 만드는 것도 노가다...  언어 모델을 통해 보완 가능? 교육에서 이것을 어떻게 활용할 수 있을까? 비윤리적 데이터 학습의 경우  교육적 챗봇에서는 특히 유의해야 할 수도... 언어를 통한 감성 분석? 적절한 피드백, 말을 해주는 대화형 챗봇? 상담 챗봇? e.g. 독거노인 대화 상대 토론 활동을 보여줄 수 있는 프로그램? 토론의 진행 상황을 보여줄 수 있는 것 (어디가 도움이 필요한지 등)  토론 성과 관련된, 필요한 정보만 제공하는 프로그램? 팀 내에서의 기여도, 개개인의 각각 성과 나아가 성취수준을 평가하거나 확인, 유형별 피드백도 제공 가능 - 평가자 입장에서 특히 ZOOM 소회의실 환경에서...',\n",
       " '박\\n박용현 / 학생 / 물리교육과 \\xad': '본인 소개 물리교육과 재학중 (4-2) \\'20.8 ~ \\'21.9 : 심리학과 계산임상연구실 학부생 연구원 \\'21.9 ~  : 물리교육과 데이터사이언스 학부생 연구원 취미 : 요리, 힙합 음악 듣기 가장 최근에 한 일 : hBayesDM 패키지에 Hierarchical Gaussian Filter 모델 import 하기 (+ 연구실 자리차지) 본인 소개 Validity and Reliability of Student Models for Problem-Solving Activities 들어가기 같은 정답, 다른 능력 Research Question Background 1) 학생 모형 (Student Model, Learner model) 2) 타당도와 신뢰도 (Validity & Reliability) Setting Problem, Attempt Performance measure (Pelnek, 2020, research question 1) Student model 모델 평가 (research question 2) 신뢰도 (Reliability) 타당도 (Validity) 논의 Validity and Reliability of Student Models for Problem-Solving Activities Validity and Reliability of Student Models for Problem-Solving Activities.pdf 914.4KB Beyond binary correctness: Classification of students answers in learning systems.pdf 1616.6KB 한줄 요약 들어가기 같은 정답, 다른 능력 문제를 틀리더라도 정말 사소한 실수로 인해 아깝게 틀리는 경우가 있고, 맞더라도 문제의 의도와 다른 방식으로 답만 유추하는 경우가 있죠.  만약, 정오답 데이터만을 학생 모형에 활용한다면 학습 상황의 풍부한 맥락을 담아내지 못할지도 모릅니다.  O, X 결과 너머 학생들의 지식을 표상하는 데이터에는 무엇이 있을까? Research Question  지금까지의 학생 모형은 정오답 데이터 기반으로 학생들의 정답률을 예측했다. 그러나, 정오답 데이터만으로 학생의 문제 해결 과정을 충분히 설명할 수 있을까? 또한, 정답률 예측만을 모델 평가 지표로 활용해도 괜찮은걸까? 정오답 이외의 추가적인 학습 데이터의 활용 방법 제안 (reaction-time, length of code...) 정답률 예측 이외의 학생 모형 평가 방법 제안 (신뢰도, 타당도) Background 1) 학생 모형 (Student Model, Learner model) 학습자의 지식과 기술에 대한 모형. 논문에 따라 학습자의 정서, 동기, 메타인지, 학습자 선호, 행동 등에 대한 모델도 학생 모형으로 포함하기도 한다. Inner loop vs. outer loop inner-loop : 학습자가 (여러 단계로 쪼개진) 1개의 문제를 푸는 과정에 대한 모형. outer-loop : 과거 여러개의 문항 반응 데이터를 기반으로 현재 지식 수준을 측정하는 모형. inner loop 의 경우 domain 마다 상이하다는 특성으로 인해 발전이 어려워서, 현재는 outer loop 에 대한 연구가 주류를 이루고 있다. (Pelnek, 2017) Bayesian knowledge tracing model (BKT) Hidden Markov Model (HMM) 의 일종. 학생들의 지식 상태는 관측할 수 없으나, 상태로부터 산출되는 정오답 결과를 토대로 학생들의 지식 상태를 추적하는 모델. 가장 간단한 형태의 BKT의 경우 known, unknown 2가지 상태만을 갖고, 시작 상태 ( P_i P i ), 전이 확률 ( P_t P t ), 관측 확률 ( P_g, P_s P g ,P s ) 과 관련된 4가지 parameter 를 갖는다.  시작 상태 : 학생이 시작할 때 문항을 풀 수 있는 지식을 갖고 있을 확률 전이 확률 : 학생이 다음 문항으로 넘어갈 때, 상태가 변화할 확률 관측 확률 : 학생이 문항을 풀 때, 상태에 따라 문항을 맞출 확률 parameter 추정은 일반적으로 EM 알고리즘의 일종인 BaumWelch algorithm 으로 이뤄진다.  logistic model 6. Going Beyond Better Data Prediction to Create Explanatory Models of Educational Data 2) 타당도와 신뢰도 (Validity & Reliability) 타당도 (Validity) : 측정하고자 하는 대상을 얼마나 잘 측정하고 있는가 평가하는 지표. 유용성 기반 타당도 (Validity through Utility) 모델이 사전에 생각한 의도에 대해서 유용하게 추정한다면, 해당 모형은 충분히 타당하다고 볼 수 있다. Ex) Mastery criteria, Recommendation 등 학습 맥락에 따라 유사한 대상을 측정하더라도 유용함의 기준이 다를 수 있다. 수렴 타당도 (convergent validity) 서로 다른 측정 방법을 사용하더라도 유사한 개념을 측정한다면 높은 상관관계를 가져야 한다. 예측 타당도 (predictive validity) 신뢰도 (Reliability) : 측정 환경과 관계 없이 일관적인 결과를 나타내는가 평가하는 지표. 시간 변화 (test-retest reliability), 평가자 (inter-rater), 측정 도구 (alternate forms reliability), 측정 문항 (internal consistency) 등이 변화하더라도 일관적인 측정 결과를 나타내는지 평가한다.  Setting Problem, Attempt python 을 포함한 6가지의 programming 과제.  각 과제당 46~94개의 문제 후보가 있고, 학생들은 자유롭게 답안을 제출할 수 있다.  Performance measure (Pelnek, 2020, research question 1) 정오답 이외의 추가적인 정보가 유용한 것은 사실이나, 문항을 풀어나가는 과정에서 발생하는 데이터는 inner-loop 모델과 유사하게 특정 domain 에 따라 상이하다는 문제가 발생한다.  따라서 추가적인 정보를 그 자체로 제공하기보다 문제 풀이 과정에서의 데이터를 통해 정오답 데이터를 분류한다. 이 방식의 input data 가공은 기존의 BKT, IRT 모형에 적용하는데 있어서 큰 어려움이 없다는 장점이 있다. 코딩 시간과 길이 2가지 데이터를 정오답 Class 분류에 활용했다.  예를 들어, 위의 time-L 의 경우 반응 시간이 평균적인 반응에 비해 얼마나 빠른지를 기준으로  C^+, C^0, C^- C + ,C 0 ,C   를 구분한다. 만약 틀렸을 때 반응시간이 지나치게 빨랐다면 non-serious attempt 로 처리한다.  분류 결과에 따라 점수를 차등 분배한다. (0, 0.5, 1, 1.5) non-serious attempt 는 무시한다. Student model  이번 논문은 best model 을 구성하는 것보다, 해당 task 를 수행하기 위한 방향을 제시하기 위한 예시로서 model 을 구성함. 모든 모델은 input 으로 활용하는 performance measure ( y_{ps} y ps ) 만 다를 뿐, 모든 모델의 구조는 전부 동일하다. model equation (parameter :  k k) 모델 평가 (research question 2) 신뢰도 (Reliability) Split-half Reliability of Difficulties 학생들을 2개의 그룹으로 나눠서, 하나의 그룹에서 측정한 difficulty 가 다른 그룹에서 reproduce 되는지 확인한다.  Python 의 경우 전체 학생수가 800명으로 reliability 수행을 하기에 학생 데이터가 부족해서, 부족한만큼 복원 추출을 진행함.  time-L (절대 길이 기반 분류) 가 좋은 신뢰도를 나타냈다. Odd-Even Reliability of Skills 응답 데이터를 홀수번째와 짝수번째로 나눠서, 홀수번째 응답 데이터로부터 측정한 ability 가 짝수번쨰에서 reproduce 되는지 확인한다.  time-Q (분위수 기반 분류) 가 좋은 신뢰도를 나타냈다.  binary 의 경우 상당히 안좋은 신뢰도를 보였다. 타당도 (Validity) Convergent Validity 서로 다른 performance measure 에 의한 측정 결과의 상관관계를 본다. 이를 통해 양적으로 직접적인 비교를 수행하지는 못하지만, python 에서의 낮은 상관관계 그래프는 데이터를 자세히 살펴보게 하는 통찰을 제공한다. Python 에서 낮은 상관관계 이유 Predictive Validity 기존의 정답 예측에 더해 too-difficult, solving time, code length 에 대한 예측을 수행한다.  타당도 평가를 위해 10-fold cross validation 을 수행했다.  k-fold cross validation 논의 이번 연구에서의 가장 핵심적인 제안은 student model 을 평가할 때, 신뢰도와 타당도를 기준으로 평가해야 한다는 점입니다. 개인적으로 IRT 와 같은 cognitive model 에 대해서는 동의하는 바이나, deep knowledge tracing (DKT) 와 같이 예측 모델에 대해서는 이미 통상적인 모델 평가 지표를 활용해도 괜찮지 않은가 하는 생각입니다.   신뢰도와 타당도에 기반을 둔 모델 평가에 대해 어떻게 생각하시나요? 유용성 기반 타당도 개념을 보고, 단순히 예측력이 좋은 student model 을 만들기 전, 유용한 모델에 대한 고민이 필요하다는 생각이 들었습니다.  1. 인공지능 기술이나 모델이 유용하다고 실생활에서 느낀 경험이 있나요?  2. 유사한 수요가 교육 분야에서도 있을지도 궁금합니다. <웅기 지윤 용현> 짝수번째 홀수번째 나누는 것이나 k-fold 무슨 차이인지 모르겠다. 논문에서 채택한 다소 방법론이 올드해보인다.  에어비앤비: 팀 내 분위기&실적의 차이  오히려 팀내 분위기가 너그럽고 실적이 낮은 팀이 훨씬 장점(코드 작성) 보유, 따라서 시간으로만 평가하는 것은 우려가 됨. Inner loop에 초점을 맞춘다는 측면에서 시간 간헐성 : 시간을 양적으로만 측정하는 것이 아니라 접속하는 시간이 얼마나 간헐적인지를 보는지가 중요하다 등의 연구는 이미 많이 있다. 유튜브  사용자 추천 알고리즘이 정확하다  앨리스 (코딩 교육 프로그램)  코딩 교육 등에서 인공지능 기반 채점 프로그램: 학습자의 코드(문제해결)를 보고 점수 부여&피드백  (잠깐 실제 코딩 수업 얘기 : 코딩 복붙 교육)  IAB  가혹한 수업 <병준, 은선, 윤서> 윤서: 코딩을 할 때, 초등학생들도 코딩 시간, 다양한 코딩 방법, 코드의 간결함 등을 평가 변수로 생각함. 단순한 정오답이 아니라 코딩 능력과 같이 세분화된 능력들을 평가하는 것이면 신뢰도 타당도 모델이 적합할 것 같다. 구현하는 방법이 조금 어려웠을 뿐 ㅠㅠ(관점은 신기함) 병준: 정답, 오답 모델이 평가하지 못한 부분들을 (과정에서 얼만큼의 숙련도를 보여줬느냐, 다른 집단 데이터와의 비교 등) 통해, 개인의 특성에 집중하는 것이 아니라 대량 데이터를 통해 개인의 능력을 추출해낼 수 있다는 점이 신선했다.  은선: 코딩...정답이 딱 정해져 있는 것이 아닌 경우? 연구 문제가 정오답과 관련된 것이 아닌 데이터가 아닌 다른 데이터를 원하는 research question 1을 충족시키는 방법이었다. / 신뢰도, 타당도가 어떤 역할을 하는지...?에 대한 고민이 필요하지 않을까? 1. 인공지능 기술이나 모델이 유용하다고 실생활에서 느낀 경험이 있나요?  은선: 현장에서 활용되고 있는 인공지능 기술은 인공지능 챗봇, 인공지능 스피커 정도... 산타토익 (가격이 저렴한데 점수를 생각보다 잘 예측했기 때문.) / 엘리 - 중앙대 영어 말하기 AI튜터 (영어 발음, 영어 발화 등 데이터를 모으고 있는 중)  평가까지 원활하게 이어질 수 있음. 병준: 점수 획득이 목적인 시험이다보니 문장 구사력, 회화 능력을 보는 것이 아니라 객관식 토익 문제들을 내용으로 이용했기 때문에 유용성 기반 타당도가 높게 느껴지는 것 같다.  윤서:   *유용성기반타당도: 모델이 사전에 생각한 의도에 대해서 유용하게 추정한다면, 해당 모형은 충분히 타당하다고 볼 수 있다. 2. 유사한 수요가 교육 분야에서도 있을지도 궁금합니다. <부경, 현지 > 신뢰도와 타당도에 기반을 둔 모델 평가에 대해 어떻게 생각하시나요? 현지  <신뢰도>  어느 정도 %의 확신을 가지고 응답을 했는지 판별 가능 (실수인지, 몰라서 답을 채택한 것인지) <타당도>   문항을 만드는 목적에 맞게 학생들이 생각하고 답을 골랐는지 ##선택하는 시간에 대한 데이터, 정답을 몇 번 바꿨는지(maybe 모션 데이터 필요?)로 보충 가 전제에 대한 의문 : 지금 우리 시대에 필요한 역량을 평가하기 위한 방식이 맞는지? 부경 : 평가 도구로써 당연히 해야하는 것 (e.g. CBT  다음 문제로 넘어가기 위한 근거로서 예측 모형 필요?) 사전 지식을 아는 지에 대한 명확한 판단이 필요 > 이에 따라 다음 학습으로 넘어가게끔 > 이러한 과정을 명확하게 하기 위해 예측 모형 자체에 대한 신뢰도와 타당도 모델이 필요 ##시간 데이터 > 동기 측정  인공지능 기술이나 모델이 유용하다고 실생활에서 느낀 경험이 있나요? 현지 : 자연어처리의 챗봇, 은행에서 공인인증서 질문할 때  간편하고 빠름 유용하지 못하다고 느낀 경우: AI 개발자의 고충 : 선박 운행 결과적으로 유용하지 못하다는 결론 부경 : 핸드폰 요금제 챗봇 > 정보 제공의 즉시성  (공통점) \"단순한 정보\"를 쉽게, 정확하게, 빠르게  정보 전달, 학습 게임 (',\n",
       " '백\\n백수진': \"용어 retrieval practice IRT(Item Response Theory): 문항반응이론 Quiz vs Assessment 1. introduction 전통적인 학습환경과 온라인 학습환경의 비교 학생 스스로 그들의 학습환경을 효과적으로 규제할 수 있도록 해야한다! 2. 연구문제(RQ) (RQ1) 본 평가(assessment)를 시작하기 전 즉각적인 학습 맥락에서 얻은 활동을 통해 짧은 형성평가(퀴즈) 점수를 어떻게 예측할 수 있는가?  퀴즈 시작 직전 3분창(3-minute window)에서의 활동(총 22개)을 통해 모형 구축 (RQ2) 연구문제1에서 사용된 활동 패턴에서의 인출 연습(이전 퀴즈 수행)이 이후 퀴즈를 수행하는데 영향을 미치는가? 퀴즈 관련 활동만을 고려한 모형 vs 퀴즈와 관련 없는 활동만을 고려한 모형 (RQ3) 즉각적인 학습 세션과 무관한 정보를 사용하여 학생의 점수를 얼마나 정확하게 모형화할 수 있는가?  학생 능력과 문항 모수에 대한 IRT 추정치를 통해 점수 예측 (RQ4) 학생의 점수를 예측하려면 얼마나 많은 맥락이 필요한가? 퀴즈 시작 직전 3분창, 5분창, 7분창, 9분창 비교 (RQ5) 학생의 점수를 예측하는 데 가장 큰 영향을 미치는 것(feature)은 무엇인가? 랜덤포레스트를 통해 상대적 중요성 파악, 선형 회귀 모형을 통해 계수 해석 3. Dataset 2018-2019년, 48,181명의 학생(플로리다 주에서 대수1을 배우는 6-12학년)에게 실시된 평가 학생들이 더 나은 점수를 받기 위해 퀴즈를 다시 치를 수 있기 때문에 첫번째 시도에 초점 210,190번의 총 퀴즈 데이터: 한명당 평균 6.42번(sd=8.79)의 퀴즈 수행, 평균 1.15점(sd=1.07) 한 학년(school year)동안 Algebra Nation에 참여한 학생들(N=32,685)의 Activity Features을 사용하여 학생 점수를 예측하는 모형 훈련 Algebra Nation: 수학 학습 플랫폼 Activity Features: 퀴즈 시작 직전 3분동안 집계된 22개의 작업의 수 모형: 2PL IRT + 랜덤포레스트 회귀 4. 연구결과 (RQ1~RQ3) 모형 비교: 풀링(5-fold)된 실제 점수와 예측 점수 사이의 상관 계수(r)를 통해 각 모형의 성능 평가 (RQ4~RQ5) 5. 마무리 온라인 학습이 증가함에 따라 학생들은 학습을 자기 조절하는데 서툴기 때문에 효과적인 학습 전략을 촉진하는 것이 중요  퀴즈 풀기를 통한 인출 연습 Algebra Nation의 짧은 형성평가(퀴즈) 성취도를 예측하는 모형 개발: 우리의 모형이 꽤 정확 (student level cross-validated correlations of 0.53 or 28% of the variance 연구의 한계 자유롭게 골라서 의견을 나누어주세요 모형의 성능을 비교할 때 예측 점수와 실제 점수의 상관계수(r)를 통해 combined feature model이 가장 좋은 모형이라는 결론을 얻었는데요. 상관계수(r)만으로 그렇게 결론내릴 수 있을까요? 혹시 다른 방법은 없을까요? 연구문제5에서 학생 퀴즈 점수 예측에 있어서 '틀린 문항 검토하기>문항난이도와 학생 능력>토론게시판 탐방>이전 문항에 응답'의 순으로 중요하다는 결론을 얻었는데요. 저자가 이야기한 cognitive fatigue 이외에 '이전 퀴즈에서 더 많은 문항에 응답할수록 현재 퀴즈 점수가 낮다'는 결론을 어떻게 해석할 수 있을까요? 온라인 학습 환경에 있어서 퀴즈 점수에 영향을 줄 만한 활동들이 더 있을 것 같아요. 이 논문에서 살펴본 22개의 활동 이외에 또 고려할 수 있는 활동들은 어떤 것들이 있을까요?  우리나라 교육에서는 단방향 온라인 수업보다는 실시간으로 이루어지는 쌍방향 온라인 수업(줌)이 선호되고 있는 것 같은데, 실시간으로 이루어지는 쌍방향 온라인 수업의 경우에는 어떤 방식으로 학생들의 수행을 예측할 수 있을까요? 학생 스스로의 동기나 의지가 부족한 경우에는 아무리 잘 갖춰진 온라인 학습 환경이라도 퀴즈가 적절히 주어지더라도 학생의 점수는 낮게 나올 수 있을 것 같은데, 온라인 학습 환경에서 학생들의 동기나 의지를 끌어올릴 수 있는 방법은 어떤 것들이 있을까요? 이 논문을 통해 머신러닝과 문항반응이론을 통합하여 분석하는 것이 가능하다는 것을 알게 되었는데요. 머신러닝과 문항반응이론을 통합하여 분석하는 것의 이점에는 어떤 것이 있을까요? (혹시 아신다면...!) 1팀: 윤서, 부경, 병준 loss: 보통 true data y 와 prediction y_hat 의 실제 값의 차이를 본다. y - y_hat 과 비교했을때 정확한 데이터 포인트 예측보다는 선형적인 추세를 볼 수 있다는 점이 pearson r의 장점! (by 용현쌤) 연구문제5에서 학생 퀴즈 점수 예측에 있어서 '틀린 문항 검토하기>문항난이도와 학생 능력>토론게시판 탐방>이전 문항에 응답'의 순으로 중요하다는 결론을 얻었는데요. 저자가 이야기한 cognitive fatigue 이외에 '이전 퀴즈에서 더 많은 문항에 응답할수록 현재 퀴즈 점수가 낮다'는 결론을 어떻게 해석할 수 있을까요? '퀴즈를 잘 풀려면 퀴즈를 여러 번 풀어보아야 한다'라는 결론일 수 있는데, 측정하는 것이 얼마나 학습에 기여했는가를 평가했다기보다는 시험 점수에 얼마나 기여했는가를 측정한 것일 수 있음 (타당도의 문제) 항상 의문을 느꼈던 지점: 타당도가 항상 문제점 항상 학업성취 (점수) 향상을 학습도와 동일시하는 해석이 전제됨 과연 이 전제는 타당한가? ('시험 점수 높음: 더 질 좋은 학습이 이루어짐') 특히나, 비슷한 유형의 퀴즈를 얼마나 풀었는지에 따라 비슷한 유형의 퀴즈 점수를 예측하는 것이 얼마나 교육적으로 의미가 있었는가 'cognitive fatigue'의 개념에 대한 고민 피로 및 과부화와 관련된 내용 맞음 왜 예상과 다른 결과가 나왔을까? cognitive fatigue가 절대적일 수 있을 듯 (3분, 5분동안 측정을 했는데 이때 계속 퀴즈를 풀었으면 당연히 피로가 증가할 수밖에 없음) 너무 습관처럼 (지난 번에 풀었던 내용과 동일하게 풀어서 응용 부분에서 실수...?)  관성에 이끌려서 응용 파트를 생각하지 못하고, 익숙해진 형식을 그대로 차용해서 방법을 적용하다보니 오류가 있었을 수도 문제를 푸는 것을 제대로 소화하지 못해서 (풀었던 내용, 방법을 소화하지 못해서 정보들을 제대로 익히지 못함. 하지만 바로 넘어가야 하다 보니, 인지적 부하가 더욱 강해지는 역설이 있었을 수도) 학생 스스로의 동기나 의지가 부족한 경우에는 아무리 잘 갖춰진 온라인 학습 환경이라도 퀴즈가 적절히 주어지더라도 학생의 점수는 낮게 나올 수 있을 것 같은데, 온라인 학습 환경에서 학생들의 동기나 의지를 끌어올릴 수 있는 방법은 어떤 것들이 있을까요? 비대면 수업의 가장 큰 어려움: 동기 부여 방안이 매우 제한적 Salience: 수업 내용을 엄청 재밌게 만들기 위해 extra extra work을 하지 않는 이상, 동기부여는 본질적으로 어려움 초등학생 동기부여의 어려움 (초등학생만 너무 말씀드렸나 허허...) 초등학생은 동기부여가 정말 안 됨 ; 온라인이나 오프라인이나 중요한 동기부여 요인 (1) 너네 인생에 얼마나 도움이 되는가: 고학년 쯤 되면 알아서 파악함 (2) 무조건적인 재미: 온라인에서 매우 중요한 요소  게임 많이 함; gamification적 요소 (헤헷 저도 게임 좋아해요)  '게임'이라고 느끼게 하는 것은 무엇이 있을까? 무엇이 게임을 재미있게 만들까? 얼마나 step이 정교하게 짜여 있는가 보상이 어떻게 주어지는가 다양한 학습도구들을 이용해서 (이럴 때 에듀테크가 큰 역할을 할 수 있겠다.) 병준: 에듀테크 봉사를 했었는데, 경계성 지능 아동에게 큰 도움이 되었다. 2팀 : 재용, 용주, 용현 성능평가 Pearson r 이 웬말이냐 아마 정확한 값이 예측이 안되서 이런 변수를 썼을 것. 이 연구의 novelty? 이런 연구가 기존에 없었던 것 같음 랜덤포레스트의 importance..?  IRT(베이지안 모델 - likelihood 가능도 - IRC)랑  랜덤포레스트 - 상관관계(pearson r)의 관계? 뉴턴 메소드,  여담 3팀: 현주, 수진, 지훈 논문 퀄리티 상관 해석하는 것 모형 설명하는 것 combined model이 단순히 feature가 늘어나서 그런거 아닐까? 2번) 이전 문항 응답이 많을수록 점수가 낮아진다 cognitive fatigue 때문 아닐까? SSEN 문제집 보면 스트레스 받듯이..? 학습효과(예. 자이가닉 효과)에 부정적인 영향을 미친다 Karma award 는 효과가 없는거냐? 6번) IRT는 곤란도, 변별도와 같은게 있어야 되는데 산타토익이 IRT도 맞는지? 문항특성과 사람특성을 구분해서 모형을 만들면 IRT라고 봐야할듯 강화학습 + IRT 담론도 크는 중이라고 들었음\",\n",
       " '임은선 \\xad': \"AI-based education의 한계 (Holmes, W., Bialik, M., & Fadel, C. (2019). Artificial intelligence in education. Boston: Center for Curriculum Redesign.) 이런 문제들을 해결하기 위해 AI-based education을 서비스하는 기업에서는 어떤 노력을 하고 있을까? 1. Choose Your Own Question: Encouraging Self-Personalization in Learning Path Construction Introduction Related Works Rocket Potential Benefits of Rocket Implementation Conclusion 2. Assessment Modeling: Fundamental Pre-training Tasks for Interactive Educational Systems Introduction Related Works Assessment Modeling Experiments Discussions Conclusion +) More Papers form Riiid EdNet Deep Attentive Study Session Dropout Prediction in Mobile Learning Environment Towards an Appropriate Query, Key, and Value Computation for Knowledge Tracing Discussion 1. 인공지능의 문제추천시스템이 정말 learner agency 감소에 영향을 미칠까요?    인공지능의 어떤 요소가 learner agency 감소에 영향을 미치는지 의견을 나눠보고 싶습니다. 2. Swiping, Tapping이 learner agency를 위해 충분한 방법일까요? 3. AI-based education을 설계, 개발하는 단계에서 예측할 수 있는 문제점들을     예방, 해결할 수 있는 방법(아이디어 혹은 기술적 구현 방법)에는 어떤 것들이 있을까요? <임은선, 이웅기, 정경훈, 권현지>  이웅기 : 기존에 있던 프로그램의 형태, UI 등의 사용성이 떨어지는 것이 원인이 될 수 있을 것 권현지 : 교육대상에 따라 다를 것 같다,  성인 대상 : 학습자 자체가 충분히 자발적, 능동적이기 때문에 학습자 주체성 감소에 주는 영향은 적을 것이다. 청소년 대상 : 문제 자동화 추천 > 교수자 주도형의 지시적인 교육으로 와닿을 수도 > 학습자 주체성 감소에 영향 줄 수도 정경훈  : 학원 경험 > 자기주도형 학습 유행 했음 > 실패함 > 학습하는 방법에 대해 더 잘 아는 사람은  선생님이 었음 > 따라서 학습자 중심으로 구성된 교육 내용이 더 효과적일지 선생님이 제공한 교육 내용이 더 효과적인지는 지켜봐야 할듯   본 연구 > accept 되지 않음 > 교육적인 타당화 과정이 아쉬워서 그런 것 일수도 이웅기 : 검증해봐야 알 수 있다. 경험적으로는 단순한 동작으로 느껴짐 (직관적인 선택일 뿐 심도있게 생각해서 선택하지 않을 수 있지 않을까) > 학습에 도움이 될 지 모르겠음. 임은선 : swiping, tapping이 학습자들이 문제에 대해 가지는 인식 정도를 확인할 수 있는 타당한 방법인가?  권현지 : 여기서 정의하고 있는 학습자 주체성의 요소가 무엇인지 먼저 파악 필요, 보편적인 학습자 주체성은 학습자간 상호작용 등의 환경 등이 구축되었을 때 활성화되기도 함 > 이것 부족  산타토익 서비스에 대한 생각 이웅기 :  정경훈 :  양자... 머신러닝...?도 궁금합니다... ㅎㅎ <손영훈, 박용주, 이재용> 질문 1 행위자성, 행위 주체성 : 주어진 상황에서 능동적, 비판적, 자율적으로 행동하는 능력 행위주체성을 문제 상황에 대해 비판적으로 반응하려는 행위자의 능력(Biesta & Tedder, 2006: 11) 혹은 사회구조를 결 정하는 요인과 [무관하게] ... 자율적으로 행동하는 능력(Biesta & Tedder, 2006: 5)으로 보는 것이 이에 해당한다. (소경희 & 최유리, 2018) 학습자 특성에 따라서 다를 것이다  ex) 장독립적/장의존적 학습자 단순히 인공지능 문제추천시스템을 쓴다고 해서 언제나 agency가 감소하는 것이 아니다 인공지능 추천 시스템 사용을 결정하는 것도 학습자의 행위주체성에 의한 것이다 추천 기능에 대한 상반된 의견 학습자의 선호/흥미/이해도에 기반하여 특정 방향의 추천만 제공하여, 다른 영역을 탐색할 수 있는 기회를 제한한다 학생이 더욱 탐구하고 싶은 생각이 있으면 링크를 따라서 후속 콘텐츠를 계속 소비하면서 관심 영역을 확장시킬 수 있다 생각해볼 질문 직접 검색한 콘텐츠가 아니라, 시스템이 추천한 콘텐츠를 소비하는 것은 행위자성이 발휘된 결과인가, 아니면 행위자성이 저해된 결과인가? 개인정보 수집/활용 이슈 질문 3 구글 등 사회적으로 영향력이 큰 서비스 활용 시에는 알고리즘에 의해서 콘텐츠가 추천된다는 것을 사용자에게 명시할 의무가 있다 검색자가 검색 전에 추천 여부를 알 수 있게 하자 검색 결과가 추천모델/알고리즘 등에 의해 결정됨을 사전에 고지 어떤 데이터에 의해서 추천이 이뤄지는지, 알고리즘의 추론과정은 어떠한지 명시 사용자가 자신도 모르게 알고리즘에 의해서 사고나 행동 패턴이 굳어지게 될 수 있기 때문 워싱턴 대학 연구 결과: 구글 CEO 검색결과 성비 vs 실제 성비 사람은 보고 싶은 것만 본다: 알고리즘에 의해서 정말 이렇게 될 수 있을 것이라는 생각이 든다 제도가 사회를 따라가지 못하고 있다 예) 페이스북 알고리즘 편향성 이슈 추천 쿼터제 : 특정 방향으로의 추천이 과도하게 이뤄지지 않도록 콘텐츠 양을 제한 기타 논의 콘텐츠 생산의 중앙화 - 탈중앙화 - 그 다음? / 콘텐츠 소비의 일원화 - 개인화  그 다음? 유튜브에서의 추천 목적 vs 학습용 인공지능의 추천 목적 질적으로 다르지 않을까? 추천이 되는 게 더 좋은 것 아닐까? 아는 문제만 계속 풀거나, 학급 학생들에게 동일한 문제를 제공  개인의 특성에 맞는 콘텐츠 제공 추천 목적 (추천 알고리즘을 설계하는 것은 사람이다) AIEd: 궁극적인 목적이 학습의 최적화에 있다 (산타토익: 점수 극대화) 유튜브에서의 추천과 다를 것이다 (유튜브: 사용시간 극대화) <전영훈, 신부경, 이윤서> dx 변수의 의미에 대한 논의 인공지능의 문제추천시스템이 정말 learner agency 감소에 영향을 미칠까요? 인공지능의 어떤 요소가 learner agency 감소에 영향을 미치는지 의견을 나눠보고 싶습니다. 자신이 사용하는 알고리즘이 아니더라도 딥러닝이나 인공지능의 원리를 알고 있으면 learner agency에 별로 영향을 미치지 않으나, 일반 대중의 경우에는 알고리즘에 대한 설명이 하나도 없는 경우에는 learner agency가 감소 가능. learner agency가 반드시 인공지능 때문에 감소되는 것이 아니라 인공지능과 결합되고 사용되면서 새로운 형태의 agency가 되는 것 아닐까? 알고리즘에 따라 상호작용하는 방식이 달라지기 때문에.  일반인의 경우에는 쉽게 강요받는다는 생각이 들 것. UX의 측면에서 강요 않는 분위기로~  learner agency는 '선택의 가능성'으로부터 발생  인공지능이 제공해주는 문제의 스타일(스토리텔링 방식, 객관식, 주관식 등등), 캐릭터 디자인 등 선택지 제공에 변화를 주었을 때 learner agency or 자기주도성 확보 가능 Swiping, Tapping이 learner agency를 위해 충분한 방법일까요? swipe한 문제를 되돌리지 못하는 문제, 내가 왜 이 문제를 swipe했을까?  한번 swipe한 것을 다시 풀지 말고 비슷한 유형의 문제들을 다시 등장시키면 좋을 것 같다. swipe한 문제들을 따로 저장소에 넣어서 되돌릴 수 있는 기능을 만들면 어떨까?  버튼을 누르면 되돌릴 수 있도록 만들자.  AI-based education을 설계, 개발하는 단계에서 예측할 수 있는 문제점들을 예방, 해결할 수 있는 방법(아이디어 혹은 기술적 구현 방법)에는 어떤 것들이 있을까요? 개인정보(학습자 정보, 민감한 개인정보)  Riiid에서 실제 토익 점수 데이터를 확보 못했다고 하는데, 실제 점수를 입력하면 돈을 준다(환급)고 하면 되지 않을까? 학습자들의 심리적 허들: 인공지능의 냉정한 feedback에 인간의 마음은 상처투성이... 결과 활용에 있어서 학습자에게는 부담으로 다가올 수 있음. 학습자들의 내재적 동기가 있어야 AIedu가 가능.  학습자들이 어플을 깔기까지의 결심, 유지하려는 노력.  무한노가다의 힘.(계속되는 푸쉬 알림), gamification. 외적 동기가 중요하다. 예를 들어, 돈...  포레스트 앱처럼 봉사심 자극\",\n",
       " '박새록(사범대학 교육공학과) \\xad': '발제 자료 Collaborative Learning Analytics_정리.docx 166.6KB Collaborative Learning Analytics_정리 (1).pdf 495.1KB 추가 참고 자료 1) Computer-Supported Collaborative Learning_CSCL 개념.docx 44.4KB 2) Teaching and Learning in Technology-rich Environments_CSCL 개념.docx 379.3KB 3) A Model of Collaborative Knowledge-Building_협력적 지식 구축.docx 157.7KB 4) Collaborative Learning_협력의 요소.docx 42.0KB 토의사항 <이홍규, 이윤서, 이웅기> construct: 학습의 구성, 학습요소  구성주의에서 말하는 학습 CSCL에서 구성주의 관점이 있다~~  핸드북에 나옴 (챕터) 학습자 관점 1) 좋은 협력이란 무엇일까요? - 정의적인 면(초점)  개별 책무성, 갈등관리능력, 팀워크 등 - 인지적인 면도 함께  혼자 할 수 없는 산출물을 만들기 위해. 그룹이 해결해야 하는 문제를 인지하고 해결방법을 설계하는 기회. - 내가 할 수 없는 역할, 아이디어를 다른 친구들이 수행하면서 상호 보완해 나가는 협력, 자발성 유도 - 수행분석: 발표를 열심히하고, 기록을 열심히, 자료를 찾아오기 -세부 요소들을 측정하여 협력을 많이 하는 학생을 추려보자  활동량이 많은 학생 (발화 횟수, 로그 기록), 개별 책무성을 얼마나 많이 꾸준히 수행하는지(어떤 로그와 어떤 행동, 어떤 분석방법을 봐야 하는지, 어떤 지표에 가중치를 얼마나 두어야 하는지) - 개인 책무성 : 음성 데이터 기록에서 \"조원들에게 민폐 끼치면 안될 것같아. 우리 열심히 해보자\" 와 관련된 데이터면 좋을 것 같은데, 고려해야 할 변수가 너무 많네요... 2) 좋은 협력 연구자 관점 1) CSCL 데이터 지표? 변수가 애매함. 변수를 정의하는 과정 자체가 어려움.  어떠한 지표가 무엇을 나타내는지 정의하기가 어려움. ex) 개별 책무성이 어떤 행동으로 드러나는가?  연구자 중심  텍스트 마이닝, 자연어 처리 등을 활용하는 것이 이해가 쉽다고 생각됨. 학습과정에서 LA 가 들어가는 건 연구자를 위한 연구이지만, 평가에서 LA 가 반영된다면, 교육현장 뿐만 아니라 산업현장에서도 활용도가 어마어마하다.  AI면접에서 집단토의하는 과정에서 누가 주도하는지, 누가 책무성이 있는지 분석하는 것이 굉장히 유용하게 활용될것같아요 하지만 자연어처리 기술의 성능,정확성을 높이는 것이 관건일것같은데. <박새록, 박용현, 이재용> 연구자 관점 Collaborative Knowledge Building을 확인할 수 있는 데이터 지표? (협력적 지식 구성이 일어나는지 어떻게 알 수 있을까?) 학습과정에 대한 지표: 작성한 텍스트의 양, 오고 간 대화의 횟수, 구성원들의 대화 참여도 학습결과에 대한 지표: 사전-사후검사 점수 차이 학습과정과 학습결과 사이의 관계: 학습활동 데이터와 사전사후검사 결과의 관계를 확인 (추가적인 의문) 개별적 지식구성 vs 협력적 지식구성 면대면 협력학습에서 얻을 수 있는 데이터? 학생의 발화나 필기(note-taking) 학습자 관점 좋은 협력은 무엇인가? 개별 구성원이 개별학습에서보다 효과적으로 학습하는 과정 vs 집단 수준에서 높은 수준의 결과물을 도출하는 과정 개별 구성원이 상호보완적인 역할을 수행하여 개인 수행보다 높은 수준의 수행을 이루는 과정 각 구성원들이 책임감을 가지고 각자의 역할을 수행하는 과정 어떤 가치를 더 중시할 것인가? (새록선생님 충격적이었던 팀플) 최고의 결과를 도출하지 못하더라도 목표 달성 과정을 충실하게 수행 목표를 달성하는 최고의 결과물을 도출 모든 구성원이 동일한 목적을 공유하고 이를 이루기 위해 노력하는 과정(개인의 목적과 집단의 목적이 조화를 이루는 과정) <김보영, 이은서> 학습자관점  1) 좋은 협력: 협력 과정과 결과의 조화, 협력이 어떤 상황에서 벌어지는지, 협력학습으로 인한 학습목표가 무엇인지에 따라 달아짐. 각자의 역할을 하면서 공평한 참여하는것이 결과가 좋지 않더라도 그게 더 나은 협력학습 좋은 협력은 의사소통역량이 향상되는 협력학습 리더의 독재 방식 / 1명의 에이스와 다수의 무임승차 < 민주적인 방식 / 참여율이 높은 팀 협력이라고 생각하지만 현실적으로 교수자 관점에서는 산출물이 우수한 팀의 결과물을 무시할 수는 없음. 결과중심평가냐 과정중심평가냐에 따라 달라짐. 하지만 과정중심평가를 지향하여 결과물과 과정요소를 모두 고려하여 학습자가 팀 학습을 하는 과정에서 개인의 역량을 개발할 수 있도록 지향해야함. 2) 좋은협력 가장 중요한 요소: 결과중심4 ; 과정중심6 비율 교수자관점 1) 학습자의 성향, 프로젝트 주제, 관심도에 따라 달라질 수 있다. (사바사?) 세세한 설명을 선호하는 학습자   - 학습자 성향: 미시적 관점, T J 큰 틀을 선호하는 학습자   - 학습자 성향: 거시적 관점. 독립적 학습자, 개성과 창의성이 강한 학습자, N F 2) 개별화지도와 또래학습(peer-tutoring) 학습자 수준이 상이할 시 개별화지도 내향적 학습자는 협력학습을 선호하지 않는 경향이 있음. 제일 소극적인 학습자: 수준별 과제를 분류하여 난이도가 제일 낮은 과제를 할 수 있도록, 팀장에게 또래교수를 권유,권장,독려',\n",
       " '이\\n이홍규': 'Predicting learner\\'s performance through video sequences viewing behavior analysis using educational data-mining.pdf 977.3KB 요약 : \"EDM을 활용한 비디오 시퀀스 행동 분석을 통해 학습자 수행 예측\" 1.Introduction 2.Related works 3.Methodology 4.Results and discussions 5.Conclusions and future works Fig & Table  1. Pedagogical Sequence를 분석하는 것이 교육적으로 정말 유의미할까?                                       2. 학습자의 학업성취(performance)를 미리 예측하는 것이 학생에게 정말 도움을 줄까? 얼마나 도움을 줄까? 어떻게 도움을 줄까? 3. Pedagogical Sequence를 분석하는 것 외에 어떤 데이터를 수집하고 분석하는 것이 교육적으로 활용도가 높을까?       (전체 토론) sequence 길이가 각각 다른데 어떻게 데이터로 만들었을까? 최대, 최소 마지노선을 정해서 데이터를 일정하게 만들어 넣은 듯.  방법론이 이론적으로 탄탄하지 못한 논문: BROMP(시퀀스를 어떤 기준으로 나누었는지 기술하는 방법)을 써야 함. 1. Pedagogical Sequence를 분석하는 것이 교육적으로 정말 유의미할까? 지훈쌤: sequential data일 뿐, pedagogical data라고 생각하지 않는다. pedagogical한 게 무엇인지 이야기를 해주었으면 교육적인 의미가 있을 것 같지만 이 논문에서 data는 serial data인 것 같음. data-driven으로 단계를 밝혀내는 연구도 재밌을 것 같네요~  에누마 같은 타입의 행위pedagogical sequence 나누는게 가능할지? https://biz.chosun.com/site/data/html_dir/2017/09/01/2017090102160.html 홍규쌤) 가네도 잘게 쪼개긴 하는데, 행동 단위로 쪼개지는 않는다 용현쌤: click이 도입-설명-논의-정리 중 어디인지를 알려주기 때문에, 학생의 이해도를 알려주려는 측면에서 의미가 있다고는 생각. 윤서쌤 : 연구의 의도는 알 것 같다. 온라인 강의에서 시퀀스를 구분하는 것이 분명 의미있는 일이다. 하지만 이 연구에서는 시퀀스 클릭이 연속된 타임라인이라는 의미가 강하게 느껴진다 재용쌤 : 학습분석 논문에 대한 의견을 들어보면 많은 경우에 교육학적 함의가 부족하다는 지적이 많은 것 같아요. 물론 기존 교육학 연구만큼 이해 가능한 인사이트을 제공하지는 못하는 것 같아요. 그런데 이러한 학습분석 기술이 온라인에서 대규모로 활용될 수 있다고 한다면, 완벽하지는 않더라도 의미가 있다고 생각해요. 많은 경우 교육학 연구 결과는 스케일업이 어려우니까요. 학습자와 도구 사이의 상호작용을 활동이론 등의 사회문화적 프레임워크에서 분석하려는 시도가 지속되고 있어요. 학습과학 분야에서 많이 하는데, 한국은 독자적인 학습과학 커뮤니티가 없어서 교육공학 하는 사람들이 해요. 2. 학습자의 학업성취(performance)를 미리 예측하는 것이 학생에게 정말 도움을 줄까? 얼마나 도움을 줄까? 어떻게 도움을 줄까? 용현쌤: 학습자의 경우에는 자신의 행위가 학업성취에 도움이 될지 안 될지를 잘 모르기 때문에 도움이 약간은 된다고 생각. 웅기쌤: 위기학생의 경우에는 alert를 준다든지 등 예방과 처방적 목적으로 제공 가능. 재용쌤: 학습자의 행동으로 학업성취를 예측할 수 있다면 학업성취 기댓값이 가장 높아지는 행동이나 콘텐츠를 확인해 추천할 수 있을 것 같아요. 맞춤형 수업이랄까요. 너의 예상 성취도가 얼마다 하고 직접 알려주는 것이 아니라, 성취도 기댓값을 최대화하는 방식으로 학습경험을 제공한다면 좀더 완곡한 도움 제공이 가능할 것 같아요. 윤서썜 : 학생의 학업성취를 예측할 수 있다면 학업성취 및 목표성취를 위한 여러 가지 과제 제시, 콘텐츠 추천이 가능하겠지만, 시스템의 신뢰도가 부족하거나 자발적인 공부가 부족한 학생은 tinderlike UI, gamaficaton 등을 통해 추가적인 상호작용이나 자기주도적 콘텐츠 제공이 필요함. 웅기쌤: 학업성취를 예측해서 그 결과를 학생에게 보여줬을 때의 심리 상태도 고려해야 함. (공부를 잘하는 학생은 교만해지고 공부를 못하는 학생은 절망하는 등의 심리 상태) 지훈쌤 : 예측하고자 하는 것이 교육적 함의가 있어야 한다. 해석가능한 부분이 있어야 한다. 교장들을 대상으로 진단하는 profile 만들었던 경험. 자기가 좋은 교장이라고 생각하는 경우가 대다수다. 연구자들이 다양한 진단영역을 만들어서 해석가능하게 만들어준다면, 그걸 보는 과정에서 성찰하고 노력할 수 있을 것이다. 이런 것들이 학업성취 예측에서 중요할 것이라 생각한다. 윤서쌤 : 학업성취 예측 결과를 볼 때 기준/항목에 따라 제공해주어야 한다. 학생들에게 평가결과를 알려줄 때 항목을 하나하나 알려주었다. 너는 ~~래서 미달이 되었고 ~~래서 부족하다.  용현쌤 : Explainable AI. 3번째 순서의 도입부분을 클릭했기 때문에 너의 학업 성취를 예측을 했어. 그럼 도입을 클릭하지 말아야 하나? 모델의 보이지 않는 input이 분명히 있다(학생의 집중력, 이해력). Latent Variable (숨겨진 변수)를 정의해서 해석성 있는 방식으로 전달하는 것이  중요하다. 예측모델이 나아가야 할 방향이다. Latent Variable - 낙타 등 같은 분포 Mixture of Gaussian. 재용쌤 : latent variable을 찾는다는 것은 겉으로 보이는 학습자의 특징이 우리가 알지 못하는 어떤 무언가에 의해 결정된다고 가정하고, 그 요인들이 어떤 것들인지 찾는 거예요 3. Pedagogical Sequence를 분석하는 것 외에 어떤 데이터를 수집하고 분석하는 것이 교육적으로 활용도가 높을까?  재용쌤: 학생들 집단별로 일부러 실제 성취도보다 낮게 또는 높게 알려준 뒤에 정서심리의 변화나 학습지속 정도를 비교 용현쌤: 학습유형, 학습피라미드 웅기쌤: 인식론적 신념에 관한 연구. (어떤 지식관을 가지고 있는지)'}"
      ]
     },
     "execution_count": 11,
     "metadata": {},
     "output_type": "execute_result"
    }
   ],
   "source": [
    "perPerson = {}\n",
    "\n",
    "for page in ClEANED:\n",
    "    if page['people'] not in perPerson.keys():\n",
    "        print('Added : ', page['people'])\n",
    "        perPerson[page['people']] = page['content']\n",
    "    elif page['people'] == '박\\n박용현 / 학생 / 물리교육과 \\xad\\n전영훈':\n",
    "        perPerson['박\\n박용현 / 학생 / 물리교육과 \\xad'] += page['content']\n",
    "        perPerson['\\n전영훈'] += page['content']\n",
    "    \n",
    "    else: perPerson[page['people']] += page['content']\n",
    "\n",
    "del perPerson['박\\n박용현 / 학생 / 물리교육과 \\xad\\n전영훈']\n",
    "\n",
    "assert len(perPerson.keys()) == len(Pres_count.keys()), print(len(perPerson.keys()), 'vs', len(Pres_count.keys()))\n",
    "perPerson"
   ]
  },
  {
   "cell_type": "code",
   "execution_count": 12,
   "metadata": {},
   "outputs": [
    {
     "data": {
      "text/plain": [
       "{'UNGGI LEE': {'한국어 평균 글자수': 2806.7, '영어 평균 글자수': 1860.3},\n",
       " 'Brida Choi': {'한국어 평균 글자수': 1622.0, '영어 평균 글자수': 538.0},\n",
       " '\\xad송유경': {'한국어 평균 글자수': 1753.5, '영어 평균 글자수': 1103.5},\n",
       " 'Juno Hwang': {'한국어 평균 글자수': 3439.7, '영어 평균 글자수': 2381.7},\n",
       " 'H\\nHaewon Jung': {'한국어 평균 글자수': 2753.0, '영어 평균 글자수': 2309.0},\n",
       " '성지훈 \\xad': {'한국어 평균 글자수': 3341.5, '영어 평균 글자수': 1407.0},\n",
       " '이재용 \\xad': {'한국어 평균 글자수': 4004.7, '영어 평균 글자수': 911.0},\n",
       " 'Juhong Eom': {'한국어 평균 글자수': 1677.0, '영어 평균 글자수': 187.0},\n",
       " 'H\\nHae Rin Lee': {'한국어 평균 글자수': 2678.0, '영어 평균 글자수': 942.0},\n",
       " '원지영(교육대학원 교육학과)': {'한국어 평균 글자수': 2798.0, '영어 평균 글자수': 685.0},\n",
       " 'hyunjee Kwon': {'한국어 평균 글자수': 1209.5, '영어 평균 글자수': 206.0},\n",
       " '전영훈': {'한국어 평균 글자수': 909.3, '영어 평균 글자수': 1727.3},\n",
       " 'Y\\nYoonhee Ham': {'한국어 평균 글자수': 2443.5, '영어 평균 글자수': 391.5},\n",
       " '박\\n박용현 / 학생 / 물리교육과 \\xad': {'한국어 평균 글자수': 1573.5, '영어 평균 글자수': 848.0},\n",
       " '백\\n백수진': {'한국어 평균 글자수': 2492.0, '영어 평균 글자수': 555.0},\n",
       " '임은선 \\xad': {'한국어 평균 글자수': 2200.0, '영어 평균 글자수': 924.0},\n",
       " '박새록(사범대학 교육공학과) \\xad': {'한국어 평균 글자수': 1551.0, '영어 평균 글자수': 332.0},\n",
       " '이\\n이홍규': {'한국어 평균 글자수': 1675.0, '영어 평균 글자수': 543.0}}"
      ]
     },
     "execution_count": 12,
     "metadata": {},
     "output_type": "execute_result"
    }
   ],
   "source": [
    "ko_eng_count = {}\n",
    "\n",
    "for people, content in perPerson.items():\n",
    "    ko_count = len(re.findall('[ㄱ-ㅎ가-힣]', content))\n",
    "    eng_count = len(re.findall('[a-zA-Z]', content))\n",
    "\n",
    "    avg_ko_count = round(ko_count / Pres_count[people], 1)\n",
    "    avg_eng_count = round(eng_count / Pres_count[people], 1)\n",
    "    ko_eng_count[people] = {'한국어 평균 글자수': avg_ko_count, '영어 평균 글자수': avg_eng_count}\n",
    "\n",
    "ko_eng_count"
   ]
  },
  {
   "cell_type": "code",
   "execution_count": 13,
   "metadata": {},
   "outputs": [
    {
     "data": {
      "application/vnd.plotly.v1+json": {
       "config": {
        "plotlyServerURL": "https://plot.ly"
       },
       "data": [
        {
         "name": "한국어 평균 글자수",
         "type": "bar",
         "x": [
          "UNGGI LEE",
          "Brida Choi",
          "­송유경",
          "Juno Hwang",
          "H\nHaewon Jung",
          "성지훈 ­",
          "이재용 ­",
          "Juhong Eom",
          "H\nHae Rin Lee",
          "원지영(교육대학원 교육학과)",
          "hyunjee Kwon",
          "전영훈",
          "Y\nYoonhee Ham",
          "박\n박용현 / 학생 / 물리교육과 ­",
          "백\n백수진",
          "임은선 ­",
          "박새록(사범대학 교육공학과) ­",
          "이\n이홍규"
         ],
         "y": [
          2806.7,
          1622,
          1753.5,
          3439.7,
          2753,
          3341.5,
          4004.7,
          1677,
          2678,
          2798,
          1209.5,
          909.3,
          2443.5,
          1573.5,
          2492,
          2200,
          1551,
          1675
         ]
        },
        {
         "name": "영어 평균 글자수",
         "type": "bar",
         "x": [
          "UNGGI LEE",
          "Brida Choi",
          "­송유경",
          "Juno Hwang",
          "H\nHaewon Jung",
          "성지훈 ­",
          "이재용 ­",
          "Juhong Eom",
          "H\nHae Rin Lee",
          "원지영(교육대학원 교육학과)",
          "hyunjee Kwon",
          "전영훈",
          "Y\nYoonhee Ham",
          "박\n박용현 / 학생 / 물리교육과 ­",
          "백\n백수진",
          "임은선 ­",
          "박새록(사범대학 교육공학과) ­",
          "이\n이홍규"
         ],
         "y": [
          1860.3,
          538,
          1103.5,
          2381.7,
          2309,
          1407,
          911,
          187,
          942,
          685,
          206,
          1727.3,
          391.5,
          848,
          555,
          924,
          332,
          543
         ]
        }
       ],
       "layout": {
        "barmode": "group",
        "template": {
         "data": {
          "bar": [
           {
            "error_x": {
             "color": "#2a3f5f"
            },
            "error_y": {
             "color": "#2a3f5f"
            },
            "marker": {
             "line": {
              "color": "#E5ECF6",
              "width": 0.5
             },
             "pattern": {
              "fillmode": "overlay",
              "size": 10,
              "solidity": 0.2
             }
            },
            "type": "bar"
           }
          ],
          "barpolar": [
           {
            "marker": {
             "line": {
              "color": "#E5ECF6",
              "width": 0.5
             },
             "pattern": {
              "fillmode": "overlay",
              "size": 10,
              "solidity": 0.2
             }
            },
            "type": "barpolar"
           }
          ],
          "carpet": [
           {
            "aaxis": {
             "endlinecolor": "#2a3f5f",
             "gridcolor": "white",
             "linecolor": "white",
             "minorgridcolor": "white",
             "startlinecolor": "#2a3f5f"
            },
            "baxis": {
             "endlinecolor": "#2a3f5f",
             "gridcolor": "white",
             "linecolor": "white",
             "minorgridcolor": "white",
             "startlinecolor": "#2a3f5f"
            },
            "type": "carpet"
           }
          ],
          "choropleth": [
           {
            "colorbar": {
             "outlinewidth": 0,
             "ticks": ""
            },
            "type": "choropleth"
           }
          ],
          "contour": [
           {
            "colorbar": {
             "outlinewidth": 0,
             "ticks": ""
            },
            "colorscale": [
             [
              0,
              "#0d0887"
             ],
             [
              0.1111111111111111,
              "#46039f"
             ],
             [
              0.2222222222222222,
              "#7201a8"
             ],
             [
              0.3333333333333333,
              "#9c179e"
             ],
             [
              0.4444444444444444,
              "#bd3786"
             ],
             [
              0.5555555555555556,
              "#d8576b"
             ],
             [
              0.6666666666666666,
              "#ed7953"
             ],
             [
              0.7777777777777778,
              "#fb9f3a"
             ],
             [
              0.8888888888888888,
              "#fdca26"
             ],
             [
              1,
              "#f0f921"
             ]
            ],
            "type": "contour"
           }
          ],
          "contourcarpet": [
           {
            "colorbar": {
             "outlinewidth": 0,
             "ticks": ""
            },
            "type": "contourcarpet"
           }
          ],
          "heatmap": [
           {
            "colorbar": {
             "outlinewidth": 0,
             "ticks": ""
            },
            "colorscale": [
             [
              0,
              "#0d0887"
             ],
             [
              0.1111111111111111,
              "#46039f"
             ],
             [
              0.2222222222222222,
              "#7201a8"
             ],
             [
              0.3333333333333333,
              "#9c179e"
             ],
             [
              0.4444444444444444,
              "#bd3786"
             ],
             [
              0.5555555555555556,
              "#d8576b"
             ],
             [
              0.6666666666666666,
              "#ed7953"
             ],
             [
              0.7777777777777778,
              "#fb9f3a"
             ],
             [
              0.8888888888888888,
              "#fdca26"
             ],
             [
              1,
              "#f0f921"
             ]
            ],
            "type": "heatmap"
           }
          ],
          "heatmapgl": [
           {
            "colorbar": {
             "outlinewidth": 0,
             "ticks": ""
            },
            "colorscale": [
             [
              0,
              "#0d0887"
             ],
             [
              0.1111111111111111,
              "#46039f"
             ],
             [
              0.2222222222222222,
              "#7201a8"
             ],
             [
              0.3333333333333333,
              "#9c179e"
             ],
             [
              0.4444444444444444,
              "#bd3786"
             ],
             [
              0.5555555555555556,
              "#d8576b"
             ],
             [
              0.6666666666666666,
              "#ed7953"
             ],
             [
              0.7777777777777778,
              "#fb9f3a"
             ],
             [
              0.8888888888888888,
              "#fdca26"
             ],
             [
              1,
              "#f0f921"
             ]
            ],
            "type": "heatmapgl"
           }
          ],
          "histogram": [
           {
            "marker": {
             "pattern": {
              "fillmode": "overlay",
              "size": 10,
              "solidity": 0.2
             }
            },
            "type": "histogram"
           }
          ],
          "histogram2d": [
           {
            "colorbar": {
             "outlinewidth": 0,
             "ticks": ""
            },
            "colorscale": [
             [
              0,
              "#0d0887"
             ],
             [
              0.1111111111111111,
              "#46039f"
             ],
             [
              0.2222222222222222,
              "#7201a8"
             ],
             [
              0.3333333333333333,
              "#9c179e"
             ],
             [
              0.4444444444444444,
              "#bd3786"
             ],
             [
              0.5555555555555556,
              "#d8576b"
             ],
             [
              0.6666666666666666,
              "#ed7953"
             ],
             [
              0.7777777777777778,
              "#fb9f3a"
             ],
             [
              0.8888888888888888,
              "#fdca26"
             ],
             [
              1,
              "#f0f921"
             ]
            ],
            "type": "histogram2d"
           }
          ],
          "histogram2dcontour": [
           {
            "colorbar": {
             "outlinewidth": 0,
             "ticks": ""
            },
            "colorscale": [
             [
              0,
              "#0d0887"
             ],
             [
              0.1111111111111111,
              "#46039f"
             ],
             [
              0.2222222222222222,
              "#7201a8"
             ],
             [
              0.3333333333333333,
              "#9c179e"
             ],
             [
              0.4444444444444444,
              "#bd3786"
             ],
             [
              0.5555555555555556,
              "#d8576b"
             ],
             [
              0.6666666666666666,
              "#ed7953"
             ],
             [
              0.7777777777777778,
              "#fb9f3a"
             ],
             [
              0.8888888888888888,
              "#fdca26"
             ],
             [
              1,
              "#f0f921"
             ]
            ],
            "type": "histogram2dcontour"
           }
          ],
          "mesh3d": [
           {
            "colorbar": {
             "outlinewidth": 0,
             "ticks": ""
            },
            "type": "mesh3d"
           }
          ],
          "parcoords": [
           {
            "line": {
             "colorbar": {
              "outlinewidth": 0,
              "ticks": ""
             }
            },
            "type": "parcoords"
           }
          ],
          "pie": [
           {
            "automargin": true,
            "type": "pie"
           }
          ],
          "scatter": [
           {
            "marker": {
             "colorbar": {
              "outlinewidth": 0,
              "ticks": ""
             }
            },
            "type": "scatter"
           }
          ],
          "scatter3d": [
           {
            "line": {
             "colorbar": {
              "outlinewidth": 0,
              "ticks": ""
             }
            },
            "marker": {
             "colorbar": {
              "outlinewidth": 0,
              "ticks": ""
             }
            },
            "type": "scatter3d"
           }
          ],
          "scattercarpet": [
           {
            "marker": {
             "colorbar": {
              "outlinewidth": 0,
              "ticks": ""
             }
            },
            "type": "scattercarpet"
           }
          ],
          "scattergeo": [
           {
            "marker": {
             "colorbar": {
              "outlinewidth": 0,
              "ticks": ""
             }
            },
            "type": "scattergeo"
           }
          ],
          "scattergl": [
           {
            "marker": {
             "colorbar": {
              "outlinewidth": 0,
              "ticks": ""
             }
            },
            "type": "scattergl"
           }
          ],
          "scattermapbox": [
           {
            "marker": {
             "colorbar": {
              "outlinewidth": 0,
              "ticks": ""
             }
            },
            "type": "scattermapbox"
           }
          ],
          "scatterpolar": [
           {
            "marker": {
             "colorbar": {
              "outlinewidth": 0,
              "ticks": ""
             }
            },
            "type": "scatterpolar"
           }
          ],
          "scatterpolargl": [
           {
            "marker": {
             "colorbar": {
              "outlinewidth": 0,
              "ticks": ""
             }
            },
            "type": "scatterpolargl"
           }
          ],
          "scatterternary": [
           {
            "marker": {
             "colorbar": {
              "outlinewidth": 0,
              "ticks": ""
             }
            },
            "type": "scatterternary"
           }
          ],
          "surface": [
           {
            "colorbar": {
             "outlinewidth": 0,
             "ticks": ""
            },
            "colorscale": [
             [
              0,
              "#0d0887"
             ],
             [
              0.1111111111111111,
              "#46039f"
             ],
             [
              0.2222222222222222,
              "#7201a8"
             ],
             [
              0.3333333333333333,
              "#9c179e"
             ],
             [
              0.4444444444444444,
              "#bd3786"
             ],
             [
              0.5555555555555556,
              "#d8576b"
             ],
             [
              0.6666666666666666,
              "#ed7953"
             ],
             [
              0.7777777777777778,
              "#fb9f3a"
             ],
             [
              0.8888888888888888,
              "#fdca26"
             ],
             [
              1,
              "#f0f921"
             ]
            ],
            "type": "surface"
           }
          ],
          "table": [
           {
            "cells": {
             "fill": {
              "color": "#EBF0F8"
             },
             "line": {
              "color": "white"
             }
            },
            "header": {
             "fill": {
              "color": "#C8D4E3"
             },
             "line": {
              "color": "white"
             }
            },
            "type": "table"
           }
          ]
         },
         "layout": {
          "annotationdefaults": {
           "arrowcolor": "#2a3f5f",
           "arrowhead": 0,
           "arrowwidth": 1
          },
          "autotypenumbers": "strict",
          "coloraxis": {
           "colorbar": {
            "outlinewidth": 0,
            "ticks": ""
           }
          },
          "colorscale": {
           "diverging": [
            [
             0,
             "#8e0152"
            ],
            [
             0.1,
             "#c51b7d"
            ],
            [
             0.2,
             "#de77ae"
            ],
            [
             0.3,
             "#f1b6da"
            ],
            [
             0.4,
             "#fde0ef"
            ],
            [
             0.5,
             "#f7f7f7"
            ],
            [
             0.6,
             "#e6f5d0"
            ],
            [
             0.7,
             "#b8e186"
            ],
            [
             0.8,
             "#7fbc41"
            ],
            [
             0.9,
             "#4d9221"
            ],
            [
             1,
             "#276419"
            ]
           ],
           "sequential": [
            [
             0,
             "#0d0887"
            ],
            [
             0.1111111111111111,
             "#46039f"
            ],
            [
             0.2222222222222222,
             "#7201a8"
            ],
            [
             0.3333333333333333,
             "#9c179e"
            ],
            [
             0.4444444444444444,
             "#bd3786"
            ],
            [
             0.5555555555555556,
             "#d8576b"
            ],
            [
             0.6666666666666666,
             "#ed7953"
            ],
            [
             0.7777777777777778,
             "#fb9f3a"
            ],
            [
             0.8888888888888888,
             "#fdca26"
            ],
            [
             1,
             "#f0f921"
            ]
           ],
           "sequentialminus": [
            [
             0,
             "#0d0887"
            ],
            [
             0.1111111111111111,
             "#46039f"
            ],
            [
             0.2222222222222222,
             "#7201a8"
            ],
            [
             0.3333333333333333,
             "#9c179e"
            ],
            [
             0.4444444444444444,
             "#bd3786"
            ],
            [
             0.5555555555555556,
             "#d8576b"
            ],
            [
             0.6666666666666666,
             "#ed7953"
            ],
            [
             0.7777777777777778,
             "#fb9f3a"
            ],
            [
             0.8888888888888888,
             "#fdca26"
            ],
            [
             1,
             "#f0f921"
            ]
           ]
          },
          "colorway": [
           "#636efa",
           "#EF553B",
           "#00cc96",
           "#ab63fa",
           "#FFA15A",
           "#19d3f3",
           "#FF6692",
           "#B6E880",
           "#FF97FF",
           "#FECB52"
          ],
          "font": {
           "color": "#2a3f5f"
          },
          "geo": {
           "bgcolor": "white",
           "lakecolor": "white",
           "landcolor": "#E5ECF6",
           "showlakes": true,
           "showland": true,
           "subunitcolor": "white"
          },
          "hoverlabel": {
           "align": "left"
          },
          "hovermode": "closest",
          "mapbox": {
           "style": "light"
          },
          "paper_bgcolor": "white",
          "plot_bgcolor": "#E5ECF6",
          "polar": {
           "angularaxis": {
            "gridcolor": "white",
            "linecolor": "white",
            "ticks": ""
           },
           "bgcolor": "#E5ECF6",
           "radialaxis": {
            "gridcolor": "white",
            "linecolor": "white",
            "ticks": ""
           }
          },
          "scene": {
           "xaxis": {
            "backgroundcolor": "#E5ECF6",
            "gridcolor": "white",
            "gridwidth": 2,
            "linecolor": "white",
            "showbackground": true,
            "ticks": "",
            "zerolinecolor": "white"
           },
           "yaxis": {
            "backgroundcolor": "#E5ECF6",
            "gridcolor": "white",
            "gridwidth": 2,
            "linecolor": "white",
            "showbackground": true,
            "ticks": "",
            "zerolinecolor": "white"
           },
           "zaxis": {
            "backgroundcolor": "#E5ECF6",
            "gridcolor": "white",
            "gridwidth": 2,
            "linecolor": "white",
            "showbackground": true,
            "ticks": "",
            "zerolinecolor": "white"
           }
          },
          "shapedefaults": {
           "line": {
            "color": "#2a3f5f"
           }
          },
          "ternary": {
           "aaxis": {
            "gridcolor": "white",
            "linecolor": "white",
            "ticks": ""
           },
           "baxis": {
            "gridcolor": "white",
            "linecolor": "white",
            "ticks": ""
           },
           "bgcolor": "#E5ECF6",
           "caxis": {
            "gridcolor": "white",
            "linecolor": "white",
            "ticks": ""
           }
          },
          "title": {
           "x": 0.05
          },
          "xaxis": {
           "automargin": true,
           "gridcolor": "white",
           "linecolor": "white",
           "ticks": "",
           "title": {
            "standoff": 15
           },
           "zerolinecolor": "white",
           "zerolinewidth": 2
          },
          "yaxis": {
           "automargin": true,
           "gridcolor": "white",
           "linecolor": "white",
           "ticks": "",
           "title": {
            "standoff": 15
           },
           "zerolinecolor": "white",
           "zerolinewidth": 2
          }
         }
        },
        "title": {
         "text": "한국어/영어 평균 사용량"
        }
       }
      }
     },
     "metadata": {},
     "output_type": "display_data"
    }
   ],
   "source": [
    "import plotly.graph_objects as go\n",
    "\n",
    "kor_ls = [ko_eng['한국어 평균 글자수'] for ko_eng in ko_eng_count.values()]\n",
    "eng_ls = [ko_eng['영어 평균 글자수'] for ko_eng in ko_eng_count.values()]\n",
    "\n",
    "fig = go.Figure(data=[\n",
    "    go.Bar(name='한국어 평균 글자수', x=list(ko_eng_count.keys()), y=kor_ls),\n",
    "    go.Bar(name='영어 평균 글자수', x=list(ko_eng_count.keys()), y=eng_ls)\n",
    "])\n",
    "\n",
    "# Change the bar mode\n",
    "fig.update_layout(title = '한국어/영어 평균 사용량', barmode='group')\n",
    "fig.show()"
   ]
  },
  {
   "cell_type": "code",
   "execution_count": null,
   "metadata": {},
   "outputs": [],
   "source": []
  },
  {
   "cell_type": "code",
   "execution_count": null,
   "metadata": {},
   "outputs": [],
   "source": []
  },
  {
   "cell_type": "code",
   "execution_count": 14,
   "metadata": {},
   "outputs": [],
   "source": [
    "save_dir = os.path.join(BASE_DIR, 'RESULT', '220305_2021 STELA 발제자별.pkl')\n",
    "with open(save_dir, 'wb') as outp:\n",
    "    pickle.dump(perPerson, outp)"
   ]
  }
 ],
 "metadata": {
  "interpreter": {
   "hash": "dcf59f38aa7397affc33423150250d52480d32d8d94dca57425f56ad7261f774"
  },
  "kernelspec": {
   "display_name": "Python 3.8.10 64-bit ('venv2021': conda)",
   "language": "python",
   "name": "python3"
  },
  "language_info": {
   "codemirror_mode": {
    "name": "ipython",
    "version": 3
   },
   "file_extension": ".py",
   "mimetype": "text/x-python",
   "name": "python",
   "nbconvert_exporter": "python",
   "pygments_lexer": "ipython3",
   "version": "3.8.10"
  },
  "orig_nbformat": 4
 },
 "nbformat": 4,
 "nbformat_minor": 2
}
