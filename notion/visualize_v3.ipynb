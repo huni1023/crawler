{
 "cells": [
  {
   "cell_type": "markdown",
   "metadata": {},
   "source": [
    "# Word embedding\n",
    "@author: huni"
   ]
  },
  {
   "cell_type": "code",
   "execution_count": 1,
   "metadata": {},
   "outputs": [
    {
     "name": "stdout",
     "output_type": "stream",
     "text": [
      "Current WD:  /Users/huni/Proj/data_preprocessing/[crawler]notion\n",
      ">>> Length crawled:  44\n"
     ]
    }
   ],
   "source": [
    "import os, re, datetime, pickle\n",
    "from sys import platform\n",
    "from tqdm import tqdm\n",
    "\n",
    "from matplotlib.pyplot import cm\n",
    "import matplotlib.pyplot as plt\n",
    "import plotly\n",
    "\n",
    "BASE_DIR = os.getcwd() ; print('Current WD: ', BASE_DIR)\n",
    "if 'win32' in platform: # for window\n",
    "    from eunjeon import Mecab\n",
    "    plt.rc(\"font\",family=\"Malgun Gothic\")\n",
    "\n",
    "elif 'darwin' in platform: # for mac\n",
    "    from konlpy.tag import Mecab\n",
    "    plt.rc('font', family='AppleGothic') \n",
    "    font_path= '/System/Library/Fonts/Supplemental/AppleGothic.ttf'\n",
    "\n",
    "\n",
    "FILE_NAME = '220919_2021 STELA 발제내용.pkl'\n",
    "pkl_obj = open(os.path.join(BASE_DIR, 'RESULT', FILE_NAME), 'rb')\n",
    "res = pickle.load(pkl_obj)\n",
    "print('>>> Length crawled: ', len(res))"
   ]
  },
  {
   "cell_type": "code",
   "execution_count": 2,
   "metadata": {},
   "outputs": [
    {
     "name": "stdout",
     "output_type": "stream",
     "text": [
      ">> cleaning initate with :  44\n"
     ]
    },
    {
     "name": "stderr",
     "output_type": "stream",
     "text": [
      ">> cleaning each page: 44it [00:00, 2407.00it/s]"
     ]
    },
    {
     "name": "stdout",
     "output_type": "stream",
     "text": [
      ">> before:  Anonymous\n",
      ">> before:  \n",
      ">> before:  UNGGI LEE\n",
      ">> before:  ­송유경\n",
      ">> before:  Juno Hwang\n",
      ">> before:  \n",
      ">> before:  성지훈 ­\n",
      ">> before:  이재용 ­\n",
      ">> before:  성지훈 ­\n",
      ">> before:  \n",
      ">> before:  Juhong Eom\n",
      ">> before:  UNGGI LEE\n",
      ">> before:  Juno Hwang\n",
      ">> before:  ­송유경\n",
      ">> before:  이재용 ­\n",
      ">> before:  성지훈 ­\n",
      ">> before:  \n",
      ">> before:  원지영(교육대학원 교육학과)\n",
      ">> before:  Hyun-G, Kwon\n",
      ">> before:  UNGGI LEE\n",
      ">> before:  전영훈\n",
      ">> before:  Y\n",
      "Yoonhee Ham\n",
      ">> before:  박\n",
      "박용현 / 학생 / 물리교육과 ­\n",
      "전영훈\n",
      ">> before:  이재용 ­\n",
      ">> before:  성지훈 ­\n",
      ">> before:  박\n",
      "박용현 / 학생 / 물리교육과 ­\n",
      ">> before:  Juno Hwang\n",
      ">> before:  전영훈\n",
      ">> before:  UNGGI LEE\n",
      ">> before:  UNGGI LEE\n",
      ">> before:  임은선 ­\n",
      ">> before:  Hyun-G, Kwon\n",
      ">> before:  박새록(사범대학 교육공학과) ­\n",
      ">> before:  이\n",
      "이홍규\n",
      ">> before:  Y\n",
      "Yoonhee Ham\n",
      ">> cleaning finished with :  17\n",
      "<class 'dict'>\n"
     ]
    },
    {
     "name": "stderr",
     "output_type": "stream",
     "text": [
      "\n"
     ]
    },
    {
     "data": {
      "text/plain": [
       "dict_keys(['Anonymous', '', 'UNGGILEE', '송유경', 'JunoHwang', '성지훈', '이재용', 'JuhongEom', '원지영(교육대학원교육학과)', 'Hyun-G,Kwon', '전영훈', 'YYoonheeHam', '박박용현/학생/물리교육과전영훈', '박박용현/학생/물리교육과', '임은선', '박새록(사범대학교육공학과)', '이이홍규'])"
      ]
     },
     "execution_count": 2,
     "metadata": {},
     "output_type": "execute_result"
    }
   ],
   "source": [
    "from cleaning import default\n",
    "\n",
    "ClEANED = default(crawling_result= res)\n",
    "print(type(ClEANED))\n",
    "ClEANED.keys()"
   ]
  },
  {
   "cell_type": "code",
   "execution_count": 3,
   "metadata": {},
   "outputs": [],
   "source": [
    "del ClEANED['Anonymous']\n",
    "del ClEANED['']"
   ]
  },
  {
   "cell_type": "code",
   "execution_count": 4,
   "metadata": {},
   "outputs": [
    {
     "name": "stdout",
     "output_type": "stream",
     "text": [
      "문제가 될만한 단어 사용자사전 추가 전에 테스트\n",
      "['학습', '분석']\n",
      "['문항반응이론']\n",
      "['요인', '분석']\n",
      "['데이터']\n",
      "['learning', 'analytics']\n",
      "['학습', '설계']\n",
      "['학습', '디자인']\n"
     ]
    }
   ],
   "source": [
    "tagger = Mecab()\n",
    "print('문제가 될만한 단어 사용자사전 추가 전에 테스트')\n",
    "print(tagger.nouns('학습분석'))\n",
    "print(tagger.nouns('문항반응이론'))\n",
    "print(tagger.nouns('요인분석'))\n",
    "print(tagger.nouns('데이터'))\n",
    "print(tagger.morphs('learning analytics')) ## morphs를 써야 다 분리됨\n",
    "print(tagger.nouns('학습설계'))\n",
    "print(tagger.nouns('학습디자인'))"
   ]
  },
  {
   "cell_type": "code",
   "execution_count": null,
   "metadata": {},
   "outputs": [],
   "source": []
  },
  {
   "cell_type": "code",
   "execution_count": 5,
   "metadata": {},
   "outputs": [
    {
     "name": "stdout",
     "output_type": "stream",
     "text": [
      "1. A Brief Introduction of Epistemic Network Analysis 1.1 이전 ENA 발표자료 1.2 ENA의 배경 1.2.1 전문성(Expertise) 1.2.2 전문성의 세대변화 1.3 Advantages of ENA 1.4 Various way to implement ENA 2. Modeling Spatial Behaviors in Clinical Team Simulations using Epistemic Network Analysis: Methodology and Teacher Evaluation 3. 논의 1. A Brief Introduction of Epistemic Network Analysis 1.1 이전 ENA 발표자료 example of Theory-based approach: ENA   이전 발표에서 틀린 부분: 네트워크 시각화 코드  노드를 고정하는 방법이 단순하지 않음 cf. ENA의 한글번역 1.2 ENA의 배경 본 절을 구성하는데 참고한 자료 1.2.1 전문성(Expertise) Def. Expertise 특정 영역에서 개인이 보유한 뛰어난 문제해결능력 Insight for Instructional Design Educational Goal:  from novice to expert!  What is the efficient way to become an expert?   How can we measure/represent/reveal expertise? 1.2.2 전문성의 세대변화 ref. Holyoak (1991)  1st generation of expertise (~1970s) Newell & Simon(1972) : 문제해결과정은 순차적으로 이뤄지는 탐색 행위다.  그 탐색적 행위가 경험에 따라서 일정한 체계를 가진다. (expertise) 전문가의 경험적 탐색행위를 모방하는 인공지능의 등장 :  \"Logic Theorist\" \"General Problem Solver\"  전문가는 domain-specific knowledge에 의존하던데? 2nd generation of expertise (~1990s) The study of Cognition High-level & Complex problem solving Combination of basic components : memory + attention + reasoning  Expertise  특정 영역에서 문제해결을 잘하게 되는 방법을 학습하는 능력, 절차적 지식에 대한 관심이 증가  the birth of Protocol Analysis (Ericsson & Simon, 1980) K. Anders Ericsson Think Aloud method : 발화데이터에서 '코드(Operator)'를 얻어내는 모습 Ericsson et al (2018). The Cambridge handbook of expertise and expert performance. 530p  전문가와 초보자의 차이는 'operator'의 사용과 조합 순서에 있구나  전문가의 문제해결과정에 사용되는 지식을 알려준다고 해서, 초보자가 전문가가 되지 않던데?  전문가의 탐색전략은 엄청나게 광범위하다  전문가는 종종 기억력, 패턴인식 능력이 뛰어나지 않은 것처럼 보인다  ... (Holyoak 은 1세대, 2세대 전문성 연구의 한계점 총 12개를 지적함) 3rd generation of expertise Symbolic Connectionism 대립되는 두 용어의 결합 (Explainable AI 관련 논쟁도 이 두 용어와 관련이 있습니다) Symbolic representation 인간이 이해 가능한 형태의 상징을 사용하는 표현으로 어느정도 추상화가 된 상태 Connectionism Connectionism is a movement in cognitive science that hopes to explain intellectual abilities using artificial neural networks (also known as neural networks or neural nets) (출처: Stanford Encyclopedia of Philosophy. 검색일: 21.10.11) 가장 미시적인 계산처리 유닛의 조합으로 지능을 모방할 수 있지 않을까? figure 자체 제작  개인의 전문성을 세밀하게 포착할 수 있는 추상화된 Symbol + 그것들 사이의 numerical한 결합 (Connectionism)을 통해 전문성을 더 면밀하게 포착해보자  Understanding ENA as a brunch of Symbolic Connectionism 1.3 Advantages of ENA 연구자가 선정하는 추상적 개념(symbolic representation of Code)을 포착할 수 있음 : Node   인간지능의 고차원적 성격을 표현 개념들 사이의 미세한 차이를 표현할 수 있음: Weight  다양한 문제상황에서의 변화를 볼 수 있음 연구대상 선정의 자유로움 (개인, 집단, 학생, 교사, 간호, 의료, 공학.. )  특정 'Domain'에 얽메이지 않고 수행될 수 있음 (예. 수업상황, 실습상황, 가상의 문제해결상황 등) 연구에 사용하는 데이터가 제한적이지 않음  발화, 작성글, 위치정보(오늘 발표) 최초에 모델링을 잘 해두면 이후에 자동적으로 분석할 수 있음  Academy 를 넘어 Industry까지 뻗칠 수 있는.. 대량분석의 가능성 sample figure of ENA 1.4 Various way to implement ENA Epistemic Network Analysis org rENA: ENA 창시자 Shaffer가 만든 R 패키지 ENApy github: 노드를 고정시키는 방법에서 막힘 (구인: R코드를 이해할 줄 알고, 통계지식을 갖춘 분 jhun1023@snu.ac.kr) 2. Modeling Spatial Behaviors in Clinical Team Simulations using Epistemic Network Analysis: Methodology and Teacher Evaluation ENA with Spatial Behavior  3. 논의 주제1. 교실 or 직장을 spaces of interest로 구획해보기  주제2. 본 발표에서 소개드린 연구는 공간 정보를 가지고 ENA를 그렸습니다. 또 접목할 수 있는 어떤 다른 데이터가 있을까요? 주제3. ENA가 가진 한계점을 생각해보고, 이것을 보완하기 위한 방법 또는 연구를 논의해봅시다.  + 아이디에이션) 개념들 사이의 연결관계를 포착하려는 시도는 다양하게 있어왔습니다. 혹시 공부하시면서 보셨던 것 중에 'ENA스러운 연구'가 있으면 공유해보도록 합시다  [하경, 유경, 지훈] ENA에서 '인식적'의 의미..? epistemeology, epistemic 접목 가능한 데이터 직장 공간 내 위치: 자기자리, 회의실,  연구실 공간 내 위치: 타학문 사람과 얼마나 교류하느냐를 볼 수 있음  오늘 소개된 연구 분석방법 확인 필요 : (GPS? 이미지? ...)  카이스트 유치원팀 분석툴 확인, HCI 분석 툴 확인 한계점 단순 연관성을 넘어서 전이를 알아야..: weight 표현의 고도화 시간을 x축으로 잡고 figure = ENA(t)  유사한 연구가 NYU에 있음 통계적 접근의 필요성 사람들이 경험하는 '혼란' '좌절' 과 같은 감정을 볼 수 있다면..  현재의 몰입 정도 등을 측정하는 연구가 있으니 그런 방법을 접목하면 가능할듯! [웅기, 수진, 용주, 윤서] 웅기: 무엇을 종속변수로 봐야 할지는 모르겠지만, 궤간순시 경로를 따거나 학생들의 행동 패턴 등을 연구할 때 쓰면 좋을 것 같다. 숙련된 교사와 숙련되지 않은 교사들을 비교.  윤서: 교생실습이나 신규교사 연수 때 활용하면 좋을 것 같다. 말 못하는 학생들의 학습 태도 등을 연구할 때 좋을 것 같다.  자리 배치 시, 학생들의 행동보다는 말을 노드를 딸 수는 없을까?  말을 텍스트로 옮기는 연구 방법이 있으므로, multimodal로 말과 행동의 track을 동시에 딸 수 있지 않을까? 용주: 말을 전사할 때 clova note를 따는가?  예... 아마? 주제1. 교실 or 직장을 spaces of interest로 구획해보기  윤서: 혁신학교를 표방하는 요즘 시대... space of interest를 생각하기에 쉽지 않음. 선생님의 자리, 학생들의 자리를 정해놓으려는 움직임이 아님. 다양한 교육적 목적에 따라 가변적으로 움직임.  웅기: 가변적으로 움직임. 수업 때마다 달라질 듯, 수업을 하나 정해놓고 연구하는 게 좋을 것 같다. 학업적으로말고, 교우관계로 접근해도 좋을 것 같다.  윤서: 공간의 물리적 거리와 사람들 사이의 관계 웅기: 조직문화를 연구할 수 있을 듯. 용주: 컴퓨터 화면을 공간으로 생각하여, 컴퓨터 화면에 다양한 창을 띄워놓고 연구하기도 좋을 것 같음.  게더타운 track을 따는 것도 방법일 듯. 주제2. 본 발표에서 소개드린 연구는 공간 정보를 가지고 ENA를 그렸습니다. 또 접목할 수 있는 어떤 다른 데이터가 있을까요? (공간 정보 이외에) 수진:  용주: 음성 데이터, 음성 크기만으로는 학습 능력을 측정하기는 어려울 것도 같음.  웅기: 음성 크기(dB), 과제를 주고 그 과제에 ENA를 적용하는 것이 어떨까?  윤서: 음성 데이터... 시각 데이터...?도 가능하지 않을까 하는 낙관적인 생각. ex) 대학 강의에서 어디를 보고 있는지 시각 데이터를 따고 있었음. 웅기: 데이터 윤리를 생각해봅시다. 주제3. ENA가 가진 한계점을 생각해보고, 이것을 보완하기 위한 방법 또는 연구를 논의해봅시다. 용주: ENA보다 더 잘 나타낼 수 있는 방법이 있지 않을까? 그냥 x, y 축으로 나타내고 track을 그대로 따는 게 더 좋을 것 같다. 직관적으로 이해하기에는 어려웠다. 수진: 이론을 기반으로 만들어진 것이 ENA. ENA를 교육 분야의 전문가들이 이해하고 먼저 coding과 labeling을 할 수 있을까? 둘 다 잘하는 전문가가 없을 것 같다. 음성데이터의 크기와 빈도를 생각해보면, 그것들을 측정하기에는 애매할 것 같다. 윤서: 데이터 윤리가 걱정된다. 더 간단한 방법을 사용하고, 성인 대상으로 연구 대상을 좁히면 ENA 가능.  웅기: 이론 기반의 labeling이 강점이라면, ENA의 의의는 여기에 있는 것 같다. 도메인 전문가(간호사) 통계, 연구 분야에는 안 좋음. 학습분석 전문가는 방법론이나 기술은 잘 알고, 간호학은 모름. 이 두 가지를 가진 사람이 적기 때문에 연구가 힘들 것. 질적으로 면담하고, 전사한 것을 코딩(중요단어, 반복 단어), 라벨링하면서 연구 보완.  [현지, 부경, 영훈]  1+3  [1] 교실 : 수업의 형태/ 교실 위치 정책 및 제도 등에 따라 spaces of interest가 달라짐 (움직임이 달라지기 때문), 교실이라는 공간은 병원과 달리 다목적 공간 (고정적이지 않음)  - 교수자 주도 일반 강의 수업 : 칠판 앞 (발표 공간), 게시판 공간 , 교실 뒤 (공부를 선호하지 않는 벌 받는 공간 등), 중간 공간... / 어떤 학생들이 게시판 방문, 어떤 교사가 방문 /  >> 교사가 눈으로 파악 충분히 가능하여서 특별한 의미가 없을 수 있음 (물론 상호작용을 측정하는 측면에서는 좋은 데이터가 될 수 있음)  -학습자 중심 협력 학습 수업 (pbl 등)  [3] [spaces of interest가 의미있으려면... ]  1.  자리 배치의 특성이 뚜렷히 다를 때 (각각 벽을 향해 두 줄로 나열, 난이도 별로 구역 나누는 등 셋팅 필요 ex) 흥미도와 같은 구체적인 구인을 측정하려면 > 엄청 넓은 공간, 글씨가 엄청 작아서 직접 가야하는 셋팅 등...)  공간을 많이 활용하는 형태 움직임의 의미가 있는 수업  다중 양식으로 접근해야 의미있는 데이터가 될 것임 (단순히 이동 데이터 x)  공간의 크기도 제시가 되어야 함  [한계] 단순히 상대적인 빈도 수로 처방까지 가능할 지 ? 레이블링 타당화 방법은 ?  2. -모션 데이터 > ex) 모션 데이터로 레이블 가능하다면 수업 참여의 움직임인 지, 방해하는 움직임인 지 조금 더 구체적으로  -음성 데이터 > ex) 해당 공간에서 어떤 상호작용, 어떤 의사소통의 기능을 가장 많이 활용했는지 등  -신체심리데이터(신경데이터) > 학생의 정서 양상을 파악하고 부정적인 환경 요소 배제, 상호작용 특성 분석  ** 아이디어 1 ) 수업을 하기 위해서 수업 교구 배치 시 비교군을 나눠서 학습 효율성, 성취도 예측 가능  아이디어 2) 교구 배치 의도에 따라서 목적이 잘 달성되었는 지 확인할 수 있음 \n"
     ]
    }
   ],
   "source": [
    "from soynlp.hangle import decompose\n",
    "from soynlp.hangle import compose\n",
    "\n",
    "class Cleaning:\n",
    "    def __init(self):\n",
    "        pass\n",
    "\n",
    "    @staticmethod\n",
    "    def tokenize(input_text, morphs_opt=None):\n",
    "\n",
    "        if morphs_opt == None:\n",
    "            return tagger.morphs(input_text)\n",
    "        elif morphs_opt == 'Noun':\n",
    "            return tagger.nouns(input_text)\n",
    "        else:\n",
    "            print('error')\n",
    "    \n",
    "    @staticmethod\n",
    "    def cleaning_text(input_text):\n",
    "        output_text = input_text\n",
    "        output_text = re.sub('[^a-zA-Z0-9ㄱ-ㅎㅏ-ㅣ가-힣 ~`\\.\\,!@#$%^&*\\(\\)\\[\\]{}\\-\\_\\'\\\"><\\/\\?=+\\n:;…]', '', output_text) \n",
    "\n",
    "        return output_text\n",
    "\n",
    "\n",
    "    @staticmethod\n",
    "    def decompozer_text2(raw_sentence):\n",
    "        decom_list = []\n",
    "        words_list = Cleaning.tokenize(raw_sentence)   # noun 옵션을 쓰면 숫자나 영어까지 모두 날아가버리므로 전체 형태소를 다 씀\n",
    "        \n",
    "        for word in words_list:\n",
    "            token_cjj = []\n",
    "            for one_jamo in list(word):\n",
    "                if re.match('[ㄱ-ㅎㅏ-ㅣ가-힣]', one_jamo) == None: # 한글이 없으면\n",
    "                    token_cjj+=one_jamo  # 그대로 더함\n",
    "                else:\n",
    "                    decom_chr1 = decompose(one_jamo)  # 감 -> ['ㄱ', 'ㅏ', 'ㅁ'] / 고 -> ['ㄱ', 'ㅗ',' '] 으로 분리\n",
    "                    token_cjj+=([x.replace(' ','_') for x in decom_chr1])  #  decompose에서 생성되는 빈 종성(' ')의 위치를 _로 대체\n",
    "            decom_list.append(''.join(token_cjj))                          \n",
    "        return decom_list\n",
    "\n",
    "    @staticmethod\n",
    "    def decode2(chrs):\n",
    "        \n",
    "        def process(t):\n",
    "            assert len(t) % 3 == 0\n",
    "            t_ = t.replace('_', ' ')\n",
    "            chars = [tuple(t_[3*i:3*(i+1)]) for i in range(len(t_)//3)]\n",
    "            recovered = [compose(*char) for char in chars]\n",
    "            recovered = ''.join(recovered)\n",
    "            return recovered\n",
    "\n",
    "        chr_idx = 0\n",
    "        decoded_chr_list = []\n",
    "\n",
    "        while(chr_idx < len(chrs)):\n",
    "            if re.match('[^ㄱ-ㅎㅏ-ㅣ가-힣_]', chrs[chr_idx]): # n번째 캐릭터가 한글 + '°'가 아니면\n",
    "                decoded_chr_list.append(chrs[chr_idx]) # 추가 작업 없이 그대로 캐릭터 추가\n",
    "                chr_idx += 1  # 다음 캐릭터로 진행\n",
    "            else:\n",
    "                temp_comp_chr = chrs[chr_idx]+chrs[chr_idx+1]+chrs[chr_idx+2] # 임시 완성형 글자 조합(초+중+종성)\n",
    "                if re.match('[ㄱ-ㅎㅏ-ㅣ][ㄱ-ㅎㅏ-ㅣ][ㄱ-ㅎㅏ-ㅣ_]',temp_comp_chr): # 입력이 완성형 단어라면\n",
    "                    decoded_chr_list.append(process(temp_comp_chr)) # 조합된 한 글자를 반환값에 추가\n",
    "                    chr_idx += 3 # 인덱스 3 증가 = 다음 글자로 이동\n",
    "                elif re.match('[ㄱ-ㅎ][_][_]',temp_comp_chr): # 입력이 [ㅋ,_,_] 같은 자음이라면\n",
    "                    decoded_chr_list.append(temp_comp_chr[0]) # 자음 한 자를 반환값에 추가\n",
    "                    chr_idx += 3 # 인덱스 3 증가 = 다음 글자로 이동\n",
    "                elif re.match('[°][ㅏ-ㅣ][_]',temp_comp_chr): # 입력이 [_,ㅜ__] 같은 모음이라면\n",
    "                    decoded_chr_list.append(temp_comp_chr[1]) # 모음 한 글자를 반환값에 추가\n",
    "                    chr_idx += 3 # 인덱스 3 증가 = 다음 글자로 이동\n",
    "\n",
    "        return ''.join(decoded_chr_list)\n",
    "\n",
    "cleaner = Cleaning()\n",
    "print(cleaner.cleaning_text(ClEANED['성지훈']['content']))"
   ]
  },
  {
   "cell_type": "code",
   "execution_count": 6,
   "metadata": {},
   "outputs": [
    {
     "name": "stdout",
     "output_type": "stream",
     "text": [
      "#고구마 참치 123 BibimBob은 맛있습니다!!ㅋ~ㅋㅋㅋㅋ\n",
      "------------------------------------------\n",
      "['#', 'ㄱㅗ_', 'ㄱㅜ_ㅁㅏ_', 'ㅊㅏㅁㅊㅣ_', '123', 'BibimBob', 'ㅇㅡㄴ', 'ㅁㅏㅅㅇㅣㅆ', 'ㅅㅡㅂㄴㅣ_ㄷㅏ_', '!', '!', 'ㅋ__', '~', 'ㅋ__ㅋ__', 'ㅋ__ㅋ__']\n",
      "------------------------------------------\n",
      "# 고 구마 참치 123 BibimBob 은 맛있 습니다 ! ! ㅋ ~ ㅋㅋ ㅋㅋ\n"
     ]
    }
   ],
   "source": [
    "original_sent = \"#고구마 참치 123 BibimBob은 맛있습니다!!ㅋ~ㅋㅋㅋㅋ\"\n",
    "print(original_sent)\n",
    "\n",
    "print('------------------------------------------')\n",
    "\n",
    "decom_sent = cleaner.decompozer_text2(original_sent)  # 단어 -> 초중종성 자소분리\n",
    "print(decom_sent)\n",
    "\n",
    "print('------------------------------------------')\n",
    "\n",
    "decoded_sent = cleaner.decode2(list(' '.join(decom_sent)))  # 자소 -> 단어\n",
    "print(decoded_sent)"
   ]
  },
  {
   "cell_type": "code",
   "execution_count": null,
   "metadata": {},
   "outputs": [],
   "source": []
  },
  {
   "cell_type": "code",
   "execution_count": null,
   "metadata": {},
   "outputs": [],
   "source": []
  },
  {
   "cell_type": "code",
   "execution_count": null,
   "metadata": {},
   "outputs": [],
   "source": []
  },
  {
   "cell_type": "markdown",
   "metadata": {},
   "source": [
    "# Build Model"
   ]
  },
  {
   "cell_type": "code",
   "execution_count": 7,
   "metadata": {},
   "outputs": [
    {
     "name": "stderr",
     "output_type": "stream",
     "text": [
      "/Users/huni/.pyenv/versions/3.8.2/envs/{huni}/lib/python3.8/site-packages/gensim/similarities/__init__.py:15: UserWarning: The gensim.similarities.levenshtein submodule is disabled, because the optional Levenshtein package <https://pypi.org/project/python-Levenshtein/> is unavailable. Install Levenhstein (e.g. `pip install python-Levenshtein`) to suppress this warning.\n",
      "  warnings.warn(msg)\n"
     ]
    }
   ],
   "source": [
    "from gensim.models import FastText  # 라이브러리 명칭 조심\n",
    "class MyInputIter(object):\n",
    "    def __init__(self, input_list):\n",
    "        self.input_list = input_list\n",
    "    \n",
    "    def __iter__(self):\n",
    "        for input1 in self.input_list:\n",
    "             yield input1\n",
    "   \n",
    "    \n",
    "    \n",
    "def make_fastText_model(input_CORPUS, fT_params):\n",
    "                    # 모델 저장 위치, 모델 명, 학습 데이터\n",
    "    \n",
    "    print('> preprocessing...')\n",
    "    \n",
    "    sentences = MyInputIter(input_CORPUS)\n",
    "\n",
    "    model = FastText(  \n",
    "                        sg  = 1,    # : ({1, 0}, optional) – Training algorithm: skip-gram if sg=1, otherwise CBOW.\n",
    "                        vector_size = 100,    # : Size of embeddings to be learnt (Default 100)\n",
    "                        window = 3,    # : Context window size (Default 5)\n",
    "                        min_count = fT_params['min_count'],    # : Ignore words with number of occurrences below this (Default 5)\n",
    "                        min_n = 3,    #: min length of char ngrams (Default 3)\n",
    "                        max_n = 9,    #: max length of char ngrams (Default 6)\n",
    "                        workers = os.cpu_count()-1\n",
    "                        # iter = fT_params['iter'],    # : Number of epochs (Default 5)\n",
    "                        # alpha = ,    # : Initial learning rate (Default 0.025)\n",
    "                        # loss = ,    # : Training objective. Allowed values: ns, hs, softmax (Default ns)\n",
    "#                       # epochs = 10,    # : Number of epochs (Default 5)\n",
    "                     )\n",
    "\n",
    "    print('> build vocab...')\n",
    "    \n",
    "    # vocab 빌드\n",
    "    model.build_vocab(corpus_iterable= sentences)\n",
    "    \n",
    "    print('> train model...')\n",
    "    \n",
    "    # 모델 훈련 시작\n",
    "    model.train(corpus_iterable=sentences, total_examples=model.corpus_count, epochs = model.epochs)  # train\n",
    "        \n",
    "    # ------------------------------\n",
    "    print('** model build complete')\n",
    "    print('   ~  ~  ~  ~  ~  ~  ~  ~  ~  ~  ~  ~   ')\n",
    "    \n",
    "    # 모델을 반환하여 밖에서 분석 수행\n",
    "    return model"
   ]
  },
  {
   "cell_type": "code",
   "execution_count": null,
   "metadata": {},
   "outputs": [],
   "source": []
  },
  {
   "cell_type": "code",
   "execution_count": null,
   "metadata": {},
   "outputs": [],
   "source": []
  },
  {
   "cell_type": "code",
   "execution_count": 8,
   "metadata": {},
   "outputs": [
    {
     "name": "stdout",
     "output_type": "stream",
     "text": [
      "input tokens: ['1', '.', 'A', 'Brief', 'Introduction', 'of', 'Epistemic', 'Network', 'Analysis', '1', '.', '1', 'ㅇㅣ_ㅈㅓㄴ', 'ENA', 'ㅂㅏㄹㅍㅛ_', 'ㅈㅏ_ㄹㅛ_', '1', '.', '2', 'ENA', 'ㅇㅢ_', 'ㅂㅐ_ㄱㅕㅇ', '1', '.', '2', '.', '1', 'ㅈㅓㄴㅁㅜㄴ', 'ㅅㅓㅇ', '(']\n"
     ]
    }
   ],
   "source": [
    "CORPUS = [cleaner.cleaning_text(x['content']) for x in ClEANED.values()]\n",
    "CORPUS_tokenized = [cleaner.decompozer_text2(x) for x in CORPUS]\n",
    "print(f'input tokens: {CORPUS_tokenized[3][:30]}')"
   ]
  },
  {
   "cell_type": "code",
   "execution_count": 9,
   "metadata": {},
   "outputs": [
    {
     "name": "stdout",
     "output_type": "stream",
     "text": [
      "\n",
      "\n",
      ">>> Build model start\n",
      "\n",
      "> preprocessing...\n",
      "> build vocab...\n",
      "> train model...\n",
      "** model build complete\n",
      "   ~  ~  ~  ~  ~  ~  ~  ~  ~  ~  ~  ~   \n"
     ]
    }
   ],
   "source": [
    "# 모델\n",
    "fT_params = {  \n",
    "               'min_count' : 3,    # : Ignore words with number of occurrences below this (Default 5)\n",
    "               # 'iter' : 50    # : Number of epochs (Default 5)\n",
    "            }\n",
    "\n",
    "# 모델 빌드\n",
    "print('\\n\\n>>> Build model start\\n')\n",
    "fT_model = make_fastText_model(CORPUS_tokenized, fT_params)"
   ]
  },
  {
   "cell_type": "code",
   "execution_count": 10,
   "metadata": {},
   "outputs": [],
   "source": [
    "# # save model\n",
    "# fT_model.save(os.path.join(BASE_DIR, 'RESULT', 'fT.model'))\n",
    "\n",
    "\n",
    "# load model\n",
    "# from gensim.models import FastText\n",
    "# fT_model = FastText.load(os.path.join(BASE_DIR, 'RESULT', 'fT.model'))"
   ]
  },
  {
   "cell_type": "code",
   "execution_count": 11,
   "metadata": {},
   "outputs": [],
   "source": [
    "def get_similar_word(ft_model, input_word, topN):\n",
    "    jamo_token = cleaner.decompozer_text2(input_word)   # 입력 단어 자모화\n",
    "    word_n_corr = ft_model.wv.most_similar(jamo_token, topn = topN)  # 모델에서 상위 N개의 유사한 토큰을 찾기\n",
    "    word_n_corr = [(cleaner.decode2(word), corr) for (word, corr) in word_n_corr]   # 찾은 토큰을 디코드하여 유사도와 함께 반환\n",
    "    \n",
    "    return word_n_corr\n",
    "\n",
    "\n",
    "# 두 모델 간 유사 단어 비교 함수\n",
    "def compare_similar_words(EDU_model, YOUTUBE_model, compare_word, topN):\n",
    "\n",
    "    decomp_word = cleaner.decompozer_text2(compare_word)[0]  \n",
    "\n",
    "    # vocab 리스트 생성\n",
    "    EDU_vocab_list = EDU_model.wv.vocab\n",
    "    YOUTUBE_vocab_list = YOUTUBE_model.wv.vocab\n",
    "    \n",
    "    # 특정 모델의 vocab에 입력 단어가 없으면 비교 중지\n",
    "    if decomp_word not in EDU_vocab_list:\n",
    "        print(f'{compare_word} not in EDU model vocab')\n",
    "        return None\n",
    "    elif decomp_word not in YOUTUBE_vocab_list:\n",
    "        print(f'{compare_word} not in YOUTUBE model vocab')\n",
    "        return None\n",
    "    \n",
    "    # 입력 단어가 두 vocab에 모두 있으면 비교 시행\n",
    "    else:\n",
    "        EDU_word_n_corr = get_similar_word(EDU_model, compare_word, topN)\n",
    "        YOUTUBE_word_n_corr = get_similar_word(YOUTUBE_model, compare_word, topN)\n",
    "\n",
    "        df_result = pd.DataFrame()\n",
    "        df_result['EDU_model_words'] = [word for word, corr in EDU_word_n_corr]\n",
    "        df_result['EDU_model_corr']  = [f'{corr:.4f}' for word, corr in EDU_word_n_corr]\n",
    "        df_result['YOUTUBE_model_words'] = [word for word, corr in YOUTUBE_word_n_corr]\n",
    "        df_result['YOUTUBE_model_corr']  = [f'{corr:.4f}' for word, corr in YOUTUBE_word_n_corr]\n",
    "\n",
    "        return df_result"
   ]
  },
  {
   "cell_type": "code",
   "execution_count": 12,
   "metadata": {},
   "outputs": [
    {
     "data": {
      "text/plain": [
       "[('작성', 0.9996064901351929),\n",
       " ('자성', 0.9995725750923157),\n",
       " ('관한', 0.9994776844978333),\n",
       " ('과', 0.9994750618934631),\n",
       " ('개성', 0.9994727969169617),\n",
       " ('따라서', 0.9994726181030273),\n",
       " ('통한', 0.9994468688964844),\n",
       " ('대화', 0.9994274973869324),\n",
       " ('속한', 0.9993959665298462),\n",
       " ('자체', 0.999390184879303)]"
      ]
     },
     "execution_count": 12,
     "metadata": {},
     "output_type": "execute_result"
    }
   ],
   "source": [
    "get_similar_word(fT_model, '학습', topN=10)"
   ]
  },
  {
   "cell_type": "code",
   "execution_count": 13,
   "metadata": {},
   "outputs": [
    {
     "data": {
      "text/plain": [
       "[('정도', 0.9998650550842285),\n",
       " ('에게', 0.9998513460159302),\n",
       " ('대해서', 0.999841034412384),\n",
       " ('사이', 0.9998270869255066),\n",
       " ('경로', 0.9997945427894592),\n",
       " ('간', 0.9997864961624146),\n",
       " ('학생', 0.9997859001159668),\n",
       " ('의해서', 0.9997852444648743),\n",
       " ('사용자', 0.9997846484184265),\n",
       " ('아서', 0.9997811317443848)]"
      ]
     },
     "execution_count": 13,
     "metadata": {},
     "output_type": "execute_result"
    }
   ],
   "source": [
    "get_similar_word(fT_model, '분석', topN=10)"
   ]
  },
  {
   "cell_type": "code",
   "execution_count": 14,
   "metadata": {},
   "outputs": [
    {
     "data": {
      "text/plain": [
       "[('부정행위', 0.9999430775642395),\n",
       " ('노드', 0.999932587146759),\n",
       " ('학급', 0.9999305605888367),\n",
       " ('디지털', 0.9999292492866516),\n",
       " ('비교', 0.9999288320541382),\n",
       " ('부족', 0.9999280571937561),\n",
       " ('실생활', 0.9999272227287292),\n",
       " ('동작', 0.9999268651008606),\n",
       " ('행위', 0.9999268054962158),\n",
       " ('대시보드', 0.9999257326126099)]"
      ]
     },
     "execution_count": 14,
     "metadata": {},
     "output_type": "execute_result"
    }
   ],
   "source": [
    "get_similar_word(fT_model, '학교', topN=10)"
   ]
  },
  {
   "cell_type": "code",
   "execution_count": 15,
   "metadata": {},
   "outputs": [
    {
     "data": {
      "text/plain": [
       "[('상황', 0.999889075756073),\n",
       " ('시간', 0.9998793005943298),\n",
       " ('정오', 0.9998786449432373),\n",
       " ('의해서', 0.999876856803894),\n",
       " ('서로', 0.9998726844787598),\n",
       " ('목적', 0.9998682737350464),\n",
       " ('정서', 0.9998635053634644),\n",
       " ('저', 0.9998600482940674),\n",
       " ('제한', 0.9998546838760376),\n",
       " ('정확도', 0.9998496770858765)]"
      ]
     },
     "execution_count": 15,
     "metadata": {},
     "output_type": "execute_result"
    }
   ],
   "source": [
    "get_similar_word(fT_model, '데이터', topN=10)"
   ]
  },
  {
   "cell_type": "code",
   "execution_count": 16,
   "metadata": {},
   "outputs": [
    {
     "data": {
      "text/plain": [
       "[('모두', 0.9998970031738281),\n",
       " ('으로써', 0.9998884201049805),\n",
       " ('정답', 0.9998795390129089),\n",
       " ('이상', 0.9998719692230225),\n",
       " ('사용자', 0.9998693466186523),\n",
       " ('예측', 0.9998628497123718),\n",
       " ('고려', 0.9998614192008972),\n",
       " ('사이', 0.9998607039451599),\n",
       " ('측면', 0.9998553991317749),\n",
       " ('맞', 0.9998551607131958)]"
      ]
     },
     "execution_count": 16,
     "metadata": {},
     "output_type": "execute_result"
    }
   ],
   "source": [
    "get_similar_word(fT_model, '연구', topN=10)"
   ]
  },
  {
   "cell_type": "code",
   "execution_count": 17,
   "metadata": {},
   "outputs": [
    {
     "data": {
      "text/plain": [
       "[(',', 0.042221035808324814),\n",
       " ('(', 0.02855377458035946),\n",
       " ('ㅎㅏㄴ', 0.02202646993100643),\n",
       " ('ㅇㅔ_', 0.01847204752266407),\n",
       " ('ㅇㅢ_', 0.01762367971241474)]"
      ]
     },
     "execution_count": 17,
     "metadata": {},
     "output_type": "execute_result"
    }
   ],
   "source": [
    "def imitate_turing(ft_model, input_two_word, topN):\n",
    "    assert type(input_two_word) == list\n",
    "    assert len(input_two_word) == 2\n",
    "    vc_1 = ft_model.wv[input_two_word[0]] ; vc_2 = ft_model.wv[input_two_word[1]] \n",
    "    vc_what = vc_1-vc_2\n",
    "    \n",
    "    similar_word = ft_model.wv.similar_by_vector(vc_what, topn = topN)\n",
    "\n",
    "    return similar_word\n",
    "\n",
    "imitate_turing(fT_model, ['교사', '학생'], 5)"
   ]
  },
  {
   "cell_type": "code",
   "execution_count": 18,
   "metadata": {},
   "outputs": [
    {
     "data": {
      "text/plain": [
       "[('/', 0.09085848927497864),\n",
       " ('1', 0.07601601630449295),\n",
       " (':', 0.07490110397338867),\n",
       " ('_', 0.07407108694314957),\n",
       " ('https', 0.07206135988235474)]"
      ]
     },
     "execution_count": 18,
     "metadata": {},
     "output_type": "execute_result"
    }
   ],
   "source": [
    "imitate_turing(fT_model, ['교육', '학생'], 5)"
   ]
  },
  {
   "cell_type": "markdown",
   "metadata": {},
   "source": [
    "- it's not a good model.."
   ]
  },
  {
   "cell_type": "code",
   "execution_count": null,
   "metadata": {},
   "outputs": [],
   "source": []
  },
  {
   "cell_type": "code",
   "execution_count": null,
   "metadata": {},
   "outputs": [],
   "source": []
  },
  {
   "cell_type": "markdown",
   "metadata": {},
   "source": [
    "# 2차원 시각화"
   ]
  },
  {
   "cell_type": "code",
   "execution_count": 19,
   "metadata": {},
   "outputs": [
    {
     "name": "stdout",
     "output_type": "stream",
     "text": [
      "{'UNGGILEE': array([ 0.19995067,  0.13225725, -0.13688953,  0.15217581,  0.16958094,\n",
      "       -0.2716161 ,  0.03790016,  0.35697842, -0.15731752, -0.12104144,\n",
      "       -0.14149944,  0.04235599, -0.01900473,  0.16040716,  0.04028585,\n",
      "       -0.23349945,  0.01453437, -0.14355975,  0.00452462, -0.13330275,\n",
      "        0.03008227,  0.14687522,  0.1458199 , -0.2927003 , -0.11971677,\n",
      "       -0.07462846, -0.35349587,  0.13172552, -0.12957029, -0.01381001,\n",
      "        0.43484998, -0.21511875,  0.27008796,  0.06074994,  0.00198511,\n",
      "        0.3091099 , -0.060037  , -0.14766479,  0.21131253,  0.18805191,\n",
      "        0.00719906,  0.10719931, -0.40806177,  0.28478214,  0.02366385,\n",
      "       -0.05878991,  0.11147348, -0.21705526,  0.02391453,  0.21771339,\n",
      "        0.05617573, -0.0496721 ,  0.17950702,  0.01641589, -0.1230539 ,\n",
      "        0.24031176,  0.26047018, -0.09499209, -0.01363479,  0.36008367,\n",
      "       -0.09366504, -0.12140252,  0.03931733, -0.18768579,  0.04859852,\n",
      "        0.31699726,  0.10572255,  0.06842263,  0.00118064,  0.09506491,\n",
      "        0.07433439, -0.26580086,  0.22285905, -0.26549974,  0.1521609 ,\n",
      "        0.19044213, -0.09076104,  0.07496481, -0.22114672,  0.1421212 ,\n",
      "       -0.08456137, -0.05036057,  0.10194563,  0.08438928, -0.08215103,\n",
      "        0.03378388, -0.04283807,  0.18948962,  0.2451015 ,  0.02874087,\n",
      "        0.10411866, -0.29936323, -0.14203107, -0.14124571, -0.16619675,\n",
      "        0.13061753,  0.05562188, -0.10086069,  0.02275283, -0.18627842],\n",
      "      dtype=float32), '송유경': array([ 0.2027382 ,  0.13342248, -0.13639763,  0.1510528 ,  0.17025545,\n",
      "       -0.27278626,  0.03819273,  0.35712296, -0.1569273 , -0.12183396,\n",
      "       -0.14155266,  0.04130825, -0.02050367,  0.16247004,  0.04153383,\n",
      "       -0.2338021 ,  0.01340761, -0.14154017,  0.0048332 , -0.13140258,\n",
      "        0.0311007 ,  0.14832982,  0.1448706 , -0.29291654, -0.12066541,\n",
      "       -0.07520251, -0.35390538,  0.1318224 , -0.12917541, -0.01395929,\n",
      "        0.4368206 , -0.21602716,  0.26946428,  0.06231873,  0.0032842 ,\n",
      "        0.31078914, -0.05885635, -0.14714113,  0.21273333,  0.18890388,\n",
      "        0.00651818,  0.10669401, -0.40950686,  0.2851784 ,  0.02293827,\n",
      "       -0.05900242,  0.10976196, -0.21820347,  0.02273642,  0.21728823,\n",
      "        0.05610511, -0.0510908 ,  0.17978674,  0.01610162, -0.12367853,\n",
      "        0.2407245 ,  0.26171112, -0.09510827, -0.00972733,  0.36199504,\n",
      "       -0.09351286, -0.12034337,  0.04204611, -0.1888983 ,  0.04960252,\n",
      "        0.3176869 ,  0.10668448,  0.07014619,  0.00247035,  0.09533346,\n",
      "        0.07438117, -0.26706782,  0.22467741, -0.26596364,  0.15296704,\n",
      "        0.19258195, -0.09182457,  0.07593814, -0.22080776,  0.14100628,\n",
      "       -0.08439656, -0.05121057,  0.10160272,  0.08528463, -0.08286978,\n",
      "        0.03356849, -0.04276668,  0.19004671,  0.24686888,  0.02738833,\n",
      "        0.10441422, -0.3005301 , -0.14119056, -0.14175497, -0.16728884,\n",
      "        0.13199237,  0.05554881, -0.10179847,  0.02407374, -0.1884993 ],\n",
      "      dtype=float32), 'JunoHwang': array([ 0.19663633,  0.13166094, -0.13195114,  0.1481573 ,  0.16611235,\n",
      "       -0.2670472 ,  0.03706424,  0.34870693, -0.15221505, -0.11855823,\n",
      "       -0.13788532,  0.0395321 , -0.02080878,  0.1580603 ,  0.0403435 ,\n",
      "       -0.22738884,  0.01360314, -0.13940425,  0.00483448, -0.12950744,\n",
      "        0.03101608,  0.14616038,  0.1413491 , -0.2853201 , -0.11686245,\n",
      "       -0.07338881, -0.34521994,  0.12911808, -0.12680018, -0.01321222,\n",
      "        0.42633736, -0.21180087,  0.26343146,  0.06154377,  0.00317091,\n",
      "        0.30215988, -0.05715406, -0.14325404,  0.20934765,  0.18277377,\n",
      "        0.00561541,  0.10447524, -0.40099114,  0.27730486,  0.02259321,\n",
      "       -0.05819386,  0.10771845, -0.2122192 ,  0.02297762,  0.21269903,\n",
      "        0.05507696, -0.04800478,  0.174775  ,  0.01346661, -0.1206098 ,\n",
      "        0.2359158 ,  0.2559536 , -0.09311716, -0.00938874,  0.3546989 ,\n",
      "       -0.09089129, -0.11787731,  0.04156977, -0.18508914,  0.04832378,\n",
      "        0.30974415,  0.10461129,  0.06887952,  0.00264444,  0.09191222,\n",
      "        0.07399981, -0.2610445 ,  0.21958712, -0.25959915,  0.14966395,\n",
      "        0.1875435 , -0.09119309,  0.07530452, -0.21533929,  0.13680471,\n",
      "       -0.08182666, -0.04976639,  0.09954527,  0.08250907, -0.08064108,\n",
      "        0.03136399, -0.04070252,  0.18555653,  0.24104677,  0.02718113,\n",
      "        0.09999085, -0.29244995, -0.13698685, -0.13814947, -0.16250113,\n",
      "        0.12871303,  0.05371768, -0.10055838,  0.02338559, -0.18385835],\n",
      "      dtype=float32), '성지훈': array([ 0.19964406,  0.13340229, -0.13151135,  0.14927714,  0.16810933,\n",
      "       -0.27003172,  0.03761667,  0.35150805, -0.151988  , -0.11925828,\n",
      "       -0.13948795,  0.03908749, -0.02289063,  0.16080178,  0.04210322,\n",
      "       -0.22901383,  0.01410877, -0.14072451,  0.00442665, -0.13041332,\n",
      "        0.03216827,  0.14976104,  0.14203255, -0.28919953, -0.11762219,\n",
      "       -0.0734304 , -0.34862486,  0.1307547 , -0.12900478, -0.01315613,\n",
      "        0.43104708, -0.21603385,  0.26598573,  0.06177013,  0.00278084,\n",
      "        0.30459195, -0.05733998, -0.14479868,  0.21345162,  0.18202071,\n",
      "        0.00332906,  0.10578749, -0.4060382 ,  0.2804975 ,  0.02289038,\n",
      "       -0.05852353,  0.10825103, -0.2132735 ,  0.02327318,  0.21455479,\n",
      "        0.05382248, -0.04785392,  0.17657231,  0.01070986, -0.12253577,\n",
      "        0.23837072,  0.25866112, -0.09442019, -0.00864485,  0.360315  ,\n",
      "       -0.08942871, -0.11790878,  0.04423254, -0.18745919,  0.04910897,\n",
      "        0.31129727,  0.10502466,  0.0709672 ,  0.00354747,  0.09110732,\n",
      "        0.07621834, -0.26307067,  0.22353676, -0.26153067,  0.15091935,\n",
      "        0.19021568, -0.09415182,  0.07660053, -0.21858315,  0.13571192,\n",
      "       -0.08043519, -0.05203762,  0.09951627,  0.08233318, -0.08155031,\n",
      "        0.03060516, -0.04004219,  0.18773451,  0.24227974,  0.02764128,\n",
      "        0.10067222, -0.29484478, -0.13540833, -0.13873455, -0.16408776,\n",
      "        0.13129741,  0.0535735 , -0.10229866,  0.02369304, -0.1875035 ],\n",
      "      dtype=float32), '이재용': array([ 0.19505444,  0.12894903, -0.1335658 ,  0.14826022,  0.16546452,\n",
      "       -0.26388162,  0.03636176,  0.34752902, -0.15300651, -0.11856581,\n",
      "       -0.13662764,  0.04182055, -0.01871941,  0.15693381,  0.03994276,\n",
      "       -0.22706273,  0.01361401, -0.13839342,  0.00461227, -0.12831922,\n",
      "        0.02826125,  0.14275236,  0.14118323, -0.28519693, -0.11779846,\n",
      "       -0.07186936, -0.34425443,  0.12820329, -0.12542625, -0.01420238,\n",
      "        0.42326668, -0.20889573,  0.26183942,  0.05909064,  0.00356758,\n",
      "        0.30200714, -0.05725378, -0.14342147,  0.20570755,  0.18370904,\n",
      "        0.00799327,  0.10399523, -0.39746118,  0.2775887 ,  0.02324393,\n",
      "       -0.05683312,  0.10751229, -0.21267763,  0.02262761,  0.21118775,\n",
      "        0.05428721, -0.0483089 ,  0.17605758,  0.0162051 , -0.12068871,\n",
      "        0.23340307,  0.2535654 , -0.09164622, -0.01185126,  0.35160655,\n",
      "       -0.09002471, -0.11726622,  0.03835808, -0.18278946,  0.04741056,\n",
      "        0.30960166,  0.10264978,  0.06713787,  0.00214773,  0.09249888,\n",
      "        0.0707859 , -0.25844708,  0.2178744 , -0.25774705,  0.14774859,\n",
      "        0.18626578, -0.08775496,  0.07274175, -0.2150226 ,  0.13862497,\n",
      "       -0.08307612, -0.04898616,  0.09903914,  0.08181906, -0.0799083 ,\n",
      "        0.033651  , -0.04093103,  0.18384273,  0.23898172,  0.02839742,\n",
      "        0.10150202, -0.29192325, -0.13850501, -0.13727418, -0.16206215,\n",
      "        0.12790707,  0.05406407, -0.09789235,  0.021539  , -0.18192036],\n",
      "      dtype=float32), 'JuhongEom': array([ 0.20942868,  0.14273249, -0.13357781,  0.15236501,  0.17567822,\n",
      "       -0.2820518 ,  0.03818037,  0.36223984, -0.15429561, -0.12548238,\n",
      "       -0.14223066,  0.03589547, -0.02725624,  0.16839191,  0.04659316,\n",
      "       -0.2362411 ,  0.01322425, -0.1420987 ,  0.00774926, -0.13224351,\n",
      "        0.03695989,  0.15799467,  0.1443227 , -0.29596162, -0.12331063,\n",
      "       -0.07806472, -0.35981905,  0.134435  , -0.12987208, -0.01372497,\n",
      "        0.4514901 , -0.226008  ,  0.2746142 ,  0.07145188,  0.00791565,\n",
      "        0.3165734 , -0.0562138 , -0.14732444,  0.22641064,  0.19136284,\n",
      "        0.00240764,  0.10890975, -0.42375237,  0.28815386,  0.02002775,\n",
      "       -0.06211831,  0.1086963 , -0.22373982,  0.02236566,  0.21977836,\n",
      "        0.05923735, -0.04937994,  0.18120018,  0.00993676, -0.12674288,\n",
      "        0.24833705,  0.2726447 , -0.09744959,  0.00112312,  0.3763077 ,\n",
      "       -0.09522822, -0.12012751,  0.05340686, -0.19830768,  0.05326216,\n",
      "        0.3229261 ,  0.1131746 ,  0.07787039,  0.00670179,  0.09488516,\n",
      "        0.08020733, -0.27679956,  0.2352573 , -0.26851386,  0.15997986,\n",
      "        0.2016977 , -0.10195573,  0.08393449, -0.22324005,  0.13841756,\n",
      "       -0.0824579 , -0.05348883,  0.10488557,  0.08845732, -0.08375995,\n",
      "        0.03048579, -0.04133543,  0.19563854,  0.25513616,  0.02391308,\n",
      "        0.10032176, -0.3066825 , -0.13948566, -0.14717466, -0.17097373,\n",
      "        0.1361084 ,  0.05562774, -0.10831932,  0.02853562, -0.19823779],\n",
      "      dtype=float32), '원지영(교육대학원교육학과)': array([ 0.21473652,  0.14891265, -0.12718545,  0.1497336 ,  0.17867085,\n",
      "       -0.28716576,  0.0381986 ,  0.36054647, -0.14880094, -0.12679118,\n",
      "       -0.14186482,  0.02836066, -0.03532118,  0.17359509,  0.05089418,\n",
      "       -0.23455088,  0.01264275, -0.13911583,  0.00991281, -0.12929443,\n",
      "        0.04340987,  0.1663487 ,  0.14013648, -0.2945107 , -0.1232117 ,\n",
      "       -0.08048898, -0.35954392,  0.13492826, -0.12915827, -0.01169713,\n",
      "        0.45916513, -0.23341687,  0.27432176,  0.08054171,  0.0126058 ,\n",
      "        0.31728035, -0.05206396, -0.14406884,  0.23738565,  0.18855391,\n",
      "       -0.00375208,  0.10864175, -0.43072617,  0.28591177,  0.017899  ,\n",
      "       -0.06392163,  0.10518873, -0.22305007,  0.02220982,  0.21772534,\n",
      "        0.06035003, -0.04745076,  0.17932549,  0.00109395, -0.12738954,\n",
      "        0.25181708,  0.27908772, -0.10015567,  0.01515076,  0.38564128,\n",
      "       -0.09395091, -0.11629704,  0.06616396, -0.20557445,  0.05611731,\n",
      "        0.32130125,  0.11927693,  0.08683855,  0.01010782,  0.09258647,\n",
      "        0.08619113, -0.28256544,  0.24218524, -0.2666948 ,  0.1651284 ,\n",
      "        0.20746918, -0.11109878,  0.09183754, -0.22110428,  0.13060103,\n",
      "       -0.07781013, -0.05685332,  0.10531174,  0.09079533, -0.0838256 ,\n",
      "        0.0254208 , -0.03796299,  0.19828811,  0.25895315,  0.01917067,\n",
      "        0.09505613, -0.30771172, -0.13256535, -0.14869922, -0.17195472,\n",
      "        0.13816863,  0.05430083, -0.11560681,  0.03341193, -0.20620179],\n",
      "      dtype=float32), 'Hyun-G,Kwon': array([ 0.21188228,  0.14619339, -0.12990642,  0.15063559,  0.1778894 ,\n",
      "       -0.28388268,  0.03723555,  0.36123013, -0.15021315, -0.12681063,\n",
      "       -0.13986392,  0.03312628, -0.03163333,  0.1711265 ,  0.05105957,\n",
      "       -0.23436695,  0.01288705, -0.13968654,  0.0101601 , -0.12878975,\n",
      "        0.03918651,  0.16227104,  0.14084238, -0.29492372, -0.1248963 ,\n",
      "       -0.07806229, -0.35987216,  0.13490394, -0.12810493, -0.0136319 ,\n",
      "        0.455244  , -0.22920007,  0.2743805 ,  0.07588712,  0.01291018,\n",
      "        0.31686434, -0.05273956, -0.1461924 ,  0.23211443,  0.19002476,\n",
      "       -0.00130349,  0.10936987, -0.42702484,  0.28736708,  0.01896553,\n",
      "       -0.06187027,  0.10639008, -0.22457822,  0.02091879,  0.2176975 ,\n",
      "        0.05976976, -0.04762534,  0.1806827 ,  0.00563519, -0.12780854,\n",
      "        0.24889052,  0.2762302 , -0.09686171,  0.00966747,  0.3819969 ,\n",
      "       -0.09248549, -0.11673746,  0.05969345, -0.20207947,  0.0550766 ,\n",
      "        0.32242703,  0.11589282,  0.08266723,  0.00964493,  0.0931707 ,\n",
      "        0.08064715, -0.27854994,  0.24009825, -0.26505724,  0.1621404 ,\n",
      "        0.2061495 , -0.1071434 ,  0.08836589, -0.22133501,  0.13432312,\n",
      "       -0.08109878, -0.05527575,  0.10574058,  0.08898017, -0.08268207,\n",
      "        0.02819929, -0.03856456,  0.19574209,  0.25697297,  0.02219202,\n",
      "        0.09609635, -0.30662045, -0.13643883, -0.14676993, -0.17103775,\n",
      "        0.13776907,  0.05431243, -0.11078158,  0.03063704, -0.20306522],\n",
      "      dtype=float32), '전영훈': array([ 0.1966655 ,  0.1297404 , -0.13258678,  0.14865571,  0.16543323,\n",
      "       -0.26572904,  0.0379358 ,  0.34834817, -0.15318137, -0.11709389,\n",
      "       -0.13948055,  0.0402634 , -0.01967119,  0.15749823,  0.03884151,\n",
      "       -0.22786608,  0.01364921, -0.13963394,  0.00351398, -0.12992029,\n",
      "        0.03017082,  0.14512596,  0.14234678, -0.2861861 , -0.11617669,\n",
      "       -0.07315394, -0.3453543 ,  0.12892447, -0.12792413, -0.0129133 ,\n",
      "        0.42467043, -0.21169183,  0.26310933,  0.05940261,  0.00093029,\n",
      "        0.30216867, -0.05814904, -0.14366396,  0.20765512,  0.18181777,\n",
      "        0.00592453,  0.10432579, -0.3992216 ,  0.27785885,  0.02309956,\n",
      "       -0.0574979 ,  0.10795122, -0.21075389,  0.02375224,  0.2130761 ,\n",
      "        0.05317529, -0.04872827,  0.1750491 ,  0.01342771, -0.12069576,\n",
      "        0.2359056 ,  0.25395754, -0.09426762, -0.01212245,  0.353767  ,\n",
      "       -0.09043114, -0.11860573,  0.04071565, -0.18355016,  0.04711149,\n",
      "        0.30906653,  0.10316766,  0.06781206,  0.0018044 ,  0.09154156,\n",
      "        0.07458068, -0.26039618,  0.21799386, -0.26081365,  0.14857279,\n",
      "        0.18574859, -0.08983944,  0.07298295, -0.21710151,  0.13747433,\n",
      "       -0.08099955, -0.05003453,  0.09859904,  0.08138991, -0.08117247,\n",
      "        0.03196691, -0.04136685,  0.18619293,  0.23880713,  0.0279933 ,\n",
      "        0.10285856, -0.29259795, -0.13616559, -0.13749972, -0.16271608,\n",
      "        0.12888396,  0.05428302, -0.10045799,  0.02283544, -0.1828875 ],\n",
      "      dtype=float32), 'YYoonheeHam': array([ 2.01502874e-01,  1.31249860e-01, -1.35608062e-01,  1.51545659e-01,\n",
      "        1.69105276e-01, -2.71853119e-01,  3.95394452e-02,  3.55120152e-01,\n",
      "       -1.57294258e-01, -1.20054945e-01, -1.43891349e-01,  3.84610184e-02,\n",
      "       -1.91239640e-02,  1.59786940e-01,  3.82599868e-02, -2.33852386e-01,\n",
      "        1.46289943e-02, -1.43812984e-01,  3.33470083e-03, -1.34363353e-01,\n",
      "        3.26751843e-02,  1.47967517e-01,  1.46246135e-01, -2.91308254e-01,\n",
      "       -1.17672563e-01, -7.67101571e-02, -3.51551741e-01,  1.30997747e-01,\n",
      "       -1.30086094e-01, -1.18245892e-02,  4.35015500e-01, -2.16122210e-01,\n",
      "        2.69359738e-01,  6.38241693e-02, -4.85291734e-04,  3.08311820e-01,\n",
      "       -6.08174019e-02, -1.45320624e-01,  2.12712303e-01,  1.85930222e-01,\n",
      "        6.42780913e-03,  1.06597684e-01, -4.08109695e-01,  2.83013076e-01,\n",
      "        2.26805359e-02, -6.02927692e-02,  1.11633077e-01, -2.14212164e-01,\n",
      "        2.55405363e-02,  2.17473447e-01,  5.56655191e-02, -4.98586483e-02,\n",
      "        1.77569911e-01,  1.38344346e-02, -1.21606626e-01,  2.41478533e-01,\n",
      "        2.59755790e-01, -9.76757854e-02, -1.08589977e-02,  3.60427856e-01,\n",
      "       -9.57653597e-02, -1.22208335e-01,  4.32787687e-02, -1.88586369e-01,\n",
      "        4.74330075e-02,  3.16056013e-01,  1.08109325e-01,  7.06080273e-02,\n",
      "        1.62972574e-04,  9.46614370e-02,  7.95501694e-02, -2.68496245e-01,\n",
      "        2.21303463e-01, -2.67342806e-01,  1.52929604e-01,  1.88024074e-01,\n",
      "       -9.17151868e-02,  7.63182789e-02, -2.21569940e-01,  1.39874518e-01,\n",
      "       -8.22855383e-02, -5.08457310e-02,  1.01665661e-01,  8.61823633e-02,\n",
      "       -8.22912827e-02,  3.22783776e-02, -4.40192223e-02,  1.91933811e-01,\n",
      "        2.44337067e-01,  2.60883663e-02,  1.04661845e-01, -2.99780816e-01,\n",
      "       -1.39990479e-01, -1.42429993e-01, -1.66256100e-01,  1.29996210e-01,\n",
      "        5.57189733e-02, -1.03835337e-01,  2.44408790e-02, -1.86116263e-01],\n",
      "      dtype=float32), '박박용현/학생/물리교육과전영훈': array([ 0.205588  ,  0.14095816, -0.13032395,  0.1496746 ,  0.17298047,\n",
      "       -0.27753043,  0.03701169,  0.35631204, -0.15025699, -0.12398472,\n",
      "       -0.13877128,  0.0361856 , -0.02766656,  0.16625305,  0.04711407,\n",
      "       -0.23091395,  0.01308162, -0.13945366,  0.00777019, -0.12933399,\n",
      "        0.03607843,  0.15567645,  0.14051773, -0.29105026, -0.1215299 ,\n",
      "       -0.07595695, -0.3536602 ,  0.13213289, -0.128011  , -0.01401325,\n",
      "        0.4431214 , -0.22242764,  0.2695819 ,  0.06959622,  0.00913221,\n",
      "        0.31073666, -0.05430923, -0.14499214,  0.22279052,  0.18676141,\n",
      "        0.00185069,  0.10688252, -0.41650298,  0.28351575,  0.0206028 ,\n",
      "       -0.0605388 ,  0.10648596, -0.2194883 ,  0.02167974,  0.21588162,\n",
      "        0.05833592, -0.04776511,  0.17852765,  0.008392  , -0.1250435 ,\n",
      "        0.24340937,  0.26780632, -0.09502742,  0.00142691,  0.37027103,\n",
      "       -0.09157412, -0.11708857,  0.05176682, -0.1949731 ,  0.05282426,\n",
      "        0.31715873,  0.11082508,  0.07696453,  0.00700846,  0.0922777 ,\n",
      "        0.07734425, -0.27082112,  0.23227926, -0.26270226,  0.15690441,\n",
      "        0.19880836, -0.10060746,  0.08296727, -0.21844679,  0.13548598,\n",
      "       -0.08147154, -0.05324142,  0.10268766,  0.0856538 , -0.08208347,\n",
      "        0.02914224, -0.03869733,  0.1911988 ,  0.25097987,  0.02485592,\n",
      "        0.09706051, -0.3002781 , -0.13607137, -0.14322798, -0.16726801,\n",
      "        0.13417055,  0.05349723, -0.10642004,  0.02730617, -0.19543009],\n",
      "      dtype=float32), '박박용현/학생/물리교육과': array([ 0.20215757,  0.13689479, -0.13291644,  0.15073735,  0.1711227 ,\n",
      "       -0.27392974,  0.03628499,  0.35614207, -0.15268648, -0.12282128,\n",
      "       -0.13779318,  0.04101552, -0.02385583,  0.1636114 ,  0.04504694,\n",
      "       -0.23068793,  0.01320485, -0.1401148 ,  0.00682577, -0.12942871,\n",
      "        0.03145459,  0.15070522,  0.14208287, -0.29130095, -0.12153226,\n",
      "       -0.07365485, -0.353339  ,  0.13235606, -0.12804647, -0.0150922 ,\n",
      "        0.43729645, -0.21746121,  0.2684516 ,  0.06404996,  0.00760741,\n",
      "        0.30918348, -0.05570916, -0.14615326,  0.21610636,  0.18717799,\n",
      "        0.00443241,  0.10666803, -0.41096076,  0.2836367 ,  0.02229434,\n",
      "       -0.05900636,  0.10779744, -0.21915956,  0.02087518,  0.2159204 ,\n",
      "        0.05666402, -0.04879976,  0.17917907,  0.01274334, -0.1245412 ,\n",
      "        0.240565  ,  0.2636789 , -0.09309773, -0.0056212 ,  0.3653604 ,\n",
      "       -0.09007293, -0.1178913 ,  0.04441189, -0.19054116,  0.05139368,\n",
      "        0.3169747 ,  0.10708398,  0.0721763 ,  0.00565123,  0.09297121,\n",
      "        0.07334582, -0.26630104,  0.22861966, -0.26243734,  0.15358499,\n",
      "        0.1955709 , -0.09527196,  0.07832719, -0.21865079,  0.13882472,\n",
      "       -0.08392908, -0.0513986 ,  0.10198315,  0.08311076, -0.08188259,\n",
      "        0.03167733, -0.03935181,  0.18848331,  0.24790557,  0.0282149 ,\n",
      "        0.09987344, -0.2986039 , -0.13885611, -0.14073521, -0.16623698,\n",
      "        0.13317668,  0.0536867 , -0.1021416 ,  0.02409151, -0.19089678],\n",
      "      dtype=float32), '임은선': array([ 0.21394007,  0.14764291, -0.12930767,  0.15049495,  0.17916887,\n",
      "       -0.2859545 ,  0.03727956,  0.3621477 , -0.14979535, -0.12775776,\n",
      "       -0.14062522,  0.03133547, -0.03377248,  0.17306739,  0.05154746,\n",
      "       -0.23511109,  0.01282923, -0.13909832,  0.01025596, -0.12912421,\n",
      "        0.0409479 ,  0.16423588,  0.14064676, -0.2957523 , -0.12549911,\n",
      "       -0.0790873 , -0.36066464,  0.13474491, -0.12788789, -0.01280423,\n",
      "        0.45904335, -0.23136006,  0.27481076,  0.07835806,  0.01368067,\n",
      "        0.318529  , -0.05213781, -0.14571352,  0.23504303,  0.19139436,\n",
      "       -0.00180366,  0.10952916, -0.43014783,  0.28786555,  0.0179335 ,\n",
      "       -0.06272143,  0.10590746, -0.22548081,  0.02115275,  0.21781577,\n",
      "        0.06049355, -0.04794129,  0.18091296,  0.00472856, -0.12803435,\n",
      "        0.25070295,  0.27868465, -0.09818368,  0.01280062,  0.38488495,\n",
      "       -0.09345638, -0.11699729,  0.06306032, -0.20407446,  0.05581315,\n",
      "        0.32360536,  0.11811802,  0.08514183,  0.01036196,  0.09349409,\n",
      "        0.08260253, -0.28133342,  0.24229774, -0.26566237,  0.16364038,\n",
      "        0.20740137, -0.108916  ,  0.09013052, -0.2219326 ,  0.13353635,\n",
      "       -0.08000194, -0.05608452,  0.10614687,  0.09062795, -0.08333272,\n",
      "        0.02733902, -0.03827932,  0.19699481,  0.25901112,  0.02064726,\n",
      "        0.0959424 , -0.30852708, -0.13551211, -0.14877787, -0.1720947 ,\n",
      "        0.13854636,  0.05490673, -0.11313833,  0.0315595 , -0.20544836],\n",
      "      dtype=float32), '박새록(사범대학교육공학과)': array([ 0.20626892,  0.14058925, -0.1317711 ,  0.14972161,  0.17369315,\n",
      "       -0.27766258,  0.03666184,  0.35720646, -0.1517292 , -0.12511422,\n",
      "       -0.13804832,  0.0375741 , -0.02744645,  0.16741006,  0.04726107,\n",
      "       -0.23218651,  0.01306589, -0.13916247,  0.00833836, -0.12830955,\n",
      "        0.03506191,  0.15523452,  0.14096034, -0.29288772, -0.12317608,\n",
      "       -0.0753801 , -0.35503274,  0.13269076, -0.12731604, -0.01420088,\n",
      "        0.44519097, -0.2219805 ,  0.2704717 ,  0.06938261,  0.01031035,\n",
      "        0.31190464, -0.0544279 , -0.14599968,  0.22283342,  0.18950579,\n",
      "        0.00251664,  0.10772293, -0.4175542 ,  0.2848884 ,  0.02072185,\n",
      "       -0.06026754,  0.10647945, -0.22220674,  0.02104873,  0.21581432,\n",
      "        0.05817999, -0.04869458,  0.18001527,  0.01031069, -0.12570451,\n",
      "        0.24400719,  0.26921263, -0.09463394,  0.00140591,  0.3715002 ,\n",
      "       -0.09176607, -0.11690304,  0.05145187, -0.19572464,  0.05318546,\n",
      "        0.3187724 ,  0.11066924,  0.07669137,  0.00788733,  0.09352195,\n",
      "        0.07588227, -0.271302  ,  0.23381846, -0.26267248,  0.15763341,\n",
      "        0.2001965 , -0.09980419,  0.08294886, -0.2196688 ,  0.1360167 ,\n",
      "       -0.08285382, -0.05312255,  0.10293197,  0.08644744, -0.08241846,\n",
      "        0.03012706, -0.03889382,  0.19063558,  0.2521445 ,  0.02486475,\n",
      "        0.09794486, -0.30219015, -0.1380934 , -0.14361662, -0.16848935,\n",
      "        0.13471004,  0.05438533, -0.10564779,  0.02672989, -0.19659504],\n",
      "      dtype=float32), '이이홍규': array([ 0.2152485 ,  0.14907645, -0.1288111 ,  0.14991409,  0.17894514,\n",
      "       -0.28846276,  0.03891166,  0.36229882, -0.15068187, -0.12705511,\n",
      "       -0.14441912,  0.02728018, -0.03468017,  0.17320362,  0.04998638,\n",
      "       -0.23607467,  0.01308188, -0.14077342,  0.00904883, -0.13174206,\n",
      "        0.04448858,  0.16699032,  0.14173974, -0.29566467, -0.12264276,\n",
      "       -0.08254839, -0.36027813,  0.13499506, -0.13066362, -0.01085457,\n",
      "        0.46199486, -0.23450579,  0.27611002,  0.08124456,  0.01093268,\n",
      "        0.3191412 , -0.05394987, -0.144463  ,  0.23828241,  0.18952794,\n",
      "       -0.00321126,  0.10859588, -0.43292436,  0.28723097,  0.01819249,\n",
      "       -0.06545685,  0.10708614, -0.22305088,  0.0242736 ,  0.21877137,\n",
      "        0.06159157, -0.04689265,  0.18005943,  0.0011986 , -0.12714067,\n",
      "        0.25358173,  0.27998614, -0.10213741,  0.01445967,  0.3858649 ,\n",
      "       -0.09652667, -0.11828616,  0.06648008, -0.20660162,  0.05552897,\n",
      "        0.32280904,  0.12052515,  0.08686475,  0.00878744,  0.09301616,\n",
      "        0.08811226, -0.28532168,  0.24158347, -0.26922885,  0.16661054,\n",
      "        0.20701925, -0.11159984,  0.09253218, -0.22220501,  0.1312462 ,\n",
      "       -0.07765093, -0.05631191,  0.10607305,  0.092395  , -0.08442232,\n",
      "        0.02533309, -0.03897725,  0.20069225,  0.2601174 ,  0.01852326,\n",
      "        0.09561688, -0.30964363, -0.13348001, -0.15048423, -0.1726476 ,\n",
      "        0.13778833,  0.05529334, -0.1172115 ,  0.03431113, -0.20694387],\n",
      "      dtype=float32)}\n"
     ]
    }
   ],
   "source": [
    "\n",
    "import numpy as np\n",
    "def get_mean_vector_sent(input_sentence, embedding_model): \n",
    "\n",
    "    tokens = cleaner.decompozer_text2(input_sentence)   # 입력 문장 -> 토크나이징 -> 자모화\n",
    "    tokens = [tk for tk in tokens if tk in list(embedding_model.wv.index_to_key)]  # vocab에 있는 토큰만 필터링\n",
    "\n",
    "    if len(tokens) > 0:   # 문장에서 벡터화 할 토큰이 있으면\n",
    "        return np.mean(embedding_model.wv[tokens], axis=0)  # 벡터화 후 그 평균을 반환\n",
    "    else:\n",
    "        return float('NaN')  # 없으면 NaN 반환\n",
    "    \n",
    "\n",
    "    \n",
    "# def get_mean_vector_list(input_sentence_list, embedding_model): \n",
    "\n",
    "#     total_vectors = []\n",
    "\n",
    "#     for input_sentence in input_sentence_list:\n",
    "#         tokens = decompozer_text2(input_sentence)   # 입력 문장 -> 토크나이징 -> 자모화\n",
    "#         tokens = [tk for tk in tokens if tk in embedding_model.wv.vocab]  # vocab에 있는 토큰만 필터링\n",
    "\n",
    "#         if len(tokens) > 0:   # 문장에서 벡터화 할 토큰이 있으면\n",
    "#             total_vectors.append( list(embedding_model.wv[tokens]) ) # 벡터값들을 누적 기록\n",
    "#         else:\n",
    "#             continue\n",
    "\n",
    "#     total_vectors = [x for y in total_vectors for x in y]   # 댓글 수 x 각 댓글 토큰 수 x 임베딩 차원 수 -> 모든 토큰 수 x 임베딩 차원 수 로 reshape        \n",
    "        \n",
    "#     return np.mean(total_vectors, axis=0)  # 전체 벡터 평균을 반환\n",
    "\n",
    "mean_dict = {}\n",
    "\n",
    "for k, v in ClEANED.items():\n",
    "    mean_dict[k] = get_mean_vector_sent(v['content'], fT_model) \n",
    "\n",
    "print(mean_dict)"
   ]
  },
  {
   "cell_type": "code",
   "execution_count": 20,
   "metadata": {},
   "outputs": [
    {
     "name": "stdout",
     "output_type": "stream",
     "text": [
      "[ 136.36214    85.90518    99.99184    89.72576    86.871284  -57.44218\n",
      " -209.7432   -144.3878    146.4388    202.08989   -37.49336    41.54719\n",
      " -170.59557   -85.24598  -226.78308 ]\n"
     ]
    }
   ],
   "source": [
    "import matplotlib.pyplot as plt\n",
    "from sklearn.manifold import TSNE\n",
    "import matplotlib as mpl\n",
    "from sklearn import preprocessing\n",
    "\n",
    "\n",
    "plt.rcParams[\"font.family\"] = 'malgun gothic'  # font setting for windows\n",
    "mpl.rcParams['axes.unicode_minus'] = False\n",
    "\n",
    "random_state = 43\n",
    "\n",
    "model = TSNE(learning_rate=100, metric='cosine', n_jobs=-1, \n",
    "             perplexity = 5, \n",
    "             random_state = random_state)\n",
    "transformed = model.fit_transform(list(mean_dict.values()))\n",
    "transformed\n",
    "\n",
    "\n",
    "xs = transformed[:,0]\n",
    "ys = transformed[:,1]\n",
    "print(xs)"
   ]
  },
  {
   "cell_type": "code",
   "execution_count": 21,
   "metadata": {},
   "outputs": [
    {
     "data": {
      "text/plain": [
       "dict_keys(['UNGGILEE', '송유경', 'JunoHwang', '성지훈', '이재용', 'JuhongEom', '원지영(교육대학원교육학과)', 'Hyun-G,Kwon', '전영훈', 'YYoonheeHam', '박박용현/학생/물리교육과전영훈', '박박용현/학생/물리교육과', '임은선', '박새록(사범대학교육공학과)', '이이홍규'])"
      ]
     },
     "execution_count": 21,
     "metadata": {},
     "output_type": "execute_result"
    }
   ],
   "source": [
    "mean_dict.keys()"
   ]
  },
  {
   "cell_type": "code",
   "execution_count": 24,
   "metadata": {},
   "outputs": [
    {
     "data": {
      "image/png": "[encoded data removed]",
      "text/plain": [
       "<Figure size 1152x720 with 1 Axes>"
      ]
     },
     "metadata": {
      "needs_background": "light"
     },
     "output_type": "display_data"
    }
   ],
   "source": [
    "marker_dict = [\n",
    "    ['$①$', 'gray'],\n",
    "    ['$②$', 'darkgrey'],\n",
    "    ['$③$', 'silver'],\n",
    "    ['$④$', 'darkviolet'],\n",
    "    ['$④$', 'red'],\n",
    "    ['$⑤$', 'green'],\n",
    "    ['$⑥$', 'purple'],\n",
    "\n",
    "    ['$\\spadesuit$', 'gray'],\n",
    "    ['$\\spadesuit$', 'red'],\n",
    "\n",
    "    ['$\\u2665$', 'red'], # -> 속이 찬 하트의 유니코드\n",
    "    ['$\\u2665$', 'green'],\n",
    "\n",
    "    ['$\\u25C6$', 'green'],  # -> 속이 찬 다이아몬드의 유니코드\n",
    "    ['$\\u25C6$', 'purple'],\n",
    "\n",
    "    ['$\\clubsuit$', 'blue'],\n",
    "    ['$\\clubsuit$', 'gray'],\n",
    "    ['$\\clubsuit$', 'silver'],\n",
    "    ['$\\clubsuit$', 'red'],\n",
    "    ['$\\clubsuit$', 'green'],\n",
    "]\n",
    "\n",
    "fig = plt.figure(figsize=(16,10))\n",
    "newLabel = []\n",
    "for idx, (people, marker) in enumerate(zip(mean_dict.keys(), marker_dict)):\n",
    "    cleaned_name = people[0] + 'O' + people[-1]\n",
    "    newLabel.append(cleaned_name)\n",
    "    \n",
    "    scatter = plt.scatter(\n",
    "        xs[idx], ys[idx], # plot x & y\n",
    "        label = newLabel[idx],\n",
    "        marker = marker[0],\n",
    "        c= marker[1], # color\n",
    "        s= 250, alpha=0.7\n",
    "    )\n",
    "    \n",
    "\n",
    "plt.title('\\n2021 STELA 발제문 유사도\\n', fontsize=25)\n",
    "plt.legend(labels= newLabel,\n",
    "            # loc = 'upper right'\n",
    "            loc = 'best'\n",
    "            )\n",
    "plt.savefig(os.path.join(BASE_DIR, 'RESULT', 'result_tsne.png'))\n",
    "plt.show()"
   ]
  },
  {
   "cell_type": "code",
   "execution_count": null,
   "metadata": {},
   "outputs": [],
   "source": []
  }
 ],
 "metadata": {
  "kernelspec": {
   "display_name": "Python 3.8.2 64-bit ('{huni}': pyenv)",
   "language": "python",
   "name": "python3"
  },
  "language_info": {
   "codemirror_mode": {
    "name": "ipython",
    "version": 3
   },
   "file_extension": ".py",
   "mimetype": "text/x-python",
   "name": "python",
   "nbconvert_exporter": "python",
   "pygments_lexer": "ipython3",
   "version": "3.8.2"
  },
  "orig_nbformat": 4,
  "vscode": {
   "interpreter": {
    "hash": "6759f8f029089d11794c1cc9cf7a24be0c22d8786d9aebb0d861f27dfe2c888b"
   }
  }
 },
 "nbformat": 4,
 "nbformat_minor": 2
}
