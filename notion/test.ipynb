{
 "cells": [
  {
   "cell_type": "code",
   "execution_count": 88,
   "metadata": {},
   "outputs": [
    {
     "name": "stdout",
     "output_type": "stream",
     "text": [
      "Current OS :  darwin\n"
     ]
    }
   ],
   "source": [
    "from selenium.common.exceptions import NoSuchElementException, UnexpectedAlertPresentException, ElementNotInteractableException, StaleElementReferenceException\n",
    "from selenium.webdriver.common.by import By\n",
    "from selenium.webdriver.support import expected_conditions as EC\n",
    "from selenium.webdriver.support.ui import WebDriverWait\n",
    "from selenium.webdriver.common.alert import Alert\n",
    "from selenium.webdriver.common.keys import Keys\n",
    "from selenium.webdriver import ActionChains\n",
    "from selenium import webdriver\n",
    "import os\n",
    "import re\n",
    "import time\n",
    "import datetime\n",
    "import pickle\n",
    "import warnings\n",
    "import pandas as pd\n",
    "from sys import platform\n",
    "from tqdm import tqdm\n",
    "warnings.filterwarnings('ignore')\n",
    "\n",
    "\n",
    "chrome_opt = webdriver.ChromeOptions()\n",
    "\n",
    "\n",
    "print('Current OS : ', platform)\n",
    "if 'darwin' in platform:\n",
    "    selen_path = '/Users/huni/Dropbox/내 Mac (MacBook-Pro.local)/Downloads/chromedriver'\n",
    "    chrome_opt.add_argument('--kiosk')\n",
    "\n",
    "elif 'win32' in platform:\n",
    "    # to unable image\n",
    "    chrome_opt.add_experimental_option(\"excludeSwitches\", [\"enable-logging\"])\n",
    "    prefs = {\"profile.managed_default_content_settings.images\": 2}\n",
    "    chrome_opt.add_experimental_option(\"prefs\", prefs)\n",
    "    chrome_opt.add_argument('--start-maximized')\n",
    "\n",
    "    selen_path = r'C:\\Users\\jhun1\\Dropbox\\My PC (LAPTOP-VLNR6K8R)\\Downloads\\chromedriver_win32\\chromedriver'\n",
    "\n",
    "\n",
    "\n",
    "def setup(selenium=selen_path,\n",
    "          option=chrome_opt):\n",
    "    web_driver = webdriver.Chrome(\n",
    "        executable_path=selen_path, chrome_options=chrome_opt)\n",
    "    ACC = ActionChains(web_driver)\n",
    "    return web_driver, ACC\n",
    "\n",
    "\n",
    "def D1(main_page_lk,  # 메인페이지 링크\n",
    "        test_opt=False,  # 테스트 할 때\n",
    "       ):\n",
    "    global driver, ACC\n",
    "    driver.get(main_page_lk)\n",
    "    df = []\n",
    "\n",
    "    # crawler\n",
    "    # 한줄 한줄 마우스 올려서 href 확인하기\n",
    "    # 날짜, 제목, 링크, 발제자\n",
    "    # Table = driver.find_element_by_class_name('notino-table-view')\n",
    "    time.sleep(3)\n",
    "    Table = driver.find_element_by_css_selector(\n",
    "        '#notion-app > div > div.notion-cursor-listener > div > div.notion-frame > div.notion-scroller.vertical.horizontal > div:nth-child(3) > div > div > div.notion-selectable.notion-collection_view_page-block > div:nth-child(3)')\n",
    "    if test_opt == True:\n",
    "        print(type(Table))\n",
    "\n",
    "    for idx in tqdm(range(1, 50), desc='>> crawling each page meta info..'):\n",
    "        temp = {}\n",
    "\n",
    "        try:\n",
    "            each_block = Table.find_element_by_css_selector(\n",
    "                f'#notion-app > div > div.notion-cursor-listener > div > div.notion-frame > div.notion-scroller.vertical.horizontal > div:nth-child(3) > div > div > div.notion-selectable.notion-collection_view_page-block > div:nth-child(3) > div:nth-child({idx+1})')\n",
    "        except NoSuchElementException:\n",
    "            print('crawling finished in: ', idx)\n",
    "            break\n",
    "\n",
    "        title_block = each_block.find_element_by_css_selector(\n",
    "            'div:nth-child(5) > div:nth-child(1)')\n",
    "        title = title_block.text\n",
    "        temp['title'] = title\n",
    "        day = each_block.find_element_by_css_selector('div:nth-child(1)').text\n",
    "        temp['day'] = day\n",
    "        people = each_block.find_element_by_css_selector(\n",
    "            'div:nth-child(6)').text\n",
    "        temp['people'] = people\n",
    "\n",
    "        ACC.move_to_element(title_block).perform()\n",
    "        # href_block = Table.find_element_by_css_selector(\n",
    "        #     '#notion-app > div > div.notion-overlay-container.notion-default-overlay-container > div:nth-child(2) > div > div:nth-child(2) > div:nth-child(1) > div:nth-child(1) > a')\n",
    "        open_block = title_block.find_element_by_css_selector('#notion-app > div > div.notion-overlay-container.notion-default-overlay-container > div:nth-child(2)')\n",
    "        ACC.move_to_element(open_block).click().perform()\n",
    "        link = open_block.get_attribute('href')\n",
    "\n",
    "        # if test_opt == True and idx == 1:\n",
    "        #     break\n",
    "        # open_block =\n",
    "        # ACC.move_to_element()\n",
    "        # link = each_block.find_element_by_css_selector('pointer-events')\n",
    "\n",
    "        temp['link'] = link\n",
    "        df.append(temp)\n",
    "\n",
    "        if test_opt == True:\n",
    "            print(f'{idx}에서 {title}이 나오고, {people}이 발제했고, {day}에 이루어짐, {link}')\n",
    "\n",
    "    return df"
   ]
  },
  {
   "cell_type": "code",
   "execution_count": 40,
   "metadata": {},
   "outputs": [
    {
     "name": "stderr",
     "output_type": "stream",
     "text": [
      ">> crawling each page meta info..:   0%|          | 0/49 [00:00<?, ?it/s]\n"
     ]
    },
    {
     "ename": "NoSuchElementException",
     "evalue": "Message: no such element: Unable to locate element: {\"method\":\"css selector\",\"selector\":\"#notion-app > div > div.notion-overlay-container.notion-default-overlay-container > div:nth-child(2)\"}\n  (Session info: chrome=98.0.4758.109)\n",
     "output_type": "error",
     "traceback": [
      "\u001b[0;31m---------------------------------------------------------------------------\u001b[0m",
      "\u001b[0;31mNoSuchElementException\u001b[0m                    Traceback (most recent call last)",
      "\u001b[0;32m<ipython-input-40-0ccd53524845>\u001b[0m in \u001b[0;36m<module>\u001b[0;34m\u001b[0m\n\u001b[1;32m      1\u001b[0m \u001b[0mdriver\u001b[0m\u001b[0;34m,\u001b[0m \u001b[0mACC\u001b[0m \u001b[0;34m=\u001b[0m \u001b[0msetup\u001b[0m\u001b[0;34m(\u001b[0m\u001b[0;34m)\u001b[0m\u001b[0;34m\u001b[0m\u001b[0;34m\u001b[0m\u001b[0m\n\u001b[0;32m----> 2\u001b[0;31m rs1 = D1(main_page_lk='https://dndrl.notion.site/28b270dfd58d497cbd031f457f02ed92?v=c081bcadc88a486683c7e7325ea99174',\n\u001b[0m\u001b[1;32m      3\u001b[0m              \u001b[0mtest_opt\u001b[0m\u001b[0;34m=\u001b[0m\u001b[0;32mFalse\u001b[0m\u001b[0;34m,\u001b[0m\u001b[0;34m\u001b[0m\u001b[0;34m\u001b[0m\u001b[0m\n\u001b[1;32m      4\u001b[0m              )\n",
      "\u001b[0;32m<ipython-input-2-ea5b52f50d6f>\u001b[0m in \u001b[0;36mD1\u001b[0;34m(main_page_lk, test_opt)\u001b[0m\n\u001b[1;32m     86\u001b[0m         \u001b[0;31m# href_block = Table.find_element_by_css_selector(\u001b[0m\u001b[0;34m\u001b[0m\u001b[0;34m\u001b[0m\u001b[0;34m\u001b[0m\u001b[0m\n\u001b[1;32m     87\u001b[0m         \u001b[0;31m#     '#notion-app > div > div.notion-overlay-container.notion-default-overlay-container > div:nth-child(2) > div > div:nth-child(2) > div:nth-child(1) > div:nth-child(1) > a')\u001b[0m\u001b[0;34m\u001b[0m\u001b[0;34m\u001b[0m\u001b[0;34m\u001b[0m\u001b[0m\n\u001b[0;32m---> 88\u001b[0;31m         \u001b[0mopen_block\u001b[0m \u001b[0;34m=\u001b[0m \u001b[0mtitle_block\u001b[0m\u001b[0;34m.\u001b[0m\u001b[0mfind_element_by_css_selector\u001b[0m\u001b[0;34m(\u001b[0m\u001b[0;34m'#notion-app > div > div.notion-overlay-container.notion-default-overlay-container > div:nth-child(2)'\u001b[0m\u001b[0;34m)\u001b[0m\u001b[0;34m\u001b[0m\u001b[0;34m\u001b[0m\u001b[0m\n\u001b[0m\u001b[1;32m     89\u001b[0m         \u001b[0mACC\u001b[0m\u001b[0;34m.\u001b[0m\u001b[0mmove_to_element\u001b[0m\u001b[0;34m(\u001b[0m\u001b[0mopen_block\u001b[0m\u001b[0;34m)\u001b[0m\u001b[0;34m.\u001b[0m\u001b[0mclick\u001b[0m\u001b[0;34m(\u001b[0m\u001b[0;34m)\u001b[0m\u001b[0;34m.\u001b[0m\u001b[0mperform\u001b[0m\u001b[0;34m(\u001b[0m\u001b[0;34m)\u001b[0m\u001b[0;34m\u001b[0m\u001b[0;34m\u001b[0m\u001b[0m\n\u001b[1;32m     90\u001b[0m         \u001b[0mlink\u001b[0m \u001b[0;34m=\u001b[0m \u001b[0mopen_block\u001b[0m\u001b[0;34m.\u001b[0m\u001b[0mget_attribute\u001b[0m\u001b[0;34m(\u001b[0m\u001b[0;34m'href'\u001b[0m\u001b[0;34m)\u001b[0m\u001b[0;34m\u001b[0m\u001b[0;34m\u001b[0m\u001b[0m\n",
      "\u001b[0;32m~/.pyenv/versions/3.8.2/envs/{huni}/lib/python3.8/site-packages/selenium/webdriver/remote/webelement.py\u001b[0m in \u001b[0;36mfind_element_by_css_selector\u001b[0;34m(self, css_selector)\u001b[0m\n\u001b[1;32m    428\u001b[0m             \u001b[0melement\u001b[0m \u001b[0;34m=\u001b[0m \u001b[0melement\u001b[0m\u001b[0;34m.\u001b[0m\u001b[0mfind_element_by_css_selector\u001b[0m\u001b[0;34m(\u001b[0m\u001b[0;34m'#foo'\u001b[0m\u001b[0;34m)\u001b[0m\u001b[0;34m\u001b[0m\u001b[0;34m\u001b[0m\u001b[0m\n\u001b[1;32m    429\u001b[0m         \"\"\"\n\u001b[0;32m--> 430\u001b[0;31m         \u001b[0;32mreturn\u001b[0m \u001b[0mself\u001b[0m\u001b[0;34m.\u001b[0m\u001b[0mfind_element\u001b[0m\u001b[0;34m(\u001b[0m\u001b[0mby\u001b[0m\u001b[0;34m=\u001b[0m\u001b[0mBy\u001b[0m\u001b[0;34m.\u001b[0m\u001b[0mCSS_SELECTOR\u001b[0m\u001b[0;34m,\u001b[0m \u001b[0mvalue\u001b[0m\u001b[0;34m=\u001b[0m\u001b[0mcss_selector\u001b[0m\u001b[0;34m)\u001b[0m\u001b[0;34m\u001b[0m\u001b[0;34m\u001b[0m\u001b[0m\n\u001b[0m\u001b[1;32m    431\u001b[0m \u001b[0;34m\u001b[0m\u001b[0m\n\u001b[1;32m    432\u001b[0m     \u001b[0;32mdef\u001b[0m \u001b[0mfind_elements_by_css_selector\u001b[0m\u001b[0;34m(\u001b[0m\u001b[0mself\u001b[0m\u001b[0;34m,\u001b[0m \u001b[0mcss_selector\u001b[0m\u001b[0;34m)\u001b[0m\u001b[0;34m:\u001b[0m\u001b[0;34m\u001b[0m\u001b[0;34m\u001b[0m\u001b[0m\n",
      "\u001b[0;32m~/.pyenv/versions/3.8.2/envs/{huni}/lib/python3.8/site-packages/selenium/webdriver/remote/webelement.py\u001b[0m in \u001b[0;36mfind_element\u001b[0;34m(self, by, value)\u001b[0m\n\u001b[1;32m    656\u001b[0m                 \u001b[0mvalue\u001b[0m \u001b[0;34m=\u001b[0m \u001b[0;34m'[name=\"%s\"]'\u001b[0m \u001b[0;34m%\u001b[0m \u001b[0mvalue\u001b[0m\u001b[0;34m\u001b[0m\u001b[0;34m\u001b[0m\u001b[0m\n\u001b[1;32m    657\u001b[0m \u001b[0;34m\u001b[0m\u001b[0m\n\u001b[0;32m--> 658\u001b[0;31m         return self._execute(Command.FIND_CHILD_ELEMENT,\n\u001b[0m\u001b[1;32m    659\u001b[0m                              {\"using\": by, \"value\": value})['value']\n\u001b[1;32m    660\u001b[0m \u001b[0;34m\u001b[0m\u001b[0m\n",
      "\u001b[0;32m~/.pyenv/versions/3.8.2/envs/{huni}/lib/python3.8/site-packages/selenium/webdriver/remote/webelement.py\u001b[0m in \u001b[0;36m_execute\u001b[0;34m(self, command, params)\u001b[0m\n\u001b[1;32m    631\u001b[0m             \u001b[0mparams\u001b[0m \u001b[0;34m=\u001b[0m \u001b[0;34m{\u001b[0m\u001b[0;34m}\u001b[0m\u001b[0;34m\u001b[0m\u001b[0;34m\u001b[0m\u001b[0m\n\u001b[1;32m    632\u001b[0m         \u001b[0mparams\u001b[0m\u001b[0;34m[\u001b[0m\u001b[0;34m'id'\u001b[0m\u001b[0;34m]\u001b[0m \u001b[0;34m=\u001b[0m \u001b[0mself\u001b[0m\u001b[0;34m.\u001b[0m\u001b[0m_id\u001b[0m\u001b[0;34m\u001b[0m\u001b[0;34m\u001b[0m\u001b[0m\n\u001b[0;32m--> 633\u001b[0;31m         \u001b[0;32mreturn\u001b[0m \u001b[0mself\u001b[0m\u001b[0;34m.\u001b[0m\u001b[0m_parent\u001b[0m\u001b[0;34m.\u001b[0m\u001b[0mexecute\u001b[0m\u001b[0;34m(\u001b[0m\u001b[0mcommand\u001b[0m\u001b[0;34m,\u001b[0m \u001b[0mparams\u001b[0m\u001b[0;34m)\u001b[0m\u001b[0;34m\u001b[0m\u001b[0;34m\u001b[0m\u001b[0m\n\u001b[0m\u001b[1;32m    634\u001b[0m \u001b[0;34m\u001b[0m\u001b[0m\n\u001b[1;32m    635\u001b[0m     \u001b[0;32mdef\u001b[0m \u001b[0mfind_element\u001b[0m\u001b[0;34m(\u001b[0m\u001b[0mself\u001b[0m\u001b[0;34m,\u001b[0m \u001b[0mby\u001b[0m\u001b[0;34m=\u001b[0m\u001b[0mBy\u001b[0m\u001b[0;34m.\u001b[0m\u001b[0mID\u001b[0m\u001b[0;34m,\u001b[0m \u001b[0mvalue\u001b[0m\u001b[0;34m=\u001b[0m\u001b[0;32mNone\u001b[0m\u001b[0;34m)\u001b[0m\u001b[0;34m:\u001b[0m\u001b[0;34m\u001b[0m\u001b[0;34m\u001b[0m\u001b[0m\n",
      "\u001b[0;32m~/.pyenv/versions/3.8.2/envs/{huni}/lib/python3.8/site-packages/selenium/webdriver/remote/webdriver.py\u001b[0m in \u001b[0;36mexecute\u001b[0;34m(self, driver_command, params)\u001b[0m\n\u001b[1;32m    319\u001b[0m         \u001b[0mresponse\u001b[0m \u001b[0;34m=\u001b[0m \u001b[0mself\u001b[0m\u001b[0;34m.\u001b[0m\u001b[0mcommand_executor\u001b[0m\u001b[0;34m.\u001b[0m\u001b[0mexecute\u001b[0m\u001b[0;34m(\u001b[0m\u001b[0mdriver_command\u001b[0m\u001b[0;34m,\u001b[0m \u001b[0mparams\u001b[0m\u001b[0;34m)\u001b[0m\u001b[0;34m\u001b[0m\u001b[0;34m\u001b[0m\u001b[0m\n\u001b[1;32m    320\u001b[0m         \u001b[0;32mif\u001b[0m \u001b[0mresponse\u001b[0m\u001b[0;34m:\u001b[0m\u001b[0;34m\u001b[0m\u001b[0;34m\u001b[0m\u001b[0m\n\u001b[0;32m--> 321\u001b[0;31m             \u001b[0mself\u001b[0m\u001b[0;34m.\u001b[0m\u001b[0merror_handler\u001b[0m\u001b[0;34m.\u001b[0m\u001b[0mcheck_response\u001b[0m\u001b[0;34m(\u001b[0m\u001b[0mresponse\u001b[0m\u001b[0;34m)\u001b[0m\u001b[0;34m\u001b[0m\u001b[0;34m\u001b[0m\u001b[0m\n\u001b[0m\u001b[1;32m    322\u001b[0m             response['value'] = self._unwrap_value(\n\u001b[1;32m    323\u001b[0m                 response.get('value', None))\n",
      "\u001b[0;32m~/.pyenv/versions/3.8.2/envs/{huni}/lib/python3.8/site-packages/selenium/webdriver/remote/errorhandler.py\u001b[0m in \u001b[0;36mcheck_response\u001b[0;34m(self, response)\u001b[0m\n\u001b[1;32m    240\u001b[0m                 \u001b[0malert_text\u001b[0m \u001b[0;34m=\u001b[0m \u001b[0mvalue\u001b[0m\u001b[0;34m[\u001b[0m\u001b[0;34m'alert'\u001b[0m\u001b[0;34m]\u001b[0m\u001b[0;34m.\u001b[0m\u001b[0mget\u001b[0m\u001b[0;34m(\u001b[0m\u001b[0;34m'text'\u001b[0m\u001b[0;34m)\u001b[0m\u001b[0;34m\u001b[0m\u001b[0;34m\u001b[0m\u001b[0m\n\u001b[1;32m    241\u001b[0m             \u001b[0;32mraise\u001b[0m \u001b[0mexception_class\u001b[0m\u001b[0;34m(\u001b[0m\u001b[0mmessage\u001b[0m\u001b[0;34m,\u001b[0m \u001b[0mscreen\u001b[0m\u001b[0;34m,\u001b[0m \u001b[0mstacktrace\u001b[0m\u001b[0;34m,\u001b[0m \u001b[0malert_text\u001b[0m\u001b[0;34m)\u001b[0m\u001b[0;34m\u001b[0m\u001b[0;34m\u001b[0m\u001b[0m\n\u001b[0;32m--> 242\u001b[0;31m         \u001b[0;32mraise\u001b[0m \u001b[0mexception_class\u001b[0m\u001b[0;34m(\u001b[0m\u001b[0mmessage\u001b[0m\u001b[0;34m,\u001b[0m \u001b[0mscreen\u001b[0m\u001b[0;34m,\u001b[0m \u001b[0mstacktrace\u001b[0m\u001b[0;34m)\u001b[0m\u001b[0;34m\u001b[0m\u001b[0;34m\u001b[0m\u001b[0m\n\u001b[0m\u001b[1;32m    243\u001b[0m \u001b[0;34m\u001b[0m\u001b[0m\n\u001b[1;32m    244\u001b[0m     \u001b[0;32mdef\u001b[0m \u001b[0m_value_or_default\u001b[0m\u001b[0;34m(\u001b[0m\u001b[0mself\u001b[0m\u001b[0;34m,\u001b[0m \u001b[0mobj\u001b[0m\u001b[0;34m,\u001b[0m \u001b[0mkey\u001b[0m\u001b[0;34m,\u001b[0m \u001b[0mdefault\u001b[0m\u001b[0;34m)\u001b[0m\u001b[0;34m:\u001b[0m\u001b[0;34m\u001b[0m\u001b[0;34m\u001b[0m\u001b[0m\n",
      "\u001b[0;31mNoSuchElementException\u001b[0m: Message: no such element: Unable to locate element: {\"method\":\"css selector\",\"selector\":\"#notion-app > div > div.notion-overlay-container.notion-default-overlay-container > div:nth-child(2)\"}\n  (Session info: chrome=98.0.4758.109)\n"
     ]
    }
   ],
   "source": [
    "driver, ACC = setup()\n",
    "rs1 = D1(main_page_lk='https://dndrl.notion.site/28b270dfd58d497cbd031f457f02ed92?v=c081bcadc88a486683c7e7325ea99174',\n",
    "             test_opt=False,\n",
    "             )"
   ]
  },
  {
   "cell_type": "code",
   "execution_count": 72,
   "metadata": {},
   "outputs": [
    {
     "name": "stdout",
     "output_type": "stream",
     "text": [
      "에러 발생:\n",
      "None\n"
     ]
    }
   ],
   "source": [
    "Table = driver.find_element_by_css_selector(\n",
    "        '#notion-app > div > div.notion-cursor-listener > div > div.notion-frame > div.notion-scroller.vertical.horizontal > div:nth-child(3) > div > div > div.notion-selectable.notion-collection_view_page-block > div:nth-child(3)')\n",
    "each_block = Table.find_element_by_css_selector(\n",
    "                f'#notion-app > div > div.notion-cursor-listener > div > div.notion-frame > div.notion-scroller.vertical.horizontal > div:nth-child(3) > div > div > div.notion-selectable.notion-collection_view_page-block > div:nth-child(3) > div:nth-child({2})')\n",
    "title_block = each_block.find_element_by_css_selector(\n",
    "            'div:nth-child(5) > div:nth-child(1)')\n",
    "\n",
    "### try1 \n",
    "# ACC.move_to_element_with_offset(title_block, 200, 0)\n",
    "# ACC.click().perform()\n",
    "\n",
    "### try2: https://stackoverflow.com/questions/12323403/how-do-i-find-an-element-that-contains-specific-text-in-selenium-webdriver-pyth\n",
    "# test_block = title_block.find_element_by_xpath(\"//*[contains(text(), 'Theory')]\")\n",
    "# ACC.move_to_element(test_block)\n",
    "# ACC.click() # perform까지가면 ElementNotInteractableException 뜸\n",
    "# # t1.\n",
    "# refind_table = driver.find_element_by_css_selector('#notion-app > div > div.notion-cursor-listener > div > div.notion-frame > div.notion-scroller.vertical.horizontal > div:nth-child(3) > div > div > div.notion-selectable.notion-collection_view_page-block > div:nth-child(3)')\n",
    "# open_block = refind_table.find_element_by_xpath(\"//*[contains(text(), 'OPEN')]\")\n",
    "# ACC.move_to_element(open_block)\n",
    "# ACC.click()\n",
    "# ACC.perform() \n",
    "\n",
    "\n",
    "### try3: pyautogui\n",
    "import pyautogui as pg\n",
    "from PIL import ImageGrab\n",
    "from functools import partial\n",
    "ImageGrab.grab = partial(ImageGrab.grab, all_screens=True)\n",
    "ACC.move_to_element(title_block)\n",
    "try:\n",
    "        ACC.perform() # to prevent ElementNotInteractableException\n",
    "except ElementNotInteractableException:\n",
    "        print('에러 발생:')\n",
    "        pdf_con = pg.locateCenterOnScreen(f'{os.getcwd()}/OPEN.png', grayscale=True, confidence=0.7)\n",
    "        print(pdf_con)\n",
    "        pg.click()"
   ]
  },
  {
   "cell_type": "code",
   "execution_count": null,
   "metadata": {},
   "outputs": [],
   "source": []
  },
  {
   "cell_type": "code",
   "execution_count": 11,
   "metadata": {},
   "outputs": [],
   "source": [
    "ACC.click(on_element=title_block).perform()\n",
    "# 이러면 단순하게 제목 블록이 클릭만됨"
   ]
  },
  {
   "cell_type": "code",
   "execution_count": 9,
   "metadata": {},
   "outputs": [
    {
     "ename": "NoSuchElementException",
     "evalue": "Message: no such element: Unable to locate element: {\"method\":\"css selector\",\"selector\":\"#notion-app > div > div.notion-overlay-container.notion-default-overlay-container > div:nth-child(2)\"}\n  (Session info: chrome=98.0.4758.109)\n",
     "output_type": "error",
     "traceback": [
      "\u001b[0;31m---------------------------------------------------------------------------\u001b[0m",
      "\u001b[0;31mNoSuchElementException\u001b[0m                    Traceback (most recent call last)",
      "\u001b[0;32m<ipython-input-9-5632ad909c06>\u001b[0m in \u001b[0;36m<module>\u001b[0;34m\u001b[0m\n\u001b[0;32m----> 1\u001b[0;31m \u001b[0mopen_block\u001b[0m \u001b[0;34m=\u001b[0m \u001b[0mtitle_block\u001b[0m\u001b[0;34m.\u001b[0m\u001b[0mfind_element_by_css_selector\u001b[0m\u001b[0;34m(\u001b[0m\u001b[0;34m'#notion-app > div > div.notion-overlay-container.notion-default-overlay-container > div:nth-child(2)'\u001b[0m\u001b[0;34m)\u001b[0m\u001b[0;34m\u001b[0m\u001b[0;34m\u001b[0m\u001b[0m\n\u001b[0m\u001b[1;32m      2\u001b[0m \u001b[0mACC\u001b[0m\u001b[0;34m.\u001b[0m\u001b[0mmove_to_element\u001b[0m\u001b[0;34m(\u001b[0m\u001b[0mopen_block\u001b[0m\u001b[0;34m)\u001b[0m\u001b[0;34m.\u001b[0m\u001b[0mclick\u001b[0m\u001b[0;34m(\u001b[0m\u001b[0;34m)\u001b[0m\u001b[0;34m.\u001b[0m\u001b[0mperform\u001b[0m\u001b[0;34m(\u001b[0m\u001b[0;34m)\u001b[0m\u001b[0;34m\u001b[0m\u001b[0;34m\u001b[0m\u001b[0m\n\u001b[1;32m      3\u001b[0m \u001b[0mlink\u001b[0m \u001b[0;34m=\u001b[0m \u001b[0mopen_block\u001b[0m\u001b[0;34m.\u001b[0m\u001b[0mget_attribute\u001b[0m\u001b[0;34m(\u001b[0m\u001b[0;34m'href'\u001b[0m\u001b[0;34m)\u001b[0m\u001b[0;34m\u001b[0m\u001b[0;34m\u001b[0m\u001b[0m\n",
      "\u001b[0;32m~/.pyenv/versions/3.8.2/envs/{huni}/lib/python3.8/site-packages/selenium/webdriver/remote/webelement.py\u001b[0m in \u001b[0;36mfind_element_by_css_selector\u001b[0;34m(self, css_selector)\u001b[0m\n\u001b[1;32m    428\u001b[0m             \u001b[0melement\u001b[0m \u001b[0;34m=\u001b[0m \u001b[0melement\u001b[0m\u001b[0;34m.\u001b[0m\u001b[0mfind_element_by_css_selector\u001b[0m\u001b[0;34m(\u001b[0m\u001b[0;34m'#foo'\u001b[0m\u001b[0;34m)\u001b[0m\u001b[0;34m\u001b[0m\u001b[0;34m\u001b[0m\u001b[0m\n\u001b[1;32m    429\u001b[0m         \"\"\"\n\u001b[0;32m--> 430\u001b[0;31m         \u001b[0;32mreturn\u001b[0m \u001b[0mself\u001b[0m\u001b[0;34m.\u001b[0m\u001b[0mfind_element\u001b[0m\u001b[0;34m(\u001b[0m\u001b[0mby\u001b[0m\u001b[0;34m=\u001b[0m\u001b[0mBy\u001b[0m\u001b[0;34m.\u001b[0m\u001b[0mCSS_SELECTOR\u001b[0m\u001b[0;34m,\u001b[0m \u001b[0mvalue\u001b[0m\u001b[0;34m=\u001b[0m\u001b[0mcss_selector\u001b[0m\u001b[0;34m)\u001b[0m\u001b[0;34m\u001b[0m\u001b[0;34m\u001b[0m\u001b[0m\n\u001b[0m\u001b[1;32m    431\u001b[0m \u001b[0;34m\u001b[0m\u001b[0m\n\u001b[1;32m    432\u001b[0m     \u001b[0;32mdef\u001b[0m \u001b[0mfind_elements_by_css_selector\u001b[0m\u001b[0;34m(\u001b[0m\u001b[0mself\u001b[0m\u001b[0;34m,\u001b[0m \u001b[0mcss_selector\u001b[0m\u001b[0;34m)\u001b[0m\u001b[0;34m:\u001b[0m\u001b[0;34m\u001b[0m\u001b[0;34m\u001b[0m\u001b[0m\n",
      "\u001b[0;32m~/.pyenv/versions/3.8.2/envs/{huni}/lib/python3.8/site-packages/selenium/webdriver/remote/webelement.py\u001b[0m in \u001b[0;36mfind_element\u001b[0;34m(self, by, value)\u001b[0m\n\u001b[1;32m    656\u001b[0m                 \u001b[0mvalue\u001b[0m \u001b[0;34m=\u001b[0m \u001b[0;34m'[name=\"%s\"]'\u001b[0m \u001b[0;34m%\u001b[0m \u001b[0mvalue\u001b[0m\u001b[0;34m\u001b[0m\u001b[0;34m\u001b[0m\u001b[0m\n\u001b[1;32m    657\u001b[0m \u001b[0;34m\u001b[0m\u001b[0m\n\u001b[0;32m--> 658\u001b[0;31m         return self._execute(Command.FIND_CHILD_ELEMENT,\n\u001b[0m\u001b[1;32m    659\u001b[0m                              {\"using\": by, \"value\": value})['value']\n\u001b[1;32m    660\u001b[0m \u001b[0;34m\u001b[0m\u001b[0m\n",
      "\u001b[0;32m~/.pyenv/versions/3.8.2/envs/{huni}/lib/python3.8/site-packages/selenium/webdriver/remote/webelement.py\u001b[0m in \u001b[0;36m_execute\u001b[0;34m(self, command, params)\u001b[0m\n\u001b[1;32m    631\u001b[0m             \u001b[0mparams\u001b[0m \u001b[0;34m=\u001b[0m \u001b[0;34m{\u001b[0m\u001b[0;34m}\u001b[0m\u001b[0;34m\u001b[0m\u001b[0;34m\u001b[0m\u001b[0m\n\u001b[1;32m    632\u001b[0m         \u001b[0mparams\u001b[0m\u001b[0;34m[\u001b[0m\u001b[0;34m'id'\u001b[0m\u001b[0;34m]\u001b[0m \u001b[0;34m=\u001b[0m \u001b[0mself\u001b[0m\u001b[0;34m.\u001b[0m\u001b[0m_id\u001b[0m\u001b[0;34m\u001b[0m\u001b[0;34m\u001b[0m\u001b[0m\n\u001b[0;32m--> 633\u001b[0;31m         \u001b[0;32mreturn\u001b[0m \u001b[0mself\u001b[0m\u001b[0;34m.\u001b[0m\u001b[0m_parent\u001b[0m\u001b[0;34m.\u001b[0m\u001b[0mexecute\u001b[0m\u001b[0;34m(\u001b[0m\u001b[0mcommand\u001b[0m\u001b[0;34m,\u001b[0m \u001b[0mparams\u001b[0m\u001b[0;34m)\u001b[0m\u001b[0;34m\u001b[0m\u001b[0;34m\u001b[0m\u001b[0m\n\u001b[0m\u001b[1;32m    634\u001b[0m \u001b[0;34m\u001b[0m\u001b[0m\n\u001b[1;32m    635\u001b[0m     \u001b[0;32mdef\u001b[0m \u001b[0mfind_element\u001b[0m\u001b[0;34m(\u001b[0m\u001b[0mself\u001b[0m\u001b[0;34m,\u001b[0m \u001b[0mby\u001b[0m\u001b[0;34m=\u001b[0m\u001b[0mBy\u001b[0m\u001b[0;34m.\u001b[0m\u001b[0mID\u001b[0m\u001b[0;34m,\u001b[0m \u001b[0mvalue\u001b[0m\u001b[0;34m=\u001b[0m\u001b[0;32mNone\u001b[0m\u001b[0;34m)\u001b[0m\u001b[0;34m:\u001b[0m\u001b[0;34m\u001b[0m\u001b[0;34m\u001b[0m\u001b[0m\n",
      "\u001b[0;32m~/.pyenv/versions/3.8.2/envs/{huni}/lib/python3.8/site-packages/selenium/webdriver/remote/webdriver.py\u001b[0m in \u001b[0;36mexecute\u001b[0;34m(self, driver_command, params)\u001b[0m\n\u001b[1;32m    319\u001b[0m         \u001b[0mresponse\u001b[0m \u001b[0;34m=\u001b[0m \u001b[0mself\u001b[0m\u001b[0;34m.\u001b[0m\u001b[0mcommand_executor\u001b[0m\u001b[0;34m.\u001b[0m\u001b[0mexecute\u001b[0m\u001b[0;34m(\u001b[0m\u001b[0mdriver_command\u001b[0m\u001b[0;34m,\u001b[0m \u001b[0mparams\u001b[0m\u001b[0;34m)\u001b[0m\u001b[0;34m\u001b[0m\u001b[0;34m\u001b[0m\u001b[0m\n\u001b[1;32m    320\u001b[0m         \u001b[0;32mif\u001b[0m \u001b[0mresponse\u001b[0m\u001b[0;34m:\u001b[0m\u001b[0;34m\u001b[0m\u001b[0;34m\u001b[0m\u001b[0m\n\u001b[0;32m--> 321\u001b[0;31m             \u001b[0mself\u001b[0m\u001b[0;34m.\u001b[0m\u001b[0merror_handler\u001b[0m\u001b[0;34m.\u001b[0m\u001b[0mcheck_response\u001b[0m\u001b[0;34m(\u001b[0m\u001b[0mresponse\u001b[0m\u001b[0;34m)\u001b[0m\u001b[0;34m\u001b[0m\u001b[0;34m\u001b[0m\u001b[0m\n\u001b[0m\u001b[1;32m    322\u001b[0m             response['value'] = self._unwrap_value(\n\u001b[1;32m    323\u001b[0m                 response.get('value', None))\n",
      "\u001b[0;32m~/.pyenv/versions/3.8.2/envs/{huni}/lib/python3.8/site-packages/selenium/webdriver/remote/errorhandler.py\u001b[0m in \u001b[0;36mcheck_response\u001b[0;34m(self, response)\u001b[0m\n\u001b[1;32m    240\u001b[0m                 \u001b[0malert_text\u001b[0m \u001b[0;34m=\u001b[0m \u001b[0mvalue\u001b[0m\u001b[0;34m[\u001b[0m\u001b[0;34m'alert'\u001b[0m\u001b[0;34m]\u001b[0m\u001b[0;34m.\u001b[0m\u001b[0mget\u001b[0m\u001b[0;34m(\u001b[0m\u001b[0;34m'text'\u001b[0m\u001b[0;34m)\u001b[0m\u001b[0;34m\u001b[0m\u001b[0;34m\u001b[0m\u001b[0m\n\u001b[1;32m    241\u001b[0m             \u001b[0;32mraise\u001b[0m \u001b[0mexception_class\u001b[0m\u001b[0;34m(\u001b[0m\u001b[0mmessage\u001b[0m\u001b[0;34m,\u001b[0m \u001b[0mscreen\u001b[0m\u001b[0;34m,\u001b[0m \u001b[0mstacktrace\u001b[0m\u001b[0;34m,\u001b[0m \u001b[0malert_text\u001b[0m\u001b[0;34m)\u001b[0m\u001b[0;34m\u001b[0m\u001b[0;34m\u001b[0m\u001b[0m\n\u001b[0;32m--> 242\u001b[0;31m         \u001b[0;32mraise\u001b[0m \u001b[0mexception_class\u001b[0m\u001b[0;34m(\u001b[0m\u001b[0mmessage\u001b[0m\u001b[0;34m,\u001b[0m \u001b[0mscreen\u001b[0m\u001b[0;34m,\u001b[0m \u001b[0mstacktrace\u001b[0m\u001b[0;34m)\u001b[0m\u001b[0;34m\u001b[0m\u001b[0;34m\u001b[0m\u001b[0m\n\u001b[0m\u001b[1;32m    243\u001b[0m \u001b[0;34m\u001b[0m\u001b[0m\n\u001b[1;32m    244\u001b[0m     \u001b[0;32mdef\u001b[0m \u001b[0m_value_or_default\u001b[0m\u001b[0;34m(\u001b[0m\u001b[0mself\u001b[0m\u001b[0;34m,\u001b[0m \u001b[0mobj\u001b[0m\u001b[0;34m,\u001b[0m \u001b[0mkey\u001b[0m\u001b[0;34m,\u001b[0m \u001b[0mdefault\u001b[0m\u001b[0;34m)\u001b[0m\u001b[0;34m:\u001b[0m\u001b[0;34m\u001b[0m\u001b[0;34m\u001b[0m\u001b[0m\n",
      "\u001b[0;31mNoSuchElementException\u001b[0m: Message: no such element: Unable to locate element: {\"method\":\"css selector\",\"selector\":\"#notion-app > div > div.notion-overlay-container.notion-default-overlay-container > div:nth-child(2)\"}\n  (Session info: chrome=98.0.4758.109)\n"
     ]
    }
   ],
   "source": [
    "open_block = title_block.find_element_by_css_selector('#notion-app > div > div.notion-overlay-container.notion-default-overlay-container > div:nth-child(2)')\n",
    "ACC.move_to_element(open_block).click().perform()\n",
    "link = open_block.get_attribute('href')"
   ]
  },
  {
   "cell_type": "code",
   "execution_count": null,
   "metadata": {},
   "outputs": [],
   "source": []
  },
  {
   "cell_type": "code",
   "execution_count": null,
   "metadata": {},
   "outputs": [],
   "source": []
  },
  {
   "cell_type": "code",
   "execution_count": null,
   "metadata": {},
   "outputs": [],
   "source": []
  },
  {
   "cell_type": "code",
   "execution_count": null,
   "metadata": {},
   "outputs": [],
   "source": []
  },
  {
   "cell_type": "code",
   "execution_count": 76,
   "metadata": {},
   "outputs": [
    {
     "data": {
      "text/plain": [
       "'학습분석을 활용하기 위해서는 우리는 알고리즘, 교수자, 학생, 정책가, 연구자 간 균형을 맞출 필요가 있다.\\n빅데이터 시대에 이론의 중요성은 줄어들지 않는다.\\n빅데이터를 통해 결과를 해석하고 활용하기 위해서는 이론은 중요하다.\\n학습 분야도 다른분야에서 시작된 데이터 집약적(data-intensive) 방식으로 변화하고 있다.\\n이를 위해 우리는 이론과 분석의 관계에서 \"from clicks to constructs\"라는 원칙을 이해할 필요가 있다.\\n학습 분석은 이미 알고리즘을 일상적으로 사용하는 사회의 변화를 반영한다.\\n따라서 이론과 학습 분석의 관계를 중심으로 하는 프레임은 일반적으로 \"교육 이론\"으로 간주되는 것을 고려할 수 없을 정도로 확장되어야 하며, 사회 기술 인프라가 사회에서 어떻게 계산 지능을 제공하는지에 대한 중요한 담론에 참여해야 한다.\\n학습분석에서 고려해야 하는 것\\n사람들이 감시 당한다는 것을 인지할 때 행동이 변화할 수 있기에, 학습 분석 연구자들은 \"학습\"이라는 렌즈가 특정 결과를 과장하거나 왜곡할 수 있다는 점을 인지해야 한다.\\n학습분석을 통해, 교사와 학생들은 그동안 연구자들만이 확인할 수 있었던 교육과 학습 상황을 직접 확인할 수 있게 될 것이다.\\n학습분석이 가져올 새로운 윤리적 딜레마를 고려할 필요가 있다.\\n학습분석 분야는 인식론적 가정(epistemological assumptions)과 교육학적 실천(pedagogical practices)에 의해 평가 체제(assessment regimes)로 간주되어 왔다.\\n그러나 학습 분석은 특정 학습자들을 길러내기 위해 설계된 교육적 관점(particular educaitonal worldview)이라 볼 수 있다.\\n1. Theory into pratice\\n삼각형의 사용은 각 요소들의 긴장을 강조한다. \\n평가는 \"지식\"이 무엇인지 이해하는 데 있어 원동력이 될 수 있다. \\n우리가 평가하는 사람과 방법에 대한 교육학에 대한 가정은 때때로 긴장 상태에 있으며, 종합 평가에 대한 욕구가 교육학적으로 동기부여된 형태적 피드백을 무시한다. \\n지식의 본질에 대한 인식론적 견해와 평가 또는 교육학적 관행 사이의 정렬을 도출하는 것은 어려운 일이다.\\n세 가지 사이의 관계는 암시될 수 있지만, 수반되지는 않는다.\\n*평가 도구의 새로운 형태로서 학습 분석은 현재 교육 실천을 지원하거나 그들과 경쟁하거나 새롭게 교육을 정의할 가능성을 가지고 있다.\\n2. EPA Provocations\\n학습 분석에 대해 이해하기 위해서는 각 요소를 분해해서 살펴볼 필요가 있다.\\n특히, EPA의 세 가지 요소를 명확하게 하기 위해서는 다양한 이론적 질문을 통해 이를 검증할 필요가 있다.\\n1) Epistemology - What Are We Measuring?\\n이 질문에 답하기 위해서는 측정의 개념적 이유와 실제적 이유 간의 연결관계를 고려할 필요가 있다.\\n즉, 학습 설계(learning design), 우리가 원하는 학생들이 배워야 할 기술과 지식(facts), 그리고 학생들이 \"Come to know\"하는 것에 대해 고려하여야 한다.\\n⇒ 이것은 인식론의 질문으로, 구성의 본성(nature of the constructs), 왜 그들이 지식을 중요시하는지\\n이 지식은 더 넓게 제안된 종류일 수도 있고, 스킬과 특성일 수도 있으며, 특정한 방식의 행동일 수도 있다.\\n⇒ 즉, 지식에 대한 다양한 관점들이 존재하고, 이것들이 모두 학습분석에서 측정의 대상이 될 수 있다.\\n2) Epistemology - How Are We Measuring?\\n이 질문은 우리의 연구와 평가 방법을 인식론적으로 떠받치는 것에 대한 것이다.\\n다양한 문헌에서 접근 시 주관성과 통찰을 주는 방법론의 능력에 대해 집중한다.\\n→ 분석 방법은 특정 인식론을 함축하고 있다.\\n→ 외적 지식의 세계에 이야기하는 접근법\\n3) Pedagogy - Why is this Knowledge Important to Us?\\n학습 맥락에서 분석 접근법 개발은 지식이 집중할 것이나 집중하지 않을 것에 대한 결정을 만드는 것을 포함한다.\\n단지 쉽게 측정되는 것보다 우리가 가치를 두는 것을 측정하는 것\\n→ 즉, 사회에서 중요한 지식의 종류와 지식 기반 커리큘럼의 역할 등에 대한 토론과 관련이 있음\\n이 질문은 왜 이러한 분석이 교육자들과 학습자들에게 중요한지를 질문하는 것\\n4) Pedagogy - Who is the Assessment/Analytic For?\\n교사, 학생, 부모, 관리자 등 다양한 주체들 중 어디에 초점을 맞춰야 할지 고려해야 한다.\\n특정 그룹에 대한 분석 방법의 개발에서 윤리적인 문제는 먼저, 기술과 참여의 특정한 형태를 요구하는 분석은 새로운 차별을 만들 수 있다.\\n둘째로, 학생들의 명시적인 동의없이 학생들의 데이터를 사용하는 것에 대한 문제가 있다.\\n→ 거시적, 중간, 미시적 수준 등\\n5) Assessment - Where Does the Assessment Happen?\\n다양한 평가의 맥락 속에서 우리는 평가가 만약 의미있다면, 가치를 더할 수 있는 확장된 의미있는 컴퓨터 활용 분석이 설계될 수 있는지에 대해 질문하여야 한다.\\n그리고 우리는 특정 응답에 대하여 평가가 편향된다는 것을 고려할 필요가 있다.\\n6) Assessment - When Does the Assessment, and Feedback, Occur?\\n형성 평가와 총괄평가로 구분해볼 수 있다.\\n실시간 피드백은 총괄평가가 될 수 있으며\\n진단은 현재 무엇이 잘못되고 있는지에 대한 통찰을 제공할 수 있다.\\n분석장비가 총괄 평가의 관점을 가지고 있는지, 형성 평가의 관심을 가지고 있는지가 오히려 중점이 될 것이다.\\n💡\\n<논의할 문제>\\n\\n글을 읽어보면서, 학습분석을 적용하기 위해서는 기술적인 이해를 하기 이전에 인식론에서의 지식의 정의, 교육학적 관점, 평가로서의 학습분석 등을 포괄하는 이론적 이해가 기반이 될 필요가 있다는 사실을 알게 되었습니다.\\n\\n다만, 실천가로서 당면한 문제를 해결하기 위해서는 어느 하나의 관점을 선택하지 않을 수 없습니다.\\n  \\n이를 위해서는 자신만의 (이론과 연구 결과에 기반한) 인식론과 교육학, 그리고 학습분석에 대한 명확한 정의가 필요하다는 생각이 듭니다.\\n\\n여러분들의 인식론, 교육학, 그리고 학습분석에 대한 생각을 들어보고 싶습니다.\\n<재용, 지훈, 웅기>\\n재용: 행동주의와 구성주의의 차이\\n지훈: 영국 코로나로 인해 5G 통신망 공격 → 교육의 필요성\\n교육은 학습을 관리하는 사회적인 양식, 학습분석에서 매력적으로 느꼈다는 것은 지식을 모델링하는 관점, 뤼이드\\n재용: 산타토익에서 이루어지는 방식이 객관주의적인 인식론에 근거한 것인지\\n산타토익은 토익 시험 교육에서의 진리를 찾은 것인가, 잠정적으로 최선의 해답을 낸 것이냐?\\ninput 데이터를 output으로 만드는 과정은 매우 객관적임\\n하지만 input이 달라지면 모델이 달라지고, 결과에 대한 해석은 사람의 몫이다\\n그렇다면 산타토익은 토익을 잘 가르치는 방법을 사회적으로 구성하는 것이 아닐까?\\n지훈: 유효기간이 있는 한에서 객관주의적인 인식론\\n<주홍, 준오, 서연>\\n주홍: 학교가자닷컴을 관리하면서 어떤 기술을 넣을까 고민했던 경험, 어플리케이션을 개발했던 경험, 이웅기 선생님 프로젝트에서 기술자 입장에서 어떤 요소를 넣을지 고민했던 경험 → 교육자의 입장에서 고민할 필요가 있겠다는 생각을 했음. 교육과 기술 간의 적극적인 소통이 요구됨.\\n준오: 물리학은 본질적으로 상호작용과 그 사이의 법칙을 다루고 있음. 교육 현장에서는 학생, 교수자, 매체 등이 상호작용함. 이러한 작용을 기술하기 위해서는 표상을 측정해서 상호작용 사이의 법칙을 발견하고 싶은 것이 근본적인 목적이라고 생각함 → 한순간에 진행되는 것이 아니라 학습과정 전체에서 학습데이터 수집이 가능한 online으로 진행되어야 함.\\n서연: 인공지능 데이터 쪽 전문가분들과 소통하며 인공지능 등의 학습 분석 자체가 교육 현장의 다양한 요소 간 상호작용을 설명해줄 수는 있지만, 그 결과를 분석해서 활용하는 주체는 교사임. \\n   eg) 교육자 입장에서의 추천 알고리즘의 유효성? \\n학습 분석 자체가 상호작용을 설명하는 도구로서는 의미있지만, 그에 대한 유효성과 신뢰성은 고민해보아야 함.\\n<재은,은서>\\n은서: 20년도 이전에는 평가관점에서는 수행과정을 관찰하여 평가하는 과정주의 평가관점과 결과주의 평가관점이 대비되는 것이 교육현장의 메인이슈였는데 코로나로 인하여 공교육에 온라인학습이 행해지며 개인별 학습데이터가 체계적으로 집계되어 평가도구의 새로운 형태로서 \\'학습분석\\'이 존재감을 드러내었다고 생각한다. 학습분석을 통해 개인의 학습상태에 대한 최적화된 피드백을 제공하고, 교수자는 이전보다 보다 유의미한 수업설계를 할 수있게 되었다.  다만 현장교사에게 학습분석의 개념이 낯설고, 그에 대한 교육이 필요함\\n재은: 지식이라고 함은 knowledge construction, 다학문간 융합이 교육, 학습된 지식이라고 생각합니다. \"학습 분석에서 데이터를 취합하거나 데이터를 유의미하게 분석하는건 교육 전문가인 교사들이다\"'"
      ]
     },
     "execution_count": 76,
     "metadata": {},
     "output_type": "execute_result"
    }
   ],
   "source": [
    "driver.get('https://dndrl.notion.site/1-Theory-and-Learning-Analytics-2f08bb791bc24e61b1167622774ebd8a')\n",
    "time.sleep(3)\n",
    "Content = driver.find_element_by_class_name('notion-page-content').text\n",
    "Content\n"
   ]
  },
  {
   "cell_type": "code",
   "execution_count": 78,
   "metadata": {},
   "outputs": [
    {
     "data": {
      "text/plain": [
       "'🤷🏻\\u200d♀️\\n요약 : \"큰 규모의 학습 분석 연구를 실행하기 위해서 조직 내에서 \\'현실적으로\\' 필요한 부분에 대한 논의\"\\n1_REVIEW OF CURRENT MODELS OF LEARNING ANALYTICS DEPLOYMENT\\n2_WHAT DO THE MODELS TELL US?\\n3_BRINGING IN THE EMPIRICAL\\n4_CONCLUSION\\n참고문헌 \\n🙋🏻\\u200d♀️\\n아래의 주제 중, 자유롭게 1~2개의 주제를 선택하여 논의해 보아요! \\n✏️\\n<현지, 지영, 준오 > \\n2번 \\n준오 : \"학습 분석을 위한 적절한 학습 내용에 대한 고려\" >> 여러 필드에 있는 사람들과 만나 교류 \\nex) 학습 내용의 성격에 따라서 효과를 잘 드러내는 학습분석도 있을 것이고 (창의성/협업 등등)\\n학습 분석 효과가 일관되지 않게 나타남 // \"학습 내용과의 상호작용\" > 비교 연구를 하기 어려움 > 여러 기술 현장\\n1번\\n지영 : Colvin et al.(2015) 기존의 연구와 크게 다를 것 없이 범위를 넓힌 것으로 보여 공감,  // 리더십 학습 분석으로 나쁜 결과를 얻었을 때 대응의 어려움 >> \\n준오 : 복잡성도 학습 내용에 따라 다를텐데, 이것을 현실적으로 개별적으로 제시하기 어려움 \\n현지 :  \\n조직문화 > 그럴 수 있죠 // 일단 그대로 하고, 짬차면 살짝씩 🤣\\n데이터 수집, 데이터 전처리, \\n교육 전문가 (내적 타당도)\\n도메인 전문가 \\n똑똑 수학탐험대 → 국가수준에서 만든 서비스이지만, 현실적으로는 여기서 나온 데이터로도 단순히 부진학생 퍼센트 정도를 보는 정도로 그치게 되지 않을까... 이 문제 원인은 조직문화에 있는 것으로 보인다.\\n<수진, 홍규, 웅기, 재용👍>\\nColvin et al.(2015)의 한계를 보완하는 방법\\n비즈니스 맥락에서 활용되는 전략을 포함하여 좀더 실제적으로 학습분석 실행에 도움이 되는 방식으로 변형\\nex) 그로스해킹, 퍼포먼스마케팅 등: 질적인 인사이트 + 양적인 데이터 → 목표 달성\\n4. 기관/조직이 필수적인가?\\n분석을 위해서는 충분한 데이터가 수집되어야 하므로, 기관 수준에서 더 효과적으로 학습분석을 실시할 수 있음 \\n기관/조직이 없다면?\\n→ 개인수준과 기관수준에서 이루어지는 학습분석 연구 진행이 달라짐\\n대학에서 연구를 하면 연구윤리 심의(IRB) 등의 절차 → 데이터의 오남용 등의 윤리적인 이슈를 제어할 수 있는 장치가 있음, 연구가 제대로 이루어질 수 있도록 도와줄 수 있음\\n3. 대규모 학습분석 실시 기관\\n공공기관: 한국교육개발원(KEDI)\\n국내 온라인 학습 플랫폼 개발 및 도입 경험, 한계와 발전 방향\\nhttps://www.kedi.re.kr/khome/main/research/selectPubForm.do?plNum0=12779\\nhttps://youtu.be/e9s8VcCs5jY\\n공공기관이 학습분석에 적합한가? ← 조직문화가 학습분석 실행에 미치는 영향\\n 데이터를 쌓아놓았더라도 연구용역 과정이 파행적으로 이뤄질 가능성 있음\\n기관 관계자들이 연구에 대해 이해하지 못해 의사소통과 연구 진행이 어려움\\n업무 담당자가 바뀔 경우 업무 진행의 연속성 상실\\n→ 따라서 기관의 조직문화에 따라 학습분석의 실행 과정과 결과가 상이하다\\n사기업\\n웅진, 아이스크림, 대교 등 (학습지)\\n뤼이드(객관식 시험 ITS)\\n사기업과의 연구에서는 기업과 연구자 사이에 이해상충이 발생함 \\n2. 학습분석 연구 실제에서 고려할 요인\\n조직문화\\n성과에 대한 압박\\n추가적인 업무 부담으로 받아들일 수 있음\\n부서 간의 협업 정도\\n조직 및 기관 역량 ← 학습분석에 대한 이해\\n<영훈, 은서, 하경>\\nColvin et al.\\'s(2015)의 모형의 한계를 보완하기 위한 방법 / 2. 학습 분석 연구의 실제에서 고려할 수 있는 요인\\n회사의 업무 가이드라인 같은 것이 필요\\n전체적인 맥락을 파악하고 인사이트를 얻기 위해 단위단위마다 끊임없는 소통을 해야 한다고 생각\\nex) 다양한 의사결정 형태의 활용\\n모두에게 동등한 의결권\\n팀에서 리더를 맡고 있는 사람들이나 인사이트를 가진 사람들에게 차별적으로 더 많은 의결권을 부여\\n리더가 대표로 결정\\n이 세가지의 의사결정 형태를 활용해서 한계를 보완할 수 있지 않을까?\\n여러 조직 단위에서 내린 결론을 타 팀들이 참고할 수 있도록 제공\\n학습분석을 실제로 수행해본 조직의 인터뷰 혹은 분석사례 a to the z를 정리하여 실제사례를 토대로 한 메뉴얼을 만들어 보충\\n연구기관에서 연구할 때 간과하기 쉬운 것이 \\'현장성\\' → 현장의 목소리를 참고할 수 있도록 프로토콜 마련\\n3. 국내에 큰 규모의 학습 분석을 진행하고 있는 기관\\n인터넷 강의 기업(메가스터디, 이투스 등) > 마케팅에 활용\\n공공기관; 한국교육개발원, 한국교육학술정보원, 한국직업능력연구원(직업교육 연구) 등\\n권역별 기초학력지원센터에서 데이터를 모아 학습분석을 실행한다면 학습 부진 해결 및 처방에 유의미할 것이라 생각 > 학습분석을 통해 학습 부진 해결 필요성 (영재교육과 같은 일부 분야에서는 비교적 학습 분석이 잘 이루어지고 있으나 학습 부진을 해결할 수 있는 학습분석이 필요)\\n4. 학습 분석을 위해 꼭 기관 및 조직이 필요할까요? 기관 및 조직 없이 학습 분석을 진행하기 위해 필요한 요소는 무엇이 있을까요?\\n특정 기관이나 조직 없이도 필수적인 네트워크와 충분한 데이터만 있으면 가능할 것이라고 생각'"
      ]
     },
     "execution_count": 78,
     "metadata": {},
     "output_type": "execute_result"
    }
   ],
   "source": [
    "driver.get('https://dndrl.notion.site/24-Addressing-the-Challenges-of-Institutional-Adoption-773c7ec0b37741aa820a275cf3af4cf1')\n",
    "time.sleep(3)\n",
    "Content_with_toggle = driver.find_element_by_class_name('notion-page-content').text\n",
    "Content_with_toggle"
   ]
  },
  {
   "cell_type": "markdown",
   "metadata": {},
   "source": [
    "## Toggle should be clicked"
   ]
  },
  {
   "cell_type": "code",
   "execution_count": null,
   "metadata": {},
   "outputs": [],
   "source": [
    "# "
   ]
  },
  {
   "cell_type": "code",
   "execution_count": 110,
   "metadata": {},
   "outputs": [
    {
     "name": "stdout",
     "output_type": "stream",
     "text": [
      "15\n"
     ]
    },
    {
     "name": "stderr",
     "output_type": "stream",
     "text": [
      ">> toggle click: 1it [00:00,  6.79it/s]"
     ]
    },
    {
     "name": "stdout",
     "output_type": "stream",
     "text": [
      "Stale 에러,  0\n",
      "Stale 에러,  1\n",
      "Stale 에러,  2\n",
      "Stale 에러,  3\n",
      "Stale 에러,  4\n",
      "Stale 에러,  0\n",
      "Stale 에러,  1\n"
     ]
    },
    {
     "name": "stderr",
     "output_type": "stream",
     "text": [
      ">> toggle click: 2it [00:00,  6.27it/s]"
     ]
    },
    {
     "name": "stdout",
     "output_type": "stream",
     "text": [
      "Stale 에러,  2\n",
      "Stale 에러,  3\n",
      "Stale 에러,  4\n",
      "Stale 에러,  0\n",
      "Stale 에러,  1\n",
      "Stale 에러,  2\n",
      "Stale 에러,  3\n"
     ]
    },
    {
     "name": "stderr",
     "output_type": "stream",
     "text": [
      ">> toggle click: 3it [00:00,  6.31it/s]"
     ]
    },
    {
     "name": "stdout",
     "output_type": "stream",
     "text": [
      "Stale 에러,  4\n",
      "Stale 에러,  0\n"
     ]
    },
    {
     "name": "stderr",
     "output_type": "stream",
     "text": [
      ">> toggle click: 4it [00:00,  4.42it/s]"
     ]
    },
    {
     "name": "stdout",
     "output_type": "stream",
     "text": [
      "Stale 에러,  1\n",
      "Stale 에러,  2\n",
      "Stale 에러,  3\n",
      "Stale 에러,  4\n",
      "Stale 에러,  0\n",
      "Stale 에러,  1\n",
      "Stale 에러,  2\n",
      "Stale 에러,  3\n"
     ]
    },
    {
     "name": "stderr",
     "output_type": "stream",
     "text": [
      ">> toggle click: 6it [00:01,  5.66it/s]"
     ]
    },
    {
     "name": "stdout",
     "output_type": "stream",
     "text": [
      "Stale 에러,  4\n",
      "Stale 에러,  0\n",
      "Stale 에러,  1\n",
      "Stale 에러,  2\n",
      "Stale 에러,  3\n",
      "Stale 에러,  4\n",
      "Stale 에러,  0\n",
      "Stale 에러,  1\n"
     ]
    },
    {
     "name": "stderr",
     "output_type": "stream",
     "text": [
      ">> toggle click: 7it [00:01,  5.97it/s]"
     ]
    },
    {
     "name": "stdout",
     "output_type": "stream",
     "text": [
      "Stale 에러,  2\n",
      "Stale 에러,  3\n",
      "Stale 에러,  4\n",
      "Stale 에러,  0\n",
      "Stale 에러,  1\n",
      "Stale 에러,  2\n",
      "Stale 에러,  3\n"
     ]
    },
    {
     "name": "stderr",
     "output_type": "stream",
     "text": [
      ">> toggle click: 9it [00:01,  6.38it/s]"
     ]
    },
    {
     "name": "stdout",
     "output_type": "stream",
     "text": [
      "Stale 에러,  4\n",
      "Stale 에러,  0\n",
      "Stale 에러,  1\n",
      "Stale 에러,  2\n",
      "Stale 에러,  3\n",
      "Stale 에러,  4\n",
      "Stale 에러,  0\n"
     ]
    },
    {
     "name": "stderr",
     "output_type": "stream",
     "text": [
      ">> toggle click: 10it [00:01,  6.42it/s]"
     ]
    },
    {
     "name": "stdout",
     "output_type": "stream",
     "text": [
      "Stale 에러,  1\n",
      "Stale 에러,  2\n",
      "Stale 에러,  3\n",
      "Stale 에러,  4\n",
      "Stale 에러,  0\n",
      "Stale 에러,  1\n",
      "Stale 에러,  2\n"
     ]
    },
    {
     "name": "stderr",
     "output_type": "stream",
     "text": [
      ">> toggle click: 12it [00:01,  6.54it/s]"
     ]
    },
    {
     "name": "stdout",
     "output_type": "stream",
     "text": [
      "Stale 에러,  3\n",
      "Stale 에러,  4\n",
      "Stale 에러,  0\n",
      "Stale 에러,  1\n",
      "Stale 에러,  2\n",
      "Stale 에러,  3\n",
      "Stale 에러,  4\n"
     ]
    },
    {
     "name": "stderr",
     "output_type": "stream",
     "text": [
      ">> toggle click: 13it [00:02,  6.56it/s]"
     ]
    },
    {
     "name": "stdout",
     "output_type": "stream",
     "text": [
      "Stale 에러,  0\n",
      "Stale 에러,  1\n",
      "Stale 에러,  2\n",
      "Stale 에러,  3\n",
      "Stale 에러,  4\n",
      "Stale 에러,  0\n",
      "Stale 에러,  1\n"
     ]
    },
    {
     "name": "stderr",
     "output_type": "stream",
     "text": [
      ">> toggle click: 14it [00:02,  6.57it/s]"
     ]
    },
    {
     "name": "stdout",
     "output_type": "stream",
     "text": [
      "Stale 에러,  2\n",
      "Stale 에러,  3\n",
      "Stale 에러,  4\n",
      "Stale 에러,  0\n",
      "Stale 에러,  1\n",
      "Stale 에러,  2\n",
      "Stale 에러,  3\n"
     ]
    },
    {
     "name": "stderr",
     "output_type": "stream",
     "text": [
      ">> toggle click: 15it [00:02,  6.16it/s]"
     ]
    },
    {
     "name": "stdout",
     "output_type": "stream",
     "text": [
      "Stale 에러,  4\n"
     ]
    },
    {
     "name": "stderr",
     "output_type": "stream",
     "text": [
      "\n"
     ]
    }
   ],
   "source": [
    "driver.get('https://dndrl.notion.site/24-Addressing-the-Challenges-of-Institutional-Adoption-773c7ec0b37741aa820a275cf3af4cf1')\n",
    "time.sleep(3)\n",
    "\n",
    "Content = driver.find_element_by_class_name('notion-page-content')\n",
    "### Try1\n",
    "# toggles = Content.find_elements_by_class_name('triangle')\n",
    "# print(len(toggles)) # 모든 toggle 보다 더 많은 element가 보이는 것 같음\n",
    "\n",
    "# for toggle in tqdm(toggles, desc='>> toggle click'):\n",
    "#     # print(toggle)\n",
    "#     try:\n",
    "#         toggle = Content.find_element_by_class_name('triangle')\n",
    "#         ACC.move_to_element(toggle).perform()\n",
    "#         ACC.click().perform()\n",
    "#     except StaleElementReferenceException:\n",
    "#         print('에러다..')\n",
    "        # continue\n",
    "\n",
    "### Try2\n",
    "toggles = Content.find_elements_by_css_selector('polygon')\n",
    "print(len(toggles)) # same results with Try1\n",
    "\n",
    "for idx, toggle in tqdm(enumerate(toggles), desc='>> toggle click'):\n",
    "    # toggles_duplicate = Content.find_elements_by_css_selector('polygon')\n",
    "    for _ in range(5):\n",
    "        ACC.move_to_element(toggles_duplicate[idx])\n",
    "        try:\n",
    "            ACC.click() # perform 파트에서 에러가 나네\n",
    "            ACC.perform()\n",
    "        except StaleElementReferenceException:\n",
    "            print('Stale 에러, ', _)\n"
   ]
  },
  {
   "cell_type": "markdown",
   "metadata": {},
   "source": [
    "## StaleElementReferenceException 관련\n",
    "- 아무리 오랜 시간 wait를 줘도, 에러가 난다. DOM 구축 방식에 문제가 있는게 아닐까"
   ]
  },
  {
   "cell_type": "code",
   "execution_count": null,
   "metadata": {},
   "outputs": [],
   "source": []
  }
 ],
 "metadata": {
  "interpreter": {
   "hash": "6759f8f029089d11794c1cc9cf7a24be0c22d8786d9aebb0d861f27dfe2c888b"
  },
  "kernelspec": {
   "display_name": "Python 3.8.2 64-bit ('{huni}': pyenv)",
   "language": "python",
   "name": "python3"
  },
  "language_info": {
   "codemirror_mode": {
    "name": "ipython",
    "version": 3
   },
   "file_extension": ".py",
   "mimetype": "text/x-python",
   "name": "python",
   "nbconvert_exporter": "python",
   "pygments_lexer": "ipython3",
   "version": "3.8.2"
  },
  "orig_nbformat": 4
 },
 "nbformat": 4,
 "nbformat_minor": 2
}
