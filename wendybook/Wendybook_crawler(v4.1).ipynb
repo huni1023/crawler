{
 "cells": [
  {
   "cell_type": "markdown",
   "id": "aaabde38",
   "metadata": {},
   "source": [
    "# WendyBook Crawler\n",
    "### author: 성지훈\n",
    "<br><br>\n",
    "ver1 (21.11.08)\n",
    "- 초안 작성\n",
    "\n",
    "ver2 (21.11.09)\n",
    "- 각 책별 하위 페이지 크롤링 완성\n",
    "- 도서번호가 약간 문제가 있는 경우가 있었음 (UnexpectedAlertPresentException)\n",
    "\n",
    "ver3 (21.11.11)\n",
    "- 각 수준(level)별 하위페이지별 크롤러 제작\n",
    "\n",
    "ver4 (21.11.11)\n",
    "- 각 수준별 페이지 무관하게 크롤러 제작\n",
    "- 크롤러 엑셀저장하는 코드 수정(11.16)\n",
    "- 가격 추가\n",
    "\n",
    "ver5 (22.01.09)\n",
    "- 코드리뷰\n",
    "    - py분리 가능한 것 파악\n",
    "    - 데이터 제대로 찍히는지 파악"
   ]
  },
  {
   "cell_type": "code",
   "execution_count": null,
   "id": "c75b7301",
   "metadata": {},
   "outputs": [],
   "source": []
  }
 ],
 "metadata": {
  "interpreter": {
   "hash": "dcf59f38aa7397affc33423150250d52480d32d8d94dca57425f56ad7261f774"
  },
  "kernelspec": {
   "display_name": "Python 3.8.10 64-bit ('venv2021': conda)",
   "name": "python3"
  },
  "language_info": {
   "codemirror_mode": {
    "name": "ipython",
    "version": 3
   },
   "file_extension": ".py",
   "mimetype": "text/x-python",
   "name": "python",
   "nbconvert_exporter": "python",
   "pygments_lexer": "ipython3",
   "version": "3.8.10"
  }
 },
 "nbformat": 4,
 "nbformat_minor": 5
}
