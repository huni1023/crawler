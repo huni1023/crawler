{
 "cells": [
  {
   "cell_type": "markdown",
   "metadata": {},
   "source": [
    "# Wendybook Crawler\n",
    "@author: huni<br>\n",
    "21.11.28~\n",
    "<br><br>\n",
    "TODO\n",
    "- UnexpectedAlertPresentException: 에러인지 아닌지 크로스체크\n",
    "- 각 페이지별로 마지막 3개 씩 인덱스 문제있고, 데이터에 문제있던데 확인 필요"
   ]
  },
  {
   "cell_type": "markdown",
   "metadata": {},
   "source": []
  }
 ],
 "metadata": {
  "language_info": {
   "name": "python"
  },
  "orig_nbformat": 4
 },
 "nbformat": 4,
 "nbformat_minor": 2
}
