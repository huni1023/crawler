{
 "cells": [
  {
   "cell_type": "code",
   "execution_count": 1,
   "metadata": {},
   "outputs": [],
   "source": [
    "import os\n",
    "import sys\n",
    "import re\n",
    "import copy\n",
    "import pandas as pd\n",
    "from tqdm import tqdm\n",
    "from selenium import webdriver\n",
    "\n",
    "# set utils\n",
    "util_path = os.pardir\n",
    "if util_path not in sys.path:\n",
    "    sys.path.append(os.pardir)\n",
    "from utils.helper import load_config\n",
    "from crawler import Crawler, Utills\n",
    "\n",
    "# load config file\n",
    "Project_PATH = os.path.abspath(os.path.join(os.getcwd(), os.pardir))\n",
    "CONFIG_PATH = \"config.yaml\"\n",
    "config = load_config(os.path.join(Project_PATH, 'jobkorea', CONFIG_PATH))\n",
    "raw_data_before_processing = pd.read_excel(config['raw_data'], engine='openpyxl')\n",
    "init_url = config['init_url']\n",
    "selen_path_dict = config['selen_path']\n",
    "solutions = config['solution']\n",
    "\n",
    "# chrome option\n",
    "chrome_opt = webdriver.ChromeOptions()\n",
    "prefs = {\"profile.managed_default_content_settings.images\": 2}\n",
    "chrome_opt.add_experimental_option(\"prefs\", prefs) \n",
    "chrome_opt.add_experimental_option(\"detach\", True) # prevent automatically closed tab\n",
    "chrome_opt.add_experimental_option(\"excludeSwitches\", [\"enable-logging\"])\n",
    "\n",
    "#location\n",
    "location = \"home\"\n",
    "\n",
    "\n",
    "if location == 'home':\n",
    "    crawler = Crawler(selen_path = selen_path_dict['home'],\n",
    "                        chromeOption=chrome_opt,\n",
    "                        init_url=init_url,\n",
    "                        solutions = solutions)\n",
    "elif location == 'laptop':\n",
    "    crawler = Crawler(selen_path = selen_path_dict['laptop'],\n",
    "                        chromeOption=chrome_opt,\n",
    "                        init_url=init_url,\n",
    "                        solutions = solutions)\n",
    "elif location == 'khrrc':\n",
    "    crawler = Crawler(selen_path = selen_path_dict['khrrc'],\n",
    "                        chromeOption=chrome_opt,\n",
    "                        init_url=init_url, \n",
    "                        solutions = solutions)\n",
    "else:\n",
    "    raise NotImplementedError"
   ]
  },
  {
   "cell_type": "code",
   "execution_count": 2,
   "metadata": {},
   "outputs": [
    {
     "data": {
      "text/html": [
       "<div>\n",
       "<style scoped>\n",
       "    .dataframe tbody tr th:only-of-type {\n",
       "        vertical-align: middle;\n",
       "    }\n",
       "\n",
       "    .dataframe tbody tr th {\n",
       "        vertical-align: top;\n",
       "    }\n",
       "\n",
       "    .dataframe thead th {\n",
       "        text-align: right;\n",
       "    }\n",
       "</style>\n",
       "<table border=\"1\" class=\"dataframe\">\n",
       "  <thead>\n",
       "    <tr style=\"text-align: right;\">\n",
       "      <th></th>\n",
       "      <th>상호</th>\n",
       "      <th>쇼핑몰명</th>\n",
       "      <th>도메인명</th>\n",
       "      <th>전화번호</th>\n",
       "      <th>운영자이메일</th>\n",
       "      <th>영업형태</th>\n",
       "      <th>업소상태</th>\n",
       "      <th>매출수</th>\n",
       "      <th>사원수</th>\n",
       "      <th>설립일</th>\n",
       "      <th>플랫폼입점여부</th>\n",
       "      <th>사용솔루션</th>\n",
       "      <th>채널톡사용여부</th>\n",
       "    </tr>\n",
       "  </thead>\n",
       "  <tbody>\n",
       "    <tr>\n",
       "      <th>0</th>\n",
       "      <td>쇼핑코리아</td>\n",
       "      <td>구례산수유마트 / ssymart</td>\n",
       "      <td>https://www.ssymart.com</td>\n",
       "      <td>/0505-200-9090</td>\n",
       "      <td>ixx100@naver.com</td>\n",
       "      <td>일반쇼핑몰</td>\n",
       "      <td>영업중</td>\n",
       "      <td></td>\n",
       "      <td></td>\n",
       "      <td></td>\n",
       "      <td></td>\n",
       "      <td></td>\n",
       "      <td></td>\n",
       "    </tr>\n",
       "    <tr>\n",
       "      <th>1</th>\n",
       "      <td>원더 비지터(wonder visitor)</td>\n",
       "      <td>원더비지터 / wonder visitor</td>\n",
       "      <td>https://http://wondervisitor.com</td>\n",
       "      <td>070-4226-7566</td>\n",
       "      <td>wondervisitor@wondervisitor.com</td>\n",
       "      <td>일반쇼핑몰</td>\n",
       "      <td>영업중</td>\n",
       "      <td></td>\n",
       "      <td></td>\n",
       "      <td></td>\n",
       "      <td></td>\n",
       "      <td></td>\n",
       "      <td></td>\n",
       "    </tr>\n",
       "    <tr>\n",
       "      <th>2</th>\n",
       "      <td>(주)로샤</td>\n",
       "      <td>에어로샤 / AIROSHA</td>\n",
       "      <td>https://airosha.shop</td>\n",
       "      <td>070-7492-6858</td>\n",
       "      <td>web_master@rosha.co.kr</td>\n",
       "      <td>일반쇼핑몰</td>\n",
       "      <td>영업중</td>\n",
       "      <td></td>\n",
       "      <td></td>\n",
       "      <td></td>\n",
       "      <td></td>\n",
       "      <td></td>\n",
       "      <td></td>\n",
       "    </tr>\n",
       "    <tr>\n",
       "      <th>3</th>\n",
       "      <td>(주)삼성아이티브이</td>\n",
       "      <td>samsungitv/삼성아이티브이</td>\n",
       "      <td>https://www.samsungitv.co.kr</td>\n",
       "      <td>02-572-7367~8</td>\n",
       "      <td>imsanghun@naver.com</td>\n",
       "      <td>일반쇼핑몰</td>\n",
       "      <td>영업중</td>\n",
       "      <td></td>\n",
       "      <td></td>\n",
       "      <td></td>\n",
       "      <td></td>\n",
       "      <td></td>\n",
       "      <td></td>\n",
       "    </tr>\n",
       "    <tr>\n",
       "      <th>4</th>\n",
       "      <td>마인드케어클럽(MIND CARE CLUB)</td>\n",
       "      <td>마인드케어클럽 / mindcareclub</td>\n",
       "      <td>https://mindcareclub.mysoho.com</td>\n",
       "      <td>070-8065-2935</td>\n",
       "      <td>key960210@gmail.com</td>\n",
       "      <td>일반쇼핑몰</td>\n",
       "      <td>영업중</td>\n",
       "      <td></td>\n",
       "      <td></td>\n",
       "      <td></td>\n",
       "      <td></td>\n",
       "      <td></td>\n",
       "      <td></td>\n",
       "    </tr>\n",
       "  </tbody>\n",
       "</table>\n",
       "</div>"
      ],
      "text/plain": [
       "                        상호                    쇼핑몰명  \\\n",
       "0                    쇼핑코리아       구례산수유마트 / ssymart   \n",
       "1   원더 비지터(wonder visitor)  원더비지터 / wonder visitor   \n",
       "2                    (주)로샤          에어로샤 / AIROSHA   \n",
       "3               (주)삼성아이티브이      samsungitv/삼성아이티브이   \n",
       "4  마인드케어클럽(MIND CARE CLUB)  마인드케어클럽 / mindcareclub   \n",
       "\n",
       "                               도메인명            전화번호  \\\n",
       "0           https://www.ssymart.com  /0505-200-9090   \n",
       "1  https://http://wondervisitor.com   070-4226-7566   \n",
       "2              https://airosha.shop   070-7492-6858   \n",
       "3      https://www.samsungitv.co.kr   02-572-7367~8   \n",
       "4   https://mindcareclub.mysoho.com   070-8065-2935   \n",
       "\n",
       "                            운영자이메일   영업형태 업소상태 매출수 사원수 설립일 플랫폼입점여부 사용솔루션  \\\n",
       "0                 ixx100@naver.com  일반쇼핑몰  영업중                             \n",
       "1  wondervisitor@wondervisitor.com  일반쇼핑몰  영업중                             \n",
       "2           web_master@rosha.co.kr  일반쇼핑몰  영업중                             \n",
       "3              imsanghun@naver.com  일반쇼핑몰  영업중                             \n",
       "4              key960210@gmail.com  일반쇼핑몰  영업중                             \n",
       "\n",
       "  채널톡사용여부  \n",
       "0          \n",
       "1          \n",
       "2          \n",
       "3          \n",
       "4          "
      ]
     },
     "execution_count": 2,
     "metadata": {},
     "output_type": "execute_result"
    }
   ],
   "source": [
    "crawler_utils = Utills(raw_data=raw_data_before_processing)\n",
    "raw_data = crawler_utils.add_empty_column(column_ls='매출수 사원수 설립일 플랫폼입점여부 사용솔루션 채널톡사용여부'.split())\n",
    "raw_data = crawler_utils.cleaning_url(data=raw_data)\n",
    "raw_data.head()"
   ]
  },
  {
   "cell_type": "markdown",
   "metadata": {},
   "source": [
    "# Job Korea"
   ]
  },
  {
   "cell_type": "code",
   "execution_count": 3,
   "metadata": {},
   "outputs": [],
   "source": [
    "# crawler.search_corporation()"
   ]
  },
  {
   "cell_type": "markdown",
   "metadata": {},
   "source": [
    "# Shopping Mall"
   ]
  },
  {
   "cell_type": "code",
   "execution_count": 3,
   "metadata": {},
   "outputs": [
    {
     "name": "stderr",
     "output_type": "stream",
     "text": [
      "0it [00:00, ?it/s]"
     ]
    },
    {
     "name": "stdout",
     "output_type": "stream",
     "text": [
      ">> crawling:  https://www.ssymart.com\n"
     ]
    },
    {
     "name": "stderr",
     "output_type": "stream",
     "text": [
      "1it [00:03,  3.52s/it]"
     ]
    },
    {
     "name": "stdout",
     "output_type": "stream",
     "text": [
      ">> crawling:  https://http://wondervisitor.com\n"
     ]
    },
    {
     "name": "stderr",
     "output_type": "stream",
     "text": [
      "2it [00:12,  7.02s/it]"
     ]
    },
    {
     "name": "stdout",
     "output_type": "stream",
     "text": [
      ">> crawling:  https://airosha.shop\n"
     ]
    },
    {
     "name": "stderr",
     "output_type": "stream",
     "text": [
      "3it [00:16,  5.59s/it]"
     ]
    },
    {
     "name": "stdout",
     "output_type": "stream",
     "text": [
      ">> crawling:  https://www.samsungitv.co.kr\n"
     ]
    },
    {
     "name": "stderr",
     "output_type": "stream",
     "text": [
      "4it [00:19,  4.56s/it]"
     ]
    },
    {
     "name": "stdout",
     "output_type": "stream",
     "text": [
      ">> crawling:  https://mindcareclub.mysoho.com\n"
     ]
    },
    {
     "name": "stderr",
     "output_type": "stream",
     "text": [
      "5it [00:22,  4.54s/it]\n"
     ]
    },
    {
     "ename": "NotImplementedError",
     "evalue": "",
     "output_type": "error",
     "traceback": [
      "\u001b[1;31m---------------------------------------------------------------------------\u001b[0m",
      "\u001b[1;31mNotImplementedError\u001b[0m                       Traceback (most recent call last)",
      "Cell \u001b[1;32mIn[3], line 16\u001b[0m\n\u001b[0;32m     13\u001b[0m         raw_data\u001b[39m.\u001b[39mto_excel(os\u001b[39m.\u001b[39mpath\u001b[39m.\u001b[39mjoin(Project_PATH, \u001b[39m'\u001b[39m\u001b[39mjobkorea\u001b[39m\u001b[39m'\u001b[39m, \u001b[39m'\u001b[39m\u001b[39mresult\u001b[39m\u001b[39m'\u001b[39m, \u001b[39m'\u001b[39m\u001b[39mtemp_rs.xlsx\u001b[39m\u001b[39m'\u001b[39m))\n\u001b[0;32m     15\u001b[0m     \u001b[39melse\u001b[39;00m: \n\u001b[1;32m---> 16\u001b[0m         \u001b[39mraise\u001b[39;00m \u001b[39mNotImplementedError\u001b[39;00m\n\u001b[0;32m     18\u001b[0m raw_data\u001b[39m.\u001b[39mto_excel(os\u001b[39m.\u001b[39mpath\u001b[39m.\u001b[39mjoin(Project_PATH, \u001b[39m'\u001b[39m\u001b[39mjobkorea\u001b[39m\u001b[39m'\u001b[39m, \u001b[39m'\u001b[39m\u001b[39mresult\u001b[39m\u001b[39m'\u001b[39m, \u001b[39m'\u001b[39m\u001b[39mtemp_rs.xlsx\u001b[39m\u001b[39m'\u001b[39m))\n",
      "\u001b[1;31mNotImplementedError\u001b[0m: "
     ]
    }
   ],
   "source": [
    "# to_be_crawled = crawler_utils.compare_progress(target = raw_data, interrupted_data = )\n",
    "\n",
    "\n",
    "# for idx, shopping_mall_url in tqdm(enumerate(to_be_crawled['도메인명'])):\n",
    "for idx, shopping_mall_url in tqdm(enumerate(raw_data['도메인명'])):\n",
    "    if idx < 5:\n",
    "        print('>> crawling: ', shopping_mall_url)\n",
    "        rs = crawler.search_channel_and_solution(shopping_mall_url, channel_talk='channel.io')\n",
    "        # to_be_crawled.loc[idx, '사용솔루션'] = rs['사용솔루션']\n",
    "        # to_be_crawled.loc[idx, '채널톡사용여부'] = rs['채널톡사용여부']\n",
    "        raw_data.loc[idx, '사용솔루션'] = rs['사용솔루션']\n",
    "        raw_data.loc[idx, '채널톡사용여부'] = rs['채널톡사용여부']\n",
    "        raw_data.to_excel(os.path.join(Project_PATH, 'jobkorea', 'result', 'temp_rs.xlsx'))\n",
    "\n",
    "    else: \n",
    "        raise NotImplementedError\n",
    "\n",
    "raw_data.to_excel(os.path.join(Project_PATH, 'jobkorea', 'result', 'temp_rs.xlsx'))"
   ]
  },
  {
   "cell_type": "code",
   "execution_count": 4,
   "metadata": {},
   "outputs": [],
   "source": []
  },
  {
   "cell_type": "code",
   "execution_count": null,
   "metadata": {},
   "outputs": [],
   "source": []
  }
 ],
 "metadata": {
  "kernelspec": {
   "display_name": "khrrc",
   "language": "python",
   "name": "python3"
  },
  "language_info": {
   "codemirror_mode": {
    "name": "ipython",
    "version": 3
   },
   "file_extension": ".py",
   "mimetype": "text/x-python",
   "name": "python",
   "nbconvert_exporter": "python",
   "pygments_lexer": "ipython3",
   "version": "3.8.16"
  },
  "orig_nbformat": 4
 },
 "nbformat": 4,
 "nbformat_minor": 2
}
