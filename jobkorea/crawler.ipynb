{
 "cells": [
  {
   "cell_type": "code",
   "execution_count": 1,
   "metadata": {},
   "outputs": [],
   "source": [
    "import os\n",
    "import sys\n",
    "import re\n",
    "import copy\n",
    "import pandas as pd\n",
    "from tqdm import tqdm\n",
    "from selenium import webdriver\n",
    "\n",
    "# set utils\n",
    "util_path = os.pardir\n",
    "if util_path not in sys.path:\n",
    "    sys.path.append(os.pardir)\n",
    "from utils.helper import load_config\n",
    "from crawler import Crawler, Utills\n",
    "\n",
    "# load config file\n",
    "Project_PATH = os.path.abspath(os.path.join(os.getcwd(), os.pardir))\n",
    "CONFIG_PATH = \"config.yaml\"\n",
    "config = load_config(os.path.join(Project_PATH, 'jobkorea', CONFIG_PATH))\n",
    "raw_data_before_processing = pd.read_excel(config['raw_data'], engine='openpyxl')\n",
    "init_url = config['init_url']\n",
    "selen_path_dict = config['selen_path']\n",
    "solutions = config['solution']\n",
    "\n",
    "# chrome option\n",
    "chrome_opt = webdriver.ChromeOptions()\n",
    "prefs = {\"profile.managed_default_content_settings.images\": 2}\n",
    "chrome_opt.add_experimental_option(\"prefs\", prefs) \n",
    "chrome_opt.add_experimental_option(\"detach\", True) # prevent automatically closed tab\n",
    "chrome_opt.add_experimental_option(\"excludeSwitches\", [\"enable-logging\"])\n",
    "\n",
    "#location\n",
    "location = \"khrrc\"\n",
    "\n",
    "\n",
    "if location == 'home':\n",
    "    crawler = Crawler(selen_path = selen_path_dict['home'],\n",
    "                        chromeOption=chrome_opt,\n",
    "                        init_url=init_url,\n",
    "                        solutions = solutions)\n",
    "elif location == 'laptop':\n",
    "    crawler = Crawler(selen_path = selen_path_dict['laptop'],\n",
    "                        chromeOption=chrome_opt,\n",
    "                        init_url=init_url,\n",
    "                        solutions = solutions)\n",
    "elif location == 'khrrc':\n",
    "    crawler = Crawler(selen_path = selen_path_dict['khrrc'],\n",
    "                        chromeOption=chrome_opt,\n",
    "                        init_url=init_url, \n",
    "                        solutions = solutions)\n",
    "else:\n",
    "    raise NotImplementedError"
   ]
  },
  {
   "cell_type": "code",
   "execution_count": 2,
   "metadata": {},
   "outputs": [
    {
     "data": {
      "text/html": [
       "<div>\n",
       "<style scoped>\n",
       "    .dataframe tbody tr th:only-of-type {\n",
       "        vertical-align: middle;\n",
       "    }\n",
       "\n",
       "    .dataframe tbody tr th {\n",
       "        vertical-align: top;\n",
       "    }\n",
       "\n",
       "    .dataframe thead th {\n",
       "        text-align: right;\n",
       "    }\n",
       "</style>\n",
       "<table border=\"1\" class=\"dataframe\">\n",
       "  <thead>\n",
       "    <tr style=\"text-align: right;\">\n",
       "      <th></th>\n",
       "      <th>상호</th>\n",
       "      <th>쇼핑몰명</th>\n",
       "      <th>도메인명</th>\n",
       "      <th>전화번호</th>\n",
       "      <th>운영자이메일</th>\n",
       "      <th>영업형태</th>\n",
       "      <th>업소상태</th>\n",
       "      <th>매출수</th>\n",
       "      <th>사원수</th>\n",
       "      <th>설립일</th>\n",
       "      <th>플랫폼입점여부</th>\n",
       "      <th>사용솔루션</th>\n",
       "      <th>채널톡사용여부</th>\n",
       "    </tr>\n",
       "  </thead>\n",
       "  <tbody>\n",
       "    <tr>\n",
       "      <th>0</th>\n",
       "      <td>쇼핑코리아</td>\n",
       "      <td>구례산수유마트 / ssymart</td>\n",
       "      <td>https://www.ssymart.com</td>\n",
       "      <td>/0505-200-9090</td>\n",
       "      <td>ixx100@naver.com</td>\n",
       "      <td>일반쇼핑몰</td>\n",
       "      <td>영업중</td>\n",
       "      <td></td>\n",
       "      <td></td>\n",
       "      <td></td>\n",
       "      <td></td>\n",
       "      <td></td>\n",
       "      <td></td>\n",
       "    </tr>\n",
       "    <tr>\n",
       "      <th>1</th>\n",
       "      <td>원더 비지터(wonder visitor)</td>\n",
       "      <td>원더비지터 / wonder visitor</td>\n",
       "      <td>https://http://wondervisitor.com</td>\n",
       "      <td>070-4226-7566</td>\n",
       "      <td>wondervisitor@wondervisitor.com</td>\n",
       "      <td>일반쇼핑몰</td>\n",
       "      <td>영업중</td>\n",
       "      <td></td>\n",
       "      <td></td>\n",
       "      <td></td>\n",
       "      <td></td>\n",
       "      <td></td>\n",
       "      <td></td>\n",
       "    </tr>\n",
       "    <tr>\n",
       "      <th>2</th>\n",
       "      <td>(주)로샤</td>\n",
       "      <td>에어로샤 / AIROSHA</td>\n",
       "      <td>https://airosha.shop</td>\n",
       "      <td>070-7492-6858</td>\n",
       "      <td>web_master@rosha.co.kr</td>\n",
       "      <td>일반쇼핑몰</td>\n",
       "      <td>영업중</td>\n",
       "      <td></td>\n",
       "      <td></td>\n",
       "      <td></td>\n",
       "      <td></td>\n",
       "      <td></td>\n",
       "      <td></td>\n",
       "    </tr>\n",
       "    <tr>\n",
       "      <th>3</th>\n",
       "      <td>(주)삼성아이티브이</td>\n",
       "      <td>samsungitv/삼성아이티브이</td>\n",
       "      <td>https://www.samsungitv.co.kr</td>\n",
       "      <td>02-572-7367~8</td>\n",
       "      <td>imsanghun@naver.com</td>\n",
       "      <td>일반쇼핑몰</td>\n",
       "      <td>영업중</td>\n",
       "      <td></td>\n",
       "      <td></td>\n",
       "      <td></td>\n",
       "      <td></td>\n",
       "      <td></td>\n",
       "      <td></td>\n",
       "    </tr>\n",
       "    <tr>\n",
       "      <th>4</th>\n",
       "      <td>마인드케어클럽(MIND CARE CLUB)</td>\n",
       "      <td>마인드케어클럽 / mindcareclub</td>\n",
       "      <td>https://mindcareclub.mysoho.com</td>\n",
       "      <td>070-8065-2935</td>\n",
       "      <td>key960210@gmail.com</td>\n",
       "      <td>일반쇼핑몰</td>\n",
       "      <td>영업중</td>\n",
       "      <td></td>\n",
       "      <td></td>\n",
       "      <td></td>\n",
       "      <td></td>\n",
       "      <td></td>\n",
       "      <td></td>\n",
       "    </tr>\n",
       "  </tbody>\n",
       "</table>\n",
       "</div>"
      ],
      "text/plain": [
       "                        상호                    쇼핑몰명  \\\n",
       "0                    쇼핑코리아       구례산수유마트 / ssymart   \n",
       "1   원더 비지터(wonder visitor)  원더비지터 / wonder visitor   \n",
       "2                    (주)로샤          에어로샤 / AIROSHA   \n",
       "3               (주)삼성아이티브이      samsungitv/삼성아이티브이   \n",
       "4  마인드케어클럽(MIND CARE CLUB)  마인드케어클럽 / mindcareclub   \n",
       "\n",
       "                               도메인명            전화번호  \\\n",
       "0           https://www.ssymart.com  /0505-200-9090   \n",
       "1  https://http://wondervisitor.com   070-4226-7566   \n",
       "2              https://airosha.shop   070-7492-6858   \n",
       "3      https://www.samsungitv.co.kr   02-572-7367~8   \n",
       "4   https://mindcareclub.mysoho.com   070-8065-2935   \n",
       "\n",
       "                            운영자이메일   영업형태 업소상태 매출수 사원수 설립일 플랫폼입점여부 사용솔루션  \\\n",
       "0                 ixx100@naver.com  일반쇼핑몰  영업중                             \n",
       "1  wondervisitor@wondervisitor.com  일반쇼핑몰  영업중                             \n",
       "2           web_master@rosha.co.kr  일반쇼핑몰  영업중                             \n",
       "3              imsanghun@naver.com  일반쇼핑몰  영업중                             \n",
       "4              key960210@gmail.com  일반쇼핑몰  영업중                             \n",
       "\n",
       "  채널톡사용여부  \n",
       "0          \n",
       "1          \n",
       "2          \n",
       "3          \n",
       "4          "
      ]
     },
     "execution_count": 2,
     "metadata": {},
     "output_type": "execute_result"
    }
   ],
   "source": [
    "crawler_utils = Utills(raw_data=raw_data_before_processing)\n",
    "raw_data = crawler_utils.add_empty_column(column_ls='매출수 사원수 설립일 플랫폼입점여부 사용솔루션 채널톡사용여부'.split())\n",
    "raw_data = crawler_utils.cleaning_url(data=raw_data)\n",
    "raw_data.head()"
   ]
  },
  {
   "cell_type": "markdown",
   "metadata": {},
   "source": [
    "# Job Korea"
   ]
  },
  {
   "cell_type": "code",
   "execution_count": 3,
   "metadata": {},
   "outputs": [],
   "source": [
    "# crawler.search_corporation()"
   ]
  },
  {
   "cell_type": "markdown",
   "metadata": {},
   "source": [
    "# Shopping Mall"
   ]
  },
  {
   "cell_type": "code",
   "execution_count": 4,
   "metadata": {},
   "outputs": [
    {
     "name": "stderr",
     "output_type": "stream",
     "text": [
      "1000it [56:19,  3.38s/it]\n"
     ]
    },
    {
     "ename": "OSError",
     "evalue": "Cannot save file into a non-existent directory: 'c:\\Users\\snukh\\Proj\\crawler\\jobkorea\\result'",
     "output_type": "error",
     "traceback": [
      "\u001b[1;31m---------------------------------------------------------------------------\u001b[0m",
      "\u001b[1;31mOSError\u001b[0m                                   Traceback (most recent call last)",
      "\u001b[1;32mc:\\Users\\snukh\\Proj\\crawler\\jobkorea\\crawler.ipynb 셀 6\u001b[0m in \u001b[0;36m<cell line: 13>\u001b[1;34m()\u001b[0m\n\u001b[0;32m      <a href='vscode-notebook-cell:/c%3A/Users/snukh/Proj/crawler/jobkorea/crawler.ipynb#W5sZmlsZQ%3D%3D?line=6'>7</a>\u001b[0m         \u001b[39m# raw_data.to_excel(os.path.join(Project_PATH, 'jobkorea', 'result', 'temp_rs.xlsx'))\u001b[39;00m\n\u001b[0;32m      <a href='vscode-notebook-cell:/c%3A/Users/snukh/Proj/crawler/jobkorea/crawler.ipynb#W5sZmlsZQ%3D%3D?line=7'>8</a>\u001b[0m \n\u001b[0;32m      <a href='vscode-notebook-cell:/c%3A/Users/snukh/Proj/crawler/jobkorea/crawler.ipynb#W5sZmlsZQ%3D%3D?line=8'>9</a>\u001b[0m     \u001b[39melse\u001b[39;00m: \n\u001b[0;32m     <a href='vscode-notebook-cell:/c%3A/Users/snukh/Proj/crawler/jobkorea/crawler.ipynb#W5sZmlsZQ%3D%3D?line=9'>10</a>\u001b[0m         \u001b[39m# raise NotImplementedError\u001b[39;00m\n\u001b[0;32m     <a href='vscode-notebook-cell:/c%3A/Users/snukh/Proj/crawler/jobkorea/crawler.ipynb#W5sZmlsZQ%3D%3D?line=10'>11</a>\u001b[0m         \u001b[39mbreak\u001b[39;00m\n\u001b[1;32m---> <a href='vscode-notebook-cell:/c%3A/Users/snukh/Proj/crawler/jobkorea/crawler.ipynb#W5sZmlsZQ%3D%3D?line=12'>13</a>\u001b[0m raw_data\u001b[39m.\u001b[39;49mto_excel(os\u001b[39m.\u001b[39;49mpath\u001b[39m.\u001b[39;49mjoin(Project_PATH, \u001b[39m'\u001b[39;49m\u001b[39mjobkorea\u001b[39;49m\u001b[39m'\u001b[39;49m, \u001b[39m'\u001b[39;49m\u001b[39mresult\u001b[39;49m\u001b[39m'\u001b[39;49m, \u001b[39m'\u001b[39;49m\u001b[39mtemp_rs.xlsx\u001b[39;49m\u001b[39m'\u001b[39;49m))\n",
      "File \u001b[1;32mc:\\Users\\snukh\\anaconda3\\envs\\py38\\lib\\site-packages\\pandas\\core\\generic.py:2345\u001b[0m, in \u001b[0;36mNDFrame.to_excel\u001b[1;34m(self, excel_writer, sheet_name, na_rep, float_format, columns, header, index, index_label, startrow, startcol, engine, merge_cells, encoding, inf_rep, verbose, freeze_panes, storage_options)\u001b[0m\n\u001b[0;32m   2332\u001b[0m \u001b[39mfrom\u001b[39;00m \u001b[39mpandas\u001b[39;00m\u001b[39m.\u001b[39;00m\u001b[39mio\u001b[39;00m\u001b[39m.\u001b[39;00m\u001b[39mformats\u001b[39;00m\u001b[39m.\u001b[39;00m\u001b[39mexcel\u001b[39;00m \u001b[39mimport\u001b[39;00m ExcelFormatter\n\u001b[0;32m   2334\u001b[0m formatter \u001b[39m=\u001b[39m ExcelFormatter(\n\u001b[0;32m   2335\u001b[0m     df,\n\u001b[0;32m   2336\u001b[0m     na_rep\u001b[39m=\u001b[39mna_rep,\n\u001b[1;32m   (...)\u001b[0m\n\u001b[0;32m   2343\u001b[0m     inf_rep\u001b[39m=\u001b[39minf_rep,\n\u001b[0;32m   2344\u001b[0m )\n\u001b[1;32m-> 2345\u001b[0m formatter\u001b[39m.\u001b[39;49mwrite(\n\u001b[0;32m   2346\u001b[0m     excel_writer,\n\u001b[0;32m   2347\u001b[0m     sheet_name\u001b[39m=\u001b[39;49msheet_name,\n\u001b[0;32m   2348\u001b[0m     startrow\u001b[39m=\u001b[39;49mstartrow,\n\u001b[0;32m   2349\u001b[0m     startcol\u001b[39m=\u001b[39;49mstartcol,\n\u001b[0;32m   2350\u001b[0m     freeze_panes\u001b[39m=\u001b[39;49mfreeze_panes,\n\u001b[0;32m   2351\u001b[0m     engine\u001b[39m=\u001b[39;49mengine,\n\u001b[0;32m   2352\u001b[0m     storage_options\u001b[39m=\u001b[39;49mstorage_options,\n\u001b[0;32m   2353\u001b[0m )\n",
      "File \u001b[1;32mc:\\Users\\snukh\\anaconda3\\envs\\py38\\lib\\site-packages\\pandas\\io\\formats\\excel.py:888\u001b[0m, in \u001b[0;36mExcelFormatter.write\u001b[1;34m(self, writer, sheet_name, startrow, startcol, freeze_panes, engine, storage_options)\u001b[0m\n\u001b[0;32m    884\u001b[0m     need_save \u001b[39m=\u001b[39m \u001b[39mFalse\u001b[39;00m\n\u001b[0;32m    885\u001b[0m \u001b[39melse\u001b[39;00m:\n\u001b[0;32m    886\u001b[0m     \u001b[39m# error: Cannot instantiate abstract class 'ExcelWriter' with abstract\u001b[39;00m\n\u001b[0;32m    887\u001b[0m     \u001b[39m# attributes 'engine', 'save', 'supported_extensions' and 'write_cells'\u001b[39;00m\n\u001b[1;32m--> 888\u001b[0m     writer \u001b[39m=\u001b[39m ExcelWriter(  \u001b[39m# type: ignore[abstract]\u001b[39;49;00m\n\u001b[0;32m    889\u001b[0m         writer, engine\u001b[39m=\u001b[39;49mengine, storage_options\u001b[39m=\u001b[39;49mstorage_options\n\u001b[0;32m    890\u001b[0m     )\n\u001b[0;32m    891\u001b[0m     need_save \u001b[39m=\u001b[39m \u001b[39mTrue\u001b[39;00m\n\u001b[0;32m    893\u001b[0m \u001b[39mtry\u001b[39;00m:\n",
      "File \u001b[1;32mc:\\Users\\snukh\\anaconda3\\envs\\py38\\lib\\site-packages\\pandas\\io\\excel\\_openpyxl.py:53\u001b[0m, in \u001b[0;36mOpenpyxlWriter.__init__\u001b[1;34m(self, path, engine, date_format, datetime_format, mode, storage_options, if_sheet_exists, engine_kwargs, **kwargs)\u001b[0m\n\u001b[0;32m     49\u001b[0m \u001b[39mfrom\u001b[39;00m \u001b[39mopenpyxl\u001b[39;00m\u001b[39m.\u001b[39;00m\u001b[39mworkbook\u001b[39;00m \u001b[39mimport\u001b[39;00m Workbook\n\u001b[0;32m     51\u001b[0m engine_kwargs \u001b[39m=\u001b[39m combine_kwargs(engine_kwargs, kwargs)\n\u001b[1;32m---> 53\u001b[0m \u001b[39msuper\u001b[39;49m()\u001b[39m.\u001b[39;49m\u001b[39m__init__\u001b[39;49m(\n\u001b[0;32m     54\u001b[0m     path,\n\u001b[0;32m     55\u001b[0m     mode\u001b[39m=\u001b[39;49mmode,\n\u001b[0;32m     56\u001b[0m     storage_options\u001b[39m=\u001b[39;49mstorage_options,\n\u001b[0;32m     57\u001b[0m     if_sheet_exists\u001b[39m=\u001b[39;49mif_sheet_exists,\n\u001b[0;32m     58\u001b[0m     engine_kwargs\u001b[39m=\u001b[39;49mengine_kwargs,\n\u001b[0;32m     59\u001b[0m )\n\u001b[0;32m     61\u001b[0m \u001b[39m# ExcelWriter replaced \"a\" by \"r+\" to allow us to first read the excel file from\u001b[39;00m\n\u001b[0;32m     62\u001b[0m \u001b[39m# the file and later write to it\u001b[39;00m\n\u001b[0;32m     63\u001b[0m \u001b[39mif\u001b[39;00m \u001b[39m\"\u001b[39m\u001b[39mr+\u001b[39m\u001b[39m\"\u001b[39m \u001b[39min\u001b[39;00m \u001b[39mself\u001b[39m\u001b[39m.\u001b[39mmode:  \u001b[39m# Load from existing workbook\u001b[39;00m\n",
      "File \u001b[1;32mc:\\Users\\snukh\\anaconda3\\envs\\py38\\lib\\site-packages\\pandas\\io\\excel\\_base.py:1106\u001b[0m, in \u001b[0;36mExcelWriter.__init__\u001b[1;34m(self, path, engine, date_format, datetime_format, mode, storage_options, if_sheet_exists, engine_kwargs, **kwargs)\u001b[0m\n\u001b[0;32m   1102\u001b[0m \u001b[39mself\u001b[39m\u001b[39m.\u001b[39mhandles \u001b[39m=\u001b[39m IOHandles(\n\u001b[0;32m   1103\u001b[0m     cast(IO[\u001b[39mbytes\u001b[39m], path), compression\u001b[39m=\u001b[39m{\u001b[39m\"\u001b[39m\u001b[39mcompression\u001b[39m\u001b[39m\"\u001b[39m: \u001b[39mNone\u001b[39;00m}\n\u001b[0;32m   1104\u001b[0m )\n\u001b[0;32m   1105\u001b[0m \u001b[39mif\u001b[39;00m \u001b[39mnot\u001b[39;00m \u001b[39misinstance\u001b[39m(path, ExcelWriter):\n\u001b[1;32m-> 1106\u001b[0m     \u001b[39mself\u001b[39m\u001b[39m.\u001b[39mhandles \u001b[39m=\u001b[39m get_handle(\n\u001b[0;32m   1107\u001b[0m         path, mode, storage_options\u001b[39m=\u001b[39;49mstorage_options, is_text\u001b[39m=\u001b[39;49m\u001b[39mFalse\u001b[39;49;00m\n\u001b[0;32m   1108\u001b[0m     )\n\u001b[0;32m   1109\u001b[0m \u001b[39mself\u001b[39m\u001b[39m.\u001b[39msheets: \u001b[39mdict\u001b[39m[\u001b[39mstr\u001b[39m, Any] \u001b[39m=\u001b[39m {}\n\u001b[0;32m   1110\u001b[0m \u001b[39mself\u001b[39m\u001b[39m.\u001b[39mcur_sheet \u001b[39m=\u001b[39m \u001b[39mNone\u001b[39;00m\n",
      "File \u001b[1;32mc:\\Users\\snukh\\anaconda3\\envs\\py38\\lib\\site-packages\\pandas\\io\\common.py:694\u001b[0m, in \u001b[0;36mget_handle\u001b[1;34m(path_or_buf, mode, encoding, compression, memory_map, is_text, errors, storage_options)\u001b[0m\n\u001b[0;32m    692\u001b[0m \u001b[39m# Only for write methods\u001b[39;00m\n\u001b[0;32m    693\u001b[0m \u001b[39mif\u001b[39;00m \u001b[39m\"\u001b[39m\u001b[39mr\u001b[39m\u001b[39m\"\u001b[39m \u001b[39mnot\u001b[39;00m \u001b[39min\u001b[39;00m mode \u001b[39mand\u001b[39;00m is_path:\n\u001b[1;32m--> 694\u001b[0m     check_parent_directory(\u001b[39mstr\u001b[39;49m(handle))\n\u001b[0;32m    696\u001b[0m \u001b[39mif\u001b[39;00m compression:\n\u001b[0;32m    697\u001b[0m     \u001b[39mif\u001b[39;00m compression \u001b[39m!=\u001b[39m \u001b[39m\"\u001b[39m\u001b[39mzstd\u001b[39m\u001b[39m\"\u001b[39m:\n\u001b[0;32m    698\u001b[0m         \u001b[39m# compression libraries do not like an explicit text-mode\u001b[39;00m\n",
      "File \u001b[1;32mc:\\Users\\snukh\\anaconda3\\envs\\py38\\lib\\site-packages\\pandas\\io\\common.py:568\u001b[0m, in \u001b[0;36mcheck_parent_directory\u001b[1;34m(path)\u001b[0m\n\u001b[0;32m    566\u001b[0m parent \u001b[39m=\u001b[39m Path(path)\u001b[39m.\u001b[39mparent\n\u001b[0;32m    567\u001b[0m \u001b[39mif\u001b[39;00m \u001b[39mnot\u001b[39;00m parent\u001b[39m.\u001b[39mis_dir():\n\u001b[1;32m--> 568\u001b[0m     \u001b[39mraise\u001b[39;00m \u001b[39mOSError\u001b[39;00m(\u001b[39mrf\u001b[39m\u001b[39m\"\u001b[39m\u001b[39mCannot save file into a non-existent directory: \u001b[39m\u001b[39m'\u001b[39m\u001b[39m{\u001b[39;00mparent\u001b[39m}\u001b[39;00m\u001b[39m'\u001b[39m\u001b[39m\"\u001b[39m)\n",
      "\u001b[1;31mOSError\u001b[0m: Cannot save file into a non-existent directory: 'c:\\Users\\snukh\\Proj\\crawler\\jobkorea\\result'"
     ]
    }
   ],
   "source": [
    "for idx, shopping_mall_url in tqdm(enumerate(raw_data['도메인명'])):\n",
    "    if idx < 1000:\n",
    "        rs = crawler.search_channel_and_solution(shopping_mall_url, channel_talk='channel.io')\n",
    "        raw_data.loc[idx, '사용솔루션'] = rs['사용솔루션']\n",
    "        raw_data.loc[idx, '채널톡사용여부'] = rs['채널톡사용여부']\n",
    "\n",
    "    else: \n",
    "        # raise NotImplementedError\n",
    "        break\n",
    "\n",
    "raw_data.to_excel(os.path.join(Project_PATH, 'jobkorea', 'result', 'temp_rs.xlsx'))"
   ]
  },
  {
   "cell_type": "code",
   "execution_count": 5,
   "metadata": {},
   "outputs": [],
   "source": [
    "raw_data.to_excel(os.path.join(Project_PATH, 'jobkorea', 'result', 'temp_rs.xlsx'))"
   ]
  },
  {
   "cell_type": "markdown",
   "metadata": {},
   "source": []
  },
  {
   "cell_type": "code",
   "execution_count": 3,
   "metadata": {},
   "outputs": [
    {
     "name": "stderr",
     "output_type": "stream",
     "text": [
      "11185it [3:51:22,  1.24s/it] \n"
     ]
    }
   ],
   "source": [
    "for idx, shopping_mall_url in tqdm(enumerate(raw_data['도메인명'])):\n",
    "    if (idx > 1000) and (idx < 4000):\n",
    "        rs = crawler.search_channel_and_solution(shopping_mall_url, channel_talk='channel.io')\n",
    "        raw_data.loc[idx, '사용솔루션'] = rs['사용솔루션']\n",
    "        raw_data.loc[idx, '채널톡사용여부'] = rs['채널톡사용여부']\n",
    "\n",
    "    else: \n",
    "        # raise NotImplementedError\n",
    "        pass\n",
    "\n",
    "raw_data.to_excel(os.path.join(Project_PATH, 'jobkorea', 'result', 'temp_rs2.xlsx'))"
   ]
  },
  {
   "cell_type": "code",
   "execution_count": 4,
   "metadata": {},
   "outputs": [
    {
     "name": "stderr",
     "output_type": "stream",
     "text": [
      "11185it [4:12:22,  1.35s/it]\n"
     ]
    }
   ],
   "source": [
    "for idx, shopping_mall_url in tqdm(enumerate(raw_data['도메인명'])):\n",
    "    if (idx >= 4000) and (idx < 8000):\n",
    "        rs = crawler.search_channel_and_solution(shopping_mall_url, channel_talk='channel.io')\n",
    "        raw_data.loc[idx, '사용솔루션'] = rs['사용솔루션']\n",
    "        raw_data.loc[idx, '채널톡사용여부'] = rs['채널톡사용여부']\n",
    "\n",
    "    else: \n",
    "        # raise NotImplementedError\n",
    "        pass\n",
    "\n",
    "raw_data.to_excel(os.path.join(Project_PATH, 'jobkorea', 'result', 'temp_rs3.xlsx'))"
   ]
  },
  {
   "cell_type": "code",
   "execution_count": 5,
   "metadata": {},
   "outputs": [
    {
     "name": "stderr",
     "output_type": "stream",
     "text": [
      "11185it [4:35:16,  1.48s/it]\n"
     ]
    }
   ],
   "source": [
    "for idx, shopping_mall_url in tqdm(enumerate(raw_data['도메인명'])):\n",
    "    if idx >= 8000:\n",
    "        rs = crawler.search_channel_and_solution(shopping_mall_url, channel_talk='channel.io')\n",
    "        raw_data.loc[idx, '사용솔루션'] = rs['사용솔루션']\n",
    "        raw_data.loc[idx, '채널톡사용여부'] = rs['채널톡사용여부']\n",
    "\n",
    "    else: \n",
    "        # raise NotImplementedError\n",
    "        pass\n",
    "\n",
    "raw_data.to_excel(os.path.join(Project_PATH, 'jobkorea', 'result', 'temp_rs4.xlsx'))"
   ]
  },
  {
   "cell_type": "code",
   "execution_count": 6,
   "metadata": {},
   "outputs": [
    {
     "name": "stderr",
     "output_type": "stream",
     "text": [
      "11185it [01:04, 173.45it/s]\n"
     ]
    }
   ],
   "source": [
    "for idx, shopping_mall_url in tqdm(enumerate(raw_data['도메인명'])):\n",
    "    if idx == 1000:\n",
    "        rs = crawler.search_channel_and_solution(shopping_mall_url, channel_talk='channel.io')\n",
    "        raw_data.loc[idx, '사용솔루션'] = rs['사용솔루션']\n",
    "        raw_data.loc[idx, '채널톡사용여부'] = rs['채널톡사용여부']\n",
    "\n",
    "    else: \n",
    "        # raise NotImplementedError\n",
    "        pass\n",
    "\n",
    "raw_data.to_excel(os.path.join(Project_PATH, 'jobkorea', 'result', 'temp_rs5.xlsx'))"
   ]
  },
  {
   "cell_type": "code",
   "execution_count": null,
   "metadata": {},
   "outputs": [],
   "source": []
  }
 ],
 "metadata": {
  "kernelspec": {
   "display_name": "py38",
   "language": "python",
   "name": "python3"
  },
  "language_info": {
   "codemirror_mode": {
    "name": "ipython",
    "version": 3
   },
   "file_extension": ".py",
   "mimetype": "text/x-python",
   "name": "python",
   "nbconvert_exporter": "python",
   "pygments_lexer": "ipython3",
   "version": "3.8.15"
  },
  "orig_nbformat": 4,
  "vscode": {
   "interpreter": {
    "hash": "cc6483c1696e3a12b82fbd4f5822bd97a59f079f4aecc73c88ccf6b64cf7cf99"
   }
  }
 },
 "nbformat": 4,
 "nbformat_minor": 2
}
