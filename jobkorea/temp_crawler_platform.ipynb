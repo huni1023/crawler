{
 "cells": [
  {
   "cell_type": "code",
   "execution_count": 1,
   "metadata": {},
   "outputs": [],
   "source": [
    "import os\n",
    "import sys\n",
    "import re\n",
    "import copy\n",
    "import pandas as pd\n",
    "from tqdm import tqdm\n",
    "from selenium import webdriver\n",
    "\n",
    "# set utils\n",
    "util_path = os.pardir\n",
    "if util_path not in sys.path:\n",
    "    sys.path.append(os.pardir)\n",
    "from utils.helper import load_config\n",
    "from crawler import Crawler, Utills\n",
    "\n",
    "# load config file\n",
    "Project_PATH = os.path.abspath(os.path.join(os.getcwd(), os.pardir))\n",
    "CONFIG_PATH = \"config.yaml\"\n",
    "config = load_config(os.path.join(Project_PATH, 'jobkorea', CONFIG_PATH))\n",
    "init_url = config['init_url']\n",
    "selen_path_dict = config['selen_path']\n",
    "solutions = config['solution']\n",
    "platform_string = config['platform']\n",
    "\n",
    "# chrome option\n",
    "chrome_opt = webdriver.ChromeOptions()\n",
    "prefs = {\"profile.managed_default_content_settings.images\": 2}\n",
    "chrome_opt.add_experimental_option(\"prefs\", prefs) \n",
    "chrome_opt.add_experimental_option(\"detach\", True) # prevent automatically closed tab\n",
    "chrome_opt.add_experimental_option(\"excludeSwitches\", [\"enable-logging\"])\n",
    "chrome_opt.headless = True # it should be run without UI (Headless)\n",
    "\n",
    "\n",
    "#location\n",
    "location = \"home\"\n",
    "\n",
    "\n",
    "if location == 'home':\n",
    "    crawler = Crawler(selen_path = selen_path_dict['home'],\n",
    "                        chromeOption=chrome_opt,\n",
    "                        init_url=init_url,\n",
    "                        solutions = solutions,\n",
    "                        platform_string = platform_string)\n",
    "elif location == 'laptop':\n",
    "    crawler = Crawler(selen_path = selen_path_dict['laptop'],\n",
    "                        chromeOption=chrome_opt,\n",
    "                        init_url=init_url,\n",
    "                        solutions = solutions,\n",
    "                        platform_string = platform_string)\n",
    "elif location == 'khrrc':\n",
    "    crawler = Crawler(selen_path = selen_path_dict['khrrc'],\n",
    "                        chromeOption=chrome_opt,\n",
    "                        init_url=init_url, \n",
    "                        solutions = solutions,\n",
    "                        platform_string = platform_string)\n",
    "else:\n",
    "    raise NotImplementedError"
   ]
  },
  {
   "cell_type": "code",
   "execution_count": 3,
   "metadata": {},
   "outputs": [
    {
     "data": {
      "text/plain": [
       "(11185, 15)"
      ]
     },
     "execution_count": 3,
     "metadata": {},
     "output_type": "execute_result"
    }
   ],
   "source": [
    "#unlike other notebook, raw_data is previously crawled dataframe which contained error information\n",
    "raw_data = pd.read_excel(os.path.join(Project_PATH, 'jobkorea', 'result', 'cleaned_230427.xlsx'), engine='openpyxl')\n",
    "raw_data.shape"
   ]
  },
  {
   "attachments": {},
   "cell_type": "markdown",
   "metadata": {},
   "source": [
    "# Platform"
   ]
  },
  {
   "cell_type": "code",
   "execution_count": 4,
   "metadata": {},
   "outputs": [
    {
     "name": "stderr",
     "output_type": "stream",
     "text": [
      "5it [00:02,  1.78it/s]\n"
     ]
    }
   ],
   "source": [
    "for idx, row in tqdm(raw_data.iterrows()):\n",
    "    if (row['사용솔루션'] == 'error') and (row['채널톡사용여부'] == 'error'):        \n",
    "            raw_data.loc[idx, '플랫폼입점여부'] = 'error'\n",
    "    else:\n",
    "        if idx < 5:\n",
    "            shopping_mall_url = row['도메인명']\n",
    "            rs = crawler.search_platform(shopping_mall_url)\n",
    "            raw_data.loc[idx, '플랫폼입점여부'] = rs['플랫폼입점여부']\n",
    "        else:\n",
    "            break\n",
    "\n",
    "raw_data.to_excel(os.path.join(Project_PATH, 'jobkorea', 'result', 'rs_shopping_mall_platfrom.xlsx'))"
   ]
  },
  {
   "cell_type": "code",
   "execution_count": null,
   "metadata": {},
   "outputs": [],
   "source": []
  }
 ],
 "metadata": {
  "kernelspec": {
   "display_name": "py38",
   "language": "python",
   "name": "python3"
  },
  "language_info": {
   "codemirror_mode": {
    "name": "ipython",
    "version": 3
   },
   "file_extension": ".py",
   "mimetype": "text/x-python",
   "name": "python",
   "nbconvert_exporter": "python",
   "pygments_lexer": "ipython3",
   "version": "3.8.16"
  },
  "orig_nbformat": 4
 },
 "nbformat": 4,
 "nbformat_minor": 2
}
