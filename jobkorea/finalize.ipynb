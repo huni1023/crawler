{
 "cells": [
  {
   "cell_type": "code",
   "execution_count": 7,
   "metadata": {},
   "outputs": [],
   "source": [
    "import os, sys, re, time\n",
    "import pandas as pd\n",
    "from tqdm import tqdm\n",
    "\n",
    "# set utils\n",
    "util_path = os.pardir\n",
    "if util_path not in sys.path:\n",
    "    sys.path.append(os.pardir)\n",
    "from utils.helper import load_config\n",
    "from crawler import Crawler, Utills\n",
    "\n",
    "Project_PATH = os.path.abspath(os.path.join(os.getcwd(), os.pardir))\n",
    "jorkorea_dir = 'jobkorea'\n",
    "result_dir = 'result'\n",
    "file_jobkorea_name = 'rs_corp8000.xlsx'\n",
    "file_task23_name = 'task2_3_re2.xlsx'"
   ]
  },
  {
   "cell_type": "code",
   "execution_count": null,
   "metadata": {},
   "outputs": [],
   "source": [
    "def delete_useless_index_col(data):\n",
    "    toDrop = []\n",
    "    for column in data.columns:\n",
    "        if 'Unnamed' in column:\n",
    "            toDrop.append(column)\n",
    "    return data.drop(toDrop, axis=1)"
   ]
  },
  {
   "attachments": {},
   "cell_type": "markdown",
   "metadata": {},
   "source": [
    "# 사용솔루션, 채널톡 사용여부"
   ]
  },
  {
   "cell_type": "code",
   "execution_count": 8,
   "metadata": {},
   "outputs": [
    {
     "data": {
      "text/plain": [
       "(11185, 14)"
      ]
     },
     "execution_count": 8,
     "metadata": {},
     "output_type": "execute_result"
    }
   ],
   "source": [
    "df_23 = pd.read_excel(os.path.join(Project_PATH, jorkorea_dir, result_dir, file_task23_name))\n",
    "df_23 = delete_useless_index_col(df_23)\n",
    "df_23.shape"
   ]
  },
  {
   "cell_type": "code",
   "execution_count": 9,
   "metadata": {},
   "outputs": [
    {
     "data": {
      "text/html": [
       "<div>\n",
       "<style scoped>\n",
       "    .dataframe tbody tr th:only-of-type {\n",
       "        vertical-align: middle;\n",
       "    }\n",
       "\n",
       "    .dataframe tbody tr th {\n",
       "        vertical-align: top;\n",
       "    }\n",
       "\n",
       "    .dataframe thead th {\n",
       "        text-align: right;\n",
       "    }\n",
       "</style>\n",
       "<table border=\"1\" class=\"dataframe\">\n",
       "  <thead>\n",
       "    <tr style=\"text-align: right;\">\n",
       "      <th></th>\n",
       "      <th>Unnamed: 0</th>\n",
       "      <th>상호</th>\n",
       "      <th>쇼핑몰명</th>\n",
       "      <th>도메인명</th>\n",
       "      <th>전화번호</th>\n",
       "      <th>운영자이메일</th>\n",
       "      <th>영업형태</th>\n",
       "      <th>업소상태</th>\n",
       "      <th>매출수</th>\n",
       "      <th>사원수</th>\n",
       "      <th>설립일</th>\n",
       "      <th>플랫폼입점여부</th>\n",
       "      <th>사용솔루션</th>\n",
       "      <th>채널톡사용여부</th>\n",
       "    </tr>\n",
       "  </thead>\n",
       "  <tbody>\n",
       "    <tr>\n",
       "      <th>0</th>\n",
       "      <td>0</td>\n",
       "      <td>쇼핑코리아</td>\n",
       "      <td>구례산수유마트 / ssymart</td>\n",
       "      <td>https://www.ssymart.com</td>\n",
       "      <td>/0505-200-9090</td>\n",
       "      <td>ixx100@naver.com</td>\n",
       "      <td>일반쇼핑몰</td>\n",
       "      <td>영업중</td>\n",
       "      <td>NaN</td>\n",
       "      <td>NaN</td>\n",
       "      <td>NaN</td>\n",
       "      <td>NaN</td>\n",
       "      <td>cafe</td>\n",
       "      <td>N</td>\n",
       "    </tr>\n",
       "    <tr>\n",
       "      <th>1</th>\n",
       "      <td>1</td>\n",
       "      <td>원더 비지터(wonder visitor)</td>\n",
       "      <td>원더비지터 / wonder visitor</td>\n",
       "      <td>https://http://wondervisitor.com</td>\n",
       "      <td>070-4226-7566</td>\n",
       "      <td>wondervisitor@wondervisitor.com</td>\n",
       "      <td>일반쇼핑몰</td>\n",
       "      <td>영업중</td>\n",
       "      <td>NaN</td>\n",
       "      <td>NaN</td>\n",
       "      <td>NaN</td>\n",
       "      <td>NaN</td>\n",
       "      <td>error</td>\n",
       "      <td>error</td>\n",
       "    </tr>\n",
       "    <tr>\n",
       "      <th>2</th>\n",
       "      <td>2</td>\n",
       "      <td>(주)로샤</td>\n",
       "      <td>에어로샤 / AIROSHA</td>\n",
       "      <td>https://airosha.shop</td>\n",
       "      <td>070-7492-6858</td>\n",
       "      <td>web_master@rosha.co.kr</td>\n",
       "      <td>일반쇼핑몰</td>\n",
       "      <td>영업중</td>\n",
       "      <td>NaN</td>\n",
       "      <td>NaN</td>\n",
       "      <td>NaN</td>\n",
       "      <td>NaN</td>\n",
       "      <td>cafe</td>\n",
       "      <td>N</td>\n",
       "    </tr>\n",
       "    <tr>\n",
       "      <th>3</th>\n",
       "      <td>3</td>\n",
       "      <td>(주)삼성아이티브이</td>\n",
       "      <td>samsungitv/삼성아이티브이</td>\n",
       "      <td>https://www.samsungitv.co.kr</td>\n",
       "      <td>02-572-7367~8</td>\n",
       "      <td>imsanghun@naver.com</td>\n",
       "      <td>일반쇼핑몰</td>\n",
       "      <td>영업중</td>\n",
       "      <td>NaN</td>\n",
       "      <td>NaN</td>\n",
       "      <td>NaN</td>\n",
       "      <td>NaN</td>\n",
       "      <td>N</td>\n",
       "      <td>N</td>\n",
       "    </tr>\n",
       "    <tr>\n",
       "      <th>4</th>\n",
       "      <td>4</td>\n",
       "      <td>마인드케어클럽(MIND CARE CLUB)</td>\n",
       "      <td>마인드케어클럽 / mindcareclub</td>\n",
       "      <td>https://mindcareclub.mysoho.com</td>\n",
       "      <td>070-8065-2935</td>\n",
       "      <td>key960210@gmail.com</td>\n",
       "      <td>일반쇼핑몰</td>\n",
       "      <td>영업중</td>\n",
       "      <td>NaN</td>\n",
       "      <td>NaN</td>\n",
       "      <td>NaN</td>\n",
       "      <td>NaN</td>\n",
       "      <td>N, 메이크샵</td>\n",
       "      <td>N</td>\n",
       "    </tr>\n",
       "  </tbody>\n",
       "</table>\n",
       "</div>"
      ],
      "text/plain": [
       "   Unnamed: 0                       상호                    쇼핑몰명  \\\n",
       "0           0                    쇼핑코리아       구례산수유마트 / ssymart   \n",
       "1           1   원더 비지터(wonder visitor)  원더비지터 / wonder visitor   \n",
       "2           2                    (주)로샤          에어로샤 / AIROSHA   \n",
       "3           3               (주)삼성아이티브이      samsungitv/삼성아이티브이   \n",
       "4           4  마인드케어클럽(MIND CARE CLUB)  마인드케어클럽 / mindcareclub   \n",
       "\n",
       "                               도메인명            전화번호  \\\n",
       "0           https://www.ssymart.com  /0505-200-9090   \n",
       "1  https://http://wondervisitor.com   070-4226-7566   \n",
       "2              https://airosha.shop   070-7492-6858   \n",
       "3      https://www.samsungitv.co.kr   02-572-7367~8   \n",
       "4   https://mindcareclub.mysoho.com   070-8065-2935   \n",
       "\n",
       "                            운영자이메일   영업형태 업소상태  매출수  사원수  설립일  플랫폼입점여부  \\\n",
       "0                 ixx100@naver.com  일반쇼핑몰  영업중  NaN  NaN  NaN      NaN   \n",
       "1  wondervisitor@wondervisitor.com  일반쇼핑몰  영업중  NaN  NaN  NaN      NaN   \n",
       "2           web_master@rosha.co.kr  일반쇼핑몰  영업중  NaN  NaN  NaN      NaN   \n",
       "3              imsanghun@naver.com  일반쇼핑몰  영업중  NaN  NaN  NaN      NaN   \n",
       "4              key960210@gmail.com  일반쇼핑몰  영업중  NaN  NaN  NaN      NaN   \n",
       "\n",
       "     사용솔루션 채널톡사용여부  \n",
       "0     cafe       N  \n",
       "1    error   error  \n",
       "2     cafe       N  \n",
       "3        N       N  \n",
       "4  N, 메이크샵       N  "
      ]
     },
     "execution_count": 9,
     "metadata": {},
     "output_type": "execute_result"
    }
   ],
   "source": [
    "df_23.head()"
   ]
  },
  {
   "attachments": {},
   "cell_type": "markdown",
   "metadata": {},
   "source": [
    "## 사용솔루션"
   ]
  },
  {
   "cell_type": "code",
   "execution_count": 12,
   "metadata": {},
   "outputs": [
    {
     "data": {
      "text/plain": [
       "array(['cafe', 'error', 'N', 'N, 메이크샵', 'N, 아임웹', 'cafe, Wisa',\n",
       "       'cafe, wordpress', 'N, 식스샾', 'N, 고도', 'N, wordpress',\n",
       "       'cafe, 고도, 메이크샵', 'cafe, 아임웹', 'N, 고도, 메이크샵', 'cafe, 고도',\n",
       "       'cafe, 고도, 아임웹', 'N, Wisa', 'cafe, 메이크샵', 'cafe, 식스샾',\n",
       "       'cafe, 고도, 식스샾, 메이크샵', 'N, 고도, 메이크샵, 아임웹', 'N, 고도, Wisa',\n",
       "       'N, 고도, 식스샾', 'N, wordpress, 메이크샵', 'N, 고도, 아임웹', 'N, Wisa, 메이크샵'],\n",
       "      dtype=object)"
      ]
     },
     "execution_count": 12,
     "metadata": {},
     "output_type": "execute_result"
    }
   ],
   "source": [
    "df_23['사용솔루션'].unique()"
   ]
  },
  {
   "cell_type": "code",
   "execution_count": 13,
   "metadata": {},
   "outputs": [
    {
     "data": {
      "text/plain": [
       "25"
      ]
     },
     "execution_count": 13,
     "metadata": {},
     "output_type": "execute_result"
    }
   ],
   "source": [
    "len(df_23['사용솔루션'].unique())"
   ]
  },
  {
   "cell_type": "code",
   "execution_count": 14,
   "metadata": {},
   "outputs": [
    {
     "data": {
      "text/plain": [
       "array(['cafe', 'error', 'N', '메이크샵', '아임웹', 'cafe, Wisa',\n",
       "       'cafe, wordpress', '식스샾', '고도', 'wordpress', 'cafe, 고도, 메이크샵',\n",
       "       'cafe, 아임웹', '고도, 메이크샵', 'cafe, 고도', 'cafe, 고도, 아임웹', 'Wisa',\n",
       "       'cafe, 메이크샵', 'cafe, 식스샾', 'cafe, 고도, 식스샾, 메이크샵', '고도, 메이크샵, 아임웹',\n",
       "       '고도, Wisa', '고도, 식스샾', 'wordpress, 메이크샵', '고도, 아임웹', 'Wisa, 메이크샵'],\n",
       "      dtype=object)"
      ]
     },
     "execution_count": 14,
     "metadata": {},
     "output_type": "execute_result"
    }
   ],
   "source": [
    "def delete_N(string):\n",
    "    r\"\"\"simple function which delete useless N in value\n",
    "    \"\"\"\n",
    "    if (string.find('N') != -1) and (string != 'N'):\n",
    "        return re.sub('N, ', '', string)\n",
    "    else:\n",
    "        return string\n",
    "\n",
    "df_23['사용솔루션'] = df_23['사용솔루션'].apply(delete_N)\n",
    "df_23['사용솔루션'].unique()"
   ]
  },
  {
   "attachments": {},
   "cell_type": "markdown",
   "metadata": {},
   "source": [
    "## 채널톡"
   ]
  },
  {
   "cell_type": "code",
   "execution_count": 15,
   "metadata": {},
   "outputs": [
    {
     "data": {
      "text/plain": [
       "array(['N', 'error', 'Y'], dtype=object)"
      ]
     },
     "execution_count": 15,
     "metadata": {},
     "output_type": "execute_result"
    }
   ],
   "source": [
    "df_23['채널톡사용여부'].unique()"
   ]
  },
  {
   "attachments": {},
   "cell_type": "markdown",
   "metadata": {},
   "source": [
    "## 저장"
   ]
  },
  {
   "cell_type": "code",
   "execution_count": 16,
   "metadata": {},
   "outputs": [],
   "source": [
    "df_23.to_excel(os.path.join(Project_PATH, jorkorea_dir, result_dir, 'cleaned_23.xlsx'))"
   ]
  },
  {
   "attachments": {},
   "cell_type": "markdown",
   "metadata": {},
   "source": [
    "# JobKorea"
   ]
  },
  {
   "cell_type": "code",
   "execution_count": 17,
   "metadata": {},
   "outputs": [
    {
     "data": {
      "text/plain": [
       "(11185, 16)"
      ]
     },
     "execution_count": 17,
     "metadata": {},
     "output_type": "execute_result"
    }
   ],
   "source": [
    "df_job = pd.read_excel(os.path.join(Project_PATH, jorkorea_dir, result_dir, file_jobkorea_name))\n",
    "df_job = delete_useless_index_col(df_job)\n",
    "df_job.shape"
   ]
  },
  {
   "cell_type": "code",
   "execution_count": 18,
   "metadata": {},
   "outputs": [
    {
     "data": {
      "text/html": [
       "<div>\n",
       "<style scoped>\n",
       "    .dataframe tbody tr th:only-of-type {\n",
       "        vertical-align: middle;\n",
       "    }\n",
       "\n",
       "    .dataframe tbody tr th {\n",
       "        vertical-align: top;\n",
       "    }\n",
       "\n",
       "    .dataframe thead th {\n",
       "        text-align: right;\n",
       "    }\n",
       "</style>\n",
       "<table border=\"1\" class=\"dataframe\">\n",
       "  <thead>\n",
       "    <tr style=\"text-align: right;\">\n",
       "      <th></th>\n",
       "      <th>Unnamed: 0</th>\n",
       "      <th>상호</th>\n",
       "      <th>쇼핑몰명</th>\n",
       "      <th>도메인명</th>\n",
       "      <th>전화번호</th>\n",
       "      <th>운영자이메일</th>\n",
       "      <th>영업형태</th>\n",
       "      <th>업소상태</th>\n",
       "      <th>count_list</th>\n",
       "      <th>href</th>\n",
       "      <th>매출수</th>\n",
       "      <th>사원수</th>\n",
       "      <th>설립일</th>\n",
       "      <th>플랫폼입점여부</th>\n",
       "      <th>사용솔루션</th>\n",
       "      <th>채널톡사용여부</th>\n",
       "    </tr>\n",
       "  </thead>\n",
       "  <tbody>\n",
       "    <tr>\n",
       "      <th>0</th>\n",
       "      <td>0</td>\n",
       "      <td>쇼핑코리아</td>\n",
       "      <td>구례산수유마트 / ssymart</td>\n",
       "      <td>https://www.ssymart.com</td>\n",
       "      <td>/0505-200-9090</td>\n",
       "      <td>ixx100@naver.com</td>\n",
       "      <td>일반쇼핑몰</td>\n",
       "      <td>영업중</td>\n",
       "      <td>4</td>\n",
       "      <td>https://www.jobkorea.co.kr/Recruit/Co_Read/C/s...</td>\n",
       "      <td>NaN</td>\n",
       "      <td>NaN</td>\n",
       "      <td>NaN</td>\n",
       "      <td>NaN</td>\n",
       "      <td>NaN</td>\n",
       "      <td>NaN</td>\n",
       "    </tr>\n",
       "    <tr>\n",
       "      <th>1</th>\n",
       "      <td>1</td>\n",
       "      <td>원더 비지터(wonder visitor)</td>\n",
       "      <td>원더비지터 / wonder visitor</td>\n",
       "      <td>https://http://wondervisitor.com</td>\n",
       "      <td>070-4226-7566</td>\n",
       "      <td>wondervisitor@wondervisitor.com</td>\n",
       "      <td>일반쇼핑몰</td>\n",
       "      <td>영업중</td>\n",
       "      <td>0</td>\n",
       "      <td>error</td>\n",
       "      <td>NaN</td>\n",
       "      <td>NaN</td>\n",
       "      <td>NaN</td>\n",
       "      <td>NaN</td>\n",
       "      <td>NaN</td>\n",
       "      <td>NaN</td>\n",
       "    </tr>\n",
       "    <tr>\n",
       "      <th>2</th>\n",
       "      <td>2</td>\n",
       "      <td>(주)로샤</td>\n",
       "      <td>에어로샤 / AIROSHA</td>\n",
       "      <td>https://airosha.shop</td>\n",
       "      <td>070-7492-6858</td>\n",
       "      <td>web_master@rosha.co.kr</td>\n",
       "      <td>일반쇼핑몰</td>\n",
       "      <td>영업중</td>\n",
       "      <td>3</td>\n",
       "      <td>https://www.jobkorea.co.kr/Recruit/Co_Read/C/r...</td>\n",
       "      <td>NaN</td>\n",
       "      <td>NaN</td>\n",
       "      <td>NaN</td>\n",
       "      <td>NaN</td>\n",
       "      <td>NaN</td>\n",
       "      <td>NaN</td>\n",
       "    </tr>\n",
       "    <tr>\n",
       "      <th>3</th>\n",
       "      <td>3</td>\n",
       "      <td>(주)삼성아이티브이</td>\n",
       "      <td>samsungitv/삼성아이티브이</td>\n",
       "      <td>https://www.samsungitv.co.kr</td>\n",
       "      <td>02-572-7367~8</td>\n",
       "      <td>imsanghun@naver.com</td>\n",
       "      <td>일반쇼핑몰</td>\n",
       "      <td>영업중</td>\n",
       "      <td>1</td>\n",
       "      <td>https://www.jobkorea.co.kr/Recruit/Co_Read/C/s...</td>\n",
       "      <td>NaN</td>\n",
       "      <td>NaN</td>\n",
       "      <td>NaN</td>\n",
       "      <td>NaN</td>\n",
       "      <td>NaN</td>\n",
       "      <td>NaN</td>\n",
       "    </tr>\n",
       "    <tr>\n",
       "      <th>4</th>\n",
       "      <td>4</td>\n",
       "      <td>마인드케어클럽(MIND CARE CLUB)</td>\n",
       "      <td>마인드케어클럽 / mindcareclub</td>\n",
       "      <td>https://mindcareclub.mysoho.com</td>\n",
       "      <td>070-8065-2935</td>\n",
       "      <td>key960210@gmail.com</td>\n",
       "      <td>일반쇼핑몰</td>\n",
       "      <td>영업중</td>\n",
       "      <td>0</td>\n",
       "      <td>error</td>\n",
       "      <td>NaN</td>\n",
       "      <td>NaN</td>\n",
       "      <td>NaN</td>\n",
       "      <td>NaN</td>\n",
       "      <td>NaN</td>\n",
       "      <td>NaN</td>\n",
       "    </tr>\n",
       "  </tbody>\n",
       "</table>\n",
       "</div>"
      ],
      "text/plain": [
       "   Unnamed: 0                       상호                    쇼핑몰명  \\\n",
       "0           0                    쇼핑코리아       구례산수유마트 / ssymart   \n",
       "1           1   원더 비지터(wonder visitor)  원더비지터 / wonder visitor   \n",
       "2           2                    (주)로샤          에어로샤 / AIROSHA   \n",
       "3           3               (주)삼성아이티브이      samsungitv/삼성아이티브이   \n",
       "4           4  마인드케어클럽(MIND CARE CLUB)  마인드케어클럽 / mindcareclub   \n",
       "\n",
       "                               도메인명            전화번호  \\\n",
       "0           https://www.ssymart.com  /0505-200-9090   \n",
       "1  https://http://wondervisitor.com   070-4226-7566   \n",
       "2              https://airosha.shop   070-7492-6858   \n",
       "3      https://www.samsungitv.co.kr   02-572-7367~8   \n",
       "4   https://mindcareclub.mysoho.com   070-8065-2935   \n",
       "\n",
       "                            운영자이메일   영업형태 업소상태 count_list  \\\n",
       "0                 ixx100@naver.com  일반쇼핑몰  영업중          4   \n",
       "1  wondervisitor@wondervisitor.com  일반쇼핑몰  영업중          0   \n",
       "2           web_master@rosha.co.kr  일반쇼핑몰  영업중          3   \n",
       "3              imsanghun@naver.com  일반쇼핑몰  영업중          1   \n",
       "4              key960210@gmail.com  일반쇼핑몰  영업중          0   \n",
       "\n",
       "                                                href  매출수  사원수  설립일  플랫폼입점여부  \\\n",
       "0  https://www.jobkorea.co.kr/Recruit/Co_Read/C/s...  NaN  NaN  NaN      NaN   \n",
       "1                                              error  NaN  NaN  NaN      NaN   \n",
       "2  https://www.jobkorea.co.kr/Recruit/Co_Read/C/r...  NaN  NaN  NaN      NaN   \n",
       "3  https://www.jobkorea.co.kr/Recruit/Co_Read/C/s...  NaN  NaN  NaN      NaN   \n",
       "4                                              error  NaN  NaN  NaN      NaN   \n",
       "\n",
       "   사용솔루션  채널톡사용여부  \n",
       "0    NaN      NaN  \n",
       "1    NaN      NaN  \n",
       "2    NaN      NaN  \n",
       "3    NaN      NaN  \n",
       "4    NaN      NaN  "
      ]
     },
     "execution_count": 18,
     "metadata": {},
     "output_type": "execute_result"
    }
   ],
   "source": [
    "df_job.head()"
   ]
  },
  {
   "cell_type": "code",
   "execution_count": 22,
   "metadata": {},
   "outputs": [
    {
     "data": {
      "text/plain": [
       "5993"
      ]
     },
     "execution_count": 22,
     "metadata": {},
     "output_type": "execute_result"
    }
   ],
   "source": [
    "count = 0\n",
    "for data in df_job['href'].values:\n",
    "    if str(data).find('error') != -1:\n",
    "        count += 1\n",
    "\n",
    "count"
   ]
  },
  {
   "cell_type": "code",
   "execution_count": null,
   "metadata": {},
   "outputs": [],
   "source": []
  }
 ],
 "metadata": {
  "kernelspec": {
   "display_name": "py38",
   "language": "python",
   "name": "python3"
  },
  "language_info": {
   "codemirror_mode": {
    "name": "ipython",
    "version": 3
   },
   "file_extension": ".py",
   "mimetype": "text/x-python",
   "name": "python",
   "nbconvert_exporter": "python",
   "pygments_lexer": "ipython3",
   "version": "3.8.16"
  },
  "orig_nbformat": 4
 },
 "nbformat": 4,
 "nbformat_minor": 2
}
