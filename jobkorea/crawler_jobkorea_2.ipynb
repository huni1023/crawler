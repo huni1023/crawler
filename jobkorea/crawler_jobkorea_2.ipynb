{
 "cells": [
  {
   "cell_type": "code",
   "execution_count": 1,
   "metadata": {},
   "outputs": [],
   "source": [
    "import os\n",
    "import sys\n",
    "import time\n",
    "import re\n",
    "import copy\n",
    "import platform\n",
    "import pandas as pd\n",
    "from tqdm import tqdm\n",
    "from selenium import webdriver\n",
    "\n",
    "# set utils\n",
    "util_path = os.pardir\n",
    "if util_path not in sys.path:\n",
    "    sys.path.append(os.pardir)\n",
    "from utils.helper import load_config\n",
    "from crawler import Crawler, Utills\n",
    "\n",
    "\n",
    "Project_PATH = os.path.abspath(os.path.join(os.getcwd(), os.pardir))\n",
    "Save_PATH = os.path.join(Project_PATH, 'jobkorea', 'result')\n",
    "\n",
    "# load config file\n",
    "CONFIG_PATH = \"config.yaml\"\n",
    "config = load_config(os.path.join(Project_PATH, 'jobkorea', CONFIG_PATH))\n",
    "raw_data = pd.read_excel('job_korea_step1.xlsx', engine='openpyxl')\n",
    "init_url = config['init_url']\n",
    "selen_path_dict = config['selen_path']\n",
    "chrome_opt_dict = config['chrome_option']\n",
    "\n",
    "# chrome option\n",
    "chrome_opt = webdriver.ChromeOptions()\n",
    "for _ in chrome_opt_dict['default']:\n",
    "    chrome_opt.add_argument(_)\n",
    "\n",
    "if platform.system() == 'Linux':\n",
    "    for _ in chrome_opt_dict['headless']:\n",
    "        chrome_opt.add_argument(_)\n",
    "    chrome_opt.add_argument(f'user-agent={chrome_opt_dict[\"user_agent\"]}')\n",
    "\n",
    "#location\n",
    "location = \"khrrc\"\n",
    "\n",
    "\n",
    "if location == 'home':\n",
    "    crawler = Crawler(selen_path = selen_path_dict['home'],\n",
    "                        chromeOption=chrome_opt,\n",
    "                        init_url=init_url,\n",
    "                        solutions = config['solution'],\n",
    "                        platform_string = config['platform'])\n",
    "elif location == 'laptop':\n",
    "    crawler = Crawler(selen_path = selen_path_dict['laptop'],\n",
    "                        chromeOption=chrome_opt,\n",
    "                        init_url=init_url,\n",
    "                        solutions = config['solution'],\n",
    "                        platform_string = config['platform'])\n",
    "elif location == 'khrrc':\n",
    "    crawler = Crawler(selen_path = selen_path_dict['khrrc'],\n",
    "                        chromeOption=chrome_opt,\n",
    "                        init_url=init_url, \n",
    "                        solutions = config['solution'],\n",
    "                        platform_string = config['platform'])\n",
    "elif location == 'ubuntu':\n",
    "    crawler = Crawler(selen_path= selen_path_dict['ubuntu'],\n",
    "                    chromeOption = chrome_opt,\n",
    "                    init_url = init_url,\n",
    "                    solutions = config['solution'],\n",
    "                    platform_string = config['platform'])\n",
    "else:\n",
    "    raise NotImplementedError"
   ]
  },
  {
   "cell_type": "code",
   "execution_count": 2,
   "metadata": {},
   "outputs": [
    {
     "data": {
      "text/plain": [
       "(11185, 16)"
      ]
     },
     "execution_count": 2,
     "metadata": {},
     "output_type": "execute_result"
    }
   ],
   "source": [
    "crawler_utils = Utills(raw_data=raw_data)\n",
    "raw_data.shape"
   ]
  },
  {
   "cell_type": "code",
   "execution_count": 3,
   "metadata": {},
   "outputs": [
    {
     "name": "stderr",
     "output_type": "stream",
     "text": [
      "11185it [00:02, 4028.15it/s]\n"
     ]
    }
   ],
   "source": [
    "for idx, corp_url in tqdm(enumerate(raw_data['href'])):\n",
    "    if idx < 2000:\n",
    "        rs = crawler.search_corporation_info(corp_url)\n",
    "        raw_data.loc[idx, '매출수'] = rs['매출수']\n",
    "        raw_data.loc[idx, '사원수'] = rs['사원수']\n",
    "        raw_data.loc[idx, '설립일'] = rs['설립일']\n",
    "        \n",
    "        if idx % 500 == 99:\n",
    "            time.sleep(60) \n",
    "\n",
    "    else:\n",
    "        pass\n",
    "\n",
    "raw_data.to_excel(os.path.join(Save_PATH, 'rs_corp_info_2000.xlsx'))\n"
   ]
  }
 ],
 "metadata": {
  "kernelspec": {
   "display_name": "py38",
   "language": "python",
   "name": "python3"
  },
  "language_info": {
   "codemirror_mode": {
    "name": "ipython",
    "version": 3
   },
   "file_extension": ".py",
   "mimetype": "text/x-python",
   "name": "python",
   "nbconvert_exporter": "python",
   "pygments_lexer": "ipython3",
   "version": "3.8.16"
  },
  "orig_nbformat": 4
 },
 "nbformat": 4,
 "nbformat_minor": 2
}
