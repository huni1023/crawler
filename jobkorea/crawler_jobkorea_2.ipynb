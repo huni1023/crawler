{
 "cells": [
  {
   "cell_type": "code",
   "execution_count": null,
   "metadata": {},
   "outputs": [],
   "source": [
    "import os\n",
    "import sys\n",
    "import time\n",
    "import re\n",
    "import copy\n",
    "import pandas as pd\n",
    "from tqdm import tqdm\n",
    "from selenium import webdriver\n",
    "\n",
    "# set utils\n",
    "util_path = os.pardir\n",
    "if util_path not in sys.path:\n",
    "    sys.path.append(os.pardir)\n",
    "from utils.helper import load_config\n",
    "from crawler import Crawler, Utills\n",
    "\n",
    "# load config file\n",
    "Project_PATH = os.path.abspath(os.path.join(os.getcwd(), os.pardir))\n",
    "CONFIG_PATH = \"config.yaml\"\n",
    "config = load_config(os.path.join(Project_PATH, 'jobkorea', CONFIG_PATH))\n",
    "raw_data = pd.read_excel('job_korea_step1.xlsx', engine='openpyxl')\n",
    "init_url = config['init_url']\n",
    "selen_path_dict = config['selen_path']\n",
    "solutions = config['solution']\n",
    "\n",
    "# chrome option\n",
    "chrome_opt = webdriver.ChromeOptions()\n",
    "prefs = {\"profile.managed_default_content_settings.images\": 2}\n",
    "chrome_opt.add_experimental_option(\"prefs\", prefs) \n",
    "chrome_opt.add_experimental_option(\"detach\", True) # prevent automatically closed tab\n",
    "chrome_opt.add_experimental_option(\"excludeSwitches\", [\"enable-logging\"])\n",
    "\n",
    "#location\n",
    "location = \"home\"\n",
    "\n",
    "\n",
    "if location == 'home':\n",
    "    crawler = Crawler(selen_path = selen_path_dict['home'],\n",
    "                        chromeOption=chrome_opt,\n",
    "                        init_url=init_url,\n",
    "                        solutions = solutions)\n",
    "elif location == 'laptop':\n",
    "    crawler = Crawler(selen_path = selen_path_dict['laptop'],\n",
    "                        chromeOption=chrome_opt,\n",
    "                        init_url=init_url,\n",
    "                        solutions = solutions)\n",
    "elif location == 'khrrc':\n",
    "    crawler = Crawler(selen_path = selen_path_dict['khrrc'],\n",
    "                        chromeOption=chrome_opt,\n",
    "                        init_url=init_url, \n",
    "                        solutions = solutions)\n",
    "else:\n",
    "    raise NotImplementedError"
   ]
  },
  {
   "cell_type": "code",
   "execution_count": null,
   "metadata": {},
   "outputs": [],
   "source": [
    "crawler_utils = Utills(raw_data=raw_data)\n",
    "raw_data.shape"
   ]
  },
  {
   "cell_type": "code",
   "execution_count": null,
   "metadata": {},
   "outputs": [],
   "source": [
    "for idx, corp_url in tqdm(enumerate(raw_data['href'])):\n",
    "    if idx < 10:\n",
    "        rs = crawler.search_corporation(corp_url)\n",
    "        raw_data.loc[idx, '매출수'] = rs['매출수']\n",
    "        raw_data.loc[idx, '사원수'] = rs['사원수']\n",
    "        raw_data.loc[idx, '설립일'] = rs['설립일']\n",
    "        \n",
    "        if idx % 500 == 99:\n",
    "            time.sleep(60) \n",
    "\n",
    "    else:\n",
    "        pass\n",
    "\n",
    "raw_data.to_excel(os.path.join(Project_PATH, 'jobkorea', 'result', 'rs_corp_info_1000.xlsx'))\n"
   ]
  }
 ],
 "metadata": {
  "language_info": {
   "name": "python"
  },
  "orig_nbformat": 4
 },
 "nbformat": 4,
 "nbformat_minor": 2
}
