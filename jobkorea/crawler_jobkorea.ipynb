{
 "cells": [
  {
   "cell_type": "code",
   "execution_count": 4,
   "metadata": {},
   "outputs": [],
   "source": [
    "import os\n",
    "import sys\n",
    "import re\n",
    "import copy\n",
    "import platform\n",
    "import pandas as pd\n",
    "from tqdm import tqdm\n",
    "from selenium import webdriver\n",
    "\n",
    "# set utils\n",
    "util_path = os.pardir\n",
    "if util_path not in sys.path:\n",
    "    sys.path.append(os.pardir)\n",
    "from utils.helper import load_config\n",
    "from crawler import Crawler, Utills\n",
    "\n",
    "\n",
    "Project_PATH = os.path.abspath(os.path.join(os.getcwd(), os.pardir))\n",
    "Save_PATH = os.path.join(Project_PATH, 'jobkorea', 'result')\n",
    "\n",
    "# load config file\n",
    "CONFIG_PATH = \"config.yaml\"\n",
    "config = load_config(os.path.join(Project_PATH, 'jobkorea', CONFIG_PATH))\n",
    "raw_data_before_processing = pd.read_excel(config['raw_data'], engine='openpyxl')\n",
    "init_url = config['init_url']\n",
    "selen_path_dict = config['selen_path']\n",
    "chrome_opt_dict = config['chrome_option']\n",
    "\n",
    "\n",
    "# chrome option\n",
    "chrome_opt = webdriver.ChromeOptions()\n",
    "for _ in chrome_opt_dict['default']:\n",
    "    chrome_opt.add_argument(_)\n",
    "\n",
    "if platform.system() == 'Linux':\n",
    "    for _ in chrome_opt_dict['headless']:\n",
    "        chrome_opt.add_argument(_)\n",
    "    chrome_opt.add_argument(f'user-agent={chrome_opt_dict[\"user_agent\"]}')\n",
    "\n",
    "\n",
    "\n",
    "#location\n",
    "location = \"home\"\n",
    "\n",
    "\n",
    "if location == 'home':\n",
    "    crawler = Crawler(selen_path = selen_path_dict['home'],\n",
    "                        chromeOption=chrome_opt,\n",
    "                        init_url=init_url,\n",
    "                        solutions = config['solution'],\n",
    "                        platform_string = config['platform'])\n",
    "elif location == 'laptop':\n",
    "    crawler = Crawler(selen_path = selen_path_dict['laptop'],\n",
    "                        chromeOption=chrome_opt,\n",
    "                        init_url=init_url,\n",
    "                        solutions = config['solution'],\n",
    "                        platform_string = config['platform'])\n",
    "elif location == 'khrrc':\n",
    "    crawler = Crawler(selen_path = selen_path_dict['khrrc'],\n",
    "                        chromeOption=chrome_opt,\n",
    "                        init_url=init_url, \n",
    "                        solutions = config['solution'],\n",
    "                        platform_string = config['platform'])\n",
    "elif location == 'ubuntu':\n",
    "    crawler = Crawler(selen_path= selen_path_dict['ubuntu'],\n",
    "                    chromeOption = chrome_opt,\n",
    "                    init_url = init_url,\n",
    "                    solutions = config['solution'],\n",
    "                    platform_string = config['platform'])\n",
    "else:\n",
    "    raise NotImplementedError"
   ]
  },
  {
   "cell_type": "code",
   "execution_count": 5,
   "metadata": {},
   "outputs": [
    {
     "data": {
      "text/html": [
       "<div>\n",
       "<style scoped>\n",
       "    .dataframe tbody tr th:only-of-type {\n",
       "        vertical-align: middle;\n",
       "    }\n",
       "\n",
       "    .dataframe tbody tr th {\n",
       "        vertical-align: top;\n",
       "    }\n",
       "\n",
       "    .dataframe thead th {\n",
       "        text-align: right;\n",
       "    }\n",
       "</style>\n",
       "<table border=\"1\" class=\"dataframe\">\n",
       "  <thead>\n",
       "    <tr style=\"text-align: right;\">\n",
       "      <th></th>\n",
       "      <th>상호</th>\n",
       "      <th>쇼핑몰명</th>\n",
       "      <th>도메인명</th>\n",
       "      <th>전화번호</th>\n",
       "      <th>운영자이메일</th>\n",
       "      <th>영업형태</th>\n",
       "      <th>업소상태</th>\n",
       "      <th>count_list</th>\n",
       "      <th>href</th>\n",
       "      <th>매출수</th>\n",
       "      <th>사원수</th>\n",
       "      <th>설립일</th>\n",
       "      <th>플랫폼입점여부</th>\n",
       "      <th>사용솔루션</th>\n",
       "      <th>채널톡사용여부</th>\n",
       "    </tr>\n",
       "  </thead>\n",
       "  <tbody>\n",
       "    <tr>\n",
       "      <th>0</th>\n",
       "      <td>쇼핑코리아</td>\n",
       "      <td>구례산수유마트 / ssymart</td>\n",
       "      <td>https://www.ssymart.com</td>\n",
       "      <td>/0505-200-9090</td>\n",
       "      <td>ixx100@naver.com</td>\n",
       "      <td>일반쇼핑몰</td>\n",
       "      <td>영업중</td>\n",
       "      <td></td>\n",
       "      <td></td>\n",
       "      <td></td>\n",
       "      <td></td>\n",
       "      <td></td>\n",
       "      <td></td>\n",
       "      <td></td>\n",
       "      <td></td>\n",
       "    </tr>\n",
       "    <tr>\n",
       "      <th>1</th>\n",
       "      <td>원더 비지터(wonder visitor)</td>\n",
       "      <td>원더비지터 / wonder visitor</td>\n",
       "      <td>https://http://wondervisitor.com</td>\n",
       "      <td>070-4226-7566</td>\n",
       "      <td>wondervisitor@wondervisitor.com</td>\n",
       "      <td>일반쇼핑몰</td>\n",
       "      <td>영업중</td>\n",
       "      <td></td>\n",
       "      <td></td>\n",
       "      <td></td>\n",
       "      <td></td>\n",
       "      <td></td>\n",
       "      <td></td>\n",
       "      <td></td>\n",
       "      <td></td>\n",
       "    </tr>\n",
       "    <tr>\n",
       "      <th>2</th>\n",
       "      <td>(주)로샤</td>\n",
       "      <td>에어로샤 / AIROSHA</td>\n",
       "      <td>https://airosha.shop</td>\n",
       "      <td>070-7492-6858</td>\n",
       "      <td>web_master@rosha.co.kr</td>\n",
       "      <td>일반쇼핑몰</td>\n",
       "      <td>영업중</td>\n",
       "      <td></td>\n",
       "      <td></td>\n",
       "      <td></td>\n",
       "      <td></td>\n",
       "      <td></td>\n",
       "      <td></td>\n",
       "      <td></td>\n",
       "      <td></td>\n",
       "    </tr>\n",
       "    <tr>\n",
       "      <th>3</th>\n",
       "      <td>(주)삼성아이티브이</td>\n",
       "      <td>samsungitv/삼성아이티브이</td>\n",
       "      <td>https://www.samsungitv.co.kr</td>\n",
       "      <td>02-572-7367~8</td>\n",
       "      <td>imsanghun@naver.com</td>\n",
       "      <td>일반쇼핑몰</td>\n",
       "      <td>영업중</td>\n",
       "      <td></td>\n",
       "      <td></td>\n",
       "      <td></td>\n",
       "      <td></td>\n",
       "      <td></td>\n",
       "      <td></td>\n",
       "      <td></td>\n",
       "      <td></td>\n",
       "    </tr>\n",
       "    <tr>\n",
       "      <th>4</th>\n",
       "      <td>마인드케어클럽(MIND CARE CLUB)</td>\n",
       "      <td>마인드케어클럽 / mindcareclub</td>\n",
       "      <td>https://mindcareclub.mysoho.com</td>\n",
       "      <td>070-8065-2935</td>\n",
       "      <td>key960210@gmail.com</td>\n",
       "      <td>일반쇼핑몰</td>\n",
       "      <td>영업중</td>\n",
       "      <td></td>\n",
       "      <td></td>\n",
       "      <td></td>\n",
       "      <td></td>\n",
       "      <td></td>\n",
       "      <td></td>\n",
       "      <td></td>\n",
       "      <td></td>\n",
       "    </tr>\n",
       "  </tbody>\n",
       "</table>\n",
       "</div>"
      ],
      "text/plain": [
       "                        상호                    쇼핑몰명  \\\n",
       "0                    쇼핑코리아       구례산수유마트 / ssymart   \n",
       "1   원더 비지터(wonder visitor)  원더비지터 / wonder visitor   \n",
       "2                    (주)로샤          에어로샤 / AIROSHA   \n",
       "3               (주)삼성아이티브이      samsungitv/삼성아이티브이   \n",
       "4  마인드케어클럽(MIND CARE CLUB)  마인드케어클럽 / mindcareclub   \n",
       "\n",
       "                               도메인명            전화번호  \\\n",
       "0           https://www.ssymart.com  /0505-200-9090   \n",
       "1  https://http://wondervisitor.com   070-4226-7566   \n",
       "2              https://airosha.shop   070-7492-6858   \n",
       "3      https://www.samsungitv.co.kr   02-572-7367~8   \n",
       "4   https://mindcareclub.mysoho.com   070-8065-2935   \n",
       "\n",
       "                            운영자이메일   영업형태 업소상태 count_list href 매출수 사원수 설립일  \\\n",
       "0                 ixx100@naver.com  일반쇼핑몰  영업중                               \n",
       "1  wondervisitor@wondervisitor.com  일반쇼핑몰  영업중                               \n",
       "2           web_master@rosha.co.kr  일반쇼핑몰  영업중                               \n",
       "3              imsanghun@naver.com  일반쇼핑몰  영업중                               \n",
       "4              key960210@gmail.com  일반쇼핑몰  영업중                               \n",
       "\n",
       "  플랫폼입점여부 사용솔루션 채널톡사용여부  \n",
       "0                        \n",
       "1                        \n",
       "2                        \n",
       "3                        \n",
       "4                        "
      ]
     },
     "execution_count": 5,
     "metadata": {},
     "output_type": "execute_result"
    }
   ],
   "source": [
    "crawler_utils = Utills(raw_data=raw_data_before_processing)\n",
    "raw_data = crawler_utils.add_empty_column(column_ls='count_list href 매출수 사원수 설립일 플랫폼입점여부 사용솔루션 채널톡사용여부'.split())\n",
    "raw_data = crawler_utils.cleaning_url(data=raw_data)\n",
    "raw_data.head()"
   ]
  },
  {
   "cell_type": "code",
   "execution_count": 6,
   "metadata": {},
   "outputs": [
    {
     "data": {
      "text/plain": [
       "(11185, 15)"
      ]
     },
     "execution_count": 6,
     "metadata": {},
     "output_type": "execute_result"
    }
   ],
   "source": [
    "raw_data.shape"
   ]
  },
  {
   "attachments": {},
   "cell_type": "markdown",
   "metadata": {},
   "source": [
    "# Job Korea"
   ]
  },
  {
   "cell_type": "code",
   "execution_count": 7,
   "metadata": {},
   "outputs": [],
   "source": [
    "import time"
   ]
  },
  {
   "cell_type": "code",
   "execution_count": 5,
   "metadata": {},
   "outputs": [
    {
     "name": "stderr",
     "output_type": "stream",
     "text": [
      "11185it [3:18:30,  1.06s/it]\n"
     ]
    }
   ],
   "source": [
    "corp_name_ls = crawler_utils.clear_useless_text('상호')\n",
    "\n",
    "start = time.process_time()\n",
    "for idx, corp_name in tqdm(enumerate(corp_name_ls)):\n",
    "    if idx < 2000:\n",
    "        rs = crawler.search_corporation(corp_name)\n",
    "        raw_data.loc[idx, 'count_list'] = rs[0]\n",
    "        raw_data.loc[idx, 'href'] = rs[1]\n",
    "        \n",
    "        if idx % 500 == 99:\n",
    "            time.sleep(60) \n",
    "\n",
    "    else:\n",
    "        pass\n",
    "\n",
    "raw_data.to_excel(os.path.join(Save_PATH, 'rs_corp1000.xlsx'))\n"
   ]
  },
  {
   "cell_type": "code",
   "execution_count": 6,
   "metadata": {},
   "outputs": [
    {
     "name": "stderr",
     "output_type": "stream",
     "text": [
      "11185it [2:29:34,  1.25it/s]\n"
     ]
    }
   ],
   "source": [
    "corp_name_ls = crawler_utils.clear_useless_text('상호')\n",
    "\n",
    "start = time.process_time()\n",
    "for idx, corp_name in tqdm(enumerate(corp_name_ls)):\n",
    "    if (idx < 4000) and (idx >= 2000):\n",
    "        rs = crawler.search_corporation(corp_name)\n",
    "        raw_data.loc[idx, 'count_list'] = rs[0]\n",
    "        raw_data.loc[idx, 'href'] = rs[1]\n",
    "        \n",
    "        if idx % 500 == 99:\n",
    "            time.sleep(60) \n",
    "\n",
    "    else:\n",
    "        pass\n",
    "\n",
    "raw_data.to_excel(os.path.join(Save_PATH, 'rs_corp4000.xlsx'))\n"
   ]
  },
  {
   "cell_type": "code",
   "execution_count": 7,
   "metadata": {},
   "outputs": [
    {
     "name": "stderr",
     "output_type": "stream",
     "text": [
      "11185it [2:22:12,  1.31it/s]\n"
     ]
    }
   ],
   "source": [
    "corp_name_ls = crawler_utils.clear_useless_text('상호')\n",
    "\n",
    "start = time.process_time()\n",
    "for idx, corp_name in tqdm(enumerate(corp_name_ls)):\n",
    "    if (idx < 6000) and (idx >= 4000):\n",
    "        rs = crawler.search_corporation(corp_name)\n",
    "        raw_data.loc[idx, 'count_list'] = rs[0]\n",
    "        raw_data.loc[idx, 'href'] = rs[1]\n",
    "        \n",
    "        if idx % 500 == 99:\n",
    "            time.sleep(60) \n",
    "\n",
    "    else:\n",
    "        pass\n",
    "\n",
    "raw_data.to_excel(os.path.join(Save_PATH, 'rs_corp6000.xlsx'))"
   ]
  },
  {
   "cell_type": "code",
   "execution_count": 8,
   "metadata": {},
   "outputs": [
    {
     "name": "stderr",
     "output_type": "stream",
     "text": [
      "11185it [2:15:13,  1.38it/s]\n"
     ]
    }
   ],
   "source": [
    "corp_name_ls = crawler_utils.clear_useless_text('상호')\n",
    "\n",
    "start = time.process_time()\n",
    "for idx, corp_name in tqdm(enumerate(corp_name_ls)):\n",
    "    if (idx < 8000) and (idx >= 6000):\n",
    "        rs = crawler.search_corporation(corp_name)\n",
    "        raw_data.loc[idx, 'count_list'] = rs[0]\n",
    "        raw_data.loc[idx, 'href'] = rs[1]\n",
    "        \n",
    "        if idx % 500 == 99:\n",
    "            time.sleep(60) \n",
    "\n",
    "    else:\n",
    "        pass\n",
    "\n",
    "raw_data.to_excel(os.path.join(Save_PATH, 'rs_corp8000.xlsx'))\n"
   ]
  },
  {
   "cell_type": "code",
   "execution_count": 5,
   "metadata": {},
   "outputs": [
    {
     "name": "stderr",
     "output_type": "stream",
     "text": [
      "8001it [00:03, 2263.90it/s]"
     ]
    },
    {
     "name": "stdout",
     "output_type": "stream",
     "text": [
      "개수:  5\n",
      "이 자식:  5\n",
      "개수 변환:  5\n",
      "여기까지1\n",
      "개수:  5\n",
      "이 자식:  5\n",
      "개수 변환:  5\n",
      "여기까지1\n",
      "여기까지2\n",
      "개수:  1\n",
      "이 자식:  1\n",
      "개수 변환:  1\n"
     ]
    },
    {
     "name": "stderr",
     "output_type": "stream",
     "text": [
      "8001it [00:20, 2263.90it/s]"
     ]
    },
    {
     "name": "stdout",
     "output_type": "stream",
     "text": [
      "개수:  1\n",
      "이 자식:  1\n",
      "개수 변환:  1\n",
      "여기까지1\n",
      "여기까지1\n",
      "여기까지1\n",
      "여기까지1\n",
      "여기까지1\n",
      "여기까지1\n",
      "여기까지1\n",
      "여기까지1\n",
      "여기까지1\n",
      "여기까지1\n",
      "여기까지1\n",
      "여기까지1\n",
      "여기까지1\n",
      "여기까지1\n"
     ]
    },
    {
     "name": "stderr",
     "output_type": "stream",
     "text": [
      "8004it [00:21, 273.13it/s] "
     ]
    },
    {
     "name": "stdout",
     "output_type": "stream",
     "text": [
      "여기까지1\n",
      "여기까지1\n"
     ]
    },
    {
     "name": "stderr",
     "output_type": "stream",
     "text": [
      "8005it [00:28, 188.64it/s]"
     ]
    },
    {
     "name": "stdout",
     "output_type": "stream",
     "text": [
      "개수:  2\n",
      "이 자식:  2\n",
      "개수 변환:  2\n",
      "여기까지1\n",
      "여기까지1\n",
      "개수:  2\n",
      "이 자식:  2\n",
      "개수 변환:  2\n",
      "여기까지1\n",
      "여기까지1\n",
      "여기까지1\n",
      "여기까지1\n",
      "여기까지1\n",
      "개수:  0\n",
      "이 자식:  0\n",
      "개수 변환:  0\n"
     ]
    },
    {
     "name": "stderr",
     "output_type": "stream",
     "text": [
      "8007it [00:42, 95.53it/s] "
     ]
    },
    {
     "name": "stdout",
     "output_type": "stream",
     "text": [
      "개수:  1\n",
      "이 자식:  1\n",
      "개수 변환:  1\n"
     ]
    },
    {
     "name": "stderr",
     "output_type": "stream",
     "text": [
      "8008it [00:55, 58.44it/s]"
     ]
    },
    {
     "name": "stdout",
     "output_type": "stream",
     "text": [
      "개수:  1\n",
      "이 자식:  1\n",
      "개수 변환:  1\n"
     ]
    },
    {
     "name": "stderr",
     "output_type": "stream",
     "text": [
      "8009it [01:07, 37.89it/s]"
     ]
    },
    {
     "name": "stdout",
     "output_type": "stream",
     "text": [
      "개수:  0\n",
      "이 자식:  0\n",
      "개수 변환:  0\n"
     ]
    },
    {
     "name": "stderr",
     "output_type": "stream",
     "text": [
      "11185it [01:20, 139.60it/s]\n"
     ]
    }
   ],
   "source": [
    "corp_name_ls = crawler_utils.clear_useless_text('상호')\n",
    "\n",
    "start = time.process_time()\n",
    "for idx, corp_name in tqdm(enumerate(corp_name_ls)):\n",
    "    if (idx < 8010) and (idx >= 8000):\n",
    "        rs = crawler.search_corporation(corp_name)\n",
    "        raw_data.loc[idx, 'count_list'] = rs[0]\n",
    "        raw_data.loc[idx, 'href'] = rs[1]\n",
    "        \n",
    "        if idx % 500 == 99:\n",
    "            time.sleep(60)\n",
    "\n",
    "    else:\n",
    "        pass\n",
    "\n",
    "raw_data.to_excel(os.path.join(Save_PATH, 'rs_corp10000_test.xlsx'))\n"
   ]
  },
  {
   "cell_type": "code",
   "execution_count": 8,
   "metadata": {},
   "outputs": [
    {
     "name": "stderr",
     "output_type": "stream",
     "text": [
      "11185it [6:14:51,  2.01s/it]\n"
     ]
    }
   ],
   "source": [
    "corp_name_ls = crawler_utils.clear_useless_text('상호')\n",
    "\n",
    "start = time.process_time()\n",
    "for idx, corp_name in tqdm(enumerate(corp_name_ls)):\n",
    "    if (idx < 10000) and (idx >= 8000):\n",
    "        rs = crawler.search_corporation(corp_name)\n",
    "        raw_data.loc[idx, 'count_list'] = rs[0]\n",
    "        raw_data.loc[idx, 'href'] = rs[1]\n",
    "        \n",
    "        if idx % 500 == 99:\n",
    "            time.sleep(60) \n",
    "\n",
    "    else:\n",
    "        pass\n",
    "\n",
    "raw_data.to_excel(os.path.join(Save_PATH, 'rs_corp10000.xlsx'))\n"
   ]
  },
  {
   "cell_type": "code",
   "execution_count": 9,
   "metadata": {},
   "outputs": [
    {
     "name": "stderr",
     "output_type": "stream",
     "text": [
      "11185it [4:07:24,  1.33s/it]\n"
     ]
    }
   ],
   "source": [
    "corp_name_ls = crawler_utils.clear_useless_text('상호')\n",
    "\n",
    "start = time.process_time()\n",
    "for idx, corp_name in tqdm(enumerate(corp_name_ls)):\n",
    "    if idx >= 10000:\n",
    "        rs = crawler.search_corporation(corp_name)\n",
    "        raw_data.loc[idx, 'count_list'] = rs[0]\n",
    "        raw_data.loc[idx, 'href'] = rs[1]\n",
    "        \n",
    "        if idx % 500 == 99:\n",
    "            time.sleep(60) \n",
    "\n",
    "    else:\n",
    "        pass\n",
    "\n",
    "raw_data.to_excel(os.path.join(Save_PATH, 'rs_corp12000.xlsx'))\n"
   ]
  },
  {
   "cell_type": "code",
   "execution_count": null,
   "metadata": {},
   "outputs": [],
   "source": []
  }
 ],
 "metadata": {
  "kernelspec": {
   "display_name": "py38",
   "language": "python",
   "name": "python3"
  },
  "language_info": {
   "codemirror_mode": {
    "name": "ipython",
    "version": 3
   },
   "file_extension": ".py",
   "mimetype": "text/x-python",
   "name": "python",
   "nbconvert_exporter": "python",
   "pygments_lexer": "ipython3",
   "version": "3.8.16"
  },
  "orig_nbformat": 4
 },
 "nbformat": 4,
 "nbformat_minor": 2
}
